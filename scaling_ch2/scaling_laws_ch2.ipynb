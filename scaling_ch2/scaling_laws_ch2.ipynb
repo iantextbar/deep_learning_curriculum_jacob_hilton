{
  "nbformat": 4,
  "nbformat_minor": 0,
  "metadata": {
    "colab": {
      "provenance": [],
      "gpuType": "T4"
    },
    "kernelspec": {
      "name": "python3",
      "display_name": "Python 3"
    },
    "language_info": {
      "name": "python"
    },
    "accelerator": "GPU"
  },
  "cells": [
    {
      "cell_type": "markdown",
      "source": [
        "# Chapter 2 - Scaling Laws\n",
        "## Deep Learning Curriculum - Jacob Hilton"
      ],
      "metadata": {
        "id": "AhmrHBGQPX2p"
      }
    },
    {
      "cell_type": "markdown",
      "source": [
        "Perform your own study of scaling laws for MNIST.\n",
        "\n",
        "* Write a script to train a small CNN on MNIST, or find one you have written previously.\n",
        "* Training for a single epoch only, vary the model size and dataset size. For the model size, multiply the width by powers of sqrt(2) (rounding if necessary - the idea is to vary the amount of compute used per forward pass by powers of 2). For the dataset size, multiply the fraction of the full dataset used by powers of 2 (i.e. 1, 1/2, 1/4, ...). To reduce noise, use a few random seeds and always use the full validation set.\n",
        "* The learning rate will need to vary with model size. Either tune it carefully for each model size, or use the rule of thumb that for Adam, the learning rate should be proportional to the initialization scale, i.e. 1/sqrt(fan_in) for the standard Kaiming He initialization (which is what PyTorch generally uses by default).\n",
        "* Plot the amount of compute used (on a log scale) against validation loss. The compute-efficient frontier should follow an approximate power law (straight line on a log scale).\n",
        "* How does validation accuracy behave?\n",
        "* Study how the compute-efficient model size varies with compute. This should also follow an approximate power law. Try to estimate its exponent.\n",
        "* Repeat your entire experiment with 20% dropout to see how this affects the scaling exponents."
      ],
      "metadata": {
        "id": "eOKNHen9U85A"
      }
    },
    {
      "cell_type": "code",
      "execution_count": 1,
      "metadata": {
        "id": "ASV36ycaODhT"
      },
      "outputs": [],
      "source": [
        "import pandas as pd\n",
        "import numpy as np\n",
        "import torch\n",
        "from torchvision import transforms\n",
        "from torchvision.datasets import MNIST\n",
        "from tqdm import tqdm"
      ]
    },
    {
      "cell_type": "code",
      "source": [
        "device = torch.device('cuda') if torch.cuda.is_available() else torch.device('cpu')"
      ],
      "metadata": {
        "id": "0c5MqnFTuDpQ"
      },
      "execution_count": 2,
      "outputs": []
    },
    {
      "cell_type": "code",
      "source": [
        "# transforms data to tensors [0, 255] range then normalizes\n",
        "# the data to [-1, 1] range\n",
        "transform = transforms.Compose([transforms.ToTensor(),\n",
        "                              transforms.Normalize((0.5,), (0.5,)),\n",
        "                              ])"
      ],
      "metadata": {
        "id": "1FE9VDmPP1Wk"
      },
      "execution_count": 3,
      "outputs": []
    },
    {
      "cell_type": "code",
      "source": [
        "train = MNIST('mnist_data_train.csv', download=True, transform=transform)"
      ],
      "metadata": {
        "id": "lNI-dHCwOyec",
        "colab": {
          "base_uri": "https://localhost:8080/"
        },
        "outputId": "bf0ac549-83a2-41b7-bb45-85707798f3e4"
      },
      "execution_count": 4,
      "outputs": [
        {
          "output_type": "stream",
          "name": "stdout",
          "text": [
            "Downloading http://yann.lecun.com/exdb/mnist/train-images-idx3-ubyte.gz\n",
            "Failed to download (trying next):\n",
            "HTTP Error 403: Forbidden\n",
            "\n",
            "Downloading https://ossci-datasets.s3.amazonaws.com/mnist/train-images-idx3-ubyte.gz\n",
            "Downloading https://ossci-datasets.s3.amazonaws.com/mnist/train-images-idx3-ubyte.gz to mnist_data_train.csv/MNIST/raw/train-images-idx3-ubyte.gz\n"
          ]
        },
        {
          "output_type": "stream",
          "name": "stderr",
          "text": [
            "100%|██████████| 9912422/9912422 [00:00<00:00, 15704201.46it/s]\n"
          ]
        },
        {
          "output_type": "stream",
          "name": "stdout",
          "text": [
            "Extracting mnist_data_train.csv/MNIST/raw/train-images-idx3-ubyte.gz to mnist_data_train.csv/MNIST/raw\n",
            "\n",
            "Downloading http://yann.lecun.com/exdb/mnist/train-labels-idx1-ubyte.gz\n",
            "Failed to download (trying next):\n",
            "HTTP Error 403: Forbidden\n",
            "\n",
            "Downloading https://ossci-datasets.s3.amazonaws.com/mnist/train-labels-idx1-ubyte.gz\n",
            "Downloading https://ossci-datasets.s3.amazonaws.com/mnist/train-labels-idx1-ubyte.gz to mnist_data_train.csv/MNIST/raw/train-labels-idx1-ubyte.gz\n"
          ]
        },
        {
          "output_type": "stream",
          "name": "stderr",
          "text": [
            "100%|██████████| 28881/28881 [00:00<00:00, 500668.30it/s]\n"
          ]
        },
        {
          "output_type": "stream",
          "name": "stdout",
          "text": [
            "Extracting mnist_data_train.csv/MNIST/raw/train-labels-idx1-ubyte.gz to mnist_data_train.csv/MNIST/raw\n",
            "\n",
            "Downloading http://yann.lecun.com/exdb/mnist/t10k-images-idx3-ubyte.gz\n",
            "Failed to download (trying next):\n",
            "HTTP Error 403: Forbidden\n",
            "\n",
            "Downloading https://ossci-datasets.s3.amazonaws.com/mnist/t10k-images-idx3-ubyte.gz\n",
            "Downloading https://ossci-datasets.s3.amazonaws.com/mnist/t10k-images-idx3-ubyte.gz to mnist_data_train.csv/MNIST/raw/t10k-images-idx3-ubyte.gz\n"
          ]
        },
        {
          "output_type": "stream",
          "name": "stderr",
          "text": [
            "100%|██████████| 1648877/1648877 [00:00<00:00, 3815186.40it/s]\n"
          ]
        },
        {
          "output_type": "stream",
          "name": "stdout",
          "text": [
            "Extracting mnist_data_train.csv/MNIST/raw/t10k-images-idx3-ubyte.gz to mnist_data_train.csv/MNIST/raw\n",
            "\n",
            "Downloading http://yann.lecun.com/exdb/mnist/t10k-labels-idx1-ubyte.gz\n",
            "Failed to download (trying next):\n",
            "HTTP Error 403: Forbidden\n",
            "\n",
            "Downloading https://ossci-datasets.s3.amazonaws.com/mnist/t10k-labels-idx1-ubyte.gz\n",
            "Downloading https://ossci-datasets.s3.amazonaws.com/mnist/t10k-labels-idx1-ubyte.gz to mnist_data_train.csv/MNIST/raw/t10k-labels-idx1-ubyte.gz\n"
          ]
        },
        {
          "output_type": "stream",
          "name": "stderr",
          "text": [
            "100%|██████████| 4542/4542 [00:00<00:00, 8868961.25it/s]"
          ]
        },
        {
          "output_type": "stream",
          "name": "stdout",
          "text": [
            "Extracting mnist_data_train.csv/MNIST/raw/t10k-labels-idx1-ubyte.gz to mnist_data_train.csv/MNIST/raw\n",
            "\n"
          ]
        },
        {
          "output_type": "stream",
          "name": "stderr",
          "text": [
            "\n"
          ]
        }
      ]
    },
    {
      "cell_type": "code",
      "source": [
        "test = MNIST('mnist_data_test.csv', train=False, download=True, transform=transform)"
      ],
      "metadata": {
        "id": "HQyQkvIHPOkd",
        "colab": {
          "base_uri": "https://localhost:8080/"
        },
        "outputId": "1d3abcba-a1e5-4528-b416-2a2f27113204"
      },
      "execution_count": 5,
      "outputs": [
        {
          "output_type": "stream",
          "name": "stdout",
          "text": [
            "Downloading http://yann.lecun.com/exdb/mnist/train-images-idx3-ubyte.gz\n",
            "Failed to download (trying next):\n",
            "HTTP Error 403: Forbidden\n",
            "\n",
            "Downloading https://ossci-datasets.s3.amazonaws.com/mnist/train-images-idx3-ubyte.gz\n",
            "Downloading https://ossci-datasets.s3.amazonaws.com/mnist/train-images-idx3-ubyte.gz to mnist_data_test.csv/MNIST/raw/train-images-idx3-ubyte.gz\n"
          ]
        },
        {
          "output_type": "stream",
          "name": "stderr",
          "text": [
            "100%|██████████| 9912422/9912422 [00:00<00:00, 16000467.69it/s]\n"
          ]
        },
        {
          "output_type": "stream",
          "name": "stdout",
          "text": [
            "Extracting mnist_data_test.csv/MNIST/raw/train-images-idx3-ubyte.gz to mnist_data_test.csv/MNIST/raw\n",
            "\n",
            "Downloading http://yann.lecun.com/exdb/mnist/train-labels-idx1-ubyte.gz\n",
            "Failed to download (trying next):\n",
            "HTTP Error 403: Forbidden\n",
            "\n",
            "Downloading https://ossci-datasets.s3.amazonaws.com/mnist/train-labels-idx1-ubyte.gz\n",
            "Downloading https://ossci-datasets.s3.amazonaws.com/mnist/train-labels-idx1-ubyte.gz to mnist_data_test.csv/MNIST/raw/train-labels-idx1-ubyte.gz\n"
          ]
        },
        {
          "output_type": "stream",
          "name": "stderr",
          "text": [
            "100%|██████████| 28881/28881 [00:00<00:00, 507699.99it/s]\n"
          ]
        },
        {
          "output_type": "stream",
          "name": "stdout",
          "text": [
            "Extracting mnist_data_test.csv/MNIST/raw/train-labels-idx1-ubyte.gz to mnist_data_test.csv/MNIST/raw\n",
            "\n",
            "Downloading http://yann.lecun.com/exdb/mnist/t10k-images-idx3-ubyte.gz\n",
            "Failed to download (trying next):\n",
            "HTTP Error 403: Forbidden\n",
            "\n",
            "Downloading https://ossci-datasets.s3.amazonaws.com/mnist/t10k-images-idx3-ubyte.gz\n",
            "Downloading https://ossci-datasets.s3.amazonaws.com/mnist/t10k-images-idx3-ubyte.gz to mnist_data_test.csv/MNIST/raw/t10k-images-idx3-ubyte.gz\n"
          ]
        },
        {
          "output_type": "stream",
          "name": "stderr",
          "text": [
            "100%|██████████| 1648877/1648877 [00:00<00:00, 3816988.85it/s]\n"
          ]
        },
        {
          "output_type": "stream",
          "name": "stdout",
          "text": [
            "Extracting mnist_data_test.csv/MNIST/raw/t10k-images-idx3-ubyte.gz to mnist_data_test.csv/MNIST/raw\n",
            "\n",
            "Downloading http://yann.lecun.com/exdb/mnist/t10k-labels-idx1-ubyte.gz\n",
            "Failed to download (trying next):\n",
            "HTTP Error 403: Forbidden\n",
            "\n",
            "Downloading https://ossci-datasets.s3.amazonaws.com/mnist/t10k-labels-idx1-ubyte.gz\n",
            "Downloading https://ossci-datasets.s3.amazonaws.com/mnist/t10k-labels-idx1-ubyte.gz to mnist_data_test.csv/MNIST/raw/t10k-labels-idx1-ubyte.gz\n"
          ]
        },
        {
          "output_type": "stream",
          "name": "stderr",
          "text": [
            "100%|██████████| 4542/4542 [00:00<00:00, 7595904.61it/s]"
          ]
        },
        {
          "output_type": "stream",
          "name": "stdout",
          "text": [
            "Extracting mnist_data_test.csv/MNIST/raw/t10k-labels-idx1-ubyte.gz to mnist_data_test.csv/MNIST/raw\n",
            "\n"
          ]
        },
        {
          "output_type": "stream",
          "name": "stderr",
          "text": [
            "\n"
          ]
        }
      ]
    },
    {
      "cell_type": "code",
      "source": [
        "train[0][0].shape"
      ],
      "metadata": {
        "colab": {
          "base_uri": "https://localhost:8080/"
        },
        "id": "DEaI8ttVOSmn",
        "outputId": "372b3cfe-7f58-441f-ad05-666edf61f3b7"
      },
      "execution_count": 6,
      "outputs": [
        {
          "output_type": "execute_result",
          "data": {
            "text/plain": [
              "torch.Size([1, 28, 28])"
            ]
          },
          "metadata": {},
          "execution_count": 6
        }
      ]
    },
    {
      "cell_type": "code",
      "source": [
        "print('Train Size:', len(train), 'Test Size:', len(test))"
      ],
      "metadata": {
        "colab": {
          "base_uri": "https://localhost:8080/"
        },
        "id": "Ooh7ZotFSN0G",
        "outputId": "0d20e8ac-c851-440f-b61e-49039580e618"
      },
      "execution_count": 7,
      "outputs": [
        {
          "output_type": "stream",
          "name": "stdout",
          "text": [
            "Train Size: 60000 Test Size: 10000\n"
          ]
        }
      ]
    },
    {
      "cell_type": "code",
      "source": [
        "# in order to make it easier to tune the train data size\n",
        "# we will write the following function\n",
        "from torch.utils.data import DataLoader\n",
        "\n",
        "def dataset_size_tune(dataset, power):\n",
        "\n",
        "  assert power % 2 == 0\n",
        "\n",
        "  if power == 0:\n",
        "    p = 1\n",
        "    return DataLoader(dataset, batch_size=64, shuffle=True)\n",
        "  else:\n",
        "    p = 1 / power\n",
        "    np.random.seed(77)\n",
        "    torch.manual_seed(77)\n",
        "    gen = torch.Generator().manual_seed(77)\n",
        "    other, train_d = torch.utils.data.random_split(dataset, [1-p, p], generator=gen)\n",
        "    train_dlr = DataLoader(train_d, batch_size=64, shuffle=True)\n",
        "\n",
        "    return train_dlr"
      ],
      "metadata": {
        "id": "dimWkIziVluU"
      },
      "execution_count": 8,
      "outputs": []
    },
    {
      "cell_type": "code",
      "source": [
        "# creating dataloaders\n",
        "train_dlr_full = dataset_size_tune(train, 0)\n",
        "train_dlr_half = dataset_size_tune(train, 2)\n",
        "train_dlr_quar = dataset_size_tune(train, 4)\n",
        "train_dlr_eigh = dataset_size_tune(train, 8)\n",
        "train_dlr_teen = dataset_size_tune(train, 16)\n",
        "train_dlr_thir = dataset_size_tune(train, 32)\n",
        "test_dlr  = DataLoader(test, batch_size=64, shuffle=True)"
      ],
      "metadata": {
        "id": "WyUJeO7OPlof"
      },
      "execution_count": 9,
      "outputs": []
    },
    {
      "cell_type": "code",
      "source": [
        "img, label = next(iter(train_dlr_full))"
      ],
      "metadata": {
        "id": "juLXjConS4EM"
      },
      "execution_count": 10,
      "outputs": []
    },
    {
      "cell_type": "code",
      "source": [
        "import matplotlib.pyplot as plt\n",
        "plt.imshow(img[0].view(28, 28))\n",
        "plt.show()\n",
        "print(label[0])"
      ],
      "metadata": {
        "colab": {
          "base_uri": "https://localhost:8080/",
          "height": 447
        },
        "id": "gnwAByx_S_Dt",
        "outputId": "115be169-8053-41a5-882e-49b4a8874270"
      },
      "execution_count": 11,
      "outputs": [
        {
          "output_type": "display_data",
          "data": {
            "text/plain": [
              "<Figure size 640x480 with 1 Axes>"
            ],
            "image/png": "[encoded data removed]"
          },
          "metadata": {}
        },
        {
          "output_type": "stream",
          "name": "stdout",
          "text": [
            "tensor(1)\n"
          ]
        }
      ]
    },
    {
      "cell_type": "code",
      "source": [
        "np.unique(label).shape"
      ],
      "metadata": {
        "colab": {
          "base_uri": "https://localhost:8080/"
        },
        "id": "FnGHnh4to4PG",
        "outputId": "dc8bf7dd-4ae4-49d9-9c0a-15e04f6b2b4a"
      },
      "execution_count": 12,
      "outputs": [
        {
          "output_type": "execute_result",
          "data": {
            "text/plain": [
              "(10,)"
            ]
          },
          "metadata": {},
          "execution_count": 12
        }
      ]
    },
    {
      "cell_type": "markdown",
      "source": [
        "## Model"
      ],
      "metadata": {
        "id": "eXnA0d4EXGk5"
      }
    },
    {
      "cell_type": "code",
      "source": [
        "import torch.nn as nn\n",
        "import torch.nn.functional as F\n",
        "from torchsummary import summary\n",
        "import math"
      ],
      "metadata": {
        "id": "iAnv3IagaURK"
      },
      "execution_count": 13,
      "outputs": []
    },
    {
      "cell_type": "code",
      "source": [
        "class Config:\n",
        "\n",
        "  def __init__(self,\n",
        "               ks,\n",
        "               mp,\n",
        "               nchan,\n",
        "               convdepth,\n",
        "               nhid1,\n",
        "               nhid2,\n",
        "               drop):\n",
        "\n",
        "    assert len(ks) == len(nchan) == convdepth\n",
        "\n",
        "    self.ks = ks\n",
        "    self.maxpooling = mp\n",
        "    self.outchans = nchan\n",
        "    initial_chan = [1]\n",
        "    initial_chan.extend(nchan)\n",
        "    initial_chan.remove(nchan[-1])\n",
        "    self.inchans = initial_chan\n",
        "    self.CNNDepth = convdepth\n",
        "    self.hidden1 = nhid1\n",
        "    self.hidden2 = nhid2\n",
        "    self.dropout = drop"
      ],
      "metadata": {
        "id": "6Je_Q1ZATNR6"
      },
      "execution_count": 14,
      "outputs": []
    },
    {
      "cell_type": "code",
      "source": [
        "class MLP(nn.Module):\n",
        "\n",
        "  def __init__(self, cfg):\n",
        "    super(MLP, self).__init__()\n",
        "\n",
        "    self.depth = cfg.CNNDepth\n",
        "    dim = self.divBy2()\n",
        "    self.l1 = nn.Linear(cfg.outchans[-1] * dim * dim, cfg.hidden1)\n",
        "    self.drop1 = nn.Dropout(cfg.dropout)\n",
        "    self.l2 = nn.Linear(cfg.hidden1, cfg.hidden2)\n",
        "    self.drop2 = nn.Dropout(cfg.dropout)\n",
        "    self.l3 = nn.Linear(cfg.hidden2, 10)\n",
        "\n",
        "  def divBy2(self, val=28):\n",
        "\n",
        "    for _ in range(self.depth):\n",
        "\n",
        "      val /= 2\n",
        "      val += 1\n",
        "\n",
        "    return int(math.modf(val)[1])\n",
        "\n",
        "  def forward(self, X):\n",
        "\n",
        "    out = self.drop1(F.relu(self.l1(X)))\n",
        "    out = self.drop2(F.relu(self.l2(out)))\n",
        "    out = self.l3(out)\n",
        "\n",
        "    return out"
      ],
      "metadata": {
        "id": "fhJF95uPaRO_"
      },
      "execution_count": 15,
      "outputs": []
    },
    {
      "cell_type": "code",
      "source": [
        "class Convolution(nn.Module):\n",
        "\n",
        "  def __init__(self, cfg):\n",
        "    super(Convolution, self).__init__()\n",
        "\n",
        "    self.CNNDepth = cfg.CNNDepth\n",
        "    self.layers = nn.ModuleList([nn.Sequential(\n",
        "        nn.Conv2d(cfg.inchans[i], cfg.outchans[i], cfg.ks[i], padding='same'),\n",
        "        nn.ReLU(),\n",
        "        nn.MaxPool2d(cfg.maxpooling, padding=1),\n",
        "        nn.Dropout(cfg.dropout)) for i in range(self.CNNDepth)])\n",
        "\n",
        "  def forward(self, img):\n",
        "\n",
        "    for i, l in enumerate(self.layers):\n",
        "\n",
        "      img = l(img)\n",
        "\n",
        "    return img"
      ],
      "metadata": {
        "id": "YXXUJYdOfgq_"
      },
      "execution_count": 16,
      "outputs": []
    },
    {
      "cell_type": "code",
      "source": [
        "class CNN(nn.Module):\n",
        "\n",
        "  def __init__(self, cfg):\n",
        "    super(CNN, self).__init__()\n",
        "\n",
        "    self.convs = Convolution(cfg)\n",
        "    self.mlp = MLP(cfg)\n",
        "\n",
        "  def forward(self, img):\n",
        "\n",
        "    conv_out = self.convs(img)\n",
        "    out = torch.flatten(conv_out, 1)\n",
        "    out = self.mlp(out)\n",
        "\n",
        "    return out"
      ],
      "metadata": {
        "id": "6LVcCABma0-N"
      },
      "execution_count": 17,
      "outputs": []
    },
    {
      "cell_type": "code",
      "source": [
        "# model 1\n",
        "convdepth1 = 2\n",
        "ks1 = [3, 3]\n",
        "nchan1 = [32, 64]\n",
        "cfg1 = Config(ks=ks1,\n",
        "              mp=2,\n",
        "              nchan=nchan1,\n",
        "              convdepth=convdepth1,\n",
        "              nhid1=128,\n",
        "              nhid2=256,\n",
        "              drop=0)\n",
        "\n",
        "cnn1 = CNN(cfg1).to(device)"
      ],
      "metadata": {
        "id": "Kq4Jvzk6shed"
      },
      "execution_count": 18,
      "outputs": []
    },
    {
      "cell_type": "code",
      "source": [
        "summary(cnn1, (1, 28, 28))"
      ],
      "metadata": {
        "colab": {
          "base_uri": "https://localhost:8080/"
        },
        "id": "uW1n1o0DI7DT",
        "outputId": "5b227fb1-4d64-456a-b2ce-6847dcbb0775"
      },
      "execution_count": 19,
      "outputs": [
        {
          "output_type": "stream",
          "name": "stdout",
          "text": [
            "----------------------------------------------------------------\n",
            "        Layer (type)               Output Shape         Param #\n",
            "================================================================\n",
            "            Conv2d-1           [-1, 32, 28, 28]             320\n",
            "              ReLU-2           [-1, 32, 28, 28]               0\n",
            "         MaxPool2d-3           [-1, 32, 15, 15]               0\n",
            "           Dropout-4           [-1, 32, 15, 15]               0\n",
            "            Conv2d-5           [-1, 64, 15, 15]          18,496\n",
            "              ReLU-6           [-1, 64, 15, 15]               0\n",
            "         MaxPool2d-7             [-1, 64, 8, 8]               0\n",
            "           Dropout-8             [-1, 64, 8, 8]               0\n",
            "       Convolution-9             [-1, 64, 8, 8]               0\n",
            "           Linear-10                  [-1, 128]         524,416\n",
            "          Dropout-11                  [-1, 128]               0\n",
            "           Linear-12                  [-1, 256]          33,024\n",
            "          Dropout-13                  [-1, 256]               0\n",
            "           Linear-14                   [-1, 10]           2,570\n",
            "              MLP-15                   [-1, 10]               0\n",
            "================================================================\n",
            "Total params: 578,826\n",
            "Trainable params: 578,826\n",
            "Non-trainable params: 0\n",
            "----------------------------------------------------------------\n",
            "Input size (MB): 0.00\n",
            "Forward/backward pass size (MB): 0.81\n",
            "Params size (MB): 2.21\n",
            "Estimated Total Size (MB): 3.02\n",
            "----------------------------------------------------------------\n"
          ]
        }
      ]
    },
    {
      "cell_type": "code",
      "source": [
        "# model 2\n",
        "convdepth2 = 3\n",
        "ks2 = [3, 3, 3]\n",
        "nchan2 = [32, 32, 64]\n",
        "cfg2 = Config(ks=ks2,\n",
        "              mp=2,\n",
        "              nchan=nchan2,\n",
        "              convdepth=convdepth2,\n",
        "              nhid1=128,\n",
        "              nhid2=256,\n",
        "              drop=0)\n",
        "\n",
        "cnn2 = CNN(cfg2).to(device)"
      ],
      "metadata": {
        "id": "taTuPj8zCXw1"
      },
      "execution_count": 20,
      "outputs": []
    },
    {
      "cell_type": "code",
      "source": [
        "summary(cnn2, (1, 28, 28))"
      ],
      "metadata": {
        "colab": {
          "base_uri": "https://localhost:8080/"
        },
        "id": "zv0xM5kMJHU7",
        "outputId": "b635110a-59fa-4dcd-f18e-2903b3220fbb"
      },
      "execution_count": 21,
      "outputs": [
        {
          "output_type": "stream",
          "name": "stdout",
          "text": [
            "----------------------------------------------------------------\n",
            "        Layer (type)               Output Shape         Param #\n",
            "================================================================\n",
            "            Conv2d-1           [-1, 32, 28, 28]             320\n",
            "              ReLU-2           [-1, 32, 28, 28]               0\n",
            "         MaxPool2d-3           [-1, 32, 15, 15]               0\n",
            "           Dropout-4           [-1, 32, 15, 15]               0\n",
            "            Conv2d-5           [-1, 32, 15, 15]           9,248\n",
            "              ReLU-6           [-1, 32, 15, 15]               0\n",
            "         MaxPool2d-7             [-1, 32, 8, 8]               0\n",
            "           Dropout-8             [-1, 32, 8, 8]               0\n",
            "            Conv2d-9             [-1, 64, 8, 8]          18,496\n",
            "             ReLU-10             [-1, 64, 8, 8]               0\n",
            "        MaxPool2d-11             [-1, 64, 5, 5]               0\n",
            "          Dropout-12             [-1, 64, 5, 5]               0\n",
            "      Convolution-13             [-1, 64, 5, 5]               0\n",
            "           Linear-14                  [-1, 128]         204,928\n",
            "          Dropout-15                  [-1, 128]               0\n",
            "           Linear-16                  [-1, 256]          33,024\n",
            "          Dropout-17                  [-1, 256]               0\n",
            "           Linear-18                   [-1, 10]           2,570\n",
            "              MLP-19                   [-1, 10]               0\n",
            "================================================================\n",
            "Total params: 268,586\n",
            "Trainable params: 268,586\n",
            "Non-trainable params: 0\n",
            "----------------------------------------------------------------\n",
            "Input size (MB): 0.00\n",
            "Forward/backward pass size (MB): 0.74\n",
            "Params size (MB): 1.02\n",
            "Estimated Total Size (MB): 1.77\n",
            "----------------------------------------------------------------\n"
          ]
        }
      ]
    },
    {
      "cell_type": "code",
      "source": [
        "# model 3\n",
        "convdepth3 = 4\n",
        "ks3 = [3, 3, 3, 3]\n",
        "nchan3 = [32, 32, 64, 128]\n",
        "cfg3 = Config(ks=ks3,\n",
        "              mp=2,\n",
        "              nchan=nchan3,\n",
        "              convdepth=convdepth3,\n",
        "              nhid1=128,\n",
        "              nhid2=256,\n",
        "              drop=0)\n",
        "\n",
        "cnn3 = CNN(cfg3).to(device)"
      ],
      "metadata": {
        "id": "OgyxebLpH5ns"
      },
      "execution_count": 22,
      "outputs": []
    },
    {
      "cell_type": "code",
      "source": [
        "summary(cnn3, (1, 28, 28))"
      ],
      "metadata": {
        "colab": {
          "base_uri": "https://localhost:8080/"
        },
        "id": "xZTW9mCnCqj5",
        "outputId": "1a0deb69-09a9-4540-904c-698dd970123c"
      },
      "execution_count": 23,
      "outputs": [
        {
          "output_type": "stream",
          "name": "stdout",
          "text": [
            "----------------------------------------------------------------\n",
            "        Layer (type)               Output Shape         Param #\n",
            "================================================================\n",
            "            Conv2d-1           [-1, 32, 28, 28]             320\n",
            "              ReLU-2           [-1, 32, 28, 28]               0\n",
            "         MaxPool2d-3           [-1, 32, 15, 15]               0\n",
            "           Dropout-4           [-1, 32, 15, 15]               0\n",
            "            Conv2d-5           [-1, 32, 15, 15]           9,248\n",
            "              ReLU-6           [-1, 32, 15, 15]               0\n",
            "         MaxPool2d-7             [-1, 32, 8, 8]               0\n",
            "           Dropout-8             [-1, 32, 8, 8]               0\n",
            "            Conv2d-9             [-1, 64, 8, 8]          18,496\n",
            "             ReLU-10             [-1, 64, 8, 8]               0\n",
            "        MaxPool2d-11             [-1, 64, 5, 5]               0\n",
            "          Dropout-12             [-1, 64, 5, 5]               0\n",
            "           Conv2d-13            [-1, 128, 5, 5]          73,856\n",
            "             ReLU-14            [-1, 128, 5, 5]               0\n",
            "        MaxPool2d-15            [-1, 128, 3, 3]               0\n",
            "          Dropout-16            [-1, 128, 3, 3]               0\n",
            "      Convolution-17            [-1, 128, 3, 3]               0\n",
            "           Linear-18                  [-1, 128]         147,584\n",
            "          Dropout-19                  [-1, 128]               0\n",
            "           Linear-20                  [-1, 256]          33,024\n",
            "          Dropout-21                  [-1, 256]               0\n",
            "           Linear-22                   [-1, 10]           2,570\n",
            "              MLP-23                   [-1, 10]               0\n",
            "================================================================\n",
            "Total params: 285,098\n",
            "Trainable params: 285,098\n",
            "Non-trainable params: 0\n",
            "----------------------------------------------------------------\n",
            "Input size (MB): 0.00\n",
            "Forward/backward pass size (MB): 0.80\n",
            "Params size (MB): 1.09\n",
            "Estimated Total Size (MB): 1.89\n",
            "----------------------------------------------------------------\n"
          ]
        }
      ]
    },
    {
      "cell_type": "markdown",
      "source": [
        "### Parameter Counting Function"
      ],
      "metadata": {
        "id": "ecPsldgRUmrb"
      }
    },
    {
      "cell_type": "code",
      "source": [
        "def count_parameters(model):\n",
        "    return sum(p.numel() for p in model.parameters() if p.requires_grad)"
      ],
      "metadata": {
        "id": "x9Pm7bKUUlcK"
      },
      "execution_count": 24,
      "outputs": []
    },
    {
      "cell_type": "code",
      "source": [
        "print('CNN1:', count_parameters(cnn1), '\\nCNN2:', count_parameters(cnn2), '\\nCNN3:', count_parameters(cnn3))"
      ],
      "metadata": {
        "colab": {
          "base_uri": "https://localhost:8080/"
        },
        "id": "981pNwxouCOq",
        "outputId": "7666380f-6411-4ae0-8742-c6bfeaeb175e"
      },
      "execution_count": 25,
      "outputs": [
        {
          "output_type": "stream",
          "name": "stdout",
          "text": [
            "CNN1: 578826 \n",
            "CNN2: 268586 \n",
            "CNN3: 285098\n"
          ]
        }
      ]
    },
    {
      "cell_type": "markdown",
      "source": [
        "### Checking Model Forward Pass"
      ],
      "metadata": {
        "id": "ZdrSESSlV2NT"
      }
    },
    {
      "cell_type": "code",
      "source": [
        "img, label = next(iter(train_dlr_full))"
      ],
      "metadata": {
        "id": "TPe1k1r-V4YP"
      },
      "execution_count": 26,
      "outputs": []
    },
    {
      "cell_type": "code",
      "source": [
        "out = cnn1(img.to(device))\n",
        "print(out.argmax(dim=-1))"
      ],
      "metadata": {
        "colab": {
          "base_uri": "https://localhost:8080/"
        },
        "id": "jC_cjRzTWAZz",
        "outputId": "92ee1cca-a434-4be4-8ec1-473aa4b6cb7a"
      },
      "execution_count": 27,
      "outputs": [
        {
          "output_type": "stream",
          "name": "stdout",
          "text": [
            "tensor([8, 8, 8, 8, 8, 8, 8, 8, 8, 8, 8, 8, 8, 8, 8, 8, 8, 8, 8, 8, 8, 8, 8, 8,\n",
            "        8, 8, 8, 8, 8, 8, 8, 8, 8, 8, 8, 8, 8, 8, 8, 8, 8, 8, 8, 8, 8, 8, 8, 8,\n",
            "        8, 8, 8, 8, 8, 8, 8, 8, 8, 8, 8, 8, 8, 8, 8, 8], device='cuda:0')\n"
          ]
        }
      ]
    },
    {
      "cell_type": "code",
      "source": [
        "out = cnn2(img.to(device))\n",
        "print(out.argmax(dim=-1))"
      ],
      "metadata": {
        "colab": {
          "base_uri": "https://localhost:8080/"
        },
        "id": "v3A6Jko-WNKM",
        "outputId": "2ff26cfd-1b47-455b-81ce-80f21fca9257"
      },
      "execution_count": 28,
      "outputs": [
        {
          "output_type": "stream",
          "name": "stdout",
          "text": [
            "tensor([5, 5, 5, 5, 5, 5, 5, 5, 5, 5, 5, 5, 5, 5, 5, 5, 1, 5, 5, 5, 1, 5, 5, 5,\n",
            "        5, 5, 5, 5, 5, 5, 1, 5, 5, 5, 5, 1, 5, 5, 5, 5, 5, 5, 5, 5, 5, 5, 1, 1,\n",
            "        5, 5, 5, 5, 5, 5, 5, 5, 5, 5, 5, 5, 1, 1, 5, 5], device='cuda:0')\n"
          ]
        }
      ]
    },
    {
      "cell_type": "code",
      "source": [
        "out = cnn3(img.to(device))\n",
        "print(out.argmax(dim=-1))"
      ],
      "metadata": {
        "colab": {
          "base_uri": "https://localhost:8080/"
        },
        "id": "yUBHw7MeWPZQ",
        "outputId": "09720a0e-d7db-4781-e73e-e7288952afc2"
      },
      "execution_count": 29,
      "outputs": [
        {
          "output_type": "stream",
          "name": "stdout",
          "text": [
            "tensor([8, 8, 8, 8, 8, 8, 8, 8, 8, 8, 8, 8, 8, 8, 8, 8, 8, 8, 8, 8, 8, 8, 8, 8,\n",
            "        8, 8, 8, 8, 8, 8, 8, 8, 8, 8, 8, 8, 8, 8, 8, 8, 8, 8, 8, 8, 8, 8, 8, 8,\n",
            "        8, 8, 8, 6, 8, 8, 8, 8, 8, 8, 8, 8, 8, 8, 8, 8], device='cuda:0')\n"
          ]
        }
      ]
    },
    {
      "cell_type": "markdown",
      "source": [
        "## Training and Evaluation Functions"
      ],
      "metadata": {
        "id": "P8RaaXE9UTo1"
      }
    },
    {
      "cell_type": "code",
      "source": [
        "from sklearn.metrics import accuracy_score"
      ],
      "metadata": {
        "id": "tjX2jZZfXO9F"
      },
      "execution_count": 30,
      "outputs": []
    },
    {
      "cell_type": "code",
      "source": [
        "def train(m, dlrt, loss, optm):\n",
        "\n",
        "  device = torch.device('cuda') if torch.cuda.is_available() else torch.device('cpu')\n",
        "\n",
        "  m.to(device)\n",
        "  m.train()\n",
        "  train_running_loss = 0\n",
        "  train_bar = tqdm(enumerate(dlrt), total=len(dlrt))\n",
        "  accuracy = 0\n",
        "\n",
        "  for i, (img, label) in train_bar:\n",
        "\n",
        "    img = img.to(device)\n",
        "    label = label.to(device)\n",
        "\n",
        "    # zero the gradient\n",
        "    optm.zero_grad()\n",
        "\n",
        "    # forward\n",
        "    output = m(img)\n",
        "    # get loss\n",
        "    l = loss(output, label)\n",
        "\n",
        "    # backpropagate\n",
        "    l.backward()\n",
        "\n",
        "    # step\n",
        "    optm.step()\n",
        "\n",
        "    # update running loss\n",
        "    train_running_loss += l.cpu().item()\n",
        "    accuracy += accuracy_score(output.argmax(dim=-1).cpu().detach().numpy(), label.cpu().detach().numpy())\n",
        "\n",
        "  print('Finished Batch: ')\n",
        "  epoch_loss = train_running_loss / len(dlrt)\n",
        "  epoch_acc = accuracy / len(dlrt)\n",
        "\n",
        "  print('Training Loss: ', epoch_loss,\n",
        "        'Training Av. Accuracy: ', epoch_acc)\n",
        "\n",
        "  return epoch_loss, epoch_acc"
      ],
      "metadata": {
        "id": "XMcTDMlfv-X5"
      },
      "execution_count": 31,
      "outputs": []
    },
    {
      "cell_type": "code",
      "source": [
        "def evaluate(m, dlrt, loss):\n",
        "\n",
        "    device = torch.device('cuda') if torch.cuda.is_available() else torch.device('cpu')\n",
        "\n",
        "    m.eval()\n",
        "    val_running_loss = 0\n",
        "    test_bar = tqdm(enumerate(dlrt), total=len(dlrt))\n",
        "    accuracy = 0\n",
        "\n",
        "    for i, (img, label) in test_bar:\n",
        "\n",
        "      img = img.to(device)\n",
        "      label = label.to(device)\n",
        "\n",
        "      # forward\n",
        "      output = m(img)\n",
        "\n",
        "      # get loss\n",
        "      l = loss(output, label)\n",
        "\n",
        "      # update running loss\n",
        "      val_running_loss += l.item()\n",
        "      accuracy += accuracy_score(output.argmax(dim=-1).cpu().detach().numpy(), label.cpu().detach().numpy())\n",
        "\n",
        "    valid_loss = val_running_loss / len(dlrt)\n",
        "    valid_acc  = accuracy / len(dlrt)\n",
        "\n",
        "    print('Validation Loss: ', valid_loss,\n",
        "          'Validation Av. Accuracy: ', valid_acc)\n",
        "\n",
        "    return valid_loss, valid_acc"
      ],
      "metadata": {
        "id": "iT8NS193wDCR"
      },
      "execution_count": 32,
      "outputs": []
    },
    {
      "cell_type": "markdown",
      "source": [
        "## Dataset Size Effect"
      ],
      "metadata": {
        "id": "brGdnIvBZzMk"
      }
    },
    {
      "cell_type": "code",
      "source": [
        "import plotly.graph_objects as go\n",
        "import plotly.express as px"
      ],
      "metadata": {
        "id": "TX6G-ZjWoqUf"
      },
      "execution_count": 33,
      "outputs": []
    },
    {
      "cell_type": "code",
      "source": [
        "train_dataloaders = [train_dlr_thir, train_dlr_teen, train_dlr_eigh, train_dlr_quar, train_dlr_half, train_dlr_full]\n",
        "train_dlr_sizes = [len(i.dataset) for i in train_dataloaders]"
      ],
      "metadata": {
        "id": "pjRQcJO6kyGu"
      },
      "execution_count": 34,
      "outputs": []
    },
    {
      "cell_type": "code",
      "source": [
        "test_losses = []\n",
        "test_accuracies = []\n",
        "train_losses_full = []\n",
        "lr = 1e-4\n",
        "max_epochs = 1\n",
        "loss = nn.CrossEntropyLoss()\n",
        "n_reps = 5\n",
        "\n",
        "# run for each dataset size\n",
        "for i, dlr in enumerate(train_dataloaders):\n",
        "  running_test_loss = 0\n",
        "  running_test_acc = 0\n",
        "  for j in range(n_reps):\n",
        "    # create model and instantiate optimizer\n",
        "    cnn = CNN(cfg1)\n",
        "    optm = torch.optim.Adam(cnn.parameters(), lr=lr)\n",
        "    train_losses = []\n",
        "    print(f'########### START DLR {i} REP {j} ###########')\n",
        "    for e in range(max_epochs):\n",
        "      train_loss, train_acc = train(cnn, dlr, loss, optm)\n",
        "      train_losses.append(train_loss)\n",
        "    print('EVALUATING')\n",
        "    test_loss, test_acc = evaluate(cnn, test_dlr, loss)\n",
        "    running_test_loss += test_loss\n",
        "    running_test_acc += test_acc\n",
        "    train_losses_full.append(train_losses)\n",
        "    print(f'############ END DLR {i} REP {j} ############')\n",
        "    print('\\n')\n",
        "  test_losses.append(running_test_loss/n_reps)\n",
        "  test_accuracies.append(running_test_acc/n_reps)"
      ],
      "metadata": {
        "colab": {
          "base_uri": "https://localhost:8080/"
        },
        "id": "2IP9CuvJJe_F",
        "outputId": "06454a69-728f-41ea-a100-99dd399df0f8"
      },
      "execution_count": 35,
      "outputs": [
        {
          "output_type": "stream",
          "name": "stdout",
          "text": [
            "########### START DLR 0 REP 0 ###########\n"
          ]
        },
        {
          "output_type": "stream",
          "name": "stderr",
          "text": [
            "100%|██████████| 30/30 [00:01<00:00, 21.08it/s]\n"
          ]
        },
        {
          "output_type": "stream",
          "name": "stdout",
          "text": [
            "Finished Batch: \n",
            "Training Loss:  2.2757464090983075 Training Av. Accuracy:  0.1868969298245614\n",
            "EVALUATING\n"
          ]
        },
        {
          "output_type": "stream",
          "name": "stderr",
          "text": [
            "100%|██████████| 157/157 [00:02<00:00, 64.24it/s]\n"
          ]
        },
        {
          "output_type": "stream",
          "name": "stdout",
          "text": [
            "Validation Loss:  2.2383904639323045 Validation Av. Accuracy:  0.24213773885350318\n",
            "############ END DLR 0 REP 0 ############\n",
            "\n",
            "\n",
            "########### START DLR 0 REP 1 ###########\n"
          ]
        },
        {
          "output_type": "stream",
          "name": "stderr",
          "text": [
            "100%|██████████| 30/30 [00:00<00:00, 55.08it/s]\n"
          ]
        },
        {
          "output_type": "stream",
          "name": "stdout",
          "text": [
            "Finished Batch: \n",
            "Training Loss:  2.2726931015650433 Training Av. Accuracy:  0.2611019736842105\n",
            "EVALUATING\n"
          ]
        },
        {
          "output_type": "stream",
          "name": "stderr",
          "text": [
            "100%|██████████| 157/157 [00:02<00:00, 65.67it/s]\n"
          ]
        },
        {
          "output_type": "stream",
          "name": "stdout",
          "text": [
            "Validation Loss:  2.2207729224186794 Validation Av. Accuracy:  0.4876592356687898\n",
            "############ END DLR 0 REP 1 ############\n",
            "\n",
            "\n",
            "########### START DLR 0 REP 2 ###########\n"
          ]
        },
        {
          "output_type": "stream",
          "name": "stderr",
          "text": [
            "100%|██████████| 30/30 [00:00<00:00, 56.06it/s]\n"
          ]
        },
        {
          "output_type": "stream",
          "name": "stdout",
          "text": [
            "Finished Batch: \n",
            "Training Loss:  2.265126411120097 Training Av. Accuracy:  0.23878837719298246\n",
            "EVALUATING\n"
          ]
        },
        {
          "output_type": "stream",
          "name": "stderr",
          "text": [
            "100%|██████████| 157/157 [00:02<00:00, 65.38it/s]\n"
          ]
        },
        {
          "output_type": "stream",
          "name": "stdout",
          "text": [
            "Validation Loss:  2.1965538544260013 Validation Av. Accuracy:  0.40863853503184716\n",
            "############ END DLR 0 REP 2 ############\n",
            "\n",
            "\n",
            "########### START DLR 0 REP 3 ###########\n"
          ]
        },
        {
          "output_type": "stream",
          "name": "stderr",
          "text": [
            "100%|██████████| 30/30 [00:00<00:00, 54.73it/s]\n"
          ]
        },
        {
          "output_type": "stream",
          "name": "stdout",
          "text": [
            "Finished Batch: \n",
            "Training Loss:  2.2719930013020835 Training Av. Accuracy:  0.18930921052631577\n",
            "EVALUATING\n"
          ]
        },
        {
          "output_type": "stream",
          "name": "stderr",
          "text": [
            "100%|██████████| 157/157 [00:03<00:00, 48.15it/s]\n"
          ]
        },
        {
          "output_type": "stream",
          "name": "stdout",
          "text": [
            "Validation Loss:  2.2234337208377326 Validation Av. Accuracy:  0.2778662420382166\n",
            "############ END DLR 0 REP 3 ############\n",
            "\n",
            "\n",
            "########### START DLR 0 REP 4 ###########\n"
          ]
        },
        {
          "output_type": "stream",
          "name": "stderr",
          "text": [
            "100%|██████████| 30/30 [00:00<00:00, 54.09it/s]\n"
          ]
        },
        {
          "output_type": "stream",
          "name": "stdout",
          "text": [
            "Finished Batch: \n",
            "Training Loss:  2.272481989860535 Training Av. Accuracy:  0.23325109649122808\n",
            "EVALUATING\n"
          ]
        },
        {
          "output_type": "stream",
          "name": "stderr",
          "text": [
            "100%|██████████| 157/157 [00:02<00:00, 65.75it/s]\n"
          ]
        },
        {
          "output_type": "stream",
          "name": "stdout",
          "text": [
            "Validation Loss:  2.2235924984998765 Validation Av. Accuracy:  0.31329617834394907\n",
            "############ END DLR 0 REP 4 ############\n",
            "\n",
            "\n",
            "########### START DLR 1 REP 0 ###########\n"
          ]
        },
        {
          "output_type": "stream",
          "name": "stderr",
          "text": [
            "100%|██████████| 59/59 [00:01<00:00, 52.76it/s]\n"
          ]
        },
        {
          "output_type": "stream",
          "name": "stdout",
          "text": [
            "Finished Batch: \n",
            "Training Loss:  2.1992133734589916 Training Av. Accuracy:  0.2879683318465656\n",
            "EVALUATING\n"
          ]
        },
        {
          "output_type": "stream",
          "name": "stderr",
          "text": [
            "100%|██████████| 157/157 [00:02<00:00, 64.61it/s]\n"
          ]
        },
        {
          "output_type": "stream",
          "name": "stdout",
          "text": [
            "Validation Loss:  1.9740044630257187 Validation Av. Accuracy:  0.5022890127388535\n",
            "############ END DLR 1 REP 0 ############\n",
            "\n",
            "\n",
            "########### START DLR 1 REP 1 ###########\n"
          ]
        },
        {
          "output_type": "stream",
          "name": "stderr",
          "text": [
            "100%|██████████| 59/59 [00:01<00:00, 52.20it/s]\n"
          ]
        },
        {
          "output_type": "stream",
          "name": "stdout",
          "text": [
            "Finished Batch: \n",
            "Training Loss:  2.1875801106630743 Training Av. Accuracy:  0.35883140053523643\n",
            "EVALUATING\n"
          ]
        },
        {
          "output_type": "stream",
          "name": "stderr",
          "text": [
            "100%|██████████| 157/157 [00:02<00:00, 61.95it/s]\n"
          ]
        },
        {
          "output_type": "stream",
          "name": "stdout",
          "text": [
            "Validation Loss:  1.9321882800691446 Validation Av. Accuracy:  0.47900079617834396\n",
            "############ END DLR 1 REP 1 ############\n",
            "\n",
            "\n",
            "########### START DLR 1 REP 2 ###########\n"
          ]
        },
        {
          "output_type": "stream",
          "name": "stderr",
          "text": [
            "100%|██████████| 59/59 [00:01<00:00, 39.47it/s]\n"
          ]
        },
        {
          "output_type": "stream",
          "name": "stdout",
          "text": [
            "Finished Batch: \n",
            "Training Loss:  2.2070994296316373 Training Av. Accuracy:  0.3045550847457627\n",
            "EVALUATING\n"
          ]
        },
        {
          "output_type": "stream",
          "name": "stderr",
          "text": [
            "100%|██████████| 157/157 [00:02<00:00, 61.78it/s]\n"
          ]
        },
        {
          "output_type": "stream",
          "name": "stdout",
          "text": [
            "Validation Loss:  1.9914849670069992 Validation Av. Accuracy:  0.5423964968152867\n",
            "############ END DLR 1 REP 2 ############\n",
            "\n",
            "\n",
            "########### START DLR 1 REP 3 ###########\n"
          ]
        },
        {
          "output_type": "stream",
          "name": "stderr",
          "text": [
            "100%|██████████| 59/59 [00:01<00:00, 55.03it/s]\n"
          ]
        },
        {
          "output_type": "stream",
          "name": "stdout",
          "text": [
            "Finished Batch: \n",
            "Training Loss:  2.2223487385248735 Training Av. Accuracy:  0.28629571810883137\n",
            "EVALUATING\n"
          ]
        },
        {
          "output_type": "stream",
          "name": "stderr",
          "text": [
            "100%|██████████| 157/157 [00:02<00:00, 68.13it/s]\n"
          ]
        },
        {
          "output_type": "stream",
          "name": "stdout",
          "text": [
            "Validation Loss:  2.023279654751917 Validation Av. Accuracy:  0.5698646496815286\n",
            "############ END DLR 1 REP 3 ############\n",
            "\n",
            "\n",
            "########### START DLR 1 REP 4 ###########\n"
          ]
        },
        {
          "output_type": "stream",
          "name": "stderr",
          "text": [
            "100%|██████████| 59/59 [00:01<00:00, 56.70it/s]\n"
          ]
        },
        {
          "output_type": "stream",
          "name": "stdout",
          "text": [
            "Finished Batch: \n",
            "Training Loss:  2.1729888168431946 Training Av. Accuracy:  0.367250223015165\n",
            "EVALUATING\n"
          ]
        },
        {
          "output_type": "stream",
          "name": "stderr",
          "text": [
            "100%|██████████| 157/157 [00:02<00:00, 66.03it/s]\n"
          ]
        },
        {
          "output_type": "stream",
          "name": "stdout",
          "text": [
            "Validation Loss:  1.8845656639451434 Validation Av. Accuracy:  0.5759355095541401\n",
            "############ END DLR 1 REP 4 ############\n",
            "\n",
            "\n",
            "########### START DLR 2 REP 0 ###########\n"
          ]
        },
        {
          "output_type": "stream",
          "name": "stderr",
          "text": [
            "100%|██████████| 118/118 [00:02<00:00, 46.63it/s]\n"
          ]
        },
        {
          "output_type": "stream",
          "name": "stdout",
          "text": [
            "Finished Batch: \n",
            "Training Loss:  1.7228373976077063 Training Av. Accuracy:  0.5692973163841808\n",
            "EVALUATING\n"
          ]
        },
        {
          "output_type": "stream",
          "name": "stderr",
          "text": [
            "100%|██████████| 157/157 [00:02<00:00, 54.84it/s]\n"
          ]
        },
        {
          "output_type": "stream",
          "name": "stdout",
          "text": [
            "Validation Loss:  0.8229797490083488 Validation Av. Accuracy:  0.7756767515923567\n",
            "############ END DLR 2 REP 0 ############\n",
            "\n",
            "\n",
            "########### START DLR 2 REP 1 ###########\n"
          ]
        },
        {
          "output_type": "stream",
          "name": "stderr",
          "text": [
            "100%|██████████| 118/118 [00:02<00:00, 55.33it/s]\n"
          ]
        },
        {
          "output_type": "stream",
          "name": "stdout",
          "text": [
            "Finished Batch: \n",
            "Training Loss:  1.8203646853818731 Training Av. Accuracy:  0.5217161016949152\n",
            "EVALUATING\n"
          ]
        },
        {
          "output_type": "stream",
          "name": "stderr",
          "text": [
            "100%|██████████| 157/157 [00:02<00:00, 68.32it/s]\n"
          ]
        },
        {
          "output_type": "stream",
          "name": "stdout",
          "text": [
            "Validation Loss:  0.9306637621988916 Validation Av. Accuracy:  0.7531847133757962\n",
            "############ END DLR 2 REP 1 ############\n",
            "\n",
            "\n",
            "########### START DLR 2 REP 2 ###########\n"
          ]
        },
        {
          "output_type": "stream",
          "name": "stderr",
          "text": [
            "100%|██████████| 118/118 [00:02<00:00, 54.39it/s]\n"
          ]
        },
        {
          "output_type": "stream",
          "name": "stdout",
          "text": [
            "Finished Batch: \n",
            "Training Loss:  1.8604314362598677 Training Av. Accuracy:  0.5297934322033898\n",
            "EVALUATING\n"
          ]
        },
        {
          "output_type": "stream",
          "name": "stderr",
          "text": [
            "100%|██████████| 157/157 [00:02<00:00, 59.23it/s]\n"
          ]
        },
        {
          "output_type": "stream",
          "name": "stdout",
          "text": [
            "Validation Loss:  0.967626878410388 Validation Av. Accuracy:  0.7977707006369427\n",
            "############ END DLR 2 REP 2 ############\n",
            "\n",
            "\n",
            "########### START DLR 2 REP 3 ###########\n"
          ]
        },
        {
          "output_type": "stream",
          "name": "stderr",
          "text": [
            "100%|██████████| 118/118 [00:02<00:00, 43.58it/s]\n"
          ]
        },
        {
          "output_type": "stream",
          "name": "stdout",
          "text": [
            "Finished Batch: \n",
            "Training Loss:  1.794114155284429 Training Av. Accuracy:  0.5291754943502825\n",
            "EVALUATING\n"
          ]
        },
        {
          "output_type": "stream",
          "name": "stderr",
          "text": [
            "100%|██████████| 157/157 [00:02<00:00, 65.63it/s]\n"
          ]
        },
        {
          "output_type": "stream",
          "name": "stdout",
          "text": [
            "Validation Loss:  0.8870290145752536 Validation Av. Accuracy:  0.7734872611464968\n",
            "############ END DLR 2 REP 3 ############\n",
            "\n",
            "\n",
            "########### START DLR 2 REP 4 ###########\n"
          ]
        },
        {
          "output_type": "stream",
          "name": "stderr",
          "text": [
            "100%|██████████| 118/118 [00:02<00:00, 55.10it/s]\n"
          ]
        },
        {
          "output_type": "stream",
          "name": "stdout",
          "text": [
            "Finished Batch: \n",
            "Training Loss:  1.8262882667072748 Training Av. Accuracy:  0.46746998587570626\n",
            "EVALUATING\n"
          ]
        },
        {
          "output_type": "stream",
          "name": "stderr",
          "text": [
            "100%|██████████| 157/157 [00:02<00:00, 65.96it/s]\n"
          ]
        },
        {
          "output_type": "stream",
          "name": "stdout",
          "text": [
            "Validation Loss:  1.0042580597719568 Validation Av. Accuracy:  0.7628383757961783\n",
            "############ END DLR 2 REP 4 ############\n",
            "\n",
            "\n",
            "########### START DLR 3 REP 0 ###########\n"
          ]
        },
        {
          "output_type": "stream",
          "name": "stderr",
          "text": [
            "100%|██████████| 235/235 [00:05<00:00, 45.75it/s]\n"
          ]
        },
        {
          "output_type": "stream",
          "name": "stdout",
          "text": [
            "Finished Batch: \n",
            "Training Loss:  1.2431323572676232 Training Av. Accuracy:  0.6504654255319149\n",
            "EVALUATING\n"
          ]
        },
        {
          "output_type": "stream",
          "name": "stderr",
          "text": [
            "100%|██████████| 157/157 [00:02<00:00, 67.84it/s]\n"
          ]
        },
        {
          "output_type": "stream",
          "name": "stdout",
          "text": [
            "Validation Loss:  0.4424756459749428 Validation Av. Accuracy:  0.8783837579617835\n",
            "############ END DLR 3 REP 0 ############\n",
            "\n",
            "\n",
            "########### START DLR 3 REP 1 ###########\n"
          ]
        },
        {
          "output_type": "stream",
          "name": "stderr",
          "text": [
            "100%|██████████| 235/235 [00:04<00:00, 55.11it/s]\n"
          ]
        },
        {
          "output_type": "stream",
          "name": "stdout",
          "text": [
            "Finished Batch: \n",
            "Training Loss:  1.1937314843877833 Training Av. Accuracy:  0.6925531914893617\n",
            "EVALUATING\n"
          ]
        },
        {
          "output_type": "stream",
          "name": "stderr",
          "text": [
            "100%|██████████| 157/157 [00:03<00:00, 47.22it/s]\n"
          ]
        },
        {
          "output_type": "stream",
          "name": "stdout",
          "text": [
            "Validation Loss:  0.4238021756243554 Validation Av. Accuracy:  0.880672770700637\n",
            "############ END DLR 3 REP 1 ############\n",
            "\n",
            "\n",
            "########### START DLR 3 REP 2 ###########\n"
          ]
        },
        {
          "output_type": "stream",
          "name": "stderr",
          "text": [
            "100%|██████████| 235/235 [00:05<00:00, 40.98it/s]\n"
          ]
        },
        {
          "output_type": "stream",
          "name": "stdout",
          "text": [
            "Finished Batch: \n",
            "Training Loss:  1.161686788594469 Training Av. Accuracy:  0.6939716312056738\n",
            "EVALUATING\n"
          ]
        },
        {
          "output_type": "stream",
          "name": "stderr",
          "text": [
            "100%|██████████| 157/157 [00:02<00:00, 66.42it/s]\n"
          ]
        },
        {
          "output_type": "stream",
          "name": "stdout",
          "text": [
            "Validation Loss:  0.3870816072271128 Validation Av. Accuracy:  0.8976910828025477\n",
            "############ END DLR 3 REP 2 ############\n",
            "\n",
            "\n",
            "########### START DLR 3 REP 3 ###########\n"
          ]
        },
        {
          "output_type": "stream",
          "name": "stderr",
          "text": [
            "100%|██████████| 235/235 [00:04<00:00, 55.88it/s]\n"
          ]
        },
        {
          "output_type": "stream",
          "name": "stdout",
          "text": [
            "Finished Batch: \n",
            "Training Loss:  1.2426465800467958 Training Av. Accuracy:  0.643218085106383\n",
            "EVALUATING\n"
          ]
        },
        {
          "output_type": "stream",
          "name": "stderr",
          "text": [
            "100%|██████████| 157/157 [00:03<00:00, 49.72it/s]\n"
          ]
        },
        {
          "output_type": "stream",
          "name": "stdout",
          "text": [
            "Validation Loss:  0.4560529212852952 Validation Av. Accuracy:  0.8695262738853503\n",
            "############ END DLR 3 REP 3 ############\n",
            "\n",
            "\n",
            "########### START DLR 3 REP 4 ###########\n"
          ]
        },
        {
          "output_type": "stream",
          "name": "stderr",
          "text": [
            "100%|██████████| 235/235 [00:04<00:00, 54.79it/s]\n"
          ]
        },
        {
          "output_type": "stream",
          "name": "stdout",
          "text": [
            "Finished Batch: \n",
            "Training Loss:  1.2049358840952529 Training Av. Accuracy:  0.6549867021276595\n",
            "EVALUATING\n"
          ]
        },
        {
          "output_type": "stream",
          "name": "stderr",
          "text": [
            "100%|██████████| 157/157 [00:02<00:00, 66.94it/s]\n"
          ]
        },
        {
          "output_type": "stream",
          "name": "stdout",
          "text": [
            "Validation Loss:  0.42765723652900406 Validation Av. Accuracy:  0.8830613057324841\n",
            "############ END DLR 3 REP 4 ############\n",
            "\n",
            "\n",
            "########### START DLR 4 REP 0 ###########\n"
          ]
        },
        {
          "output_type": "stream",
          "name": "stderr",
          "text": [
            "100%|██████████| 469/469 [00:09<00:00, 50.56it/s]\n"
          ]
        },
        {
          "output_type": "stream",
          "name": "stdout",
          "text": [
            "Finished Batch: \n",
            "Training Loss:  0.7953579775623675 Training Av. Accuracy:  0.7834377221037669\n",
            "EVALUATING\n"
          ]
        },
        {
          "output_type": "stream",
          "name": "stderr",
          "text": [
            "100%|██████████| 157/157 [00:02<00:00, 66.88it/s]\n"
          ]
        },
        {
          "output_type": "stream",
          "name": "stdout",
          "text": [
            "Validation Loss:  0.28803988930526053 Validation Av. Accuracy:  0.9164012738853503\n",
            "############ END DLR 4 REP 0 ############\n",
            "\n",
            "\n",
            "########### START DLR 4 REP 1 ###########\n"
          ]
        },
        {
          "output_type": "stream",
          "name": "stderr",
          "text": [
            "100%|██████████| 469/469 [00:09<00:00, 50.10it/s]\n"
          ]
        },
        {
          "output_type": "stream",
          "name": "stdout",
          "text": [
            "Finished Batch: \n",
            "Training Loss:  0.8154829102856264 Training Av. Accuracy:  0.7885683191186923\n",
            "EVALUATING\n"
          ]
        },
        {
          "output_type": "stream",
          "name": "stderr",
          "text": [
            "100%|██████████| 157/157 [00:02<00:00, 64.43it/s]\n"
          ]
        },
        {
          "output_type": "stream",
          "name": "stdout",
          "text": [
            "Validation Loss:  0.28052964517075546 Validation Av. Accuracy:  0.9173964968152867\n",
            "############ END DLR 4 REP 1 ############\n",
            "\n",
            "\n",
            "########### START DLR 4 REP 2 ###########\n"
          ]
        },
        {
          "output_type": "stream",
          "name": "stderr",
          "text": [
            "100%|██████████| 469/469 [00:09<00:00, 49.78it/s]\n"
          ]
        },
        {
          "output_type": "stream",
          "name": "stdout",
          "text": [
            "Finished Batch: \n",
            "Training Loss:  0.851338768437473 Training Av. Accuracy:  0.7604055614783226\n",
            "EVALUATING\n"
          ]
        },
        {
          "output_type": "stream",
          "name": "stderr",
          "text": [
            "100%|██████████| 157/157 [00:02<00:00, 67.51it/s]\n"
          ]
        },
        {
          "output_type": "stream",
          "name": "stdout",
          "text": [
            "Validation Loss:  0.297174322756992 Validation Av. Accuracy:  0.9161027070063694\n",
            "############ END DLR 4 REP 2 ############\n",
            "\n",
            "\n",
            "########### START DLR 4 REP 3 ###########\n"
          ]
        },
        {
          "output_type": "stream",
          "name": "stderr",
          "text": [
            "100%|██████████| 469/469 [00:09<00:00, 50.26it/s]\n"
          ]
        },
        {
          "output_type": "stream",
          "name": "stdout",
          "text": [
            "Finished Batch: \n",
            "Training Loss:  0.7671248485157485 Training Av. Accuracy:  0.7904117803837953\n",
            "EVALUATING\n"
          ]
        },
        {
          "output_type": "stream",
          "name": "stderr",
          "text": [
            "100%|██████████| 157/157 [00:02<00:00, 67.14it/s]\n"
          ]
        },
        {
          "output_type": "stream",
          "name": "stdout",
          "text": [
            "Validation Loss:  0.27604979941040086 Validation Av. Accuracy:  0.9188893312101911\n",
            "############ END DLR 4 REP 3 ############\n",
            "\n",
            "\n",
            "########### START DLR 4 REP 4 ###########\n"
          ]
        },
        {
          "output_type": "stream",
          "name": "stderr",
          "text": [
            "100%|██████████| 469/469 [00:08<00:00, 52.80it/s]\n"
          ]
        },
        {
          "output_type": "stream",
          "name": "stdout",
          "text": [
            "Finished Batch: \n",
            "Training Loss:  0.7553447968542957 Training Av. Accuracy:  0.8052149964463396\n",
            "EVALUATING\n"
          ]
        },
        {
          "output_type": "stream",
          "name": "stderr",
          "text": [
            "100%|██████████| 157/157 [00:02<00:00, 55.74it/s]\n"
          ]
        },
        {
          "output_type": "stream",
          "name": "stdout",
          "text": [
            "Validation Loss:  0.25876611732183746 Validation Av. Accuracy:  0.923765923566879\n",
            "############ END DLR 4 REP 4 ############\n",
            "\n",
            "\n",
            "########### START DLR 5 REP 0 ###########\n"
          ]
        },
        {
          "output_type": "stream",
          "name": "stderr",
          "text": [
            "100%|██████████| 938/938 [00:17<00:00, 53.39it/s]\n"
          ]
        },
        {
          "output_type": "stream",
          "name": "stdout",
          "text": [
            "Finished Batch: \n",
            "Training Loss:  0.45199243995601307 Training Av. Accuracy:  0.8777818496801706\n",
            "EVALUATING\n"
          ]
        },
        {
          "output_type": "stream",
          "name": "stderr",
          "text": [
            "100%|██████████| 157/157 [00:02<00:00, 66.55it/s]\n"
          ]
        },
        {
          "output_type": "stream",
          "name": "stdout",
          "text": [
            "Validation Loss:  0.1380880301592836 Validation Av. Accuracy:  0.956906847133758\n",
            "############ END DLR 5 REP 0 ############\n",
            "\n",
            "\n",
            "########### START DLR 5 REP 1 ###########\n"
          ]
        },
        {
          "output_type": "stream",
          "name": "stderr",
          "text": [
            "100%|██████████| 938/938 [00:18<00:00, 50.80it/s]\n"
          ]
        },
        {
          "output_type": "stream",
          "name": "stdout",
          "text": [
            "Finished Batch: \n",
            "Training Loss:  0.4946807243628924 Training Av. Accuracy:  0.8657216151385928\n",
            "EVALUATING\n"
          ]
        },
        {
          "output_type": "stream",
          "name": "stderr",
          "text": [
            "100%|██████████| 157/157 [00:02<00:00, 66.27it/s]\n"
          ]
        },
        {
          "output_type": "stream",
          "name": "stdout",
          "text": [
            "Validation Loss:  0.15257740514293597 Validation Av. Accuracy:  0.9541202229299363\n",
            "############ END DLR 5 REP 1 ############\n",
            "\n",
            "\n",
            "########### START DLR 5 REP 2 ###########\n"
          ]
        },
        {
          "output_type": "stream",
          "name": "stderr",
          "text": [
            "100%|██████████| 938/938 [00:24<00:00, 38.96it/s]\n"
          ]
        },
        {
          "output_type": "stream",
          "name": "stdout",
          "text": [
            "Finished Batch: \n",
            "Training Loss:  0.49565402248393753 Training Av. Accuracy:  0.8619902718550106\n",
            "EVALUATING\n"
          ]
        },
        {
          "output_type": "stream",
          "name": "stderr",
          "text": [
            "100%|██████████| 157/157 [00:02<00:00, 68.44it/s]\n"
          ]
        },
        {
          "output_type": "stream",
          "name": "stdout",
          "text": [
            "Validation Loss:  0.15134021058488803 Validation Av. Accuracy:  0.955015923566879\n",
            "############ END DLR 5 REP 2 ############\n",
            "\n",
            "\n",
            "########### START DLR 5 REP 3 ###########\n"
          ]
        },
        {
          "output_type": "stream",
          "name": "stderr",
          "text": [
            "100%|██████████| 938/938 [00:17<00:00, 52.42it/s]\n"
          ]
        },
        {
          "output_type": "stream",
          "name": "stdout",
          "text": [
            "Finished Batch: \n",
            "Training Loss:  0.5043263621072271 Training Av. Accuracy:  0.8587919776119403\n",
            "EVALUATING\n"
          ]
        },
        {
          "output_type": "stream",
          "name": "stderr",
          "text": [
            "100%|██████████| 157/157 [00:03<00:00, 46.71it/s]\n"
          ]
        },
        {
          "output_type": "stream",
          "name": "stdout",
          "text": [
            "Validation Loss:  0.1533570042840994 Validation Av. Accuracy:  0.95421974522293\n",
            "############ END DLR 5 REP 3 ############\n",
            "\n",
            "\n",
            "########### START DLR 5 REP 4 ###########\n"
          ]
        },
        {
          "output_type": "stream",
          "name": "stderr",
          "text": [
            "100%|██████████| 938/938 [00:17<00:00, 52.94it/s]\n"
          ]
        },
        {
          "output_type": "stream",
          "name": "stdout",
          "text": [
            "Finished Batch: \n",
            "Training Loss:  0.5298234012398892 Training Av. Accuracy:  0.8442830490405118\n",
            "EVALUATING\n"
          ]
        },
        {
          "output_type": "stream",
          "name": "stderr",
          "text": [
            "100%|██████████| 157/157 [00:02<00:00, 65.90it/s]"
          ]
        },
        {
          "output_type": "stream",
          "name": "stdout",
          "text": [
            "Validation Loss:  0.17970264408808606 Validation Av. Accuracy:  0.948546974522293\n",
            "############ END DLR 5 REP 4 ############\n",
            "\n",
            "\n"
          ]
        },
        {
          "output_type": "stream",
          "name": "stderr",
          "text": [
            "\n"
          ]
        }
      ]
    },
    {
      "cell_type": "code",
      "source": [
        "fig = go.Figure()\n",
        "fig.add_trace(go.Scatter(x=train_dlr_sizes, y=test_losses, name='Test Loss'))\n",
        "fig.add_trace(go.Scatter(x=train_dlr_sizes, y=test_accuracies, name='Test Accuracy'))\n",
        "fig.update_layout(title='Dataset Size Effect on Test Loss',\n",
        "                  yaxis_title='Loss',\n",
        "                  xaxis_title='Size')\n",
        "fig.show()"
      ],
      "metadata": {
        "colab": {
          "base_uri": "https://localhost:8080/",
          "height": 542
        },
        "id": "ofIA19WHp7kb",
        "outputId": "470923f5-f0ca-4c89-dbb0-0c0131913694"
      },
      "execution_count": 36,
      "outputs": [
        {
          "output_type": "display_data",
          "data": {
            "text/html": [
              "<html>\n",
              "<head><meta charset=\"utf-8\" /></head>\n",
              "<body>\n",
              "    <div>            <script src=\"https://cdnjs.cloudflare.com/ajax/libs/mathjax/2.7.5/MathJax.js?config=TeX-AMS-MML_SVG\"></script><script type=\"text/javascript\">if (window.MathJax && window.MathJax.Hub && window.MathJax.Hub.Config) {window.MathJax.Hub.Config({SVG: {font: \"STIX-Web\"}});}</script>                <script type=\"text/javascript\">window.PlotlyConfig = {MathJaxConfig: 'local'};</script>\n",
              "        <script charset=\"utf-8\" src=\"https://cdn.plot.ly/plotly-2.24.1.min.js\"></script>                <div id=\"bf7121a3-bccf-49c2-a501-24ac1af1efd3\" class=\"plotly-graph-div\" style=\"height:525px; width:100%;\"></div>            <script type=\"text/javascript\">                                    window.PLOTLYENV=window.PLOTLYENV || {};                                    if (document.getElementById(\"bf7121a3-bccf-49c2-a501-24ac1af1efd3\")) {                    Plotly.newPlot(                        \"bf7121a3-bccf-49c2-a501-24ac1af1efd3\",                        [{\"name\":\"Test Loss\",\"x\":[1875,3750,7500,15000,30000,60000],\"y\":[2.220548692022919,1.9611046057597847,0.9225114927929677,0.42741391732814205,0.28011195479304923,0.15501305885185862],\"type\":\"scatter\"},{\"name\":\"Test Accuracy\",\"x\":[1875,3750,7500,15000,30000,60000],\"y\":[0.34591958598726114,0.5338972929936305,0.772591560509554,0.8818670382165605,0.9185111464968154,0.9537619426751593],\"type\":\"scatter\"}],                        {\"template\":{\"data\":{\"histogram2dcontour\":[{\"type\":\"histogram2dcontour\",\"colorbar\":{\"outlinewidth\":0,\"ticks\":\"\"},\"colorscale\":[[0.0,\"#0d0887\"],[0.1111111111111111,\"#46039f\"],[0.2222222222222222,\"#7201a8\"],[0.3333333333333333,\"#9c179e\"],[0.4444444444444444,\"#bd3786\"],[0.5555555555555556,\"#d8576b\"],[0.6666666666666666,\"#ed7953\"],[0.7777777777777778,\"#fb9f3a\"],[0.8888888888888888,\"#fdca26\"],[1.0,\"#f0f921\"]]}],\"choropleth\":[{\"type\":\"choropleth\",\"colorbar\":{\"outlinewidth\":0,\"ticks\":\"\"}}],\"histogram2d\":[{\"type\":\"histogram2d\",\"colorbar\":{\"outlinewidth\":0,\"ticks\":\"\"},\"colorscale\":[[0.0,\"#0d0887\"],[0.1111111111111111,\"#46039f\"],[0.2222222222222222,\"#7201a8\"],[0.3333333333333333,\"#9c179e\"],[0.4444444444444444,\"#bd3786\"],[0.5555555555555556,\"#d8576b\"],[0.6666666666666666,\"#ed7953\"],[0.7777777777777778,\"#fb9f3a\"],[0.8888888888888888,\"#fdca26\"],[1.0,\"#f0f921\"]]}],\"heatmap\":[{\"type\":\"heatmap\",\"colorbar\":{\"outlinewidth\":0,\"ticks\":\"\"},\"colorscale\":[[0.0,\"#0d0887\"],[0.1111111111111111,\"#46039f\"],[0.2222222222222222,\"#7201a8\"],[0.3333333333333333,\"#9c179e\"],[0.4444444444444444,\"#bd3786\"],[0.5555555555555556,\"#d8576b\"],[0.6666666666666666,\"#ed7953\"],[0.7777777777777778,\"#fb9f3a\"],[0.8888888888888888,\"#fdca26\"],[1.0,\"#f0f921\"]]}],\"heatmapgl\":[{\"type\":\"heatmapgl\",\"colorbar\":{\"outlinewidth\":0,\"ticks\":\"\"},\"colorscale\":[[0.0,\"#0d0887\"],[0.1111111111111111,\"#46039f\"],[0.2222222222222222,\"#7201a8\"],[0.3333333333333333,\"#9c179e\"],[0.4444444444444444,\"#bd3786\"],[0.5555555555555556,\"#d8576b\"],[0.6666666666666666,\"#ed7953\"],[0.7777777777777778,\"#fb9f3a\"],[0.8888888888888888,\"#fdca26\"],[1.0,\"#f0f921\"]]}],\"contourcarpet\":[{\"type\":\"contourcarpet\",\"colorbar\":{\"outlinewidth\":0,\"ticks\":\"\"}}],\"contour\":[{\"type\":\"contour\",\"colorbar\":{\"outlinewidth\":0,\"ticks\":\"\"},\"colorscale\":[[0.0,\"#0d0887\"],[0.1111111111111111,\"#46039f\"],[0.2222222222222222,\"#7201a8\"],[0.3333333333333333,\"#9c179e\"],[0.4444444444444444,\"#bd3786\"],[0.5555555555555556,\"#d8576b\"],[0.6666666666666666,\"#ed7953\"],[0.7777777777777778,\"#fb9f3a\"],[0.8888888888888888,\"#fdca26\"],[1.0,\"#f0f921\"]]}],\"surface\":[{\"type\":\"surface\",\"colorbar\":{\"outlinewidth\":0,\"ticks\":\"\"},\"colorscale\":[[0.0,\"#0d0887\"],[0.1111111111111111,\"#46039f\"],[0.2222222222222222,\"#7201a8\"],[0.3333333333333333,\"#9c179e\"],[0.4444444444444444,\"#bd3786\"],[0.5555555555555556,\"#d8576b\"],[0.6666666666666666,\"#ed7953\"],[0.7777777777777778,\"#fb9f3a\"],[0.8888888888888888,\"#fdca26\"],[1.0,\"#f0f921\"]]}],\"mesh3d\":[{\"type\":\"mesh3d\",\"colorbar\":{\"outlinewidth\":0,\"ticks\":\"\"}}],\"scatter\":[{\"fillpattern\":{\"fillmode\":\"overlay\",\"size\":10,\"solidity\":0.2},\"type\":\"scatter\"}],\"parcoords\":[{\"type\":\"parcoords\",\"line\":{\"colorbar\":{\"outlinewidth\":0,\"ticks\":\"\"}}}],\"scatterpolargl\":[{\"type\":\"scatterpolargl\",\"marker\":{\"colorbar\":{\"outlinewidth\":0,\"ticks\":\"\"}}}],\"bar\":[{\"error_x\":{\"color\":\"#2a3f5f\"},\"error_y\":{\"color\":\"#2a3f5f\"},\"marker\":{\"line\":{\"color\":\"#E5ECF6\",\"width\":0.5},\"pattern\":{\"fillmode\":\"overlay\",\"size\":10,\"solidity\":0.2}},\"type\":\"bar\"}],\"scattergeo\":[{\"type\":\"scattergeo\",\"marker\":{\"colorbar\":{\"outlinewidth\":0,\"ticks\":\"\"}}}],\"scatterpolar\":[{\"type\":\"scatterpolar\",\"marker\":{\"colorbar\":{\"outlinewidth\":0,\"ticks\":\"\"}}}],\"histogram\":[{\"marker\":{\"pattern\":{\"fillmode\":\"overlay\",\"size\":10,\"solidity\":0.2}},\"type\":\"histogram\"}],\"scattergl\":[{\"type\":\"scattergl\",\"marker\":{\"colorbar\":{\"outlinewidth\":0,\"ticks\":\"\"}}}],\"scatter3d\":[{\"type\":\"scatter3d\",\"line\":{\"colorbar\":{\"outlinewidth\":0,\"ticks\":\"\"}},\"marker\":{\"colorbar\":{\"outlinewidth\":0,\"ticks\":\"\"}}}],\"scattermapbox\":[{\"type\":\"scattermapbox\",\"marker\":{\"colorbar\":{\"outlinewidth\":0,\"ticks\":\"\"}}}],\"scatterternary\":[{\"type\":\"scatterternary\",\"marker\":{\"colorbar\":{\"outlinewidth\":0,\"ticks\":\"\"}}}],\"scattercarpet\":[{\"type\":\"scattercarpet\",\"marker\":{\"colorbar\":{\"outlinewidth\":0,\"ticks\":\"\"}}}],\"carpet\":[{\"aaxis\":{\"endlinecolor\":\"#2a3f5f\",\"gridcolor\":\"white\",\"linecolor\":\"white\",\"minorgridcolor\":\"white\",\"startlinecolor\":\"#2a3f5f\"},\"baxis\":{\"endlinecolor\":\"#2a3f5f\",\"gridcolor\":\"white\",\"linecolor\":\"white\",\"minorgridcolor\":\"white\",\"startlinecolor\":\"#2a3f5f\"},\"type\":\"carpet\"}],\"table\":[{\"cells\":{\"fill\":{\"color\":\"#EBF0F8\"},\"line\":{\"color\":\"white\"}},\"header\":{\"fill\":{\"color\":\"#C8D4E3\"},\"line\":{\"color\":\"white\"}},\"type\":\"table\"}],\"barpolar\":[{\"marker\":{\"line\":{\"color\":\"#E5ECF6\",\"width\":0.5},\"pattern\":{\"fillmode\":\"overlay\",\"size\":10,\"solidity\":0.2}},\"type\":\"barpolar\"}],\"pie\":[{\"automargin\":true,\"type\":\"pie\"}]},\"layout\":{\"autotypenumbers\":\"strict\",\"colorway\":[\"#636efa\",\"#EF553B\",\"#00cc96\",\"#ab63fa\",\"#FFA15A\",\"#19d3f3\",\"#FF6692\",\"#B6E880\",\"#FF97FF\",\"#FECB52\"],\"font\":{\"color\":\"#2a3f5f\"},\"hovermode\":\"closest\",\"hoverlabel\":{\"align\":\"left\"},\"paper_bgcolor\":\"white\",\"plot_bgcolor\":\"#E5ECF6\",\"polar\":{\"bgcolor\":\"#E5ECF6\",\"angularaxis\":{\"gridcolor\":\"white\",\"linecolor\":\"white\",\"ticks\":\"\"},\"radialaxis\":{\"gridcolor\":\"white\",\"linecolor\":\"white\",\"ticks\":\"\"}},\"ternary\":{\"bgcolor\":\"#E5ECF6\",\"aaxis\":{\"gridcolor\":\"white\",\"linecolor\":\"white\",\"ticks\":\"\"},\"baxis\":{\"gridcolor\":\"white\",\"linecolor\":\"white\",\"ticks\":\"\"},\"caxis\":{\"gridcolor\":\"white\",\"linecolor\":\"white\",\"ticks\":\"\"}},\"coloraxis\":{\"colorbar\":{\"outlinewidth\":0,\"ticks\":\"\"}},\"colorscale\":{\"sequential\":[[0.0,\"#0d0887\"],[0.1111111111111111,\"#46039f\"],[0.2222222222222222,\"#7201a8\"],[0.3333333333333333,\"#9c179e\"],[0.4444444444444444,\"#bd3786\"],[0.5555555555555556,\"#d8576b\"],[0.6666666666666666,\"#ed7953\"],[0.7777777777777778,\"#fb9f3a\"],[0.8888888888888888,\"#fdca26\"],[1.0,\"#f0f921\"]],\"sequentialminus\":[[0.0,\"#0d0887\"],[0.1111111111111111,\"#46039f\"],[0.2222222222222222,\"#7201a8\"],[0.3333333333333333,\"#9c179e\"],[0.4444444444444444,\"#bd3786\"],[0.5555555555555556,\"#d8576b\"],[0.6666666666666666,\"#ed7953\"],[0.7777777777777778,\"#fb9f3a\"],[0.8888888888888888,\"#fdca26\"],[1.0,\"#f0f921\"]],\"diverging\":[[0,\"#8e0152\"],[0.1,\"#c51b7d\"],[0.2,\"#de77ae\"],[0.3,\"#f1b6da\"],[0.4,\"#fde0ef\"],[0.5,\"#f7f7f7\"],[0.6,\"#e6f5d0\"],[0.7,\"#b8e186\"],[0.8,\"#7fbc41\"],[0.9,\"#4d9221\"],[1,\"#276419\"]]},\"xaxis\":{\"gridcolor\":\"white\",\"linecolor\":\"white\",\"ticks\":\"\",\"title\":{\"standoff\":15},\"zerolinecolor\":\"white\",\"automargin\":true,\"zerolinewidth\":2},\"yaxis\":{\"gridcolor\":\"white\",\"linecolor\":\"white\",\"ticks\":\"\",\"title\":{\"standoff\":15},\"zerolinecolor\":\"white\",\"automargin\":true,\"zerolinewidth\":2},\"scene\":{\"xaxis\":{\"backgroundcolor\":\"#E5ECF6\",\"gridcolor\":\"white\",\"linecolor\":\"white\",\"showbackground\":true,\"ticks\":\"\",\"zerolinecolor\":\"white\",\"gridwidth\":2},\"yaxis\":{\"backgroundcolor\":\"#E5ECF6\",\"gridcolor\":\"white\",\"linecolor\":\"white\",\"showbackground\":true,\"ticks\":\"\",\"zerolinecolor\":\"white\",\"gridwidth\":2},\"zaxis\":{\"backgroundcolor\":\"#E5ECF6\",\"gridcolor\":\"white\",\"linecolor\":\"white\",\"showbackground\":true,\"ticks\":\"\",\"zerolinecolor\":\"white\",\"gridwidth\":2}},\"shapedefaults\":{\"line\":{\"color\":\"#2a3f5f\"}},\"annotationdefaults\":{\"arrowcolor\":\"#2a3f5f\",\"arrowhead\":0,\"arrowwidth\":1},\"geo\":{\"bgcolor\":\"white\",\"landcolor\":\"#E5ECF6\",\"subunitcolor\":\"white\",\"showland\":true,\"showlakes\":true,\"lakecolor\":\"white\"},\"title\":{\"x\":0.05},\"mapbox\":{\"style\":\"light\"}}},\"title\":{\"text\":\"Dataset Size Effect on Test Loss\"},\"yaxis\":{\"title\":{\"text\":\"Loss\"}},\"xaxis\":{\"title\":{\"text\":\"Size\"}}},                        {\"responsive\": true}                    ).then(function(){\n",
              "                            \n",
              "var gd = document.getElementById('bf7121a3-bccf-49c2-a501-24ac1af1efd3');\n",
              "var x = new MutationObserver(function (mutations, observer) {{\n",
              "        var display = window.getComputedStyle(gd).display;\n",
              "        if (!display || display === 'none') {{\n",
              "            console.log([gd, 'removed!']);\n",
              "            Plotly.purge(gd);\n",
              "            observer.disconnect();\n",
              "        }}\n",
              "}});\n",
              "\n",
              "// Listen for the removal of the full notebook cells\n",
              "var notebookContainer = gd.closest('#notebook-container');\n",
              "if (notebookContainer) {{\n",
              "    x.observe(notebookContainer, {childList: true});\n",
              "}}\n",
              "\n",
              "// Listen for the clearing of the current output cell\n",
              "var outputEl = gd.closest('.output');\n",
              "if (outputEl) {{\n",
              "    x.observe(outputEl, {childList: true});\n",
              "}}\n",
              "\n",
              "                        })                };                            </script>        </div>\n",
              "</body>\n",
              "</html>"
            ]
          },
          "metadata": {}
        }
      ]
    },
    {
      "cell_type": "code",
      "source": [
        "fig = px.scatter(x=train_dlr_sizes, y=np.log(test_losses), title='Datasize Effect on Log Test Losses', trendline='ols')\n",
        "fig.show()"
      ],
      "metadata": {
        "colab": {
          "base_uri": "https://localhost:8080/",
          "height": 542
        },
        "id": "6bdTmpvO0c37",
        "outputId": "e2f307f6-2ad2-429f-a7e3-ed22e29c5907"
      },
      "execution_count": 37,
      "outputs": [
        {
          "output_type": "display_data",
          "data": {
            "text/html": [
              "<html>\n",
              "<head><meta charset=\"utf-8\" /></head>\n",
              "<body>\n",
              "    <div>            <script src=\"https://cdnjs.cloudflare.com/ajax/libs/mathjax/2.7.5/MathJax.js?config=TeX-AMS-MML_SVG\"></script><script type=\"text/javascript\">if (window.MathJax && window.MathJax.Hub && window.MathJax.Hub.Config) {window.MathJax.Hub.Config({SVG: {font: \"STIX-Web\"}});}</script>                <script type=\"text/javascript\">window.PlotlyConfig = {MathJaxConfig: 'local'};</script>\n",
              "        <script charset=\"utf-8\" src=\"https://cdn.plot.ly/plotly-2.24.1.min.js\"></script>                <div id=\"5bb5471f-e4ae-45a2-9f22-0daaba2d245b\" class=\"plotly-graph-div\" style=\"height:525px; width:100%;\"></div>            <script type=\"text/javascript\">                                    window.PLOTLYENV=window.PLOTLYENV || {};                                    if (document.getElementById(\"5bb5471f-e4ae-45a2-9f22-0daaba2d245b\")) {                    Plotly.newPlot(                        \"5bb5471f-e4ae-45a2-9f22-0daaba2d245b\",                        [{\"hovertemplate\":\"x=%{x}\\u003cbr\\u003ey=%{y}\\u003cextra\\u003e\\u003c\\u002fextra\\u003e\",\"legendgroup\":\"\",\"marker\":{\"color\":\"#636efa\",\"symbol\":\"circle\"},\"mode\":\"markers\",\"name\":\"\",\"orientation\":\"v\",\"showlegend\":false,\"x\":[1875,3750,7500,15000,30000,60000],\"xaxis\":\"x\",\"y\":[0.7977543239144232,0.6735078888612708,-0.08065544483289878,-0.8500023738566743,-1.2725659171804136,-1.8642459149546253],\"yaxis\":\"y\",\"type\":\"scatter\"},{\"hovertemplate\":\"\\u003cb\\u003eOLS trendline\\u003c\\u002fb\\u003e\\u003cbr\\u003ey = -4.37694e-05 * x + 0.429009\\u003cbr\\u003eR\\u003csup\\u003e2\\u003c\\u002fsup\\u003e=0.818264\\u003cbr\\u003e\\u003cbr\\u003ex=%{x}\\u003cbr\\u003ey=%{y} \\u003cb\\u003e(trend)\\u003c\\u002fb\\u003e\\u003cextra\\u003e\\u003c\\u002fextra\\u003e\",\"legendgroup\":\"\",\"marker\":{\"color\":\"#636efa\",\"symbol\":\"circle\"},\"mode\":\"lines\",\"name\":\"\",\"showlegend\":false,\"x\":[1875,3750,7500,15000,30000,60000],\"xaxis\":\"x\",\"y\":[0.3469417695127506,0.2648740843351116,0.10073871397983364,-0.22753202673072231,-0.8840735081518343,-2.197156470994058],\"yaxis\":\"y\",\"type\":\"scatter\"}],                        {\"template\":{\"data\":{\"histogram2dcontour\":[{\"type\":\"histogram2dcontour\",\"colorbar\":{\"outlinewidth\":0,\"ticks\":\"\"},\"colorscale\":[[0.0,\"#0d0887\"],[0.1111111111111111,\"#46039f\"],[0.2222222222222222,\"#7201a8\"],[0.3333333333333333,\"#9c179e\"],[0.4444444444444444,\"#bd3786\"],[0.5555555555555556,\"#d8576b\"],[0.6666666666666666,\"#ed7953\"],[0.7777777777777778,\"#fb9f3a\"],[0.8888888888888888,\"#fdca26\"],[1.0,\"#f0f921\"]]}],\"choropleth\":[{\"type\":\"choropleth\",\"colorbar\":{\"outlinewidth\":0,\"ticks\":\"\"}}],\"histogram2d\":[{\"type\":\"histogram2d\",\"colorbar\":{\"outlinewidth\":0,\"ticks\":\"\"},\"colorscale\":[[0.0,\"#0d0887\"],[0.1111111111111111,\"#46039f\"],[0.2222222222222222,\"#7201a8\"],[0.3333333333333333,\"#9c179e\"],[0.4444444444444444,\"#bd3786\"],[0.5555555555555556,\"#d8576b\"],[0.6666666666666666,\"#ed7953\"],[0.7777777777777778,\"#fb9f3a\"],[0.8888888888888888,\"#fdca26\"],[1.0,\"#f0f921\"]]}],\"heatmap\":[{\"type\":\"heatmap\",\"colorbar\":{\"outlinewidth\":0,\"ticks\":\"\"},\"colorscale\":[[0.0,\"#0d0887\"],[0.1111111111111111,\"#46039f\"],[0.2222222222222222,\"#7201a8\"],[0.3333333333333333,\"#9c179e\"],[0.4444444444444444,\"#bd3786\"],[0.5555555555555556,\"#d8576b\"],[0.6666666666666666,\"#ed7953\"],[0.7777777777777778,\"#fb9f3a\"],[0.8888888888888888,\"#fdca26\"],[1.0,\"#f0f921\"]]}],\"heatmapgl\":[{\"type\":\"heatmapgl\",\"colorbar\":{\"outlinewidth\":0,\"ticks\":\"\"},\"colorscale\":[[0.0,\"#0d0887\"],[0.1111111111111111,\"#46039f\"],[0.2222222222222222,\"#7201a8\"],[0.3333333333333333,\"#9c179e\"],[0.4444444444444444,\"#bd3786\"],[0.5555555555555556,\"#d8576b\"],[0.6666666666666666,\"#ed7953\"],[0.7777777777777778,\"#fb9f3a\"],[0.8888888888888888,\"#fdca26\"],[1.0,\"#f0f921\"]]}],\"contourcarpet\":[{\"type\":\"contourcarpet\",\"colorbar\":{\"outlinewidth\":0,\"ticks\":\"\"}}],\"contour\":[{\"type\":\"contour\",\"colorbar\":{\"outlinewidth\":0,\"ticks\":\"\"},\"colorscale\":[[0.0,\"#0d0887\"],[0.1111111111111111,\"#46039f\"],[0.2222222222222222,\"#7201a8\"],[0.3333333333333333,\"#9c179e\"],[0.4444444444444444,\"#bd3786\"],[0.5555555555555556,\"#d8576b\"],[0.6666666666666666,\"#ed7953\"],[0.7777777777777778,\"#fb9f3a\"],[0.8888888888888888,\"#fdca26\"],[1.0,\"#f0f921\"]]}],\"surface\":[{\"type\":\"surface\",\"colorbar\":{\"outlinewidth\":0,\"ticks\":\"\"},\"colorscale\":[[0.0,\"#0d0887\"],[0.1111111111111111,\"#46039f\"],[0.2222222222222222,\"#7201a8\"],[0.3333333333333333,\"#9c179e\"],[0.4444444444444444,\"#bd3786\"],[0.5555555555555556,\"#d8576b\"],[0.6666666666666666,\"#ed7953\"],[0.7777777777777778,\"#fb9f3a\"],[0.8888888888888888,\"#fdca26\"],[1.0,\"#f0f921\"]]}],\"mesh3d\":[{\"type\":\"mesh3d\",\"colorbar\":{\"outlinewidth\":0,\"ticks\":\"\"}}],\"scatter\":[{\"fillpattern\":{\"fillmode\":\"overlay\",\"size\":10,\"solidity\":0.2},\"type\":\"scatter\"}],\"parcoords\":[{\"type\":\"parcoords\",\"line\":{\"colorbar\":{\"outlinewidth\":0,\"ticks\":\"\"}}}],\"scatterpolargl\":[{\"type\":\"scatterpolargl\",\"marker\":{\"colorbar\":{\"outlinewidth\":0,\"ticks\":\"\"}}}],\"bar\":[{\"error_x\":{\"color\":\"#2a3f5f\"},\"error_y\":{\"color\":\"#2a3f5f\"},\"marker\":{\"line\":{\"color\":\"#E5ECF6\",\"width\":0.5},\"pattern\":{\"fillmode\":\"overlay\",\"size\":10,\"solidity\":0.2}},\"type\":\"bar\"}],\"scattergeo\":[{\"type\":\"scattergeo\",\"marker\":{\"colorbar\":{\"outlinewidth\":0,\"ticks\":\"\"}}}],\"scatterpolar\":[{\"type\":\"scatterpolar\",\"marker\":{\"colorbar\":{\"outlinewidth\":0,\"ticks\":\"\"}}}],\"histogram\":[{\"marker\":{\"pattern\":{\"fillmode\":\"overlay\",\"size\":10,\"solidity\":0.2}},\"type\":\"histogram\"}],\"scattergl\":[{\"type\":\"scattergl\",\"marker\":{\"colorbar\":{\"outlinewidth\":0,\"ticks\":\"\"}}}],\"scatter3d\":[{\"type\":\"scatter3d\",\"line\":{\"colorbar\":{\"outlinewidth\":0,\"ticks\":\"\"}},\"marker\":{\"colorbar\":{\"outlinewidth\":0,\"ticks\":\"\"}}}],\"scattermapbox\":[{\"type\":\"scattermapbox\",\"marker\":{\"colorbar\":{\"outlinewidth\":0,\"ticks\":\"\"}}}],\"scatterternary\":[{\"type\":\"scatterternary\",\"marker\":{\"colorbar\":{\"outlinewidth\":0,\"ticks\":\"\"}}}],\"scattercarpet\":[{\"type\":\"scattercarpet\",\"marker\":{\"colorbar\":{\"outlinewidth\":0,\"ticks\":\"\"}}}],\"carpet\":[{\"aaxis\":{\"endlinecolor\":\"#2a3f5f\",\"gridcolor\":\"white\",\"linecolor\":\"white\",\"minorgridcolor\":\"white\",\"startlinecolor\":\"#2a3f5f\"},\"baxis\":{\"endlinecolor\":\"#2a3f5f\",\"gridcolor\":\"white\",\"linecolor\":\"white\",\"minorgridcolor\":\"white\",\"startlinecolor\":\"#2a3f5f\"},\"type\":\"carpet\"}],\"table\":[{\"cells\":{\"fill\":{\"color\":\"#EBF0F8\"},\"line\":{\"color\":\"white\"}},\"header\":{\"fill\":{\"color\":\"#C8D4E3\"},\"line\":{\"color\":\"white\"}},\"type\":\"table\"}],\"barpolar\":[{\"marker\":{\"line\":{\"color\":\"#E5ECF6\",\"width\":0.5},\"pattern\":{\"fillmode\":\"overlay\",\"size\":10,\"solidity\":0.2}},\"type\":\"barpolar\"}],\"pie\":[{\"automargin\":true,\"type\":\"pie\"}]},\"layout\":{\"autotypenumbers\":\"strict\",\"colorway\":[\"#636efa\",\"#EF553B\",\"#00cc96\",\"#ab63fa\",\"#FFA15A\",\"#19d3f3\",\"#FF6692\",\"#B6E880\",\"#FF97FF\",\"#FECB52\"],\"font\":{\"color\":\"#2a3f5f\"},\"hovermode\":\"closest\",\"hoverlabel\":{\"align\":\"left\"},\"paper_bgcolor\":\"white\",\"plot_bgcolor\":\"#E5ECF6\",\"polar\":{\"bgcolor\":\"#E5ECF6\",\"angularaxis\":{\"gridcolor\":\"white\",\"linecolor\":\"white\",\"ticks\":\"\"},\"radialaxis\":{\"gridcolor\":\"white\",\"linecolor\":\"white\",\"ticks\":\"\"}},\"ternary\":{\"bgcolor\":\"#E5ECF6\",\"aaxis\":{\"gridcolor\":\"white\",\"linecolor\":\"white\",\"ticks\":\"\"},\"baxis\":{\"gridcolor\":\"white\",\"linecolor\":\"white\",\"ticks\":\"\"},\"caxis\":{\"gridcolor\":\"white\",\"linecolor\":\"white\",\"ticks\":\"\"}},\"coloraxis\":{\"colorbar\":{\"outlinewidth\":0,\"ticks\":\"\"}},\"colorscale\":{\"sequential\":[[0.0,\"#0d0887\"],[0.1111111111111111,\"#46039f\"],[0.2222222222222222,\"#7201a8\"],[0.3333333333333333,\"#9c179e\"],[0.4444444444444444,\"#bd3786\"],[0.5555555555555556,\"#d8576b\"],[0.6666666666666666,\"#ed7953\"],[0.7777777777777778,\"#fb9f3a\"],[0.8888888888888888,\"#fdca26\"],[1.0,\"#f0f921\"]],\"sequentialminus\":[[0.0,\"#0d0887\"],[0.1111111111111111,\"#46039f\"],[0.2222222222222222,\"#7201a8\"],[0.3333333333333333,\"#9c179e\"],[0.4444444444444444,\"#bd3786\"],[0.5555555555555556,\"#d8576b\"],[0.6666666666666666,\"#ed7953\"],[0.7777777777777778,\"#fb9f3a\"],[0.8888888888888888,\"#fdca26\"],[1.0,\"#f0f921\"]],\"diverging\":[[0,\"#8e0152\"],[0.1,\"#c51b7d\"],[0.2,\"#de77ae\"],[0.3,\"#f1b6da\"],[0.4,\"#fde0ef\"],[0.5,\"#f7f7f7\"],[0.6,\"#e6f5d0\"],[0.7,\"#b8e186\"],[0.8,\"#7fbc41\"],[0.9,\"#4d9221\"],[1,\"#276419\"]]},\"xaxis\":{\"gridcolor\":\"white\",\"linecolor\":\"white\",\"ticks\":\"\",\"title\":{\"standoff\":15},\"zerolinecolor\":\"white\",\"automargin\":true,\"zerolinewidth\":2},\"yaxis\":{\"gridcolor\":\"white\",\"linecolor\":\"white\",\"ticks\":\"\",\"title\":{\"standoff\":15},\"zerolinecolor\":\"white\",\"automargin\":true,\"zerolinewidth\":2},\"scene\":{\"xaxis\":{\"backgroundcolor\":\"#E5ECF6\",\"gridcolor\":\"white\",\"linecolor\":\"white\",\"showbackground\":true,\"ticks\":\"\",\"zerolinecolor\":\"white\",\"gridwidth\":2},\"yaxis\":{\"backgroundcolor\":\"#E5ECF6\",\"gridcolor\":\"white\",\"linecolor\":\"white\",\"showbackground\":true,\"ticks\":\"\",\"zerolinecolor\":\"white\",\"gridwidth\":2},\"zaxis\":{\"backgroundcolor\":\"#E5ECF6\",\"gridcolor\":\"white\",\"linecolor\":\"white\",\"showbackground\":true,\"ticks\":\"\",\"zerolinecolor\":\"white\",\"gridwidth\":2}},\"shapedefaults\":{\"line\":{\"color\":\"#2a3f5f\"}},\"annotationdefaults\":{\"arrowcolor\":\"#2a3f5f\",\"arrowhead\":0,\"arrowwidth\":1},\"geo\":{\"bgcolor\":\"white\",\"landcolor\":\"#E5ECF6\",\"subunitcolor\":\"white\",\"showland\":true,\"showlakes\":true,\"lakecolor\":\"white\"},\"title\":{\"x\":0.05},\"mapbox\":{\"style\":\"light\"}}},\"xaxis\":{\"anchor\":\"y\",\"domain\":[0.0,1.0],\"title\":{\"text\":\"x\"}},\"yaxis\":{\"anchor\":\"x\",\"domain\":[0.0,1.0],\"title\":{\"text\":\"y\"}},\"legend\":{\"tracegroupgap\":0},\"title\":{\"text\":\"Datasize Effect on Log Test Losses\"}},                        {\"responsive\": true}                    ).then(function(){\n",
              "                            \n",
              "var gd = document.getElementById('5bb5471f-e4ae-45a2-9f22-0daaba2d245b');\n",
              "var x = new MutationObserver(function (mutations, observer) {{\n",
              "        var display = window.getComputedStyle(gd).display;\n",
              "        if (!display || display === 'none') {{\n",
              "            console.log([gd, 'removed!']);\n",
              "            Plotly.purge(gd);\n",
              "            observer.disconnect();\n",
              "        }}\n",
              "}});\n",
              "\n",
              "// Listen for the removal of the full notebook cells\n",
              "var notebookContainer = gd.closest('#notebook-container');\n",
              "if (notebookContainer) {{\n",
              "    x.observe(notebookContainer, {childList: true});\n",
              "}}\n",
              "\n",
              "// Listen for the clearing of the current output cell\n",
              "var outputEl = gd.closest('.output');\n",
              "if (outputEl) {{\n",
              "    x.observe(outputEl, {childList: true});\n",
              "}}\n",
              "\n",
              "                        })                };                            </script>        </div>\n",
              "</body>\n",
              "</html>"
            ]
          },
          "metadata": {}
        }
      ]
    },
    {
      "cell_type": "markdown",
      "source": [
        "## Model Size Effect"
      ],
      "metadata": {
        "id": "ugH2CQ14faMA"
      }
    },
    {
      "cell_type": "markdown",
      "source": [
        "We will first change model width only. We will later check if depth really has no effect keeping model size constant.\n",
        "\n",
        "We will adapt the learning rate following what is described in the Appendix of the article:\n",
        "\n",
        "$LR(N) ≈ 0.003239 + −0.0001395 log(N) $"
      ],
      "metadata": {
        "id": "YBYnZmSPr3Cl"
      }
    },
    {
      "cell_type": "code",
      "source": [
        "test_losses_NandD = {k:[] for k in range(len(train_dataloaders))}\n",
        "test_acc_NandD = {k:[] for k in range(len(train_dataloaders))}\n",
        "N_params = []"
      ],
      "metadata": {
        "id": "v1kdiDz0RMhV"
      },
      "execution_count": 47,
      "outputs": []
    },
    {
      "cell_type": "code",
      "source": [
        "# training\n",
        "max_epochs = 1\n",
        "loss = nn.CrossEntropyLoss()\n",
        "n_models = 6\n",
        "n_reps = 5\n",
        "\n",
        "# run for each dataset size\n",
        "for i, dlr in enumerate(train_dataloaders):\n",
        "\n",
        "  # arch\n",
        "  convdepth = 2\n",
        "  ks = [3, 3]\n",
        "  nchan = [4, 4]\n",
        "  nhid1 = 32\n",
        "  nhid2 = 32\n",
        "\n",
        "  for j in range(n_models):\n",
        "    running_test_loss = 0\n",
        "    running_test_acc = 0\n",
        "    for r in range(n_reps):\n",
        "      # create configs\n",
        "      cfg = Config(ks=ks,\n",
        "                  mp=2,\n",
        "                  nchan=nchan,\n",
        "                  convdepth=convdepth,\n",
        "                  nhid1=nhid1,\n",
        "                  nhid2=nhid2,\n",
        "                  drop=0)\n",
        "\n",
        "      # create model and instantiate optimizer\n",
        "      cnn = CNN(cfg)\n",
        "      N = count_parameters(cnn)\n",
        "      N_params.append(N)\n",
        "      lr = 0.003239  + ((-0.0001395) * np.log(N))\n",
        "      print('MODEL', j, 'PARAMETER COUNT:', N)\n",
        "      optm = torch.optim.Adam(cnn.parameters(), lr=lr)\n",
        "      # train and evaluate\n",
        "      print(f'########### START DLR {i} MODEL {j} REP {r} ###########')\n",
        "      for e in range(max_epochs):\n",
        "        train_loss, train_acc = train(cnn, dlr, loss, optm)\n",
        "        train_losses.append(train_loss)\n",
        "      print('EVALUATING')\n",
        "      test_loss, test_acc = evaluate(cnn, test_dlr, loss)\n",
        "      running_test_loss += test_loss\n",
        "      running_test_acc += test_acc\n",
        "      print(f'############ END DLR {i} MODEL {j} REP {r} ############')\n",
        "      print('\\n')\n",
        "\n",
        "    test_losses_NandD[i].append(running_test_loss/n_reps)\n",
        "    test_acc_NandD[i].append(running_test_acc/n_reps)\n",
        "\n",
        "    # change arch params\n",
        "    nchan = [round(np.sqrt(2)*m) for m in nchan]\n",
        "    nhid1 = round(np.sqrt(2)*nhid1)\n",
        "    nhid2 = round(np.sqrt(2)*nhid2)"
      ],
      "metadata": {
        "colab": {
          "base_uri": "https://localhost:8080/"
        },
        "id": "z-qkA36etkCc",
        "outputId": "68ec4df0-e96b-4ee7-8c06-9e16d9871685"
      },
      "execution_count": 49,
      "outputs": [
        {
          "output_type": "stream",
          "name": "stdout",
          "text": [
            "MODEL 0 PARAMETER COUNT: 9798\n",
            "########### START DLR 0 MODEL 0 REP 0 ###########\n"
          ]
        },
        {
          "output_type": "stream",
          "name": "stderr",
          "text": [
            "100%|██████████| 30/30 [00:00<00:00, 30.97it/s]\n"
          ]
        },
        {
          "output_type": "stream",
          "name": "stdout",
          "text": [
            "Finished Batch: \n",
            "Training Loss:  2.2486424605051676 Training Av. Accuracy:  0.14588815789473683\n",
            "EVALUATING\n"
          ]
        },
        {
          "output_type": "stream",
          "name": "stderr",
          "text": [
            "100%|██████████| 157/157 [00:03<00:00, 46.10it/s]\n"
          ]
        },
        {
          "output_type": "stream",
          "name": "stdout",
          "text": [
            "Validation Loss:  2.048972427465354 Validation Av. Accuracy:  0.35698646496815284\n",
            "############ END DLR 0 MODEL 0 REP 0 ############\n",
            "\n",
            "\n",
            "MODEL 0 PARAMETER COUNT: 9798\n",
            "########### START DLR 0 MODEL 0 REP 1 ###########\n"
          ]
        },
        {
          "output_type": "stream",
          "name": "stderr",
          "text": [
            "100%|██████████| 30/30 [00:00<00:00, 59.33it/s]\n"
          ]
        },
        {
          "output_type": "stream",
          "name": "stdout",
          "text": [
            "Finished Batch: \n",
            "Training Loss:  2.2652862230936686 Training Av. Accuracy:  0.18467653508771928\n",
            "EVALUATING\n"
          ]
        },
        {
          "output_type": "stream",
          "name": "stderr",
          "text": [
            "100%|██████████| 157/157 [00:02<00:00, 67.39it/s]\n"
          ]
        },
        {
          "output_type": "stream",
          "name": "stdout",
          "text": [
            "Validation Loss:  2.1470519008150526 Validation Av. Accuracy:  0.4112261146496815\n",
            "############ END DLR 0 MODEL 0 REP 1 ############\n",
            "\n",
            "\n",
            "MODEL 0 PARAMETER COUNT: 9798\n",
            "########### START DLR 0 MODEL 0 REP 2 ###########\n"
          ]
        },
        {
          "output_type": "stream",
          "name": "stderr",
          "text": [
            "100%|██████████| 30/30 [00:00<00:00, 59.78it/s]\n"
          ]
        },
        {
          "output_type": "stream",
          "name": "stdout",
          "text": [
            "Finished Batch: \n",
            "Training Loss:  2.2564424514770507 Training Av. Accuracy:  0.22634320175438596\n",
            "EVALUATING\n"
          ]
        },
        {
          "output_type": "stream",
          "name": "stderr",
          "text": [
            "100%|██████████| 157/157 [00:02<00:00, 54.92it/s]\n"
          ]
        },
        {
          "output_type": "stream",
          "name": "stdout",
          "text": [
            "Validation Loss:  2.126102556848222 Validation Av. Accuracy:  0.35171178343949044\n",
            "############ END DLR 0 MODEL 0 REP 2 ############\n",
            "\n",
            "\n",
            "MODEL 0 PARAMETER COUNT: 9798\n",
            "########### START DLR 0 MODEL 0 REP 3 ###########\n"
          ]
        },
        {
          "output_type": "stream",
          "name": "stderr",
          "text": [
            "100%|██████████| 30/30 [00:00<00:00, 36.67it/s]\n"
          ]
        },
        {
          "output_type": "stream",
          "name": "stdout",
          "text": [
            "Finished Batch: \n",
            "Training Loss:  2.231990667184194 Training Av. Accuracy:  0.17752192982456141\n",
            "EVALUATING\n"
          ]
        },
        {
          "output_type": "stream",
          "name": "stderr",
          "text": [
            "100%|██████████| 157/157 [00:02<00:00, 63.04it/s]\n"
          ]
        },
        {
          "output_type": "stream",
          "name": "stdout",
          "text": [
            "Validation Loss:  1.9624991128399114 Validation Av. Accuracy:  0.4115246815286624\n",
            "############ END DLR 0 MODEL 0 REP 3 ############\n",
            "\n",
            "\n",
            "MODEL 0 PARAMETER COUNT: 9798\n",
            "########### START DLR 0 MODEL 0 REP 4 ###########\n"
          ]
        },
        {
          "output_type": "stream",
          "name": "stderr",
          "text": [
            "100%|██████████| 30/30 [00:00<00:00, 59.13it/s]\n"
          ]
        },
        {
          "output_type": "stream",
          "name": "stdout",
          "text": [
            "Finished Batch: \n",
            "Training Loss:  2.2744004487991334 Training Av. Accuracy:  0.1831688596491228\n",
            "EVALUATING\n"
          ]
        },
        {
          "output_type": "stream",
          "name": "stderr",
          "text": [
            "100%|██████████| 157/157 [00:02<00:00, 65.39it/s]\n"
          ]
        },
        {
          "output_type": "stream",
          "name": "stdout",
          "text": [
            "Validation Loss:  2.175693800494929 Validation Av. Accuracy:  0.283140923566879\n",
            "############ END DLR 0 MODEL 0 REP 4 ############\n",
            "\n",
            "\n",
            "MODEL 1 PARAMETER COUNT: 20245\n",
            "########### START DLR 0 MODEL 1 REP 0 ###########\n"
          ]
        },
        {
          "output_type": "stream",
          "name": "stderr",
          "text": [
            "100%|██████████| 30/30 [00:00<00:00, 60.94it/s]\n"
          ]
        },
        {
          "output_type": "stream",
          "name": "stdout",
          "text": [
            "Finished Batch: \n",
            "Training Loss:  2.2972312211990356 Training Av. Accuracy:  0.11809210526315789\n",
            "EVALUATING\n"
          ]
        },
        {
          "output_type": "stream",
          "name": "stderr",
          "text": [
            "100%|██████████| 157/157 [00:02<00:00, 65.60it/s]\n"
          ]
        },
        {
          "output_type": "stream",
          "name": "stdout",
          "text": [
            "Validation Loss:  2.2794861656844994 Validation Av. Accuracy:  0.10300557324840764\n",
            "############ END DLR 0 MODEL 1 REP 0 ############\n",
            "\n",
            "\n",
            "MODEL 1 PARAMETER COUNT: 20245\n",
            "########### START DLR 0 MODEL 1 REP 1 ###########\n"
          ]
        },
        {
          "output_type": "stream",
          "name": "stderr",
          "text": [
            "100%|██████████| 30/30 [00:00<00:00, 60.77it/s]\n"
          ]
        },
        {
          "output_type": "stream",
          "name": "stdout",
          "text": [
            "Finished Batch: \n",
            "Training Loss:  2.2078160961469013 Training Av. Accuracy:  0.24276315789473685\n",
            "EVALUATING\n"
          ]
        },
        {
          "output_type": "stream",
          "name": "stderr",
          "text": [
            "100%|██████████| 157/157 [00:02<00:00, 56.98it/s]\n"
          ]
        },
        {
          "output_type": "stream",
          "name": "stdout",
          "text": [
            "Validation Loss:  1.9101973377215635 Validation Av. Accuracy:  0.43710191082802546\n",
            "############ END DLR 0 MODEL 1 REP 1 ############\n",
            "\n",
            "\n",
            "MODEL 1 PARAMETER COUNT: 20245\n",
            "########### START DLR 0 MODEL 1 REP 2 ###########\n"
          ]
        },
        {
          "output_type": "stream",
          "name": "stderr",
          "text": [
            "100%|██████████| 30/30 [00:00<00:00, 37.01it/s]\n"
          ]
        },
        {
          "output_type": "stream",
          "name": "stdout",
          "text": [
            "Finished Batch: \n",
            "Training Loss:  2.1615166227022806 Training Av. Accuracy:  0.32738486842105263\n",
            "EVALUATING\n"
          ]
        },
        {
          "output_type": "stream",
          "name": "stderr",
          "text": [
            "100%|██████████| 157/157 [00:02<00:00, 54.16it/s]\n"
          ]
        },
        {
          "output_type": "stream",
          "name": "stdout",
          "text": [
            "Validation Loss:  1.7528632871664254 Validation Av. Accuracy:  0.5029856687898089\n",
            "############ END DLR 0 MODEL 1 REP 2 ############\n",
            "\n",
            "\n",
            "MODEL 1 PARAMETER COUNT: 20245\n",
            "########### START DLR 0 MODEL 1 REP 3 ###########\n"
          ]
        },
        {
          "output_type": "stream",
          "name": "stderr",
          "text": [
            "100%|██████████| 30/30 [00:00<00:00, 53.44it/s]\n"
          ]
        },
        {
          "output_type": "stream",
          "name": "stdout",
          "text": [
            "Finished Batch: \n",
            "Training Loss:  2.215068014462789 Training Av. Accuracy:  0.21513157894736842\n",
            "EVALUATING\n"
          ]
        },
        {
          "output_type": "stream",
          "name": "stderr",
          "text": [
            "100%|██████████| 157/157 [00:02<00:00, 63.52it/s]\n"
          ]
        },
        {
          "output_type": "stream",
          "name": "stdout",
          "text": [
            "Validation Loss:  1.9350849131869663 Validation Av. Accuracy:  0.3756966560509554\n",
            "############ END DLR 0 MODEL 1 REP 3 ############\n",
            "\n",
            "\n",
            "MODEL 1 PARAMETER COUNT: 20245\n",
            "########### START DLR 0 MODEL 1 REP 4 ###########\n"
          ]
        },
        {
          "output_type": "stream",
          "name": "stderr",
          "text": [
            "100%|██████████| 30/30 [00:00<00:00, 58.69it/s]\n"
          ]
        },
        {
          "output_type": "stream",
          "name": "stdout",
          "text": [
            "Finished Batch: \n",
            "Training Loss:  2.265089686711629 Training Av. Accuracy:  0.20641447368421054\n",
            "EVALUATING\n"
          ]
        },
        {
          "output_type": "stream",
          "name": "stderr",
          "text": [
            "100%|██████████| 157/157 [00:02<00:00, 64.21it/s]\n"
          ]
        },
        {
          "output_type": "stream",
          "name": "stdout",
          "text": [
            "Validation Loss:  2.1398216812473954 Validation Av. Accuracy:  0.3088176751592357\n",
            "############ END DLR 0 MODEL 1 REP 4 ############\n",
            "\n",
            "\n",
            "MODEL 2 PARAMETER COUNT: 38306\n",
            "########### START DLR 0 MODEL 2 REP 0 ###########\n"
          ]
        },
        {
          "output_type": "stream",
          "name": "stderr",
          "text": [
            "100%|██████████| 30/30 [00:00<00:00, 56.13it/s]\n"
          ]
        },
        {
          "output_type": "stream",
          "name": "stdout",
          "text": [
            "Finished Batch: \n",
            "Training Loss:  2.2636603832244875 Training Av. Accuracy:  0.19797149122807017\n",
            "EVALUATING\n"
          ]
        },
        {
          "output_type": "stream",
          "name": "stderr",
          "text": [
            "100%|██████████| 157/157 [00:03<00:00, 51.23it/s]\n"
          ]
        },
        {
          "output_type": "stream",
          "name": "stdout",
          "text": [
            "Validation Loss:  2.1217051812797596 Validation Av. Accuracy:  0.34454617834394907\n",
            "############ END DLR 0 MODEL 2 REP 0 ############\n",
            "\n",
            "\n",
            "MODEL 2 PARAMETER COUNT: 38306\n",
            "########### START DLR 0 MODEL 2 REP 1 ###########\n"
          ]
        },
        {
          "output_type": "stream",
          "name": "stderr",
          "text": [
            "100%|██████████| 30/30 [00:00<00:00, 35.21it/s]\n"
          ]
        },
        {
          "output_type": "stream",
          "name": "stdout",
          "text": [
            "Finished Batch: \n",
            "Training Loss:  2.2633565584818522 Training Av. Accuracy:  0.20921052631578946\n",
            "EVALUATING\n"
          ]
        },
        {
          "output_type": "stream",
          "name": "stderr",
          "text": [
            "100%|██████████| 157/157 [00:02<00:00, 63.62it/s]\n"
          ]
        },
        {
          "output_type": "stream",
          "name": "stdout",
          "text": [
            "Validation Loss:  2.1275222286297257 Validation Av. Accuracy:  0.31339570063694266\n",
            "############ END DLR 0 MODEL 2 REP 1 ############\n",
            "\n",
            "\n",
            "MODEL 2 PARAMETER COUNT: 38306\n",
            "########### START DLR 0 MODEL 2 REP 2 ###########\n"
          ]
        },
        {
          "output_type": "stream",
          "name": "stderr",
          "text": [
            "100%|██████████| 30/30 [00:00<00:00, 58.27it/s]\n"
          ]
        },
        {
          "output_type": "stream",
          "name": "stdout",
          "text": [
            "Finished Batch: \n",
            "Training Loss:  2.1768762667973838 Training Av. Accuracy:  0.22439692982456141\n",
            "EVALUATING\n"
          ]
        },
        {
          "output_type": "stream",
          "name": "stderr",
          "text": [
            "100%|██████████| 157/157 [00:02<00:00, 64.84it/s]\n"
          ]
        },
        {
          "output_type": "stream",
          "name": "stdout",
          "text": [
            "Validation Loss:  1.808535524993945 Validation Av. Accuracy:  0.4434713375796178\n",
            "############ END DLR 0 MODEL 2 REP 2 ############\n",
            "\n",
            "\n",
            "MODEL 2 PARAMETER COUNT: 38306\n",
            "########### START DLR 0 MODEL 2 REP 3 ###########\n"
          ]
        },
        {
          "output_type": "stream",
          "name": "stderr",
          "text": [
            "100%|██████████| 30/30 [00:00<00:00, 60.07it/s]\n"
          ]
        },
        {
          "output_type": "stream",
          "name": "stdout",
          "text": [
            "Finished Batch: \n",
            "Training Loss:  2.201698537667592 Training Av. Accuracy:  0.2409813596491228\n",
            "EVALUATING\n"
          ]
        },
        {
          "output_type": "stream",
          "name": "stderr",
          "text": [
            "100%|██████████| 157/157 [00:02<00:00, 66.29it/s]\n"
          ]
        },
        {
          "output_type": "stream",
          "name": "stdout",
          "text": [
            "Validation Loss:  1.8744803439280031 Validation Av. Accuracy:  0.43451433121019106\n",
            "############ END DLR 0 MODEL 2 REP 3 ############\n",
            "\n",
            "\n",
            "MODEL 2 PARAMETER COUNT: 38306\n",
            "########### START DLR 0 MODEL 2 REP 4 ###########\n"
          ]
        },
        {
          "output_type": "stream",
          "name": "stderr",
          "text": [
            "100%|██████████| 30/30 [00:00<00:00, 60.05it/s]\n"
          ]
        },
        {
          "output_type": "stream",
          "name": "stdout",
          "text": [
            "Finished Batch: \n",
            "Training Loss:  1.9928681254386902 Training Av. Accuracy:  0.3894188596491228\n",
            "EVALUATING\n"
          ]
        },
        {
          "output_type": "stream",
          "name": "stderr",
          "text": [
            "100%|██████████| 157/157 [00:02<00:00, 55.06it/s]\n"
          ]
        },
        {
          "output_type": "stream",
          "name": "stdout",
          "text": [
            "Validation Loss:  1.359550329530315 Validation Av. Accuracy:  0.5723527070063694\n",
            "############ END DLR 0 MODEL 2 REP 4 ############\n",
            "\n",
            "\n",
            "MODEL 3 PARAMETER COUNT: 74657\n",
            "########### START DLR 0 MODEL 3 REP 0 ###########\n"
          ]
        },
        {
          "output_type": "stream",
          "name": "stderr",
          "text": [
            "100%|██████████| 30/30 [00:00<00:00, 36.90it/s]\n"
          ]
        },
        {
          "output_type": "stream",
          "name": "stdout",
          "text": [
            "Finished Batch: \n",
            "Training Loss:  2.1701858560244243 Training Av. Accuracy:  0.23116776315789475\n",
            "EVALUATING\n"
          ]
        },
        {
          "output_type": "stream",
          "name": "stderr",
          "text": [
            "100%|██████████| 157/157 [00:02<00:00, 55.06it/s]\n"
          ]
        },
        {
          "output_type": "stream",
          "name": "stdout",
          "text": [
            "Validation Loss:  1.7256215863926396 Validation Av. Accuracy:  0.429140127388535\n",
            "############ END DLR 0 MODEL 3 REP 0 ############\n",
            "\n",
            "\n",
            "MODEL 3 PARAMETER COUNT: 74657\n",
            "########### START DLR 0 MODEL 3 REP 1 ###########\n"
          ]
        },
        {
          "output_type": "stream",
          "name": "stderr",
          "text": [
            "100%|██████████| 30/30 [00:00<00:00, 61.96it/s]\n"
          ]
        },
        {
          "output_type": "stream",
          "name": "stdout",
          "text": [
            "Finished Batch: \n",
            "Training Loss:  1.8774151086807251 Training Av. Accuracy:  0.40646929824561406\n",
            "EVALUATING\n"
          ]
        },
        {
          "output_type": "stream",
          "name": "stderr",
          "text": [
            "100%|██████████| 157/157 [00:02<00:00, 58.57it/s]\n"
          ]
        },
        {
          "output_type": "stream",
          "name": "stdout",
          "text": [
            "Validation Loss:  1.0944310616535746 Validation Av. Accuracy:  0.6641122611464968\n",
            "############ END DLR 0 MODEL 3 REP 1 ############\n",
            "\n",
            "\n",
            "MODEL 3 PARAMETER COUNT: 74657\n",
            "########### START DLR 0 MODEL 3 REP 2 ###########\n"
          ]
        },
        {
          "output_type": "stream",
          "name": "stderr",
          "text": [
            "100%|██████████| 30/30 [00:00<00:00, 55.55it/s]\n"
          ]
        },
        {
          "output_type": "stream",
          "name": "stdout",
          "text": [
            "Finished Batch: \n",
            "Training Loss:  2.057010793685913 Training Av. Accuracy:  0.3103892543859649\n",
            "EVALUATING\n"
          ]
        },
        {
          "output_type": "stream",
          "name": "stderr",
          "text": [
            "100%|██████████| 157/157 [00:02<00:00, 62.15it/s]\n"
          ]
        },
        {
          "output_type": "stream",
          "name": "stdout",
          "text": [
            "Validation Loss:  1.3390935629036775 Validation Av. Accuracy:  0.6290804140127388\n",
            "############ END DLR 0 MODEL 3 REP 2 ############\n",
            "\n",
            "\n",
            "MODEL 3 PARAMETER COUNT: 74657\n",
            "########### START DLR 0 MODEL 3 REP 3 ###########\n"
          ]
        },
        {
          "output_type": "stream",
          "name": "stderr",
          "text": [
            "100%|██████████| 30/30 [00:00<00:00, 59.67it/s]\n"
          ]
        },
        {
          "output_type": "stream",
          "name": "stdout",
          "text": [
            "Finished Batch: \n",
            "Training Loss:  2.123041299978892 Training Av. Accuracy:  0.2478892543859649\n",
            "EVALUATING\n"
          ]
        },
        {
          "output_type": "stream",
          "name": "stderr",
          "text": [
            "100%|██████████| 157/157 [00:03<00:00, 51.34it/s]\n"
          ]
        },
        {
          "output_type": "stream",
          "name": "stdout",
          "text": [
            "Validation Loss:  1.5496057826242629 Validation Av. Accuracy:  0.5304538216560509\n",
            "############ END DLR 0 MODEL 3 REP 3 ############\n",
            "\n",
            "\n",
            "MODEL 3 PARAMETER COUNT: 74657\n",
            "########### START DLR 0 MODEL 3 REP 4 ###########\n"
          ]
        },
        {
          "output_type": "stream",
          "name": "stderr",
          "text": [
            "100%|██████████| 30/30 [00:00<00:00, 34.20it/s]\n"
          ]
        },
        {
          "output_type": "stream",
          "name": "stdout",
          "text": [
            "Finished Batch: \n",
            "Training Loss:  1.7443491419156392 Training Av. Accuracy:  0.4794407894736842\n",
            "EVALUATING\n"
          ]
        },
        {
          "output_type": "stream",
          "name": "stderr",
          "text": [
            "100%|██████████| 157/157 [00:02<00:00, 62.83it/s]\n"
          ]
        },
        {
          "output_type": "stream",
          "name": "stdout",
          "text": [
            "Validation Loss:  0.8593821933694706 Validation Av. Accuracy:  0.7306926751592356\n",
            "############ END DLR 0 MODEL 3 REP 4 ############\n",
            "\n",
            "\n",
            "MODEL 4 PARAMETER COUNT: 152775\n",
            "########### START DLR 0 MODEL 4 REP 0 ###########\n"
          ]
        },
        {
          "output_type": "stream",
          "name": "stderr",
          "text": [
            "100%|██████████| 30/30 [00:00<00:00, 55.56it/s]\n"
          ]
        },
        {
          "output_type": "stream",
          "name": "stdout",
          "text": [
            "Finished Batch: \n",
            "Training Loss:  1.8516721407572427 Training Av. Accuracy:  0.4201480263157895\n",
            "EVALUATING\n"
          ]
        },
        {
          "output_type": "stream",
          "name": "stderr",
          "text": [
            "100%|██████████| 157/157 [00:02<00:00, 64.47it/s]\n"
          ]
        },
        {
          "output_type": "stream",
          "name": "stdout",
          "text": [
            "Validation Loss:  0.8666395396943305 Validation Av. Accuracy:  0.7614450636942676\n",
            "############ END DLR 0 MODEL 4 REP 0 ############\n",
            "\n",
            "\n",
            "MODEL 4 PARAMETER COUNT: 152775\n",
            "########### START DLR 0 MODEL 4 REP 1 ###########\n"
          ]
        },
        {
          "output_type": "stream",
          "name": "stderr",
          "text": [
            "100%|██████████| 30/30 [00:00<00:00, 55.83it/s]\n"
          ]
        },
        {
          "output_type": "stream",
          "name": "stdout",
          "text": [
            "Finished Batch: \n",
            "Training Loss:  1.9365948597590128 Training Av. Accuracy:  0.3374451754385965\n",
            "EVALUATING\n"
          ]
        },
        {
          "output_type": "stream",
          "name": "stderr",
          "text": [
            "100%|██████████| 157/157 [00:02<00:00, 64.68it/s]\n"
          ]
        },
        {
          "output_type": "stream",
          "name": "stdout",
          "text": [
            "Validation Loss:  1.1227611656401568 Validation Av. Accuracy:  0.6712778662420382\n",
            "############ END DLR 0 MODEL 4 REP 1 ############\n",
            "\n",
            "\n",
            "MODEL 4 PARAMETER COUNT: 152775\n",
            "########### START DLR 0 MODEL 4 REP 2 ###########\n"
          ]
        },
        {
          "output_type": "stream",
          "name": "stderr",
          "text": [
            "100%|██████████| 30/30 [00:00<00:00, 57.37it/s]\n"
          ]
        },
        {
          "output_type": "stream",
          "name": "stdout",
          "text": [
            "Finished Batch: \n",
            "Training Loss:  1.6718620757261913 Training Av. Accuracy:  0.47689144736842104\n",
            "EVALUATING\n"
          ]
        },
        {
          "output_type": "stream",
          "name": "stderr",
          "text": [
            "100%|██████████| 157/157 [00:03<00:00, 49.12it/s]\n"
          ]
        },
        {
          "output_type": "stream",
          "name": "stdout",
          "text": [
            "Validation Loss:  0.950880322866379 Validation Av. Accuracy:  0.6760549363057324\n",
            "############ END DLR 0 MODEL 4 REP 2 ############\n",
            "\n",
            "\n",
            "MODEL 4 PARAMETER COUNT: 152775\n",
            "########### START DLR 0 MODEL 4 REP 3 ###########\n"
          ]
        },
        {
          "output_type": "stream",
          "name": "stderr",
          "text": [
            "100%|██████████| 30/30 [00:00<00:00, 35.03it/s]\n"
          ]
        },
        {
          "output_type": "stream",
          "name": "stdout",
          "text": [
            "Finished Batch: \n",
            "Training Loss:  1.8305059750874837 Training Av. Accuracy:  0.4239857456140351\n",
            "EVALUATING\n"
          ]
        },
        {
          "output_type": "stream",
          "name": "stderr",
          "text": [
            "100%|██████████| 157/157 [00:02<00:00, 56.08it/s]\n"
          ]
        },
        {
          "output_type": "stream",
          "name": "stdout",
          "text": [
            "Validation Loss:  1.0081137870527377 Validation Av. Accuracy:  0.6487858280254777\n",
            "############ END DLR 0 MODEL 4 REP 3 ############\n",
            "\n",
            "\n",
            "MODEL 4 PARAMETER COUNT: 152775\n",
            "########### START DLR 0 MODEL 4 REP 4 ###########\n"
          ]
        },
        {
          "output_type": "stream",
          "name": "stderr",
          "text": [
            "100%|██████████| 30/30 [00:00<00:00, 50.39it/s]\n"
          ]
        },
        {
          "output_type": "stream",
          "name": "stdout",
          "text": [
            "Finished Batch: \n",
            "Training Loss:  1.9925402402877808 Training Av. Accuracy:  0.31526864035087715\n",
            "EVALUATING\n"
          ]
        },
        {
          "output_type": "stream",
          "name": "stderr",
          "text": [
            "100%|██████████| 157/157 [00:02<00:00, 58.02it/s]\n"
          ]
        },
        {
          "output_type": "stream",
          "name": "stdout",
          "text": [
            "Validation Loss:  1.1273444845418261 Validation Av. Accuracy:  0.6821257961783439\n",
            "############ END DLR 0 MODEL 4 REP 4 ############\n",
            "\n",
            "\n",
            "MODEL 5 PARAMETER COUNT: 308236\n",
            "########### START DLR 0 MODEL 5 REP 0 ###########\n"
          ]
        },
        {
          "output_type": "stream",
          "name": "stderr",
          "text": [
            "100%|██████████| 30/30 [00:00<00:00, 58.83it/s]\n"
          ]
        },
        {
          "output_type": "stream",
          "name": "stdout",
          "text": [
            "Finished Batch: \n",
            "Training Loss:  1.6515226105848948 Training Av. Accuracy:  0.46258223684210525\n",
            "EVALUATING\n"
          ]
        },
        {
          "output_type": "stream",
          "name": "stderr",
          "text": [
            "100%|██████████| 157/157 [00:02<00:00, 65.56it/s]\n"
          ]
        },
        {
          "output_type": "stream",
          "name": "stdout",
          "text": [
            "Validation Loss:  0.7719249755713591 Validation Av. Accuracy:  0.7102906050955414\n",
            "############ END DLR 0 MODEL 5 REP 0 ############\n",
            "\n",
            "\n",
            "MODEL 5 PARAMETER COUNT: 308236\n",
            "########### START DLR 0 MODEL 5 REP 1 ###########\n"
          ]
        },
        {
          "output_type": "stream",
          "name": "stderr",
          "text": [
            "100%|██████████| 30/30 [00:00<00:00, 58.32it/s]\n"
          ]
        },
        {
          "output_type": "stream",
          "name": "stdout",
          "text": [
            "Finished Batch: \n",
            "Training Loss:  1.7542529861132303 Training Av. Accuracy:  0.41414473684210523\n",
            "EVALUATING\n"
          ]
        },
        {
          "output_type": "stream",
          "name": "stderr",
          "text": [
            "100%|██████████| 157/157 [00:03<00:00, 42.96it/s]\n"
          ]
        },
        {
          "output_type": "stream",
          "name": "stdout",
          "text": [
            "Validation Loss:  1.0238651344730596 Validation Av. Accuracy:  0.6602308917197452\n",
            "############ END DLR 0 MODEL 5 REP 1 ############\n",
            "\n",
            "\n",
            "MODEL 5 PARAMETER COUNT: 308236\n",
            "########### START DLR 0 MODEL 5 REP 2 ###########\n"
          ]
        },
        {
          "output_type": "stream",
          "name": "stderr",
          "text": [
            "100%|██████████| 30/30 [00:00<00:00, 50.87it/s]\n"
          ]
        },
        {
          "output_type": "stream",
          "name": "stdout",
          "text": [
            "Finished Batch: \n",
            "Training Loss:  1.5224521994590758 Training Av. Accuracy:  0.48700657894736843\n",
            "EVALUATING\n"
          ]
        },
        {
          "output_type": "stream",
          "name": "stderr",
          "text": [
            "100%|██████████| 157/157 [00:02<00:00, 67.06it/s]\n"
          ]
        },
        {
          "output_type": "stream",
          "name": "stdout",
          "text": [
            "Validation Loss:  0.7290181528990436 Validation Av. Accuracy:  0.7436305732484076\n",
            "############ END DLR 0 MODEL 5 REP 2 ############\n",
            "\n",
            "\n",
            "MODEL 5 PARAMETER COUNT: 308236\n",
            "########### START DLR 0 MODEL 5 REP 3 ###########\n"
          ]
        },
        {
          "output_type": "stream",
          "name": "stderr",
          "text": [
            "100%|██████████| 30/30 [00:00<00:00, 56.12it/s]\n"
          ]
        },
        {
          "output_type": "stream",
          "name": "stdout",
          "text": [
            "Finished Batch: \n",
            "Training Loss:  1.7209099014600118 Training Av. Accuracy:  0.44402412280701753\n",
            "EVALUATING\n"
          ]
        },
        {
          "output_type": "stream",
          "name": "stderr",
          "text": [
            "100%|██████████| 157/157 [00:02<00:00, 66.32it/s]\n"
          ]
        },
        {
          "output_type": "stream",
          "name": "stdout",
          "text": [
            "Validation Loss:  0.9532991249090547 Validation Av. Accuracy:  0.6529657643312102\n",
            "############ END DLR 0 MODEL 5 REP 3 ############\n",
            "\n",
            "\n",
            "MODEL 5 PARAMETER COUNT: 308236\n",
            "########### START DLR 0 MODEL 5 REP 4 ###########\n"
          ]
        },
        {
          "output_type": "stream",
          "name": "stderr",
          "text": [
            "100%|██████████| 30/30 [00:00<00:00, 56.80it/s]\n"
          ]
        },
        {
          "output_type": "stream",
          "name": "stdout",
          "text": [
            "Finished Batch: \n",
            "Training Loss:  1.6290163199106853 Training Av. Accuracy:  0.45079495614035087\n",
            "EVALUATING\n"
          ]
        },
        {
          "output_type": "stream",
          "name": "stderr",
          "text": [
            "100%|██████████| 157/157 [00:02<00:00, 65.37it/s]\n"
          ]
        },
        {
          "output_type": "stream",
          "name": "stdout",
          "text": [
            "Validation Loss:  0.82662185096437 Validation Av. Accuracy:  0.7100915605095541\n",
            "############ END DLR 0 MODEL 5 REP 4 ############\n",
            "\n",
            "\n",
            "MODEL 0 PARAMETER COUNT: 9798\n",
            "########### START DLR 1 MODEL 0 REP 0 ###########\n"
          ]
        },
        {
          "output_type": "stream",
          "name": "stderr",
          "text": [
            " 92%|█████████▏| 54/59 [00:01<00:00, 54.32it/s]/usr/local/lib/python3.10/dist-packages/torch/nn/modules/conv.py:456: UserWarning:\n",
            "\n",
            "Plan failed with a cudnnException: CUDNN_BACKEND_EXECUTION_PLAN_DESCRIPTOR: cudnnFinalize Descriptor Failed cudnn_status: CUDNN_STATUS_NOT_SUPPORTED (Triggered internally at ../aten/src/ATen/native/cudnn/Conv_v8.cpp:919.)\n",
            "\n",
            "100%|██████████| 59/59 [00:01<00:00, 53.72it/s]\n"
          ]
        },
        {
          "output_type": "stream",
          "name": "stdout",
          "text": [
            "Finished Batch: \n",
            "Training Loss:  2.033479191489139 Training Av. Accuracy:  0.31736451828724355\n",
            "EVALUATING\n"
          ]
        },
        {
          "output_type": "stream",
          "name": "stderr",
          "text": [
            "100%|██████████| 157/157 [00:03<00:00, 42.45it/s]\n"
          ]
        },
        {
          "output_type": "stream",
          "name": "stdout",
          "text": [
            "Validation Loss:  1.2338133549234669 Validation Av. Accuracy:  0.5930533439490446\n",
            "############ END DLR 1 MODEL 0 REP 0 ############\n",
            "\n",
            "\n",
            "MODEL 0 PARAMETER COUNT: 9798\n",
            "########### START DLR 1 MODEL 0 REP 1 ###########\n"
          ]
        },
        {
          "output_type": "stream",
          "name": "stderr",
          "text": [
            "100%|██████████| 59/59 [00:01<00:00, 52.56it/s]\n"
          ]
        },
        {
          "output_type": "stream",
          "name": "stdout",
          "text": [
            "Finished Batch: \n",
            "Training Loss:  2.0673885911197987 Training Av. Accuracy:  0.2857521186440678\n",
            "EVALUATING\n"
          ]
        },
        {
          "output_type": "stream",
          "name": "stderr",
          "text": [
            "100%|██████████| 157/157 [00:02<00:00, 59.36it/s]\n"
          ]
        },
        {
          "output_type": "stream",
          "name": "stdout",
          "text": [
            "Validation Loss:  1.3873137053410718 Validation Av. Accuracy:  0.5498606687898089\n",
            "############ END DLR 1 MODEL 0 REP 1 ############\n",
            "\n",
            "\n",
            "MODEL 0 PARAMETER COUNT: 9798\n",
            "########### START DLR 1 MODEL 0 REP 2 ###########\n"
          ]
        },
        {
          "output_type": "stream",
          "name": "stderr",
          "text": [
            "100%|██████████| 59/59 [00:01<00:00, 35.19it/s]\n"
          ]
        },
        {
          "output_type": "stream",
          "name": "stdout",
          "text": [
            "Finished Batch: \n",
            "Training Loss:  1.772398366766461 Training Av. Accuracy:  0.37724409009812665\n",
            "EVALUATING\n"
          ]
        },
        {
          "output_type": "stream",
          "name": "stderr",
          "text": [
            "100%|██████████| 157/157 [00:02<00:00, 59.27it/s]\n"
          ]
        },
        {
          "output_type": "stream",
          "name": "stdout",
          "text": [
            "Validation Loss:  0.8136359445608345 Validation Av. Accuracy:  0.7742834394904459\n",
            "############ END DLR 1 MODEL 0 REP 2 ############\n",
            "\n",
            "\n",
            "MODEL 0 PARAMETER COUNT: 9798\n",
            "########### START DLR 1 MODEL 0 REP 3 ###########\n"
          ]
        },
        {
          "output_type": "stream",
          "name": "stderr",
          "text": [
            "100%|██████████| 59/59 [00:01<00:00, 54.06it/s]\n"
          ]
        },
        {
          "output_type": "stream",
          "name": "stdout",
          "text": [
            "Finished Batch: \n",
            "Training Loss:  1.9337305941824185 Training Av. Accuracy:  0.36042038358608386\n",
            "EVALUATING\n"
          ]
        },
        {
          "output_type": "stream",
          "name": "stderr",
          "text": [
            "100%|██████████| 157/157 [00:03<00:00, 45.37it/s]\n"
          ]
        },
        {
          "output_type": "stream",
          "name": "stdout",
          "text": [
            "Validation Loss:  1.1946403889139747 Validation Av. Accuracy:  0.6006170382165605\n",
            "############ END DLR 1 MODEL 0 REP 3 ############\n",
            "\n",
            "\n",
            "MODEL 0 PARAMETER COUNT: 9798\n",
            "########### START DLR 1 MODEL 0 REP 4 ###########\n"
          ]
        },
        {
          "output_type": "stream",
          "name": "stderr",
          "text": [
            "100%|██████████| 59/59 [00:01<00:00, 36.21it/s]\n"
          ]
        },
        {
          "output_type": "stream",
          "name": "stdout",
          "text": [
            "Finished Batch: \n",
            "Training Loss:  1.917956992731256 Training Av. Accuracy:  0.34377787689562894\n",
            "EVALUATING\n"
          ]
        },
        {
          "output_type": "stream",
          "name": "stderr",
          "text": [
            "100%|██████████| 157/157 [00:02<00:00, 60.21it/s]\n"
          ]
        },
        {
          "output_type": "stream",
          "name": "stdout",
          "text": [
            "Validation Loss:  1.030726053152874 Validation Av. Accuracy:  0.6922770700636943\n",
            "############ END DLR 1 MODEL 0 REP 4 ############\n",
            "\n",
            "\n",
            "MODEL 1 PARAMETER COUNT: 20245\n",
            "########### START DLR 1 MODEL 1 REP 0 ###########\n"
          ]
        },
        {
          "output_type": "stream",
          "name": "stderr",
          "text": [
            "100%|██████████| 59/59 [00:01<00:00, 55.15it/s]\n"
          ]
        },
        {
          "output_type": "stream",
          "name": "stdout",
          "text": [
            "Finished Batch: \n",
            "Training Loss:  1.6693056862233049 Training Av. Accuracy:  0.4817685102586976\n",
            "EVALUATING\n"
          ]
        },
        {
          "output_type": "stream",
          "name": "stderr",
          "text": [
            "100%|██████████| 157/157 [00:02<00:00, 60.37it/s]\n"
          ]
        },
        {
          "output_type": "stream",
          "name": "stdout",
          "text": [
            "Validation Loss:  0.7616621451393054 Validation Av. Accuracy:  0.778562898089172\n",
            "############ END DLR 1 MODEL 1 REP 0 ############\n",
            "\n",
            "\n",
            "MODEL 1 PARAMETER COUNT: 20245\n",
            "########### START DLR 1 MODEL 1 REP 1 ###########\n"
          ]
        },
        {
          "output_type": "stream",
          "name": "stderr",
          "text": [
            "100%|██████████| 59/59 [00:01<00:00, 53.67it/s]\n"
          ]
        },
        {
          "output_type": "stream",
          "name": "stdout",
          "text": [
            "Finished Batch: \n",
            "Training Loss:  1.8568025393001104 Training Av. Accuracy:  0.394360504014273\n",
            "EVALUATING\n"
          ]
        },
        {
          "output_type": "stream",
          "name": "stderr",
          "text": [
            "100%|██████████| 157/157 [00:03<00:00, 48.87it/s]\n"
          ]
        },
        {
          "output_type": "stream",
          "name": "stdout",
          "text": [
            "Validation Loss:  0.9172412597449722 Validation Av. Accuracy:  0.7047173566878981\n",
            "############ END DLR 1 MODEL 1 REP 1 ############\n",
            "\n",
            "\n",
            "MODEL 1 PARAMETER COUNT: 20245\n",
            "########### START DLR 1 MODEL 1 REP 2 ###########\n"
          ]
        },
        {
          "output_type": "stream",
          "name": "stderr",
          "text": [
            "100%|██████████| 59/59 [00:01<00:00, 38.27it/s]\n"
          ]
        },
        {
          "output_type": "stream",
          "name": "stdout",
          "text": [
            "Finished Batch: \n",
            "Training Loss:  1.6508747167506461 Training Av. Accuracy:  0.45007247992863514\n",
            "EVALUATING\n"
          ]
        },
        {
          "output_type": "stream",
          "name": "stderr",
          "text": [
            "100%|██████████| 157/157 [00:02<00:00, 62.63it/s]\n"
          ]
        },
        {
          "output_type": "stream",
          "name": "stdout",
          "text": [
            "Validation Loss:  0.8229352812858144 Validation Av. Accuracy:  0.7449243630573248\n",
            "############ END DLR 1 MODEL 1 REP 2 ############\n",
            "\n",
            "\n",
            "MODEL 1 PARAMETER COUNT: 20245\n",
            "########### START DLR 1 MODEL 1 REP 3 ###########\n"
          ]
        },
        {
          "output_type": "stream",
          "name": "stderr",
          "text": [
            "100%|██████████| 59/59 [00:01<00:00, 53.63it/s]\n"
          ]
        },
        {
          "output_type": "stream",
          "name": "stdout",
          "text": [
            "Finished Batch: \n",
            "Training Loss:  1.9878174147363437 Training Av. Accuracy:  0.30218554861730595\n",
            "EVALUATING\n"
          ]
        },
        {
          "output_type": "stream",
          "name": "stderr",
          "text": [
            "100%|██████████| 157/157 [00:02<00:00, 60.97it/s]\n"
          ]
        },
        {
          "output_type": "stream",
          "name": "stdout",
          "text": [
            "Validation Loss:  1.140475535848338 Validation Av. Accuracy:  0.5980294585987261\n",
            "############ END DLR 1 MODEL 1 REP 3 ############\n",
            "\n",
            "\n",
            "MODEL 1 PARAMETER COUNT: 20245\n",
            "########### START DLR 1 MODEL 1 REP 4 ###########\n"
          ]
        },
        {
          "output_type": "stream",
          "name": "stderr",
          "text": [
            "100%|██████████| 59/59 [00:01<00:00, 33.38it/s]\n"
          ]
        },
        {
          "output_type": "stream",
          "name": "stdout",
          "text": [
            "Finished Batch: \n",
            "Training Loss:  1.8783947734509485 Training Av. Accuracy:  0.3596677074041035\n",
            "EVALUATING\n"
          ]
        },
        {
          "output_type": "stream",
          "name": "stderr",
          "text": [
            "100%|██████████| 157/157 [00:07<00:00, 22.12it/s]\n"
          ]
        },
        {
          "output_type": "stream",
          "name": "stdout",
          "text": [
            "Validation Loss:  0.9859845300388944 Validation Av. Accuracy:  0.6896894904458599\n",
            "############ END DLR 1 MODEL 1 REP 4 ############\n",
            "\n",
            "\n",
            "MODEL 2 PARAMETER COUNT: 38306\n",
            "########### START DLR 1 MODEL 2 REP 0 ###########\n"
          ]
        },
        {
          "output_type": "stream",
          "name": "stderr",
          "text": [
            "100%|██████████| 59/59 [00:02<00:00, 21.53it/s]\n"
          ]
        },
        {
          "output_type": "stream",
          "name": "stdout",
          "text": [
            "Finished Batch: \n",
            "Training Loss:  1.6859268849178897 Training Av. Accuracy:  0.4359528322925959\n",
            "EVALUATING\n"
          ]
        },
        {
          "output_type": "stream",
          "name": "stderr",
          "text": [
            "100%|██████████| 157/157 [00:03<00:00, 52.26it/s]\n"
          ]
        },
        {
          "output_type": "stream",
          "name": "stdout",
          "text": [
            "Validation Loss:  0.7460643098612499 Validation Av. Accuracy:  0.7585589171974523\n",
            "############ END DLR 1 MODEL 2 REP 0 ############\n",
            "\n",
            "\n",
            "MODEL 2 PARAMETER COUNT: 38306\n",
            "########### START DLR 1 MODEL 2 REP 1 ###########\n"
          ]
        },
        {
          "output_type": "stream",
          "name": "stderr",
          "text": [
            "100%|██████████| 59/59 [00:01<00:00, 52.68it/s]\n"
          ]
        },
        {
          "output_type": "stream",
          "name": "stdout",
          "text": [
            "Finished Batch: \n",
            "Training Loss:  1.460905241764198 Training Av. Accuracy:  0.5254934210526316\n",
            "EVALUATING\n"
          ]
        },
        {
          "output_type": "stream",
          "name": "stderr",
          "text": [
            "100%|██████████| 157/157 [00:02<00:00, 57.12it/s]\n"
          ]
        },
        {
          "output_type": "stream",
          "name": "stdout",
          "text": [
            "Validation Loss:  0.634106169081038 Validation Av. Accuracy:  0.805234872611465\n",
            "############ END DLR 1 MODEL 2 REP 1 ############\n",
            "\n",
            "\n",
            "MODEL 2 PARAMETER COUNT: 38306\n",
            "########### START DLR 1 MODEL 2 REP 2 ###########\n"
          ]
        },
        {
          "output_type": "stream",
          "name": "stderr",
          "text": [
            "100%|██████████| 59/59 [00:01<00:00, 36.79it/s]\n"
          ]
        },
        {
          "output_type": "stream",
          "name": "stdout",
          "text": [
            "Finished Batch: \n",
            "Training Loss:  1.5117650587679976 Training Av. Accuracy:  0.4898249330954505\n",
            "EVALUATING\n"
          ]
        },
        {
          "output_type": "stream",
          "name": "stderr",
          "text": [
            "100%|██████████| 157/157 [00:02<00:00, 56.42it/s]\n"
          ]
        },
        {
          "output_type": "stream",
          "name": "stdout",
          "text": [
            "Validation Loss:  0.6521554678488689 Validation Av. Accuracy:  0.7925955414012739\n",
            "############ END DLR 1 MODEL 2 REP 2 ############\n",
            "\n",
            "\n",
            "MODEL 2 PARAMETER COUNT: 38306\n",
            "########### START DLR 1 MODEL 2 REP 3 ###########\n"
          ]
        },
        {
          "output_type": "stream",
          "name": "stderr",
          "text": [
            "100%|██████████| 59/59 [00:01<00:00, 55.95it/s]\n"
          ]
        },
        {
          "output_type": "stream",
          "name": "stdout",
          "text": [
            "Finished Batch: \n",
            "Training Loss:  1.7940818738129178 Training Av. Accuracy:  0.3710693577163247\n",
            "EVALUATING\n"
          ]
        },
        {
          "output_type": "stream",
          "name": "stderr",
          "text": [
            "100%|██████████| 157/157 [00:02<00:00, 62.79it/s]\n"
          ]
        },
        {
          "output_type": "stream",
          "name": "stdout",
          "text": [
            "Validation Loss:  0.842226160939332 Validation Av. Accuracy:  0.7218351910828026\n",
            "############ END DLR 1 MODEL 2 REP 3 ############\n",
            "\n",
            "\n",
            "MODEL 2 PARAMETER COUNT: 38306\n",
            "########### START DLR 1 MODEL 2 REP 4 ###########\n"
          ]
        },
        {
          "output_type": "stream",
          "name": "stderr",
          "text": [
            "100%|██████████| 59/59 [00:01<00:00, 52.99it/s]\n"
          ]
        },
        {
          "output_type": "stream",
          "name": "stdout",
          "text": [
            "Finished Batch: \n",
            "Training Loss:  1.9073612093925476 Training Av. Accuracy:  0.3423840321141838\n",
            "EVALUATING\n"
          ]
        },
        {
          "output_type": "stream",
          "name": "stderr",
          "text": [
            "100%|██████████| 157/157 [00:02<00:00, 59.51it/s]\n"
          ]
        },
        {
          "output_type": "stream",
          "name": "stdout",
          "text": [
            "Validation Loss:  0.9447680066345604 Validation Av. Accuracy:  0.7119824840764332\n",
            "############ END DLR 1 MODEL 2 REP 4 ############\n",
            "\n",
            "\n",
            "MODEL 3 PARAMETER COUNT: 74657\n",
            "########### START DLR 1 MODEL 3 REP 0 ###########\n"
          ]
        },
        {
          "output_type": "stream",
          "name": "stderr",
          "text": [
            "100%|██████████| 59/59 [00:01<00:00, 42.51it/s]\n"
          ]
        },
        {
          "output_type": "stream",
          "name": "stdout",
          "text": [
            "Finished Batch: \n",
            "Training Loss:  1.4172816488702418 Training Av. Accuracy:  0.509324821587868\n",
            "EVALUATING\n"
          ]
        },
        {
          "output_type": "stream",
          "name": "stderr",
          "text": [
            "100%|██████████| 157/157 [00:03<00:00, 48.82it/s]\n"
          ]
        },
        {
          "output_type": "stream",
          "name": "stdout",
          "text": [
            "Validation Loss:  0.6613765725284625 Validation Av. Accuracy:  0.7652269108280255\n",
            "############ END DLR 1 MODEL 3 REP 0 ############\n",
            "\n",
            "\n",
            "MODEL 3 PARAMETER COUNT: 74657\n",
            "########### START DLR 1 MODEL 3 REP 1 ###########\n"
          ]
        },
        {
          "output_type": "stream",
          "name": "stderr",
          "text": [
            "100%|██████████| 59/59 [00:01<00:00, 52.56it/s]\n"
          ]
        },
        {
          "output_type": "stream",
          "name": "stdout",
          "text": [
            "Finished Batch: \n",
            "Training Loss:  1.3339837991585166 Training Av. Accuracy:  0.5777347234611954\n",
            "EVALUATING\n"
          ]
        },
        {
          "output_type": "stream",
          "name": "stderr",
          "text": [
            "100%|██████████| 157/157 [00:03<00:00, 45.66it/s]\n"
          ]
        },
        {
          "output_type": "stream",
          "name": "stdout",
          "text": [
            "Validation Loss:  0.47889476596929464 Validation Av. Accuracy:  0.8495222929936306\n",
            "############ END DLR 1 MODEL 3 REP 1 ############\n",
            "\n",
            "\n",
            "MODEL 3 PARAMETER COUNT: 74657\n",
            "########### START DLR 1 MODEL 3 REP 2 ###########\n"
          ]
        },
        {
          "output_type": "stream",
          "name": "stderr",
          "text": [
            "100%|██████████| 59/59 [00:01<00:00, 45.71it/s]\n"
          ]
        },
        {
          "output_type": "stream",
          "name": "stdout",
          "text": [
            "Finished Batch: \n",
            "Training Loss:  1.5965835361157434 Training Av. Accuracy:  0.4593276092774309\n",
            "EVALUATING\n"
          ]
        },
        {
          "output_type": "stream",
          "name": "stderr",
          "text": [
            "100%|██████████| 157/157 [00:04<00:00, 33.65it/s]\n"
          ]
        },
        {
          "output_type": "stream",
          "name": "stdout",
          "text": [
            "Validation Loss:  0.702654948090292 Validation Av. Accuracy:  0.7452229299363057\n",
            "############ END DLR 1 MODEL 3 REP 2 ############\n",
            "\n",
            "\n",
            "MODEL 3 PARAMETER COUNT: 74657\n",
            "########### START DLR 1 MODEL 3 REP 3 ###########\n"
          ]
        },
        {
          "output_type": "stream",
          "name": "stderr",
          "text": [
            "100%|██████████| 59/59 [00:01<00:00, 32.79it/s]\n"
          ]
        },
        {
          "output_type": "stream",
          "name": "stdout",
          "text": [
            "Finished Batch: \n",
            "Training Loss:  1.477458721500332 Training Av. Accuracy:  0.5064953166815344\n",
            "EVALUATING\n"
          ]
        },
        {
          "output_type": "stream",
          "name": "stderr",
          "text": [
            "100%|██████████| 157/157 [00:03<00:00, 41.79it/s]\n"
          ]
        },
        {
          "output_type": "stream",
          "name": "stdout",
          "text": [
            "Validation Loss:  0.6625590345282464 Validation Av. Accuracy:  0.8097133757961783\n",
            "############ END DLR 1 MODEL 3 REP 3 ############\n",
            "\n",
            "\n",
            "MODEL 3 PARAMETER COUNT: 74657\n",
            "########### START DLR 1 MODEL 3 REP 4 ###########\n"
          ]
        },
        {
          "output_type": "stream",
          "name": "stderr",
          "text": [
            "100%|██████████| 59/59 [00:01<00:00, 42.85it/s]\n"
          ]
        },
        {
          "output_type": "stream",
          "name": "stdout",
          "text": [
            "Finished Batch: \n",
            "Training Loss:  1.5206063723160048 Training Av. Accuracy:  0.47877174397859057\n",
            "EVALUATING\n"
          ]
        },
        {
          "output_type": "stream",
          "name": "stderr",
          "text": [
            "100%|██████████| 157/157 [00:04<00:00, 37.28it/s]\n"
          ]
        },
        {
          "output_type": "stream",
          "name": "stdout",
          "text": [
            "Validation Loss:  0.6991709387226469 Validation Av. Accuracy:  0.756468949044586\n",
            "############ END DLR 1 MODEL 3 REP 4 ############\n",
            "\n",
            "\n",
            "MODEL 4 PARAMETER COUNT: 152775\n",
            "########### START DLR 1 MODEL 4 REP 0 ###########\n"
          ]
        },
        {
          "output_type": "stream",
          "name": "stderr",
          "text": [
            "100%|██████████| 59/59 [00:02<00:00, 23.22it/s]\n"
          ]
        },
        {
          "output_type": "stream",
          "name": "stdout",
          "text": [
            "Finished Batch: \n",
            "Training Loss:  1.2387980591442624 Training Av. Accuracy:  0.6051237734165923\n",
            "EVALUATING\n"
          ]
        },
        {
          "output_type": "stream",
          "name": "stderr",
          "text": [
            "100%|██████████| 157/157 [00:03<00:00, 49.29it/s]\n"
          ]
        },
        {
          "output_type": "stream",
          "name": "stdout",
          "text": [
            "Validation Loss:  0.47480582355693646 Validation Av. Accuracy:  0.8512141719745223\n",
            "############ END DLR 1 MODEL 4 REP 0 ############\n",
            "\n",
            "\n",
            "MODEL 4 PARAMETER COUNT: 152775\n",
            "########### START DLR 1 MODEL 4 REP 1 ###########\n"
          ]
        },
        {
          "output_type": "stream",
          "name": "stderr",
          "text": [
            "100%|██████████| 59/59 [00:01<00:00, 50.30it/s]\n"
          ]
        },
        {
          "output_type": "stream",
          "name": "stdout",
          "text": [
            "Finished Batch: \n",
            "Training Loss:  1.313783590571355 Training Av. Accuracy:  0.5586669268510259\n",
            "EVALUATING\n"
          ]
        },
        {
          "output_type": "stream",
          "name": "stderr",
          "text": [
            "100%|██████████| 157/157 [00:03<00:00, 47.09it/s]\n"
          ]
        },
        {
          "output_type": "stream",
          "name": "stdout",
          "text": [
            "Validation Loss:  0.5433364189734124 Validation Av. Accuracy:  0.8302149681528662\n",
            "############ END DLR 1 MODEL 4 REP 1 ############\n",
            "\n",
            "\n",
            "MODEL 4 PARAMETER COUNT: 152775\n",
            "########### START DLR 1 MODEL 4 REP 2 ###########\n"
          ]
        },
        {
          "output_type": "stream",
          "name": "stderr",
          "text": [
            "100%|██████████| 59/59 [00:01<00:00, 46.19it/s]\n"
          ]
        },
        {
          "output_type": "stream",
          "name": "stdout",
          "text": [
            "Finished Batch: \n",
            "Training Loss:  1.2165072620925257 Training Av. Accuracy:  0.6033535905441569\n",
            "EVALUATING\n"
          ]
        },
        {
          "output_type": "stream",
          "name": "stderr",
          "text": [
            "100%|██████████| 157/157 [00:03<00:00, 39.33it/s]\n"
          ]
        },
        {
          "output_type": "stream",
          "name": "stdout",
          "text": [
            "Validation Loss:  0.46179608526123556 Validation Av. Accuracy:  0.8616640127388535\n",
            "############ END DLR 1 MODEL 4 REP 2 ############\n",
            "\n",
            "\n",
            "MODEL 4 PARAMETER COUNT: 152775\n",
            "########### START DLR 1 MODEL 4 REP 3 ###########\n"
          ]
        },
        {
          "output_type": "stream",
          "name": "stderr",
          "text": [
            "100%|██████████| 59/59 [00:01<00:00, 34.33it/s]\n"
          ]
        },
        {
          "output_type": "stream",
          "name": "stdout",
          "text": [
            "Finished Batch: \n",
            "Training Loss:  1.2838939660686557 Training Av. Accuracy:  0.5760481712756468\n",
            "EVALUATING\n"
          ]
        },
        {
          "output_type": "stream",
          "name": "stderr",
          "text": [
            "100%|██████████| 157/157 [00:03<00:00, 41.58it/s]\n"
          ]
        },
        {
          "output_type": "stream",
          "name": "stdout",
          "text": [
            "Validation Loss:  0.5393993491010302 Validation Av. Accuracy:  0.8226512738853503\n",
            "############ END DLR 1 MODEL 4 REP 3 ############\n",
            "\n",
            "\n",
            "MODEL 4 PARAMETER COUNT: 152775\n",
            "########### START DLR 1 MODEL 4 REP 4 ###########\n"
          ]
        },
        {
          "output_type": "stream",
          "name": "stderr",
          "text": [
            "100%|██████████| 59/59 [00:01<00:00, 50.86it/s]\n"
          ]
        },
        {
          "output_type": "stream",
          "name": "stdout",
          "text": [
            "Finished Batch: \n",
            "Training Loss:  1.2922854943800781 Training Av. Accuracy:  0.5538163470115968\n",
            "EVALUATING\n"
          ]
        },
        {
          "output_type": "stream",
          "name": "stderr",
          "text": [
            "100%|██████████| 157/157 [00:03<00:00, 49.36it/s]\n"
          ]
        },
        {
          "output_type": "stream",
          "name": "stdout",
          "text": [
            "Validation Loss:  0.5421080813286411 Validation Av. Accuracy:  0.832703025477707\n",
            "############ END DLR 1 MODEL 4 REP 4 ############\n",
            "\n",
            "\n",
            "MODEL 5 PARAMETER COUNT: 308236\n",
            "########### START DLR 1 MODEL 5 REP 0 ###########\n"
          ]
        },
        {
          "output_type": "stream",
          "name": "stderr",
          "text": [
            "100%|██████████| 59/59 [00:01<00:00, 44.39it/s]\n"
          ]
        },
        {
          "output_type": "stream",
          "name": "stdout",
          "text": [
            "Finished Batch: \n",
            "Training Loss:  1.172874922974635 Training Av. Accuracy:  0.6041480820695807\n",
            "EVALUATING\n"
          ]
        },
        {
          "output_type": "stream",
          "name": "stderr",
          "text": [
            "100%|██████████| 157/157 [00:05<00:00, 30.47it/s]\n"
          ]
        },
        {
          "output_type": "stream",
          "name": "stdout",
          "text": [
            "Validation Loss:  0.41813027346210113 Validation Av. Accuracy:  0.8782842356687898\n",
            "############ END DLR 1 MODEL 5 REP 0 ############\n",
            "\n",
            "\n",
            "MODEL 5 PARAMETER COUNT: 308236\n",
            "########### START DLR 1 MODEL 5 REP 1 ###########\n"
          ]
        },
        {
          "output_type": "stream",
          "name": "stderr",
          "text": [
            "100%|██████████| 59/59 [00:01<00:00, 50.51it/s]\n"
          ]
        },
        {
          "output_type": "stream",
          "name": "stdout",
          "text": [
            "Finished Batch: \n",
            "Training Loss:  1.1857914060859356 Training Av. Accuracy:  0.5907253568242641\n",
            "EVALUATING\n"
          ]
        },
        {
          "output_type": "stream",
          "name": "stderr",
          "text": [
            "100%|██████████| 157/157 [00:03<00:00, 42.71it/s]\n"
          ]
        },
        {
          "output_type": "stream",
          "name": "stdout",
          "text": [
            "Validation Loss:  0.571982924915423 Validation Av. Accuracy:  0.8117038216560509\n",
            "############ END DLR 1 MODEL 5 REP 1 ############\n",
            "\n",
            "\n",
            "MODEL 5 PARAMETER COUNT: 308236\n",
            "########### START DLR 1 MODEL 5 REP 2 ###########\n"
          ]
        },
        {
          "output_type": "stream",
          "name": "stderr",
          "text": [
            "100%|██████████| 59/59 [00:02<00:00, 29.24it/s]\n"
          ]
        },
        {
          "output_type": "stream",
          "name": "stdout",
          "text": [
            "Finished Batch: \n",
            "Training Loss:  1.2038572890273596 Training Av. Accuracy:  0.6200100356824264\n",
            "EVALUATING\n"
          ]
        },
        {
          "output_type": "stream",
          "name": "stderr",
          "text": [
            "100%|██████████| 157/157 [00:03<00:00, 45.85it/s]\n"
          ]
        },
        {
          "output_type": "stream",
          "name": "stdout",
          "text": [
            "Validation Loss:  0.4750782193461801 Validation Av. Accuracy:  0.8624601910828026\n",
            "############ END DLR 1 MODEL 5 REP 2 ############\n",
            "\n",
            "\n",
            "MODEL 5 PARAMETER COUNT: 308236\n",
            "########### START DLR 1 MODEL 5 REP 3 ###########\n"
          ]
        },
        {
          "output_type": "stream",
          "name": "stderr",
          "text": [
            "100%|██████████| 59/59 [00:01<00:00, 33.03it/s]\n"
          ]
        },
        {
          "output_type": "stream",
          "name": "stdout",
          "text": [
            "Finished Batch: \n",
            "Training Loss:  1.1129748689926278 Training Av. Accuracy:  0.6137656110615523\n",
            "EVALUATING\n"
          ]
        },
        {
          "output_type": "stream",
          "name": "stderr",
          "text": [
            "100%|██████████| 157/157 [00:02<00:00, 56.67it/s]\n"
          ]
        },
        {
          "output_type": "stream",
          "name": "stdout",
          "text": [
            "Validation Loss:  0.511771946481079 Validation Av. Accuracy:  0.8436504777070064\n",
            "############ END DLR 1 MODEL 5 REP 3 ############\n",
            "\n",
            "\n",
            "MODEL 5 PARAMETER COUNT: 308236\n",
            "########### START DLR 1 MODEL 5 REP 4 ###########\n"
          ]
        },
        {
          "output_type": "stream",
          "name": "stderr",
          "text": [
            "100%|██████████| 59/59 [00:01<00:00, 34.87it/s]\n"
          ]
        },
        {
          "output_type": "stream",
          "name": "stdout",
          "text": [
            "Finished Batch: \n",
            "Training Loss:  1.2256843351711662 Training Av. Accuracy:  0.606071587867975\n",
            "EVALUATING\n"
          ]
        },
        {
          "output_type": "stream",
          "name": "stderr",
          "text": [
            "100%|██████████| 157/157 [00:03<00:00, 52.01it/s]\n"
          ]
        },
        {
          "output_type": "stream",
          "name": "stdout",
          "text": [
            "Validation Loss:  0.6042132275119708 Validation Av. Accuracy:  0.7927945859872612\n",
            "############ END DLR 1 MODEL 5 REP 4 ############\n",
            "\n",
            "\n",
            "MODEL 0 PARAMETER COUNT: 9798\n",
            "########### START DLR 2 MODEL 0 REP 0 ###########\n"
          ]
        },
        {
          "output_type": "stream",
          "name": "stderr",
          "text": [
            " 97%|█████████▋| 115/118 [00:03<00:00, 26.26it/s]/usr/local/lib/python3.10/dist-packages/torch/nn/modules/conv.py:456: UserWarning:\n",
            "\n",
            "Plan failed with a cudnnException: CUDNN_BACKEND_EXECUTION_PLAN_DESCRIPTOR: cudnnFinalize Descriptor Failed cudnn_status: CUDNN_STATUS_NOT_SUPPORTED (Triggered internally at ../aten/src/ATen/native/cudnn/Conv_v8.cpp:919.)\n",
            "\n",
            "100%|██████████| 118/118 [00:03<00:00, 36.12it/s]\n"
          ]
        },
        {
          "output_type": "stream",
          "name": "stdout",
          "text": [
            "Finished Batch: \n",
            "Training Loss:  1.3560946535761074 Training Av. Accuracy:  0.5493026129943502\n",
            "EVALUATING\n"
          ]
        },
        {
          "output_type": "stream",
          "name": "stderr",
          "text": [
            "100%|██████████| 157/157 [00:04<00:00, 31.46it/s]\n"
          ]
        },
        {
          "output_type": "stream",
          "name": "stdout",
          "text": [
            "Validation Loss:  0.6239196409465401 Validation Av. Accuracy:  0.8067277070063694\n",
            "############ END DLR 2 MODEL 0 REP 0 ############\n",
            "\n",
            "\n",
            "MODEL 0 PARAMETER COUNT: 9798\n",
            "########### START DLR 2 MODEL 0 REP 1 ###########\n"
          ]
        },
        {
          "output_type": "stream",
          "name": "stderr",
          "text": [
            "100%|██████████| 118/118 [00:01<00:00, 59.03it/s]\n"
          ]
        },
        {
          "output_type": "stream",
          "name": "stdout",
          "text": [
            "Finished Batch: \n",
            "Training Loss:  1.4248341248702194 Training Av. Accuracy:  0.5390183615819208\n",
            "EVALUATING\n"
          ]
        },
        {
          "output_type": "stream",
          "name": "stderr",
          "text": [
            "100%|██████████| 157/157 [00:02<00:00, 66.20it/s]\n"
          ]
        },
        {
          "output_type": "stream",
          "name": "stdout",
          "text": [
            "Validation Loss:  0.5221615126178523 Validation Av. Accuracy:  0.8468351910828026\n",
            "############ END DLR 2 MODEL 0 REP 1 ############\n",
            "\n",
            "\n",
            "MODEL 0 PARAMETER COUNT: 9798\n",
            "########### START DLR 2 MODEL 0 REP 2 ###########\n"
          ]
        },
        {
          "output_type": "stream",
          "name": "stderr",
          "text": [
            "100%|██████████| 118/118 [00:02<00:00, 58.51it/s]\n"
          ]
        },
        {
          "output_type": "stream",
          "name": "stdout",
          "text": [
            "Finished Batch: \n",
            "Training Loss:  1.4214316773212563 Training Av. Accuracy:  0.5172139830508474\n",
            "EVALUATING\n"
          ]
        },
        {
          "output_type": "stream",
          "name": "stderr",
          "text": [
            "100%|██████████| 157/157 [00:05<00:00, 31.13it/s]\n"
          ]
        },
        {
          "output_type": "stream",
          "name": "stdout",
          "text": [
            "Validation Loss:  0.5757447090118554 Validation Av. Accuracy:  0.8063296178343949\n",
            "############ END DLR 2 MODEL 0 REP 2 ############\n",
            "\n",
            "\n",
            "MODEL 0 PARAMETER COUNT: 9798\n",
            "########### START DLR 2 MODEL 0 REP 3 ###########\n"
          ]
        },
        {
          "output_type": "stream",
          "name": "stderr",
          "text": [
            "100%|██████████| 118/118 [00:02<00:00, 43.81it/s]\n"
          ]
        },
        {
          "output_type": "stream",
          "name": "stdout",
          "text": [
            "Finished Batch: \n",
            "Training Loss:  1.2553767758910939 Training Av. Accuracy:  0.5915430790960452\n",
            "EVALUATING\n"
          ]
        },
        {
          "output_type": "stream",
          "name": "stderr",
          "text": [
            "100%|██████████| 157/157 [00:03<00:00, 44.37it/s]\n"
          ]
        },
        {
          "output_type": "stream",
          "name": "stdout",
          "text": [
            "Validation Loss:  0.5650440458279506 Validation Av. Accuracy:  0.8299164012738853\n",
            "############ END DLR 2 MODEL 0 REP 3 ############\n",
            "\n",
            "\n",
            "MODEL 0 PARAMETER COUNT: 9798\n",
            "########### START DLR 2 MODEL 0 REP 4 ###########\n"
          ]
        },
        {
          "output_type": "stream",
          "name": "stderr",
          "text": [
            "100%|██████████| 118/118 [00:02<00:00, 40.06it/s]\n"
          ]
        },
        {
          "output_type": "stream",
          "name": "stdout",
          "text": [
            "Finished Batch: \n",
            "Training Loss:  1.3152412421117394 Training Av. Accuracy:  0.590086511299435\n",
            "EVALUATING\n"
          ]
        },
        {
          "output_type": "stream",
          "name": "stderr",
          "text": [
            "100%|██████████| 157/157 [00:05<00:00, 31.01it/s]\n"
          ]
        },
        {
          "output_type": "stream",
          "name": "stdout",
          "text": [
            "Validation Loss:  0.4740086563263729 Validation Av. Accuracy:  0.86046974522293\n",
            "############ END DLR 2 MODEL 0 REP 4 ############\n",
            "\n",
            "\n",
            "MODEL 1 PARAMETER COUNT: 20245\n",
            "########### START DLR 2 MODEL 1 REP 0 ###########\n"
          ]
        },
        {
          "output_type": "stream",
          "name": "stderr",
          "text": [
            "100%|██████████| 118/118 [00:03<00:00, 35.91it/s]\n"
          ]
        },
        {
          "output_type": "stream",
          "name": "stdout",
          "text": [
            "Finished Batch: \n",
            "Training Loss:  1.16832040452351 Training Av. Accuracy:  0.6173640536723164\n",
            "EVALUATING\n"
          ]
        },
        {
          "output_type": "stream",
          "name": "stderr",
          "text": [
            "100%|██████████| 157/157 [00:02<00:00, 65.69it/s]\n"
          ]
        },
        {
          "output_type": "stream",
          "name": "stdout",
          "text": [
            "Validation Loss:  0.41995761358434225 Validation Av. Accuracy:  0.870421974522293\n",
            "############ END DLR 2 MODEL 1 REP 0 ############\n",
            "\n",
            "\n",
            "MODEL 1 PARAMETER COUNT: 20245\n",
            "########### START DLR 2 MODEL 1 REP 1 ###########\n"
          ]
        },
        {
          "output_type": "stream",
          "name": "stderr",
          "text": [
            "100%|██████████| 118/118 [00:02<00:00, 58.83it/s]\n"
          ]
        },
        {
          "output_type": "stream",
          "name": "stdout",
          "text": [
            "Finished Batch: \n",
            "Training Loss:  1.1747707282587634 Training Av. Accuracy:  0.6400512005649718\n",
            "EVALUATING\n"
          ]
        },
        {
          "output_type": "stream",
          "name": "stderr",
          "text": [
            "100%|██████████| 157/157 [00:03<00:00, 51.56it/s]\n"
          ]
        },
        {
          "output_type": "stream",
          "name": "stdout",
          "text": [
            "Validation Loss:  0.4044597581693321 Validation Av. Accuracy:  0.8786823248407644\n",
            "############ END DLR 2 MODEL 1 REP 1 ############\n",
            "\n",
            "\n",
            "MODEL 1 PARAMETER COUNT: 20245\n",
            "########### START DLR 2 MODEL 1 REP 2 ###########\n"
          ]
        },
        {
          "output_type": "stream",
          "name": "stderr",
          "text": [
            "100%|██████████| 118/118 [00:02<00:00, 48.50it/s]\n"
          ]
        },
        {
          "output_type": "stream",
          "name": "stdout",
          "text": [
            "Finished Batch: \n",
            "Training Loss:  1.2060884392615092 Training Av. Accuracy:  0.612111581920904\n",
            "EVALUATING\n"
          ]
        },
        {
          "output_type": "stream",
          "name": "stderr",
          "text": [
            "100%|██████████| 157/157 [00:02<00:00, 64.09it/s]\n"
          ]
        },
        {
          "output_type": "stream",
          "name": "stdout",
          "text": [
            "Validation Loss:  0.48652111914507146 Validation Av. Accuracy:  0.8473328025477707\n",
            "############ END DLR 2 MODEL 1 REP 2 ############\n",
            "\n",
            "\n",
            "MODEL 1 PARAMETER COUNT: 20245\n",
            "########### START DLR 2 MODEL 1 REP 3 ###########\n"
          ]
        },
        {
          "output_type": "stream",
          "name": "stderr",
          "text": [
            "100%|██████████| 118/118 [00:02<00:00, 58.36it/s]\n"
          ]
        },
        {
          "output_type": "stream",
          "name": "stdout",
          "text": [
            "Finished Batch: \n",
            "Training Loss:  1.4481794404781472 Training Av. Accuracy:  0.5093132062146893\n",
            "EVALUATING\n"
          ]
        },
        {
          "output_type": "stream",
          "name": "stderr",
          "text": [
            "100%|██████████| 157/157 [00:02<00:00, 66.63it/s]\n"
          ]
        },
        {
          "output_type": "stream",
          "name": "stdout",
          "text": [
            "Validation Loss:  0.5593550305837279 Validation Av. Accuracy:  0.8333001592356688\n",
            "############ END DLR 2 MODEL 1 REP 3 ############\n",
            "\n",
            "\n",
            "MODEL 1 PARAMETER COUNT: 20245\n",
            "########### START DLR 2 MODEL 1 REP 4 ###########\n"
          ]
        },
        {
          "output_type": "stream",
          "name": "stderr",
          "text": [
            "100%|██████████| 118/118 [00:02<00:00, 55.36it/s]\n"
          ]
        },
        {
          "output_type": "stream",
          "name": "stdout",
          "text": [
            "Finished Batch: \n",
            "Training Loss:  1.3301929409726192 Training Av. Accuracy:  0.5522598870056498\n",
            "EVALUATING\n"
          ]
        },
        {
          "output_type": "stream",
          "name": "stderr",
          "text": [
            "100%|██████████| 157/157 [00:03<00:00, 49.75it/s]\n"
          ]
        },
        {
          "output_type": "stream",
          "name": "stdout",
          "text": [
            "Validation Loss:  0.541038990020752 Validation Av. Accuracy:  0.8333001592356688\n",
            "############ END DLR 2 MODEL 1 REP 4 ############\n",
            "\n",
            "\n",
            "MODEL 2 PARAMETER COUNT: 38306\n",
            "########### START DLR 2 MODEL 2 REP 0 ###########\n"
          ]
        },
        {
          "output_type": "stream",
          "name": "stderr",
          "text": [
            "100%|██████████| 118/118 [00:02<00:00, 57.35it/s]\n"
          ]
        },
        {
          "output_type": "stream",
          "name": "stdout",
          "text": [
            "Finished Batch: \n",
            "Training Loss:  1.1421390256639254 Training Av. Accuracy:  0.6323269774011299\n",
            "EVALUATING\n"
          ]
        },
        {
          "output_type": "stream",
          "name": "stderr",
          "text": [
            "100%|██████████| 157/157 [00:02<00:00, 64.93it/s]\n"
          ]
        },
        {
          "output_type": "stream",
          "name": "stdout",
          "text": [
            "Validation Loss:  0.5088998379221388 Validation Av. Accuracy:  0.8408638535031847\n",
            "############ END DLR 2 MODEL 2 REP 0 ############\n",
            "\n",
            "\n",
            "MODEL 2 PARAMETER COUNT: 38306\n",
            "########### START DLR 2 MODEL 2 REP 1 ###########\n"
          ]
        },
        {
          "output_type": "stream",
          "name": "stderr",
          "text": [
            "100%|██████████| 118/118 [00:01<00:00, 59.45it/s]\n"
          ]
        },
        {
          "output_type": "stream",
          "name": "stdout",
          "text": [
            "Finished Batch: \n",
            "Training Loss:  1.1198044512736596 Training Av. Accuracy:  0.627780720338983\n",
            "EVALUATING\n"
          ]
        },
        {
          "output_type": "stream",
          "name": "stderr",
          "text": [
            "100%|██████████| 157/157 [00:02<00:00, 67.61it/s]\n"
          ]
        },
        {
          "output_type": "stream",
          "name": "stdout",
          "text": [
            "Validation Loss:  0.3989440912653686 Validation Av. Accuracy:  0.8861464968152867\n",
            "############ END DLR 2 MODEL 2 REP 1 ############\n",
            "\n",
            "\n",
            "MODEL 2 PARAMETER COUNT: 38306\n",
            "########### START DLR 2 MODEL 2 REP 2 ###########\n"
          ]
        },
        {
          "output_type": "stream",
          "name": "stderr",
          "text": [
            "100%|██████████| 118/118 [00:02<00:00, 44.35it/s]\n"
          ]
        },
        {
          "output_type": "stream",
          "name": "stdout",
          "text": [
            "Finished Batch: \n",
            "Training Loss:  1.0962426262765617 Training Av. Accuracy:  0.6557203389830508\n",
            "EVALUATING\n"
          ]
        },
        {
          "output_type": "stream",
          "name": "stderr",
          "text": [
            "100%|██████████| 157/157 [00:02<00:00, 61.84it/s]\n"
          ]
        },
        {
          "output_type": "stream",
          "name": "stdout",
          "text": [
            "Validation Loss:  0.3154030159400527 Validation Av. Accuracy:  0.9071457006369427\n",
            "############ END DLR 2 MODEL 2 REP 2 ############\n",
            "\n",
            "\n",
            "MODEL 2 PARAMETER COUNT: 38306\n",
            "########### START DLR 2 MODEL 2 REP 3 ###########\n"
          ]
        },
        {
          "output_type": "stream",
          "name": "stderr",
          "text": [
            "100%|██████████| 118/118 [00:01<00:00, 59.58it/s]\n"
          ]
        },
        {
          "output_type": "stream",
          "name": "stdout",
          "text": [
            "Finished Batch: \n",
            "Training Loss:  1.0871061901798693 Training Av. Accuracy:  0.6619438559322034\n",
            "EVALUATING\n"
          ]
        },
        {
          "output_type": "stream",
          "name": "stderr",
          "text": [
            "100%|██████████| 157/157 [00:02<00:00, 66.74it/s]\n"
          ]
        },
        {
          "output_type": "stream",
          "name": "stdout",
          "text": [
            "Validation Loss:  0.36013826443131564 Validation Av. Accuracy:  0.8936106687898089\n",
            "############ END DLR 2 MODEL 2 REP 3 ############\n",
            "\n",
            "\n",
            "MODEL 2 PARAMETER COUNT: 38306\n",
            "########### START DLR 2 MODEL 2 REP 4 ###########\n"
          ]
        },
        {
          "output_type": "stream",
          "name": "stderr",
          "text": [
            "100%|██████████| 118/118 [00:02<00:00, 56.97it/s]\n"
          ]
        },
        {
          "output_type": "stream",
          "name": "stdout",
          "text": [
            "Finished Batch: \n",
            "Training Loss:  1.054680166103072 Training Av. Accuracy:  0.662694209039548\n",
            "EVALUATING\n"
          ]
        },
        {
          "output_type": "stream",
          "name": "stderr",
          "text": [
            "100%|██████████| 157/157 [00:02<00:00, 56.63it/s]\n"
          ]
        },
        {
          "output_type": "stream",
          "name": "stdout",
          "text": [
            "Validation Loss:  0.37249033736765 Validation Av. Accuracy:  0.8919187898089171\n",
            "############ END DLR 2 MODEL 2 REP 4 ############\n",
            "\n",
            "\n",
            "MODEL 3 PARAMETER COUNT: 74657\n",
            "########### START DLR 2 MODEL 3 REP 0 ###########\n"
          ]
        },
        {
          "output_type": "stream",
          "name": "stderr",
          "text": [
            "100%|██████████| 118/118 [00:02<00:00, 48.46it/s]\n"
          ]
        },
        {
          "output_type": "stream",
          "name": "stdout",
          "text": [
            "Finished Batch: \n",
            "Training Loss:  0.9165261154205112 Training Av. Accuracy:  0.6990642655367231\n",
            "EVALUATING\n"
          ]
        },
        {
          "output_type": "stream",
          "name": "stderr",
          "text": [
            "100%|██████████| 157/157 [00:02<00:00, 55.06it/s]\n"
          ]
        },
        {
          "output_type": "stream",
          "name": "stdout",
          "text": [
            "Validation Loss:  0.3197018429162396 Validation Av. Accuracy:  0.910031847133758\n",
            "############ END DLR 2 MODEL 3 REP 0 ############\n",
            "\n",
            "\n",
            "MODEL 3 PARAMETER COUNT: 74657\n",
            "########### START DLR 2 MODEL 3 REP 1 ###########\n"
          ]
        },
        {
          "output_type": "stream",
          "name": "stderr",
          "text": [
            "100%|██████████| 118/118 [00:01<00:00, 59.19it/s]\n"
          ]
        },
        {
          "output_type": "stream",
          "name": "stdout",
          "text": [
            "Finished Batch: \n",
            "Training Loss:  0.9901440862124249 Training Av. Accuracy:  0.6870144774011299\n",
            "EVALUATING\n"
          ]
        },
        {
          "output_type": "stream",
          "name": "stderr",
          "text": [
            "100%|██████████| 157/157 [00:02<00:00, 63.49it/s]\n"
          ]
        },
        {
          "output_type": "stream",
          "name": "stdout",
          "text": [
            "Validation Loss:  0.3829256887458692 Validation Av. Accuracy:  0.8871417197452229\n",
            "############ END DLR 2 MODEL 3 REP 1 ############\n",
            "\n",
            "\n",
            "MODEL 3 PARAMETER COUNT: 74657\n",
            "########### START DLR 2 MODEL 3 REP 2 ###########\n"
          ]
        },
        {
          "output_type": "stream",
          "name": "stderr",
          "text": [
            "100%|██████████| 118/118 [00:02<00:00, 52.66it/s]\n"
          ]
        },
        {
          "output_type": "stream",
          "name": "stdout",
          "text": [
            "Finished Batch: \n",
            "Training Loss:  0.8521569515183821 Training Av. Accuracy:  0.7255031779661016\n",
            "EVALUATING\n"
          ]
        },
        {
          "output_type": "stream",
          "name": "stderr",
          "text": [
            "100%|██████████| 157/157 [00:03<00:00, 49.66it/s]\n"
          ]
        },
        {
          "output_type": "stream",
          "name": "stdout",
          "text": [
            "Validation Loss:  0.2864709963938992 Validation Av. Accuracy:  0.9113256369426752\n",
            "############ END DLR 2 MODEL 3 REP 2 ############\n",
            "\n",
            "\n",
            "MODEL 3 PARAMETER COUNT: 74657\n",
            "########### START DLR 2 MODEL 3 REP 3 ###########\n"
          ]
        },
        {
          "output_type": "stream",
          "name": "stderr",
          "text": [
            "100%|██████████| 118/118 [00:02<00:00, 58.16it/s]\n"
          ]
        },
        {
          "output_type": "stream",
          "name": "stdout",
          "text": [
            "Finished Batch: \n",
            "Training Loss:  0.999496513756655 Training Av. Accuracy:  0.6575741525423728\n",
            "EVALUATING\n"
          ]
        },
        {
          "output_type": "stream",
          "name": "stderr",
          "text": [
            "100%|██████████| 157/157 [00:02<00:00, 64.78it/s]\n"
          ]
        },
        {
          "output_type": "stream",
          "name": "stdout",
          "text": [
            "Validation Loss:  0.3814385001826438 Validation Av. Accuracy:  0.8747014331210191\n",
            "############ END DLR 2 MODEL 3 REP 3 ############\n",
            "\n",
            "\n",
            "MODEL 3 PARAMETER COUNT: 74657\n",
            "########### START DLR 2 MODEL 3 REP 4 ###########\n"
          ]
        },
        {
          "output_type": "stream",
          "name": "stderr",
          "text": [
            "100%|██████████| 118/118 [00:02<00:00, 56.88it/s]\n"
          ]
        },
        {
          "output_type": "stream",
          "name": "stdout",
          "text": [
            "Finished Batch: \n",
            "Training Loss:  0.864350046141673 Training Av. Accuracy:  0.7149540960451977\n",
            "EVALUATING\n"
          ]
        },
        {
          "output_type": "stream",
          "name": "stderr",
          "text": [
            "100%|██████████| 157/157 [00:02<00:00, 65.24it/s]\n"
          ]
        },
        {
          "output_type": "stream",
          "name": "stdout",
          "text": [
            "Validation Loss:  0.2852969805526126 Validation Av. Accuracy:  0.9140127388535032\n",
            "############ END DLR 2 MODEL 3 REP 4 ############\n",
            "\n",
            "\n",
            "MODEL 4 PARAMETER COUNT: 152775\n",
            "########### START DLR 2 MODEL 4 REP 0 ###########\n"
          ]
        },
        {
          "output_type": "stream",
          "name": "stderr",
          "text": [
            "100%|██████████| 118/118 [00:03<00:00, 36.27it/s]\n"
          ]
        },
        {
          "output_type": "stream",
          "name": "stdout",
          "text": [
            "Finished Batch: \n",
            "Training Loss:  0.8567227106541395 Training Av. Accuracy:  0.7249735169491526\n",
            "EVALUATING\n"
          ]
        },
        {
          "output_type": "stream",
          "name": "stderr",
          "text": [
            "100%|██████████| 157/157 [00:04<00:00, 33.09it/s]\n"
          ]
        },
        {
          "output_type": "stream",
          "name": "stdout",
          "text": [
            "Validation Loss:  0.24885723867993445 Validation Av. Accuracy:  0.9270501592356688\n",
            "############ END DLR 2 MODEL 4 REP 0 ############\n",
            "\n",
            "\n",
            "MODEL 4 PARAMETER COUNT: 152775\n",
            "########### START DLR 2 MODEL 4 REP 1 ###########\n"
          ]
        },
        {
          "output_type": "stream",
          "name": "stderr",
          "text": [
            "100%|██████████| 118/118 [00:03<00:00, 34.95it/s]\n"
          ]
        },
        {
          "output_type": "stream",
          "name": "stdout",
          "text": [
            "Finished Batch: \n",
            "Training Loss:  0.8404615827031054 Training Av. Accuracy:  0.7249735169491526\n",
            "EVALUATING\n"
          ]
        },
        {
          "output_type": "stream",
          "name": "stderr",
          "text": [
            "100%|██████████| 157/157 [00:04<00:00, 36.67it/s]\n"
          ]
        },
        {
          "output_type": "stream",
          "name": "stdout",
          "text": [
            "Validation Loss:  0.28821639389179315 Validation Av. Accuracy:  0.9098328025477707\n",
            "############ END DLR 2 MODEL 4 REP 1 ############\n",
            "\n",
            "\n",
            "MODEL 4 PARAMETER COUNT: 152775\n",
            "########### START DLR 2 MODEL 4 REP 2 ###########\n"
          ]
        },
        {
          "output_type": "stream",
          "name": "stderr",
          "text": [
            "100%|██████████| 118/118 [00:03<00:00, 34.27it/s]\n"
          ]
        },
        {
          "output_type": "stream",
          "name": "stdout",
          "text": [
            "Finished Batch: \n",
            "Training Loss:  0.9193836008593187 Training Av. Accuracy:  0.6964159604519774\n",
            "EVALUATING\n"
          ]
        },
        {
          "output_type": "stream",
          "name": "stderr",
          "text": [
            "100%|██████████| 157/157 [00:04<00:00, 32.67it/s]\n"
          ]
        },
        {
          "output_type": "stream",
          "name": "stdout",
          "text": [
            "Validation Loss:  0.3226566711428818 Validation Av. Accuracy:  0.9008757961783439\n",
            "############ END DLR 2 MODEL 4 REP 2 ############\n",
            "\n",
            "\n",
            "MODEL 4 PARAMETER COUNT: 152775\n",
            "########### START DLR 2 MODEL 4 REP 3 ###########\n"
          ]
        },
        {
          "output_type": "stream",
          "name": "stderr",
          "text": [
            "100%|██████████| 118/118 [00:02<00:00, 58.56it/s]\n"
          ]
        },
        {
          "output_type": "stream",
          "name": "stdout",
          "text": [
            "Finished Batch: \n",
            "Training Loss:  0.8346072006339239 Training Av. Accuracy:  0.7313294491525424\n",
            "EVALUATING\n"
          ]
        },
        {
          "output_type": "stream",
          "name": "stderr",
          "text": [
            "100%|██████████| 157/157 [00:04<00:00, 38.21it/s]\n"
          ]
        },
        {
          "output_type": "stream",
          "name": "stdout",
          "text": [
            "Validation Loss:  0.26778748114207745 Validation Av. Accuracy:  0.92078025477707\n",
            "############ END DLR 2 MODEL 4 REP 3 ############\n",
            "\n",
            "\n",
            "MODEL 4 PARAMETER COUNT: 152775\n",
            "########### START DLR 2 MODEL 4 REP 4 ###########\n"
          ]
        },
        {
          "output_type": "stream",
          "name": "stderr",
          "text": [
            "100%|██████████| 118/118 [00:02<00:00, 40.72it/s]\n"
          ]
        },
        {
          "output_type": "stream",
          "name": "stdout",
          "text": [
            "Finished Batch: \n",
            "Training Loss:  0.9215779320920928 Training Av. Accuracy:  0.6844985875706214\n",
            "EVALUATING\n"
          ]
        },
        {
          "output_type": "stream",
          "name": "stderr",
          "text": [
            "100%|██████████| 157/157 [00:04<00:00, 38.44it/s]\n"
          ]
        },
        {
          "output_type": "stream",
          "name": "stdout",
          "text": [
            "Validation Loss:  0.2902046597687302 Validation Av. Accuracy:  0.9140127388535032\n",
            "############ END DLR 2 MODEL 4 REP 4 ############\n",
            "\n",
            "\n",
            "MODEL 5 PARAMETER COUNT: 308236\n",
            "########### START DLR 2 MODEL 5 REP 0 ###########\n"
          ]
        },
        {
          "output_type": "stream",
          "name": "stderr",
          "text": [
            "100%|██████████| 118/118 [00:02<00:00, 45.13it/s]\n"
          ]
        },
        {
          "output_type": "stream",
          "name": "stdout",
          "text": [
            "Finished Batch: \n",
            "Training Loss:  0.8279554909568722 Training Av. Accuracy:  0.7291666666666667\n",
            "EVALUATING\n"
          ]
        },
        {
          "output_type": "stream",
          "name": "stderr",
          "text": [
            "100%|██████████| 157/157 [00:05<00:00, 30.81it/s]\n"
          ]
        },
        {
          "output_type": "stream",
          "name": "stdout",
          "text": [
            "Validation Loss:  0.22421424218993277 Validation Av. Accuracy:  0.9347133757961783\n",
            "############ END DLR 2 MODEL 5 REP 0 ############\n",
            "\n",
            "\n",
            "MODEL 5 PARAMETER COUNT: 308236\n",
            "########### START DLR 2 MODEL 5 REP 1 ###########\n"
          ]
        },
        {
          "output_type": "stream",
          "name": "stderr",
          "text": [
            "100%|██████████| 118/118 [00:02<00:00, 48.43it/s]\n"
          ]
        },
        {
          "output_type": "stream",
          "name": "stdout",
          "text": [
            "Finished Batch: \n",
            "Training Loss:  0.7328070614928917 Training Av. Accuracy:  0.7677436440677966\n",
            "EVALUATING\n"
          ]
        },
        {
          "output_type": "stream",
          "name": "stderr",
          "text": [
            "100%|██████████| 157/157 [00:03<00:00, 50.17it/s]\n"
          ]
        },
        {
          "output_type": "stream",
          "name": "stdout",
          "text": [
            "Validation Loss:  0.21802420095558378 Validation Av. Accuracy:  0.9342157643312102\n",
            "############ END DLR 2 MODEL 5 REP 1 ############\n",
            "\n",
            "\n",
            "MODEL 5 PARAMETER COUNT: 308236\n",
            "########### START DLR 2 MODEL 5 REP 2 ###########\n"
          ]
        },
        {
          "output_type": "stream",
          "name": "stderr",
          "text": [
            "100%|██████████| 118/118 [00:02<00:00, 39.50it/s]\n"
          ]
        },
        {
          "output_type": "stream",
          "name": "stdout",
          "text": [
            "Finished Batch: \n",
            "Training Loss:  0.7772822807527194 Training Av. Accuracy:  0.7497351694915254\n",
            "EVALUATING\n"
          ]
        },
        {
          "output_type": "stream",
          "name": "stderr",
          "text": [
            "100%|██████████| 157/157 [00:05<00:00, 29.95it/s]\n"
          ]
        },
        {
          "output_type": "stream",
          "name": "stdout",
          "text": [
            "Validation Loss:  0.22310431073805329 Validation Av. Accuracy:  0.9313296178343949\n",
            "############ END DLR 2 MODEL 5 REP 2 ############\n",
            "\n",
            "\n",
            "MODEL 5 PARAMETER COUNT: 308236\n",
            "########### START DLR 2 MODEL 5 REP 3 ###########\n"
          ]
        },
        {
          "output_type": "stream",
          "name": "stderr",
          "text": [
            "100%|██████████| 118/118 [00:02<00:00, 57.71it/s]\n"
          ]
        },
        {
          "output_type": "stream",
          "name": "stdout",
          "text": [
            "Finished Batch: \n",
            "Training Loss:  0.7493553337151722 Training Av. Accuracy:  0.7597104519774011\n",
            "EVALUATING\n"
          ]
        },
        {
          "output_type": "stream",
          "name": "stderr",
          "text": [
            "100%|██████████| 157/157 [00:02<00:00, 67.77it/s]\n"
          ]
        },
        {
          "output_type": "stream",
          "name": "stdout",
          "text": [
            "Validation Loss:  0.20538542934568824 Validation Av. Accuracy:  0.9394904458598726\n",
            "############ END DLR 2 MODEL 5 REP 3 ############\n",
            "\n",
            "\n",
            "MODEL 5 PARAMETER COUNT: 308236\n",
            "########### START DLR 2 MODEL 5 REP 4 ###########\n"
          ]
        },
        {
          "output_type": "stream",
          "name": "stderr",
          "text": [
            "100%|██████████| 118/118 [00:02<00:00, 51.17it/s]\n"
          ]
        },
        {
          "output_type": "stream",
          "name": "stdout",
          "text": [
            "Finished Batch: \n",
            "Training Loss:  0.752283341298669 Training Av. Accuracy:  0.7497351694915254\n",
            "EVALUATING\n"
          ]
        },
        {
          "output_type": "stream",
          "name": "stderr",
          "text": [
            "100%|██████████| 157/157 [00:05<00:00, 29.99it/s]\n"
          ]
        },
        {
          "output_type": "stream",
          "name": "stdout",
          "text": [
            "Validation Loss:  0.27419280047249645 Validation Av. Accuracy:  0.9121218152866242\n",
            "############ END DLR 2 MODEL 5 REP 4 ############\n",
            "\n",
            "\n",
            "MODEL 0 PARAMETER COUNT: 9798\n",
            "########### START DLR 3 MODEL 0 REP 0 ###########\n"
          ]
        },
        {
          "output_type": "stream",
          "name": "stderr",
          "text": [
            " 99%|█████████▉| 233/235 [00:04<00:00, 57.12it/s]/usr/local/lib/python3.10/dist-packages/torch/nn/modules/conv.py:456: UserWarning:\n",
            "\n",
            "Plan failed with a cudnnException: CUDNN_BACKEND_EXECUTION_PLAN_DESCRIPTOR: cudnnFinalize Descriptor Failed cudnn_status: CUDNN_STATUS_NOT_SUPPORTED (Triggered internally at ../aten/src/ATen/native/cudnn/Conv_v8.cpp:919.)\n",
            "\n",
            "100%|██████████| 235/235 [00:04<00:00, 56.85it/s]\n"
          ]
        },
        {
          "output_type": "stream",
          "name": "stdout",
          "text": [
            "Finished Batch: \n",
            "Training Loss:  1.0499332167683764 Training Av. Accuracy:  0.6490691489361702\n",
            "EVALUATING\n"
          ]
        },
        {
          "output_type": "stream",
          "name": "stderr",
          "text": [
            "100%|██████████| 157/157 [00:02<00:00, 65.54it/s]\n"
          ]
        },
        {
          "output_type": "stream",
          "name": "stdout",
          "text": [
            "Validation Loss:  0.34217934025700686 Validation Av. Accuracy:  0.8960987261146497\n",
            "############ END DLR 3 MODEL 0 REP 0 ############\n",
            "\n",
            "\n",
            "MODEL 0 PARAMETER COUNT: 9798\n",
            "########### START DLR 3 MODEL 0 REP 1 ###########\n"
          ]
        },
        {
          "output_type": "stream",
          "name": "stderr",
          "text": [
            "100%|██████████| 235/235 [00:04<00:00, 52.63it/s]\n"
          ]
        },
        {
          "output_type": "stream",
          "name": "stdout",
          "text": [
            "Finished Batch: \n",
            "Training Loss:  0.9026394789523267 Training Av. Accuracy:  0.7202792553191489\n",
            "EVALUATING\n"
          ]
        },
        {
          "output_type": "stream",
          "name": "stderr",
          "text": [
            "100%|██████████| 157/157 [00:02<00:00, 57.02it/s]\n"
          ]
        },
        {
          "output_type": "stream",
          "name": "stdout",
          "text": [
            "Validation Loss:  0.26578692380030444 Validation Av. Accuracy:  0.9175955414012739\n",
            "############ END DLR 3 MODEL 0 REP 1 ############\n",
            "\n",
            "\n",
            "MODEL 0 PARAMETER COUNT: 9798\n",
            "########### START DLR 3 MODEL 0 REP 2 ###########\n"
          ]
        },
        {
          "output_type": "stream",
          "name": "stderr",
          "text": [
            "100%|██████████| 235/235 [00:04<00:00, 58.38it/s]\n"
          ]
        },
        {
          "output_type": "stream",
          "name": "stdout",
          "text": [
            "Finished Batch: \n",
            "Training Loss:  0.9822777822930762 Training Av. Accuracy:  0.6708554964539006\n",
            "EVALUATING\n"
          ]
        },
        {
          "output_type": "stream",
          "name": "stderr",
          "text": [
            "100%|██████████| 157/157 [00:02<00:00, 64.86it/s]\n"
          ]
        },
        {
          "output_type": "stream",
          "name": "stdout",
          "text": [
            "Validation Loss:  0.4468141963147813 Validation Av. Accuracy:  0.8459394904458599\n",
            "############ END DLR 3 MODEL 0 REP 2 ############\n",
            "\n",
            "\n",
            "MODEL 0 PARAMETER COUNT: 9798\n",
            "########### START DLR 3 MODEL 0 REP 3 ###########\n"
          ]
        },
        {
          "output_type": "stream",
          "name": "stderr",
          "text": [
            "100%|██████████| 235/235 [00:05<00:00, 46.18it/s]\n"
          ]
        },
        {
          "output_type": "stream",
          "name": "stdout",
          "text": [
            "Finished Batch: \n",
            "Training Loss:  1.0223946357027014 Training Av. Accuracy:  0.6659352836879432\n",
            "EVALUATING\n"
          ]
        },
        {
          "output_type": "stream",
          "name": "stderr",
          "text": [
            "100%|██████████| 157/157 [00:02<00:00, 62.86it/s]\n"
          ]
        },
        {
          "output_type": "stream",
          "name": "stdout",
          "text": [
            "Validation Loss:  0.4275717287306573 Validation Av. Accuracy:  0.8720143312101911\n",
            "############ END DLR 3 MODEL 0 REP 3 ############\n",
            "\n",
            "\n",
            "MODEL 0 PARAMETER COUNT: 9798\n",
            "########### START DLR 3 MODEL 0 REP 4 ###########\n"
          ]
        },
        {
          "output_type": "stream",
          "name": "stderr",
          "text": [
            "100%|██████████| 235/235 [00:04<00:00, 58.26it/s]\n"
          ]
        },
        {
          "output_type": "stream",
          "name": "stdout",
          "text": [
            "Finished Batch: \n",
            "Training Loss:  1.0649510269469402 Training Av. Accuracy:  0.6406028368794325\n",
            "EVALUATING\n"
          ]
        },
        {
          "output_type": "stream",
          "name": "stderr",
          "text": [
            "100%|██████████| 157/157 [00:02<00:00, 66.59it/s]\n"
          ]
        },
        {
          "output_type": "stream",
          "name": "stdout",
          "text": [
            "Validation Loss:  0.495496743803571 Validation Av. Accuracy:  0.8409633757961783\n",
            "############ END DLR 3 MODEL 0 REP 4 ############\n",
            "\n",
            "\n",
            "MODEL 1 PARAMETER COUNT: 20245\n",
            "########### START DLR 3 MODEL 1 REP 0 ###########\n"
          ]
        },
        {
          "output_type": "stream",
          "name": "stderr",
          "text": [
            "100%|██████████| 235/235 [00:04<00:00, 47.37it/s]\n"
          ]
        },
        {
          "output_type": "stream",
          "name": "stdout",
          "text": [
            "Finished Batch: \n",
            "Training Loss:  0.8364352615589791 Training Av. Accuracy:  0.7181515957446809\n",
            "EVALUATING\n"
          ]
        },
        {
          "output_type": "stream",
          "name": "stderr",
          "text": [
            "100%|██████████| 157/157 [00:02<00:00, 53.77it/s]\n"
          ]
        },
        {
          "output_type": "stream",
          "name": "stdout",
          "text": [
            "Validation Loss:  0.29550457304450356 Validation Av. Accuracy:  0.9083399681528662\n",
            "############ END DLR 3 MODEL 1 REP 0 ############\n",
            "\n",
            "\n",
            "MODEL 1 PARAMETER COUNT: 20245\n",
            "########### START DLR 3 MODEL 1 REP 1 ###########\n"
          ]
        },
        {
          "output_type": "stream",
          "name": "stderr",
          "text": [
            "100%|██████████| 235/235 [00:04<00:00, 57.97it/s]\n"
          ]
        },
        {
          "output_type": "stream",
          "name": "stdout",
          "text": [
            "Finished Batch: \n",
            "Training Loss:  0.7784047457131934 Training Av. Accuracy:  0.7514627659574468\n",
            "EVALUATING\n"
          ]
        },
        {
          "output_type": "stream",
          "name": "stderr",
          "text": [
            "100%|██████████| 157/157 [00:02<00:00, 57.82it/s]\n"
          ]
        },
        {
          "output_type": "stream",
          "name": "stdout",
          "text": [
            "Validation Loss:  0.2370703276365426 Validation Av. Accuracy:  0.9301353503184714\n",
            "############ END DLR 3 MODEL 1 REP 1 ############\n",
            "\n",
            "\n",
            "MODEL 1 PARAMETER COUNT: 20245\n",
            "########### START DLR 3 MODEL 1 REP 2 ###########\n"
          ]
        },
        {
          "output_type": "stream",
          "name": "stderr",
          "text": [
            "100%|██████████| 235/235 [00:04<00:00, 50.37it/s]\n"
          ]
        },
        {
          "output_type": "stream",
          "name": "stdout",
          "text": [
            "Finished Batch: \n",
            "Training Loss:  0.7818058573819221 Training Av. Accuracy:  0.7428413120567376\n",
            "EVALUATING\n"
          ]
        },
        {
          "output_type": "stream",
          "name": "stderr",
          "text": [
            "100%|██████████| 157/157 [00:03<00:00, 50.22it/s]\n"
          ]
        },
        {
          "output_type": "stream",
          "name": "stdout",
          "text": [
            "Validation Loss:  0.31435633531421614 Validation Av. Accuracy:  0.9042595541401274\n",
            "############ END DLR 3 MODEL 1 REP 2 ############\n",
            "\n",
            "\n",
            "MODEL 1 PARAMETER COUNT: 20245\n",
            "########### START DLR 3 MODEL 1 REP 3 ###########\n"
          ]
        },
        {
          "output_type": "stream",
          "name": "stderr",
          "text": [
            "100%|██████████| 235/235 [00:10<00:00, 22.56it/s]\n"
          ]
        },
        {
          "output_type": "stream",
          "name": "stdout",
          "text": [
            "Finished Batch: \n",
            "Training Loss:  0.7758662187038584 Training Av. Accuracy:  0.7551861702127659\n",
            "EVALUATING\n"
          ]
        },
        {
          "output_type": "stream",
          "name": "stderr",
          "text": [
            "100%|██████████| 157/157 [00:02<00:00, 55.35it/s]\n"
          ]
        },
        {
          "output_type": "stream",
          "name": "stdout",
          "text": [
            "Validation Loss:  0.2700410781392626 Validation Av. Accuracy:  0.9181926751592356\n",
            "############ END DLR 3 MODEL 1 REP 3 ############\n",
            "\n",
            "\n",
            "MODEL 1 PARAMETER COUNT: 20245\n",
            "########### START DLR 3 MODEL 1 REP 4 ###########\n"
          ]
        },
        {
          "output_type": "stream",
          "name": "stderr",
          "text": [
            "100%|██████████| 235/235 [00:04<00:00, 57.29it/s]\n"
          ]
        },
        {
          "output_type": "stream",
          "name": "stdout",
          "text": [
            "Finished Batch: \n",
            "Training Loss:  0.8210139500968 Training Av. Accuracy:  0.7230274822695036\n",
            "EVALUATING\n"
          ]
        },
        {
          "output_type": "stream",
          "name": "stderr",
          "text": [
            "100%|██████████| 157/157 [00:04<00:00, 38.22it/s]\n"
          ]
        },
        {
          "output_type": "stream",
          "name": "stdout",
          "text": [
            "Validation Loss:  0.31620285740703535 Validation Av. Accuracy:  0.8979896496815286\n",
            "############ END DLR 3 MODEL 1 REP 4 ############\n",
            "\n",
            "\n",
            "MODEL 2 PARAMETER COUNT: 38306\n",
            "########### START DLR 3 MODEL 2 REP 0 ###########\n"
          ]
        },
        {
          "output_type": "stream",
          "name": "stderr",
          "text": [
            "100%|██████████| 235/235 [00:06<00:00, 34.59it/s]\n"
          ]
        },
        {
          "output_type": "stream",
          "name": "stdout",
          "text": [
            "Finished Batch: \n",
            "Training Loss:  0.6606386925945891 Training Av. Accuracy:  0.7854166666666667\n",
            "EVALUATING\n"
          ]
        },
        {
          "output_type": "stream",
          "name": "stderr",
          "text": [
            "100%|██████████| 157/157 [00:04<00:00, 37.96it/s]\n"
          ]
        },
        {
          "output_type": "stream",
          "name": "stdout",
          "text": [
            "Validation Loss:  0.24108356854338556 Validation Av. Accuracy:  0.9234673566878981\n",
            "############ END DLR 3 MODEL 2 REP 0 ############\n",
            "\n",
            "\n",
            "MODEL 2 PARAMETER COUNT: 38306\n",
            "########### START DLR 3 MODEL 2 REP 1 ###########\n"
          ]
        },
        {
          "output_type": "stream",
          "name": "stderr",
          "text": [
            "100%|██████████| 235/235 [00:07<00:00, 31.23it/s]\n"
          ]
        },
        {
          "output_type": "stream",
          "name": "stdout",
          "text": [
            "Finished Batch: \n",
            "Training Loss:  0.7847799036731111 Training Av. Accuracy:  0.741866134751773\n",
            "EVALUATING\n"
          ]
        },
        {
          "output_type": "stream",
          "name": "stderr",
          "text": [
            "100%|██████████| 157/157 [00:03<00:00, 49.85it/s]\n"
          ]
        },
        {
          "output_type": "stream",
          "name": "stdout",
          "text": [
            "Validation Loss:  0.22027916399536618 Validation Av. Accuracy:  0.9377985668789809\n",
            "############ END DLR 3 MODEL 2 REP 1 ############\n",
            "\n",
            "\n",
            "MODEL 2 PARAMETER COUNT: 38306\n",
            "########### START DLR 3 MODEL 2 REP 2 ###########\n"
          ]
        },
        {
          "output_type": "stream",
          "name": "stderr",
          "text": [
            "100%|██████████| 235/235 [00:07<00:00, 32.77it/s]\n"
          ]
        },
        {
          "output_type": "stream",
          "name": "stdout",
          "text": [
            "Finished Batch: \n",
            "Training Loss:  0.7549268895641287 Training Av. Accuracy:  0.7472517730496453\n",
            "EVALUATING\n"
          ]
        },
        {
          "output_type": "stream",
          "name": "stderr",
          "text": [
            "100%|██████████| 157/157 [00:03<00:00, 40.52it/s]\n"
          ]
        },
        {
          "output_type": "stream",
          "name": "stdout",
          "text": [
            "Validation Loss:  0.2749810455616113 Validation Av. Accuracy:  0.9151074840764332\n",
            "############ END DLR 3 MODEL 2 REP 2 ############\n",
            "\n",
            "\n",
            "MODEL 2 PARAMETER COUNT: 38306\n",
            "########### START DLR 3 MODEL 2 REP 3 ###########\n"
          ]
        },
        {
          "output_type": "stream",
          "name": "stderr",
          "text": [
            "100%|██████████| 235/235 [00:07<00:00, 30.60it/s]\n"
          ]
        },
        {
          "output_type": "stream",
          "name": "stdout",
          "text": [
            "Finished Batch: \n",
            "Training Loss:  0.7391531995636351 Training Av. Accuracy:  0.7589982269503547\n",
            "EVALUATING\n"
          ]
        },
        {
          "output_type": "stream",
          "name": "stderr",
          "text": [
            "100%|██████████| 157/157 [00:02<00:00, 58.37it/s]\n"
          ]
        },
        {
          "output_type": "stream",
          "name": "stdout",
          "text": [
            "Validation Loss:  0.24759223634839816 Validation Av. Accuracy:  0.9200835987261147\n",
            "############ END DLR 3 MODEL 2 REP 3 ############\n",
            "\n",
            "\n",
            "MODEL 2 PARAMETER COUNT: 38306\n",
            "########### START DLR 3 MODEL 2 REP 4 ###########\n"
          ]
        },
        {
          "output_type": "stream",
          "name": "stderr",
          "text": [
            "100%|██████████| 235/235 [00:03<00:00, 58.82it/s]\n"
          ]
        },
        {
          "output_type": "stream",
          "name": "stdout",
          "text": [
            "Finished Batch: \n",
            "Training Loss:  0.6643608539345417 Training Av. Accuracy:  0.7918439716312057\n",
            "EVALUATING\n"
          ]
        },
        {
          "output_type": "stream",
          "name": "stderr",
          "text": [
            "100%|██████████| 157/157 [00:02<00:00, 66.27it/s]\n"
          ]
        },
        {
          "output_type": "stream",
          "name": "stdout",
          "text": [
            "Validation Loss:  0.19584278211851788 Validation Av. Accuracy:  0.9403861464968153\n",
            "############ END DLR 3 MODEL 2 REP 4 ############\n",
            "\n",
            "\n",
            "MODEL 3 PARAMETER COUNT: 74657\n",
            "########### START DLR 3 MODEL 3 REP 0 ###########\n"
          ]
        },
        {
          "output_type": "stream",
          "name": "stderr",
          "text": [
            "100%|██████████| 235/235 [00:04<00:00, 48.68it/s]\n"
          ]
        },
        {
          "output_type": "stream",
          "name": "stdout",
          "text": [
            "Finished Batch: \n",
            "Training Loss:  0.5741663812322819 Training Av. Accuracy:  0.8196365248226951\n",
            "EVALUATING\n"
          ]
        },
        {
          "output_type": "stream",
          "name": "stderr",
          "text": [
            "100%|██████████| 157/157 [00:02<00:00, 67.29it/s]\n"
          ]
        },
        {
          "output_type": "stream",
          "name": "stdout",
          "text": [
            "Validation Loss:  0.20677729387571858 Validation Av. Accuracy:  0.9354100318471338\n",
            "############ END DLR 3 MODEL 3 REP 0 ############\n",
            "\n",
            "\n",
            "MODEL 3 PARAMETER COUNT: 74657\n",
            "########### START DLR 3 MODEL 3 REP 1 ###########\n"
          ]
        },
        {
          "output_type": "stream",
          "name": "stderr",
          "text": [
            "100%|██████████| 235/235 [00:03<00:00, 59.15it/s]\n"
          ]
        },
        {
          "output_type": "stream",
          "name": "stdout",
          "text": [
            "Finished Batch: \n",
            "Training Loss:  0.6187075861590974 Training Av. Accuracy:  0.8087987588652482\n",
            "EVALUATING\n"
          ]
        },
        {
          "output_type": "stream",
          "name": "stderr",
          "text": [
            "100%|██████████| 157/157 [00:02<00:00, 63.82it/s]\n"
          ]
        },
        {
          "output_type": "stream",
          "name": "stdout",
          "text": [
            "Validation Loss:  0.18828256214690056 Validation Av. Accuracy:  0.9421775477707006\n",
            "############ END DLR 3 MODEL 3 REP 1 ############\n",
            "\n",
            "\n",
            "MODEL 3 PARAMETER COUNT: 74657\n",
            "########### START DLR 3 MODEL 3 REP 2 ###########\n"
          ]
        },
        {
          "output_type": "stream",
          "name": "stderr",
          "text": [
            "100%|██████████| 235/235 [00:04<00:00, 48.79it/s]\n"
          ]
        },
        {
          "output_type": "stream",
          "name": "stdout",
          "text": [
            "Finished Batch: \n",
            "Training Loss:  0.5954745507303705 Training Av. Accuracy:  0.804188829787234\n",
            "EVALUATING\n"
          ]
        },
        {
          "output_type": "stream",
          "name": "stderr",
          "text": [
            "100%|██████████| 157/157 [00:02<00:00, 64.94it/s]\n"
          ]
        },
        {
          "output_type": "stream",
          "name": "stdout",
          "text": [
            "Validation Loss:  0.1770985648747842 Validation Av. Accuracy:  0.9441679936305732\n",
            "############ END DLR 3 MODEL 3 REP 2 ############\n",
            "\n",
            "\n",
            "MODEL 3 PARAMETER COUNT: 74657\n",
            "########### START DLR 3 MODEL 3 REP 3 ###########\n"
          ]
        },
        {
          "output_type": "stream",
          "name": "stderr",
          "text": [
            "100%|██████████| 235/235 [00:04<00:00, 58.32it/s]\n"
          ]
        },
        {
          "output_type": "stream",
          "name": "stdout",
          "text": [
            "Finished Batch: \n",
            "Training Loss:  0.6087120012241475 Training Av. Accuracy:  0.799290780141844\n",
            "EVALUATING\n"
          ]
        },
        {
          "output_type": "stream",
          "name": "stderr",
          "text": [
            "100%|██████████| 157/157 [00:02<00:00, 54.10it/s]\n"
          ]
        },
        {
          "output_type": "stream",
          "name": "stdout",
          "text": [
            "Validation Loss:  0.19383842393661002 Validation Av. Accuracy:  0.9414808917197452\n",
            "############ END DLR 3 MODEL 3 REP 3 ############\n",
            "\n",
            "\n",
            "MODEL 3 PARAMETER COUNT: 74657\n",
            "########### START DLR 3 MODEL 3 REP 4 ###########\n"
          ]
        },
        {
          "output_type": "stream",
          "name": "stderr",
          "text": [
            "100%|██████████| 235/235 [00:04<00:00, 52.93it/s]\n"
          ]
        },
        {
          "output_type": "stream",
          "name": "stdout",
          "text": [
            "Finished Batch: \n",
            "Training Loss:  0.597484766105388 Training Av. Accuracy:  0.8122340425531915\n",
            "EVALUATING\n"
          ]
        },
        {
          "output_type": "stream",
          "name": "stderr",
          "text": [
            "100%|██████████| 157/157 [00:02<00:00, 63.76it/s]\n"
          ]
        },
        {
          "output_type": "stream",
          "name": "stdout",
          "text": [
            "Validation Loss:  0.15265597464742175 Validation Av. Accuracy:  0.955015923566879\n",
            "############ END DLR 3 MODEL 3 REP 4 ############\n",
            "\n",
            "\n",
            "MODEL 4 PARAMETER COUNT: 152775\n",
            "########### START DLR 3 MODEL 4 REP 0 ###########\n"
          ]
        },
        {
          "output_type": "stream",
          "name": "stderr",
          "text": [
            "100%|██████████| 235/235 [00:08<00:00, 28.25it/s]\n"
          ]
        },
        {
          "output_type": "stream",
          "name": "stdout",
          "text": [
            "Finished Batch: \n",
            "Training Loss:  0.5506921047542958 Training Av. Accuracy:  0.823116134751773\n",
            "EVALUATING\n"
          ]
        },
        {
          "output_type": "stream",
          "name": "stderr",
          "text": [
            "100%|██████████| 157/157 [00:05<00:00, 27.00it/s]\n"
          ]
        },
        {
          "output_type": "stream",
          "name": "stdout",
          "text": [
            "Validation Loss:  0.12543899677456563 Validation Av. Accuracy:  0.9619824840764332\n",
            "############ END DLR 3 MODEL 4 REP 0 ############\n",
            "\n",
            "\n",
            "MODEL 4 PARAMETER COUNT: 152775\n",
            "########### START DLR 3 MODEL 4 REP 1 ###########\n"
          ]
        },
        {
          "output_type": "stream",
          "name": "stderr",
          "text": [
            "100%|██████████| 235/235 [00:05<00:00, 44.62it/s]\n"
          ]
        },
        {
          "output_type": "stream",
          "name": "stdout",
          "text": [
            "Finished Batch: \n",
            "Training Loss:  0.5194689730697489 Training Av. Accuracy:  0.8370567375886525\n",
            "EVALUATING\n"
          ]
        },
        {
          "output_type": "stream",
          "name": "stderr",
          "text": [
            "100%|██████████| 157/157 [00:03<00:00, 46.72it/s]\n"
          ]
        },
        {
          "output_type": "stream",
          "name": "stdout",
          "text": [
            "Validation Loss:  0.14336516017651862 Validation Av. Accuracy:  0.9580015923566879\n",
            "############ END DLR 3 MODEL 4 REP 1 ############\n",
            "\n",
            "\n",
            "MODEL 4 PARAMETER COUNT: 152775\n",
            "########### START DLR 3 MODEL 4 REP 2 ###########\n"
          ]
        },
        {
          "output_type": "stream",
          "name": "stderr",
          "text": [
            "100%|██████████| 235/235 [00:04<00:00, 50.17it/s]\n"
          ]
        },
        {
          "output_type": "stream",
          "name": "stdout",
          "text": [
            "Finished Batch: \n",
            "Training Loss:  0.5534092638720858 Training Av. Accuracy:  0.822163120567376\n",
            "EVALUATING\n"
          ]
        },
        {
          "output_type": "stream",
          "name": "stderr",
          "text": [
            "100%|██████████| 157/157 [00:04<00:00, 32.31it/s]\n"
          ]
        },
        {
          "output_type": "stream",
          "name": "stdout",
          "text": [
            "Validation Loss:  0.15648903180459503 Validation Av. Accuracy:  0.9539211783439491\n",
            "############ END DLR 3 MODEL 4 REP 2 ############\n",
            "\n",
            "\n",
            "MODEL 4 PARAMETER COUNT: 152775\n",
            "########### START DLR 3 MODEL 4 REP 3 ###########\n"
          ]
        },
        {
          "output_type": "stream",
          "name": "stderr",
          "text": [
            "100%|██████████| 235/235 [00:10<00:00, 23.32it/s]\n"
          ]
        },
        {
          "output_type": "stream",
          "name": "stdout",
          "text": [
            "Finished Batch: \n",
            "Training Loss:  0.4976349397225583 Training Av. Accuracy:  0.8369459219858155\n",
            "EVALUATING\n"
          ]
        },
        {
          "output_type": "stream",
          "name": "stderr",
          "text": [
            "100%|██████████| 157/157 [00:04<00:00, 33.30it/s]\n"
          ]
        },
        {
          "output_type": "stream",
          "name": "stdout",
          "text": [
            "Validation Loss:  0.16632511560467017 Validation Av. Accuracy:  0.9438694267515924\n",
            "############ END DLR 3 MODEL 4 REP 3 ############\n",
            "\n",
            "\n",
            "MODEL 4 PARAMETER COUNT: 152775\n",
            "########### START DLR 3 MODEL 4 REP 4 ###########\n"
          ]
        },
        {
          "output_type": "stream",
          "name": "stderr",
          "text": [
            "100%|██████████| 235/235 [00:05<00:00, 41.72it/s]\n"
          ]
        },
        {
          "output_type": "stream",
          "name": "stdout",
          "text": [
            "Finished Batch: \n",
            "Training Loss:  0.4958222487663969 Training Av. Accuracy:  0.8452570921985815\n",
            "EVALUATING\n"
          ]
        },
        {
          "output_type": "stream",
          "name": "stderr",
          "text": [
            "100%|██████████| 157/157 [00:02<00:00, 63.48it/s]\n"
          ]
        },
        {
          "output_type": "stream",
          "name": "stdout",
          "text": [
            "Validation Loss:  0.1332111365286408 Validation Av. Accuracy:  0.9621815286624203\n",
            "############ END DLR 3 MODEL 4 REP 4 ############\n",
            "\n",
            "\n",
            "MODEL 5 PARAMETER COUNT: 308236\n",
            "########### START DLR 3 MODEL 5 REP 0 ###########\n"
          ]
        },
        {
          "output_type": "stream",
          "name": "stderr",
          "text": [
            "100%|██████████| 235/235 [00:04<00:00, 51.72it/s]\n"
          ]
        },
        {
          "output_type": "stream",
          "name": "stdout",
          "text": [
            "Finished Batch: \n",
            "Training Loss:  0.4726068077093743 Training Av. Accuracy:  0.8523936170212766\n",
            "EVALUATING\n"
          ]
        },
        {
          "output_type": "stream",
          "name": "stderr",
          "text": [
            "100%|██████████| 157/157 [00:03<00:00, 50.56it/s]\n"
          ]
        },
        {
          "output_type": "stream",
          "name": "stdout",
          "text": [
            "Validation Loss:  0.10057210083457695 Validation Av. Accuracy:  0.9679538216560509\n",
            "############ END DLR 3 MODEL 5 REP 0 ############\n",
            "\n",
            "\n",
            "MODEL 5 PARAMETER COUNT: 308236\n",
            "########### START DLR 3 MODEL 5 REP 1 ###########\n"
          ]
        },
        {
          "output_type": "stream",
          "name": "stderr",
          "text": [
            "100%|██████████| 235/235 [00:04<00:00, 56.52it/s]\n"
          ]
        },
        {
          "output_type": "stream",
          "name": "stdout",
          "text": [
            "Finished Batch: \n",
            "Training Loss:  0.4535560243624322 Training Av. Accuracy:  0.8563829787234043\n",
            "EVALUATING\n"
          ]
        },
        {
          "output_type": "stream",
          "name": "stderr",
          "text": [
            "100%|██████████| 157/157 [00:02<00:00, 63.47it/s]\n"
          ]
        },
        {
          "output_type": "stream",
          "name": "stdout",
          "text": [
            "Validation Loss:  0.11928257891303225 Validation Av. Accuracy:  0.9624800955414012\n",
            "############ END DLR 3 MODEL 5 REP 1 ############\n",
            "\n",
            "\n",
            "MODEL 5 PARAMETER COUNT: 308236\n",
            "########### START DLR 3 MODEL 5 REP 2 ###########\n"
          ]
        },
        {
          "output_type": "stream",
          "name": "stderr",
          "text": [
            "100%|██████████| 235/235 [00:05<00:00, 40.91it/s]\n"
          ]
        },
        {
          "output_type": "stream",
          "name": "stdout",
          "text": [
            "Finished Batch: \n",
            "Training Loss:  0.470747719661511 Training Av. Accuracy:  0.8453457446808511\n",
            "EVALUATING\n"
          ]
        },
        {
          "output_type": "stream",
          "name": "stderr",
          "text": [
            "100%|██████████| 157/157 [00:04<00:00, 37.33it/s]\n"
          ]
        },
        {
          "output_type": "stream",
          "name": "stdout",
          "text": [
            "Validation Loss:  0.10920004333683829 Validation Av. Accuracy:  0.9647691082802548\n",
            "############ END DLR 3 MODEL 5 REP 2 ############\n",
            "\n",
            "\n",
            "MODEL 5 PARAMETER COUNT: 308236\n",
            "########### START DLR 3 MODEL 5 REP 3 ###########\n"
          ]
        },
        {
          "output_type": "stream",
          "name": "stderr",
          "text": [
            "100%|██████████| 235/235 [00:06<00:00, 34.14it/s]\n"
          ]
        },
        {
          "output_type": "stream",
          "name": "stdout",
          "text": [
            "Finished Batch: \n",
            "Training Loss:  0.43209278146003155 Training Av. Accuracy:  0.8632535460992908\n",
            "EVALUATING\n"
          ]
        },
        {
          "output_type": "stream",
          "name": "stderr",
          "text": [
            "100%|██████████| 157/157 [00:03<00:00, 52.07it/s]\n"
          ]
        },
        {
          "output_type": "stream",
          "name": "stdout",
          "text": [
            "Validation Loss:  0.1204243681874055 Validation Av. Accuracy:  0.9644705414012739\n",
            "############ END DLR 3 MODEL 5 REP 3 ############\n",
            "\n",
            "\n",
            "MODEL 5 PARAMETER COUNT: 308236\n",
            "########### START DLR 3 MODEL 5 REP 4 ###########\n"
          ]
        },
        {
          "output_type": "stream",
          "name": "stderr",
          "text": [
            "100%|██████████| 235/235 [00:06<00:00, 37.31it/s]\n"
          ]
        },
        {
          "output_type": "stream",
          "name": "stdout",
          "text": [
            "Finished Batch: \n",
            "Training Loss:  0.4436130361591882 Training Av. Accuracy:  0.8562278368794326\n",
            "EVALUATING\n"
          ]
        },
        {
          "output_type": "stream",
          "name": "stderr",
          "text": [
            "100%|██████████| 157/157 [00:02<00:00, 64.17it/s]\n"
          ]
        },
        {
          "output_type": "stream",
          "name": "stdout",
          "text": [
            "Validation Loss:  0.19607168182161203 Validation Av. Accuracy:  0.9281449044585988\n",
            "############ END DLR 3 MODEL 5 REP 4 ############\n",
            "\n",
            "\n",
            "MODEL 0 PARAMETER COUNT: 9798\n",
            "########### START DLR 4 MODEL 0 REP 0 ###########\n"
          ]
        },
        {
          "output_type": "stream",
          "name": "stderr",
          "text": [
            " 99%|█████████▉| 464/469 [00:10<00:00, 56.25it/s]/usr/local/lib/python3.10/dist-packages/torch/nn/modules/conv.py:456: UserWarning:\n",
            "\n",
            "Plan failed with a cudnnException: CUDNN_BACKEND_EXECUTION_PLAN_DESCRIPTOR: cudnnFinalize Descriptor Failed cudnn_status: CUDNN_STATUS_NOT_SUPPORTED (Triggered internally at ../aten/src/ATen/native/cudnn/Conv_v8.cpp:919.)\n",
            "\n",
            "100%|██████████| 469/469 [00:11<00:00, 42.62it/s]\n"
          ]
        },
        {
          "output_type": "stream",
          "name": "stdout",
          "text": [
            "Finished Batch: \n",
            "Training Loss:  0.5978421463704566 Training Av. Accuracy:  0.8056703091684435\n",
            "EVALUATING\n"
          ]
        },
        {
          "output_type": "stream",
          "name": "stderr",
          "text": [
            "100%|██████████| 157/157 [00:02<00:00, 58.44it/s]\n"
          ]
        },
        {
          "output_type": "stream",
          "name": "stdout",
          "text": [
            "Validation Loss:  0.18676903343219667 Validation Av. Accuracy:  0.9421775477707006\n",
            "############ END DLR 4 MODEL 0 REP 0 ############\n",
            "\n",
            "\n",
            "MODEL 0 PARAMETER COUNT: 9798\n",
            "########### START DLR 4 MODEL 0 REP 1 ###########\n"
          ]
        },
        {
          "output_type": "stream",
          "name": "stderr",
          "text": [
            "100%|██████████| 469/469 [00:08<00:00, 54.39it/s]\n"
          ]
        },
        {
          "output_type": "stream",
          "name": "stdout",
          "text": [
            "Finished Batch: \n",
            "Training Loss:  0.7186442891767284 Training Av. Accuracy:  0.7571295309168443\n",
            "EVALUATING\n"
          ]
        },
        {
          "output_type": "stream",
          "name": "stderr",
          "text": [
            "100%|██████████| 157/157 [00:02<00:00, 64.69it/s]\n"
          ]
        },
        {
          "output_type": "stream",
          "name": "stdout",
          "text": [
            "Validation Loss:  0.24918801679163222 Validation Av. Accuracy:  0.921875\n",
            "############ END DLR 4 MODEL 0 REP 1 ############\n",
            "\n",
            "\n",
            "MODEL 0 PARAMETER COUNT: 9798\n",
            "########### START DLR 4 MODEL 0 REP 2 ###########\n"
          ]
        },
        {
          "output_type": "stream",
          "name": "stderr",
          "text": [
            "100%|██████████| 469/469 [00:09<00:00, 51.92it/s]\n"
          ]
        },
        {
          "output_type": "stream",
          "name": "stdout",
          "text": [
            "Finished Batch: \n",
            "Training Loss:  0.6651314425665432 Training Av. Accuracy:  0.7749755685856432\n",
            "EVALUATING\n"
          ]
        },
        {
          "output_type": "stream",
          "name": "stderr",
          "text": [
            "100%|██████████| 157/157 [00:02<00:00, 66.22it/s]\n"
          ]
        },
        {
          "output_type": "stream",
          "name": "stdout",
          "text": [
            "Validation Loss:  0.2710680468067242 Validation Av. Accuracy:  0.9103304140127388\n",
            "############ END DLR 4 MODEL 0 REP 2 ############\n",
            "\n",
            "\n",
            "MODEL 0 PARAMETER COUNT: 9798\n",
            "########### START DLR 4 MODEL 0 REP 3 ###########\n"
          ]
        },
        {
          "output_type": "stream",
          "name": "stderr",
          "text": [
            "100%|██████████| 469/469 [00:09<00:00, 50.23it/s]\n"
          ]
        },
        {
          "output_type": "stream",
          "name": "stdout",
          "text": [
            "Finished Batch: \n",
            "Training Loss:  0.7949864806682825 Training Av. Accuracy:  0.7328091684434968\n",
            "EVALUATING\n"
          ]
        },
        {
          "output_type": "stream",
          "name": "stderr",
          "text": [
            "100%|██████████| 157/157 [00:02<00:00, 64.20it/s]\n"
          ]
        },
        {
          "output_type": "stream",
          "name": "stdout",
          "text": [
            "Validation Loss:  0.2555342712884496 Validation Av. Accuracy:  0.9190883757961783\n",
            "############ END DLR 4 MODEL 0 REP 3 ############\n",
            "\n",
            "\n",
            "MODEL 0 PARAMETER COUNT: 9798\n",
            "########### START DLR 4 MODEL 0 REP 4 ###########\n"
          ]
        },
        {
          "output_type": "stream",
          "name": "stderr",
          "text": [
            "100%|██████████| 469/469 [00:08<00:00, 52.15it/s]\n"
          ]
        },
        {
          "output_type": "stream",
          "name": "stdout",
          "text": [
            "Finished Batch: \n",
            "Training Loss:  0.7763815454201404 Training Av. Accuracy:  0.7337308990760484\n",
            "EVALUATING\n"
          ]
        },
        {
          "output_type": "stream",
          "name": "stderr",
          "text": [
            "100%|██████████| 157/157 [00:02<00:00, 64.73it/s]\n"
          ]
        },
        {
          "output_type": "stream",
          "name": "stdout",
          "text": [
            "Validation Loss:  0.346093331457703 Validation Av. Accuracy:  0.8900278662420382\n",
            "############ END DLR 4 MODEL 0 REP 4 ############\n",
            "\n",
            "\n",
            "MODEL 1 PARAMETER COUNT: 20245\n",
            "########### START DLR 4 MODEL 1 REP 0 ###########\n"
          ]
        },
        {
          "output_type": "stream",
          "name": "stderr",
          "text": [
            "100%|██████████| 469/469 [00:09<00:00, 51.23it/s]\n"
          ]
        },
        {
          "output_type": "stream",
          "name": "stdout",
          "text": [
            "Finished Batch: \n",
            "Training Loss:  0.48479973865168563 Training Av. Accuracy:  0.8400519722814499\n",
            "EVALUATING\n"
          ]
        },
        {
          "output_type": "stream",
          "name": "stderr",
          "text": [
            "100%|██████████| 157/157 [00:02<00:00, 63.37it/s]\n"
          ]
        },
        {
          "output_type": "stream",
          "name": "stdout",
          "text": [
            "Validation Loss:  0.154978757000463 Validation Av. Accuracy:  0.9507364649681529\n",
            "############ END DLR 4 MODEL 1 REP 0 ############\n",
            "\n",
            "\n",
            "MODEL 1 PARAMETER COUNT: 20245\n",
            "########### START DLR 4 MODEL 1 REP 1 ###########\n"
          ]
        },
        {
          "output_type": "stream",
          "name": "stderr",
          "text": [
            "100%|██████████| 469/469 [00:08<00:00, 52.28it/s]\n"
          ]
        },
        {
          "output_type": "stream",
          "name": "stdout",
          "text": [
            "Finished Batch: \n",
            "Training Loss:  0.46549796416307054 Training Av. Accuracy:  0.8518234719260839\n",
            "EVALUATING\n"
          ]
        },
        {
          "output_type": "stream",
          "name": "stderr",
          "text": [
            "100%|██████████| 157/157 [00:02<00:00, 59.19it/s]\n"
          ]
        },
        {
          "output_type": "stream",
          "name": "stdout",
          "text": [
            "Validation Loss:  0.1382016904391111 Validation Av. Accuracy:  0.958797770700637\n",
            "############ END DLR 4 MODEL 1 REP 1 ############\n",
            "\n",
            "\n",
            "MODEL 1 PARAMETER COUNT: 20245\n",
            "########### START DLR 4 MODEL 1 REP 2 ###########\n"
          ]
        },
        {
          "output_type": "stream",
          "name": "stderr",
          "text": [
            "100%|██████████| 469/469 [00:08<00:00, 56.19it/s]\n"
          ]
        },
        {
          "output_type": "stream",
          "name": "stdout",
          "text": [
            "Finished Batch: \n",
            "Training Loss:  0.4911999640100673 Training Av. Accuracy:  0.8455046197583511\n",
            "EVALUATING\n"
          ]
        },
        {
          "output_type": "stream",
          "name": "stderr",
          "text": [
            "100%|██████████| 157/157 [00:03<00:00, 47.27it/s]\n"
          ]
        },
        {
          "output_type": "stream",
          "name": "stdout",
          "text": [
            "Validation Loss:  0.14423418716545316 Validation Av. Accuracy:  0.9554140127388535\n",
            "############ END DLR 4 MODEL 1 REP 2 ############\n",
            "\n",
            "\n",
            "MODEL 1 PARAMETER COUNT: 20245\n",
            "########### START DLR 4 MODEL 1 REP 3 ###########\n"
          ]
        },
        {
          "output_type": "stream",
          "name": "stderr",
          "text": [
            "100%|██████████| 469/469 [00:08<00:00, 56.54it/s]\n"
          ]
        },
        {
          "output_type": "stream",
          "name": "stdout",
          "text": [
            "Finished Batch: \n",
            "Training Loss:  0.5197960023067272 Training Av. Accuracy:  0.8349435856432126\n",
            "EVALUATING\n"
          ]
        },
        {
          "output_type": "stream",
          "name": "stderr",
          "text": [
            "100%|██████████| 157/157 [00:03<00:00, 49.99it/s]\n"
          ]
        },
        {
          "output_type": "stream",
          "name": "stdout",
          "text": [
            "Validation Loss:  0.14093957101083865 Validation Av. Accuracy:  0.9581011146496815\n",
            "############ END DLR 4 MODEL 1 REP 3 ############\n",
            "\n",
            "\n",
            "MODEL 1 PARAMETER COUNT: 20245\n",
            "########### START DLR 4 MODEL 1 REP 4 ###########\n"
          ]
        },
        {
          "output_type": "stream",
          "name": "stderr",
          "text": [
            "100%|██████████| 469/469 [00:08<00:00, 55.17it/s]\n"
          ]
        },
        {
          "output_type": "stream",
          "name": "stdout",
          "text": [
            "Finished Batch: \n",
            "Training Loss:  0.4451115587309225 Training Av. Accuracy:  0.8617848258706468\n",
            "EVALUATING\n"
          ]
        },
        {
          "output_type": "stream",
          "name": "stderr",
          "text": [
            "100%|██████████| 157/157 [00:02<00:00, 58.79it/s]\n"
          ]
        },
        {
          "output_type": "stream",
          "name": "stdout",
          "text": [
            "Validation Loss:  0.17462224121780912 Validation Av. Accuracy:  0.9453622611464968\n",
            "############ END DLR 4 MODEL 1 REP 4 ############\n",
            "\n",
            "\n",
            "MODEL 2 PARAMETER COUNT: 38306\n",
            "########### START DLR 4 MODEL 2 REP 0 ###########\n"
          ]
        },
        {
          "output_type": "stream",
          "name": "stderr",
          "text": [
            "100%|██████████| 469/469 [00:09<00:00, 51.56it/s]\n"
          ]
        },
        {
          "output_type": "stream",
          "name": "stdout",
          "text": [
            "Finished Batch: \n",
            "Training Loss:  0.4310153007888591 Training Av. Accuracy:  0.8590640547263682\n",
            "EVALUATING\n"
          ]
        },
        {
          "output_type": "stream",
          "name": "stderr",
          "text": [
            "100%|██████████| 157/157 [00:02<00:00, 62.66it/s]\n"
          ]
        },
        {
          "output_type": "stream",
          "name": "stdout",
          "text": [
            "Validation Loss:  0.12288291009653146 Validation Av. Accuracy:  0.9644705414012739\n",
            "############ END DLR 4 MODEL 2 REP 0 ############\n",
            "\n",
            "\n",
            "MODEL 2 PARAMETER COUNT: 38306\n",
            "########### START DLR 4 MODEL 2 REP 1 ###########\n"
          ]
        },
        {
          "output_type": "stream",
          "name": "stderr",
          "text": [
            "100%|██████████| 469/469 [00:09<00:00, 50.38it/s]\n"
          ]
        },
        {
          "output_type": "stream",
          "name": "stdout",
          "text": [
            "Finished Batch: \n",
            "Training Loss:  0.4592736247998438 Training Av. Accuracy:  0.8548107675906184\n",
            "EVALUATING\n"
          ]
        },
        {
          "output_type": "stream",
          "name": "stderr",
          "text": [
            "100%|██████████| 157/157 [00:02<00:00, 64.44it/s]\n"
          ]
        },
        {
          "output_type": "stream",
          "name": "stdout",
          "text": [
            "Validation Loss:  0.14928330791888722 Validation Av. Accuracy:  0.9572054140127388\n",
            "############ END DLR 4 MODEL 2 REP 1 ############\n",
            "\n",
            "\n",
            "MODEL 2 PARAMETER COUNT: 38306\n",
            "########### START DLR 4 MODEL 2 REP 2 ###########\n"
          ]
        },
        {
          "output_type": "stream",
          "name": "stderr",
          "text": [
            "100%|██████████| 469/469 [00:09<00:00, 50.64it/s]\n"
          ]
        },
        {
          "output_type": "stream",
          "name": "stdout",
          "text": [
            "Finished Batch: \n",
            "Training Loss:  0.5355593305883377 Training Av. Accuracy:  0.8225501954513149\n",
            "EVALUATING\n"
          ]
        },
        {
          "output_type": "stream",
          "name": "stderr",
          "text": [
            "100%|██████████| 157/157 [00:02<00:00, 62.63it/s]\n"
          ]
        },
        {
          "output_type": "stream",
          "name": "stdout",
          "text": [
            "Validation Loss:  0.14692131391945917 Validation Av. Accuracy:  0.9543192675159236\n",
            "############ END DLR 4 MODEL 2 REP 2 ############\n",
            "\n",
            "\n",
            "MODEL 2 PARAMETER COUNT: 38306\n",
            "########### START DLR 4 MODEL 2 REP 3 ###########\n"
          ]
        },
        {
          "output_type": "stream",
          "name": "stderr",
          "text": [
            "100%|██████████| 469/469 [00:09<00:00, 49.76it/s]\n"
          ]
        },
        {
          "output_type": "stream",
          "name": "stdout",
          "text": [
            "Finished Batch: \n",
            "Training Loss:  0.3853262308349551 Training Av. Accuracy:  0.8765214108031273\n",
            "EVALUATING\n"
          ]
        },
        {
          "output_type": "stream",
          "name": "stderr",
          "text": [
            "100%|██████████| 157/157 [00:02<00:00, 58.60it/s]\n"
          ]
        },
        {
          "output_type": "stream",
          "name": "stdout",
          "text": [
            "Validation Loss:  0.11496628870724872 Validation Av. Accuracy:  0.9624800955414012\n",
            "############ END DLR 4 MODEL 2 REP 3 ############\n",
            "\n",
            "\n",
            "MODEL 2 PARAMETER COUNT: 38306\n",
            "########### START DLR 4 MODEL 2 REP 4 ###########\n"
          ]
        },
        {
          "output_type": "stream",
          "name": "stderr",
          "text": [
            "100%|██████████| 469/469 [00:15<00:00, 31.01it/s]\n"
          ]
        },
        {
          "output_type": "stream",
          "name": "stdout",
          "text": [
            "Finished Batch: \n",
            "Training Loss:  0.5049620621494139 Training Av. Accuracy:  0.8316675550817342\n",
            "EVALUATING\n"
          ]
        },
        {
          "output_type": "stream",
          "name": "stderr",
          "text": [
            "100%|██████████| 157/157 [00:03<00:00, 43.86it/s]\n"
          ]
        },
        {
          "output_type": "stream",
          "name": "stdout",
          "text": [
            "Validation Loss:  0.15292350981076053 Validation Av. Accuracy:  0.9544187898089171\n",
            "############ END DLR 4 MODEL 2 REP 4 ############\n",
            "\n",
            "\n",
            "MODEL 3 PARAMETER COUNT: 74657\n",
            "########### START DLR 4 MODEL 3 REP 0 ###########\n"
          ]
        },
        {
          "output_type": "stream",
          "name": "stderr",
          "text": [
            "100%|██████████| 469/469 [00:10<00:00, 46.14it/s]\n"
          ]
        },
        {
          "output_type": "stream",
          "name": "stdout",
          "text": [
            "Finished Batch: \n",
            "Training Loss:  0.3861346676238755 Training Av. Accuracy:  0.8783759772565742\n",
            "EVALUATING\n"
          ]
        },
        {
          "output_type": "stream",
          "name": "stderr",
          "text": [
            "100%|██████████| 157/157 [00:05<00:00, 29.79it/s]\n"
          ]
        },
        {
          "output_type": "stream",
          "name": "stdout",
          "text": [
            "Validation Loss:  0.10106215106358954 Validation Av. Accuracy:  0.9694466560509554\n",
            "############ END DLR 4 MODEL 3 REP 0 ############\n",
            "\n",
            "\n",
            "MODEL 3 PARAMETER COUNT: 74657\n",
            "########### START DLR 4 MODEL 3 REP 1 ###########\n"
          ]
        },
        {
          "output_type": "stream",
          "name": "stderr",
          "text": [
            "100%|██████████| 469/469 [00:08<00:00, 55.90it/s]\n"
          ]
        },
        {
          "output_type": "stream",
          "name": "stdout",
          "text": [
            "Finished Batch: \n",
            "Training Loss:  0.3796551899353007 Training Av. Accuracy:  0.8821850568585644\n",
            "EVALUATING\n"
          ]
        },
        {
          "output_type": "stream",
          "name": "stderr",
          "text": [
            "100%|██████████| 157/157 [00:02<00:00, 55.13it/s]\n"
          ]
        },
        {
          "output_type": "stream",
          "name": "stdout",
          "text": [
            "Validation Loss:  0.10218999604842845 Validation Av. Accuracy:  0.9677547770700637\n",
            "############ END DLR 4 MODEL 3 REP 1 ############\n",
            "\n",
            "\n",
            "MODEL 3 PARAMETER COUNT: 74657\n",
            "########### START DLR 4 MODEL 3 REP 2 ###########\n"
          ]
        },
        {
          "output_type": "stream",
          "name": "stderr",
          "text": [
            "100%|██████████| 469/469 [00:12<00:00, 36.79it/s]\n"
          ]
        },
        {
          "output_type": "stream",
          "name": "stdout",
          "text": [
            "Finished Batch: \n",
            "Training Loss:  0.3812887996101557 Training Av. Accuracy:  0.8765658315565032\n",
            "EVALUATING\n"
          ]
        },
        {
          "output_type": "stream",
          "name": "stderr",
          "text": [
            "100%|██████████| 157/157 [00:04<00:00, 32.84it/s]\n"
          ]
        },
        {
          "output_type": "stream",
          "name": "stdout",
          "text": [
            "Validation Loss:  0.10949615488766105 Validation Av. Accuracy:  0.9637738853503185\n",
            "############ END DLR 4 MODEL 3 REP 2 ############\n",
            "\n",
            "\n",
            "MODEL 3 PARAMETER COUNT: 74657\n",
            "########### START DLR 4 MODEL 3 REP 3 ###########\n"
          ]
        },
        {
          "output_type": "stream",
          "name": "stderr",
          "text": [
            "100%|██████████| 469/469 [00:13<00:00, 35.04it/s]\n"
          ]
        },
        {
          "output_type": "stream",
          "name": "stdout",
          "text": [
            "Finished Batch: \n",
            "Training Loss:  0.3658413951362628 Training Av. Accuracy:  0.886915867093106\n",
            "EVALUATING\n"
          ]
        },
        {
          "output_type": "stream",
          "name": "stderr",
          "text": [
            "100%|██████████| 157/157 [00:04<00:00, 32.57it/s]\n"
          ]
        },
        {
          "output_type": "stream",
          "name": "stdout",
          "text": [
            "Validation Loss:  0.10999887070031303 Validation Av. Accuracy:  0.9650676751592356\n",
            "############ END DLR 4 MODEL 3 REP 3 ############\n",
            "\n",
            "\n",
            "MODEL 3 PARAMETER COUNT: 74657\n",
            "########### START DLR 4 MODEL 3 REP 4 ###########\n"
          ]
        },
        {
          "output_type": "stream",
          "name": "stderr",
          "text": [
            "100%|██████████| 469/469 [00:12<00:00, 37.47it/s]\n"
          ]
        },
        {
          "output_type": "stream",
          "name": "stdout",
          "text": [
            "Finished Batch: \n",
            "Training Loss:  0.3600318305520043 Training Av. Accuracy:  0.8853833511016347\n",
            "EVALUATING\n"
          ]
        },
        {
          "output_type": "stream",
          "name": "stderr",
          "text": [
            "100%|██████████| 157/157 [00:02<00:00, 53.06it/s]\n"
          ]
        },
        {
          "output_type": "stream",
          "name": "stdout",
          "text": [
            "Validation Loss:  0.1287565194782178 Validation Av. Accuracy:  0.9590963375796179\n",
            "############ END DLR 4 MODEL 3 REP 4 ############\n",
            "\n",
            "\n",
            "MODEL 4 PARAMETER COUNT: 152775\n",
            "########### START DLR 4 MODEL 4 REP 0 ###########\n"
          ]
        },
        {
          "output_type": "stream",
          "name": "stderr",
          "text": [
            "100%|██████████| 469/469 [00:13<00:00, 34.70it/s]\n"
          ]
        },
        {
          "output_type": "stream",
          "name": "stdout",
          "text": [
            "Finished Batch: \n",
            "Training Loss:  0.32281907899642803 Training Av. Accuracy:  0.8996757285003554\n",
            "EVALUATING\n"
          ]
        },
        {
          "output_type": "stream",
          "name": "stderr",
          "text": [
            "100%|██████████| 157/157 [00:03<00:00, 50.78it/s]\n"
          ]
        },
        {
          "output_type": "stream",
          "name": "stdout",
          "text": [
            "Validation Loss:  0.07846122624198343 Validation Av. Accuracy:  0.9750199044585988\n",
            "############ END DLR 4 MODEL 4 REP 0 ############\n",
            "\n",
            "\n",
            "MODEL 4 PARAMETER COUNT: 152775\n",
            "########### START DLR 4 MODEL 4 REP 1 ###########\n"
          ]
        },
        {
          "output_type": "stream",
          "name": "stderr",
          "text": [
            "100%|██████████| 469/469 [00:09<00:00, 49.80it/s]\n"
          ]
        },
        {
          "output_type": "stream",
          "name": "stdout",
          "text": [
            "Finished Batch: \n",
            "Training Loss:  0.36576872975873287 Training Av. Accuracy:  0.8845615671641791\n",
            "EVALUATING\n"
          ]
        },
        {
          "output_type": "stream",
          "name": "stderr",
          "text": [
            "100%|██████████| 157/157 [00:05<00:00, 26.48it/s]\n"
          ]
        },
        {
          "output_type": "stream",
          "name": "stdout",
          "text": [
            "Validation Loss:  0.10051327063197828 Validation Av. Accuracy:  0.964968152866242\n",
            "############ END DLR 4 MODEL 4 REP 1 ############\n",
            "\n",
            "\n",
            "MODEL 4 PARAMETER COUNT: 152775\n",
            "########### START DLR 4 MODEL 4 REP 2 ###########\n"
          ]
        },
        {
          "output_type": "stream",
          "name": "stderr",
          "text": [
            "100%|██████████| 469/469 [00:16<00:00, 29.20it/s]\n"
          ]
        },
        {
          "output_type": "stream",
          "name": "stdout",
          "text": [
            "Finished Batch: \n",
            "Training Loss:  0.33255236265239624 Training Av. Accuracy:  0.8941564498933902\n",
            "EVALUATING\n"
          ]
        },
        {
          "output_type": "stream",
          "name": "stderr",
          "text": [
            "100%|██████████| 157/157 [00:04<00:00, 37.67it/s]\n"
          ]
        },
        {
          "output_type": "stream",
          "name": "stdout",
          "text": [
            "Validation Loss:  0.09654969046082182 Validation Av. Accuracy:  0.9691480891719745\n",
            "############ END DLR 4 MODEL 4 REP 2 ############\n",
            "\n",
            "\n",
            "MODEL 4 PARAMETER COUNT: 152775\n",
            "########### START DLR 4 MODEL 4 REP 3 ###########\n"
          ]
        },
        {
          "output_type": "stream",
          "name": "stderr",
          "text": [
            "100%|██████████| 469/469 [00:09<00:00, 50.18it/s]\n"
          ]
        },
        {
          "output_type": "stream",
          "name": "stdout",
          "text": [
            "Finished Batch: \n",
            "Training Loss:  0.33636007082265323 Training Av. Accuracy:  0.8936345060412224\n",
            "EVALUATING\n"
          ]
        },
        {
          "output_type": "stream",
          "name": "stderr",
          "text": [
            "100%|██████████| 157/157 [00:03<00:00, 44.05it/s]\n"
          ]
        },
        {
          "output_type": "stream",
          "name": "stdout",
          "text": [
            "Validation Loss:  0.08905682336705126 Validation Av. Accuracy:  0.9737261146496815\n",
            "############ END DLR 4 MODEL 4 REP 3 ############\n",
            "\n",
            "\n",
            "MODEL 4 PARAMETER COUNT: 152775\n",
            "########### START DLR 4 MODEL 4 REP 4 ###########\n"
          ]
        },
        {
          "output_type": "stream",
          "name": "stderr",
          "text": [
            "100%|██████████| 469/469 [00:12<00:00, 36.31it/s]\n"
          ]
        },
        {
          "output_type": "stream",
          "name": "stdout",
          "text": [
            "Finished Batch: \n",
            "Training Loss:  0.333077396278077 Training Av. Accuracy:  0.8912135749822317\n",
            "EVALUATING\n"
          ]
        },
        {
          "output_type": "stream",
          "name": "stderr",
          "text": [
            "100%|██████████| 157/157 [00:02<00:00, 65.05it/s]\n"
          ]
        },
        {
          "output_type": "stream",
          "name": "stdout",
          "text": [
            "Validation Loss:  0.09545174948752495 Validation Av. Accuracy:  0.9702428343949044\n",
            "############ END DLR 4 MODEL 4 REP 4 ############\n",
            "\n",
            "\n",
            "MODEL 5 PARAMETER COUNT: 308236\n",
            "########### START DLR 4 MODEL 5 REP 0 ###########\n"
          ]
        },
        {
          "output_type": "stream",
          "name": "stderr",
          "text": [
            "100%|██████████| 469/469 [00:12<00:00, 38.80it/s]\n"
          ]
        },
        {
          "output_type": "stream",
          "name": "stdout",
          "text": [
            "Finished Batch: \n",
            "Training Loss:  0.27464675053016846 Training Av. Accuracy:  0.9127687455579248\n",
            "EVALUATING\n"
          ]
        },
        {
          "output_type": "stream",
          "name": "stderr",
          "text": [
            "100%|██████████| 157/157 [00:03<00:00, 50.86it/s]\n"
          ]
        },
        {
          "output_type": "stream",
          "name": "stdout",
          "text": [
            "Validation Loss:  0.09076735242062313 Validation Av. Accuracy:  0.9721337579617835\n",
            "############ END DLR 4 MODEL 5 REP 0 ############\n",
            "\n",
            "\n",
            "MODEL 5 PARAMETER COUNT: 308236\n",
            "########### START DLR 4 MODEL 5 REP 1 ###########\n"
          ]
        },
        {
          "output_type": "stream",
          "name": "stderr",
          "text": [
            "100%|██████████| 469/469 [00:09<00:00, 51.25it/s]\n"
          ]
        },
        {
          "output_type": "stream",
          "name": "stdout",
          "text": [
            "Finished Batch: \n",
            "Training Loss:  0.30184453530018646 Training Av. Accuracy:  0.8992759417199716\n",
            "EVALUATING\n"
          ]
        },
        {
          "output_type": "stream",
          "name": "stderr",
          "text": [
            "100%|██████████| 157/157 [00:05<00:00, 30.39it/s]\n"
          ]
        },
        {
          "output_type": "stream",
          "name": "stdout",
          "text": [
            "Validation Loss:  0.09300168259010004 Validation Av. Accuracy:  0.9720342356687898\n",
            "############ END DLR 4 MODEL 5 REP 1 ############\n",
            "\n",
            "\n",
            "MODEL 5 PARAMETER COUNT: 308236\n",
            "########### START DLR 4 MODEL 5 REP 2 ###########\n"
          ]
        },
        {
          "output_type": "stream",
          "name": "stderr",
          "text": [
            "100%|██████████| 469/469 [00:08<00:00, 55.34it/s]\n"
          ]
        },
        {
          "output_type": "stream",
          "name": "stdout",
          "text": [
            "Finished Batch: \n",
            "Training Loss:  0.2881576654963942 Training Av. Accuracy:  0.9086931414356787\n",
            "EVALUATING\n"
          ]
        },
        {
          "output_type": "stream",
          "name": "stderr",
          "text": [
            "100%|██████████| 157/157 [00:02<00:00, 55.44it/s]\n"
          ]
        },
        {
          "output_type": "stream",
          "name": "stdout",
          "text": [
            "Validation Loss:  0.08593364958621703 Validation Av. Accuracy:  0.9718351910828026\n",
            "############ END DLR 4 MODEL 5 REP 2 ############\n",
            "\n",
            "\n",
            "MODEL 5 PARAMETER COUNT: 308236\n",
            "########### START DLR 4 MODEL 5 REP 3 ###########\n"
          ]
        },
        {
          "output_type": "stream",
          "name": "stderr",
          "text": [
            "100%|██████████| 469/469 [00:12<00:00, 38.41it/s]\n"
          ]
        },
        {
          "output_type": "stream",
          "name": "stdout",
          "text": [
            "Finished Batch: \n",
            "Training Loss:  0.26709795512282836 Training Av. Accuracy:  0.9165222992181947\n",
            "EVALUATING\n"
          ]
        },
        {
          "output_type": "stream",
          "name": "stderr",
          "text": [
            "100%|██████████| 157/157 [00:04<00:00, 38.23it/s]\n"
          ]
        },
        {
          "output_type": "stream",
          "name": "stdout",
          "text": [
            "Validation Loss:  0.08598084916259832 Validation Av. Accuracy:  0.9745222929936306\n",
            "############ END DLR 4 MODEL 5 REP 3 ############\n",
            "\n",
            "\n",
            "MODEL 5 PARAMETER COUNT: 308236\n",
            "########### START DLR 4 MODEL 5 REP 4 ###########\n"
          ]
        },
        {
          "output_type": "stream",
          "name": "stderr",
          "text": [
            "100%|██████████| 469/469 [00:13<00:00, 33.63it/s]\n"
          ]
        },
        {
          "output_type": "stream",
          "name": "stdout",
          "text": [
            "Finished Batch: \n",
            "Training Loss:  0.26301326642214046 Training Av. Accuracy:  0.917854921819474\n",
            "EVALUATING\n"
          ]
        },
        {
          "output_type": "stream",
          "name": "stderr",
          "text": [
            "100%|██████████| 157/157 [00:04<00:00, 35.90it/s]\n"
          ]
        },
        {
          "output_type": "stream",
          "name": "stdout",
          "text": [
            "Validation Loss:  0.07646615828452691 Validation Av. Accuracy:  0.9762141719745223\n",
            "############ END DLR 4 MODEL 5 REP 4 ############\n",
            "\n",
            "\n",
            "MODEL 0 PARAMETER COUNT: 9798\n",
            "########### START DLR 5 MODEL 0 REP 0 ###########\n"
          ]
        },
        {
          "output_type": "stream",
          "name": "stderr",
          "text": [
            "100%|█████████▉| 937/938 [00:21<00:00, 41.00it/s]/usr/local/lib/python3.10/dist-packages/torch/nn/modules/conv.py:456: UserWarning:\n",
            "\n",
            "Plan failed with a cudnnException: CUDNN_BACKEND_EXECUTION_PLAN_DESCRIPTOR: cudnnFinalize Descriptor Failed cudnn_status: CUDNN_STATUS_NOT_SUPPORTED (Triggered internally at ../aten/src/ATen/native/cudnn/Conv_v8.cpp:919.)\n",
            "\n",
            "100%|██████████| 938/938 [00:21<00:00, 44.56it/s]\n"
          ]
        },
        {
          "output_type": "stream",
          "name": "stdout",
          "text": [
            "Finished Batch: \n",
            "Training Loss:  0.4177860401705829 Training Av. Accuracy:  0.8681869669509595\n",
            "EVALUATING\n"
          ]
        },
        {
          "output_type": "stream",
          "name": "stderr",
          "text": [
            "100%|██████████| 157/157 [00:02<00:00, 60.86it/s]\n"
          ]
        },
        {
          "output_type": "stream",
          "name": "stdout",
          "text": [
            "Validation Loss:  0.15561123382134043 Validation Av. Accuracy:  0.9506369426751592\n",
            "############ END DLR 5 MODEL 0 REP 0 ############\n",
            "\n",
            "\n",
            "MODEL 0 PARAMETER COUNT: 9798\n",
            "########### START DLR 5 MODEL 0 REP 1 ###########\n"
          ]
        },
        {
          "output_type": "stream",
          "name": "stderr",
          "text": [
            "100%|██████████| 938/938 [00:18<00:00, 51.86it/s]\n"
          ]
        },
        {
          "output_type": "stream",
          "name": "stdout",
          "text": [
            "Finished Batch: \n",
            "Training Loss:  0.4375527233584349 Training Av. Accuracy:  0.857376066098081\n",
            "EVALUATING\n"
          ]
        },
        {
          "output_type": "stream",
          "name": "stderr",
          "text": [
            "100%|██████████| 157/157 [00:02<00:00, 54.11it/s]\n"
          ]
        },
        {
          "output_type": "stream",
          "name": "stdout",
          "text": [
            "Validation Loss:  0.16741821599329354 Validation Av. Accuracy:  0.9491441082802548\n",
            "############ END DLR 5 MODEL 0 REP 1 ############\n",
            "\n",
            "\n",
            "MODEL 0 PARAMETER COUNT: 9798\n",
            "########### START DLR 5 MODEL 0 REP 2 ###########\n"
          ]
        },
        {
          "output_type": "stream",
          "name": "stderr",
          "text": [
            "100%|██████████| 938/938 [00:19<00:00, 49.35it/s]\n"
          ]
        },
        {
          "output_type": "stream",
          "name": "stdout",
          "text": [
            "Finished Batch: \n",
            "Training Loss:  0.3671771474341467 Training Av. Accuracy:  0.8826459221748401\n",
            "EVALUATING\n"
          ]
        },
        {
          "output_type": "stream",
          "name": "stderr",
          "text": [
            "100%|██████████| 157/157 [00:02<00:00, 62.21it/s]\n"
          ]
        },
        {
          "output_type": "stream",
          "name": "stdout",
          "text": [
            "Validation Loss:  0.11827715964406539 Validation Av. Accuracy:  0.9617834394904459\n",
            "############ END DLR 5 MODEL 0 REP 2 ############\n",
            "\n",
            "\n",
            "MODEL 0 PARAMETER COUNT: 9798\n",
            "########### START DLR 5 MODEL 0 REP 3 ###########\n"
          ]
        },
        {
          "output_type": "stream",
          "name": "stderr",
          "text": [
            "100%|██████████| 938/938 [00:18<00:00, 50.32it/s]\n"
          ]
        },
        {
          "output_type": "stream",
          "name": "stdout",
          "text": [
            "Finished Batch: \n",
            "Training Loss:  0.4418682773579667 Training Av. Accuracy:  0.857492670575693\n",
            "EVALUATING\n"
          ]
        },
        {
          "output_type": "stream",
          "name": "stderr",
          "text": [
            "100%|██████████| 157/157 [00:03<00:00, 48.79it/s]\n"
          ]
        },
        {
          "output_type": "stream",
          "name": "stdout",
          "text": [
            "Validation Loss:  0.17685470768031042 Validation Av. Accuracy:  0.9452627388535032\n",
            "############ END DLR 5 MODEL 0 REP 3 ############\n",
            "\n",
            "\n",
            "MODEL 0 PARAMETER COUNT: 9798\n",
            "########### START DLR 5 MODEL 0 REP 4 ###########\n"
          ]
        },
        {
          "output_type": "stream",
          "name": "stderr",
          "text": [
            "100%|██████████| 938/938 [00:24<00:00, 38.10it/s]\n"
          ]
        },
        {
          "output_type": "stream",
          "name": "stdout",
          "text": [
            "Finished Batch: \n",
            "Training Loss:  0.39234666949483565 Training Av. Accuracy:  0.8737839818763327\n",
            "EVALUATING\n"
          ]
        },
        {
          "output_type": "stream",
          "name": "stderr",
          "text": [
            "100%|██████████| 157/157 [00:05<00:00, 30.77it/s]\n"
          ]
        },
        {
          "output_type": "stream",
          "name": "stdout",
          "text": [
            "Validation Loss:  0.14420003346671725 Validation Av. Accuracy:  0.9553144904458599\n",
            "############ END DLR 5 MODEL 0 REP 4 ############\n",
            "\n",
            "\n",
            "MODEL 1 PARAMETER COUNT: 20245\n",
            "########### START DLR 5 MODEL 1 REP 0 ###########\n"
          ]
        },
        {
          "output_type": "stream",
          "name": "stderr",
          "text": [
            "100%|██████████| 938/938 [00:22<00:00, 42.56it/s]\n"
          ]
        },
        {
          "output_type": "stream",
          "name": "stdout",
          "text": [
            "Finished Batch: \n",
            "Training Loss:  0.33317098812436435 Training Av. Accuracy:  0.8954557569296375\n",
            "EVALUATING\n"
          ]
        },
        {
          "output_type": "stream",
          "name": "stderr",
          "text": [
            "100%|██████████| 157/157 [00:03<00:00, 43.87it/s]\n"
          ]
        },
        {
          "output_type": "stream",
          "name": "stdout",
          "text": [
            "Validation Loss:  0.10159515365839573 Validation Av. Accuracy:  0.9691480891719745\n",
            "############ END DLR 5 MODEL 1 REP 0 ############\n",
            "\n",
            "\n",
            "MODEL 1 PARAMETER COUNT: 20245\n",
            "########### START DLR 5 MODEL 1 REP 1 ###########\n"
          ]
        },
        {
          "output_type": "stream",
          "name": "stderr",
          "text": [
            "100%|██████████| 938/938 [00:26<00:00, 36.02it/s]\n"
          ]
        },
        {
          "output_type": "stream",
          "name": "stdout",
          "text": [
            "Finished Batch: \n",
            "Training Loss:  0.34208416016593673 Training Av. Accuracy:  0.8912913113006397\n",
            "EVALUATING\n"
          ]
        },
        {
          "output_type": "stream",
          "name": "stderr",
          "text": [
            "100%|██████████| 157/157 [00:03<00:00, 46.22it/s]\n"
          ]
        },
        {
          "output_type": "stream",
          "name": "stdout",
          "text": [
            "Validation Loss:  0.11981583247257835 Validation Av. Accuracy:  0.9616839171974523\n",
            "############ END DLR 5 MODEL 1 REP 1 ############\n",
            "\n",
            "\n",
            "MODEL 1 PARAMETER COUNT: 20245\n",
            "########### START DLR 5 MODEL 1 REP 2 ###########\n"
          ]
        },
        {
          "output_type": "stream",
          "name": "stderr",
          "text": [
            "100%|██████████| 938/938 [00:23<00:00, 39.41it/s]\n"
          ]
        },
        {
          "output_type": "stream",
          "name": "stdout",
          "text": [
            "Finished Batch: \n",
            "Training Loss:  0.38425296192158703 Training Av. Accuracy:  0.8729677505330491\n",
            "EVALUATING\n"
          ]
        },
        {
          "output_type": "stream",
          "name": "stderr",
          "text": [
            "100%|██████████| 157/157 [00:02<00:00, 60.84it/s]\n"
          ]
        },
        {
          "output_type": "stream",
          "name": "stdout",
          "text": [
            "Validation Loss:  0.12711490708504133 Validation Av. Accuracy:  0.9573049363057324\n",
            "############ END DLR 5 MODEL 1 REP 2 ############\n",
            "\n",
            "\n",
            "MODEL 1 PARAMETER COUNT: 20245\n",
            "########### START DLR 5 MODEL 1 REP 3 ###########\n"
          ]
        },
        {
          "output_type": "stream",
          "name": "stderr",
          "text": [
            "100%|██████████| 938/938 [00:18<00:00, 50.98it/s]\n"
          ]
        },
        {
          "output_type": "stream",
          "name": "stdout",
          "text": [
            "Finished Batch: \n",
            "Training Loss:  0.35152442360928315 Training Av. Accuracy:  0.8863106343283582\n",
            "EVALUATING\n"
          ]
        },
        {
          "output_type": "stream",
          "name": "stderr",
          "text": [
            "100%|██████████| 157/157 [00:03<00:00, 46.53it/s]\n"
          ]
        },
        {
          "output_type": "stream",
          "name": "stdout",
          "text": [
            "Validation Loss:  0.08966031716246704 Validation Av. Accuracy:  0.9727308917197452\n",
            "############ END DLR 5 MODEL 1 REP 3 ############\n",
            "\n",
            "\n",
            "MODEL 1 PARAMETER COUNT: 20245\n",
            "########### START DLR 5 MODEL 1 REP 4 ###########\n"
          ]
        },
        {
          "output_type": "stream",
          "name": "stderr",
          "text": [
            "100%|██████████| 938/938 [00:18<00:00, 50.03it/s]\n"
          ]
        },
        {
          "output_type": "stream",
          "name": "stdout",
          "text": [
            "Finished Batch: \n",
            "Training Loss:  0.29828291206455815 Training Av. Accuracy:  0.9076159381663113\n",
            "EVALUATING\n"
          ]
        },
        {
          "output_type": "stream",
          "name": "stderr",
          "text": [
            "100%|██████████| 157/157 [00:02<00:00, 62.25it/s]\n"
          ]
        },
        {
          "output_type": "stream",
          "name": "stdout",
          "text": [
            "Validation Loss:  0.09833336965874977 Validation Av. Accuracy:  0.9675557324840764\n",
            "############ END DLR 5 MODEL 1 REP 4 ############\n",
            "\n",
            "\n",
            "MODEL 2 PARAMETER COUNT: 38306\n",
            "########### START DLR 5 MODEL 2 REP 0 ###########\n"
          ]
        },
        {
          "output_type": "stream",
          "name": "stderr",
          "text": [
            "100%|██████████| 938/938 [00:19<00:00, 48.05it/s]\n"
          ]
        },
        {
          "output_type": "stream",
          "name": "stdout",
          "text": [
            "Finished Batch: \n",
            "Training Loss:  0.29218137184721926 Training Av. Accuracy:  0.9073494136460555\n",
            "EVALUATING\n"
          ]
        },
        {
          "output_type": "stream",
          "name": "stderr",
          "text": [
            "100%|██████████| 157/157 [00:02<00:00, 59.78it/s]\n"
          ]
        },
        {
          "output_type": "stream",
          "name": "stdout",
          "text": [
            "Validation Loss:  0.10059216512355265 Validation Av. Accuracy:  0.9667595541401274\n",
            "############ END DLR 5 MODEL 2 REP 0 ############\n",
            "\n",
            "\n",
            "MODEL 2 PARAMETER COUNT: 38306\n",
            "########### START DLR 5 MODEL 2 REP 1 ###########\n"
          ]
        },
        {
          "output_type": "stream",
          "name": "stderr",
          "text": [
            "100%|██████████| 938/938 [00:18<00:00, 51.69it/s]\n"
          ]
        },
        {
          "output_type": "stream",
          "name": "stdout",
          "text": [
            "Finished Batch: \n",
            "Training Loss:  0.28546717350702805 Training Av. Accuracy:  0.9087819829424307\n",
            "EVALUATING\n"
          ]
        },
        {
          "output_type": "stream",
          "name": "stderr",
          "text": [
            "100%|██████████| 157/157 [00:03<00:00, 46.17it/s]\n"
          ]
        },
        {
          "output_type": "stream",
          "name": "stdout",
          "text": [
            "Validation Loss:  0.08885054217924358 Validation Av. Accuracy:  0.9722332802547771\n",
            "############ END DLR 5 MODEL 2 REP 1 ############\n",
            "\n",
            "\n",
            "MODEL 2 PARAMETER COUNT: 38306\n",
            "########### START DLR 5 MODEL 2 REP 2 ###########\n"
          ]
        },
        {
          "output_type": "stream",
          "name": "stderr",
          "text": [
            "100%|██████████| 938/938 [00:18<00:00, 50.27it/s]\n"
          ]
        },
        {
          "output_type": "stream",
          "name": "stdout",
          "text": [
            "Finished Batch: \n",
            "Training Loss:  0.2925326604940204 Training Av. Accuracy:  0.9070828891257996\n",
            "EVALUATING\n"
          ]
        },
        {
          "output_type": "stream",
          "name": "stderr",
          "text": [
            "100%|██████████| 157/157 [00:02<00:00, 60.55it/s]\n"
          ]
        },
        {
          "output_type": "stream",
          "name": "stdout",
          "text": [
            "Validation Loss:  0.09099601278567959 Validation Av. Accuracy:  0.9711385350318471\n",
            "############ END DLR 5 MODEL 2 REP 2 ############\n",
            "\n",
            "\n",
            "MODEL 2 PARAMETER COUNT: 38306\n",
            "########### START DLR 5 MODEL 2 REP 3 ###########\n"
          ]
        },
        {
          "output_type": "stream",
          "name": "stderr",
          "text": [
            "100%|██████████| 938/938 [00:19<00:00, 47.94it/s]\n"
          ]
        },
        {
          "output_type": "stream",
          "name": "stdout",
          "text": [
            "Finished Batch: \n",
            "Training Loss:  0.2685127464551995 Training Av. Accuracy:  0.9154117803837953\n",
            "EVALUATING\n"
          ]
        },
        {
          "output_type": "stream",
          "name": "stderr",
          "text": [
            "100%|██████████| 157/157 [00:02<00:00, 63.29it/s]\n"
          ]
        },
        {
          "output_type": "stream",
          "name": "stdout",
          "text": [
            "Validation Loss:  0.07709785664133775 Validation Av. Accuracy:  0.975218949044586\n",
            "############ END DLR 5 MODEL 2 REP 3 ############\n",
            "\n",
            "\n",
            "MODEL 2 PARAMETER COUNT: 38306\n",
            "########### START DLR 5 MODEL 2 REP 4 ###########\n"
          ]
        },
        {
          "output_type": "stream",
          "name": "stderr",
          "text": [
            "100%|██████████| 938/938 [00:17<00:00, 52.40it/s]\n"
          ]
        },
        {
          "output_type": "stream",
          "name": "stdout",
          "text": [
            "Finished Batch: \n",
            "Training Loss:  0.25043346236017083 Training Av. Accuracy:  0.9209255063965884\n",
            "EVALUATING\n"
          ]
        },
        {
          "output_type": "stream",
          "name": "stderr",
          "text": [
            "100%|██████████| 157/157 [00:03<00:00, 51.52it/s]\n"
          ]
        },
        {
          "output_type": "stream",
          "name": "stdout",
          "text": [
            "Validation Loss:  0.08283729127542988 Validation Av. Accuracy:  0.9736265923566879\n",
            "############ END DLR 5 MODEL 2 REP 4 ############\n",
            "\n",
            "\n",
            "MODEL 3 PARAMETER COUNT: 74657\n",
            "########### START DLR 5 MODEL 3 REP 0 ###########\n"
          ]
        },
        {
          "output_type": "stream",
          "name": "stderr",
          "text": [
            "100%|██████████| 938/938 [00:18<00:00, 50.98it/s]\n"
          ]
        },
        {
          "output_type": "stream",
          "name": "stdout",
          "text": [
            "Finished Batch: \n",
            "Training Loss:  0.23954795288847391 Training Av. Accuracy:  0.9259228411513859\n",
            "EVALUATING\n"
          ]
        },
        {
          "output_type": "stream",
          "name": "stderr",
          "text": [
            "100%|██████████| 157/157 [00:02<00:00, 62.89it/s]\n"
          ]
        },
        {
          "output_type": "stream",
          "name": "stdout",
          "text": [
            "Validation Loss:  0.07891017440587851 Validation Av. Accuracy:  0.9761146496815286\n",
            "############ END DLR 5 MODEL 3 REP 0 ############\n",
            "\n",
            "\n",
            "MODEL 3 PARAMETER COUNT: 74657\n",
            "########### START DLR 5 MODEL 3 REP 1 ###########\n"
          ]
        },
        {
          "output_type": "stream",
          "name": "stderr",
          "text": [
            "100%|██████████| 938/938 [00:24<00:00, 39.00it/s]\n"
          ]
        },
        {
          "output_type": "stream",
          "name": "stdout",
          "text": [
            "Finished Batch: \n",
            "Training Loss:  0.24077896040324162 Training Av. Accuracy:  0.9239072494669509\n",
            "EVALUATING\n"
          ]
        },
        {
          "output_type": "stream",
          "name": "stderr",
          "text": [
            "100%|██████████| 157/157 [00:04<00:00, 33.19it/s]\n"
          ]
        },
        {
          "output_type": "stream",
          "name": "stdout",
          "text": [
            "Validation Loss:  0.07348665933178108 Validation Av. Accuracy:  0.976015127388535\n",
            "############ END DLR 5 MODEL 3 REP 1 ############\n",
            "\n",
            "\n",
            "MODEL 3 PARAMETER COUNT: 74657\n",
            "########### START DLR 5 MODEL 3 REP 2 ###########\n"
          ]
        },
        {
          "output_type": "stream",
          "name": "stderr",
          "text": [
            "100%|██████████| 938/938 [00:27<00:00, 33.78it/s]\n"
          ]
        },
        {
          "output_type": "stream",
          "name": "stdout",
          "text": [
            "Finished Batch: \n",
            "Training Loss:  0.24820480734181366 Training Av. Accuracy:  0.921875\n",
            "EVALUATING\n"
          ]
        },
        {
          "output_type": "stream",
          "name": "stderr",
          "text": [
            "100%|██████████| 157/157 [00:04<00:00, 31.54it/s]\n"
          ]
        },
        {
          "output_type": "stream",
          "name": "stdout",
          "text": [
            "Validation Loss:  0.06697864385001409 Validation Av. Accuracy:  0.9786027070063694\n",
            "############ END DLR 5 MODEL 3 REP 2 ############\n",
            "\n",
            "\n",
            "MODEL 3 PARAMETER COUNT: 74657\n",
            "########### START DLR 5 MODEL 3 REP 3 ###########\n"
          ]
        },
        {
          "output_type": "stream",
          "name": "stderr",
          "text": [
            "100%|██████████| 938/938 [00:29<00:00, 32.03it/s]\n"
          ]
        },
        {
          "output_type": "stream",
          "name": "stdout",
          "text": [
            "Finished Batch: \n",
            "Training Loss:  0.23854992287789487 Training Av. Accuracy:  0.9235907515991472\n",
            "EVALUATING\n"
          ]
        },
        {
          "output_type": "stream",
          "name": "stderr",
          "text": [
            "100%|██████████| 157/157 [00:03<00:00, 43.89it/s]\n"
          ]
        },
        {
          "output_type": "stream",
          "name": "stdout",
          "text": [
            "Validation Loss:  0.06617245603068049 Validation Av. Accuracy:  0.9790007961783439\n",
            "############ END DLR 5 MODEL 3 REP 3 ############\n",
            "\n",
            "\n",
            "MODEL 3 PARAMETER COUNT: 74657\n",
            "########### START DLR 5 MODEL 3 REP 4 ###########\n"
          ]
        },
        {
          "output_type": "stream",
          "name": "stderr",
          "text": [
            "100%|██████████| 938/938 [00:24<00:00, 37.89it/s]\n"
          ]
        },
        {
          "output_type": "stream",
          "name": "stdout",
          "text": [
            "Finished Batch: \n",
            "Training Loss:  0.28051791065481746 Training Av. Accuracy:  0.908132329424307\n",
            "EVALUATING\n"
          ]
        },
        {
          "output_type": "stream",
          "name": "stderr",
          "text": [
            "100%|██████████| 157/157 [00:02<00:00, 61.80it/s]\n"
          ]
        },
        {
          "output_type": "stream",
          "name": "stdout",
          "text": [
            "Validation Loss:  0.07745219066228931 Validation Av. Accuracy:  0.974422770700637\n",
            "############ END DLR 5 MODEL 3 REP 4 ############\n",
            "\n",
            "\n",
            "MODEL 4 PARAMETER COUNT: 152775\n",
            "########### START DLR 5 MODEL 4 REP 0 ###########\n"
          ]
        },
        {
          "output_type": "stream",
          "name": "stderr",
          "text": [
            "100%|██████████| 938/938 [00:21<00:00, 42.95it/s]\n"
          ]
        },
        {
          "output_type": "stream",
          "name": "stdout",
          "text": [
            "Finished Batch: \n",
            "Training Loss:  0.19651563459985466 Training Av. Accuracy:  0.9402152185501066\n",
            "EVALUATING\n"
          ]
        },
        {
          "output_type": "stream",
          "name": "stderr",
          "text": [
            "100%|██████████| 157/157 [00:03<00:00, 42.45it/s]\n"
          ]
        },
        {
          "output_type": "stream",
          "name": "stdout",
          "text": [
            "Validation Loss:  0.05015986453397733 Validation Av. Accuracy:  0.9846735668789809\n",
            "############ END DLR 5 MODEL 4 REP 0 ############\n",
            "\n",
            "\n",
            "MODEL 4 PARAMETER COUNT: 152775\n",
            "########### START DLR 5 MODEL 4 REP 1 ###########\n"
          ]
        },
        {
          "output_type": "stream",
          "name": "stderr",
          "text": [
            "100%|██████████| 938/938 [00:24<00:00, 38.25it/s]\n"
          ]
        },
        {
          "output_type": "stream",
          "name": "stdout",
          "text": [
            "Finished Batch: \n",
            "Training Loss:  0.2010295018444517 Training Av. Accuracy:  0.9373334221748401\n",
            "EVALUATING\n"
          ]
        },
        {
          "output_type": "stream",
          "name": "stderr",
          "text": [
            "100%|██████████| 157/157 [00:04<00:00, 34.67it/s]\n"
          ]
        },
        {
          "output_type": "stream",
          "name": "stdout",
          "text": [
            "Validation Loss:  0.06312818341046145 Validation Av. Accuracy:  0.9788017515923567\n",
            "############ END DLR 5 MODEL 4 REP 1 ############\n",
            "\n",
            "\n",
            "MODEL 4 PARAMETER COUNT: 152775\n",
            "########### START DLR 5 MODEL 4 REP 2 ###########\n"
          ]
        },
        {
          "output_type": "stream",
          "name": "stderr",
          "text": [
            "100%|██████████| 938/938 [00:26<00:00, 35.19it/s]\n"
          ]
        },
        {
          "output_type": "stream",
          "name": "stdout",
          "text": [
            "Finished Batch: \n",
            "Training Loss:  0.22181644202269582 Training Av. Accuracy:  0.9286880330490405\n",
            "EVALUATING\n"
          ]
        },
        {
          "output_type": "stream",
          "name": "stderr",
          "text": [
            "100%|██████████| 157/157 [00:04<00:00, 32.77it/s]\n"
          ]
        },
        {
          "output_type": "stream",
          "name": "stdout",
          "text": [
            "Validation Loss:  0.05746535750129705 Validation Av. Accuracy:  0.9821855095541401\n",
            "############ END DLR 5 MODEL 4 REP 2 ############\n",
            "\n",
            "\n",
            "MODEL 4 PARAMETER COUNT: 152775\n",
            "########### START DLR 5 MODEL 4 REP 3 ###########\n"
          ]
        },
        {
          "output_type": "stream",
          "name": "stderr",
          "text": [
            "100%|██████████| 938/938 [00:20<00:00, 46.87it/s]\n"
          ]
        },
        {
          "output_type": "stream",
          "name": "stdout",
          "text": [
            "Finished Batch: \n",
            "Training Loss:  0.20723617788968182 Training Av. Accuracy:  0.9350513059701493\n",
            "EVALUATING\n"
          ]
        },
        {
          "output_type": "stream",
          "name": "stderr",
          "text": [
            "100%|██████████| 157/157 [00:02<00:00, 63.28it/s]\n"
          ]
        },
        {
          "output_type": "stream",
          "name": "stdout",
          "text": [
            "Validation Loss:  0.05931313874816913 Validation Av. Accuracy:  0.980593152866242\n",
            "############ END DLR 5 MODEL 4 REP 3 ############\n",
            "\n",
            "\n",
            "MODEL 4 PARAMETER COUNT: 152775\n",
            "########### START DLR 5 MODEL 4 REP 4 ###########\n"
          ]
        },
        {
          "output_type": "stream",
          "name": "stderr",
          "text": [
            "100%|██████████| 938/938 [00:25<00:00, 36.98it/s]\n"
          ]
        },
        {
          "output_type": "stream",
          "name": "stdout",
          "text": [
            "Finished Batch: \n",
            "Training Loss:  0.2063242309440825 Training Av. Accuracy:  0.9359175106609808\n",
            "EVALUATING\n"
          ]
        },
        {
          "output_type": "stream",
          "name": "stderr",
          "text": [
            "100%|██████████| 157/157 [00:05<00:00, 31.14it/s]\n"
          ]
        },
        {
          "output_type": "stream",
          "name": "stdout",
          "text": [
            "Validation Loss:  0.05616233918139604 Validation Av. Accuracy:  0.9815883757961783\n",
            "############ END DLR 5 MODEL 4 REP 4 ############\n",
            "\n",
            "\n",
            "MODEL 5 PARAMETER COUNT: 308236\n",
            "########### START DLR 5 MODEL 5 REP 0 ###########\n"
          ]
        },
        {
          "output_type": "stream",
          "name": "stderr",
          "text": [
            "100%|██████████| 938/938 [00:20<00:00, 46.30it/s]\n"
          ]
        },
        {
          "output_type": "stream",
          "name": "stdout",
          "text": [
            "Finished Batch: \n",
            "Training Loss:  0.17830606863406032 Training Av. Accuracy:  0.9445795575692963\n",
            "EVALUATING\n"
          ]
        },
        {
          "output_type": "stream",
          "name": "stderr",
          "text": [
            "100%|██████████| 157/157 [00:02<00:00, 64.02it/s]\n"
          ]
        },
        {
          "output_type": "stream",
          "name": "stdout",
          "text": [
            "Validation Loss:  0.04858685247703889 Validation Av. Accuracy:  0.9853702229299363\n",
            "############ END DLR 5 MODEL 5 REP 0 ############\n",
            "\n",
            "\n",
            "MODEL 5 PARAMETER COUNT: 308236\n",
            "########### START DLR 5 MODEL 5 REP 1 ###########\n"
          ]
        },
        {
          "output_type": "stream",
          "name": "stderr",
          "text": [
            "100%|██████████| 938/938 [00:18<00:00, 49.88it/s]\n"
          ]
        },
        {
          "output_type": "stream",
          "name": "stdout",
          "text": [
            "Finished Batch: \n",
            "Training Loss:  0.17877907024945683 Training Av. Accuracy:  0.9446295309168443\n",
            "EVALUATING\n"
          ]
        },
        {
          "output_type": "stream",
          "name": "stderr",
          "text": [
            "100%|██████████| 157/157 [00:02<00:00, 63.40it/s]\n"
          ]
        },
        {
          "output_type": "stream",
          "name": "stdout",
          "text": [
            "Validation Loss:  0.051810305193363194 Validation Av. Accuracy:  0.9829816878980892\n",
            "############ END DLR 5 MODEL 5 REP 1 ############\n",
            "\n",
            "\n",
            "MODEL 5 PARAMETER COUNT: 308236\n",
            "########### START DLR 5 MODEL 5 REP 2 ###########\n"
          ]
        },
        {
          "output_type": "stream",
          "name": "stderr",
          "text": [
            "100%|██████████| 938/938 [00:17<00:00, 52.85it/s]\n"
          ]
        },
        {
          "output_type": "stream",
          "name": "stdout",
          "text": [
            "Finished Batch: \n",
            "Training Loss:  0.17325335990082522 Training Av. Accuracy:  0.9446461886993603\n",
            "EVALUATING\n"
          ]
        },
        {
          "output_type": "stream",
          "name": "stderr",
          "text": [
            "100%|██████████| 157/157 [00:02<00:00, 53.75it/s]\n"
          ]
        },
        {
          "output_type": "stream",
          "name": "stdout",
          "text": [
            "Validation Loss:  0.056728278268217615 Validation Av. Accuracy:  0.9814888535031847\n",
            "############ END DLR 5 MODEL 5 REP 2 ############\n",
            "\n",
            "\n",
            "MODEL 5 PARAMETER COUNT: 308236\n",
            "########### START DLR 5 MODEL 5 REP 3 ###########\n"
          ]
        },
        {
          "output_type": "stream",
          "name": "stderr",
          "text": [
            "100%|██████████| 938/938 [00:17<00:00, 52.25it/s]\n"
          ]
        },
        {
          "output_type": "stream",
          "name": "stdout",
          "text": [
            "Finished Batch: \n",
            "Training Loss:  0.1689333152222032 Training Av. Accuracy:  0.9464952025586354\n",
            "EVALUATING\n"
          ]
        },
        {
          "output_type": "stream",
          "name": "stderr",
          "text": [
            "100%|██████████| 157/157 [00:02<00:00, 64.67it/s]\n"
          ]
        },
        {
          "output_type": "stream",
          "name": "stdout",
          "text": [
            "Validation Loss:  0.052109813059614915 Validation Av. Accuracy:  0.9845740445859873\n",
            "############ END DLR 5 MODEL 5 REP 3 ############\n",
            "\n",
            "\n",
            "MODEL 5 PARAMETER COUNT: 308236\n",
            "########### START DLR 5 MODEL 5 REP 4 ###########\n"
          ]
        },
        {
          "output_type": "stream",
          "name": "stderr",
          "text": [
            "100%|██████████| 938/938 [00:18<00:00, 50.69it/s]\n"
          ]
        },
        {
          "output_type": "stream",
          "name": "stdout",
          "text": [
            "Finished Batch: \n",
            "Training Loss:  0.17942910698323902 Training Av. Accuracy:  0.9426305970149254\n",
            "EVALUATING\n"
          ]
        },
        {
          "output_type": "stream",
          "name": "stderr",
          "text": [
            "100%|██████████| 157/157 [00:03<00:00, 51.51it/s]"
          ]
        },
        {
          "output_type": "stream",
          "name": "stdout",
          "text": [
            "Validation Loss:  0.0574408150841571 Validation Av. Accuracy:  0.9813893312101911\n",
            "############ END DLR 5 MODEL 5 REP 4 ############\n",
            "\n",
            "\n"
          ]
        },
        {
          "output_type": "stream",
          "name": "stderr",
          "text": [
            "\n"
          ]
        }
      ]
    },
    {
      "cell_type": "code",
      "source": [
        "N_params = np.unique(N_params)"
      ],
      "metadata": {
        "id": "6OfO7d9Tye5n"
      },
      "execution_count": 59,
      "outputs": []
    },
    {
      "cell_type": "code",
      "source": [
        "test_losses_NandD_by_model = {m:[] for m in range(n_models)}\n",
        "for m in test_losses_NandD_by_model.keys():\n",
        "\n",
        "  model_losses = [test_losses_NandD[i][m] for i in test_losses_NandD.keys()]\n",
        "  test_losses_NandD_by_model[m].extend(model_losses)"
      ],
      "metadata": {
        "id": "9bqnjE1Vw4Op"
      },
      "execution_count": 51,
      "outputs": []
    },
    {
      "cell_type": "code",
      "source": [
        "fig = go.Figure()\n",
        "for m in test_losses_NandD_by_model.keys():\n",
        "\n",
        "  fig.add_trace(go.Scatter(x=train_dlr_sizes, y=test_losses_NandD_by_model[m], name=f'{N_params[m]} params'))\n",
        "\n",
        "fig.update_layout(title='Dataset Size Effect on Test Loss by Model Size',\n",
        "                  yaxis_title='Loss',\n",
        "                  xaxis_title='Dataset Size')\n",
        "fig.show()"
      ],
      "metadata": {
        "colab": {
          "base_uri": "https://localhost:8080/",
          "height": 542
        },
        "id": "V11nEbVuyG8R",
        "outputId": "73a718ef-b549-4a9c-9adc-0c43b9f7fdda"
      },
      "execution_count": 52,
      "outputs": [
        {
          "output_type": "display_data",
          "data": {
            "text/html": [
              "<html>\n",
              "<head><meta charset=\"utf-8\" /></head>\n",
              "<body>\n",
              "    <div>            <script src=\"https://cdnjs.cloudflare.com/ajax/libs/mathjax/2.7.5/MathJax.js?config=TeX-AMS-MML_SVG\"></script><script type=\"text/javascript\">if (window.MathJax && window.MathJax.Hub && window.MathJax.Hub.Config) {window.MathJax.Hub.Config({SVG: {font: \"STIX-Web\"}});}</script>                <script type=\"text/javascript\">window.PlotlyConfig = {MathJaxConfig: 'local'};</script>\n",
              "        <script charset=\"utf-8\" src=\"https://cdn.plot.ly/plotly-2.24.1.min.js\"></script>                <div id=\"79820372-4293-4dce-885f-ead7f0588ca0\" class=\"plotly-graph-div\" style=\"height:525px; width:100%;\"></div>            <script type=\"text/javascript\">                                    window.PLOTLYENV=window.PLOTLYENV || {};                                    if (document.getElementById(\"79820372-4293-4dce-885f-ead7f0588ca0\")) {                    Plotly.newPlot(                        \"79820372-4293-4dce-885f-ead7f0588ca0\",                        [{\"name\":\"4742 params\",\"x\":[1875,3750,7500,15000,30000,60000],\"y\":[2.0920639596926938,1.1320258893784443,0.5521757129461142,0.3955697865812642,0.2617305399553412,0.15247227012114542],\"type\":\"scatter\"},{\"name\":\"9798 params\",\"x\":[1875,3750,7500,15000,30000,60000],\"y\":[2.0034906770013703,0.925659750411465,0.48226650230064516,0.28663503430831205,0.150595289366735,0.10730391600744645],\"type\":\"scatter\"},{\"name\":\"20245 params\",\"x\":[1875,3750,7500,15000,30000,60000],\"y\":[1.8583587216723498,0.7638640228730098,0.39117510938530514,0.2359557593134558,0.13739546609057743,0.08807477360104868],\"type\":\"scatter\"},{\"name\":\"38306 params\",\"x\":[1875,3750,7500,15000,30000,60000],\"y\":[1.3136268373887252,0.6409312519677884,0.3311668017582529,0.183730563896287,0.11030073843564199,0.0726000248561287],\"type\":\"scatter\"},{\"name\":\"74657 params\",\"x\":[1875,3750,7500,15000,30000,60000],\"y\":[1.015147859959086,0.5122891516442512,0.28354448892508344,0.14496588817779807,0.09200655203787195,0.0572457766750602],\"type\":\"scatter\"},{\"name\":\"152775 params\",\"x\":[1875,3750,7500,15000,30000,60000],\"y\":[0.8609458477633775,0.5162353183433509,0.2289841967403509,0.129110154618693,0.08642993840881309,0.053335212816478336],\"type\":\"scatter\"}],                        {\"template\":{\"data\":{\"histogram2dcontour\":[{\"type\":\"histogram2dcontour\",\"colorbar\":{\"outlinewidth\":0,\"ticks\":\"\"},\"colorscale\":[[0.0,\"#0d0887\"],[0.1111111111111111,\"#46039f\"],[0.2222222222222222,\"#7201a8\"],[0.3333333333333333,\"#9c179e\"],[0.4444444444444444,\"#bd3786\"],[0.5555555555555556,\"#d8576b\"],[0.6666666666666666,\"#ed7953\"],[0.7777777777777778,\"#fb9f3a\"],[0.8888888888888888,\"#fdca26\"],[1.0,\"#f0f921\"]]}],\"choropleth\":[{\"type\":\"choropleth\",\"colorbar\":{\"outlinewidth\":0,\"ticks\":\"\"}}],\"histogram2d\":[{\"type\":\"histogram2d\",\"colorbar\":{\"outlinewidth\":0,\"ticks\":\"\"},\"colorscale\":[[0.0,\"#0d0887\"],[0.1111111111111111,\"#46039f\"],[0.2222222222222222,\"#7201a8\"],[0.3333333333333333,\"#9c179e\"],[0.4444444444444444,\"#bd3786\"],[0.5555555555555556,\"#d8576b\"],[0.6666666666666666,\"#ed7953\"],[0.7777777777777778,\"#fb9f3a\"],[0.8888888888888888,\"#fdca26\"],[1.0,\"#f0f921\"]]}],\"heatmap\":[{\"type\":\"heatmap\",\"colorbar\":{\"outlinewidth\":0,\"ticks\":\"\"},\"colorscale\":[[0.0,\"#0d0887\"],[0.1111111111111111,\"#46039f\"],[0.2222222222222222,\"#7201a8\"],[0.3333333333333333,\"#9c179e\"],[0.4444444444444444,\"#bd3786\"],[0.5555555555555556,\"#d8576b\"],[0.6666666666666666,\"#ed7953\"],[0.7777777777777778,\"#fb9f3a\"],[0.8888888888888888,\"#fdca26\"],[1.0,\"#f0f921\"]]}],\"heatmapgl\":[{\"type\":\"heatmapgl\",\"colorbar\":{\"outlinewidth\":0,\"ticks\":\"\"},\"colorscale\":[[0.0,\"#0d0887\"],[0.1111111111111111,\"#46039f\"],[0.2222222222222222,\"#7201a8\"],[0.3333333333333333,\"#9c179e\"],[0.4444444444444444,\"#bd3786\"],[0.5555555555555556,\"#d8576b\"],[0.6666666666666666,\"#ed7953\"],[0.7777777777777778,\"#fb9f3a\"],[0.8888888888888888,\"#fdca26\"],[1.0,\"#f0f921\"]]}],\"contourcarpet\":[{\"type\":\"contourcarpet\",\"colorbar\":{\"outlinewidth\":0,\"ticks\":\"\"}}],\"contour\":[{\"type\":\"contour\",\"colorbar\":{\"outlinewidth\":0,\"ticks\":\"\"},\"colorscale\":[[0.0,\"#0d0887\"],[0.1111111111111111,\"#46039f\"],[0.2222222222222222,\"#7201a8\"],[0.3333333333333333,\"#9c179e\"],[0.4444444444444444,\"#bd3786\"],[0.5555555555555556,\"#d8576b\"],[0.6666666666666666,\"#ed7953\"],[0.7777777777777778,\"#fb9f3a\"],[0.8888888888888888,\"#fdca26\"],[1.0,\"#f0f921\"]]}],\"surface\":[{\"type\":\"surface\",\"colorbar\":{\"outlinewidth\":0,\"ticks\":\"\"},\"colorscale\":[[0.0,\"#0d0887\"],[0.1111111111111111,\"#46039f\"],[0.2222222222222222,\"#7201a8\"],[0.3333333333333333,\"#9c179e\"],[0.4444444444444444,\"#bd3786\"],[0.5555555555555556,\"#d8576b\"],[0.6666666666666666,\"#ed7953\"],[0.7777777777777778,\"#fb9f3a\"],[0.8888888888888888,\"#fdca26\"],[1.0,\"#f0f921\"]]}],\"mesh3d\":[{\"type\":\"mesh3d\",\"colorbar\":{\"outlinewidth\":0,\"ticks\":\"\"}}],\"scatter\":[{\"fillpattern\":{\"fillmode\":\"overlay\",\"size\":10,\"solidity\":0.2},\"type\":\"scatter\"}],\"parcoords\":[{\"type\":\"parcoords\",\"line\":{\"colorbar\":{\"outlinewidth\":0,\"ticks\":\"\"}}}],\"scatterpolargl\":[{\"type\":\"scatterpolargl\",\"marker\":{\"colorbar\":{\"outlinewidth\":0,\"ticks\":\"\"}}}],\"bar\":[{\"error_x\":{\"color\":\"#2a3f5f\"},\"error_y\":{\"color\":\"#2a3f5f\"},\"marker\":{\"line\":{\"color\":\"#E5ECF6\",\"width\":0.5},\"pattern\":{\"fillmode\":\"overlay\",\"size\":10,\"solidity\":0.2}},\"type\":\"bar\"}],\"scattergeo\":[{\"type\":\"scattergeo\",\"marker\":{\"colorbar\":{\"outlinewidth\":0,\"ticks\":\"\"}}}],\"scatterpolar\":[{\"type\":\"scatterpolar\",\"marker\":{\"colorbar\":{\"outlinewidth\":0,\"ticks\":\"\"}}}],\"histogram\":[{\"marker\":{\"pattern\":{\"fillmode\":\"overlay\",\"size\":10,\"solidity\":0.2}},\"type\":\"histogram\"}],\"scattergl\":[{\"type\":\"scattergl\",\"marker\":{\"colorbar\":{\"outlinewidth\":0,\"ticks\":\"\"}}}],\"scatter3d\":[{\"type\":\"scatter3d\",\"line\":{\"colorbar\":{\"outlinewidth\":0,\"ticks\":\"\"}},\"marker\":{\"colorbar\":{\"outlinewidth\":0,\"ticks\":\"\"}}}],\"scattermapbox\":[{\"type\":\"scattermapbox\",\"marker\":{\"colorbar\":{\"outlinewidth\":0,\"ticks\":\"\"}}}],\"scatterternary\":[{\"type\":\"scatterternary\",\"marker\":{\"colorbar\":{\"outlinewidth\":0,\"ticks\":\"\"}}}],\"scattercarpet\":[{\"type\":\"scattercarpet\",\"marker\":{\"colorbar\":{\"outlinewidth\":0,\"ticks\":\"\"}}}],\"carpet\":[{\"aaxis\":{\"endlinecolor\":\"#2a3f5f\",\"gridcolor\":\"white\",\"linecolor\":\"white\",\"minorgridcolor\":\"white\",\"startlinecolor\":\"#2a3f5f\"},\"baxis\":{\"endlinecolor\":\"#2a3f5f\",\"gridcolor\":\"white\",\"linecolor\":\"white\",\"minorgridcolor\":\"white\",\"startlinecolor\":\"#2a3f5f\"},\"type\":\"carpet\"}],\"table\":[{\"cells\":{\"fill\":{\"color\":\"#EBF0F8\"},\"line\":{\"color\":\"white\"}},\"header\":{\"fill\":{\"color\":\"#C8D4E3\"},\"line\":{\"color\":\"white\"}},\"type\":\"table\"}],\"barpolar\":[{\"marker\":{\"line\":{\"color\":\"#E5ECF6\",\"width\":0.5},\"pattern\":{\"fillmode\":\"overlay\",\"size\":10,\"solidity\":0.2}},\"type\":\"barpolar\"}],\"pie\":[{\"automargin\":true,\"type\":\"pie\"}]},\"layout\":{\"autotypenumbers\":\"strict\",\"colorway\":[\"#636efa\",\"#EF553B\",\"#00cc96\",\"#ab63fa\",\"#FFA15A\",\"#19d3f3\",\"#FF6692\",\"#B6E880\",\"#FF97FF\",\"#FECB52\"],\"font\":{\"color\":\"#2a3f5f\"},\"hovermode\":\"closest\",\"hoverlabel\":{\"align\":\"left\"},\"paper_bgcolor\":\"white\",\"plot_bgcolor\":\"#E5ECF6\",\"polar\":{\"bgcolor\":\"#E5ECF6\",\"angularaxis\":{\"gridcolor\":\"white\",\"linecolor\":\"white\",\"ticks\":\"\"},\"radialaxis\":{\"gridcolor\":\"white\",\"linecolor\":\"white\",\"ticks\":\"\"}},\"ternary\":{\"bgcolor\":\"#E5ECF6\",\"aaxis\":{\"gridcolor\":\"white\",\"linecolor\":\"white\",\"ticks\":\"\"},\"baxis\":{\"gridcolor\":\"white\",\"linecolor\":\"white\",\"ticks\":\"\"},\"caxis\":{\"gridcolor\":\"white\",\"linecolor\":\"white\",\"ticks\":\"\"}},\"coloraxis\":{\"colorbar\":{\"outlinewidth\":0,\"ticks\":\"\"}},\"colorscale\":{\"sequential\":[[0.0,\"#0d0887\"],[0.1111111111111111,\"#46039f\"],[0.2222222222222222,\"#7201a8\"],[0.3333333333333333,\"#9c179e\"],[0.4444444444444444,\"#bd3786\"],[0.5555555555555556,\"#d8576b\"],[0.6666666666666666,\"#ed7953\"],[0.7777777777777778,\"#fb9f3a\"],[0.8888888888888888,\"#fdca26\"],[1.0,\"#f0f921\"]],\"sequentialminus\":[[0.0,\"#0d0887\"],[0.1111111111111111,\"#46039f\"],[0.2222222222222222,\"#7201a8\"],[0.3333333333333333,\"#9c179e\"],[0.4444444444444444,\"#bd3786\"],[0.5555555555555556,\"#d8576b\"],[0.6666666666666666,\"#ed7953\"],[0.7777777777777778,\"#fb9f3a\"],[0.8888888888888888,\"#fdca26\"],[1.0,\"#f0f921\"]],\"diverging\":[[0,\"#8e0152\"],[0.1,\"#c51b7d\"],[0.2,\"#de77ae\"],[0.3,\"#f1b6da\"],[0.4,\"#fde0ef\"],[0.5,\"#f7f7f7\"],[0.6,\"#e6f5d0\"],[0.7,\"#b8e186\"],[0.8,\"#7fbc41\"],[0.9,\"#4d9221\"],[1,\"#276419\"]]},\"xaxis\":{\"gridcolor\":\"white\",\"linecolor\":\"white\",\"ticks\":\"\",\"title\":{\"standoff\":15},\"zerolinecolor\":\"white\",\"automargin\":true,\"zerolinewidth\":2},\"yaxis\":{\"gridcolor\":\"white\",\"linecolor\":\"white\",\"ticks\":\"\",\"title\":{\"standoff\":15},\"zerolinecolor\":\"white\",\"automargin\":true,\"zerolinewidth\":2},\"scene\":{\"xaxis\":{\"backgroundcolor\":\"#E5ECF6\",\"gridcolor\":\"white\",\"linecolor\":\"white\",\"showbackground\":true,\"ticks\":\"\",\"zerolinecolor\":\"white\",\"gridwidth\":2},\"yaxis\":{\"backgroundcolor\":\"#E5ECF6\",\"gridcolor\":\"white\",\"linecolor\":\"white\",\"showbackground\":true,\"ticks\":\"\",\"zerolinecolor\":\"white\",\"gridwidth\":2},\"zaxis\":{\"backgroundcolor\":\"#E5ECF6\",\"gridcolor\":\"white\",\"linecolor\":\"white\",\"showbackground\":true,\"ticks\":\"\",\"zerolinecolor\":\"white\",\"gridwidth\":2}},\"shapedefaults\":{\"line\":{\"color\":\"#2a3f5f\"}},\"annotationdefaults\":{\"arrowcolor\":\"#2a3f5f\",\"arrowhead\":0,\"arrowwidth\":1},\"geo\":{\"bgcolor\":\"white\",\"landcolor\":\"#E5ECF6\",\"subunitcolor\":\"white\",\"showland\":true,\"showlakes\":true,\"lakecolor\":\"white\"},\"title\":{\"x\":0.05},\"mapbox\":{\"style\":\"light\"}}},\"title\":{\"text\":\"Dataset Size Effect on Test Loss by Model Size\"},\"yaxis\":{\"title\":{\"text\":\"Loss\"}},\"xaxis\":{\"title\":{\"text\":\"Dataset Size\"}}},                        {\"responsive\": true}                    ).then(function(){\n",
              "                            \n",
              "var gd = document.getElementById('79820372-4293-4dce-885f-ead7f0588ca0');\n",
              "var x = new MutationObserver(function (mutations, observer) {{\n",
              "        var display = window.getComputedStyle(gd).display;\n",
              "        if (!display || display === 'none') {{\n",
              "            console.log([gd, 'removed!']);\n",
              "            Plotly.purge(gd);\n",
              "            observer.disconnect();\n",
              "        }}\n",
              "}});\n",
              "\n",
              "// Listen for the removal of the full notebook cells\n",
              "var notebookContainer = gd.closest('#notebook-container');\n",
              "if (notebookContainer) {{\n",
              "    x.observe(notebookContainer, {childList: true});\n",
              "}}\n",
              "\n",
              "// Listen for the clearing of the current output cell\n",
              "var outputEl = gd.closest('.output');\n",
              "if (outputEl) {{\n",
              "    x.observe(outputEl, {childList: true});\n",
              "}}\n",
              "\n",
              "                        })                };                            </script>        </div>\n",
              "</body>\n",
              "</html>"
            ]
          },
          "metadata": {}
        }
      ]
    },
    {
      "cell_type": "markdown",
      "source": [
        "From the graph we see that, strangely, the model with the most parameters did not have the best test loss result. This may be because dataset size was a bottleneck for further loss reduction. It is likely that the models used were too big. We can see that the increased sample efficiency for larger models is valid up to about 10k in dataset size."
      ],
      "metadata": {
        "id": "dLCPM8_lzVl-"
      }
    },
    {
      "cell_type": "code",
      "source": [
        "fig = go.Figure()\n",
        "for m in test_losses_NandD.keys():\n",
        "\n",
        "  fig.add_trace(go.Scatter(x=N_params, y=test_losses_NandD[m], name=f'{train_dlr_sizes[m]} Data Points'))\n",
        "\n",
        "fig.update_layout(title='Model Size Effect on Test Loss by Dataset Size',\n",
        "                  yaxis_title='Loss',\n",
        "                  xaxis_title='Model Size')\n",
        "fig.show()"
      ],
      "metadata": {
        "colab": {
          "base_uri": "https://localhost:8080/",
          "height": 542
        },
        "id": "YdVYDGoN1_gF",
        "outputId": "7326d8fd-d314-4750-aac7-6349a00bc643"
      },
      "execution_count": 53,
      "outputs": [
        {
          "output_type": "display_data",
          "data": {
            "text/html": [
              "<html>\n",
              "<head><meta charset=\"utf-8\" /></head>\n",
              "<body>\n",
              "    <div>            <script src=\"https://cdnjs.cloudflare.com/ajax/libs/mathjax/2.7.5/MathJax.js?config=TeX-AMS-MML_SVG\"></script><script type=\"text/javascript\">if (window.MathJax && window.MathJax.Hub && window.MathJax.Hub.Config) {window.MathJax.Hub.Config({SVG: {font: \"STIX-Web\"}});}</script>                <script type=\"text/javascript\">window.PlotlyConfig = {MathJaxConfig: 'local'};</script>\n",
              "        <script charset=\"utf-8\" src=\"https://cdn.plot.ly/plotly-2.24.1.min.js\"></script>                <div id=\"8223e1d3-855a-48da-85c6-b564a49bbe16\" class=\"plotly-graph-div\" style=\"height:525px; width:100%;\"></div>            <script type=\"text/javascript\">                                    window.PLOTLYENV=window.PLOTLYENV || {};                                    if (document.getElementById(\"8223e1d3-855a-48da-85c6-b564a49bbe16\")) {                    Plotly.newPlot(                        \"8223e1d3-855a-48da-85c6-b564a49bbe16\",                        [{\"name\":\"1875 Data Points\",\"x\":[4742,9798,20245,38306,74657,152775,308236],\"y\":[2.0920639596926938,2.0034906770013703,1.8583587216723498,1.3136268373887252,1.015147859959086,0.8609458477633775],\"type\":\"scatter\"},{\"name\":\"3750 Data Points\",\"x\":[4742,9798,20245,38306,74657,152775,308236],\"y\":[1.1320258893784443,0.925659750411465,0.7638640228730098,0.6409312519677884,0.5122891516442512,0.5162353183433509],\"type\":\"scatter\"},{\"name\":\"7500 Data Points\",\"x\":[4742,9798,20245,38306,74657,152775,308236],\"y\":[0.5521757129461142,0.48226650230064516,0.39117510938530514,0.3311668017582529,0.28354448892508344,0.2289841967403509],\"type\":\"scatter\"},{\"name\":\"15000 Data Points\",\"x\":[4742,9798,20245,38306,74657,152775,308236],\"y\":[0.3955697865812642,0.28663503430831205,0.2359557593134558,0.183730563896287,0.14496588817779807,0.129110154618693],\"type\":\"scatter\"},{\"name\":\"30000 Data Points\",\"x\":[4742,9798,20245,38306,74657,152775,308236],\"y\":[0.2617305399553412,0.150595289366735,0.13739546609057743,0.11030073843564199,0.09200655203787195,0.08642993840881309],\"type\":\"scatter\"},{\"name\":\"60000 Data Points\",\"x\":[4742,9798,20245,38306,74657,152775,308236],\"y\":[0.15247227012114542,0.10730391600744645,0.08807477360104868,0.0726000248561287,0.0572457766750602,0.053335212816478336],\"type\":\"scatter\"}],                        {\"template\":{\"data\":{\"histogram2dcontour\":[{\"type\":\"histogram2dcontour\",\"colorbar\":{\"outlinewidth\":0,\"ticks\":\"\"},\"colorscale\":[[0.0,\"#0d0887\"],[0.1111111111111111,\"#46039f\"],[0.2222222222222222,\"#7201a8\"],[0.3333333333333333,\"#9c179e\"],[0.4444444444444444,\"#bd3786\"],[0.5555555555555556,\"#d8576b\"],[0.6666666666666666,\"#ed7953\"],[0.7777777777777778,\"#fb9f3a\"],[0.8888888888888888,\"#fdca26\"],[1.0,\"#f0f921\"]]}],\"choropleth\":[{\"type\":\"choropleth\",\"colorbar\":{\"outlinewidth\":0,\"ticks\":\"\"}}],\"histogram2d\":[{\"type\":\"histogram2d\",\"colorbar\":{\"outlinewidth\":0,\"ticks\":\"\"},\"colorscale\":[[0.0,\"#0d0887\"],[0.1111111111111111,\"#46039f\"],[0.2222222222222222,\"#7201a8\"],[0.3333333333333333,\"#9c179e\"],[0.4444444444444444,\"#bd3786\"],[0.5555555555555556,\"#d8576b\"],[0.6666666666666666,\"#ed7953\"],[0.7777777777777778,\"#fb9f3a\"],[0.8888888888888888,\"#fdca26\"],[1.0,\"#f0f921\"]]}],\"heatmap\":[{\"type\":\"heatmap\",\"colorbar\":{\"outlinewidth\":0,\"ticks\":\"\"},\"colorscale\":[[0.0,\"#0d0887\"],[0.1111111111111111,\"#46039f\"],[0.2222222222222222,\"#7201a8\"],[0.3333333333333333,\"#9c179e\"],[0.4444444444444444,\"#bd3786\"],[0.5555555555555556,\"#d8576b\"],[0.6666666666666666,\"#ed7953\"],[0.7777777777777778,\"#fb9f3a\"],[0.8888888888888888,\"#fdca26\"],[1.0,\"#f0f921\"]]}],\"heatmapgl\":[{\"type\":\"heatmapgl\",\"colorbar\":{\"outlinewidth\":0,\"ticks\":\"\"},\"colorscale\":[[0.0,\"#0d0887\"],[0.1111111111111111,\"#46039f\"],[0.2222222222222222,\"#7201a8\"],[0.3333333333333333,\"#9c179e\"],[0.4444444444444444,\"#bd3786\"],[0.5555555555555556,\"#d8576b\"],[0.6666666666666666,\"#ed7953\"],[0.7777777777777778,\"#fb9f3a\"],[0.8888888888888888,\"#fdca26\"],[1.0,\"#f0f921\"]]}],\"contourcarpet\":[{\"type\":\"contourcarpet\",\"colorbar\":{\"outlinewidth\":0,\"ticks\":\"\"}}],\"contour\":[{\"type\":\"contour\",\"colorbar\":{\"outlinewidth\":0,\"ticks\":\"\"},\"colorscale\":[[0.0,\"#0d0887\"],[0.1111111111111111,\"#46039f\"],[0.2222222222222222,\"#7201a8\"],[0.3333333333333333,\"#9c179e\"],[0.4444444444444444,\"#bd3786\"],[0.5555555555555556,\"#d8576b\"],[0.6666666666666666,\"#ed7953\"],[0.7777777777777778,\"#fb9f3a\"],[0.8888888888888888,\"#fdca26\"],[1.0,\"#f0f921\"]]}],\"surface\":[{\"type\":\"surface\",\"colorbar\":{\"outlinewidth\":0,\"ticks\":\"\"},\"colorscale\":[[0.0,\"#0d0887\"],[0.1111111111111111,\"#46039f\"],[0.2222222222222222,\"#7201a8\"],[0.3333333333333333,\"#9c179e\"],[0.4444444444444444,\"#bd3786\"],[0.5555555555555556,\"#d8576b\"],[0.6666666666666666,\"#ed7953\"],[0.7777777777777778,\"#fb9f3a\"],[0.8888888888888888,\"#fdca26\"],[1.0,\"#f0f921\"]]}],\"mesh3d\":[{\"type\":\"mesh3d\",\"colorbar\":{\"outlinewidth\":0,\"ticks\":\"\"}}],\"scatter\":[{\"fillpattern\":{\"fillmode\":\"overlay\",\"size\":10,\"solidity\":0.2},\"type\":\"scatter\"}],\"parcoords\":[{\"type\":\"parcoords\",\"line\":{\"colorbar\":{\"outlinewidth\":0,\"ticks\":\"\"}}}],\"scatterpolargl\":[{\"type\":\"scatterpolargl\",\"marker\":{\"colorbar\":{\"outlinewidth\":0,\"ticks\":\"\"}}}],\"bar\":[{\"error_x\":{\"color\":\"#2a3f5f\"},\"error_y\":{\"color\":\"#2a3f5f\"},\"marker\":{\"line\":{\"color\":\"#E5ECF6\",\"width\":0.5},\"pattern\":{\"fillmode\":\"overlay\",\"size\":10,\"solidity\":0.2}},\"type\":\"bar\"}],\"scattergeo\":[{\"type\":\"scattergeo\",\"marker\":{\"colorbar\":{\"outlinewidth\":0,\"ticks\":\"\"}}}],\"scatterpolar\":[{\"type\":\"scatterpolar\",\"marker\":{\"colorbar\":{\"outlinewidth\":0,\"ticks\":\"\"}}}],\"histogram\":[{\"marker\":{\"pattern\":{\"fillmode\":\"overlay\",\"size\":10,\"solidity\":0.2}},\"type\":\"histogram\"}],\"scattergl\":[{\"type\":\"scattergl\",\"marker\":{\"colorbar\":{\"outlinewidth\":0,\"ticks\":\"\"}}}],\"scatter3d\":[{\"type\":\"scatter3d\",\"line\":{\"colorbar\":{\"outlinewidth\":0,\"ticks\":\"\"}},\"marker\":{\"colorbar\":{\"outlinewidth\":0,\"ticks\":\"\"}}}],\"scattermapbox\":[{\"type\":\"scattermapbox\",\"marker\":{\"colorbar\":{\"outlinewidth\":0,\"ticks\":\"\"}}}],\"scatterternary\":[{\"type\":\"scatterternary\",\"marker\":{\"colorbar\":{\"outlinewidth\":0,\"ticks\":\"\"}}}],\"scattercarpet\":[{\"type\":\"scattercarpet\",\"marker\":{\"colorbar\":{\"outlinewidth\":0,\"ticks\":\"\"}}}],\"carpet\":[{\"aaxis\":{\"endlinecolor\":\"#2a3f5f\",\"gridcolor\":\"white\",\"linecolor\":\"white\",\"minorgridcolor\":\"white\",\"startlinecolor\":\"#2a3f5f\"},\"baxis\":{\"endlinecolor\":\"#2a3f5f\",\"gridcolor\":\"white\",\"linecolor\":\"white\",\"minorgridcolor\":\"white\",\"startlinecolor\":\"#2a3f5f\"},\"type\":\"carpet\"}],\"table\":[{\"cells\":{\"fill\":{\"color\":\"#EBF0F8\"},\"line\":{\"color\":\"white\"}},\"header\":{\"fill\":{\"color\":\"#C8D4E3\"},\"line\":{\"color\":\"white\"}},\"type\":\"table\"}],\"barpolar\":[{\"marker\":{\"line\":{\"color\":\"#E5ECF6\",\"width\":0.5},\"pattern\":{\"fillmode\":\"overlay\",\"size\":10,\"solidity\":0.2}},\"type\":\"barpolar\"}],\"pie\":[{\"automargin\":true,\"type\":\"pie\"}]},\"layout\":{\"autotypenumbers\":\"strict\",\"colorway\":[\"#636efa\",\"#EF553B\",\"#00cc96\",\"#ab63fa\",\"#FFA15A\",\"#19d3f3\",\"#FF6692\",\"#B6E880\",\"#FF97FF\",\"#FECB52\"],\"font\":{\"color\":\"#2a3f5f\"},\"hovermode\":\"closest\",\"hoverlabel\":{\"align\":\"left\"},\"paper_bgcolor\":\"white\",\"plot_bgcolor\":\"#E5ECF6\",\"polar\":{\"bgcolor\":\"#E5ECF6\",\"angularaxis\":{\"gridcolor\":\"white\",\"linecolor\":\"white\",\"ticks\":\"\"},\"radialaxis\":{\"gridcolor\":\"white\",\"linecolor\":\"white\",\"ticks\":\"\"}},\"ternary\":{\"bgcolor\":\"#E5ECF6\",\"aaxis\":{\"gridcolor\":\"white\",\"linecolor\":\"white\",\"ticks\":\"\"},\"baxis\":{\"gridcolor\":\"white\",\"linecolor\":\"white\",\"ticks\":\"\"},\"caxis\":{\"gridcolor\":\"white\",\"linecolor\":\"white\",\"ticks\":\"\"}},\"coloraxis\":{\"colorbar\":{\"outlinewidth\":0,\"ticks\":\"\"}},\"colorscale\":{\"sequential\":[[0.0,\"#0d0887\"],[0.1111111111111111,\"#46039f\"],[0.2222222222222222,\"#7201a8\"],[0.3333333333333333,\"#9c179e\"],[0.4444444444444444,\"#bd3786\"],[0.5555555555555556,\"#d8576b\"],[0.6666666666666666,\"#ed7953\"],[0.7777777777777778,\"#fb9f3a\"],[0.8888888888888888,\"#fdca26\"],[1.0,\"#f0f921\"]],\"sequentialminus\":[[0.0,\"#0d0887\"],[0.1111111111111111,\"#46039f\"],[0.2222222222222222,\"#7201a8\"],[0.3333333333333333,\"#9c179e\"],[0.4444444444444444,\"#bd3786\"],[0.5555555555555556,\"#d8576b\"],[0.6666666666666666,\"#ed7953\"],[0.7777777777777778,\"#fb9f3a\"],[0.8888888888888888,\"#fdca26\"],[1.0,\"#f0f921\"]],\"diverging\":[[0,\"#8e0152\"],[0.1,\"#c51b7d\"],[0.2,\"#de77ae\"],[0.3,\"#f1b6da\"],[0.4,\"#fde0ef\"],[0.5,\"#f7f7f7\"],[0.6,\"#e6f5d0\"],[0.7,\"#b8e186\"],[0.8,\"#7fbc41\"],[0.9,\"#4d9221\"],[1,\"#276419\"]]},\"xaxis\":{\"gridcolor\":\"white\",\"linecolor\":\"white\",\"ticks\":\"\",\"title\":{\"standoff\":15},\"zerolinecolor\":\"white\",\"automargin\":true,\"zerolinewidth\":2},\"yaxis\":{\"gridcolor\":\"white\",\"linecolor\":\"white\",\"ticks\":\"\",\"title\":{\"standoff\":15},\"zerolinecolor\":\"white\",\"automargin\":true,\"zerolinewidth\":2},\"scene\":{\"xaxis\":{\"backgroundcolor\":\"#E5ECF6\",\"gridcolor\":\"white\",\"linecolor\":\"white\",\"showbackground\":true,\"ticks\":\"\",\"zerolinecolor\":\"white\",\"gridwidth\":2},\"yaxis\":{\"backgroundcolor\":\"#E5ECF6\",\"gridcolor\":\"white\",\"linecolor\":\"white\",\"showbackground\":true,\"ticks\":\"\",\"zerolinecolor\":\"white\",\"gridwidth\":2},\"zaxis\":{\"backgroundcolor\":\"#E5ECF6\",\"gridcolor\":\"white\",\"linecolor\":\"white\",\"showbackground\":true,\"ticks\":\"\",\"zerolinecolor\":\"white\",\"gridwidth\":2}},\"shapedefaults\":{\"line\":{\"color\":\"#2a3f5f\"}},\"annotationdefaults\":{\"arrowcolor\":\"#2a3f5f\",\"arrowhead\":0,\"arrowwidth\":1},\"geo\":{\"bgcolor\":\"white\",\"landcolor\":\"#E5ECF6\",\"subunitcolor\":\"white\",\"showland\":true,\"showlakes\":true,\"lakecolor\":\"white\"},\"title\":{\"x\":0.05},\"mapbox\":{\"style\":\"light\"}}},\"title\":{\"text\":\"Model Size Effect on Test Loss by Dataset Size\"},\"yaxis\":{\"title\":{\"text\":\"Loss\"}},\"xaxis\":{\"title\":{\"text\":\"Model Size\"}}},                        {\"responsive\": true}                    ).then(function(){\n",
              "                            \n",
              "var gd = document.getElementById('8223e1d3-855a-48da-85c6-b564a49bbe16');\n",
              "var x = new MutationObserver(function (mutations, observer) {{\n",
              "        var display = window.getComputedStyle(gd).display;\n",
              "        if (!display || display === 'none') {{\n",
              "            console.log([gd, 'removed!']);\n",
              "            Plotly.purge(gd);\n",
              "            observer.disconnect();\n",
              "        }}\n",
              "}});\n",
              "\n",
              "// Listen for the removal of the full notebook cells\n",
              "var notebookContainer = gd.closest('#notebook-container');\n",
              "if (notebookContainer) {{\n",
              "    x.observe(notebookContainer, {childList: true});\n",
              "}}\n",
              "\n",
              "// Listen for the clearing of the current output cell\n",
              "var outputEl = gd.closest('.output');\n",
              "if (outputEl) {{\n",
              "    x.observe(outputEl, {childList: true});\n",
              "}}\n",
              "\n",
              "                        })                };                            </script>        </div>\n",
              "</body>\n",
              "</html>"
            ]
          },
          "metadata": {}
        }
      ]
    },
    {
      "cell_type": "code",
      "source": [
        "fig = px.scatter(x=N_params[:-1], y=np.log(test_losses_NandD[2]), title ='Model Size Effect of Log Test Loss - Fixed Dataset Size', trendline='ols')\n",
        "fig.show()"
      ],
      "metadata": {
        "colab": {
          "base_uri": "https://localhost:8080/",
          "height": 542
        },
        "id": "fWLCosdt2ueB",
        "outputId": "a90ec2c4-b81b-4c16-f2e0-c295ecac3251"
      },
      "execution_count": 61,
      "outputs": [
        {
          "output_type": "display_data",
          "data": {
            "text/html": [
              "<html>\n",
              "<head><meta charset=\"utf-8\" /></head>\n",
              "<body>\n",
              "    <div>            <script src=\"https://cdnjs.cloudflare.com/ajax/libs/mathjax/2.7.5/MathJax.js?config=TeX-AMS-MML_SVG\"></script><script type=\"text/javascript\">if (window.MathJax && window.MathJax.Hub && window.MathJax.Hub.Config) {window.MathJax.Hub.Config({SVG: {font: \"STIX-Web\"}});}</script>                <script type=\"text/javascript\">window.PlotlyConfig = {MathJaxConfig: 'local'};</script>\n",
              "        <script charset=\"utf-8\" src=\"https://cdn.plot.ly/plotly-2.24.1.min.js\"></script>                <div id=\"1a70b663-495c-4ee3-8d0c-26db1ac08283\" class=\"plotly-graph-div\" style=\"height:525px; width:100%;\"></div>            <script type=\"text/javascript\">                                    window.PLOTLYENV=window.PLOTLYENV || {};                                    if (document.getElementById(\"1a70b663-495c-4ee3-8d0c-26db1ac08283\")) {                    Plotly.newPlot(                        \"1a70b663-495c-4ee3-8d0c-26db1ac08283\",                        [{\"hovertemplate\":\"x=%{x}\\u003cbr\\u003ey=%{y}\\u003cextra\\u003e\\u003c\\u002fextra\\u003e\",\"legendgroup\":\"\",\"marker\":{\"color\":\"#636efa\",\"symbol\":\"circle\"},\"mode\":\"markers\",\"name\":\"\",\"orientation\":\"v\",\"showlegend\":false,\"x\":[4742,9798,20245,38306,74657,152775],\"xaxis\":\"x\",\"y\":[-0.5938889628037257,-0.7292584083921466,-0.9385999691613969,-1.105133097732179,-1.2603862407008122,-1.4741022876766512],\"yaxis\":\"y\",\"type\":\"scatter\"},{\"hovertemplate\":\"\\u003cb\\u003eOLS trendline\\u003c\\u002fb\\u003e\\u003cbr\\u003ey = -5.36027e-06 * x + -0.748414\\u003cbr\\u003eR\\u003csup\\u003e2\\u003c\\u002fsup\\u003e=0.837669\\u003cbr\\u003e\\u003cbr\\u003ex=%{x}\\u003cbr\\u003ey=%{y} \\u003cb\\u003e(trend)\\u003c\\u002fb\\u003e\\u003cextra\\u003e\\u003c\\u002fextra\\u003e\",\"legendgroup\":\"\",\"marker\":{\"color\":\"#636efa\",\"symbol\":\"circle\"},\"mode\":\"lines\",\"name\":\"\",\"showlegend\":false,\"x\":[4742,9798,20245,38306,74657,152775],\"xaxis\":\"x\",\"y\":[-0.7738323502464302,-0.8009338910845974,-0.8569326642523848,-0.9537445568706875,-1.1485958446492115,-1.5673296593636001],\"yaxis\":\"y\",\"type\":\"scatter\"}],                        {\"template\":{\"data\":{\"histogram2dcontour\":[{\"type\":\"histogram2dcontour\",\"colorbar\":{\"outlinewidth\":0,\"ticks\":\"\"},\"colorscale\":[[0.0,\"#0d0887\"],[0.1111111111111111,\"#46039f\"],[0.2222222222222222,\"#7201a8\"],[0.3333333333333333,\"#9c179e\"],[0.4444444444444444,\"#bd3786\"],[0.5555555555555556,\"#d8576b\"],[0.6666666666666666,\"#ed7953\"],[0.7777777777777778,\"#fb9f3a\"],[0.8888888888888888,\"#fdca26\"],[1.0,\"#f0f921\"]]}],\"choropleth\":[{\"type\":\"choropleth\",\"colorbar\":{\"outlinewidth\":0,\"ticks\":\"\"}}],\"histogram2d\":[{\"type\":\"histogram2d\",\"colorbar\":{\"outlinewidth\":0,\"ticks\":\"\"},\"colorscale\":[[0.0,\"#0d0887\"],[0.1111111111111111,\"#46039f\"],[0.2222222222222222,\"#7201a8\"],[0.3333333333333333,\"#9c179e\"],[0.4444444444444444,\"#bd3786\"],[0.5555555555555556,\"#d8576b\"],[0.6666666666666666,\"#ed7953\"],[0.7777777777777778,\"#fb9f3a\"],[0.8888888888888888,\"#fdca26\"],[1.0,\"#f0f921\"]]}],\"heatmap\":[{\"type\":\"heatmap\",\"colorbar\":{\"outlinewidth\":0,\"ticks\":\"\"},\"colorscale\":[[0.0,\"#0d0887\"],[0.1111111111111111,\"#46039f\"],[0.2222222222222222,\"#7201a8\"],[0.3333333333333333,\"#9c179e\"],[0.4444444444444444,\"#bd3786\"],[0.5555555555555556,\"#d8576b\"],[0.6666666666666666,\"#ed7953\"],[0.7777777777777778,\"#fb9f3a\"],[0.8888888888888888,\"#fdca26\"],[1.0,\"#f0f921\"]]}],\"heatmapgl\":[{\"type\":\"heatmapgl\",\"colorbar\":{\"outlinewidth\":0,\"ticks\":\"\"},\"colorscale\":[[0.0,\"#0d0887\"],[0.1111111111111111,\"#46039f\"],[0.2222222222222222,\"#7201a8\"],[0.3333333333333333,\"#9c179e\"],[0.4444444444444444,\"#bd3786\"],[0.5555555555555556,\"#d8576b\"],[0.6666666666666666,\"#ed7953\"],[0.7777777777777778,\"#fb9f3a\"],[0.8888888888888888,\"#fdca26\"],[1.0,\"#f0f921\"]]}],\"contourcarpet\":[{\"type\":\"contourcarpet\",\"colorbar\":{\"outlinewidth\":0,\"ticks\":\"\"}}],\"contour\":[{\"type\":\"contour\",\"colorbar\":{\"outlinewidth\":0,\"ticks\":\"\"},\"colorscale\":[[0.0,\"#0d0887\"],[0.1111111111111111,\"#46039f\"],[0.2222222222222222,\"#7201a8\"],[0.3333333333333333,\"#9c179e\"],[0.4444444444444444,\"#bd3786\"],[0.5555555555555556,\"#d8576b\"],[0.6666666666666666,\"#ed7953\"],[0.7777777777777778,\"#fb9f3a\"],[0.8888888888888888,\"#fdca26\"],[1.0,\"#f0f921\"]]}],\"surface\":[{\"type\":\"surface\",\"colorbar\":{\"outlinewidth\":0,\"ticks\":\"\"},\"colorscale\":[[0.0,\"#0d0887\"],[0.1111111111111111,\"#46039f\"],[0.2222222222222222,\"#7201a8\"],[0.3333333333333333,\"#9c179e\"],[0.4444444444444444,\"#bd3786\"],[0.5555555555555556,\"#d8576b\"],[0.6666666666666666,\"#ed7953\"],[0.7777777777777778,\"#fb9f3a\"],[0.8888888888888888,\"#fdca26\"],[1.0,\"#f0f921\"]]}],\"mesh3d\":[{\"type\":\"mesh3d\",\"colorbar\":{\"outlinewidth\":0,\"ticks\":\"\"}}],\"scatter\":[{\"fillpattern\":{\"fillmode\":\"overlay\",\"size\":10,\"solidity\":0.2},\"type\":\"scatter\"}],\"parcoords\":[{\"type\":\"parcoords\",\"line\":{\"colorbar\":{\"outlinewidth\":0,\"ticks\":\"\"}}}],\"scatterpolargl\":[{\"type\":\"scatterpolargl\",\"marker\":{\"colorbar\":{\"outlinewidth\":0,\"ticks\":\"\"}}}],\"bar\":[{\"error_x\":{\"color\":\"#2a3f5f\"},\"error_y\":{\"color\":\"#2a3f5f\"},\"marker\":{\"line\":{\"color\":\"#E5ECF6\",\"width\":0.5},\"pattern\":{\"fillmode\":\"overlay\",\"size\":10,\"solidity\":0.2}},\"type\":\"bar\"}],\"scattergeo\":[{\"type\":\"scattergeo\",\"marker\":{\"colorbar\":{\"outlinewidth\":0,\"ticks\":\"\"}}}],\"scatterpolar\":[{\"type\":\"scatterpolar\",\"marker\":{\"colorbar\":{\"outlinewidth\":0,\"ticks\":\"\"}}}],\"histogram\":[{\"marker\":{\"pattern\":{\"fillmode\":\"overlay\",\"size\":10,\"solidity\":0.2}},\"type\":\"histogram\"}],\"scattergl\":[{\"type\":\"scattergl\",\"marker\":{\"colorbar\":{\"outlinewidth\":0,\"ticks\":\"\"}}}],\"scatter3d\":[{\"type\":\"scatter3d\",\"line\":{\"colorbar\":{\"outlinewidth\":0,\"ticks\":\"\"}},\"marker\":{\"colorbar\":{\"outlinewidth\":0,\"ticks\":\"\"}}}],\"scattermapbox\":[{\"type\":\"scattermapbox\",\"marker\":{\"colorbar\":{\"outlinewidth\":0,\"ticks\":\"\"}}}],\"scatterternary\":[{\"type\":\"scatterternary\",\"marker\":{\"colorbar\":{\"outlinewidth\":0,\"ticks\":\"\"}}}],\"scattercarpet\":[{\"type\":\"scattercarpet\",\"marker\":{\"colorbar\":{\"outlinewidth\":0,\"ticks\":\"\"}}}],\"carpet\":[{\"aaxis\":{\"endlinecolor\":\"#2a3f5f\",\"gridcolor\":\"white\",\"linecolor\":\"white\",\"minorgridcolor\":\"white\",\"startlinecolor\":\"#2a3f5f\"},\"baxis\":{\"endlinecolor\":\"#2a3f5f\",\"gridcolor\":\"white\",\"linecolor\":\"white\",\"minorgridcolor\":\"white\",\"startlinecolor\":\"#2a3f5f\"},\"type\":\"carpet\"}],\"table\":[{\"cells\":{\"fill\":{\"color\":\"#EBF0F8\"},\"line\":{\"color\":\"white\"}},\"header\":{\"fill\":{\"color\":\"#C8D4E3\"},\"line\":{\"color\":\"white\"}},\"type\":\"table\"}],\"barpolar\":[{\"marker\":{\"line\":{\"color\":\"#E5ECF6\",\"width\":0.5},\"pattern\":{\"fillmode\":\"overlay\",\"size\":10,\"solidity\":0.2}},\"type\":\"barpolar\"}],\"pie\":[{\"automargin\":true,\"type\":\"pie\"}]},\"layout\":{\"autotypenumbers\":\"strict\",\"colorway\":[\"#636efa\",\"#EF553B\",\"#00cc96\",\"#ab63fa\",\"#FFA15A\",\"#19d3f3\",\"#FF6692\",\"#B6E880\",\"#FF97FF\",\"#FECB52\"],\"font\":{\"color\":\"#2a3f5f\"},\"hovermode\":\"closest\",\"hoverlabel\":{\"align\":\"left\"},\"paper_bgcolor\":\"white\",\"plot_bgcolor\":\"#E5ECF6\",\"polar\":{\"bgcolor\":\"#E5ECF6\",\"angularaxis\":{\"gridcolor\":\"white\",\"linecolor\":\"white\",\"ticks\":\"\"},\"radialaxis\":{\"gridcolor\":\"white\",\"linecolor\":\"white\",\"ticks\":\"\"}},\"ternary\":{\"bgcolor\":\"#E5ECF6\",\"aaxis\":{\"gridcolor\":\"white\",\"linecolor\":\"white\",\"ticks\":\"\"},\"baxis\":{\"gridcolor\":\"white\",\"linecolor\":\"white\",\"ticks\":\"\"},\"caxis\":{\"gridcolor\":\"white\",\"linecolor\":\"white\",\"ticks\":\"\"}},\"coloraxis\":{\"colorbar\":{\"outlinewidth\":0,\"ticks\":\"\"}},\"colorscale\":{\"sequential\":[[0.0,\"#0d0887\"],[0.1111111111111111,\"#46039f\"],[0.2222222222222222,\"#7201a8\"],[0.3333333333333333,\"#9c179e\"],[0.4444444444444444,\"#bd3786\"],[0.5555555555555556,\"#d8576b\"],[0.6666666666666666,\"#ed7953\"],[0.7777777777777778,\"#fb9f3a\"],[0.8888888888888888,\"#fdca26\"],[1.0,\"#f0f921\"]],\"sequentialminus\":[[0.0,\"#0d0887\"],[0.1111111111111111,\"#46039f\"],[0.2222222222222222,\"#7201a8\"],[0.3333333333333333,\"#9c179e\"],[0.4444444444444444,\"#bd3786\"],[0.5555555555555556,\"#d8576b\"],[0.6666666666666666,\"#ed7953\"],[0.7777777777777778,\"#fb9f3a\"],[0.8888888888888888,\"#fdca26\"],[1.0,\"#f0f921\"]],\"diverging\":[[0,\"#8e0152\"],[0.1,\"#c51b7d\"],[0.2,\"#de77ae\"],[0.3,\"#f1b6da\"],[0.4,\"#fde0ef\"],[0.5,\"#f7f7f7\"],[0.6,\"#e6f5d0\"],[0.7,\"#b8e186\"],[0.8,\"#7fbc41\"],[0.9,\"#4d9221\"],[1,\"#276419\"]]},\"xaxis\":{\"gridcolor\":\"white\",\"linecolor\":\"white\",\"ticks\":\"\",\"title\":{\"standoff\":15},\"zerolinecolor\":\"white\",\"automargin\":true,\"zerolinewidth\":2},\"yaxis\":{\"gridcolor\":\"white\",\"linecolor\":\"white\",\"ticks\":\"\",\"title\":{\"standoff\":15},\"zerolinecolor\":\"white\",\"automargin\":true,\"zerolinewidth\":2},\"scene\":{\"xaxis\":{\"backgroundcolor\":\"#E5ECF6\",\"gridcolor\":\"white\",\"linecolor\":\"white\",\"showbackground\":true,\"ticks\":\"\",\"zerolinecolor\":\"white\",\"gridwidth\":2},\"yaxis\":{\"backgroundcolor\":\"#E5ECF6\",\"gridcolor\":\"white\",\"linecolor\":\"white\",\"showbackground\":true,\"ticks\":\"\",\"zerolinecolor\":\"white\",\"gridwidth\":2},\"zaxis\":{\"backgroundcolor\":\"#E5ECF6\",\"gridcolor\":\"white\",\"linecolor\":\"white\",\"showbackground\":true,\"ticks\":\"\",\"zerolinecolor\":\"white\",\"gridwidth\":2}},\"shapedefaults\":{\"line\":{\"color\":\"#2a3f5f\"}},\"annotationdefaults\":{\"arrowcolor\":\"#2a3f5f\",\"arrowhead\":0,\"arrowwidth\":1},\"geo\":{\"bgcolor\":\"white\",\"landcolor\":\"#E5ECF6\",\"subunitcolor\":\"white\",\"showland\":true,\"showlakes\":true,\"lakecolor\":\"white\"},\"title\":{\"x\":0.05},\"mapbox\":{\"style\":\"light\"}}},\"xaxis\":{\"anchor\":\"y\",\"domain\":[0.0,1.0],\"title\":{\"text\":\"x\"}},\"yaxis\":{\"anchor\":\"x\",\"domain\":[0.0,1.0],\"title\":{\"text\":\"y\"}},\"legend\":{\"tracegroupgap\":0},\"title\":{\"text\":\"Model Size Effect of Log Test Loss - Fixed Dataset Size\"}},                        {\"responsive\": true}                    ).then(function(){\n",
              "                            \n",
              "var gd = document.getElementById('1a70b663-495c-4ee3-8d0c-26db1ac08283');\n",
              "var x = new MutationObserver(function (mutations, observer) {{\n",
              "        var display = window.getComputedStyle(gd).display;\n",
              "        if (!display || display === 'none') {{\n",
              "            console.log([gd, 'removed!']);\n",
              "            Plotly.purge(gd);\n",
              "            observer.disconnect();\n",
              "        }}\n",
              "}});\n",
              "\n",
              "// Listen for the removal of the full notebook cells\n",
              "var notebookContainer = gd.closest('#notebook-container');\n",
              "if (notebookContainer) {{\n",
              "    x.observe(notebookContainer, {childList: true});\n",
              "}}\n",
              "\n",
              "// Listen for the clearing of the current output cell\n",
              "var outputEl = gd.closest('.output');\n",
              "if (outputEl) {{\n",
              "    x.observe(outputEl, {childList: true});\n",
              "}}\n",
              "\n",
              "                        })                };                            </script>        </div>\n",
              "</body>\n",
              "</html>"
            ]
          },
          "metadata": {}
        }
      ]
    },
    {
      "cell_type": "markdown",
      "source": [
        "## Compute Effect\n",
        "\n",
        "We will follow both the article heuristic on how to approximate the compute used in training and the heuristic presented by Epoch AI in the following report:\n",
        "\n",
        "https://epochai.org/blog/estimating-training-compute"
      ],
      "metadata": {
        "id": "dVY0Dyccamfz"
      }
    },
    {
      "cell_type": "code",
      "source": [
        "def get_compute_used_train(m, cfg, dlrt):\n",
        "\n",
        "  # compute estimation by epoch report\n",
        "  def divBy2(depth, val=28):\n",
        "\n",
        "    for _ in range(depth):\n",
        "\n",
        "      val /= 2\n",
        "      val += 1\n",
        "\n",
        "    return int(math.modf(val)[1])\n",
        "\n",
        "  def get_cnn_forwardpass_epoch():\n",
        "\n",
        "    total_fpops_cnn = 0\n",
        "    for d in range(cfg.CNNDepth):\n",
        "      dim = divBy2(d)\n",
        "      C = 2 * (dim**2) * (dim**2) * 1 * cfg.outchans[d]\n",
        "      total_fpops_cnn += C\n",
        "\n",
        "    return total_fpops_cnn\n",
        "\n",
        "  def get_mlp_forwardpass_epoch():\n",
        "\n",
        "    dim = divBy2(cfg.CNNDepth)\n",
        "    first = 2 * (cfg.outchans[-1] * dim * dim) * cfg.hidden1\n",
        "    second = 2 * cfg.hidden1 * cfg.hidden2\n",
        "    third = 2 * cfg.hidden2 * 10\n",
        "\n",
        "    return first + second + third\n",
        "\n",
        "  mlp_epoch = get_mlp_forwardpass_epoch()\n",
        "  cnn_epoch = get_cnn_forwardpass_epoch()\n",
        "  compute_epoch = (mlp_epoch + cnn_epoch) * 3 * 1 * 64 * len(dlrt)\n",
        "\n",
        "  # compute estimation scaling laws\n",
        "  N = count_parameters(m)\n",
        "  compute_paper = 6 * N * 64 * len(dlrt)\n",
        "\n",
        "  return compute_paper, compute_epoch"
      ],
      "metadata": {
        "id": "EK7mfee0svWm"
      },
      "execution_count": 45,
      "outputs": []
    },
    {
      "cell_type": "code",
      "source": [
        "test_losses_NandC = []\n",
        "test_acc_NandC = []\n",
        "compute_epoch_list = []\n",
        "compute_paper_list = []\n",
        "N_params = []"
      ],
      "metadata": {
        "id": "Fhos2T3Q3PQE"
      },
      "execution_count": 59,
      "outputs": []
    },
    {
      "cell_type": "code",
      "source": [
        "max_epochs = 1\n",
        "loss = nn.CrossEntropyLoss()\n",
        "n_models = 6\n",
        "n_reps = 5\n",
        "\n",
        "\n",
        "# arch\n",
        "convdepth = 2\n",
        "ks = [3, 3]\n",
        "nchan = [4, 4]\n",
        "nhid1 = 32\n",
        "nhid2 = 32\n",
        "\n",
        "for j in range(n_models):\n",
        "  running_test_loss = 0\n",
        "  running_test_acc = 0\n",
        "  running_compute_epoch = 0\n",
        "  running_compute_paper = 0\n",
        "  for r in range(n_reps):\n",
        "    # create configs\n",
        "    cfg = Config(ks=ks,\n",
        "                mp=2,\n",
        "                nchan=nchan,\n",
        "                convdepth=convdepth,\n",
        "                nhid1=nhid1,\n",
        "                nhid2=nhid2,\n",
        "                drop=0)\n",
        "\n",
        "    # create model and instantiate optimizer\n",
        "    cnn = CNN(cfg)\n",
        "    N = count_parameters(cnn)\n",
        "    N_params.append(N)\n",
        "    c_paper, c_epoch = get_compute_used_train(cnn, cfg, train_dlr_quar)\n",
        "    lr = 0.003239  + ((-0.0001395) * np.log(N))\n",
        "    print('MODEL', j, 'PARAMETER COUNT:', N)\n",
        "    optm = torch.optim.Adam(cnn.parameters(), lr=lr)\n",
        "    # train and evaluate\n",
        "    print(f'########### STAR MODEL {j} REP {r} ###########')\n",
        "    for e in range(max_epochs):\n",
        "      train_loss, train_acc = train(cnn, train_dlr_quar, loss, optm)\n",
        "    print('EVALUATING')\n",
        "    test_loss, test_acc = evaluate(cnn, test_dlr, loss)\n",
        "    running_compute_epoch += c_epoch\n",
        "    running_compute_paper += c_paper\n",
        "    running_test_loss += test_loss\n",
        "    running_test_acc += test_acc\n",
        "    print(f'############ END MODEL {j} REP {r} ############')\n",
        "    print('\\n')\n",
        "  test_losses_NandC.append(running_test_loss/n_reps)\n",
        "  test_acc_NandC.append(running_test_acc/n_reps)\n",
        "  compute_epoch_list.append(running_compute_epoch/n_reps)\n",
        "  compute_paper_list.append(running_compute_paper/n_reps)\n",
        "  # change arch params\n",
        "  nchan = [round(np.sqrt(2)*m) for m in nchan]\n",
        "  nhid1 = round(np.sqrt(2)*nhid1)\n",
        "  nhid2 = round(np.sqrt(2)*nhid2)"
      ],
      "metadata": {
        "colab": {
          "base_uri": "https://localhost:8080/"
        },
        "id": "u99xuMKr1Gla",
        "outputId": "a27f52da-af23-4abc-9730-e700394a206b"
      },
      "execution_count": 60,
      "outputs": [
        {
          "output_type": "stream",
          "name": "stdout",
          "text": [
            "MODEL 0 PARAMETER COUNT: 9798\n",
            "########### STAR MODEL 0 REP 0 ###########\n"
          ]
        },
        {
          "output_type": "stream",
          "name": "stderr",
          "text": [
            "100%|██████████| 235/235 [00:10<00:00, 22.59it/s]\n"
          ]
        },
        {
          "output_type": "stream",
          "name": "stdout",
          "text": [
            "Finished Batch: \n",
            "Training Loss:  0.9694802300093022 Training Av. Accuracy:  0.6792553191489362\n",
            "EVALUATING\n"
          ]
        },
        {
          "output_type": "stream",
          "name": "stderr",
          "text": [
            "100%|██████████| 157/157 [00:04<00:00, 37.33it/s]\n"
          ]
        },
        {
          "output_type": "stream",
          "name": "stdout",
          "text": [
            "Validation Loss:  0.37140673427445114 Validation Av. Accuracy:  0.884156050955414\n",
            "############ END MODEL 0 REP 0 ############\n",
            "\n",
            "\n",
            "MODEL 0 PARAMETER COUNT: 9798\n",
            "########### STAR MODEL 0 REP 1 ###########\n"
          ]
        },
        {
          "output_type": "stream",
          "name": "stderr",
          "text": [
            "100%|██████████| 235/235 [00:08<00:00, 28.44it/s]\n"
          ]
        },
        {
          "output_type": "stream",
          "name": "stdout",
          "text": [
            "Finished Batch: \n",
            "Training Loss:  0.8946327275418221 Training Av. Accuracy:  0.7000664893617021\n",
            "EVALUATING\n"
          ]
        },
        {
          "output_type": "stream",
          "name": "stderr",
          "text": [
            "100%|██████████| 157/157 [00:03<00:00, 43.06it/s]\n"
          ]
        },
        {
          "output_type": "stream",
          "name": "stdout",
          "text": [
            "Validation Loss:  0.37918896555520926 Validation Av. Accuracy:  0.882265127388535\n",
            "############ END MODEL 0 REP 1 ############\n",
            "\n",
            "\n",
            "MODEL 0 PARAMETER COUNT: 9798\n",
            "########### STAR MODEL 0 REP 2 ###########\n"
          ]
        },
        {
          "output_type": "stream",
          "name": "stderr",
          "text": [
            "100%|██████████| 235/235 [00:08<00:00, 28.41it/s]\n"
          ]
        },
        {
          "output_type": "stream",
          "name": "stdout",
          "text": [
            "Finished Batch: \n",
            "Training Loss:  0.9634283721764036 Training Av. Accuracy:  0.6851950354609929\n",
            "EVALUATING\n"
          ]
        },
        {
          "output_type": "stream",
          "name": "stderr",
          "text": [
            "100%|██████████| 157/157 [00:03<00:00, 43.37it/s]\n"
          ]
        },
        {
          "output_type": "stream",
          "name": "stdout",
          "text": [
            "Validation Loss:  0.32504772798270937 Validation Av. Accuracy:  0.8968949044585988\n",
            "############ END MODEL 0 REP 2 ############\n",
            "\n",
            "\n",
            "MODEL 0 PARAMETER COUNT: 9798\n",
            "########### STAR MODEL 0 REP 3 ###########\n"
          ]
        },
        {
          "output_type": "stream",
          "name": "stderr",
          "text": [
            "100%|██████████| 235/235 [00:08<00:00, 28.74it/s]\n"
          ]
        },
        {
          "output_type": "stream",
          "name": "stdout",
          "text": [
            "Finished Batch: \n",
            "Training Loss:  1.1057585408078863 Training Av. Accuracy:  0.6197473404255319\n",
            "EVALUATING\n"
          ]
        },
        {
          "output_type": "stream",
          "name": "stderr",
          "text": [
            "100%|██████████| 157/157 [00:03<00:00, 43.49it/s]\n"
          ]
        },
        {
          "output_type": "stream",
          "name": "stdout",
          "text": [
            "Validation Loss:  0.42149591986920426 Validation Av. Accuracy:  0.8695262738853503\n",
            "############ END MODEL 0 REP 3 ############\n",
            "\n",
            "\n",
            "MODEL 0 PARAMETER COUNT: 9798\n",
            "########### STAR MODEL 0 REP 4 ###########\n"
          ]
        },
        {
          "output_type": "stream",
          "name": "stderr",
          "text": [
            "100%|██████████| 235/235 [00:07<00:00, 31.37it/s]\n"
          ]
        },
        {
          "output_type": "stream",
          "name": "stdout",
          "text": [
            "Finished Batch: \n",
            "Training Loss:  1.0141196488065922 Training Av. Accuracy:  0.6519060283687943\n",
            "EVALUATING\n"
          ]
        },
        {
          "output_type": "stream",
          "name": "stderr",
          "text": [
            "100%|██████████| 157/157 [00:04<00:00, 36.31it/s]\n"
          ]
        },
        {
          "output_type": "stream",
          "name": "stdout",
          "text": [
            "Validation Loss:  0.41127057515891496 Validation Av. Accuracy:  0.8705214968152867\n",
            "############ END MODEL 0 REP 4 ############\n",
            "\n",
            "\n",
            "MODEL 1 PARAMETER COUNT: 20245\n",
            "########### STAR MODEL 1 REP 0 ###########\n"
          ]
        },
        {
          "output_type": "stream",
          "name": "stderr",
          "text": [
            "100%|██████████| 235/235 [00:07<00:00, 30.93it/s]\n"
          ]
        },
        {
          "output_type": "stream",
          "name": "stdout",
          "text": [
            "Finished Batch: \n",
            "Training Loss:  0.8111015144814836 Training Av. Accuracy:  0.743040780141844\n",
            "EVALUATING\n"
          ]
        },
        {
          "output_type": "stream",
          "name": "stderr",
          "text": [
            "100%|██████████| 157/157 [00:05<00:00, 30.93it/s]\n"
          ]
        },
        {
          "output_type": "stream",
          "name": "stdout",
          "text": [
            "Validation Loss:  0.3603484498657239 Validation Av. Accuracy:  0.8940087579617835\n",
            "############ END MODEL 1 REP 0 ############\n",
            "\n",
            "\n",
            "MODEL 1 PARAMETER COUNT: 20245\n",
            "########### STAR MODEL 1 REP 1 ###########\n"
          ]
        },
        {
          "output_type": "stream",
          "name": "stderr",
          "text": [
            "100%|██████████| 235/235 [00:07<00:00, 30.64it/s]\n"
          ]
        },
        {
          "output_type": "stream",
          "name": "stdout",
          "text": [
            "Finished Batch: \n",
            "Training Loss:  0.792617100921083 Training Av. Accuracy:  0.737854609929078\n",
            "EVALUATING\n"
          ]
        },
        {
          "output_type": "stream",
          "name": "stderr",
          "text": [
            "100%|██████████| 157/157 [00:05<00:00, 31.16it/s]\n"
          ]
        },
        {
          "output_type": "stream",
          "name": "stdout",
          "text": [
            "Validation Loss:  0.2957522520309041 Validation Av. Accuracy:  0.9088375796178344\n",
            "############ END MODEL 1 REP 1 ############\n",
            "\n",
            "\n",
            "MODEL 1 PARAMETER COUNT: 20245\n",
            "########### STAR MODEL 1 REP 2 ###########\n"
          ]
        },
        {
          "output_type": "stream",
          "name": "stderr",
          "text": [
            "100%|██████████| 235/235 [00:07<00:00, 30.85it/s]\n"
          ]
        },
        {
          "output_type": "stream",
          "name": "stdout",
          "text": [
            "Finished Batch: \n",
            "Training Loss:  0.8246021113497146 Training Av. Accuracy:  0.7212544326241135\n",
            "EVALUATING\n"
          ]
        },
        {
          "output_type": "stream",
          "name": "stderr",
          "text": [
            "100%|██████████| 157/157 [00:05<00:00, 27.62it/s]\n"
          ]
        },
        {
          "output_type": "stream",
          "name": "stdout",
          "text": [
            "Validation Loss:  0.3505955562944625 Validation Av. Accuracy:  0.8893312101910829\n",
            "############ END MODEL 1 REP 2 ############\n",
            "\n",
            "\n",
            "MODEL 1 PARAMETER COUNT: 20245\n",
            "########### STAR MODEL 1 REP 3 ###########\n"
          ]
        },
        {
          "output_type": "stream",
          "name": "stderr",
          "text": [
            "100%|██████████| 235/235 [00:07<00:00, 29.86it/s]\n"
          ]
        },
        {
          "output_type": "stream",
          "name": "stdout",
          "text": [
            "Finished Batch: \n",
            "Training Loss:  0.7811420778010754 Training Av. Accuracy:  0.759663120567376\n",
            "EVALUATING\n"
          ]
        },
        {
          "output_type": "stream",
          "name": "stderr",
          "text": [
            "100%|██████████| 157/157 [00:04<00:00, 37.19it/s]\n"
          ]
        },
        {
          "output_type": "stream",
          "name": "stdout",
          "text": [
            "Validation Loss:  0.23104551016904745 Validation Av. Accuracy:  0.9300358280254777\n",
            "############ END MODEL 1 REP 3 ############\n",
            "\n",
            "\n",
            "MODEL 1 PARAMETER COUNT: 20245\n",
            "########### STAR MODEL 1 REP 4 ###########\n"
          ]
        },
        {
          "output_type": "stream",
          "name": "stderr",
          "text": [
            "100%|██████████| 235/235 [00:08<00:00, 26.48it/s]\n"
          ]
        },
        {
          "output_type": "stream",
          "name": "stdout",
          "text": [
            "Finished Batch: \n",
            "Training Loss:  0.7684294293535516 Training Av. Accuracy:  0.7549645390070922\n",
            "EVALUATING\n"
          ]
        },
        {
          "output_type": "stream",
          "name": "stderr",
          "text": [
            "100%|██████████| 157/157 [00:04<00:00, 37.77it/s]\n"
          ]
        },
        {
          "output_type": "stream",
          "name": "stdout",
          "text": [
            "Validation Loss:  0.3128093394694055 Validation Av. Accuracy:  0.9063495222929936\n",
            "############ END MODEL 1 REP 4 ############\n",
            "\n",
            "\n",
            "MODEL 2 PARAMETER COUNT: 38306\n",
            "########### STAR MODEL 2 REP 0 ###########\n"
          ]
        },
        {
          "output_type": "stream",
          "name": "stderr",
          "text": [
            "100%|██████████| 235/235 [00:09<00:00, 26.05it/s]\n"
          ]
        },
        {
          "output_type": "stream",
          "name": "stdout",
          "text": [
            "Finished Batch: \n",
            "Training Loss:  0.7005763211782943 Training Av. Accuracy:  0.7765070921985815\n",
            "EVALUATING\n"
          ]
        },
        {
          "output_type": "stream",
          "name": "stderr",
          "text": [
            "100%|██████████| 157/157 [00:04<00:00, 36.29it/s]\n"
          ]
        },
        {
          "output_type": "stream",
          "name": "stdout",
          "text": [
            "Validation Loss:  0.2539120819538262 Validation Av. Accuracy:  0.9251592356687898\n",
            "############ END MODEL 2 REP 0 ############\n",
            "\n",
            "\n",
            "MODEL 2 PARAMETER COUNT: 38306\n",
            "########### STAR MODEL 2 REP 1 ###########\n"
          ]
        },
        {
          "output_type": "stream",
          "name": "stderr",
          "text": [
            "100%|██████████| 235/235 [00:09<00:00, 25.89it/s]\n"
          ]
        },
        {
          "output_type": "stream",
          "name": "stdout",
          "text": [
            "Finished Batch: \n",
            "Training Loss:  0.7039266467728513 Training Av. Accuracy:  0.773116134751773\n",
            "EVALUATING\n"
          ]
        },
        {
          "output_type": "stream",
          "name": "stderr",
          "text": [
            "100%|██████████| 157/157 [00:04<00:00, 39.18it/s]\n"
          ]
        },
        {
          "output_type": "stream",
          "name": "stdout",
          "text": [
            "Validation Loss:  0.2257140927064191 Validation Av. Accuracy:  0.9342157643312102\n",
            "############ END MODEL 2 REP 1 ############\n",
            "\n",
            "\n",
            "MODEL 2 PARAMETER COUNT: 38306\n",
            "########### STAR MODEL 2 REP 2 ###########\n"
          ]
        },
        {
          "output_type": "stream",
          "name": "stderr",
          "text": [
            "100%|██████████| 235/235 [00:09<00:00, 25.67it/s]\n"
          ]
        },
        {
          "output_type": "stream",
          "name": "stdout",
          "text": [
            "Finished Batch: \n",
            "Training Loss:  0.6385175656765065 Training Av. Accuracy:  0.7903147163120567\n",
            "EVALUATING\n"
          ]
        },
        {
          "output_type": "stream",
          "name": "stderr",
          "text": [
            "100%|██████████| 157/157 [00:04<00:00, 38.14it/s]\n"
          ]
        },
        {
          "output_type": "stream",
          "name": "stdout",
          "text": [
            "Validation Loss:  0.2065655112646188 Validation Av. Accuracy:  0.9383957006369427\n",
            "############ END MODEL 2 REP 2 ############\n",
            "\n",
            "\n",
            "MODEL 2 PARAMETER COUNT: 38306\n",
            "########### STAR MODEL 2 REP 3 ###########\n"
          ]
        },
        {
          "output_type": "stream",
          "name": "stderr",
          "text": [
            "100%|██████████| 235/235 [00:09<00:00, 25.06it/s]\n"
          ]
        },
        {
          "output_type": "stream",
          "name": "stdout",
          "text": [
            "Finished Batch: \n",
            "Training Loss:  0.6363865746462599 Training Av. Accuracy:  0.795633865248227\n",
            "EVALUATING\n"
          ]
        },
        {
          "output_type": "stream",
          "name": "stderr",
          "text": [
            "100%|██████████| 157/157 [00:04<00:00, 37.11it/s]\n"
          ]
        },
        {
          "output_type": "stream",
          "name": "stdout",
          "text": [
            "Validation Loss:  0.18033147000583113 Validation Av. Accuracy:  0.9449641719745223\n",
            "############ END MODEL 2 REP 3 ############\n",
            "\n",
            "\n",
            "MODEL 2 PARAMETER COUNT: 38306\n",
            "########### STAR MODEL 2 REP 4 ###########\n"
          ]
        },
        {
          "output_type": "stream",
          "name": "stderr",
          "text": [
            "100%|██████████| 235/235 [00:09<00:00, 25.11it/s]\n"
          ]
        },
        {
          "output_type": "stream",
          "name": "stdout",
          "text": [
            "Finished Batch: \n",
            "Training Loss:  0.6943609091671223 Training Av. Accuracy:  0.7776595744680851\n",
            "EVALUATING\n"
          ]
        },
        {
          "output_type": "stream",
          "name": "stderr",
          "text": [
            "100%|██████████| 157/157 [00:03<00:00, 39.65it/s]\n"
          ]
        },
        {
          "output_type": "stream",
          "name": "stdout",
          "text": [
            "Validation Loss:  0.2091256841115511 Validation Av. Accuracy:  0.9323248407643312\n",
            "############ END MODEL 2 REP 4 ############\n",
            "\n",
            "\n",
            "MODEL 3 PARAMETER COUNT: 74657\n",
            "########### STAR MODEL 3 REP 0 ###########\n"
          ]
        },
        {
          "output_type": "stream",
          "name": "stderr",
          "text": [
            "100%|██████████| 235/235 [00:11<00:00, 20.60it/s]\n"
          ]
        },
        {
          "output_type": "stream",
          "name": "stdout",
          "text": [
            "Finished Batch: \n",
            "Training Loss:  0.5758072585343046 Training Av. Accuracy:  0.8211436170212766\n",
            "EVALUATING\n"
          ]
        },
        {
          "output_type": "stream",
          "name": "stderr",
          "text": [
            "100%|██████████| 157/157 [00:05<00:00, 27.52it/s]\n"
          ]
        },
        {
          "output_type": "stream",
          "name": "stdout",
          "text": [
            "Validation Loss:  0.1579220606975115 Validation Av. Accuracy:  0.9532245222929936\n",
            "############ END MODEL 3 REP 0 ############\n",
            "\n",
            "\n",
            "MODEL 3 PARAMETER COUNT: 74657\n",
            "########### STAR MODEL 3 REP 1 ###########\n"
          ]
        },
        {
          "output_type": "stream",
          "name": "stderr",
          "text": [
            "100%|██████████| 235/235 [00:10<00:00, 22.96it/s]\n"
          ]
        },
        {
          "output_type": "stream",
          "name": "stdout",
          "text": [
            "Finished Batch: \n",
            "Training Loss:  0.5849284792517094 Training Av. Accuracy:  0.822695035460993\n",
            "EVALUATING\n"
          ]
        },
        {
          "output_type": "stream",
          "name": "stderr",
          "text": [
            "100%|██████████| 157/157 [00:05<00:00, 26.97it/s]\n"
          ]
        },
        {
          "output_type": "stream",
          "name": "stdout",
          "text": [
            "Validation Loss:  0.20089834057696307 Validation Av. Accuracy:  0.9441679936305732\n",
            "############ END MODEL 3 REP 1 ############\n",
            "\n",
            "\n",
            "MODEL 3 PARAMETER COUNT: 74657\n",
            "########### STAR MODEL 3 REP 2 ###########\n"
          ]
        },
        {
          "output_type": "stream",
          "name": "stderr",
          "text": [
            "100%|██████████| 235/235 [00:11<00:00, 20.37it/s]\n"
          ]
        },
        {
          "output_type": "stream",
          "name": "stdout",
          "text": [
            "Finished Batch: \n",
            "Training Loss:  0.6533841773550562 Training Av. Accuracy:  0.7969414893617022\n",
            "EVALUATING\n"
          ]
        },
        {
          "output_type": "stream",
          "name": "stderr",
          "text": [
            "100%|██████████| 157/157 [00:04<00:00, 33.90it/s]\n"
          ]
        },
        {
          "output_type": "stream",
          "name": "stdout",
          "text": [
            "Validation Loss:  0.21049966663122177 Validation Av. Accuracy:  0.9322253184713376\n",
            "############ END MODEL 3 REP 2 ############\n",
            "\n",
            "\n",
            "MODEL 3 PARAMETER COUNT: 74657\n",
            "########### STAR MODEL 3 REP 3 ###########\n"
          ]
        },
        {
          "output_type": "stream",
          "name": "stderr",
          "text": [
            "100%|██████████| 235/235 [00:11<00:00, 20.71it/s]\n"
          ]
        },
        {
          "output_type": "stream",
          "name": "stdout",
          "text": [
            "Finished Batch: \n",
            "Training Loss:  0.6153332975950647 Training Av. Accuracy:  0.8006870567375887\n",
            "EVALUATING\n"
          ]
        },
        {
          "output_type": "stream",
          "name": "stderr",
          "text": [
            "100%|██████████| 157/157 [00:04<00:00, 33.37it/s]\n"
          ]
        },
        {
          "output_type": "stream",
          "name": "stdout",
          "text": [
            "Validation Loss:  0.20950313956494543 Validation Av. Accuracy:  0.9383957006369427\n",
            "############ END MODEL 3 REP 3 ############\n",
            "\n",
            "\n",
            "MODEL 3 PARAMETER COUNT: 74657\n",
            "########### STAR MODEL 3 REP 4 ###########\n"
          ]
        },
        {
          "output_type": "stream",
          "name": "stderr",
          "text": [
            "100%|██████████| 235/235 [00:11<00:00, 20.63it/s]\n"
          ]
        },
        {
          "output_type": "stream",
          "name": "stdout",
          "text": [
            "Finished Batch: \n",
            "Training Loss:  0.6670846303726764 Training Av. Accuracy:  0.783377659574468\n",
            "EVALUATING\n"
          ]
        },
        {
          "output_type": "stream",
          "name": "stderr",
          "text": [
            "100%|██████████| 157/157 [00:04<00:00, 35.00it/s]\n"
          ]
        },
        {
          "output_type": "stream",
          "name": "stdout",
          "text": [
            "Validation Loss:  0.21554536728342627 Validation Av. Accuracy:  0.9340167197452229\n",
            "############ END MODEL 3 REP 4 ############\n",
            "\n",
            "\n",
            "MODEL 4 PARAMETER COUNT: 152775\n",
            "########### STAR MODEL 4 REP 0 ###########\n"
          ]
        },
        {
          "output_type": "stream",
          "name": "stderr",
          "text": [
            "100%|██████████| 235/235 [00:12<00:00, 19.35it/s]\n"
          ]
        },
        {
          "output_type": "stream",
          "name": "stdout",
          "text": [
            "Finished Batch: \n",
            "Training Loss:  0.47466503245399355 Training Av. Accuracy:  0.8478945035460993\n",
            "EVALUATING\n"
          ]
        },
        {
          "output_type": "stream",
          "name": "stderr",
          "text": [
            "100%|██████████| 157/157 [00:05<00:00, 26.29it/s]\n"
          ]
        },
        {
          "output_type": "stream",
          "name": "stdout",
          "text": [
            "Validation Loss:  0.11609530319596172 Validation Av. Accuracy:  0.966062898089172\n",
            "############ END MODEL 4 REP 0 ############\n",
            "\n",
            "\n",
            "MODEL 4 PARAMETER COUNT: 152775\n",
            "########### STAR MODEL 4 REP 1 ###########\n"
          ]
        },
        {
          "output_type": "stream",
          "name": "stderr",
          "text": [
            "100%|██████████| 235/235 [00:12<00:00, 19.49it/s]\n"
          ]
        },
        {
          "output_type": "stream",
          "name": "stdout",
          "text": [
            "Finished Batch: \n",
            "Training Loss:  0.5329951641724465 Training Av. Accuracy:  0.8350398936170212\n",
            "EVALUATING\n"
          ]
        },
        {
          "output_type": "stream",
          "name": "stderr",
          "text": [
            "100%|██████████| 157/157 [00:05<00:00, 29.03it/s]\n"
          ]
        },
        {
          "output_type": "stream",
          "name": "stdout",
          "text": [
            "Validation Loss:  0.14456609549938113 Validation Av. Accuracy:  0.955015923566879\n",
            "############ END MODEL 4 REP 1 ############\n",
            "\n",
            "\n",
            "MODEL 4 PARAMETER COUNT: 152775\n",
            "########### STAR MODEL 4 REP 2 ###########\n"
          ]
        },
        {
          "output_type": "stream",
          "name": "stderr",
          "text": [
            "100%|██████████| 235/235 [00:12<00:00, 18.85it/s]\n"
          ]
        },
        {
          "output_type": "stream",
          "name": "stdout",
          "text": [
            "Finished Batch: \n",
            "Training Loss:  0.538551429437196 Training Av. Accuracy:  0.8285460992907802\n",
            "EVALUATING\n"
          ]
        },
        {
          "output_type": "stream",
          "name": "stderr",
          "text": [
            "100%|██████████| 157/157 [00:04<00:00, 31.62it/s]\n"
          ]
        },
        {
          "output_type": "stream",
          "name": "stdout",
          "text": [
            "Validation Loss:  0.1423413072516964 Validation Av. Accuracy:  0.9555135350318471\n",
            "############ END MODEL 4 REP 2 ############\n",
            "\n",
            "\n",
            "MODEL 4 PARAMETER COUNT: 152775\n",
            "########### STAR MODEL 4 REP 3 ###########\n"
          ]
        },
        {
          "output_type": "stream",
          "name": "stderr",
          "text": [
            "100%|██████████| 235/235 [00:12<00:00, 19.04it/s]\n"
          ]
        },
        {
          "output_type": "stream",
          "name": "stdout",
          "text": [
            "Finished Batch: \n",
            "Training Loss:  0.5485700468275141 Training Av. Accuracy:  0.8296099290780142\n",
            "EVALUATING\n"
          ]
        },
        {
          "output_type": "stream",
          "name": "stderr",
          "text": [
            "100%|██████████| 157/157 [00:06<00:00, 25.88it/s]\n"
          ]
        },
        {
          "output_type": "stream",
          "name": "stdout",
          "text": [
            "Validation Loss:  0.15585477156623914 Validation Av. Accuracy:  0.9551154458598726\n",
            "############ END MODEL 4 REP 3 ############\n",
            "\n",
            "\n",
            "MODEL 4 PARAMETER COUNT: 152775\n",
            "########### STAR MODEL 4 REP 4 ###########\n"
          ]
        },
        {
          "output_type": "stream",
          "name": "stderr",
          "text": [
            "100%|██████████| 235/235 [00:11<00:00, 20.57it/s]\n"
          ]
        },
        {
          "output_type": "stream",
          "name": "stdout",
          "text": [
            "Finished Batch: \n",
            "Training Loss:  0.556845323265867 Training Av. Accuracy:  0.8161790780141844\n",
            "EVALUATING\n"
          ]
        },
        {
          "output_type": "stream",
          "name": "stderr",
          "text": [
            "100%|██████████| 157/157 [00:06<00:00, 26.15it/s]\n"
          ]
        },
        {
          "output_type": "stream",
          "name": "stdout",
          "text": [
            "Validation Loss:  0.16181446144440373 Validation Av. Accuracy:  0.9502388535031847\n",
            "############ END MODEL 4 REP 4 ############\n",
            "\n",
            "\n",
            "MODEL 5 PARAMETER COUNT: 308236\n",
            "########### STAR MODEL 5 REP 0 ###########\n"
          ]
        },
        {
          "output_type": "stream",
          "name": "stderr",
          "text": [
            "100%|██████████| 235/235 [00:16<00:00, 14.19it/s]\n"
          ]
        },
        {
          "output_type": "stream",
          "name": "stdout",
          "text": [
            "Finished Batch: \n",
            "Training Loss:  0.4392514509802803 Training Av. Accuracy:  0.859906914893617\n",
            "EVALUATING\n"
          ]
        },
        {
          "output_type": "stream",
          "name": "stderr",
          "text": [
            "100%|██████████| 157/157 [00:07<00:00, 22.29it/s]\n"
          ]
        },
        {
          "output_type": "stream",
          "name": "stdout",
          "text": [
            "Validation Loss:  0.13054376152480485 Validation Av. Accuracy:  0.9599920382165605\n",
            "############ END MODEL 5 REP 0 ############\n",
            "\n",
            "\n",
            "MODEL 5 PARAMETER COUNT: 308236\n",
            "########### STAR MODEL 5 REP 1 ###########\n"
          ]
        },
        {
          "output_type": "stream",
          "name": "stderr",
          "text": [
            "100%|██████████| 235/235 [00:16<00:00, 14.24it/s]\n"
          ]
        },
        {
          "output_type": "stream",
          "name": "stdout",
          "text": [
            "Finished Batch: \n",
            "Training Loss:  0.4242111936211586 Training Av. Accuracy:  0.8681072695035461\n",
            "EVALUATING\n"
          ]
        },
        {
          "output_type": "stream",
          "name": "stderr",
          "text": [
            "100%|██████████| 157/157 [00:05<00:00, 26.59it/s]\n"
          ]
        },
        {
          "output_type": "stream",
          "name": "stdout",
          "text": [
            "Validation Loss:  0.12512149649915422 Validation Av. Accuracy:  0.9598925159235668\n",
            "############ END MODEL 5 REP 1 ############\n",
            "\n",
            "\n",
            "MODEL 5 PARAMETER COUNT: 308236\n",
            "########### STAR MODEL 5 REP 2 ###########\n"
          ]
        },
        {
          "output_type": "stream",
          "name": "stderr",
          "text": [
            "100%|██████████| 235/235 [00:16<00:00, 14.03it/s]\n"
          ]
        },
        {
          "output_type": "stream",
          "name": "stdout",
          "text": [
            "Finished Batch: \n",
            "Training Loss:  0.44973605749137857 Training Av. Accuracy:  0.8562943262411347\n",
            "EVALUATING\n"
          ]
        },
        {
          "output_type": "stream",
          "name": "stderr",
          "text": [
            "100%|██████████| 157/157 [00:07<00:00, 20.90it/s]\n"
          ]
        },
        {
          "output_type": "stream",
          "name": "stdout",
          "text": [
            "Validation Loss:  0.13514179888234776 Validation Av. Accuracy:  0.9579020700636943\n",
            "############ END MODEL 5 REP 2 ############\n",
            "\n",
            "\n",
            "MODEL 5 PARAMETER COUNT: 308236\n",
            "########### STAR MODEL 5 REP 3 ###########\n"
          ]
        },
        {
          "output_type": "stream",
          "name": "stderr",
          "text": [
            "100%|██████████| 235/235 [00:16<00:00, 14.46it/s]\n"
          ]
        },
        {
          "output_type": "stream",
          "name": "stdout",
          "text": [
            "Finished Batch: \n",
            "Training Loss:  0.46668436427382715 Training Av. Accuracy:  0.8480939716312057\n",
            "EVALUATING\n"
          ]
        },
        {
          "output_type": "stream",
          "name": "stderr",
          "text": [
            "100%|██████████| 157/157 [00:07<00:00, 21.40it/s]\n"
          ]
        },
        {
          "output_type": "stream",
          "name": "stdout",
          "text": [
            "Validation Loss:  0.13495336843144362 Validation Av. Accuracy:  0.9601910828025477\n",
            "############ END MODEL 5 REP 3 ############\n",
            "\n",
            "\n",
            "MODEL 5 PARAMETER COUNT: 308236\n",
            "########### STAR MODEL 5 REP 4 ###########\n"
          ]
        },
        {
          "output_type": "stream",
          "name": "stderr",
          "text": [
            "100%|██████████| 235/235 [00:16<00:00, 14.25it/s]\n"
          ]
        },
        {
          "output_type": "stream",
          "name": "stdout",
          "text": [
            "Finished Batch: \n",
            "Training Loss:  0.4663087944163287 Training Av. Accuracy:  0.8512632978723405\n",
            "EVALUATING\n"
          ]
        },
        {
          "output_type": "stream",
          "name": "stderr",
          "text": [
            "100%|██████████| 157/157 [00:06<00:00, 26.14it/s]"
          ]
        },
        {
          "output_type": "stream",
          "name": "stdout",
          "text": [
            "Validation Loss:  0.10918888143578152 Validation Av. Accuracy:  0.9631767515923567\n",
            "############ END MODEL 5 REP 4 ############\n",
            "\n",
            "\n"
          ]
        },
        {
          "output_type": "stream",
          "name": "stderr",
          "text": [
            "\n"
          ]
        }
      ]
    },
    {
      "cell_type": "code",
      "source": [
        "fig = px.line(x=compute_epoch_list, y=test_losses_NandC, title ='Compute (Epoch) on Test Loss')\n",
        "fig.show()"
      ],
      "metadata": {
        "colab": {
          "base_uri": "https://localhost:8080/",
          "height": 542
        },
        "id": "X-jtUNVY48TE",
        "outputId": "8364948c-18e1-4100-f97f-26b3b0cc0ecf"
      },
      "execution_count": 64,
      "outputs": [
        {
          "output_type": "display_data",
          "data": {
            "text/html": [
              "<html>\n",
              "<head><meta charset=\"utf-8\" /></head>\n",
              "<body>\n",
              "    <div>            <script src=\"https://cdnjs.cloudflare.com/ajax/libs/mathjax/2.7.5/MathJax.js?config=TeX-AMS-MML_SVG\"></script><script type=\"text/javascript\">if (window.MathJax && window.MathJax.Hub && window.MathJax.Hub.Config) {window.MathJax.Hub.Config({SVG: {font: \"STIX-Web\"}});}</script>                <script type=\"text/javascript\">window.PlotlyConfig = {MathJaxConfig: 'local'};</script>\n",
              "        <script charset=\"utf-8\" src=\"https://cdn.plot.ly/plotly-2.24.1.min.js\"></script>                <div id=\"49872fea-655e-43bc-8da0-e103f5f669dd\" class=\"plotly-graph-div\" style=\"height:525px; width:100%;\"></div>            <script type=\"text/javascript\">                                    window.PLOTLYENV=window.PLOTLYENV || {};                                    if (document.getElementById(\"49872fea-655e-43bc-8da0-e103f5f669dd\")) {                    Plotly.newPlot(                        \"49872fea-655e-43bc-8da0-e103f5f669dd\",                        [{\"hovertemplate\":\"x=%{x}\\u003cbr\\u003ey=%{y}\\u003cextra\\u003e\\u003c\\u002fextra\\u003e\",\"legendgroup\":\"\",\"line\":{\"color\":\"#636efa\",\"dash\":\"solid\"},\"marker\":{\"symbol\":\"circle\"},\"mode\":\"lines\",\"name\":\"\",\"orientation\":\"v\",\"showlegend\":false,\"x\":[241000358400.0,361992435840.0,483664020480.0,666995063040.0,974097755520.0,1408133024640.0],\"xaxis\":\"x\",\"y\":[0.38168198456809777,0.31011022156590873,0.21512976800844927,0.1988737149508136,0.14413438779153642,0.12698986135470638],\"yaxis\":\"y\",\"type\":\"scatter\"}],                        {\"template\":{\"data\":{\"histogram2dcontour\":[{\"type\":\"histogram2dcontour\",\"colorbar\":{\"outlinewidth\":0,\"ticks\":\"\"},\"colorscale\":[[0.0,\"#0d0887\"],[0.1111111111111111,\"#46039f\"],[0.2222222222222222,\"#7201a8\"],[0.3333333333333333,\"#9c179e\"],[0.4444444444444444,\"#bd3786\"],[0.5555555555555556,\"#d8576b\"],[0.6666666666666666,\"#ed7953\"],[0.7777777777777778,\"#fb9f3a\"],[0.8888888888888888,\"#fdca26\"],[1.0,\"#f0f921\"]]}],\"choropleth\":[{\"type\":\"choropleth\",\"colorbar\":{\"outlinewidth\":0,\"ticks\":\"\"}}],\"histogram2d\":[{\"type\":\"histogram2d\",\"colorbar\":{\"outlinewidth\":0,\"ticks\":\"\"},\"colorscale\":[[0.0,\"#0d0887\"],[0.1111111111111111,\"#46039f\"],[0.2222222222222222,\"#7201a8\"],[0.3333333333333333,\"#9c179e\"],[0.4444444444444444,\"#bd3786\"],[0.5555555555555556,\"#d8576b\"],[0.6666666666666666,\"#ed7953\"],[0.7777777777777778,\"#fb9f3a\"],[0.8888888888888888,\"#fdca26\"],[1.0,\"#f0f921\"]]}],\"heatmap\":[{\"type\":\"heatmap\",\"colorbar\":{\"outlinewidth\":0,\"ticks\":\"\"},\"colorscale\":[[0.0,\"#0d0887\"],[0.1111111111111111,\"#46039f\"],[0.2222222222222222,\"#7201a8\"],[0.3333333333333333,\"#9c179e\"],[0.4444444444444444,\"#bd3786\"],[0.5555555555555556,\"#d8576b\"],[0.6666666666666666,\"#ed7953\"],[0.7777777777777778,\"#fb9f3a\"],[0.8888888888888888,\"#fdca26\"],[1.0,\"#f0f921\"]]}],\"heatmapgl\":[{\"type\":\"heatmapgl\",\"colorbar\":{\"outlinewidth\":0,\"ticks\":\"\"},\"colorscale\":[[0.0,\"#0d0887\"],[0.1111111111111111,\"#46039f\"],[0.2222222222222222,\"#7201a8\"],[0.3333333333333333,\"#9c179e\"],[0.4444444444444444,\"#bd3786\"],[0.5555555555555556,\"#d8576b\"],[0.6666666666666666,\"#ed7953\"],[0.7777777777777778,\"#fb9f3a\"],[0.8888888888888888,\"#fdca26\"],[1.0,\"#f0f921\"]]}],\"contourcarpet\":[{\"type\":\"contourcarpet\",\"colorbar\":{\"outlinewidth\":0,\"ticks\":\"\"}}],\"contour\":[{\"type\":\"contour\",\"colorbar\":{\"outlinewidth\":0,\"ticks\":\"\"},\"colorscale\":[[0.0,\"#0d0887\"],[0.1111111111111111,\"#46039f\"],[0.2222222222222222,\"#7201a8\"],[0.3333333333333333,\"#9c179e\"],[0.4444444444444444,\"#bd3786\"],[0.5555555555555556,\"#d8576b\"],[0.6666666666666666,\"#ed7953\"],[0.7777777777777778,\"#fb9f3a\"],[0.8888888888888888,\"#fdca26\"],[1.0,\"#f0f921\"]]}],\"surface\":[{\"type\":\"surface\",\"colorbar\":{\"outlinewidth\":0,\"ticks\":\"\"},\"colorscale\":[[0.0,\"#0d0887\"],[0.1111111111111111,\"#46039f\"],[0.2222222222222222,\"#7201a8\"],[0.3333333333333333,\"#9c179e\"],[0.4444444444444444,\"#bd3786\"],[0.5555555555555556,\"#d8576b\"],[0.6666666666666666,\"#ed7953\"],[0.7777777777777778,\"#fb9f3a\"],[0.8888888888888888,\"#fdca26\"],[1.0,\"#f0f921\"]]}],\"mesh3d\":[{\"type\":\"mesh3d\",\"colorbar\":{\"outlinewidth\":0,\"ticks\":\"\"}}],\"scatter\":[{\"fillpattern\":{\"fillmode\":\"overlay\",\"size\":10,\"solidity\":0.2},\"type\":\"scatter\"}],\"parcoords\":[{\"type\":\"parcoords\",\"line\":{\"colorbar\":{\"outlinewidth\":0,\"ticks\":\"\"}}}],\"scatterpolargl\":[{\"type\":\"scatterpolargl\",\"marker\":{\"colorbar\":{\"outlinewidth\":0,\"ticks\":\"\"}}}],\"bar\":[{\"error_x\":{\"color\":\"#2a3f5f\"},\"error_y\":{\"color\":\"#2a3f5f\"},\"marker\":{\"line\":{\"color\":\"#E5ECF6\",\"width\":0.5},\"pattern\":{\"fillmode\":\"overlay\",\"size\":10,\"solidity\":0.2}},\"type\":\"bar\"}],\"scattergeo\":[{\"type\":\"scattergeo\",\"marker\":{\"colorbar\":{\"outlinewidth\":0,\"ticks\":\"\"}}}],\"scatterpolar\":[{\"type\":\"scatterpolar\",\"marker\":{\"colorbar\":{\"outlinewidth\":0,\"ticks\":\"\"}}}],\"histogram\":[{\"marker\":{\"pattern\":{\"fillmode\":\"overlay\",\"size\":10,\"solidity\":0.2}},\"type\":\"histogram\"}],\"scattergl\":[{\"type\":\"scattergl\",\"marker\":{\"colorbar\":{\"outlinewidth\":0,\"ticks\":\"\"}}}],\"scatter3d\":[{\"type\":\"scatter3d\",\"line\":{\"colorbar\":{\"outlinewidth\":0,\"ticks\":\"\"}},\"marker\":{\"colorbar\":{\"outlinewidth\":0,\"ticks\":\"\"}}}],\"scattermapbox\":[{\"type\":\"scattermapbox\",\"marker\":{\"colorbar\":{\"outlinewidth\":0,\"ticks\":\"\"}}}],\"scatterternary\":[{\"type\":\"scatterternary\",\"marker\":{\"colorbar\":{\"outlinewidth\":0,\"ticks\":\"\"}}}],\"scattercarpet\":[{\"type\":\"scattercarpet\",\"marker\":{\"colorbar\":{\"outlinewidth\":0,\"ticks\":\"\"}}}],\"carpet\":[{\"aaxis\":{\"endlinecolor\":\"#2a3f5f\",\"gridcolor\":\"white\",\"linecolor\":\"white\",\"minorgridcolor\":\"white\",\"startlinecolor\":\"#2a3f5f\"},\"baxis\":{\"endlinecolor\":\"#2a3f5f\",\"gridcolor\":\"white\",\"linecolor\":\"white\",\"minorgridcolor\":\"white\",\"startlinecolor\":\"#2a3f5f\"},\"type\":\"carpet\"}],\"table\":[{\"cells\":{\"fill\":{\"color\":\"#EBF0F8\"},\"line\":{\"color\":\"white\"}},\"header\":{\"fill\":{\"color\":\"#C8D4E3\"},\"line\":{\"color\":\"white\"}},\"type\":\"table\"}],\"barpolar\":[{\"marker\":{\"line\":{\"color\":\"#E5ECF6\",\"width\":0.5},\"pattern\":{\"fillmode\":\"overlay\",\"size\":10,\"solidity\":0.2}},\"type\":\"barpolar\"}],\"pie\":[{\"automargin\":true,\"type\":\"pie\"}]},\"layout\":{\"autotypenumbers\":\"strict\",\"colorway\":[\"#636efa\",\"#EF553B\",\"#00cc96\",\"#ab63fa\",\"#FFA15A\",\"#19d3f3\",\"#FF6692\",\"#B6E880\",\"#FF97FF\",\"#FECB52\"],\"font\":{\"color\":\"#2a3f5f\"},\"hovermode\":\"closest\",\"hoverlabel\":{\"align\":\"left\"},\"paper_bgcolor\":\"white\",\"plot_bgcolor\":\"#E5ECF6\",\"polar\":{\"bgcolor\":\"#E5ECF6\",\"angularaxis\":{\"gridcolor\":\"white\",\"linecolor\":\"white\",\"ticks\":\"\"},\"radialaxis\":{\"gridcolor\":\"white\",\"linecolor\":\"white\",\"ticks\":\"\"}},\"ternary\":{\"bgcolor\":\"#E5ECF6\",\"aaxis\":{\"gridcolor\":\"white\",\"linecolor\":\"white\",\"ticks\":\"\"},\"baxis\":{\"gridcolor\":\"white\",\"linecolor\":\"white\",\"ticks\":\"\"},\"caxis\":{\"gridcolor\":\"white\",\"linecolor\":\"white\",\"ticks\":\"\"}},\"coloraxis\":{\"colorbar\":{\"outlinewidth\":0,\"ticks\":\"\"}},\"colorscale\":{\"sequential\":[[0.0,\"#0d0887\"],[0.1111111111111111,\"#46039f\"],[0.2222222222222222,\"#7201a8\"],[0.3333333333333333,\"#9c179e\"],[0.4444444444444444,\"#bd3786\"],[0.5555555555555556,\"#d8576b\"],[0.6666666666666666,\"#ed7953\"],[0.7777777777777778,\"#fb9f3a\"],[0.8888888888888888,\"#fdca26\"],[1.0,\"#f0f921\"]],\"sequentialminus\":[[0.0,\"#0d0887\"],[0.1111111111111111,\"#46039f\"],[0.2222222222222222,\"#7201a8\"],[0.3333333333333333,\"#9c179e\"],[0.4444444444444444,\"#bd3786\"],[0.5555555555555556,\"#d8576b\"],[0.6666666666666666,\"#ed7953\"],[0.7777777777777778,\"#fb9f3a\"],[0.8888888888888888,\"#fdca26\"],[1.0,\"#f0f921\"]],\"diverging\":[[0,\"#8e0152\"],[0.1,\"#c51b7d\"],[0.2,\"#de77ae\"],[0.3,\"#f1b6da\"],[0.4,\"#fde0ef\"],[0.5,\"#f7f7f7\"],[0.6,\"#e6f5d0\"],[0.7,\"#b8e186\"],[0.8,\"#7fbc41\"],[0.9,\"#4d9221\"],[1,\"#276419\"]]},\"xaxis\":{\"gridcolor\":\"white\",\"linecolor\":\"white\",\"ticks\":\"\",\"title\":{\"standoff\":15},\"zerolinecolor\":\"white\",\"automargin\":true,\"zerolinewidth\":2},\"yaxis\":{\"gridcolor\":\"white\",\"linecolor\":\"white\",\"ticks\":\"\",\"title\":{\"standoff\":15},\"zerolinecolor\":\"white\",\"automargin\":true,\"zerolinewidth\":2},\"scene\":{\"xaxis\":{\"backgroundcolor\":\"#E5ECF6\",\"gridcolor\":\"white\",\"linecolor\":\"white\",\"showbackground\":true,\"ticks\":\"\",\"zerolinecolor\":\"white\",\"gridwidth\":2},\"yaxis\":{\"backgroundcolor\":\"#E5ECF6\",\"gridcolor\":\"white\",\"linecolor\":\"white\",\"showbackground\":true,\"ticks\":\"\",\"zerolinecolor\":\"white\",\"gridwidth\":2},\"zaxis\":{\"backgroundcolor\":\"#E5ECF6\",\"gridcolor\":\"white\",\"linecolor\":\"white\",\"showbackground\":true,\"ticks\":\"\",\"zerolinecolor\":\"white\",\"gridwidth\":2}},\"shapedefaults\":{\"line\":{\"color\":\"#2a3f5f\"}},\"annotationdefaults\":{\"arrowcolor\":\"#2a3f5f\",\"arrowhead\":0,\"arrowwidth\":1},\"geo\":{\"bgcolor\":\"white\",\"landcolor\":\"#E5ECF6\",\"subunitcolor\":\"white\",\"showland\":true,\"showlakes\":true,\"lakecolor\":\"white\"},\"title\":{\"x\":0.05},\"mapbox\":{\"style\":\"light\"}}},\"xaxis\":{\"anchor\":\"y\",\"domain\":[0.0,1.0],\"title\":{\"text\":\"x\"}},\"yaxis\":{\"anchor\":\"x\",\"domain\":[0.0,1.0],\"title\":{\"text\":\"y\"}},\"legend\":{\"tracegroupgap\":0},\"title\":{\"text\":\"Compute (Epoch) on Test Loss\"}},                        {\"responsive\": true}                    ).then(function(){\n",
              "                            \n",
              "var gd = document.getElementById('49872fea-655e-43bc-8da0-e103f5f669dd');\n",
              "var x = new MutationObserver(function (mutations, observer) {{\n",
              "        var display = window.getComputedStyle(gd).display;\n",
              "        if (!display || display === 'none') {{\n",
              "            console.log([gd, 'removed!']);\n",
              "            Plotly.purge(gd);\n",
              "            observer.disconnect();\n",
              "        }}\n",
              "}});\n",
              "\n",
              "// Listen for the removal of the full notebook cells\n",
              "var notebookContainer = gd.closest('#notebook-container');\n",
              "if (notebookContainer) {{\n",
              "    x.observe(notebookContainer, {childList: true});\n",
              "}}\n",
              "\n",
              "// Listen for the clearing of the current output cell\n",
              "var outputEl = gd.closest('.output');\n",
              "if (outputEl) {{\n",
              "    x.observe(outputEl, {childList: true});\n",
              "}}\n",
              "\n",
              "                        })                };                            </script>        </div>\n",
              "</body>\n",
              "</html>"
            ]
          },
          "metadata": {}
        }
      ]
    },
    {
      "cell_type": "code",
      "source": [
        "fig = px.line(x=compute_paper_list, y=test_losses_NandC, title ='Compute (Paper) on Test Loss')\n",
        "fig.show()"
      ],
      "metadata": {
        "colab": {
          "base_uri": "https://localhost:8080/",
          "height": 542
        },
        "id": "oFigd4I27qnl",
        "outputId": "4f59e61b-dcaf-4bd7-94c7-573f067d40c3"
      },
      "execution_count": 65,
      "outputs": [
        {
          "output_type": "display_data",
          "data": {
            "text/html": [
              "<html>\n",
              "<head><meta charset=\"utf-8\" /></head>\n",
              "<body>\n",
              "    <div>            <script src=\"https://cdnjs.cloudflare.com/ajax/libs/mathjax/2.7.5/MathJax.js?config=TeX-AMS-MML_SVG\"></script><script type=\"text/javascript\">if (window.MathJax && window.MathJax.Hub && window.MathJax.Hub.Config) {window.MathJax.Hub.Config({SVG: {font: \"STIX-Web\"}});}</script>                <script type=\"text/javascript\">window.PlotlyConfig = {MathJaxConfig: 'local'};</script>\n",
              "        <script charset=\"utf-8\" src=\"https://cdn.plot.ly/plotly-2.24.1.min.js\"></script>                <div id=\"6f5f69a1-668f-4dfc-b3f6-a111afe103b1\" class=\"plotly-graph-div\" style=\"height:525px; width:100%;\"></div>            <script type=\"text/javascript\">                                    window.PLOTLYENV=window.PLOTLYENV || {};                                    if (document.getElementById(\"6f5f69a1-668f-4dfc-b3f6-a111afe103b1\")) {                    Plotly.newPlot(                        \"6f5f69a1-668f-4dfc-b3f6-a111afe103b1\",                        [{\"hovertemplate\":\"x=%{x}\\u003cbr\\u003ey=%{y}\\u003cextra\\u003e\\u003c\\u002fextra\\u003e\",\"legendgroup\":\"\",\"line\":{\"color\":\"#636efa\",\"dash\":\"solid\"},\"marker\":{\"symbol\":\"circle\"},\"mode\":\"lines\",\"name\":\"\",\"orientation\":\"v\",\"showlegend\":false,\"x\":[884171520.0,1826908800.0,3456733440.0,6737047680.0,13786416000.0,27815216640.0],\"xaxis\":\"x\",\"y\":[0.38168198456809777,0.31011022156590873,0.21512976800844927,0.1988737149508136,0.14413438779153642,0.12698986135470638],\"yaxis\":\"y\",\"type\":\"scatter\"}],                        {\"template\":{\"data\":{\"histogram2dcontour\":[{\"type\":\"histogram2dcontour\",\"colorbar\":{\"outlinewidth\":0,\"ticks\":\"\"},\"colorscale\":[[0.0,\"#0d0887\"],[0.1111111111111111,\"#46039f\"],[0.2222222222222222,\"#7201a8\"],[0.3333333333333333,\"#9c179e\"],[0.4444444444444444,\"#bd3786\"],[0.5555555555555556,\"#d8576b\"],[0.6666666666666666,\"#ed7953\"],[0.7777777777777778,\"#fb9f3a\"],[0.8888888888888888,\"#fdca26\"],[1.0,\"#f0f921\"]]}],\"choropleth\":[{\"type\":\"choropleth\",\"colorbar\":{\"outlinewidth\":0,\"ticks\":\"\"}}],\"histogram2d\":[{\"type\":\"histogram2d\",\"colorbar\":{\"outlinewidth\":0,\"ticks\":\"\"},\"colorscale\":[[0.0,\"#0d0887\"],[0.1111111111111111,\"#46039f\"],[0.2222222222222222,\"#7201a8\"],[0.3333333333333333,\"#9c179e\"],[0.4444444444444444,\"#bd3786\"],[0.5555555555555556,\"#d8576b\"],[0.6666666666666666,\"#ed7953\"],[0.7777777777777778,\"#fb9f3a\"],[0.8888888888888888,\"#fdca26\"],[1.0,\"#f0f921\"]]}],\"heatmap\":[{\"type\":\"heatmap\",\"colorbar\":{\"outlinewidth\":0,\"ticks\":\"\"},\"colorscale\":[[0.0,\"#0d0887\"],[0.1111111111111111,\"#46039f\"],[0.2222222222222222,\"#7201a8\"],[0.3333333333333333,\"#9c179e\"],[0.4444444444444444,\"#bd3786\"],[0.5555555555555556,\"#d8576b\"],[0.6666666666666666,\"#ed7953\"],[0.7777777777777778,\"#fb9f3a\"],[0.8888888888888888,\"#fdca26\"],[1.0,\"#f0f921\"]]}],\"heatmapgl\":[{\"type\":\"heatmapgl\",\"colorbar\":{\"outlinewidth\":0,\"ticks\":\"\"},\"colorscale\":[[0.0,\"#0d0887\"],[0.1111111111111111,\"#46039f\"],[0.2222222222222222,\"#7201a8\"],[0.3333333333333333,\"#9c179e\"],[0.4444444444444444,\"#bd3786\"],[0.5555555555555556,\"#d8576b\"],[0.6666666666666666,\"#ed7953\"],[0.7777777777777778,\"#fb9f3a\"],[0.8888888888888888,\"#fdca26\"],[1.0,\"#f0f921\"]]}],\"contourcarpet\":[{\"type\":\"contourcarpet\",\"colorbar\":{\"outlinewidth\":0,\"ticks\":\"\"}}],\"contour\":[{\"type\":\"contour\",\"colorbar\":{\"outlinewidth\":0,\"ticks\":\"\"},\"colorscale\":[[0.0,\"#0d0887\"],[0.1111111111111111,\"#46039f\"],[0.2222222222222222,\"#7201a8\"],[0.3333333333333333,\"#9c179e\"],[0.4444444444444444,\"#bd3786\"],[0.5555555555555556,\"#d8576b\"],[0.6666666666666666,\"#ed7953\"],[0.7777777777777778,\"#fb9f3a\"],[0.8888888888888888,\"#fdca26\"],[1.0,\"#f0f921\"]]}],\"surface\":[{\"type\":\"surface\",\"colorbar\":{\"outlinewidth\":0,\"ticks\":\"\"},\"colorscale\":[[0.0,\"#0d0887\"],[0.1111111111111111,\"#46039f\"],[0.2222222222222222,\"#7201a8\"],[0.3333333333333333,\"#9c179e\"],[0.4444444444444444,\"#bd3786\"],[0.5555555555555556,\"#d8576b\"],[0.6666666666666666,\"#ed7953\"],[0.7777777777777778,\"#fb9f3a\"],[0.8888888888888888,\"#fdca26\"],[1.0,\"#f0f921\"]]}],\"mesh3d\":[{\"type\":\"mesh3d\",\"colorbar\":{\"outlinewidth\":0,\"ticks\":\"\"}}],\"scatter\":[{\"fillpattern\":{\"fillmode\":\"overlay\",\"size\":10,\"solidity\":0.2},\"type\":\"scatter\"}],\"parcoords\":[{\"type\":\"parcoords\",\"line\":{\"colorbar\":{\"outlinewidth\":0,\"ticks\":\"\"}}}],\"scatterpolargl\":[{\"type\":\"scatterpolargl\",\"marker\":{\"colorbar\":{\"outlinewidth\":0,\"ticks\":\"\"}}}],\"bar\":[{\"error_x\":{\"color\":\"#2a3f5f\"},\"error_y\":{\"color\":\"#2a3f5f\"},\"marker\":{\"line\":{\"color\":\"#E5ECF6\",\"width\":0.5},\"pattern\":{\"fillmode\":\"overlay\",\"size\":10,\"solidity\":0.2}},\"type\":\"bar\"}],\"scattergeo\":[{\"type\":\"scattergeo\",\"marker\":{\"colorbar\":{\"outlinewidth\":0,\"ticks\":\"\"}}}],\"scatterpolar\":[{\"type\":\"scatterpolar\",\"marker\":{\"colorbar\":{\"outlinewidth\":0,\"ticks\":\"\"}}}],\"histogram\":[{\"marker\":{\"pattern\":{\"fillmode\":\"overlay\",\"size\":10,\"solidity\":0.2}},\"type\":\"histogram\"}],\"scattergl\":[{\"type\":\"scattergl\",\"marker\":{\"colorbar\":{\"outlinewidth\":0,\"ticks\":\"\"}}}],\"scatter3d\":[{\"type\":\"scatter3d\",\"line\":{\"colorbar\":{\"outlinewidth\":0,\"ticks\":\"\"}},\"marker\":{\"colorbar\":{\"outlinewidth\":0,\"ticks\":\"\"}}}],\"scattermapbox\":[{\"type\":\"scattermapbox\",\"marker\":{\"colorbar\":{\"outlinewidth\":0,\"ticks\":\"\"}}}],\"scatterternary\":[{\"type\":\"scatterternary\",\"marker\":{\"colorbar\":{\"outlinewidth\":0,\"ticks\":\"\"}}}],\"scattercarpet\":[{\"type\":\"scattercarpet\",\"marker\":{\"colorbar\":{\"outlinewidth\":0,\"ticks\":\"\"}}}],\"carpet\":[{\"aaxis\":{\"endlinecolor\":\"#2a3f5f\",\"gridcolor\":\"white\",\"linecolor\":\"white\",\"minorgridcolor\":\"white\",\"startlinecolor\":\"#2a3f5f\"},\"baxis\":{\"endlinecolor\":\"#2a3f5f\",\"gridcolor\":\"white\",\"linecolor\":\"white\",\"minorgridcolor\":\"white\",\"startlinecolor\":\"#2a3f5f\"},\"type\":\"carpet\"}],\"table\":[{\"cells\":{\"fill\":{\"color\":\"#EBF0F8\"},\"line\":{\"color\":\"white\"}},\"header\":{\"fill\":{\"color\":\"#C8D4E3\"},\"line\":{\"color\":\"white\"}},\"type\":\"table\"}],\"barpolar\":[{\"marker\":{\"line\":{\"color\":\"#E5ECF6\",\"width\":0.5},\"pattern\":{\"fillmode\":\"overlay\",\"size\":10,\"solidity\":0.2}},\"type\":\"barpolar\"}],\"pie\":[{\"automargin\":true,\"type\":\"pie\"}]},\"layout\":{\"autotypenumbers\":\"strict\",\"colorway\":[\"#636efa\",\"#EF553B\",\"#00cc96\",\"#ab63fa\",\"#FFA15A\",\"#19d3f3\",\"#FF6692\",\"#B6E880\",\"#FF97FF\",\"#FECB52\"],\"font\":{\"color\":\"#2a3f5f\"},\"hovermode\":\"closest\",\"hoverlabel\":{\"align\":\"left\"},\"paper_bgcolor\":\"white\",\"plot_bgcolor\":\"#E5ECF6\",\"polar\":{\"bgcolor\":\"#E5ECF6\",\"angularaxis\":{\"gridcolor\":\"white\",\"linecolor\":\"white\",\"ticks\":\"\"},\"radialaxis\":{\"gridcolor\":\"white\",\"linecolor\":\"white\",\"ticks\":\"\"}},\"ternary\":{\"bgcolor\":\"#E5ECF6\",\"aaxis\":{\"gridcolor\":\"white\",\"linecolor\":\"white\",\"ticks\":\"\"},\"baxis\":{\"gridcolor\":\"white\",\"linecolor\":\"white\",\"ticks\":\"\"},\"caxis\":{\"gridcolor\":\"white\",\"linecolor\":\"white\",\"ticks\":\"\"}},\"coloraxis\":{\"colorbar\":{\"outlinewidth\":0,\"ticks\":\"\"}},\"colorscale\":{\"sequential\":[[0.0,\"#0d0887\"],[0.1111111111111111,\"#46039f\"],[0.2222222222222222,\"#7201a8\"],[0.3333333333333333,\"#9c179e\"],[0.4444444444444444,\"#bd3786\"],[0.5555555555555556,\"#d8576b\"],[0.6666666666666666,\"#ed7953\"],[0.7777777777777778,\"#fb9f3a\"],[0.8888888888888888,\"#fdca26\"],[1.0,\"#f0f921\"]],\"sequentialminus\":[[0.0,\"#0d0887\"],[0.1111111111111111,\"#46039f\"],[0.2222222222222222,\"#7201a8\"],[0.3333333333333333,\"#9c179e\"],[0.4444444444444444,\"#bd3786\"],[0.5555555555555556,\"#d8576b\"],[0.6666666666666666,\"#ed7953\"],[0.7777777777777778,\"#fb9f3a\"],[0.8888888888888888,\"#fdca26\"],[1.0,\"#f0f921\"]],\"diverging\":[[0,\"#8e0152\"],[0.1,\"#c51b7d\"],[0.2,\"#de77ae\"],[0.3,\"#f1b6da\"],[0.4,\"#fde0ef\"],[0.5,\"#f7f7f7\"],[0.6,\"#e6f5d0\"],[0.7,\"#b8e186\"],[0.8,\"#7fbc41\"],[0.9,\"#4d9221\"],[1,\"#276419\"]]},\"xaxis\":{\"gridcolor\":\"white\",\"linecolor\":\"white\",\"ticks\":\"\",\"title\":{\"standoff\":15},\"zerolinecolor\":\"white\",\"automargin\":true,\"zerolinewidth\":2},\"yaxis\":{\"gridcolor\":\"white\",\"linecolor\":\"white\",\"ticks\":\"\",\"title\":{\"standoff\":15},\"zerolinecolor\":\"white\",\"automargin\":true,\"zerolinewidth\":2},\"scene\":{\"xaxis\":{\"backgroundcolor\":\"#E5ECF6\",\"gridcolor\":\"white\",\"linecolor\":\"white\",\"showbackground\":true,\"ticks\":\"\",\"zerolinecolor\":\"white\",\"gridwidth\":2},\"yaxis\":{\"backgroundcolor\":\"#E5ECF6\",\"gridcolor\":\"white\",\"linecolor\":\"white\",\"showbackground\":true,\"ticks\":\"\",\"zerolinecolor\":\"white\",\"gridwidth\":2},\"zaxis\":{\"backgroundcolor\":\"#E5ECF6\",\"gridcolor\":\"white\",\"linecolor\":\"white\",\"showbackground\":true,\"ticks\":\"\",\"zerolinecolor\":\"white\",\"gridwidth\":2}},\"shapedefaults\":{\"line\":{\"color\":\"#2a3f5f\"}},\"annotationdefaults\":{\"arrowcolor\":\"#2a3f5f\",\"arrowhead\":0,\"arrowwidth\":1},\"geo\":{\"bgcolor\":\"white\",\"landcolor\":\"#E5ECF6\",\"subunitcolor\":\"white\",\"showland\":true,\"showlakes\":true,\"lakecolor\":\"white\"},\"title\":{\"x\":0.05},\"mapbox\":{\"style\":\"light\"}}},\"xaxis\":{\"anchor\":\"y\",\"domain\":[0.0,1.0],\"title\":{\"text\":\"x\"}},\"yaxis\":{\"anchor\":\"x\",\"domain\":[0.0,1.0],\"title\":{\"text\":\"y\"}},\"legend\":{\"tracegroupgap\":0},\"title\":{\"text\":\"Compute (Paper) on Test Loss\"}},                        {\"responsive\": true}                    ).then(function(){\n",
              "                            \n",
              "var gd = document.getElementById('6f5f69a1-668f-4dfc-b3f6-a111afe103b1');\n",
              "var x = new MutationObserver(function (mutations, observer) {{\n",
              "        var display = window.getComputedStyle(gd).display;\n",
              "        if (!display || display === 'none') {{\n",
              "            console.log([gd, 'removed!']);\n",
              "            Plotly.purge(gd);\n",
              "            observer.disconnect();\n",
              "        }}\n",
              "}});\n",
              "\n",
              "// Listen for the removal of the full notebook cells\n",
              "var notebookContainer = gd.closest('#notebook-container');\n",
              "if (notebookContainer) {{\n",
              "    x.observe(notebookContainer, {childList: true});\n",
              "}}\n",
              "\n",
              "// Listen for the clearing of the current output cell\n",
              "var outputEl = gd.closest('.output');\n",
              "if (outputEl) {{\n",
              "    x.observe(outputEl, {childList: true});\n",
              "}}\n",
              "\n",
              "                        })                };                            </script>        </div>\n",
              "</body>\n",
              "</html>"
            ]
          },
          "metadata": {}
        }
      ]
    },
    {
      "cell_type": "code",
      "source": [
        "fig = px.scatter(x=compute_epoch_list, y=np.log(test_losses_NandC), title ='Compute (Epoch) on Log Test Loss', trendline='ols')\n",
        "fig.show()"
      ],
      "metadata": {
        "colab": {
          "base_uri": "https://localhost:8080/",
          "height": 542
        },
        "id": "w8tdXeSl8LIe",
        "outputId": "331f79af-640a-4907-b81b-d2bae982da9d"
      },
      "execution_count": 67,
      "outputs": [
        {
          "output_type": "display_data",
          "data": {
            "text/html": [
              "<html>\n",
              "<head><meta charset=\"utf-8\" /></head>\n",
              "<body>\n",
              "    <div>            <script src=\"https://cdnjs.cloudflare.com/ajax/libs/mathjax/2.7.5/MathJax.js?config=TeX-AMS-MML_SVG\"></script><script type=\"text/javascript\">if (window.MathJax && window.MathJax.Hub && window.MathJax.Hub.Config) {window.MathJax.Hub.Config({SVG: {font: \"STIX-Web\"}});}</script>                <script type=\"text/javascript\">window.PlotlyConfig = {MathJaxConfig: 'local'};</script>\n",
              "        <script charset=\"utf-8\" src=\"https://cdn.plot.ly/plotly-2.24.1.min.js\"></script>                <div id=\"c03e796a-a0f7-49ae-92a3-6010a50031f8\" class=\"plotly-graph-div\" style=\"height:525px; width:100%;\"></div>            <script type=\"text/javascript\">                                    window.PLOTLYENV=window.PLOTLYENV || {};                                    if (document.getElementById(\"c03e796a-a0f7-49ae-92a3-6010a50031f8\")) {                    Plotly.newPlot(                        \"c03e796a-a0f7-49ae-92a3-6010a50031f8\",                        [{\"hovertemplate\":\"x=%{x}\\u003cbr\\u003ey=%{y}\\u003cextra\\u003e\\u003c\\u002fextra\\u003e\",\"legendgroup\":\"\",\"marker\":{\"color\":\"#636efa\",\"symbol\":\"circle\"},\"mode\":\"markers\",\"name\":\"\",\"orientation\":\"v\",\"showlegend\":false,\"x\":[241000358400.0,361992435840.0,483664020480.0,666995063040.0,974097755520.0,1408133024640.0],\"xaxis\":\"x\",\"y\":[-0.9631675182277063,-1.170827491258675,-1.5365138607985511,-1.6150852539374514,-1.9370091660594815,-2.063648027562983],\"yaxis\":\"y\",\"type\":\"scatter\"},{\"hovertemplate\":\"\\u003cb\\u003eOLS trendline\\u003c\\u002fb\\u003e\\u003cbr\\u003ey = -9.14868e-13 * x + -0.917077\\u003cbr\\u003eR\\u003csup\\u003e2\\u003c\\u002fsup\\u003e=0.876310\\u003cbr\\u003e\\u003cbr\\u003ex=%{x}\\u003cbr\\u003ey=%{y} \\u003cb\\u003e(trend)\\u003c\\u002fb\\u003e\\u003cextra\\u003e\\u003c\\u002fextra\\u003e\",\"legendgroup\":\"\",\"marker\":{\"color\":\"#636efa\",\"symbol\":\"circle\"},\"mode\":\"lines\",\"name\":\"\",\"showlegend\":false,\"x\":[241000358400.0,361992435840.0,483664020480.0,666995063040.0,974097755520.0,1408133024640.0],\"xaxis\":\"x\",\"y\":[-1.1375609219887237,-1.2482527102476146,-1.3595661579464808,-1.5272898748518018,-1.8082483221235992,-2.205333330686634],\"yaxis\":\"y\",\"type\":\"scatter\"}],                        {\"template\":{\"data\":{\"histogram2dcontour\":[{\"type\":\"histogram2dcontour\",\"colorbar\":{\"outlinewidth\":0,\"ticks\":\"\"},\"colorscale\":[[0.0,\"#0d0887\"],[0.1111111111111111,\"#46039f\"],[0.2222222222222222,\"#7201a8\"],[0.3333333333333333,\"#9c179e\"],[0.4444444444444444,\"#bd3786\"],[0.5555555555555556,\"#d8576b\"],[0.6666666666666666,\"#ed7953\"],[0.7777777777777778,\"#fb9f3a\"],[0.8888888888888888,\"#fdca26\"],[1.0,\"#f0f921\"]]}],\"choropleth\":[{\"type\":\"choropleth\",\"colorbar\":{\"outlinewidth\":0,\"ticks\":\"\"}}],\"histogram2d\":[{\"type\":\"histogram2d\",\"colorbar\":{\"outlinewidth\":0,\"ticks\":\"\"},\"colorscale\":[[0.0,\"#0d0887\"],[0.1111111111111111,\"#46039f\"],[0.2222222222222222,\"#7201a8\"],[0.3333333333333333,\"#9c179e\"],[0.4444444444444444,\"#bd3786\"],[0.5555555555555556,\"#d8576b\"],[0.6666666666666666,\"#ed7953\"],[0.7777777777777778,\"#fb9f3a\"],[0.8888888888888888,\"#fdca26\"],[1.0,\"#f0f921\"]]}],\"heatmap\":[{\"type\":\"heatmap\",\"colorbar\":{\"outlinewidth\":0,\"ticks\":\"\"},\"colorscale\":[[0.0,\"#0d0887\"],[0.1111111111111111,\"#46039f\"],[0.2222222222222222,\"#7201a8\"],[0.3333333333333333,\"#9c179e\"],[0.4444444444444444,\"#bd3786\"],[0.5555555555555556,\"#d8576b\"],[0.6666666666666666,\"#ed7953\"],[0.7777777777777778,\"#fb9f3a\"],[0.8888888888888888,\"#fdca26\"],[1.0,\"#f0f921\"]]}],\"heatmapgl\":[{\"type\":\"heatmapgl\",\"colorbar\":{\"outlinewidth\":0,\"ticks\":\"\"},\"colorscale\":[[0.0,\"#0d0887\"],[0.1111111111111111,\"#46039f\"],[0.2222222222222222,\"#7201a8\"],[0.3333333333333333,\"#9c179e\"],[0.4444444444444444,\"#bd3786\"],[0.5555555555555556,\"#d8576b\"],[0.6666666666666666,\"#ed7953\"],[0.7777777777777778,\"#fb9f3a\"],[0.8888888888888888,\"#fdca26\"],[1.0,\"#f0f921\"]]}],\"contourcarpet\":[{\"type\":\"contourcarpet\",\"colorbar\":{\"outlinewidth\":0,\"ticks\":\"\"}}],\"contour\":[{\"type\":\"contour\",\"colorbar\":{\"outlinewidth\":0,\"ticks\":\"\"},\"colorscale\":[[0.0,\"#0d0887\"],[0.1111111111111111,\"#46039f\"],[0.2222222222222222,\"#7201a8\"],[0.3333333333333333,\"#9c179e\"],[0.4444444444444444,\"#bd3786\"],[0.5555555555555556,\"#d8576b\"],[0.6666666666666666,\"#ed7953\"],[0.7777777777777778,\"#fb9f3a\"],[0.8888888888888888,\"#fdca26\"],[1.0,\"#f0f921\"]]}],\"surface\":[{\"type\":\"surface\",\"colorbar\":{\"outlinewidth\":0,\"ticks\":\"\"},\"colorscale\":[[0.0,\"#0d0887\"],[0.1111111111111111,\"#46039f\"],[0.2222222222222222,\"#7201a8\"],[0.3333333333333333,\"#9c179e\"],[0.4444444444444444,\"#bd3786\"],[0.5555555555555556,\"#d8576b\"],[0.6666666666666666,\"#ed7953\"],[0.7777777777777778,\"#fb9f3a\"],[0.8888888888888888,\"#fdca26\"],[1.0,\"#f0f921\"]]}],\"mesh3d\":[{\"type\":\"mesh3d\",\"colorbar\":{\"outlinewidth\":0,\"ticks\":\"\"}}],\"scatter\":[{\"fillpattern\":{\"fillmode\":\"overlay\",\"size\":10,\"solidity\":0.2},\"type\":\"scatter\"}],\"parcoords\":[{\"type\":\"parcoords\",\"line\":{\"colorbar\":{\"outlinewidth\":0,\"ticks\":\"\"}}}],\"scatterpolargl\":[{\"type\":\"scatterpolargl\",\"marker\":{\"colorbar\":{\"outlinewidth\":0,\"ticks\":\"\"}}}],\"bar\":[{\"error_x\":{\"color\":\"#2a3f5f\"},\"error_y\":{\"color\":\"#2a3f5f\"},\"marker\":{\"line\":{\"color\":\"#E5ECF6\",\"width\":0.5},\"pattern\":{\"fillmode\":\"overlay\",\"size\":10,\"solidity\":0.2}},\"type\":\"bar\"}],\"scattergeo\":[{\"type\":\"scattergeo\",\"marker\":{\"colorbar\":{\"outlinewidth\":0,\"ticks\":\"\"}}}],\"scatterpolar\":[{\"type\":\"scatterpolar\",\"marker\":{\"colorbar\":{\"outlinewidth\":0,\"ticks\":\"\"}}}],\"histogram\":[{\"marker\":{\"pattern\":{\"fillmode\":\"overlay\",\"size\":10,\"solidity\":0.2}},\"type\":\"histogram\"}],\"scattergl\":[{\"type\":\"scattergl\",\"marker\":{\"colorbar\":{\"outlinewidth\":0,\"ticks\":\"\"}}}],\"scatter3d\":[{\"type\":\"scatter3d\",\"line\":{\"colorbar\":{\"outlinewidth\":0,\"ticks\":\"\"}},\"marker\":{\"colorbar\":{\"outlinewidth\":0,\"ticks\":\"\"}}}],\"scattermapbox\":[{\"type\":\"scattermapbox\",\"marker\":{\"colorbar\":{\"outlinewidth\":0,\"ticks\":\"\"}}}],\"scatterternary\":[{\"type\":\"scatterternary\",\"marker\":{\"colorbar\":{\"outlinewidth\":0,\"ticks\":\"\"}}}],\"scattercarpet\":[{\"type\":\"scattercarpet\",\"marker\":{\"colorbar\":{\"outlinewidth\":0,\"ticks\":\"\"}}}],\"carpet\":[{\"aaxis\":{\"endlinecolor\":\"#2a3f5f\",\"gridcolor\":\"white\",\"linecolor\":\"white\",\"minorgridcolor\":\"white\",\"startlinecolor\":\"#2a3f5f\"},\"baxis\":{\"endlinecolor\":\"#2a3f5f\",\"gridcolor\":\"white\",\"linecolor\":\"white\",\"minorgridcolor\":\"white\",\"startlinecolor\":\"#2a3f5f\"},\"type\":\"carpet\"}],\"table\":[{\"cells\":{\"fill\":{\"color\":\"#EBF0F8\"},\"line\":{\"color\":\"white\"}},\"header\":{\"fill\":{\"color\":\"#C8D4E3\"},\"line\":{\"color\":\"white\"}},\"type\":\"table\"}],\"barpolar\":[{\"marker\":{\"line\":{\"color\":\"#E5ECF6\",\"width\":0.5},\"pattern\":{\"fillmode\":\"overlay\",\"size\":10,\"solidity\":0.2}},\"type\":\"barpolar\"}],\"pie\":[{\"automargin\":true,\"type\":\"pie\"}]},\"layout\":{\"autotypenumbers\":\"strict\",\"colorway\":[\"#636efa\",\"#EF553B\",\"#00cc96\",\"#ab63fa\",\"#FFA15A\",\"#19d3f3\",\"#FF6692\",\"#B6E880\",\"#FF97FF\",\"#FECB52\"],\"font\":{\"color\":\"#2a3f5f\"},\"hovermode\":\"closest\",\"hoverlabel\":{\"align\":\"left\"},\"paper_bgcolor\":\"white\",\"plot_bgcolor\":\"#E5ECF6\",\"polar\":{\"bgcolor\":\"#E5ECF6\",\"angularaxis\":{\"gridcolor\":\"white\",\"linecolor\":\"white\",\"ticks\":\"\"},\"radialaxis\":{\"gridcolor\":\"white\",\"linecolor\":\"white\",\"ticks\":\"\"}},\"ternary\":{\"bgcolor\":\"#E5ECF6\",\"aaxis\":{\"gridcolor\":\"white\",\"linecolor\":\"white\",\"ticks\":\"\"},\"baxis\":{\"gridcolor\":\"white\",\"linecolor\":\"white\",\"ticks\":\"\"},\"caxis\":{\"gridcolor\":\"white\",\"linecolor\":\"white\",\"ticks\":\"\"}},\"coloraxis\":{\"colorbar\":{\"outlinewidth\":0,\"ticks\":\"\"}},\"colorscale\":{\"sequential\":[[0.0,\"#0d0887\"],[0.1111111111111111,\"#46039f\"],[0.2222222222222222,\"#7201a8\"],[0.3333333333333333,\"#9c179e\"],[0.4444444444444444,\"#bd3786\"],[0.5555555555555556,\"#d8576b\"],[0.6666666666666666,\"#ed7953\"],[0.7777777777777778,\"#fb9f3a\"],[0.8888888888888888,\"#fdca26\"],[1.0,\"#f0f921\"]],\"sequentialminus\":[[0.0,\"#0d0887\"],[0.1111111111111111,\"#46039f\"],[0.2222222222222222,\"#7201a8\"],[0.3333333333333333,\"#9c179e\"],[0.4444444444444444,\"#bd3786\"],[0.5555555555555556,\"#d8576b\"],[0.6666666666666666,\"#ed7953\"],[0.7777777777777778,\"#fb9f3a\"],[0.8888888888888888,\"#fdca26\"],[1.0,\"#f0f921\"]],\"diverging\":[[0,\"#8e0152\"],[0.1,\"#c51b7d\"],[0.2,\"#de77ae\"],[0.3,\"#f1b6da\"],[0.4,\"#fde0ef\"],[0.5,\"#f7f7f7\"],[0.6,\"#e6f5d0\"],[0.7,\"#b8e186\"],[0.8,\"#7fbc41\"],[0.9,\"#4d9221\"],[1,\"#276419\"]]},\"xaxis\":{\"gridcolor\":\"white\",\"linecolor\":\"white\",\"ticks\":\"\",\"title\":{\"standoff\":15},\"zerolinecolor\":\"white\",\"automargin\":true,\"zerolinewidth\":2},\"yaxis\":{\"gridcolor\":\"white\",\"linecolor\":\"white\",\"ticks\":\"\",\"title\":{\"standoff\":15},\"zerolinecolor\":\"white\",\"automargin\":true,\"zerolinewidth\":2},\"scene\":{\"xaxis\":{\"backgroundcolor\":\"#E5ECF6\",\"gridcolor\":\"white\",\"linecolor\":\"white\",\"showbackground\":true,\"ticks\":\"\",\"zerolinecolor\":\"white\",\"gridwidth\":2},\"yaxis\":{\"backgroundcolor\":\"#E5ECF6\",\"gridcolor\":\"white\",\"linecolor\":\"white\",\"showbackground\":true,\"ticks\":\"\",\"zerolinecolor\":\"white\",\"gridwidth\":2},\"zaxis\":{\"backgroundcolor\":\"#E5ECF6\",\"gridcolor\":\"white\",\"linecolor\":\"white\",\"showbackground\":true,\"ticks\":\"\",\"zerolinecolor\":\"white\",\"gridwidth\":2}},\"shapedefaults\":{\"line\":{\"color\":\"#2a3f5f\"}},\"annotationdefaults\":{\"arrowcolor\":\"#2a3f5f\",\"arrowhead\":0,\"arrowwidth\":1},\"geo\":{\"bgcolor\":\"white\",\"landcolor\":\"#E5ECF6\",\"subunitcolor\":\"white\",\"showland\":true,\"showlakes\":true,\"lakecolor\":\"white\"},\"title\":{\"x\":0.05},\"mapbox\":{\"style\":\"light\"}}},\"xaxis\":{\"anchor\":\"y\",\"domain\":[0.0,1.0],\"title\":{\"text\":\"x\"}},\"yaxis\":{\"anchor\":\"x\",\"domain\":[0.0,1.0],\"title\":{\"text\":\"y\"}},\"legend\":{\"tracegroupgap\":0},\"title\":{\"text\":\"Compute (Epoch) on Log Test Loss\"}},                        {\"responsive\": true}                    ).then(function(){\n",
              "                            \n",
              "var gd = document.getElementById('c03e796a-a0f7-49ae-92a3-6010a50031f8');\n",
              "var x = new MutationObserver(function (mutations, observer) {{\n",
              "        var display = window.getComputedStyle(gd).display;\n",
              "        if (!display || display === 'none') {{\n",
              "            console.log([gd, 'removed!']);\n",
              "            Plotly.purge(gd);\n",
              "            observer.disconnect();\n",
              "        }}\n",
              "}});\n",
              "\n",
              "// Listen for the removal of the full notebook cells\n",
              "var notebookContainer = gd.closest('#notebook-container');\n",
              "if (notebookContainer) {{\n",
              "    x.observe(notebookContainer, {childList: true});\n",
              "}}\n",
              "\n",
              "// Listen for the clearing of the current output cell\n",
              "var outputEl = gd.closest('.output');\n",
              "if (outputEl) {{\n",
              "    x.observe(outputEl, {childList: true});\n",
              "}}\n",
              "\n",
              "                        })                };                            </script>        </div>\n",
              "</body>\n",
              "</html>"
            ]
          },
          "metadata": {}
        }
      ]
    },
    {
      "cell_type": "code",
      "source": [
        "fig = px.scatter(x=compute_paper_list, y=np.log(test_losses_NandC), title ='Compute (Paper) on Log Test Loss', trendline='ols')\n",
        "fig.show()"
      ],
      "metadata": {
        "colab": {
          "base_uri": "https://localhost:8080/",
          "height": 542
        },
        "id": "eXRSRmIc8TUH",
        "outputId": "5a14a4f6-d5e7-403d-8832-1193905423be"
      },
      "execution_count": 68,
      "outputs": [
        {
          "output_type": "display_data",
          "data": {
            "text/html": [
              "<html>\n",
              "<head><meta charset=\"utf-8\" /></head>\n",
              "<body>\n",
              "    <div>            <script src=\"https://cdnjs.cloudflare.com/ajax/libs/mathjax/2.7.5/MathJax.js?config=TeX-AMS-MML_SVG\"></script><script type=\"text/javascript\">if (window.MathJax && window.MathJax.Hub && window.MathJax.Hub.Config) {window.MathJax.Hub.Config({SVG: {font: \"STIX-Web\"}});}</script>                <script type=\"text/javascript\">window.PlotlyConfig = {MathJaxConfig: 'local'};</script>\n",
              "        <script charset=\"utf-8\" src=\"https://cdn.plot.ly/plotly-2.24.1.min.js\"></script>                <div id=\"435bee1f-5fef-4811-b9c1-6e07274d9886\" class=\"plotly-graph-div\" style=\"height:525px; width:100%;\"></div>            <script type=\"text/javascript\">                                    window.PLOTLYENV=window.PLOTLYENV || {};                                    if (document.getElementById(\"435bee1f-5fef-4811-b9c1-6e07274d9886\")) {                    Plotly.newPlot(                        \"435bee1f-5fef-4811-b9c1-6e07274d9886\",                        [{\"hovertemplate\":\"x=%{x}\\u003cbr\\u003ey=%{y}\\u003cextra\\u003e\\u003c\\u002fextra\\u003e\",\"legendgroup\":\"\",\"marker\":{\"color\":\"#636efa\",\"symbol\":\"circle\"},\"mode\":\"markers\",\"name\":\"\",\"orientation\":\"v\",\"showlegend\":false,\"x\":[884171520.0,1826908800.0,3456733440.0,6737047680.0,13786416000.0,27815216640.0],\"xaxis\":\"x\",\"y\":[-0.9631675182277063,-1.170827491258675,-1.5365138607985511,-1.6150852539374514,-1.9370091660594815,-2.063648027562983],\"yaxis\":\"y\",\"type\":\"scatter\"},{\"hovertemplate\":\"\\u003cb\\u003eOLS trendline\\u003c\\u002fb\\u003e\\u003cbr\\u003ey = -3.57098e-11 * x + -1.22331\\u003cbr\\u003eR\\u003csup\\u003e2\\u003c\\u002fsup\\u003e=0.745922\\u003cbr\\u003e\\u003cbr\\u003ex=%{x}\\u003cbr\\u003ey=%{y} \\u003cb\\u003e(trend)\\u003c\\u002fb\\u003e\\u003cextra\\u003e\\u003c\\u002fextra\\u003e\",\"legendgroup\":\"\",\"marker\":{\"color\":\"#636efa\",\"symbol\":\"circle\"},\"mode\":\"lines\",\"name\":\"\",\"showlegend\":false,\"x\":[884171520.0,1826908800.0,3456733440.0,6737047680.0,13786416000.0,27815216640.0],\"xaxis\":\"x\",\"y\":[-1.2548797966067735,-1.2885447192477544,-1.3467453670718912,-1.4638846034959647,-1.7156158590591066,-2.2165809723633596],\"yaxis\":\"y\",\"type\":\"scatter\"}],                        {\"template\":{\"data\":{\"histogram2dcontour\":[{\"type\":\"histogram2dcontour\",\"colorbar\":{\"outlinewidth\":0,\"ticks\":\"\"},\"colorscale\":[[0.0,\"#0d0887\"],[0.1111111111111111,\"#46039f\"],[0.2222222222222222,\"#7201a8\"],[0.3333333333333333,\"#9c179e\"],[0.4444444444444444,\"#bd3786\"],[0.5555555555555556,\"#d8576b\"],[0.6666666666666666,\"#ed7953\"],[0.7777777777777778,\"#fb9f3a\"],[0.8888888888888888,\"#fdca26\"],[1.0,\"#f0f921\"]]}],\"choropleth\":[{\"type\":\"choropleth\",\"colorbar\":{\"outlinewidth\":0,\"ticks\":\"\"}}],\"histogram2d\":[{\"type\":\"histogram2d\",\"colorbar\":{\"outlinewidth\":0,\"ticks\":\"\"},\"colorscale\":[[0.0,\"#0d0887\"],[0.1111111111111111,\"#46039f\"],[0.2222222222222222,\"#7201a8\"],[0.3333333333333333,\"#9c179e\"],[0.4444444444444444,\"#bd3786\"],[0.5555555555555556,\"#d8576b\"],[0.6666666666666666,\"#ed7953\"],[0.7777777777777778,\"#fb9f3a\"],[0.8888888888888888,\"#fdca26\"],[1.0,\"#f0f921\"]]}],\"heatmap\":[{\"type\":\"heatmap\",\"colorbar\":{\"outlinewidth\":0,\"ticks\":\"\"},\"colorscale\":[[0.0,\"#0d0887\"],[0.1111111111111111,\"#46039f\"],[0.2222222222222222,\"#7201a8\"],[0.3333333333333333,\"#9c179e\"],[0.4444444444444444,\"#bd3786\"],[0.5555555555555556,\"#d8576b\"],[0.6666666666666666,\"#ed7953\"],[0.7777777777777778,\"#fb9f3a\"],[0.8888888888888888,\"#fdca26\"],[1.0,\"#f0f921\"]]}],\"heatmapgl\":[{\"type\":\"heatmapgl\",\"colorbar\":{\"outlinewidth\":0,\"ticks\":\"\"},\"colorscale\":[[0.0,\"#0d0887\"],[0.1111111111111111,\"#46039f\"],[0.2222222222222222,\"#7201a8\"],[0.3333333333333333,\"#9c179e\"],[0.4444444444444444,\"#bd3786\"],[0.5555555555555556,\"#d8576b\"],[0.6666666666666666,\"#ed7953\"],[0.7777777777777778,\"#fb9f3a\"],[0.8888888888888888,\"#fdca26\"],[1.0,\"#f0f921\"]]}],\"contourcarpet\":[{\"type\":\"contourcarpet\",\"colorbar\":{\"outlinewidth\":0,\"ticks\":\"\"}}],\"contour\":[{\"type\":\"contour\",\"colorbar\":{\"outlinewidth\":0,\"ticks\":\"\"},\"colorscale\":[[0.0,\"#0d0887\"],[0.1111111111111111,\"#46039f\"],[0.2222222222222222,\"#7201a8\"],[0.3333333333333333,\"#9c179e\"],[0.4444444444444444,\"#bd3786\"],[0.5555555555555556,\"#d8576b\"],[0.6666666666666666,\"#ed7953\"],[0.7777777777777778,\"#fb9f3a\"],[0.8888888888888888,\"#fdca26\"],[1.0,\"#f0f921\"]]}],\"surface\":[{\"type\":\"surface\",\"colorbar\":{\"outlinewidth\":0,\"ticks\":\"\"},\"colorscale\":[[0.0,\"#0d0887\"],[0.1111111111111111,\"#46039f\"],[0.2222222222222222,\"#7201a8\"],[0.3333333333333333,\"#9c179e\"],[0.4444444444444444,\"#bd3786\"],[0.5555555555555556,\"#d8576b\"],[0.6666666666666666,\"#ed7953\"],[0.7777777777777778,\"#fb9f3a\"],[0.8888888888888888,\"#fdca26\"],[1.0,\"#f0f921\"]]}],\"mesh3d\":[{\"type\":\"mesh3d\",\"colorbar\":{\"outlinewidth\":0,\"ticks\":\"\"}}],\"scatter\":[{\"fillpattern\":{\"fillmode\":\"overlay\",\"size\":10,\"solidity\":0.2},\"type\":\"scatter\"}],\"parcoords\":[{\"type\":\"parcoords\",\"line\":{\"colorbar\":{\"outlinewidth\":0,\"ticks\":\"\"}}}],\"scatterpolargl\":[{\"type\":\"scatterpolargl\",\"marker\":{\"colorbar\":{\"outlinewidth\":0,\"ticks\":\"\"}}}],\"bar\":[{\"error_x\":{\"color\":\"#2a3f5f\"},\"error_y\":{\"color\":\"#2a3f5f\"},\"marker\":{\"line\":{\"color\":\"#E5ECF6\",\"width\":0.5},\"pattern\":{\"fillmode\":\"overlay\",\"size\":10,\"solidity\":0.2}},\"type\":\"bar\"}],\"scattergeo\":[{\"type\":\"scattergeo\",\"marker\":{\"colorbar\":{\"outlinewidth\":0,\"ticks\":\"\"}}}],\"scatterpolar\":[{\"type\":\"scatterpolar\",\"marker\":{\"colorbar\":{\"outlinewidth\":0,\"ticks\":\"\"}}}],\"histogram\":[{\"marker\":{\"pattern\":{\"fillmode\":\"overlay\",\"size\":10,\"solidity\":0.2}},\"type\":\"histogram\"}],\"scattergl\":[{\"type\":\"scattergl\",\"marker\":{\"colorbar\":{\"outlinewidth\":0,\"ticks\":\"\"}}}],\"scatter3d\":[{\"type\":\"scatter3d\",\"line\":{\"colorbar\":{\"outlinewidth\":0,\"ticks\":\"\"}},\"marker\":{\"colorbar\":{\"outlinewidth\":0,\"ticks\":\"\"}}}],\"scattermapbox\":[{\"type\":\"scattermapbox\",\"marker\":{\"colorbar\":{\"outlinewidth\":0,\"ticks\":\"\"}}}],\"scatterternary\":[{\"type\":\"scatterternary\",\"marker\":{\"colorbar\":{\"outlinewidth\":0,\"ticks\":\"\"}}}],\"scattercarpet\":[{\"type\":\"scattercarpet\",\"marker\":{\"colorbar\":{\"outlinewidth\":0,\"ticks\":\"\"}}}],\"carpet\":[{\"aaxis\":{\"endlinecolor\":\"#2a3f5f\",\"gridcolor\":\"white\",\"linecolor\":\"white\",\"minorgridcolor\":\"white\",\"startlinecolor\":\"#2a3f5f\"},\"baxis\":{\"endlinecolor\":\"#2a3f5f\",\"gridcolor\":\"white\",\"linecolor\":\"white\",\"minorgridcolor\":\"white\",\"startlinecolor\":\"#2a3f5f\"},\"type\":\"carpet\"}],\"table\":[{\"cells\":{\"fill\":{\"color\":\"#EBF0F8\"},\"line\":{\"color\":\"white\"}},\"header\":{\"fill\":{\"color\":\"#C8D4E3\"},\"line\":{\"color\":\"white\"}},\"type\":\"table\"}],\"barpolar\":[{\"marker\":{\"line\":{\"color\":\"#E5ECF6\",\"width\":0.5},\"pattern\":{\"fillmode\":\"overlay\",\"size\":10,\"solidity\":0.2}},\"type\":\"barpolar\"}],\"pie\":[{\"automargin\":true,\"type\":\"pie\"}]},\"layout\":{\"autotypenumbers\":\"strict\",\"colorway\":[\"#636efa\",\"#EF553B\",\"#00cc96\",\"#ab63fa\",\"#FFA15A\",\"#19d3f3\",\"#FF6692\",\"#B6E880\",\"#FF97FF\",\"#FECB52\"],\"font\":{\"color\":\"#2a3f5f\"},\"hovermode\":\"closest\",\"hoverlabel\":{\"align\":\"left\"},\"paper_bgcolor\":\"white\",\"plot_bgcolor\":\"#E5ECF6\",\"polar\":{\"bgcolor\":\"#E5ECF6\",\"angularaxis\":{\"gridcolor\":\"white\",\"linecolor\":\"white\",\"ticks\":\"\"},\"radialaxis\":{\"gridcolor\":\"white\",\"linecolor\":\"white\",\"ticks\":\"\"}},\"ternary\":{\"bgcolor\":\"#E5ECF6\",\"aaxis\":{\"gridcolor\":\"white\",\"linecolor\":\"white\",\"ticks\":\"\"},\"baxis\":{\"gridcolor\":\"white\",\"linecolor\":\"white\",\"ticks\":\"\"},\"caxis\":{\"gridcolor\":\"white\",\"linecolor\":\"white\",\"ticks\":\"\"}},\"coloraxis\":{\"colorbar\":{\"outlinewidth\":0,\"ticks\":\"\"}},\"colorscale\":{\"sequential\":[[0.0,\"#0d0887\"],[0.1111111111111111,\"#46039f\"],[0.2222222222222222,\"#7201a8\"],[0.3333333333333333,\"#9c179e\"],[0.4444444444444444,\"#bd3786\"],[0.5555555555555556,\"#d8576b\"],[0.6666666666666666,\"#ed7953\"],[0.7777777777777778,\"#fb9f3a\"],[0.8888888888888888,\"#fdca26\"],[1.0,\"#f0f921\"]],\"sequentialminus\":[[0.0,\"#0d0887\"],[0.1111111111111111,\"#46039f\"],[0.2222222222222222,\"#7201a8\"],[0.3333333333333333,\"#9c179e\"],[0.4444444444444444,\"#bd3786\"],[0.5555555555555556,\"#d8576b\"],[0.6666666666666666,\"#ed7953\"],[0.7777777777777778,\"#fb9f3a\"],[0.8888888888888888,\"#fdca26\"],[1.0,\"#f0f921\"]],\"diverging\":[[0,\"#8e0152\"],[0.1,\"#c51b7d\"],[0.2,\"#de77ae\"],[0.3,\"#f1b6da\"],[0.4,\"#fde0ef\"],[0.5,\"#f7f7f7\"],[0.6,\"#e6f5d0\"],[0.7,\"#b8e186\"],[0.8,\"#7fbc41\"],[0.9,\"#4d9221\"],[1,\"#276419\"]]},\"xaxis\":{\"gridcolor\":\"white\",\"linecolor\":\"white\",\"ticks\":\"\",\"title\":{\"standoff\":15},\"zerolinecolor\":\"white\",\"automargin\":true,\"zerolinewidth\":2},\"yaxis\":{\"gridcolor\":\"white\",\"linecolor\":\"white\",\"ticks\":\"\",\"title\":{\"standoff\":15},\"zerolinecolor\":\"white\",\"automargin\":true,\"zerolinewidth\":2},\"scene\":{\"xaxis\":{\"backgroundcolor\":\"#E5ECF6\",\"gridcolor\":\"white\",\"linecolor\":\"white\",\"showbackground\":true,\"ticks\":\"\",\"zerolinecolor\":\"white\",\"gridwidth\":2},\"yaxis\":{\"backgroundcolor\":\"#E5ECF6\",\"gridcolor\":\"white\",\"linecolor\":\"white\",\"showbackground\":true,\"ticks\":\"\",\"zerolinecolor\":\"white\",\"gridwidth\":2},\"zaxis\":{\"backgroundcolor\":\"#E5ECF6\",\"gridcolor\":\"white\",\"linecolor\":\"white\",\"showbackground\":true,\"ticks\":\"\",\"zerolinecolor\":\"white\",\"gridwidth\":2}},\"shapedefaults\":{\"line\":{\"color\":\"#2a3f5f\"}},\"annotationdefaults\":{\"arrowcolor\":\"#2a3f5f\",\"arrowhead\":0,\"arrowwidth\":1},\"geo\":{\"bgcolor\":\"white\",\"landcolor\":\"#E5ECF6\",\"subunitcolor\":\"white\",\"showland\":true,\"showlakes\":true,\"lakecolor\":\"white\"},\"title\":{\"x\":0.05},\"mapbox\":{\"style\":\"light\"}}},\"xaxis\":{\"anchor\":\"y\",\"domain\":[0.0,1.0],\"title\":{\"text\":\"x\"}},\"yaxis\":{\"anchor\":\"x\",\"domain\":[0.0,1.0],\"title\":{\"text\":\"y\"}},\"legend\":{\"tracegroupgap\":0},\"title\":{\"text\":\"Compute (Paper) on Log Test Loss\"}},                        {\"responsive\": true}                    ).then(function(){\n",
              "                            \n",
              "var gd = document.getElementById('435bee1f-5fef-4811-b9c1-6e07274d9886');\n",
              "var x = new MutationObserver(function (mutations, observer) {{\n",
              "        var display = window.getComputedStyle(gd).display;\n",
              "        if (!display || display === 'none') {{\n",
              "            console.log([gd, 'removed!']);\n",
              "            Plotly.purge(gd);\n",
              "            observer.disconnect();\n",
              "        }}\n",
              "}});\n",
              "\n",
              "// Listen for the removal of the full notebook cells\n",
              "var notebookContainer = gd.closest('#notebook-container');\n",
              "if (notebookContainer) {{\n",
              "    x.observe(notebookContainer, {childList: true});\n",
              "}}\n",
              "\n",
              "// Listen for the clearing of the current output cell\n",
              "var outputEl = gd.closest('.output');\n",
              "if (outputEl) {{\n",
              "    x.observe(outputEl, {childList: true});\n",
              "}}\n",
              "\n",
              "                        })                };                            </script>        </div>\n",
              "</body>\n",
              "</html>"
            ]
          },
          "metadata": {}
        }
      ]
    },
    {
      "cell_type": "code",
      "source": [
        "fig = px.line(x=compute_epoch_list, y=test_acc_NandC, title ='Compute (Epoch) on Test Accuracy')\n",
        "fig.show()"
      ],
      "metadata": {
        "colab": {
          "base_uri": "https://localhost:8080/",
          "height": 542
        },
        "id": "REDQNNfQ8eD9",
        "outputId": "d557acb6-ade9-4b50-bb6c-bbe233f1e457"
      },
      "execution_count": 69,
      "outputs": [
        {
          "output_type": "display_data",
          "data": {
            "text/html": [
              "<html>\n",
              "<head><meta charset=\"utf-8\" /></head>\n",
              "<body>\n",
              "    <div>            <script src=\"https://cdnjs.cloudflare.com/ajax/libs/mathjax/2.7.5/MathJax.js?config=TeX-AMS-MML_SVG\"></script><script type=\"text/javascript\">if (window.MathJax && window.MathJax.Hub && window.MathJax.Hub.Config) {window.MathJax.Hub.Config({SVG: {font: \"STIX-Web\"}});}</script>                <script type=\"text/javascript\">window.PlotlyConfig = {MathJaxConfig: 'local'};</script>\n",
              "        <script charset=\"utf-8\" src=\"https://cdn.plot.ly/plotly-2.24.1.min.js\"></script>                <div id=\"1a29d910-3384-4fff-a188-529caeb1cde3\" class=\"plotly-graph-div\" style=\"height:525px; width:100%;\"></div>            <script type=\"text/javascript\">                                    window.PLOTLYENV=window.PLOTLYENV || {};                                    if (document.getElementById(\"1a29d910-3384-4fff-a188-529caeb1cde3\")) {                    Plotly.newPlot(                        \"1a29d910-3384-4fff-a188-529caeb1cde3\",                        [{\"hovertemplate\":\"x=%{x}\\u003cbr\\u003ey=%{y}\\u003cextra\\u003e\\u003c\\u002fextra\\u003e\",\"legendgroup\":\"\",\"line\":{\"color\":\"#636efa\",\"dash\":\"solid\"},\"marker\":{\"symbol\":\"circle\"},\"mode\":\"lines\",\"name\":\"\",\"orientation\":\"v\",\"showlegend\":false,\"x\":[241000358400.0,361992435840.0,483664020480.0,666995063040.0,974097755520.0,1408133024640.0],\"xaxis\":\"x\",\"y\":[0.880672770700637,0.9057125796178344,0.9350119426751592,0.9404060509554141,0.9563893312101911,0.9602308917197453],\"yaxis\":\"y\",\"type\":\"scatter\"}],                        {\"template\":{\"data\":{\"histogram2dcontour\":[{\"type\":\"histogram2dcontour\",\"colorbar\":{\"outlinewidth\":0,\"ticks\":\"\"},\"colorscale\":[[0.0,\"#0d0887\"],[0.1111111111111111,\"#46039f\"],[0.2222222222222222,\"#7201a8\"],[0.3333333333333333,\"#9c179e\"],[0.4444444444444444,\"#bd3786\"],[0.5555555555555556,\"#d8576b\"],[0.6666666666666666,\"#ed7953\"],[0.7777777777777778,\"#fb9f3a\"],[0.8888888888888888,\"#fdca26\"],[1.0,\"#f0f921\"]]}],\"choropleth\":[{\"type\":\"choropleth\",\"colorbar\":{\"outlinewidth\":0,\"ticks\":\"\"}}],\"histogram2d\":[{\"type\":\"histogram2d\",\"colorbar\":{\"outlinewidth\":0,\"ticks\":\"\"},\"colorscale\":[[0.0,\"#0d0887\"],[0.1111111111111111,\"#46039f\"],[0.2222222222222222,\"#7201a8\"],[0.3333333333333333,\"#9c179e\"],[0.4444444444444444,\"#bd3786\"],[0.5555555555555556,\"#d8576b\"],[0.6666666666666666,\"#ed7953\"],[0.7777777777777778,\"#fb9f3a\"],[0.8888888888888888,\"#fdca26\"],[1.0,\"#f0f921\"]]}],\"heatmap\":[{\"type\":\"heatmap\",\"colorbar\":{\"outlinewidth\":0,\"ticks\":\"\"},\"colorscale\":[[0.0,\"#0d0887\"],[0.1111111111111111,\"#46039f\"],[0.2222222222222222,\"#7201a8\"],[0.3333333333333333,\"#9c179e\"],[0.4444444444444444,\"#bd3786\"],[0.5555555555555556,\"#d8576b\"],[0.6666666666666666,\"#ed7953\"],[0.7777777777777778,\"#fb9f3a\"],[0.8888888888888888,\"#fdca26\"],[1.0,\"#f0f921\"]]}],\"heatmapgl\":[{\"type\":\"heatmapgl\",\"colorbar\":{\"outlinewidth\":0,\"ticks\":\"\"},\"colorscale\":[[0.0,\"#0d0887\"],[0.1111111111111111,\"#46039f\"],[0.2222222222222222,\"#7201a8\"],[0.3333333333333333,\"#9c179e\"],[0.4444444444444444,\"#bd3786\"],[0.5555555555555556,\"#d8576b\"],[0.6666666666666666,\"#ed7953\"],[0.7777777777777778,\"#fb9f3a\"],[0.8888888888888888,\"#fdca26\"],[1.0,\"#f0f921\"]]}],\"contourcarpet\":[{\"type\":\"contourcarpet\",\"colorbar\":{\"outlinewidth\":0,\"ticks\":\"\"}}],\"contour\":[{\"type\":\"contour\",\"colorbar\":{\"outlinewidth\":0,\"ticks\":\"\"},\"colorscale\":[[0.0,\"#0d0887\"],[0.1111111111111111,\"#46039f\"],[0.2222222222222222,\"#7201a8\"],[0.3333333333333333,\"#9c179e\"],[0.4444444444444444,\"#bd3786\"],[0.5555555555555556,\"#d8576b\"],[0.6666666666666666,\"#ed7953\"],[0.7777777777777778,\"#fb9f3a\"],[0.8888888888888888,\"#fdca26\"],[1.0,\"#f0f921\"]]}],\"surface\":[{\"type\":\"surface\",\"colorbar\":{\"outlinewidth\":0,\"ticks\":\"\"},\"colorscale\":[[0.0,\"#0d0887\"],[0.1111111111111111,\"#46039f\"],[0.2222222222222222,\"#7201a8\"],[0.3333333333333333,\"#9c179e\"],[0.4444444444444444,\"#bd3786\"],[0.5555555555555556,\"#d8576b\"],[0.6666666666666666,\"#ed7953\"],[0.7777777777777778,\"#fb9f3a\"],[0.8888888888888888,\"#fdca26\"],[1.0,\"#f0f921\"]]}],\"mesh3d\":[{\"type\":\"mesh3d\",\"colorbar\":{\"outlinewidth\":0,\"ticks\":\"\"}}],\"scatter\":[{\"fillpattern\":{\"fillmode\":\"overlay\",\"size\":10,\"solidity\":0.2},\"type\":\"scatter\"}],\"parcoords\":[{\"type\":\"parcoords\",\"line\":{\"colorbar\":{\"outlinewidth\":0,\"ticks\":\"\"}}}],\"scatterpolargl\":[{\"type\":\"scatterpolargl\",\"marker\":{\"colorbar\":{\"outlinewidth\":0,\"ticks\":\"\"}}}],\"bar\":[{\"error_x\":{\"color\":\"#2a3f5f\"},\"error_y\":{\"color\":\"#2a3f5f\"},\"marker\":{\"line\":{\"color\":\"#E5ECF6\",\"width\":0.5},\"pattern\":{\"fillmode\":\"overlay\",\"size\":10,\"solidity\":0.2}},\"type\":\"bar\"}],\"scattergeo\":[{\"type\":\"scattergeo\",\"marker\":{\"colorbar\":{\"outlinewidth\":0,\"ticks\":\"\"}}}],\"scatterpolar\":[{\"type\":\"scatterpolar\",\"marker\":{\"colorbar\":{\"outlinewidth\":0,\"ticks\":\"\"}}}],\"histogram\":[{\"marker\":{\"pattern\":{\"fillmode\":\"overlay\",\"size\":10,\"solidity\":0.2}},\"type\":\"histogram\"}],\"scattergl\":[{\"type\":\"scattergl\",\"marker\":{\"colorbar\":{\"outlinewidth\":0,\"ticks\":\"\"}}}],\"scatter3d\":[{\"type\":\"scatter3d\",\"line\":{\"colorbar\":{\"outlinewidth\":0,\"ticks\":\"\"}},\"marker\":{\"colorbar\":{\"outlinewidth\":0,\"ticks\":\"\"}}}],\"scattermapbox\":[{\"type\":\"scattermapbox\",\"marker\":{\"colorbar\":{\"outlinewidth\":0,\"ticks\":\"\"}}}],\"scatterternary\":[{\"type\":\"scatterternary\",\"marker\":{\"colorbar\":{\"outlinewidth\":0,\"ticks\":\"\"}}}],\"scattercarpet\":[{\"type\":\"scattercarpet\",\"marker\":{\"colorbar\":{\"outlinewidth\":0,\"ticks\":\"\"}}}],\"carpet\":[{\"aaxis\":{\"endlinecolor\":\"#2a3f5f\",\"gridcolor\":\"white\",\"linecolor\":\"white\",\"minorgridcolor\":\"white\",\"startlinecolor\":\"#2a3f5f\"},\"baxis\":{\"endlinecolor\":\"#2a3f5f\",\"gridcolor\":\"white\",\"linecolor\":\"white\",\"minorgridcolor\":\"white\",\"startlinecolor\":\"#2a3f5f\"},\"type\":\"carpet\"}],\"table\":[{\"cells\":{\"fill\":{\"color\":\"#EBF0F8\"},\"line\":{\"color\":\"white\"}},\"header\":{\"fill\":{\"color\":\"#C8D4E3\"},\"line\":{\"color\":\"white\"}},\"type\":\"table\"}],\"barpolar\":[{\"marker\":{\"line\":{\"color\":\"#E5ECF6\",\"width\":0.5},\"pattern\":{\"fillmode\":\"overlay\",\"size\":10,\"solidity\":0.2}},\"type\":\"barpolar\"}],\"pie\":[{\"automargin\":true,\"type\":\"pie\"}]},\"layout\":{\"autotypenumbers\":\"strict\",\"colorway\":[\"#636efa\",\"#EF553B\",\"#00cc96\",\"#ab63fa\",\"#FFA15A\",\"#19d3f3\",\"#FF6692\",\"#B6E880\",\"#FF97FF\",\"#FECB52\"],\"font\":{\"color\":\"#2a3f5f\"},\"hovermode\":\"closest\",\"hoverlabel\":{\"align\":\"left\"},\"paper_bgcolor\":\"white\",\"plot_bgcolor\":\"#E5ECF6\",\"polar\":{\"bgcolor\":\"#E5ECF6\",\"angularaxis\":{\"gridcolor\":\"white\",\"linecolor\":\"white\",\"ticks\":\"\"},\"radialaxis\":{\"gridcolor\":\"white\",\"linecolor\":\"white\",\"ticks\":\"\"}},\"ternary\":{\"bgcolor\":\"#E5ECF6\",\"aaxis\":{\"gridcolor\":\"white\",\"linecolor\":\"white\",\"ticks\":\"\"},\"baxis\":{\"gridcolor\":\"white\",\"linecolor\":\"white\",\"ticks\":\"\"},\"caxis\":{\"gridcolor\":\"white\",\"linecolor\":\"white\",\"ticks\":\"\"}},\"coloraxis\":{\"colorbar\":{\"outlinewidth\":0,\"ticks\":\"\"}},\"colorscale\":{\"sequential\":[[0.0,\"#0d0887\"],[0.1111111111111111,\"#46039f\"],[0.2222222222222222,\"#7201a8\"],[0.3333333333333333,\"#9c179e\"],[0.4444444444444444,\"#bd3786\"],[0.5555555555555556,\"#d8576b\"],[0.6666666666666666,\"#ed7953\"],[0.7777777777777778,\"#fb9f3a\"],[0.8888888888888888,\"#fdca26\"],[1.0,\"#f0f921\"]],\"sequentialminus\":[[0.0,\"#0d0887\"],[0.1111111111111111,\"#46039f\"],[0.2222222222222222,\"#7201a8\"],[0.3333333333333333,\"#9c179e\"],[0.4444444444444444,\"#bd3786\"],[0.5555555555555556,\"#d8576b\"],[0.6666666666666666,\"#ed7953\"],[0.7777777777777778,\"#fb9f3a\"],[0.8888888888888888,\"#fdca26\"],[1.0,\"#f0f921\"]],\"diverging\":[[0,\"#8e0152\"],[0.1,\"#c51b7d\"],[0.2,\"#de77ae\"],[0.3,\"#f1b6da\"],[0.4,\"#fde0ef\"],[0.5,\"#f7f7f7\"],[0.6,\"#e6f5d0\"],[0.7,\"#b8e186\"],[0.8,\"#7fbc41\"],[0.9,\"#4d9221\"],[1,\"#276419\"]]},\"xaxis\":{\"gridcolor\":\"white\",\"linecolor\":\"white\",\"ticks\":\"\",\"title\":{\"standoff\":15},\"zerolinecolor\":\"white\",\"automargin\":true,\"zerolinewidth\":2},\"yaxis\":{\"gridcolor\":\"white\",\"linecolor\":\"white\",\"ticks\":\"\",\"title\":{\"standoff\":15},\"zerolinecolor\":\"white\",\"automargin\":true,\"zerolinewidth\":2},\"scene\":{\"xaxis\":{\"backgroundcolor\":\"#E5ECF6\",\"gridcolor\":\"white\",\"linecolor\":\"white\",\"showbackground\":true,\"ticks\":\"\",\"zerolinecolor\":\"white\",\"gridwidth\":2},\"yaxis\":{\"backgroundcolor\":\"#E5ECF6\",\"gridcolor\":\"white\",\"linecolor\":\"white\",\"showbackground\":true,\"ticks\":\"\",\"zerolinecolor\":\"white\",\"gridwidth\":2},\"zaxis\":{\"backgroundcolor\":\"#E5ECF6\",\"gridcolor\":\"white\",\"linecolor\":\"white\",\"showbackground\":true,\"ticks\":\"\",\"zerolinecolor\":\"white\",\"gridwidth\":2}},\"shapedefaults\":{\"line\":{\"color\":\"#2a3f5f\"}},\"annotationdefaults\":{\"arrowcolor\":\"#2a3f5f\",\"arrowhead\":0,\"arrowwidth\":1},\"geo\":{\"bgcolor\":\"white\",\"landcolor\":\"#E5ECF6\",\"subunitcolor\":\"white\",\"showland\":true,\"showlakes\":true,\"lakecolor\":\"white\"},\"title\":{\"x\":0.05},\"mapbox\":{\"style\":\"light\"}}},\"xaxis\":{\"anchor\":\"y\",\"domain\":[0.0,1.0],\"title\":{\"text\":\"x\"}},\"yaxis\":{\"anchor\":\"x\",\"domain\":[0.0,1.0],\"title\":{\"text\":\"y\"}},\"legend\":{\"tracegroupgap\":0},\"title\":{\"text\":\"Compute (Epoch) on Test Accuracy\"}},                        {\"responsive\": true}                    ).then(function(){\n",
              "                            \n",
              "var gd = document.getElementById('1a29d910-3384-4fff-a188-529caeb1cde3');\n",
              "var x = new MutationObserver(function (mutations, observer) {{\n",
              "        var display = window.getComputedStyle(gd).display;\n",
              "        if (!display || display === 'none') {{\n",
              "            console.log([gd, 'removed!']);\n",
              "            Plotly.purge(gd);\n",
              "            observer.disconnect();\n",
              "        }}\n",
              "}});\n",
              "\n",
              "// Listen for the removal of the full notebook cells\n",
              "var notebookContainer = gd.closest('#notebook-container');\n",
              "if (notebookContainer) {{\n",
              "    x.observe(notebookContainer, {childList: true});\n",
              "}}\n",
              "\n",
              "// Listen for the clearing of the current output cell\n",
              "var outputEl = gd.closest('.output');\n",
              "if (outputEl) {{\n",
              "    x.observe(outputEl, {childList: true});\n",
              "}}\n",
              "\n",
              "                        })                };                            </script>        </div>\n",
              "</body>\n",
              "</html>"
            ]
          },
          "metadata": {}
        }
      ]
    },
    {
      "cell_type": "markdown",
      "source": [
        "## Repeat with 0.2 Dropout"
      ],
      "metadata": {
        "id": "pv5LQTwb8uvW"
      }
    },
    {
      "cell_type": "markdown",
      "source": [
        "### Dataset Effect"
      ],
      "metadata": {
        "id": "CzFrq7cu86fj"
      }
    },
    {
      "cell_type": "code",
      "source": [
        "convdepth1 = 2\n",
        "ks1 = [3, 3]\n",
        "nchan1 = [32, 64]\n",
        "cfg1 = Config(ks=ks1,\n",
        "              mp=2,\n",
        "              nchan=nchan1,\n",
        "              convdepth=convdepth1,\n",
        "              nhid1=128,\n",
        "              nhid2=256,\n",
        "              drop=0.2)\n",
        "\n",
        "cnn1 = CNN(cfg1)"
      ],
      "metadata": {
        "id": "SJB6DDAu8-hw"
      },
      "execution_count": 35,
      "outputs": []
    },
    {
      "cell_type": "code",
      "source": [
        "test_losses = []\n",
        "test_accuracies = []\n",
        "train_losses_full = []\n",
        "lr = 1e-4\n",
        "max_epochs = 1\n",
        "loss = nn.CrossEntropyLoss()\n",
        "n_reps = 5\n",
        "\n",
        "# run for each dataset size\n",
        "for i, dlr in enumerate(train_dataloaders):\n",
        "  running_test_loss = 0\n",
        "  running_test_acc = 0\n",
        "  for j in range(n_reps):\n",
        "    # create model and instantiate optimizer\n",
        "    cnn = CNN(cfg1)\n",
        "    optm = torch.optim.Adam(cnn.parameters(), lr=lr)\n",
        "    train_losses = []\n",
        "    print(f'########### START DLR {i} REP {j} ###########')\n",
        "    for e in range(max_epochs):\n",
        "      train_loss, train_acc = train(cnn, dlr, loss, optm)\n",
        "      train_losses.append(train_loss)\n",
        "    print('EVALUATING')\n",
        "    test_loss, test_acc = evaluate(cnn, test_dlr, loss)\n",
        "    running_test_loss += test_loss\n",
        "    running_test_acc += test_acc\n",
        "    train_losses_full.append(train_losses)\n",
        "    print(f'############ END DLR {i} REP {j} ############')\n",
        "    print('\\n')\n",
        "  test_losses.append(running_test_loss/n_reps)\n",
        "  test_accuracies.append(running_test_acc/n_reps)"
      ],
      "metadata": {
        "colab": {
          "base_uri": "https://localhost:8080/"
        },
        "id": "lWkcK1OT8qkj",
        "outputId": "5bcf2b18-4a06-45ca-9ad8-d29fafc45669"
      },
      "execution_count": 36,
      "outputs": [
        {
          "output_type": "stream",
          "name": "stdout",
          "text": [
            "########### START DLR 0 REP 0 ###########\n"
          ]
        },
        {
          "output_type": "stream",
          "name": "stderr",
          "text": [
            "100%|██████████| 30/30 [00:01<00:00, 25.91it/s]\n"
          ]
        },
        {
          "output_type": "stream",
          "name": "stdout",
          "text": [
            "Finished Batch: \n",
            "Training Loss:  2.290433422724406 Training Av. Accuracy:  0.14106359649122807\n",
            "EVALUATING\n"
          ]
        },
        {
          "output_type": "stream",
          "name": "stderr",
          "text": [
            "100%|██████████| 157/157 [00:02<00:00, 62.79it/s]\n"
          ]
        },
        {
          "output_type": "stream",
          "name": "stdout",
          "text": [
            "Validation Loss:  2.266600561749404 Validation Av. Accuracy:  0.29767117834394907\n",
            "############ END DLR 0 REP 0 ############\n",
            "\n",
            "\n",
            "########### START DLR 0 REP 1 ###########\n"
          ]
        },
        {
          "output_type": "stream",
          "name": "stderr",
          "text": [
            "100%|██████████| 30/30 [00:00<00:00, 52.60it/s]\n"
          ]
        },
        {
          "output_type": "stream",
          "name": "stdout",
          "text": [
            "Finished Batch: \n",
            "Training Loss:  2.2908445517222087 Training Av. Accuracy:  0.13560855263157895\n",
            "EVALUATING\n"
          ]
        },
        {
          "output_type": "stream",
          "name": "stderr",
          "text": [
            "100%|██████████| 157/157 [00:03<00:00, 44.65it/s]\n"
          ]
        },
        {
          "output_type": "stream",
          "name": "stdout",
          "text": [
            "Validation Loss:  2.275687913226474 Validation Av. Accuracy:  0.1376393312101911\n",
            "############ END DLR 0 REP 1 ############\n",
            "\n",
            "\n",
            "########### START DLR 0 REP 2 ###########\n"
          ]
        },
        {
          "output_type": "stream",
          "name": "stderr",
          "text": [
            "100%|██████████| 30/30 [00:00<00:00, 52.28it/s]\n"
          ]
        },
        {
          "output_type": "stream",
          "name": "stdout",
          "text": [
            "Finished Batch: \n",
            "Training Loss:  2.288854463895162 Training Av. Accuracy:  0.13130482456140352\n",
            "EVALUATING\n"
          ]
        },
        {
          "output_type": "stream",
          "name": "stderr",
          "text": [
            "100%|██████████| 157/157 [00:02<00:00, 64.18it/s]\n"
          ]
        },
        {
          "output_type": "stream",
          "name": "stdout",
          "text": [
            "Validation Loss:  2.27458362974179 Validation Av. Accuracy:  0.20909633757961785\n",
            "############ END DLR 0 REP 2 ############\n",
            "\n",
            "\n",
            "########### START DLR 0 REP 3 ###########\n"
          ]
        },
        {
          "output_type": "stream",
          "name": "stderr",
          "text": [
            "100%|██████████| 30/30 [00:00<00:00, 54.00it/s]\n"
          ]
        },
        {
          "output_type": "stream",
          "name": "stdout",
          "text": [
            "Finished Batch: \n",
            "Training Loss:  2.2908517599105833 Training Av. Accuracy:  0.1464089912280702\n",
            "EVALUATING\n"
          ]
        },
        {
          "output_type": "stream",
          "name": "stderr",
          "text": [
            "100%|██████████| 157/157 [00:02<00:00, 64.39it/s]\n"
          ]
        },
        {
          "output_type": "stream",
          "name": "stdout",
          "text": [
            "Validation Loss:  2.270828924361308 Validation Av. Accuracy:  0.17585589171974522\n",
            "############ END DLR 0 REP 3 ############\n",
            "\n",
            "\n",
            "########### START DLR 0 REP 4 ###########\n"
          ]
        },
        {
          "output_type": "stream",
          "name": "stderr",
          "text": [
            "100%|██████████| 30/30 [00:00<00:00, 53.29it/s]\n"
          ]
        },
        {
          "output_type": "stream",
          "name": "stdout",
          "text": [
            "Finished Batch: \n",
            "Training Loss:  2.2886892875035603 Training Av. Accuracy:  0.1531798245614035\n",
            "EVALUATING\n"
          ]
        },
        {
          "output_type": "stream",
          "name": "stderr",
          "text": [
            "100%|██████████| 157/157 [00:02<00:00, 63.32it/s]\n"
          ]
        },
        {
          "output_type": "stream",
          "name": "stdout",
          "text": [
            "Validation Loss:  2.263613655309009 Validation Av. Accuracy:  0.26731687898089174\n",
            "############ END DLR 0 REP 4 ############\n",
            "\n",
            "\n",
            "########### START DLR 1 REP 0 ###########\n"
          ]
        },
        {
          "output_type": "stream",
          "name": "stderr",
          "text": [
            "100%|██████████| 59/59 [00:01<00:00, 41.74it/s]\n"
          ]
        },
        {
          "output_type": "stream",
          "name": "stdout",
          "text": [
            "Finished Batch: \n",
            "Training Loss:  2.253416550361504 Training Av. Accuracy:  0.19586306868867082\n",
            "EVALUATING\n"
          ]
        },
        {
          "output_type": "stream",
          "name": "stderr",
          "text": [
            "100%|██████████| 157/157 [00:03<00:00, 51.75it/s]\n"
          ]
        },
        {
          "output_type": "stream",
          "name": "stdout",
          "text": [
            "Validation Loss:  2.128791491696789 Validation Av. Accuracy:  0.40893710191082805\n",
            "############ END DLR 1 REP 0 ############\n",
            "\n",
            "\n",
            "########### START DLR 1 REP 1 ###########\n"
          ]
        },
        {
          "output_type": "stream",
          "name": "stderr",
          "text": [
            "100%|██████████| 59/59 [00:01<00:00, 52.84it/s]\n"
          ]
        },
        {
          "output_type": "stream",
          "name": "stdout",
          "text": [
            "Finished Batch: \n",
            "Training Loss:  2.2735606613805737 Training Av. Accuracy:  0.17032783229259588\n",
            "EVALUATING\n"
          ]
        },
        {
          "output_type": "stream",
          "name": "stderr",
          "text": [
            "100%|██████████| 157/157 [00:02<00:00, 63.03it/s]\n"
          ]
        },
        {
          "output_type": "stream",
          "name": "stdout",
          "text": [
            "Validation Loss:  2.200709394588592 Validation Av. Accuracy:  0.2471138535031847\n",
            "############ END DLR 1 REP 1 ############\n",
            "\n",
            "\n",
            "########### START DLR 1 REP 2 ###########\n"
          ]
        },
        {
          "output_type": "stream",
          "name": "stderr",
          "text": [
            "100%|██████████| 59/59 [00:01<00:00, 52.45it/s]\n"
          ]
        },
        {
          "output_type": "stream",
          "name": "stdout",
          "text": [
            "Finished Batch: \n",
            "Training Loss:  2.2715394092818437 Training Av. Accuracy:  0.1642506690454951\n",
            "EVALUATING\n"
          ]
        },
        {
          "output_type": "stream",
          "name": "stderr",
          "text": [
            "100%|██████████| 157/157 [00:02<00:00, 62.38it/s]\n"
          ]
        },
        {
          "output_type": "stream",
          "name": "stdout",
          "text": [
            "Validation Loss:  2.194139870868367 Validation Av. Accuracy:  0.5431926751592356\n",
            "############ END DLR 1 REP 2 ############\n",
            "\n",
            "\n",
            "########### START DLR 1 REP 3 ###########\n"
          ]
        },
        {
          "output_type": "stream",
          "name": "stderr",
          "text": [
            "100%|██████████| 59/59 [00:01<00:00, 52.80it/s]\n"
          ]
        },
        {
          "output_type": "stream",
          "name": "stdout",
          "text": [
            "Finished Batch: \n",
            "Training Loss:  2.2484291892940713 Training Av. Accuracy:  0.2099827163247101\n",
            "EVALUATING\n"
          ]
        },
        {
          "output_type": "stream",
          "name": "stderr",
          "text": [
            "100%|██████████| 157/157 [00:03<00:00, 45.56it/s]\n"
          ]
        },
        {
          "output_type": "stream",
          "name": "stdout",
          "text": [
            "Validation Loss:  2.099688384183653 Validation Av. Accuracy:  0.5856886942675159\n",
            "############ END DLR 1 REP 3 ############\n",
            "\n",
            "\n",
            "########### START DLR 1 REP 4 ###########\n"
          ]
        },
        {
          "output_type": "stream",
          "name": "stderr",
          "text": [
            "100%|██████████| 59/59 [00:01<00:00, 52.29it/s]\n"
          ]
        },
        {
          "output_type": "stream",
          "name": "stdout",
          "text": [
            "Finished Batch: \n",
            "Training Loss:  2.2511612439559676 Training Av. Accuracy:  0.20812890276538806\n",
            "EVALUATING\n"
          ]
        },
        {
          "output_type": "stream",
          "name": "stderr",
          "text": [
            "100%|██████████| 157/157 [00:02<00:00, 63.13it/s]\n"
          ]
        },
        {
          "output_type": "stream",
          "name": "stdout",
          "text": [
            "Validation Loss:  2.122817133642306 Validation Av. Accuracy:  0.3820660828025478\n",
            "############ END DLR 1 REP 4 ############\n",
            "\n",
            "\n",
            "########### START DLR 2 REP 0 ###########\n"
          ]
        },
        {
          "output_type": "stream",
          "name": "stderr",
          "text": [
            "100%|██████████| 118/118 [00:02<00:00, 50.94it/s]\n"
          ]
        },
        {
          "output_type": "stream",
          "name": "stdout",
          "text": [
            "Finished Batch: \n",
            "Training Loss:  2.1301195934667425 Training Av. Accuracy:  0.2902983757062147\n",
            "EVALUATING\n"
          ]
        },
        {
          "output_type": "stream",
          "name": "stderr",
          "text": [
            "100%|██████████| 157/157 [00:02<00:00, 64.46it/s]\n"
          ]
        },
        {
          "output_type": "stream",
          "name": "stdout",
          "text": [
            "Validation Loss:  1.5332627250890063 Validation Av. Accuracy:  0.725218949044586\n",
            "############ END DLR 2 REP 0 ############\n",
            "\n",
            "\n",
            "########### START DLR 2 REP 1 ###########\n"
          ]
        },
        {
          "output_type": "stream",
          "name": "stderr",
          "text": [
            "100%|██████████| 118/118 [00:02<00:00, 44.41it/s]\n"
          ]
        },
        {
          "output_type": "stream",
          "name": "stdout",
          "text": [
            "Finished Batch: \n",
            "Training Loss:  2.0566905110569325 Training Av. Accuracy:  0.3539459745762712\n",
            "EVALUATING\n"
          ]
        },
        {
          "output_type": "stream",
          "name": "stderr",
          "text": [
            "100%|██████████| 157/157 [00:02<00:00, 53.55it/s]\n"
          ]
        },
        {
          "output_type": "stream",
          "name": "stdout",
          "text": [
            "Validation Loss:  1.2968785899459936 Validation Av. Accuracy:  0.7256170382165605\n",
            "############ END DLR 2 REP 1 ############\n",
            "\n",
            "\n",
            "########### START DLR 2 REP 2 ###########\n"
          ]
        },
        {
          "output_type": "stream",
          "name": "stderr",
          "text": [
            "100%|██████████| 118/118 [00:02<00:00, 52.70it/s]\n"
          ]
        },
        {
          "output_type": "stream",
          "name": "stdout",
          "text": [
            "Finished Batch: \n",
            "Training Loss:  2.092306122941486 Training Av. Accuracy:  0.3335981638418079\n",
            "EVALUATING\n"
          ]
        },
        {
          "output_type": "stream",
          "name": "stderr",
          "text": [
            "100%|██████████| 157/157 [00:04<00:00, 39.04it/s]\n"
          ]
        },
        {
          "output_type": "stream",
          "name": "stdout",
          "text": [
            "Validation Loss:  1.3716152579921066 Validation Av. Accuracy:  0.7177547770700637\n",
            "############ END DLR 2 REP 2 ############\n",
            "\n",
            "\n",
            "########### START DLR 2 REP 3 ###########\n"
          ]
        },
        {
          "output_type": "stream",
          "name": "stderr",
          "text": [
            "100%|██████████| 118/118 [00:02<00:00, 51.41it/s]\n"
          ]
        },
        {
          "output_type": "stream",
          "name": "stdout",
          "text": [
            "Finished Batch: \n",
            "Training Loss:  2.138672634706659 Training Av. Accuracy:  0.2891066384180791\n",
            "EVALUATING\n"
          ]
        },
        {
          "output_type": "stream",
          "name": "stderr",
          "text": [
            "100%|██████████| 157/157 [00:03<00:00, 44.63it/s]\n"
          ]
        },
        {
          "output_type": "stream",
          "name": "stdout",
          "text": [
            "Validation Loss:  1.5893034426270016 Validation Av. Accuracy:  0.5847929936305732\n",
            "############ END DLR 2 REP 3 ############\n",
            "\n",
            "\n",
            "########### START DLR 2 REP 4 ###########\n"
          ]
        },
        {
          "output_type": "stream",
          "name": "stderr",
          "text": [
            "100%|██████████| 118/118 [00:02<00:00, 51.05it/s]\n"
          ]
        },
        {
          "output_type": "stream",
          "name": "stdout",
          "text": [
            "Finished Batch: \n",
            "Training Loss:  2.1552609488115473 Training Av. Accuracy:  0.2709657485875706\n",
            "EVALUATING\n"
          ]
        },
        {
          "output_type": "stream",
          "name": "stderr",
          "text": [
            "100%|██████████| 157/157 [00:02<00:00, 63.79it/s]\n"
          ]
        },
        {
          "output_type": "stream",
          "name": "stdout",
          "text": [
            "Validation Loss:  1.610992637409526 Validation Av. Accuracy:  0.6263933121019108\n",
            "############ END DLR 2 REP 4 ############\n",
            "\n",
            "\n",
            "########### START DLR 3 REP 0 ###########\n"
          ]
        },
        {
          "output_type": "stream",
          "name": "stderr",
          "text": [
            "100%|██████████| 235/235 [00:04<00:00, 50.14it/s]\n"
          ]
        },
        {
          "output_type": "stream",
          "name": "stdout",
          "text": [
            "Finished Batch: \n",
            "Training Loss:  1.5050223195806463 Training Av. Accuracy:  0.5173093971631205\n",
            "EVALUATING\n"
          ]
        },
        {
          "output_type": "stream",
          "name": "stderr",
          "text": [
            "100%|██████████| 157/157 [00:03<00:00, 45.20it/s]\n"
          ]
        },
        {
          "output_type": "stream",
          "name": "stdout",
          "text": [
            "Validation Loss:  0.551364816108327 Validation Av. Accuracy:  0.8469347133757962\n",
            "############ END DLR 3 REP 0 ############\n",
            "\n",
            "\n",
            "########### START DLR 3 REP 1 ###########\n"
          ]
        },
        {
          "output_type": "stream",
          "name": "stderr",
          "text": [
            "100%|██████████| 235/235 [00:04<00:00, 51.05it/s]\n"
          ]
        },
        {
          "output_type": "stream",
          "name": "stdout",
          "text": [
            "Finished Batch: \n",
            "Training Loss:  1.4296872245504502 Training Av. Accuracy:  0.5683732269503546\n",
            "EVALUATING\n"
          ]
        },
        {
          "output_type": "stream",
          "name": "stderr",
          "text": [
            "100%|██████████| 157/157 [00:02<00:00, 63.14it/s]\n"
          ]
        },
        {
          "output_type": "stream",
          "name": "stdout",
          "text": [
            "Validation Loss:  0.49961163663560415 Validation Av. Accuracy:  0.865047770700637\n",
            "############ END DLR 3 REP 1 ############\n",
            "\n",
            "\n",
            "########### START DLR 3 REP 2 ###########\n"
          ]
        },
        {
          "output_type": "stream",
          "name": "stderr",
          "text": [
            "100%|██████████| 235/235 [00:05<00:00, 42.96it/s]\n"
          ]
        },
        {
          "output_type": "stream",
          "name": "stdout",
          "text": [
            "Finished Batch: \n",
            "Training Loss:  1.5744813244393532 Training Av. Accuracy:  0.4853723404255319\n",
            "EVALUATING\n"
          ]
        },
        {
          "output_type": "stream",
          "name": "stderr",
          "text": [
            "100%|██████████| 157/157 [00:02<00:00, 63.28it/s]\n"
          ]
        },
        {
          "output_type": "stream",
          "name": "stdout",
          "text": [
            "Validation Loss:  0.6019067508020218 Validation Av. Accuracy:  0.8206608280254777\n",
            "############ END DLR 3 REP 2 ############\n",
            "\n",
            "\n",
            "########### START DLR 3 REP 3 ###########\n"
          ]
        },
        {
          "output_type": "stream",
          "name": "stderr",
          "text": [
            "100%|██████████| 235/235 [00:04<00:00, 51.69it/s]\n"
          ]
        },
        {
          "output_type": "stream",
          "name": "stdout",
          "text": [
            "Finished Batch: \n",
            "Training Loss:  1.5280775962991917 Training Av. Accuracy:  0.4924423758865248\n",
            "EVALUATING\n"
          ]
        },
        {
          "output_type": "stream",
          "name": "stderr",
          "text": [
            "100%|██████████| 157/157 [00:02<00:00, 62.89it/s]\n"
          ]
        },
        {
          "output_type": "stream",
          "name": "stdout",
          "text": [
            "Validation Loss:  0.5516870800097278 Validation Av. Accuracy:  0.8576831210191083\n",
            "############ END DLR 3 REP 3 ############\n",
            "\n",
            "\n",
            "########### START DLR 3 REP 4 ###########\n"
          ]
        },
        {
          "output_type": "stream",
          "name": "stderr",
          "text": [
            "100%|██████████| 235/235 [00:05<00:00, 42.41it/s]\n"
          ]
        },
        {
          "output_type": "stream",
          "name": "stdout",
          "text": [
            "Finished Batch: \n",
            "Training Loss:  1.5430155548643558 Training Av. Accuracy:  0.4978058510638298\n",
            "EVALUATING\n"
          ]
        },
        {
          "output_type": "stream",
          "name": "stderr",
          "text": [
            "100%|██████████| 157/157 [00:02<00:00, 61.34it/s]\n"
          ]
        },
        {
          "output_type": "stream",
          "name": "stdout",
          "text": [
            "Validation Loss:  0.5540954933804312 Validation Av. Accuracy:  0.865843949044586\n",
            "############ END DLR 3 REP 4 ############\n",
            "\n",
            "\n",
            "########### START DLR 4 REP 0 ###########\n"
          ]
        },
        {
          "output_type": "stream",
          "name": "stderr",
          "text": [
            "100%|██████████| 469/469 [00:09<00:00, 48.29it/s]\n"
          ]
        },
        {
          "output_type": "stream",
          "name": "stdout",
          "text": [
            "Finished Batch: \n",
            "Training Loss:  0.9772555355324166 Training Av. Accuracy:  0.6955401563610518\n",
            "EVALUATING\n"
          ]
        },
        {
          "output_type": "stream",
          "name": "stderr",
          "text": [
            "100%|██████████| 157/157 [00:02<00:00, 65.21it/s]\n"
          ]
        },
        {
          "output_type": "stream",
          "name": "stdout",
          "text": [
            "Validation Loss:  0.29385829308799877 Validation Av. Accuracy:  0.9161027070063694\n",
            "############ END DLR 4 REP 0 ############\n",
            "\n",
            "\n",
            "########### START DLR 4 REP 1 ###########\n"
          ]
        },
        {
          "output_type": "stream",
          "name": "stderr",
          "text": [
            "100%|██████████| 469/469 [00:09<00:00, 48.26it/s]\n"
          ]
        },
        {
          "output_type": "stream",
          "name": "stdout",
          "text": [
            "Finished Batch: \n",
            "Training Loss:  1.0287237454896796 Training Av. Accuracy:  0.6700537491115849\n",
            "EVALUATING\n"
          ]
        },
        {
          "output_type": "stream",
          "name": "stderr",
          "text": [
            "100%|██████████| 157/157 [00:02<00:00, 65.21it/s]\n"
          ]
        },
        {
          "output_type": "stream",
          "name": "stdout",
          "text": [
            "Validation Loss:  0.29559251571157175 Validation Av. Accuracy:  0.9144108280254777\n",
            "############ END DLR 4 REP 1 ############\n",
            "\n",
            "\n",
            "########### START DLR 4 REP 2 ###########\n"
          ]
        },
        {
          "output_type": "stream",
          "name": "stderr",
          "text": [
            "100%|██████████| 469/469 [00:09<00:00, 50.01it/s]\n"
          ]
        },
        {
          "output_type": "stream",
          "name": "stdout",
          "text": [
            "Finished Batch: \n",
            "Training Loss:  0.9119766295464562 Training Av. Accuracy:  0.7216262437810945\n",
            "EVALUATING\n"
          ]
        },
        {
          "output_type": "stream",
          "name": "stderr",
          "text": [
            "100%|██████████| 157/157 [00:02<00:00, 57.83it/s]\n"
          ]
        },
        {
          "output_type": "stream",
          "name": "stdout",
          "text": [
            "Validation Loss:  0.2799505300013123 Validation Av. Accuracy:  0.921875\n",
            "############ END DLR 4 REP 2 ############\n",
            "\n",
            "\n",
            "########### START DLR 4 REP 3 ###########\n"
          ]
        },
        {
          "output_type": "stream",
          "name": "stderr",
          "text": [
            "100%|██████████| 469/469 [00:08<00:00, 53.28it/s]\n"
          ]
        },
        {
          "output_type": "stream",
          "name": "stdout",
          "text": [
            "Finished Batch: \n",
            "Training Loss:  0.9753282772960947 Training Av. Accuracy:  0.6948294243070362\n",
            "EVALUATING\n"
          ]
        },
        {
          "output_type": "stream",
          "name": "stderr",
          "text": [
            "100%|██████████| 157/157 [00:03<00:00, 51.22it/s]\n"
          ]
        },
        {
          "output_type": "stream",
          "name": "stdout",
          "text": [
            "Validation Loss:  0.2851489396042125 Validation Av. Accuracy:  0.9186902866242038\n",
            "############ END DLR 4 REP 3 ############\n",
            "\n",
            "\n",
            "########### START DLR 4 REP 4 ###########\n"
          ]
        },
        {
          "output_type": "stream",
          "name": "stderr",
          "text": [
            "100%|██████████| 469/469 [00:08<00:00, 54.17it/s]\n"
          ]
        },
        {
          "output_type": "stream",
          "name": "stdout",
          "text": [
            "Finished Batch: \n",
            "Training Loss:  0.8806957404560117 Training Av. Accuracy:  0.7313099680170576\n",
            "EVALUATING\n"
          ]
        },
        {
          "output_type": "stream",
          "name": "stderr",
          "text": [
            "100%|██████████| 157/157 [00:03<00:00, 46.45it/s]\n"
          ]
        },
        {
          "output_type": "stream",
          "name": "stdout",
          "text": [
            "Validation Loss:  0.23791353997721035 Validation Av. Accuracy:  0.9303343949044586\n",
            "############ END DLR 4 REP 4 ############\n",
            "\n",
            "\n",
            "########### START DLR 5 REP 0 ###########\n"
          ]
        },
        {
          "output_type": "stream",
          "name": "stderr",
          "text": [
            "100%|██████████| 938/938 [00:18<00:00, 51.17it/s]\n"
          ]
        },
        {
          "output_type": "stream",
          "name": "stdout",
          "text": [
            "Finished Batch: \n",
            "Training Loss:  0.694131429237661 Training Av. Accuracy:  0.7808335554371002\n",
            "EVALUATING\n"
          ]
        },
        {
          "output_type": "stream",
          "name": "stderr",
          "text": [
            "100%|██████████| 157/157 [00:02<00:00, 66.38it/s]\n"
          ]
        },
        {
          "output_type": "stream",
          "name": "stdout",
          "text": [
            "Validation Loss:  0.170438262829735 Validation Av. Accuracy:  0.9492436305732485\n",
            "############ END DLR 5 REP 0 ############\n",
            "\n",
            "\n",
            "########### START DLR 5 REP 1 ###########\n"
          ]
        },
        {
          "output_type": "stream",
          "name": "stderr",
          "text": [
            "100%|██████████| 938/938 [00:19<00:00, 47.88it/s]\n"
          ]
        },
        {
          "output_type": "stream",
          "name": "stdout",
          "text": [
            "Finished Batch: \n",
            "Training Loss:  0.6363675153808299 Training Av. Accuracy:  0.7997401385927505\n",
            "EVALUATING\n"
          ]
        },
        {
          "output_type": "stream",
          "name": "stderr",
          "text": [
            "100%|██████████| 157/157 [00:02<00:00, 63.85it/s]\n"
          ]
        },
        {
          "output_type": "stream",
          "name": "stdout",
          "text": [
            "Validation Loss:  0.1624238054226538 Validation Av. Accuracy:  0.9523288216560509\n",
            "############ END DLR 5 REP 1 ############\n",
            "\n",
            "\n",
            "########### START DLR 5 REP 2 ###########\n"
          ]
        },
        {
          "output_type": "stream",
          "name": "stderr",
          "text": [
            "100%|██████████| 938/938 [00:18<00:00, 50.92it/s]\n"
          ]
        },
        {
          "output_type": "stream",
          "name": "stdout",
          "text": [
            "Finished Batch: \n",
            "Training Loss:  0.667631945225285 Training Av. Accuracy:  0.787163512793177\n",
            "EVALUATING\n"
          ]
        },
        {
          "output_type": "stream",
          "name": "stderr",
          "text": [
            "100%|██████████| 157/157 [00:03<00:00, 45.77it/s]\n"
          ]
        },
        {
          "output_type": "stream",
          "name": "stdout",
          "text": [
            "Validation Loss:  0.1612400433677397 Validation Av. Accuracy:  0.9511345541401274\n",
            "############ END DLR 5 REP 2 ############\n",
            "\n",
            "\n",
            "########### START DLR 5 REP 3 ###########\n"
          ]
        },
        {
          "output_type": "stream",
          "name": "stderr",
          "text": [
            "100%|██████████| 938/938 [00:18<00:00, 50.68it/s]\n"
          ]
        },
        {
          "output_type": "stream",
          "name": "stdout",
          "text": [
            "Finished Batch: \n",
            "Training Loss:  0.6802562112207098 Training Av. Accuracy:  0.7856143390191898\n",
            "EVALUATING\n"
          ]
        },
        {
          "output_type": "stream",
          "name": "stderr",
          "text": [
            "100%|██████████| 157/157 [00:02<00:00, 65.37it/s]\n"
          ]
        },
        {
          "output_type": "stream",
          "name": "stdout",
          "text": [
            "Validation Loss:  0.1570658978003605 Validation Av. Accuracy:  0.9524283439490446\n",
            "############ END DLR 5 REP 3 ############\n",
            "\n",
            "\n",
            "########### START DLR 5 REP 4 ###########\n"
          ]
        },
        {
          "output_type": "stream",
          "name": "stderr",
          "text": [
            "100%|██████████| 938/938 [00:19<00:00, 49.12it/s]\n"
          ]
        },
        {
          "output_type": "stream",
          "name": "stdout",
          "text": [
            "Finished Batch: \n",
            "Training Loss:  0.6585811226209725 Training Av. Accuracy:  0.794942697228145\n",
            "EVALUATING\n"
          ]
        },
        {
          "output_type": "stream",
          "name": "stderr",
          "text": [
            "100%|██████████| 157/157 [00:02<00:00, 65.75it/s]"
          ]
        },
        {
          "output_type": "stream",
          "name": "stdout",
          "text": [
            "Validation Loss:  0.16952516708024748 Validation Av. Accuracy:  0.9476512738853503\n",
            "############ END DLR 5 REP 4 ############\n",
            "\n",
            "\n"
          ]
        },
        {
          "output_type": "stream",
          "name": "stderr",
          "text": [
            "\n"
          ]
        }
      ]
    },
    {
      "cell_type": "code",
      "source": [
        "fig = go.Figure()\n",
        "fig.add_trace(go.Scatter(x=train_dlr_sizes, y=test_losses, name='Test Loss'))\n",
        "fig.add_trace(go.Scatter(x=train_dlr_sizes, y=test_accuracies, name='Test Accuracy'))\n",
        "fig.update_layout(title='Dataset Size Effect on Test Loss',\n",
        "                  yaxis_title='Loss',\n",
        "                  xaxis_title='Size')\n",
        "fig.show()"
      ],
      "metadata": {
        "colab": {
          "base_uri": "https://localhost:8080/",
          "height": 542
        },
        "id": "v1_jZMk69LHm",
        "outputId": "d6e58076-e3c6-49c9-9f84-0adae84b30b4"
      },
      "execution_count": 37,
      "outputs": [
        {
          "output_type": "display_data",
          "data": {
            "text/html": [
              "<html>\n",
              "<head><meta charset=\"utf-8\" /></head>\n",
              "<body>\n",
              "    <div>            <script src=\"https://cdnjs.cloudflare.com/ajax/libs/mathjax/2.7.5/MathJax.js?config=TeX-AMS-MML_SVG\"></script><script type=\"text/javascript\">if (window.MathJax && window.MathJax.Hub && window.MathJax.Hub.Config) {window.MathJax.Hub.Config({SVG: {font: \"STIX-Web\"}});}</script>                <script type=\"text/javascript\">window.PlotlyConfig = {MathJaxConfig: 'local'};</script>\n",
              "        <script charset=\"utf-8\" src=\"https://cdn.plot.ly/plotly-2.24.1.min.js\"></script>                <div id=\"8b6b1ec6-3626-4e9b-843c-5ae24b77a1a5\" class=\"plotly-graph-div\" style=\"height:525px; width:100%;\"></div>            <script type=\"text/javascript\">                                    window.PLOTLYENV=window.PLOTLYENV || {};                                    if (document.getElementById(\"8b6b1ec6-3626-4e9b-843c-5ae24b77a1a5\")) {                    Plotly.newPlot(                        \"8b6b1ec6-3626-4e9b-843c-5ae24b77a1a5\",                        [{\"name\":\"Test Loss\",\"x\":[1875,3750,7500,15000,30000,60000],\"y\":[2.2702629368775975,2.1492292549959413,1.4804105306127269,0.5517331553872223,0.27849276367646114,0.1641386353001473],\"type\":\"scatter\"},{\"name\":\"Test Accuracy\",\"x\":[1875,3750,7500,15000,30000,60000],\"y\":[0.21751592356687902,0.4333996815286624,0.6759554140127388,0.851234076433121,0.9202826433121019,0.9505573248407643],\"type\":\"scatter\"}],                        {\"template\":{\"data\":{\"histogram2dcontour\":[{\"type\":\"histogram2dcontour\",\"colorbar\":{\"outlinewidth\":0,\"ticks\":\"\"},\"colorscale\":[[0.0,\"#0d0887\"],[0.1111111111111111,\"#46039f\"],[0.2222222222222222,\"#7201a8\"],[0.3333333333333333,\"#9c179e\"],[0.4444444444444444,\"#bd3786\"],[0.5555555555555556,\"#d8576b\"],[0.6666666666666666,\"#ed7953\"],[0.7777777777777778,\"#fb9f3a\"],[0.8888888888888888,\"#fdca26\"],[1.0,\"#f0f921\"]]}],\"choropleth\":[{\"type\":\"choropleth\",\"colorbar\":{\"outlinewidth\":0,\"ticks\":\"\"}}],\"histogram2d\":[{\"type\":\"histogram2d\",\"colorbar\":{\"outlinewidth\":0,\"ticks\":\"\"},\"colorscale\":[[0.0,\"#0d0887\"],[0.1111111111111111,\"#46039f\"],[0.2222222222222222,\"#7201a8\"],[0.3333333333333333,\"#9c179e\"],[0.4444444444444444,\"#bd3786\"],[0.5555555555555556,\"#d8576b\"],[0.6666666666666666,\"#ed7953\"],[0.7777777777777778,\"#fb9f3a\"],[0.8888888888888888,\"#fdca26\"],[1.0,\"#f0f921\"]]}],\"heatmap\":[{\"type\":\"heatmap\",\"colorbar\":{\"outlinewidth\":0,\"ticks\":\"\"},\"colorscale\":[[0.0,\"#0d0887\"],[0.1111111111111111,\"#46039f\"],[0.2222222222222222,\"#7201a8\"],[0.3333333333333333,\"#9c179e\"],[0.4444444444444444,\"#bd3786\"],[0.5555555555555556,\"#d8576b\"],[0.6666666666666666,\"#ed7953\"],[0.7777777777777778,\"#fb9f3a\"],[0.8888888888888888,\"#fdca26\"],[1.0,\"#f0f921\"]]}],\"heatmapgl\":[{\"type\":\"heatmapgl\",\"colorbar\":{\"outlinewidth\":0,\"ticks\":\"\"},\"colorscale\":[[0.0,\"#0d0887\"],[0.1111111111111111,\"#46039f\"],[0.2222222222222222,\"#7201a8\"],[0.3333333333333333,\"#9c179e\"],[0.4444444444444444,\"#bd3786\"],[0.5555555555555556,\"#d8576b\"],[0.6666666666666666,\"#ed7953\"],[0.7777777777777778,\"#fb9f3a\"],[0.8888888888888888,\"#fdca26\"],[1.0,\"#f0f921\"]]}],\"contourcarpet\":[{\"type\":\"contourcarpet\",\"colorbar\":{\"outlinewidth\":0,\"ticks\":\"\"}}],\"contour\":[{\"type\":\"contour\",\"colorbar\":{\"outlinewidth\":0,\"ticks\":\"\"},\"colorscale\":[[0.0,\"#0d0887\"],[0.1111111111111111,\"#46039f\"],[0.2222222222222222,\"#7201a8\"],[0.3333333333333333,\"#9c179e\"],[0.4444444444444444,\"#bd3786\"],[0.5555555555555556,\"#d8576b\"],[0.6666666666666666,\"#ed7953\"],[0.7777777777777778,\"#fb9f3a\"],[0.8888888888888888,\"#fdca26\"],[1.0,\"#f0f921\"]]}],\"surface\":[{\"type\":\"surface\",\"colorbar\":{\"outlinewidth\":0,\"ticks\":\"\"},\"colorscale\":[[0.0,\"#0d0887\"],[0.1111111111111111,\"#46039f\"],[0.2222222222222222,\"#7201a8\"],[0.3333333333333333,\"#9c179e\"],[0.4444444444444444,\"#bd3786\"],[0.5555555555555556,\"#d8576b\"],[0.6666666666666666,\"#ed7953\"],[0.7777777777777778,\"#fb9f3a\"],[0.8888888888888888,\"#fdca26\"],[1.0,\"#f0f921\"]]}],\"mesh3d\":[{\"type\":\"mesh3d\",\"colorbar\":{\"outlinewidth\":0,\"ticks\":\"\"}}],\"scatter\":[{\"fillpattern\":{\"fillmode\":\"overlay\",\"size\":10,\"solidity\":0.2},\"type\":\"scatter\"}],\"parcoords\":[{\"type\":\"parcoords\",\"line\":{\"colorbar\":{\"outlinewidth\":0,\"ticks\":\"\"}}}],\"scatterpolargl\":[{\"type\":\"scatterpolargl\",\"marker\":{\"colorbar\":{\"outlinewidth\":0,\"ticks\":\"\"}}}],\"bar\":[{\"error_x\":{\"color\":\"#2a3f5f\"},\"error_y\":{\"color\":\"#2a3f5f\"},\"marker\":{\"line\":{\"color\":\"#E5ECF6\",\"width\":0.5},\"pattern\":{\"fillmode\":\"overlay\",\"size\":10,\"solidity\":0.2}},\"type\":\"bar\"}],\"scattergeo\":[{\"type\":\"scattergeo\",\"marker\":{\"colorbar\":{\"outlinewidth\":0,\"ticks\":\"\"}}}],\"scatterpolar\":[{\"type\":\"scatterpolar\",\"marker\":{\"colorbar\":{\"outlinewidth\":0,\"ticks\":\"\"}}}],\"histogram\":[{\"marker\":{\"pattern\":{\"fillmode\":\"overlay\",\"size\":10,\"solidity\":0.2}},\"type\":\"histogram\"}],\"scattergl\":[{\"type\":\"scattergl\",\"marker\":{\"colorbar\":{\"outlinewidth\":0,\"ticks\":\"\"}}}],\"scatter3d\":[{\"type\":\"scatter3d\",\"line\":{\"colorbar\":{\"outlinewidth\":0,\"ticks\":\"\"}},\"marker\":{\"colorbar\":{\"outlinewidth\":0,\"ticks\":\"\"}}}],\"scattermapbox\":[{\"type\":\"scattermapbox\",\"marker\":{\"colorbar\":{\"outlinewidth\":0,\"ticks\":\"\"}}}],\"scatterternary\":[{\"type\":\"scatterternary\",\"marker\":{\"colorbar\":{\"outlinewidth\":0,\"ticks\":\"\"}}}],\"scattercarpet\":[{\"type\":\"scattercarpet\",\"marker\":{\"colorbar\":{\"outlinewidth\":0,\"ticks\":\"\"}}}],\"carpet\":[{\"aaxis\":{\"endlinecolor\":\"#2a3f5f\",\"gridcolor\":\"white\",\"linecolor\":\"white\",\"minorgridcolor\":\"white\",\"startlinecolor\":\"#2a3f5f\"},\"baxis\":{\"endlinecolor\":\"#2a3f5f\",\"gridcolor\":\"white\",\"linecolor\":\"white\",\"minorgridcolor\":\"white\",\"startlinecolor\":\"#2a3f5f\"},\"type\":\"carpet\"}],\"table\":[{\"cells\":{\"fill\":{\"color\":\"#EBF0F8\"},\"line\":{\"color\":\"white\"}},\"header\":{\"fill\":{\"color\":\"#C8D4E3\"},\"line\":{\"color\":\"white\"}},\"type\":\"table\"}],\"barpolar\":[{\"marker\":{\"line\":{\"color\":\"#E5ECF6\",\"width\":0.5},\"pattern\":{\"fillmode\":\"overlay\",\"size\":10,\"solidity\":0.2}},\"type\":\"barpolar\"}],\"pie\":[{\"automargin\":true,\"type\":\"pie\"}]},\"layout\":{\"autotypenumbers\":\"strict\",\"colorway\":[\"#636efa\",\"#EF553B\",\"#00cc96\",\"#ab63fa\",\"#FFA15A\",\"#19d3f3\",\"#FF6692\",\"#B6E880\",\"#FF97FF\",\"#FECB52\"],\"font\":{\"color\":\"#2a3f5f\"},\"hovermode\":\"closest\",\"hoverlabel\":{\"align\":\"left\"},\"paper_bgcolor\":\"white\",\"plot_bgcolor\":\"#E5ECF6\",\"polar\":{\"bgcolor\":\"#E5ECF6\",\"angularaxis\":{\"gridcolor\":\"white\",\"linecolor\":\"white\",\"ticks\":\"\"},\"radialaxis\":{\"gridcolor\":\"white\",\"linecolor\":\"white\",\"ticks\":\"\"}},\"ternary\":{\"bgcolor\":\"#E5ECF6\",\"aaxis\":{\"gridcolor\":\"white\",\"linecolor\":\"white\",\"ticks\":\"\"},\"baxis\":{\"gridcolor\":\"white\",\"linecolor\":\"white\",\"ticks\":\"\"},\"caxis\":{\"gridcolor\":\"white\",\"linecolor\":\"white\",\"ticks\":\"\"}},\"coloraxis\":{\"colorbar\":{\"outlinewidth\":0,\"ticks\":\"\"}},\"colorscale\":{\"sequential\":[[0.0,\"#0d0887\"],[0.1111111111111111,\"#46039f\"],[0.2222222222222222,\"#7201a8\"],[0.3333333333333333,\"#9c179e\"],[0.4444444444444444,\"#bd3786\"],[0.5555555555555556,\"#d8576b\"],[0.6666666666666666,\"#ed7953\"],[0.7777777777777778,\"#fb9f3a\"],[0.8888888888888888,\"#fdca26\"],[1.0,\"#f0f921\"]],\"sequentialminus\":[[0.0,\"#0d0887\"],[0.1111111111111111,\"#46039f\"],[0.2222222222222222,\"#7201a8\"],[0.3333333333333333,\"#9c179e\"],[0.4444444444444444,\"#bd3786\"],[0.5555555555555556,\"#d8576b\"],[0.6666666666666666,\"#ed7953\"],[0.7777777777777778,\"#fb9f3a\"],[0.8888888888888888,\"#fdca26\"],[1.0,\"#f0f921\"]],\"diverging\":[[0,\"#8e0152\"],[0.1,\"#c51b7d\"],[0.2,\"#de77ae\"],[0.3,\"#f1b6da\"],[0.4,\"#fde0ef\"],[0.5,\"#f7f7f7\"],[0.6,\"#e6f5d0\"],[0.7,\"#b8e186\"],[0.8,\"#7fbc41\"],[0.9,\"#4d9221\"],[1,\"#276419\"]]},\"xaxis\":{\"gridcolor\":\"white\",\"linecolor\":\"white\",\"ticks\":\"\",\"title\":{\"standoff\":15},\"zerolinecolor\":\"white\",\"automargin\":true,\"zerolinewidth\":2},\"yaxis\":{\"gridcolor\":\"white\",\"linecolor\":\"white\",\"ticks\":\"\",\"title\":{\"standoff\":15},\"zerolinecolor\":\"white\",\"automargin\":true,\"zerolinewidth\":2},\"scene\":{\"xaxis\":{\"backgroundcolor\":\"#E5ECF6\",\"gridcolor\":\"white\",\"linecolor\":\"white\",\"showbackground\":true,\"ticks\":\"\",\"zerolinecolor\":\"white\",\"gridwidth\":2},\"yaxis\":{\"backgroundcolor\":\"#E5ECF6\",\"gridcolor\":\"white\",\"linecolor\":\"white\",\"showbackground\":true,\"ticks\":\"\",\"zerolinecolor\":\"white\",\"gridwidth\":2},\"zaxis\":{\"backgroundcolor\":\"#E5ECF6\",\"gridcolor\":\"white\",\"linecolor\":\"white\",\"showbackground\":true,\"ticks\":\"\",\"zerolinecolor\":\"white\",\"gridwidth\":2}},\"shapedefaults\":{\"line\":{\"color\":\"#2a3f5f\"}},\"annotationdefaults\":{\"arrowcolor\":\"#2a3f5f\",\"arrowhead\":0,\"arrowwidth\":1},\"geo\":{\"bgcolor\":\"white\",\"landcolor\":\"#E5ECF6\",\"subunitcolor\":\"white\",\"showland\":true,\"showlakes\":true,\"lakecolor\":\"white\"},\"title\":{\"x\":0.05},\"mapbox\":{\"style\":\"light\"}}},\"title\":{\"text\":\"Dataset Size Effect on Test Loss\"},\"yaxis\":{\"title\":{\"text\":\"Loss\"}},\"xaxis\":{\"title\":{\"text\":\"Size\"}}},                        {\"responsive\": true}                    ).then(function(){\n",
              "                            \n",
              "var gd = document.getElementById('8b6b1ec6-3626-4e9b-843c-5ae24b77a1a5');\n",
              "var x = new MutationObserver(function (mutations, observer) {{\n",
              "        var display = window.getComputedStyle(gd).display;\n",
              "        if (!display || display === 'none') {{\n",
              "            console.log([gd, 'removed!']);\n",
              "            Plotly.purge(gd);\n",
              "            observer.disconnect();\n",
              "        }}\n",
              "}});\n",
              "\n",
              "// Listen for the removal of the full notebook cells\n",
              "var notebookContainer = gd.closest('#notebook-container');\n",
              "if (notebookContainer) {{\n",
              "    x.observe(notebookContainer, {childList: true});\n",
              "}}\n",
              "\n",
              "// Listen for the clearing of the current output cell\n",
              "var outputEl = gd.closest('.output');\n",
              "if (outputEl) {{\n",
              "    x.observe(outputEl, {childList: true});\n",
              "}}\n",
              "\n",
              "                        })                };                            </script>        </div>\n",
              "</body>\n",
              "</html>"
            ]
          },
          "metadata": {}
        }
      ]
    },
    {
      "cell_type": "code",
      "source": [
        "fig = px.scatter(x=train_dlr_sizes, y=np.log(test_losses), title='Datasize Effect on Log Test Losses', trendline='ols')\n",
        "fig.show()"
      ],
      "metadata": {
        "colab": {
          "base_uri": "https://localhost:8080/",
          "height": 542
        },
        "id": "7YTZ2nnI_CcL",
        "outputId": "cc761453-c65a-43ab-d9c2-c44e2d3d1ff5"
      },
      "execution_count": 38,
      "outputs": [
        {
          "output_type": "display_data",
          "data": {
            "text/html": [
              "<html>\n",
              "<head><meta charset=\"utf-8\" /></head>\n",
              "<body>\n",
              "    <div>            <script src=\"https://cdnjs.cloudflare.com/ajax/libs/mathjax/2.7.5/MathJax.js?config=TeX-AMS-MML_SVG\"></script><script type=\"text/javascript\">if (window.MathJax && window.MathJax.Hub && window.MathJax.Hub.Config) {window.MathJax.Hub.Config({SVG: {font: \"STIX-Web\"}});}</script>                <script type=\"text/javascript\">window.PlotlyConfig = {MathJaxConfig: 'local'};</script>\n",
              "        <script charset=\"utf-8\" src=\"https://cdn.plot.ly/plotly-2.24.1.min.js\"></script>                <div id=\"c0bfd65f-6f4d-4089-8064-57732dd1d0f9\" class=\"plotly-graph-div\" style=\"height:525px; width:100%;\"></div>            <script type=\"text/javascript\">                                    window.PLOTLYENV=window.PLOTLYENV || {};                                    if (document.getElementById(\"c0bfd65f-6f4d-4089-8064-57732dd1d0f9\")) {                    Plotly.newPlot(                        \"c0bfd65f-6f4d-4089-8064-57732dd1d0f9\",                        [{\"hovertemplate\":\"x=%{x}\\u003cbr\\u003ey=%{y}\\u003cextra\\u003e\\u003c\\u002fextra\\u003e\",\"legendgroup\":\"\",\"marker\":{\"color\":\"#636efa\",\"symbol\":\"circle\"},\"mode\":\"markers\",\"name\":\"\",\"orientation\":\"v\",\"showlegend\":false,\"x\":[1875,3750,7500,15000,30000,60000],\"xaxis\":\"x\",\"y\":[0.8198956560090044,0.7651092918196879,0.3923194348609048,-0.5946907637409163,-1.278363203160766,-1.8070438710581758],\"yaxis\":\"y\",\"type\":\"scatter\"},{\"hovertemplate\":\"\\u003cb\\u003eOLS trendline\\u003c\\u002fb\\u003e\\u003cbr\\u003ey = -4.64256e-05 * x + 0.630208\\u003cbr\\u003eR\\u003csup\\u003e2\\u003c\\u002fsup\\u003e=0.862347\\u003cbr\\u003e\\u003cbr\\u003ex=%{x}\\u003cbr\\u003ey=%{y} \\u003cb\\u003e(trend)\\u003c\\u002fb\\u003e\\u003cextra\\u003e\\u003c\\u002fextra\\u003e\",\"legendgroup\":\"\",\"marker\":{\"color\":\"#636efa\",\"symbol\":\"circle\"},\"mode\":\"lines\",\"name\":\"\",\"showlegend\":false,\"x\":[1875,3750,7500,15000,30000,60000],\"xaxis\":\"x\",\"y\":[0.5431598836267392,0.45611194052093745,0.2820160543093341,-0.06617571811387268,-0.7625592629602862,-2.1553263526531135],\"yaxis\":\"y\",\"type\":\"scatter\"}],                        {\"template\":{\"data\":{\"histogram2dcontour\":[{\"type\":\"histogram2dcontour\",\"colorbar\":{\"outlinewidth\":0,\"ticks\":\"\"},\"colorscale\":[[0.0,\"#0d0887\"],[0.1111111111111111,\"#46039f\"],[0.2222222222222222,\"#7201a8\"],[0.3333333333333333,\"#9c179e\"],[0.4444444444444444,\"#bd3786\"],[0.5555555555555556,\"#d8576b\"],[0.6666666666666666,\"#ed7953\"],[0.7777777777777778,\"#fb9f3a\"],[0.8888888888888888,\"#fdca26\"],[1.0,\"#f0f921\"]]}],\"choropleth\":[{\"type\":\"choropleth\",\"colorbar\":{\"outlinewidth\":0,\"ticks\":\"\"}}],\"histogram2d\":[{\"type\":\"histogram2d\",\"colorbar\":{\"outlinewidth\":0,\"ticks\":\"\"},\"colorscale\":[[0.0,\"#0d0887\"],[0.1111111111111111,\"#46039f\"],[0.2222222222222222,\"#7201a8\"],[0.3333333333333333,\"#9c179e\"],[0.4444444444444444,\"#bd3786\"],[0.5555555555555556,\"#d8576b\"],[0.6666666666666666,\"#ed7953\"],[0.7777777777777778,\"#fb9f3a\"],[0.8888888888888888,\"#fdca26\"],[1.0,\"#f0f921\"]]}],\"heatmap\":[{\"type\":\"heatmap\",\"colorbar\":{\"outlinewidth\":0,\"ticks\":\"\"},\"colorscale\":[[0.0,\"#0d0887\"],[0.1111111111111111,\"#46039f\"],[0.2222222222222222,\"#7201a8\"],[0.3333333333333333,\"#9c179e\"],[0.4444444444444444,\"#bd3786\"],[0.5555555555555556,\"#d8576b\"],[0.6666666666666666,\"#ed7953\"],[0.7777777777777778,\"#fb9f3a\"],[0.8888888888888888,\"#fdca26\"],[1.0,\"#f0f921\"]]}],\"heatmapgl\":[{\"type\":\"heatmapgl\",\"colorbar\":{\"outlinewidth\":0,\"ticks\":\"\"},\"colorscale\":[[0.0,\"#0d0887\"],[0.1111111111111111,\"#46039f\"],[0.2222222222222222,\"#7201a8\"],[0.3333333333333333,\"#9c179e\"],[0.4444444444444444,\"#bd3786\"],[0.5555555555555556,\"#d8576b\"],[0.6666666666666666,\"#ed7953\"],[0.7777777777777778,\"#fb9f3a\"],[0.8888888888888888,\"#fdca26\"],[1.0,\"#f0f921\"]]}],\"contourcarpet\":[{\"type\":\"contourcarpet\",\"colorbar\":{\"outlinewidth\":0,\"ticks\":\"\"}}],\"contour\":[{\"type\":\"contour\",\"colorbar\":{\"outlinewidth\":0,\"ticks\":\"\"},\"colorscale\":[[0.0,\"#0d0887\"],[0.1111111111111111,\"#46039f\"],[0.2222222222222222,\"#7201a8\"],[0.3333333333333333,\"#9c179e\"],[0.4444444444444444,\"#bd3786\"],[0.5555555555555556,\"#d8576b\"],[0.6666666666666666,\"#ed7953\"],[0.7777777777777778,\"#fb9f3a\"],[0.8888888888888888,\"#fdca26\"],[1.0,\"#f0f921\"]]}],\"surface\":[{\"type\":\"surface\",\"colorbar\":{\"outlinewidth\":0,\"ticks\":\"\"},\"colorscale\":[[0.0,\"#0d0887\"],[0.1111111111111111,\"#46039f\"],[0.2222222222222222,\"#7201a8\"],[0.3333333333333333,\"#9c179e\"],[0.4444444444444444,\"#bd3786\"],[0.5555555555555556,\"#d8576b\"],[0.6666666666666666,\"#ed7953\"],[0.7777777777777778,\"#fb9f3a\"],[0.8888888888888888,\"#fdca26\"],[1.0,\"#f0f921\"]]}],\"mesh3d\":[{\"type\":\"mesh3d\",\"colorbar\":{\"outlinewidth\":0,\"ticks\":\"\"}}],\"scatter\":[{\"fillpattern\":{\"fillmode\":\"overlay\",\"size\":10,\"solidity\":0.2},\"type\":\"scatter\"}],\"parcoords\":[{\"type\":\"parcoords\",\"line\":{\"colorbar\":{\"outlinewidth\":0,\"ticks\":\"\"}}}],\"scatterpolargl\":[{\"type\":\"scatterpolargl\",\"marker\":{\"colorbar\":{\"outlinewidth\":0,\"ticks\":\"\"}}}],\"bar\":[{\"error_x\":{\"color\":\"#2a3f5f\"},\"error_y\":{\"color\":\"#2a3f5f\"},\"marker\":{\"line\":{\"color\":\"#E5ECF6\",\"width\":0.5},\"pattern\":{\"fillmode\":\"overlay\",\"size\":10,\"solidity\":0.2}},\"type\":\"bar\"}],\"scattergeo\":[{\"type\":\"scattergeo\",\"marker\":{\"colorbar\":{\"outlinewidth\":0,\"ticks\":\"\"}}}],\"scatterpolar\":[{\"type\":\"scatterpolar\",\"marker\":{\"colorbar\":{\"outlinewidth\":0,\"ticks\":\"\"}}}],\"histogram\":[{\"marker\":{\"pattern\":{\"fillmode\":\"overlay\",\"size\":10,\"solidity\":0.2}},\"type\":\"histogram\"}],\"scattergl\":[{\"type\":\"scattergl\",\"marker\":{\"colorbar\":{\"outlinewidth\":0,\"ticks\":\"\"}}}],\"scatter3d\":[{\"type\":\"scatter3d\",\"line\":{\"colorbar\":{\"outlinewidth\":0,\"ticks\":\"\"}},\"marker\":{\"colorbar\":{\"outlinewidth\":0,\"ticks\":\"\"}}}],\"scattermapbox\":[{\"type\":\"scattermapbox\",\"marker\":{\"colorbar\":{\"outlinewidth\":0,\"ticks\":\"\"}}}],\"scatterternary\":[{\"type\":\"scatterternary\",\"marker\":{\"colorbar\":{\"outlinewidth\":0,\"ticks\":\"\"}}}],\"scattercarpet\":[{\"type\":\"scattercarpet\",\"marker\":{\"colorbar\":{\"outlinewidth\":0,\"ticks\":\"\"}}}],\"carpet\":[{\"aaxis\":{\"endlinecolor\":\"#2a3f5f\",\"gridcolor\":\"white\",\"linecolor\":\"white\",\"minorgridcolor\":\"white\",\"startlinecolor\":\"#2a3f5f\"},\"baxis\":{\"endlinecolor\":\"#2a3f5f\",\"gridcolor\":\"white\",\"linecolor\":\"white\",\"minorgridcolor\":\"white\",\"startlinecolor\":\"#2a3f5f\"},\"type\":\"carpet\"}],\"table\":[{\"cells\":{\"fill\":{\"color\":\"#EBF0F8\"},\"line\":{\"color\":\"white\"}},\"header\":{\"fill\":{\"color\":\"#C8D4E3\"},\"line\":{\"color\":\"white\"}},\"type\":\"table\"}],\"barpolar\":[{\"marker\":{\"line\":{\"color\":\"#E5ECF6\",\"width\":0.5},\"pattern\":{\"fillmode\":\"overlay\",\"size\":10,\"solidity\":0.2}},\"type\":\"barpolar\"}],\"pie\":[{\"automargin\":true,\"type\":\"pie\"}]},\"layout\":{\"autotypenumbers\":\"strict\",\"colorway\":[\"#636efa\",\"#EF553B\",\"#00cc96\",\"#ab63fa\",\"#FFA15A\",\"#19d3f3\",\"#FF6692\",\"#B6E880\",\"#FF97FF\",\"#FECB52\"],\"font\":{\"color\":\"#2a3f5f\"},\"hovermode\":\"closest\",\"hoverlabel\":{\"align\":\"left\"},\"paper_bgcolor\":\"white\",\"plot_bgcolor\":\"#E5ECF6\",\"polar\":{\"bgcolor\":\"#E5ECF6\",\"angularaxis\":{\"gridcolor\":\"white\",\"linecolor\":\"white\",\"ticks\":\"\"},\"radialaxis\":{\"gridcolor\":\"white\",\"linecolor\":\"white\",\"ticks\":\"\"}},\"ternary\":{\"bgcolor\":\"#E5ECF6\",\"aaxis\":{\"gridcolor\":\"white\",\"linecolor\":\"white\",\"ticks\":\"\"},\"baxis\":{\"gridcolor\":\"white\",\"linecolor\":\"white\",\"ticks\":\"\"},\"caxis\":{\"gridcolor\":\"white\",\"linecolor\":\"white\",\"ticks\":\"\"}},\"coloraxis\":{\"colorbar\":{\"outlinewidth\":0,\"ticks\":\"\"}},\"colorscale\":{\"sequential\":[[0.0,\"#0d0887\"],[0.1111111111111111,\"#46039f\"],[0.2222222222222222,\"#7201a8\"],[0.3333333333333333,\"#9c179e\"],[0.4444444444444444,\"#bd3786\"],[0.5555555555555556,\"#d8576b\"],[0.6666666666666666,\"#ed7953\"],[0.7777777777777778,\"#fb9f3a\"],[0.8888888888888888,\"#fdca26\"],[1.0,\"#f0f921\"]],\"sequentialminus\":[[0.0,\"#0d0887\"],[0.1111111111111111,\"#46039f\"],[0.2222222222222222,\"#7201a8\"],[0.3333333333333333,\"#9c179e\"],[0.4444444444444444,\"#bd3786\"],[0.5555555555555556,\"#d8576b\"],[0.6666666666666666,\"#ed7953\"],[0.7777777777777778,\"#fb9f3a\"],[0.8888888888888888,\"#fdca26\"],[1.0,\"#f0f921\"]],\"diverging\":[[0,\"#8e0152\"],[0.1,\"#c51b7d\"],[0.2,\"#de77ae\"],[0.3,\"#f1b6da\"],[0.4,\"#fde0ef\"],[0.5,\"#f7f7f7\"],[0.6,\"#e6f5d0\"],[0.7,\"#b8e186\"],[0.8,\"#7fbc41\"],[0.9,\"#4d9221\"],[1,\"#276419\"]]},\"xaxis\":{\"gridcolor\":\"white\",\"linecolor\":\"white\",\"ticks\":\"\",\"title\":{\"standoff\":15},\"zerolinecolor\":\"white\",\"automargin\":true,\"zerolinewidth\":2},\"yaxis\":{\"gridcolor\":\"white\",\"linecolor\":\"white\",\"ticks\":\"\",\"title\":{\"standoff\":15},\"zerolinecolor\":\"white\",\"automargin\":true,\"zerolinewidth\":2},\"scene\":{\"xaxis\":{\"backgroundcolor\":\"#E5ECF6\",\"gridcolor\":\"white\",\"linecolor\":\"white\",\"showbackground\":true,\"ticks\":\"\",\"zerolinecolor\":\"white\",\"gridwidth\":2},\"yaxis\":{\"backgroundcolor\":\"#E5ECF6\",\"gridcolor\":\"white\",\"linecolor\":\"white\",\"showbackground\":true,\"ticks\":\"\",\"zerolinecolor\":\"white\",\"gridwidth\":2},\"zaxis\":{\"backgroundcolor\":\"#E5ECF6\",\"gridcolor\":\"white\",\"linecolor\":\"white\",\"showbackground\":true,\"ticks\":\"\",\"zerolinecolor\":\"white\",\"gridwidth\":2}},\"shapedefaults\":{\"line\":{\"color\":\"#2a3f5f\"}},\"annotationdefaults\":{\"arrowcolor\":\"#2a3f5f\",\"arrowhead\":0,\"arrowwidth\":1},\"geo\":{\"bgcolor\":\"white\",\"landcolor\":\"#E5ECF6\",\"subunitcolor\":\"white\",\"showland\":true,\"showlakes\":true,\"lakecolor\":\"white\"},\"title\":{\"x\":0.05},\"mapbox\":{\"style\":\"light\"}}},\"xaxis\":{\"anchor\":\"y\",\"domain\":[0.0,1.0],\"title\":{\"text\":\"x\"}},\"yaxis\":{\"anchor\":\"x\",\"domain\":[0.0,1.0],\"title\":{\"text\":\"y\"}},\"legend\":{\"tracegroupgap\":0},\"title\":{\"text\":\"Datasize Effect on Log Test Losses\"}},                        {\"responsive\": true}                    ).then(function(){\n",
              "                            \n",
              "var gd = document.getElementById('c0bfd65f-6f4d-4089-8064-57732dd1d0f9');\n",
              "var x = new MutationObserver(function (mutations, observer) {{\n",
              "        var display = window.getComputedStyle(gd).display;\n",
              "        if (!display || display === 'none') {{\n",
              "            console.log([gd, 'removed!']);\n",
              "            Plotly.purge(gd);\n",
              "            observer.disconnect();\n",
              "        }}\n",
              "}});\n",
              "\n",
              "// Listen for the removal of the full notebook cells\n",
              "var notebookContainer = gd.closest('#notebook-container');\n",
              "if (notebookContainer) {{\n",
              "    x.observe(notebookContainer, {childList: true});\n",
              "}}\n",
              "\n",
              "// Listen for the clearing of the current output cell\n",
              "var outputEl = gd.closest('.output');\n",
              "if (outputEl) {{\n",
              "    x.observe(outputEl, {childList: true});\n",
              "}}\n",
              "\n",
              "                        })                };                            </script>        </div>\n",
              "</body>\n",
              "</html>"
            ]
          },
          "metadata": {}
        }
      ]
    },
    {
      "cell_type": "markdown",
      "source": [
        "### Model Size"
      ],
      "metadata": {
        "id": "8LF1L8Hq_akE"
      }
    },
    {
      "cell_type": "code",
      "source": [
        "test_losses_NandD = {k:[] for k in range(len(train_dataloaders))}\n",
        "test_acc_NandD = {k:[] for k in range(len(train_dataloaders))}\n",
        "N_params = []\n",
        "\n",
        "# training\n",
        "max_epochs = 1\n",
        "loss = nn.CrossEntropyLoss()\n",
        "n_models = 6\n",
        "n_reps = 5\n",
        "\n",
        "# run for each dataset size\n",
        "for i, dlr in enumerate(train_dataloaders):\n",
        "\n",
        "  # arch\n",
        "  convdepth = 2\n",
        "  ks = [3, 3]\n",
        "  nchan = [4, 4]\n",
        "  nhid1 = 32\n",
        "  nhid2 = 32\n",
        "\n",
        "  for j in range(n_models):\n",
        "    running_test_loss = 0\n",
        "    running_test_acc = 0\n",
        "    for r in range(n_reps):\n",
        "      # create configs\n",
        "      cfg = Config(ks=ks,\n",
        "                  mp=2,\n",
        "                  nchan=nchan,\n",
        "                  convdepth=convdepth,\n",
        "                  nhid1=nhid1,\n",
        "                  nhid2=nhid2,\n",
        "                  drop=0.2)\n",
        "\n",
        "      # create model and instantiate optimizer\n",
        "      cnn = CNN(cfg)\n",
        "      N = count_parameters(cnn)\n",
        "      N_params.append(N)\n",
        "      lr = 0.003239  + ((-0.0001395) * np.log(N))\n",
        "      print('MODEL', j, 'PARAMETER COUNT:', N)\n",
        "      optm = torch.optim.Adam(cnn.parameters(), lr=lr)\n",
        "      # train and evaluate\n",
        "      print(f'########### START DLR {i} MODEL {j} REP {r} ###########')\n",
        "      for e in range(max_epochs):\n",
        "        train_loss, train_acc = train(cnn, dlr, loss, optm)\n",
        "        train_losses.append(train_loss)\n",
        "      print('EVALUATING')\n",
        "      test_loss, test_acc = evaluate(cnn, test_dlr, loss)\n",
        "      running_test_loss += test_loss\n",
        "      running_test_acc += test_acc\n",
        "      print(f'############ END DLR {i} MODEL {j} REP {r} ############')\n",
        "      print('\\n')\n",
        "\n",
        "    test_losses_NandD[i].append(running_test_loss/n_reps)\n",
        "    test_acc_NandD[i].append(running_test_acc/n_reps)\n",
        "\n",
        "    # change arch params\n",
        "    nchan = [round(np.sqrt(2)*m) for m in nchan]\n",
        "    nhid1 = round(np.sqrt(2)*nhid1)\n",
        "    nhid2 = round(np.sqrt(2)*nhid2)"
      ],
      "metadata": {
        "colab": {
          "base_uri": "https://localhost:8080/"
        },
        "id": "f-vtLsLi_I09",
        "outputId": "8a6556bb-2fa7-4bb0-fdf3-a8235fcb0de3"
      },
      "execution_count": 39,
      "outputs": [
        {
          "output_type": "stream",
          "name": "stdout",
          "text": [
            "MODEL 0 PARAMETER COUNT: 9798\n",
            "########### START DLR 0 MODEL 0 REP 0 ###########\n"
          ]
        },
        {
          "output_type": "stream",
          "name": "stderr",
          "text": [
            "  0%|          | 0/30 [00:00<?, ?it/s]/usr/local/lib/python3.10/dist-packages/torch/nn/modules/conv.py:456: UserWarning:\n",
            "\n",
            "Plan failed with a cudnnException: CUDNN_BACKEND_EXECUTION_PLAN_DESCRIPTOR: cudnnFinalize Descriptor Failed cudnn_status: CUDNN_STATUS_NOT_SUPPORTED (Triggered internally at ../aten/src/ATen/native/cudnn/Conv_v8.cpp:919.)\n",
            "\n",
            " 97%|█████████▋| 29/30 [00:01<00:00, 26.16it/s]/usr/local/lib/python3.10/dist-packages/torch/nn/modules/conv.py:456: UserWarning:\n",
            "\n",
            "Plan failed with a cudnnException: CUDNN_BACKEND_EXECUTION_PLAN_DESCRIPTOR: cudnnFinalize Descriptor Failed cudnn_status: CUDNN_STATUS_NOT_SUPPORTED (Triggered internally at ../aten/src/ATen/native/cudnn/Conv_v8.cpp:919.)\n",
            "\n",
            "100%|██████████| 30/30 [00:01<00:00, 20.90it/s]\n"
          ]
        },
        {
          "output_type": "stream",
          "name": "stdout",
          "text": [
            "Finished Batch: \n",
            "Training Loss:  2.277295724550883 Training Av. Accuracy:  0.1531798245614035\n",
            "EVALUATING\n"
          ]
        },
        {
          "output_type": "stream",
          "name": "stderr",
          "text": [
            " 96%|█████████▌| 150/157 [00:03<00:00, 63.52it/s]/usr/local/lib/python3.10/dist-packages/torch/nn/modules/conv.py:456: UserWarning:\n",
            "\n",
            "Plan failed with a cudnnException: CUDNN_BACKEND_EXECUTION_PLAN_DESCRIPTOR: cudnnFinalize Descriptor Failed cudnn_status: CUDNN_STATUS_NOT_SUPPORTED (Triggered internally at ../aten/src/ATen/native/cudnn/Conv_v8.cpp:919.)\n",
            "\n",
            "100%|██████████| 157/157 [00:03<00:00, 43.05it/s]\n"
          ]
        },
        {
          "output_type": "stream",
          "name": "stdout",
          "text": [
            "Validation Loss:  2.2153162895494205 Validation Av. Accuracy:  0.234375\n",
            "############ END DLR 0 MODEL 0 REP 0 ############\n",
            "\n",
            "\n",
            "MODEL 0 PARAMETER COUNT: 9798\n",
            "########### START DLR 0 MODEL 0 REP 1 ###########\n"
          ]
        },
        {
          "output_type": "stream",
          "name": "stderr",
          "text": [
            "100%|██████████| 30/30 [00:00<00:00, 55.08it/s]\n"
          ]
        },
        {
          "output_type": "stream",
          "name": "stdout",
          "text": [
            "Finished Batch: \n",
            "Training Loss:  2.27372678120931 Training Av. Accuracy:  0.13371710526315791\n",
            "EVALUATING\n"
          ]
        },
        {
          "output_type": "stream",
          "name": "stderr",
          "text": [
            "100%|██████████| 157/157 [00:03<00:00, 49.66it/s]\n"
          ]
        },
        {
          "output_type": "stream",
          "name": "stdout",
          "text": [
            "Validation Loss:  2.1869742095850078 Validation Av. Accuracy:  0.2890127388535032\n",
            "############ END DLR 0 MODEL 0 REP 1 ############\n",
            "\n",
            "\n",
            "MODEL 0 PARAMETER COUNT: 9798\n",
            "########### START DLR 0 MODEL 0 REP 2 ###########\n"
          ]
        },
        {
          "output_type": "stream",
          "name": "stderr",
          "text": [
            "100%|██████████| 30/30 [00:00<00:00, 41.79it/s]\n"
          ]
        },
        {
          "output_type": "stream",
          "name": "stdout",
          "text": [
            "Finished Batch: \n",
            "Training Loss:  2.294169282913208 Training Av. Accuracy:  0.12069627192982456\n",
            "EVALUATING\n"
          ]
        },
        {
          "output_type": "stream",
          "name": "stderr",
          "text": [
            "100%|██████████| 157/157 [00:02<00:00, 65.80it/s]\n"
          ]
        },
        {
          "output_type": "stream",
          "name": "stdout",
          "text": [
            "Validation Loss:  2.2549816878737916 Validation Av. Accuracy:  0.28423566878980894\n",
            "############ END DLR 0 MODEL 0 REP 2 ############\n",
            "\n",
            "\n",
            "MODEL 0 PARAMETER COUNT: 9798\n",
            "########### START DLR 0 MODEL 0 REP 3 ###########\n"
          ]
        },
        {
          "output_type": "stream",
          "name": "stderr",
          "text": [
            "100%|██████████| 30/30 [00:00<00:00, 57.33it/s]\n"
          ]
        },
        {
          "output_type": "stream",
          "name": "stdout",
          "text": [
            "Finished Batch: \n",
            "Training Loss:  2.2952326854070026 Training Av. Accuracy:  0.11288377192982456\n",
            "EVALUATING\n"
          ]
        },
        {
          "output_type": "stream",
          "name": "stderr",
          "text": [
            "100%|██████████| 157/157 [00:02<00:00, 64.43it/s]\n"
          ]
        },
        {
          "output_type": "stream",
          "name": "stdout",
          "text": [
            "Validation Loss:  2.242496578556717 Validation Av. Accuracy:  0.24004777070063693\n",
            "############ END DLR 0 MODEL 0 REP 3 ############\n",
            "\n",
            "\n",
            "MODEL 0 PARAMETER COUNT: 9798\n",
            "########### START DLR 0 MODEL 0 REP 4 ###########\n"
          ]
        },
        {
          "output_type": "stream",
          "name": "stderr",
          "text": [
            "100%|██████████| 30/30 [00:00<00:00, 57.38it/s]\n"
          ]
        },
        {
          "output_type": "stream",
          "name": "stdout",
          "text": [
            "Finished Batch: \n",
            "Training Loss:  2.2746430158615114 Training Av. Accuracy:  0.13950109649122808\n",
            "EVALUATING\n"
          ]
        },
        {
          "output_type": "stream",
          "name": "stderr",
          "text": [
            "100%|██████████| 157/157 [00:02<00:00, 63.54it/s]\n"
          ]
        },
        {
          "output_type": "stream",
          "name": "stdout",
          "text": [
            "Validation Loss:  2.1766148205775364 Validation Av. Accuracy:  0.34623805732484075\n",
            "############ END DLR 0 MODEL 0 REP 4 ############\n",
            "\n",
            "\n",
            "MODEL 1 PARAMETER COUNT: 20245\n",
            "########### START DLR 0 MODEL 1 REP 0 ###########\n"
          ]
        },
        {
          "output_type": "stream",
          "name": "stderr",
          "text": [
            "100%|██████████| 30/30 [00:00<00:00, 57.77it/s]\n"
          ]
        },
        {
          "output_type": "stream",
          "name": "stdout",
          "text": [
            "Finished Batch: \n",
            "Training Loss:  2.2836992422739666 Training Av. Accuracy:  0.12746710526315788\n",
            "EVALUATING\n"
          ]
        },
        {
          "output_type": "stream",
          "name": "stderr",
          "text": [
            "100%|██████████| 157/157 [00:03<00:00, 48.37it/s]\n"
          ]
        },
        {
          "output_type": "stream",
          "name": "stdout",
          "text": [
            "Validation Loss:  2.224778015902088 Validation Av. Accuracy:  0.1292794585987261\n",
            "############ END DLR 0 MODEL 1 REP 0 ############\n",
            "\n",
            "\n",
            "MODEL 1 PARAMETER COUNT: 20245\n",
            "########### START DLR 0 MODEL 1 REP 1 ###########\n"
          ]
        },
        {
          "output_type": "stream",
          "name": "stderr",
          "text": [
            "100%|██████████| 30/30 [00:00<00:00, 41.99it/s]\n"
          ]
        },
        {
          "output_type": "stream",
          "name": "stdout",
          "text": [
            "Finished Batch: \n",
            "Training Loss:  2.2673384745915732 Training Av. Accuracy:  0.15635964912280703\n",
            "EVALUATING\n"
          ]
        },
        {
          "output_type": "stream",
          "name": "stderr",
          "text": [
            "100%|██████████| 157/157 [00:03<00:00, 42.67it/s]\n"
          ]
        },
        {
          "output_type": "stream",
          "name": "stdout",
          "text": [
            "Validation Loss:  2.138112599682656 Validation Av. Accuracy:  0.3791799363057325\n",
            "############ END DLR 0 MODEL 1 REP 1 ############\n",
            "\n",
            "\n",
            "MODEL 1 PARAMETER COUNT: 20245\n",
            "########### START DLR 0 MODEL 1 REP 2 ###########\n"
          ]
        },
        {
          "output_type": "stream",
          "name": "stderr",
          "text": [
            "100%|██████████| 30/30 [00:01<00:00, 28.61it/s]\n"
          ]
        },
        {
          "output_type": "stream",
          "name": "stdout",
          "text": [
            "Finished Batch: \n",
            "Training Loss:  2.2426329851150513 Training Av. Accuracy:  0.19679276315789476\n",
            "EVALUATING\n"
          ]
        },
        {
          "output_type": "stream",
          "name": "stderr",
          "text": [
            "100%|██████████| 157/157 [00:03<00:00, 50.89it/s]\n"
          ]
        },
        {
          "output_type": "stream",
          "name": "stdout",
          "text": [
            "Validation Loss:  2.0108152172368046 Validation Av. Accuracy:  0.491640127388535\n",
            "############ END DLR 0 MODEL 1 REP 2 ############\n",
            "\n",
            "\n",
            "MODEL 1 PARAMETER COUNT: 20245\n",
            "########### START DLR 0 MODEL 1 REP 3 ###########\n"
          ]
        },
        {
          "output_type": "stream",
          "name": "stderr",
          "text": [
            "100%|██████████| 30/30 [00:00<00:00, 40.47it/s]\n"
          ]
        },
        {
          "output_type": "stream",
          "name": "stdout",
          "text": [
            "Finished Batch: \n",
            "Training Loss:  2.2592432816823322 Training Av. Accuracy:  0.16885964912280702\n",
            "EVALUATING\n"
          ]
        },
        {
          "output_type": "stream",
          "name": "stderr",
          "text": [
            "100%|██████████| 157/157 [00:05<00:00, 26.81it/s]\n"
          ]
        },
        {
          "output_type": "stream",
          "name": "stdout",
          "text": [
            "Validation Loss:  2.111968028317591 Validation Av. Accuracy:  0.276671974522293\n",
            "############ END DLR 0 MODEL 1 REP 3 ############\n",
            "\n",
            "\n",
            "MODEL 1 PARAMETER COUNT: 20245\n",
            "########### START DLR 0 MODEL 1 REP 4 ###########\n"
          ]
        },
        {
          "output_type": "stream",
          "name": "stderr",
          "text": [
            "100%|██████████| 30/30 [00:01<00:00, 19.03it/s]\n"
          ]
        },
        {
          "output_type": "stream",
          "name": "stdout",
          "text": [
            "Finished Batch: \n",
            "Training Loss:  2.28643684387207 Training Av. Accuracy:  0.13793859649122808\n",
            "EVALUATING\n"
          ]
        },
        {
          "output_type": "stream",
          "name": "stderr",
          "text": [
            "100%|██████████| 157/157 [00:05<00:00, 26.39it/s]\n"
          ]
        },
        {
          "output_type": "stream",
          "name": "stdout",
          "text": [
            "Validation Loss:  2.2079232361665957 Validation Av. Accuracy:  0.23686305732484075\n",
            "############ END DLR 0 MODEL 1 REP 4 ############\n",
            "\n",
            "\n",
            "MODEL 2 PARAMETER COUNT: 38306\n",
            "########### START DLR 0 MODEL 2 REP 0 ###########\n"
          ]
        },
        {
          "output_type": "stream",
          "name": "stderr",
          "text": [
            "100%|██████████| 30/30 [00:01<00:00, 26.53it/s]\n"
          ]
        },
        {
          "output_type": "stream",
          "name": "stdout",
          "text": [
            "Finished Batch: \n",
            "Training Loss:  2.1903480847676593 Training Av. Accuracy:  0.19007675438596489\n",
            "EVALUATING\n"
          ]
        },
        {
          "output_type": "stream",
          "name": "stderr",
          "text": [
            "100%|██████████| 157/157 [00:06<00:00, 23.57it/s]\n"
          ]
        },
        {
          "output_type": "stream",
          "name": "stdout",
          "text": [
            "Validation Loss:  1.801441263241373 Validation Av. Accuracy:  0.49601910828025475\n",
            "############ END DLR 0 MODEL 2 REP 0 ############\n",
            "\n",
            "\n",
            "MODEL 2 PARAMETER COUNT: 38306\n",
            "########### START DLR 0 MODEL 2 REP 1 ###########\n"
          ]
        },
        {
          "output_type": "stream",
          "name": "stderr",
          "text": [
            "100%|██████████| 30/30 [00:00<00:00, 30.39it/s]\n"
          ]
        },
        {
          "output_type": "stream",
          "name": "stdout",
          "text": [
            "Finished Batch: \n",
            "Training Loss:  2.2372943719228107 Training Av. Accuracy:  0.1918311403508772\n",
            "EVALUATING\n"
          ]
        },
        {
          "output_type": "stream",
          "name": "stderr",
          "text": [
            "100%|██████████| 157/157 [00:04<00:00, 32.33it/s]\n"
          ]
        },
        {
          "output_type": "stream",
          "name": "stdout",
          "text": [
            "Validation Loss:  1.9817900809512776 Validation Av. Accuracy:  0.3987858280254777\n",
            "############ END DLR 0 MODEL 2 REP 1 ############\n",
            "\n",
            "\n",
            "MODEL 2 PARAMETER COUNT: 38306\n",
            "########### START DLR 0 MODEL 2 REP 2 ###########\n"
          ]
        },
        {
          "output_type": "stream",
          "name": "stderr",
          "text": [
            "100%|██████████| 30/30 [00:01<00:00, 29.02it/s]\n"
          ]
        },
        {
          "output_type": "stream",
          "name": "stdout",
          "text": [
            "Finished Batch: \n",
            "Training Loss:  2.225992782910665 Training Av. Accuracy:  0.2087171052631579\n",
            "EVALUATING\n"
          ]
        },
        {
          "output_type": "stream",
          "name": "stderr",
          "text": [
            "100%|██████████| 157/157 [00:06<00:00, 24.07it/s]\n"
          ]
        },
        {
          "output_type": "stream",
          "name": "stdout",
          "text": [
            "Validation Loss:  1.913818953902858 Validation Av. Accuracy:  0.40346337579617836\n",
            "############ END DLR 0 MODEL 2 REP 2 ############\n",
            "\n",
            "\n",
            "MODEL 2 PARAMETER COUNT: 38306\n",
            "########### START DLR 0 MODEL 2 REP 3 ###########\n"
          ]
        },
        {
          "output_type": "stream",
          "name": "stderr",
          "text": [
            "100%|██████████| 30/30 [00:00<00:00, 30.92it/s]\n"
          ]
        },
        {
          "output_type": "stream",
          "name": "stdout",
          "text": [
            "Finished Batch: \n",
            "Training Loss:  2.2954623460769654 Training Av. Accuracy:  0.12524671052631578\n",
            "EVALUATING\n"
          ]
        },
        {
          "output_type": "stream",
          "name": "stderr",
          "text": [
            "100%|██████████| 157/157 [00:03<00:00, 45.19it/s]\n"
          ]
        },
        {
          "output_type": "stream",
          "name": "stdout",
          "text": [
            "Validation Loss:  2.2539975992433585 Validation Av. Accuracy:  0.26005175159235666\n",
            "############ END DLR 0 MODEL 2 REP 3 ############\n",
            "\n",
            "\n",
            "MODEL 2 PARAMETER COUNT: 38306\n",
            "########### START DLR 0 MODEL 2 REP 4 ###########\n"
          ]
        },
        {
          "output_type": "stream",
          "name": "stderr",
          "text": [
            "100%|██████████| 30/30 [00:00<00:00, 59.93it/s]\n"
          ]
        },
        {
          "output_type": "stream",
          "name": "stdout",
          "text": [
            "Finished Batch: \n",
            "Training Loss:  2.1492430329322816 Training Av. Accuracy:  0.2574013157894737\n",
            "EVALUATING\n"
          ]
        },
        {
          "output_type": "stream",
          "name": "stderr",
          "text": [
            "100%|██████████| 157/157 [00:02<00:00, 66.99it/s]\n"
          ]
        },
        {
          "output_type": "stream",
          "name": "stdout",
          "text": [
            "Validation Loss:  1.6725201758609456 Validation Av. Accuracy:  0.46914808917197454\n",
            "############ END DLR 0 MODEL 2 REP 4 ############\n",
            "\n",
            "\n",
            "MODEL 3 PARAMETER COUNT: 74657\n",
            "########### START DLR 0 MODEL 3 REP 0 ###########\n"
          ]
        },
        {
          "output_type": "stream",
          "name": "stderr",
          "text": [
            "100%|██████████| 30/30 [00:00<00:00, 41.24it/s]\n"
          ]
        },
        {
          "output_type": "stream",
          "name": "stdout",
          "text": [
            "Finished Batch: \n",
            "Training Loss:  2.2520427385965984 Training Av. Accuracy:  0.17861842105263157\n",
            "EVALUATING\n"
          ]
        },
        {
          "output_type": "stream",
          "name": "stderr",
          "text": [
            "100%|██████████| 157/157 [00:03<00:00, 50.00it/s]\n"
          ]
        },
        {
          "output_type": "stream",
          "name": "stdout",
          "text": [
            "Validation Loss:  2.0255474512744103 Validation Av. Accuracy:  0.42207404458598724\n",
            "############ END DLR 0 MODEL 3 REP 0 ############\n",
            "\n",
            "\n",
            "MODEL 3 PARAMETER COUNT: 74657\n",
            "########### START DLR 0 MODEL 3 REP 1 ###########\n"
          ]
        },
        {
          "output_type": "stream",
          "name": "stderr",
          "text": [
            "100%|██████████| 30/30 [00:00<00:00, 60.02it/s]\n"
          ]
        },
        {
          "output_type": "stream",
          "name": "stdout",
          "text": [
            "Finished Batch: \n",
            "Training Loss:  2.049448581536611 Training Av. Accuracy:  0.30082236842105264\n",
            "EVALUATING\n"
          ]
        },
        {
          "output_type": "stream",
          "name": "stderr",
          "text": [
            "100%|██████████| 157/157 [00:02<00:00, 65.96it/s]\n"
          ]
        },
        {
          "output_type": "stream",
          "name": "stdout",
          "text": [
            "Validation Loss:  1.3479863853211616 Validation Av. Accuracy:  0.5529458598726115\n",
            "############ END DLR 0 MODEL 3 REP 1 ############\n",
            "\n",
            "\n",
            "MODEL 3 PARAMETER COUNT: 74657\n",
            "########### START DLR 0 MODEL 3 REP 2 ###########\n"
          ]
        },
        {
          "output_type": "stream",
          "name": "stderr",
          "text": [
            "100%|██████████| 30/30 [00:00<00:00, 58.01it/s]\n"
          ]
        },
        {
          "output_type": "stream",
          "name": "stdout",
          "text": [
            "Finished Batch: \n",
            "Training Loss:  2.161609435081482 Training Av. Accuracy:  0.2362938596491228\n",
            "EVALUATING\n"
          ]
        },
        {
          "output_type": "stream",
          "name": "stderr",
          "text": [
            "100%|██████████| 157/157 [00:02<00:00, 65.10it/s]\n"
          ]
        },
        {
          "output_type": "stream",
          "name": "stdout",
          "text": [
            "Validation Loss:  1.569064538949614 Validation Av. Accuracy:  0.5503582802547771\n",
            "############ END DLR 0 MODEL 3 REP 2 ############\n",
            "\n",
            "\n",
            "MODEL 3 PARAMETER COUNT: 74657\n",
            "########### START DLR 0 MODEL 3 REP 3 ###########\n"
          ]
        },
        {
          "output_type": "stream",
          "name": "stderr",
          "text": [
            "100%|██████████| 30/30 [00:00<00:00, 58.98it/s]\n"
          ]
        },
        {
          "output_type": "stream",
          "name": "stdout",
          "text": [
            "Finished Batch: \n",
            "Training Loss:  2.1860958417256673 Training Av. Accuracy:  0.2402686403508772\n",
            "EVALUATING\n"
          ]
        },
        {
          "output_type": "stream",
          "name": "stderr",
          "text": [
            "100%|██████████| 157/157 [00:02<00:00, 65.45it/s]\n"
          ]
        },
        {
          "output_type": "stream",
          "name": "stdout",
          "text": [
            "Validation Loss:  1.7331977642265854 Validation Av. Accuracy:  0.4994028662420382\n",
            "############ END DLR 0 MODEL 3 REP 3 ############\n",
            "\n",
            "\n",
            "MODEL 3 PARAMETER COUNT: 74657\n",
            "########### START DLR 0 MODEL 3 REP 4 ###########\n"
          ]
        },
        {
          "output_type": "stream",
          "name": "stderr",
          "text": [
            "100%|██████████| 30/30 [00:00<00:00, 56.46it/s]\n"
          ]
        },
        {
          "output_type": "stream",
          "name": "stdout",
          "text": [
            "Finished Batch: \n",
            "Training Loss:  2.101046403249105 Training Av. Accuracy:  0.28486842105263155\n",
            "EVALUATING\n"
          ]
        },
        {
          "output_type": "stream",
          "name": "stderr",
          "text": [
            "100%|██████████| 157/157 [00:03<00:00, 46.10it/s]\n"
          ]
        },
        {
          "output_type": "stream",
          "name": "stdout",
          "text": [
            "Validation Loss:  1.3980267647725002 Validation Av. Accuracy:  0.6188296178343949\n",
            "############ END DLR 0 MODEL 3 REP 4 ############\n",
            "\n",
            "\n",
            "MODEL 4 PARAMETER COUNT: 152775\n",
            "########### START DLR 0 MODEL 4 REP 0 ###########\n"
          ]
        },
        {
          "output_type": "stream",
          "name": "stderr",
          "text": [
            "100%|██████████| 30/30 [00:00<00:00, 57.90it/s]\n"
          ]
        },
        {
          "output_type": "stream",
          "name": "stdout",
          "text": [
            "Finished Batch: \n",
            "Training Loss:  2.2177198052406313 Training Av. Accuracy:  0.18969298245614036\n",
            "EVALUATING\n"
          ]
        },
        {
          "output_type": "stream",
          "name": "stderr",
          "text": [
            "100%|██████████| 157/157 [00:02<00:00, 65.69it/s]\n"
          ]
        },
        {
          "output_type": "stream",
          "name": "stdout",
          "text": [
            "Validation Loss:  1.8133720060822311 Validation Av. Accuracy:  0.415406050955414\n",
            "############ END DLR 0 MODEL 4 REP 0 ############\n",
            "\n",
            "\n",
            "MODEL 4 PARAMETER COUNT: 152775\n",
            "########### START DLR 0 MODEL 4 REP 1 ###########\n"
          ]
        },
        {
          "output_type": "stream",
          "name": "stderr",
          "text": [
            "100%|██████████| 30/30 [00:00<00:00, 56.65it/s]\n"
          ]
        },
        {
          "output_type": "stream",
          "name": "stdout",
          "text": [
            "Finished Batch: \n",
            "Training Loss:  2.1229438900947573 Training Av. Accuracy:  0.23884320175438595\n",
            "EVALUATING\n"
          ]
        },
        {
          "output_type": "stream",
          "name": "stderr",
          "text": [
            "100%|██████████| 157/157 [00:02<00:00, 60.80it/s]\n"
          ]
        },
        {
          "output_type": "stream",
          "name": "stdout",
          "text": [
            "Validation Loss:  1.5375437584652263 Validation Av. Accuracy:  0.5073646496815286\n",
            "############ END DLR 0 MODEL 4 REP 1 ############\n",
            "\n",
            "\n",
            "MODEL 4 PARAMETER COUNT: 152775\n",
            "########### START DLR 0 MODEL 4 REP 2 ###########\n"
          ]
        },
        {
          "output_type": "stream",
          "name": "stderr",
          "text": [
            "100%|██████████| 30/30 [00:00<00:00, 58.30it/s]\n"
          ]
        },
        {
          "output_type": "stream",
          "name": "stdout",
          "text": [
            "Finished Batch: \n",
            "Training Loss:  2.0841930230458576 Training Av. Accuracy:  0.26214364035087717\n",
            "EVALUATING\n"
          ]
        },
        {
          "output_type": "stream",
          "name": "stderr",
          "text": [
            "100%|██████████| 157/157 [00:02<00:00, 65.28it/s]\n"
          ]
        },
        {
          "output_type": "stream",
          "name": "stdout",
          "text": [
            "Validation Loss:  1.2930990700509137 Validation Av. Accuracy:  0.6068869426751592\n",
            "############ END DLR 0 MODEL 4 REP 2 ############\n",
            "\n",
            "\n",
            "MODEL 4 PARAMETER COUNT: 152775\n",
            "########### START DLR 0 MODEL 4 REP 3 ###########\n"
          ]
        },
        {
          "output_type": "stream",
          "name": "stderr",
          "text": [
            "100%|██████████| 30/30 [00:00<00:00, 59.29it/s]\n"
          ]
        },
        {
          "output_type": "stream",
          "name": "stdout",
          "text": [
            "Finished Batch: \n",
            "Training Loss:  2.0257007161776226 Training Av. Accuracy:  0.2903234649122807\n",
            "EVALUATING\n"
          ]
        },
        {
          "output_type": "stream",
          "name": "stderr",
          "text": [
            "100%|██████████| 157/157 [00:04<00:00, 37.67it/s]\n"
          ]
        },
        {
          "output_type": "stream",
          "name": "stdout",
          "text": [
            "Validation Loss:  1.225009621328609 Validation Av. Accuracy:  0.6502786624203821\n",
            "############ END DLR 0 MODEL 4 REP 3 ############\n",
            "\n",
            "\n",
            "MODEL 4 PARAMETER COUNT: 152775\n",
            "########### START DLR 0 MODEL 4 REP 4 ###########\n"
          ]
        },
        {
          "output_type": "stream",
          "name": "stderr",
          "text": [
            "100%|██████████| 30/30 [00:00<00:00, 56.25it/s]\n"
          ]
        },
        {
          "output_type": "stream",
          "name": "stdout",
          "text": [
            "Finished Batch: \n",
            "Training Loss:  2.14367706378301 Training Av. Accuracy:  0.2506853070175439\n",
            "EVALUATING\n"
          ]
        },
        {
          "output_type": "stream",
          "name": "stderr",
          "text": [
            "100%|██████████| 157/157 [00:02<00:00, 64.64it/s]\n"
          ]
        },
        {
          "output_type": "stream",
          "name": "stdout",
          "text": [
            "Validation Loss:  1.4401306931380253 Validation Av. Accuracy:  0.6014132165605095\n",
            "############ END DLR 0 MODEL 4 REP 4 ############\n",
            "\n",
            "\n",
            "MODEL 5 PARAMETER COUNT: 308236\n",
            "########### START DLR 0 MODEL 5 REP 0 ###########\n"
          ]
        },
        {
          "output_type": "stream",
          "name": "stderr",
          "text": [
            "100%|██████████| 30/30 [00:00<00:00, 52.07it/s]\n"
          ]
        },
        {
          "output_type": "stream",
          "name": "stdout",
          "text": [
            "Finished Batch: \n",
            "Training Loss:  2.000023857752482 Training Av. Accuracy:  0.30191885964912285\n",
            "EVALUATING\n"
          ]
        },
        {
          "output_type": "stream",
          "name": "stderr",
          "text": [
            "100%|██████████| 157/157 [00:02<00:00, 62.53it/s]\n"
          ]
        },
        {
          "output_type": "stream",
          "name": "stdout",
          "text": [
            "Validation Loss:  1.1863090171935453 Validation Av. Accuracy:  0.6006170382165605\n",
            "############ END DLR 0 MODEL 5 REP 0 ############\n",
            "\n",
            "\n",
            "MODEL 5 PARAMETER COUNT: 308236\n",
            "########### START DLR 0 MODEL 5 REP 1 ###########\n"
          ]
        },
        {
          "output_type": "stream",
          "name": "stderr",
          "text": [
            "100%|██████████| 30/30 [00:00<00:00, 50.20it/s]\n"
          ]
        },
        {
          "output_type": "stream",
          "name": "stdout",
          "text": [
            "Finished Batch: \n",
            "Training Loss:  2.0124296228090923 Training Av. Accuracy:  0.3123355263157895\n",
            "EVALUATING\n"
          ]
        },
        {
          "output_type": "stream",
          "name": "stderr",
          "text": [
            "100%|██████████| 157/157 [00:02<00:00, 62.61it/s]\n"
          ]
        },
        {
          "output_type": "stream",
          "name": "stdout",
          "text": [
            "Validation Loss:  0.9988368502847708 Validation Av. Accuracy:  0.7191480891719745\n",
            "############ END DLR 0 MODEL 5 REP 1 ############\n",
            "\n",
            "\n",
            "MODEL 5 PARAMETER COUNT: 308236\n",
            "########### START DLR 0 MODEL 5 REP 2 ###########\n"
          ]
        },
        {
          "output_type": "stream",
          "name": "stderr",
          "text": [
            "100%|██████████| 30/30 [00:00<00:00, 41.40it/s]\n"
          ]
        },
        {
          "output_type": "stream",
          "name": "stdout",
          "text": [
            "Finished Batch: \n",
            "Training Loss:  1.9027521828810374 Training Av. Accuracy:  0.3460526315789474\n",
            "EVALUATING\n"
          ]
        },
        {
          "output_type": "stream",
          "name": "stderr",
          "text": [
            "100%|██████████| 157/157 [00:03<00:00, 47.45it/s]\n"
          ]
        },
        {
          "output_type": "stream",
          "name": "stdout",
          "text": [
            "Validation Loss:  1.0817872388347698 Validation Av. Accuracy:  0.6401273885350318\n",
            "############ END DLR 0 MODEL 5 REP 2 ############\n",
            "\n",
            "\n",
            "MODEL 5 PARAMETER COUNT: 308236\n",
            "########### START DLR 0 MODEL 5 REP 3 ###########\n"
          ]
        },
        {
          "output_type": "stream",
          "name": "stderr",
          "text": [
            "100%|██████████| 30/30 [00:00<00:00, 52.06it/s]\n"
          ]
        },
        {
          "output_type": "stream",
          "name": "stdout",
          "text": [
            "Finished Batch: \n",
            "Training Loss:  2.06782546043396 Training Av. Accuracy:  0.2660361842105263\n",
            "EVALUATING\n"
          ]
        },
        {
          "output_type": "stream",
          "name": "stderr",
          "text": [
            "100%|██████████| 157/157 [00:02<00:00, 61.54it/s]\n"
          ]
        },
        {
          "output_type": "stream",
          "name": "stdout",
          "text": [
            "Validation Loss:  1.253690557115397 Validation Av. Accuracy:  0.5973328025477707\n",
            "############ END DLR 0 MODEL 5 REP 3 ############\n",
            "\n",
            "\n",
            "MODEL 5 PARAMETER COUNT: 308236\n",
            "########### START DLR 0 MODEL 5 REP 4 ###########\n"
          ]
        },
        {
          "output_type": "stream",
          "name": "stderr",
          "text": [
            "100%|██████████| 30/30 [00:00<00:00, 54.79it/s]\n"
          ]
        },
        {
          "output_type": "stream",
          "name": "stdout",
          "text": [
            "Finished Batch: \n",
            "Training Loss:  1.7204793592294056 Training Av. Accuracy:  0.4221491228070175\n",
            "EVALUATING\n"
          ]
        },
        {
          "output_type": "stream",
          "name": "stderr",
          "text": [
            "100%|██████████| 157/157 [00:02<00:00, 64.78it/s]\n"
          ]
        },
        {
          "output_type": "stream",
          "name": "stdout",
          "text": [
            "Validation Loss:  0.7729828775308694 Validation Av. Accuracy:  0.7184514331210191\n",
            "############ END DLR 0 MODEL 5 REP 4 ############\n",
            "\n",
            "\n",
            "MODEL 0 PARAMETER COUNT: 9798\n",
            "########### START DLR 1 MODEL 0 REP 0 ###########\n"
          ]
        },
        {
          "output_type": "stream",
          "name": "stderr",
          "text": [
            " 93%|█████████▎| 55/59 [00:00<00:00, 57.48it/s]/usr/local/lib/python3.10/dist-packages/torch/nn/modules/conv.py:456: UserWarning:\n",
            "\n",
            "Plan failed with a cudnnException: CUDNN_BACKEND_EXECUTION_PLAN_DESCRIPTOR: cudnnFinalize Descriptor Failed cudnn_status: CUDNN_STATUS_NOT_SUPPORTED (Triggered internally at ../aten/src/ATen/native/cudnn/Conv_v8.cpp:919.)\n",
            "\n",
            "100%|██████████| 59/59 [00:01<00:00, 56.86it/s]\n"
          ]
        },
        {
          "output_type": "stream",
          "name": "stdout",
          "text": [
            "Finished Batch: \n",
            "Training Loss:  2.1687152123047135 Training Av. Accuracy:  0.2183736619090098\n",
            "EVALUATING\n"
          ]
        },
        {
          "output_type": "stream",
          "name": "stderr",
          "text": [
            "100%|██████████| 157/157 [00:02<00:00, 60.21it/s]\n"
          ]
        },
        {
          "output_type": "stream",
          "name": "stdout",
          "text": [
            "Validation Loss:  1.7087138253412428 Validation Av. Accuracy:  0.45690684713375795\n",
            "############ END DLR 1 MODEL 0 REP 0 ############\n",
            "\n",
            "\n",
            "MODEL 0 PARAMETER COUNT: 9798\n",
            "########### START DLR 1 MODEL 0 REP 1 ###########\n"
          ]
        },
        {
          "output_type": "stream",
          "name": "stderr",
          "text": [
            "100%|██████████| 59/59 [00:01<00:00, 40.94it/s]\n"
          ]
        },
        {
          "output_type": "stream",
          "name": "stdout",
          "text": [
            "Finished Batch: \n",
            "Training Loss:  2.021058133092977 Training Av. Accuracy:  0.2630463871543265\n",
            "EVALUATING\n"
          ]
        },
        {
          "output_type": "stream",
          "name": "stderr",
          "text": [
            "100%|██████████| 157/157 [00:02<00:00, 53.55it/s]\n"
          ]
        },
        {
          "output_type": "stream",
          "name": "stdout",
          "text": [
            "Validation Loss:  1.2708515376801703 Validation Av. Accuracy:  0.6348527070063694\n",
            "############ END DLR 1 MODEL 0 REP 1 ############\n",
            "\n",
            "\n",
            "MODEL 0 PARAMETER COUNT: 9798\n",
            "########### START DLR 1 MODEL 0 REP 2 ###########\n"
          ]
        },
        {
          "output_type": "stream",
          "name": "stderr",
          "text": [
            "100%|██████████| 59/59 [00:01<00:00, 56.80it/s]\n"
          ]
        },
        {
          "output_type": "stream",
          "name": "stdout",
          "text": [
            "Finished Batch: \n",
            "Training Loss:  2.2646175198635814 Training Av. Accuracy:  0.14402598126672614\n",
            "EVALUATING\n"
          ]
        },
        {
          "output_type": "stream",
          "name": "stderr",
          "text": [
            "100%|██████████| 157/157 [00:02<00:00, 64.38it/s]\n"
          ]
        },
        {
          "output_type": "stream",
          "name": "stdout",
          "text": [
            "Validation Loss:  2.023076403672528 Validation Av. Accuracy:  0.4909434713375796\n",
            "############ END DLR 1 MODEL 0 REP 2 ############\n",
            "\n",
            "\n",
            "MODEL 0 PARAMETER COUNT: 9798\n",
            "########### START DLR 1 MODEL 0 REP 3 ###########\n"
          ]
        },
        {
          "output_type": "stream",
          "name": "stderr",
          "text": [
            "100%|██████████| 59/59 [00:01<00:00, 56.35it/s]\n"
          ]
        },
        {
          "output_type": "stream",
          "name": "stdout",
          "text": [
            "Finished Batch: \n",
            "Training Loss:  2.2859269845283636 Training Av. Accuracy:  0.13484054415700267\n",
            "EVALUATING\n"
          ]
        },
        {
          "output_type": "stream",
          "name": "stderr",
          "text": [
            "100%|██████████| 157/157 [00:02<00:00, 65.27it/s]\n"
          ]
        },
        {
          "output_type": "stream",
          "name": "stdout",
          "text": [
            "Validation Loss:  2.1650462226503215 Validation Av. Accuracy:  0.44546178343949044\n",
            "############ END DLR 1 MODEL 0 REP 3 ############\n",
            "\n",
            "\n",
            "MODEL 0 PARAMETER COUNT: 9798\n",
            "########### START DLR 1 MODEL 0 REP 4 ###########\n"
          ]
        },
        {
          "output_type": "stream",
          "name": "stderr",
          "text": [
            "100%|██████████| 59/59 [00:01<00:00, 57.34it/s]\n"
          ]
        },
        {
          "output_type": "stream",
          "name": "stdout",
          "text": [
            "Finished Batch: \n",
            "Training Loss:  2.123371380870625 Training Av. Accuracy:  0.2325072479928635\n",
            "EVALUATING\n"
          ]
        },
        {
          "output_type": "stream",
          "name": "stderr",
          "text": [
            "100%|██████████| 157/157 [00:03<00:00, 44.57it/s]\n"
          ]
        },
        {
          "output_type": "stream",
          "name": "stdout",
          "text": [
            "Validation Loss:  1.4455449733005208 Validation Av. Accuracy:  0.5270700636942676\n",
            "############ END DLR 1 MODEL 0 REP 4 ############\n",
            "\n",
            "\n",
            "MODEL 1 PARAMETER COUNT: 20245\n",
            "########### START DLR 1 MODEL 1 REP 0 ###########\n"
          ]
        },
        {
          "output_type": "stream",
          "name": "stderr",
          "text": [
            "100%|██████████| 59/59 [00:01<00:00, 55.23it/s]\n"
          ]
        },
        {
          "output_type": "stream",
          "name": "stdout",
          "text": [
            "Finished Batch: \n",
            "Training Loss:  2.0401599306171225 Training Av. Accuracy:  0.2554778099910794\n",
            "EVALUATING\n"
          ]
        },
        {
          "output_type": "stream",
          "name": "stderr",
          "text": [
            "100%|██████████| 157/157 [00:02<00:00, 64.14it/s]\n"
          ]
        },
        {
          "output_type": "stream",
          "name": "stdout",
          "text": [
            "Validation Loss:  1.2111385358366997 Validation Av. Accuracy:  0.6334593949044586\n",
            "############ END DLR 1 MODEL 1 REP 0 ############\n",
            "\n",
            "\n",
            "MODEL 1 PARAMETER COUNT: 20245\n",
            "########### START DLR 1 MODEL 1 REP 1 ###########\n"
          ]
        },
        {
          "output_type": "stream",
          "name": "stderr",
          "text": [
            "100%|██████████| 59/59 [00:01<00:00, 56.32it/s]\n"
          ]
        },
        {
          "output_type": "stream",
          "name": "stdout",
          "text": [
            "Finished Batch: \n",
            "Training Loss:  2.20850998870397 Training Av. Accuracy:  0.20362678412132026\n",
            "EVALUATING\n"
          ]
        },
        {
          "output_type": "stream",
          "name": "stderr",
          "text": [
            "100%|██████████| 157/157 [00:02<00:00, 64.98it/s]\n"
          ]
        },
        {
          "output_type": "stream",
          "name": "stdout",
          "text": [
            "Validation Loss:  1.6469281099404498 Validation Av. Accuracy:  0.484375\n",
            "############ END DLR 1 MODEL 1 REP 1 ############\n",
            "\n",
            "\n",
            "MODEL 1 PARAMETER COUNT: 20245\n",
            "########### START DLR 1 MODEL 1 REP 2 ###########\n"
          ]
        },
        {
          "output_type": "stream",
          "name": "stderr",
          "text": [
            "100%|██████████| 59/59 [00:01<00:00, 55.00it/s]\n"
          ]
        },
        {
          "output_type": "stream",
          "name": "stdout",
          "text": [
            "Finished Batch: \n",
            "Training Loss:  2.016540943566015 Training Av. Accuracy:  0.28725747100802856\n",
            "EVALUATING\n"
          ]
        },
        {
          "output_type": "stream",
          "name": "stderr",
          "text": [
            "100%|██████████| 157/157 [00:02<00:00, 58.22it/s]\n"
          ]
        },
        {
          "output_type": "stream",
          "name": "stdout",
          "text": [
            "Validation Loss:  0.966912670879607 Validation Av. Accuracy:  0.7387539808917197\n",
            "############ END DLR 1 MODEL 1 REP 2 ############\n",
            "\n",
            "\n",
            "MODEL 1 PARAMETER COUNT: 20245\n",
            "########### START DLR 1 MODEL 1 REP 3 ###########\n"
          ]
        },
        {
          "output_type": "stream",
          "name": "stderr",
          "text": [
            "100%|██████████| 59/59 [00:01<00:00, 38.38it/s]\n"
          ]
        },
        {
          "output_type": "stream",
          "name": "stdout",
          "text": [
            "Finished Batch: \n",
            "Training Loss:  2.069447434554666 Training Av. Accuracy:  0.2546972569134701\n",
            "EVALUATING\n"
          ]
        },
        {
          "output_type": "stream",
          "name": "stderr",
          "text": [
            "100%|██████████| 157/157 [00:02<00:00, 56.44it/s]\n"
          ]
        },
        {
          "output_type": "stream",
          "name": "stdout",
          "text": [
            "Validation Loss:  1.2947146695130949 Validation Av. Accuracy:  0.6202229299363057\n",
            "############ END DLR 1 MODEL 1 REP 3 ############\n",
            "\n",
            "\n",
            "MODEL 1 PARAMETER COUNT: 20245\n",
            "########### START DLR 1 MODEL 1 REP 4 ###########\n"
          ]
        },
        {
          "output_type": "stream",
          "name": "stderr",
          "text": [
            "100%|██████████| 59/59 [00:01<00:00, 57.97it/s]\n"
          ]
        },
        {
          "output_type": "stream",
          "name": "stdout",
          "text": [
            "Finished Batch: \n",
            "Training Loss:  2.1697013903472384 Training Av. Accuracy:  0.20758530330062444\n",
            "EVALUATING\n"
          ]
        },
        {
          "output_type": "stream",
          "name": "stderr",
          "text": [
            "100%|██████████| 157/157 [00:02<00:00, 65.52it/s]\n"
          ]
        },
        {
          "output_type": "stream",
          "name": "stdout",
          "text": [
            "Validation Loss:  1.6375417754908277 Validation Av. Accuracy:  0.5065684713375797\n",
            "############ END DLR 1 MODEL 1 REP 4 ############\n",
            "\n",
            "\n",
            "MODEL 2 PARAMETER COUNT: 38306\n",
            "########### START DLR 1 MODEL 2 REP 0 ###########\n"
          ]
        },
        {
          "output_type": "stream",
          "name": "stderr",
          "text": [
            "100%|██████████| 59/59 [00:01<00:00, 56.44it/s]\n"
          ]
        },
        {
          "output_type": "stream",
          "name": "stdout",
          "text": [
            "Finished Batch: \n",
            "Training Loss:  1.7347806783045752 Training Av. Accuracy:  0.41182537912578054\n",
            "EVALUATING\n"
          ]
        },
        {
          "output_type": "stream",
          "name": "stderr",
          "text": [
            "100%|██████████| 157/157 [00:02<00:00, 54.17it/s]\n"
          ]
        },
        {
          "output_type": "stream",
          "name": "stdout",
          "text": [
            "Validation Loss:  0.7751586957342306 Validation Av. Accuracy:  0.7450238853503185\n",
            "############ END DLR 1 MODEL 2 REP 0 ############\n",
            "\n",
            "\n",
            "MODEL 2 PARAMETER COUNT: 38306\n",
            "########### START DLR 1 MODEL 2 REP 1 ###########\n"
          ]
        },
        {
          "output_type": "stream",
          "name": "stderr",
          "text": [
            "100%|██████████| 59/59 [00:01<00:00, 48.46it/s]\n"
          ]
        },
        {
          "output_type": "stream",
          "name": "stdout",
          "text": [
            "Finished Batch: \n",
            "Training Loss:  1.7946665792141931 Training Av. Accuracy:  0.37907002676181983\n",
            "EVALUATING\n"
          ]
        },
        {
          "output_type": "stream",
          "name": "stderr",
          "text": [
            "100%|██████████| 157/157 [00:03<00:00, 48.69it/s]\n"
          ]
        },
        {
          "output_type": "stream",
          "name": "stdout",
          "text": [
            "Validation Loss:  0.8231175838002733 Validation Av. Accuracy:  0.7779657643312102\n",
            "############ END DLR 1 MODEL 2 REP 1 ############\n",
            "\n",
            "\n",
            "MODEL 2 PARAMETER COUNT: 38306\n",
            "########### START DLR 1 MODEL 2 REP 2 ###########\n"
          ]
        },
        {
          "output_type": "stream",
          "name": "stderr",
          "text": [
            "100%|██████████| 59/59 [00:01<00:00, 56.86it/s]\n"
          ]
        },
        {
          "output_type": "stream",
          "name": "stdout",
          "text": [
            "Finished Batch: \n",
            "Training Loss:  1.6569090010756153 Training Av. Accuracy:  0.43612009366636934\n",
            "EVALUATING\n"
          ]
        },
        {
          "output_type": "stream",
          "name": "stderr",
          "text": [
            "100%|██████████| 157/157 [00:02<00:00, 64.10it/s]\n"
          ]
        },
        {
          "output_type": "stream",
          "name": "stdout",
          "text": [
            "Validation Loss:  0.7669785174594563 Validation Av. Accuracy:  0.7505971337579618\n",
            "############ END DLR 1 MODEL 2 REP 2 ############\n",
            "\n",
            "\n",
            "MODEL 2 PARAMETER COUNT: 38306\n",
            "########### START DLR 1 MODEL 2 REP 3 ###########\n"
          ]
        },
        {
          "output_type": "stream",
          "name": "stderr",
          "text": [
            "100%|██████████| 59/59 [00:01<00:00, 58.38it/s]\n"
          ]
        },
        {
          "output_type": "stream",
          "name": "stdout",
          "text": [
            "Finished Batch: \n",
            "Training Loss:  1.8584113636259305 Training Av. Accuracy:  0.34305307760927745\n",
            "EVALUATING\n"
          ]
        },
        {
          "output_type": "stream",
          "name": "stderr",
          "text": [
            "100%|██████████| 157/157 [00:02<00:00, 64.98it/s]\n"
          ]
        },
        {
          "output_type": "stream",
          "name": "stdout",
          "text": [
            "Validation Loss:  0.9810053865621045 Validation Av. Accuracy:  0.6628184713375797\n",
            "############ END DLR 1 MODEL 2 REP 3 ############\n",
            "\n",
            "\n",
            "MODEL 2 PARAMETER COUNT: 38306\n",
            "########### START DLR 1 MODEL 2 REP 4 ###########\n"
          ]
        },
        {
          "output_type": "stream",
          "name": "stderr",
          "text": [
            "100%|██████████| 59/59 [00:01<00:00, 55.58it/s]\n"
          ]
        },
        {
          "output_type": "stream",
          "name": "stdout",
          "text": [
            "Finished Batch: \n",
            "Training Loss:  1.8991731950792217 Training Av. Accuracy:  0.32504460303300625\n",
            "EVALUATING\n"
          ]
        },
        {
          "output_type": "stream",
          "name": "stderr",
          "text": [
            "100%|██████████| 157/157 [00:02<00:00, 52.93it/s]\n"
          ]
        },
        {
          "output_type": "stream",
          "name": "stdout",
          "text": [
            "Validation Loss:  1.0060428361983815 Validation Av. Accuracy:  0.6557523885350318\n",
            "############ END DLR 1 MODEL 2 REP 4 ############\n",
            "\n",
            "\n",
            "MODEL 3 PARAMETER COUNT: 74657\n",
            "########### START DLR 1 MODEL 3 REP 0 ###########\n"
          ]
        },
        {
          "output_type": "stream",
          "name": "stderr",
          "text": [
            "100%|██████████| 59/59 [00:01<00:00, 36.34it/s]\n"
          ]
        },
        {
          "output_type": "stream",
          "name": "stdout",
          "text": [
            "Finished Batch: \n",
            "Training Loss:  1.759288391824496 Training Av. Accuracy:  0.38163470115967885\n",
            "EVALUATING\n"
          ]
        },
        {
          "output_type": "stream",
          "name": "stderr",
          "text": [
            "100%|██████████| 157/157 [00:05<00:00, 30.75it/s]\n"
          ]
        },
        {
          "output_type": "stream",
          "name": "stdout",
          "text": [
            "Validation Loss:  0.738386440808606 Validation Av. Accuracy:  0.7807523885350318\n",
            "############ END DLR 1 MODEL 3 REP 0 ############\n",
            "\n",
            "\n",
            "MODEL 3 PARAMETER COUNT: 74657\n",
            "########### START DLR 1 MODEL 3 REP 1 ###########\n"
          ]
        },
        {
          "output_type": "stream",
          "name": "stderr",
          "text": [
            "100%|██████████| 59/59 [00:02<00:00, 24.59it/s]\n"
          ]
        },
        {
          "output_type": "stream",
          "name": "stdout",
          "text": [
            "Finished Batch: \n",
            "Training Loss:  1.86496422856541 Training Av. Accuracy:  0.3317629348795718\n",
            "EVALUATING\n"
          ]
        },
        {
          "output_type": "stream",
          "name": "stderr",
          "text": [
            "100%|██████████| 157/157 [00:03<00:00, 40.70it/s]\n"
          ]
        },
        {
          "output_type": "stream",
          "name": "stdout",
          "text": [
            "Validation Loss:  0.8957864999011823 Validation Av. Accuracy:  0.7127786624203821\n",
            "############ END DLR 1 MODEL 3 REP 1 ############\n",
            "\n",
            "\n",
            "MODEL 3 PARAMETER COUNT: 74657\n",
            "########### START DLR 1 MODEL 3 REP 2 ###########\n"
          ]
        },
        {
          "output_type": "stream",
          "name": "stderr",
          "text": [
            "100%|██████████| 59/59 [00:02<00:00, 20.34it/s]\n"
          ]
        },
        {
          "output_type": "stream",
          "name": "stdout",
          "text": [
            "Finished Batch: \n",
            "Training Loss:  1.6954418925915735 Training Av. Accuracy:  0.41501728367528995\n",
            "EVALUATING\n"
          ]
        },
        {
          "output_type": "stream",
          "name": "stderr",
          "text": [
            "100%|██████████| 157/157 [00:04<00:00, 32.14it/s]\n"
          ]
        },
        {
          "output_type": "stream",
          "name": "stdout",
          "text": [
            "Validation Loss:  0.7182397844305464 Validation Av. Accuracy:  0.793093152866242\n",
            "############ END DLR 1 MODEL 3 REP 2 ############\n",
            "\n",
            "\n",
            "MODEL 3 PARAMETER COUNT: 74657\n",
            "########### START DLR 1 MODEL 3 REP 3 ###########\n"
          ]
        },
        {
          "output_type": "stream",
          "name": "stderr",
          "text": [
            "100%|██████████| 59/59 [00:01<00:00, 35.98it/s]\n"
          ]
        },
        {
          "output_type": "stream",
          "name": "stdout",
          "text": [
            "Finished Batch: \n",
            "Training Loss:  1.6822352964999312 Training Av. Accuracy:  0.417581958073149\n",
            "EVALUATING\n"
          ]
        },
        {
          "output_type": "stream",
          "name": "stderr",
          "text": [
            "100%|██████████| 157/157 [00:02<00:00, 64.72it/s]\n"
          ]
        },
        {
          "output_type": "stream",
          "name": "stdout",
          "text": [
            "Validation Loss:  0.6569512900273511 Validation Av. Accuracy:  0.78234474522293\n",
            "############ END DLR 1 MODEL 3 REP 3 ############\n",
            "\n",
            "\n",
            "MODEL 3 PARAMETER COUNT: 74657\n",
            "########### START DLR 1 MODEL 3 REP 4 ###########\n"
          ]
        },
        {
          "output_type": "stream",
          "name": "stderr",
          "text": [
            "100%|██████████| 59/59 [00:01<00:00, 39.87it/s]\n"
          ]
        },
        {
          "output_type": "stream",
          "name": "stdout",
          "text": [
            "Finished Batch: \n",
            "Training Loss:  1.771211564540863 Training Av. Accuracy:  0.3765471677074041\n",
            "EVALUATING\n"
          ]
        },
        {
          "output_type": "stream",
          "name": "stderr",
          "text": [
            "100%|██████████| 157/157 [00:02<00:00, 53.95it/s]\n"
          ]
        },
        {
          "output_type": "stream",
          "name": "stdout",
          "text": [
            "Validation Loss:  0.7099342293040768 Validation Av. Accuracy:  0.799562101910828\n",
            "############ END DLR 1 MODEL 3 REP 4 ############\n",
            "\n",
            "\n",
            "MODEL 4 PARAMETER COUNT: 152775\n",
            "########### START DLR 1 MODEL 4 REP 0 ###########\n"
          ]
        },
        {
          "output_type": "stream",
          "name": "stderr",
          "text": [
            "100%|██████████| 59/59 [00:01<00:00, 51.77it/s]\n"
          ]
        },
        {
          "output_type": "stream",
          "name": "stdout",
          "text": [
            "Finished Batch: \n",
            "Training Loss:  1.4155980348587036 Training Av. Accuracy:  0.5132833407671722\n",
            "EVALUATING\n"
          ]
        },
        {
          "output_type": "stream",
          "name": "stderr",
          "text": [
            "100%|██████████| 157/157 [00:02<00:00, 62.58it/s]\n"
          ]
        },
        {
          "output_type": "stream",
          "name": "stdout",
          "text": [
            "Validation Loss:  0.45119660675146017 Validation Av. Accuracy:  0.8681329617834395\n",
            "############ END DLR 1 MODEL 4 REP 0 ############\n",
            "\n",
            "\n",
            "MODEL 4 PARAMETER COUNT: 152775\n",
            "########### START DLR 1 MODEL 4 REP 1 ###########\n"
          ]
        },
        {
          "output_type": "stream",
          "name": "stderr",
          "text": [
            "100%|██████████| 59/59 [00:01<00:00, 54.68it/s]\n"
          ]
        },
        {
          "output_type": "stream",
          "name": "stdout",
          "text": [
            "Finished Batch: \n",
            "Training Loss:  1.63103176880691 Training Av. Accuracy:  0.42393789027653883\n",
            "EVALUATING\n"
          ]
        },
        {
          "output_type": "stream",
          "name": "stderr",
          "text": [
            "100%|██████████| 157/157 [00:02<00:00, 64.63it/s]\n"
          ]
        },
        {
          "output_type": "stream",
          "name": "stdout",
          "text": [
            "Validation Loss:  0.5803802127291442 Validation Av. Accuracy:  0.8086186305732485\n",
            "############ END DLR 1 MODEL 4 REP 1 ############\n",
            "\n",
            "\n",
            "MODEL 4 PARAMETER COUNT: 152775\n",
            "########### START DLR 1 MODEL 4 REP 2 ###########\n"
          ]
        },
        {
          "output_type": "stream",
          "name": "stderr",
          "text": [
            "100%|██████████| 59/59 [00:01<00:00, 56.55it/s]\n"
          ]
        },
        {
          "output_type": "stream",
          "name": "stdout",
          "text": [
            "Finished Batch: \n",
            "Training Loss:  1.5490562936006966 Training Av. Accuracy:  0.47735002230151646\n",
            "EVALUATING\n"
          ]
        },
        {
          "output_type": "stream",
          "name": "stderr",
          "text": [
            "100%|██████████| 157/157 [00:03<00:00, 45.29it/s]\n"
          ]
        },
        {
          "output_type": "stream",
          "name": "stdout",
          "text": [
            "Validation Loss:  0.5717190507870571 Validation Av. Accuracy:  0.8187699044585988\n",
            "############ END DLR 1 MODEL 4 REP 2 ############\n",
            "\n",
            "\n",
            "MODEL 4 PARAMETER COUNT: 152775\n",
            "########### START DLR 1 MODEL 4 REP 3 ###########\n"
          ]
        },
        {
          "output_type": "stream",
          "name": "stderr",
          "text": [
            "100%|██████████| 59/59 [00:01<00:00, 55.23it/s]\n"
          ]
        },
        {
          "output_type": "stream",
          "name": "stdout",
          "text": [
            "Finished Batch: \n",
            "Training Loss:  1.6690249968383273 Training Av. Accuracy:  0.40767172167707405\n",
            "EVALUATING\n"
          ]
        },
        {
          "output_type": "stream",
          "name": "stderr",
          "text": [
            "100%|██████████| 157/157 [00:02<00:00, 63.93it/s]\n"
          ]
        },
        {
          "output_type": "stream",
          "name": "stdout",
          "text": [
            "Validation Loss:  0.642725709327467 Validation Av. Accuracy:  0.8099124203821656\n",
            "############ END DLR 1 MODEL 4 REP 3 ############\n",
            "\n",
            "\n",
            "MODEL 4 PARAMETER COUNT: 152775\n",
            "########### START DLR 1 MODEL 4 REP 4 ###########\n"
          ]
        },
        {
          "output_type": "stream",
          "name": "stderr",
          "text": [
            "100%|██████████| 59/59 [00:01<00:00, 57.53it/s]\n"
          ]
        },
        {
          "output_type": "stream",
          "name": "stdout",
          "text": [
            "Finished Batch: \n",
            "Training Loss:  1.3409681441420216 Training Av. Accuracy:  0.5418850356824264\n",
            "EVALUATING\n"
          ]
        },
        {
          "output_type": "stream",
          "name": "stderr",
          "text": [
            "100%|██████████| 157/157 [00:02<00:00, 64.51it/s]\n"
          ]
        },
        {
          "output_type": "stream",
          "name": "stdout",
          "text": [
            "Validation Loss:  0.48732856086864595 Validation Av. Accuracy:  0.8551950636942676\n",
            "############ END DLR 1 MODEL 4 REP 4 ############\n",
            "\n",
            "\n",
            "MODEL 5 PARAMETER COUNT: 308236\n",
            "########### START DLR 1 MODEL 5 REP 0 ###########\n"
          ]
        },
        {
          "output_type": "stream",
          "name": "stderr",
          "text": [
            "100%|██████████| 59/59 [00:01<00:00, 54.67it/s]\n"
          ]
        },
        {
          "output_type": "stream",
          "name": "stdout",
          "text": [
            "Finished Batch: \n",
            "Training Loss:  1.3833293303594751 Training Av. Accuracy:  0.5235420383586084\n",
            "EVALUATING\n"
          ]
        },
        {
          "output_type": "stream",
          "name": "stderr",
          "text": [
            "100%|██████████| 157/157 [00:02<00:00, 55.84it/s]\n"
          ]
        },
        {
          "output_type": "stream",
          "name": "stdout",
          "text": [
            "Validation Loss:  0.5470082609896447 Validation Av. Accuracy:  0.8285230891719745\n",
            "############ END DLR 1 MODEL 5 REP 0 ############\n",
            "\n",
            "\n",
            "MODEL 5 PARAMETER COUNT: 308236\n",
            "########### START DLR 1 MODEL 5 REP 1 ###########\n"
          ]
        },
        {
          "output_type": "stream",
          "name": "stderr",
          "text": [
            "100%|██████████| 59/59 [00:01<00:00, 37.71it/s]\n"
          ]
        },
        {
          "output_type": "stream",
          "name": "stdout",
          "text": [
            "Finished Batch: \n",
            "Training Loss:  1.4434788126056477 Training Av. Accuracy:  0.49388102140945583\n",
            "EVALUATING\n"
          ]
        },
        {
          "output_type": "stream",
          "name": "stderr",
          "text": [
            "100%|██████████| 157/157 [00:02<00:00, 56.32it/s]\n"
          ]
        },
        {
          "output_type": "stream",
          "name": "stdout",
          "text": [
            "Validation Loss:  0.549767866066307 Validation Av. Accuracy:  0.8214570063694268\n",
            "############ END DLR 1 MODEL 5 REP 1 ############\n",
            "\n",
            "\n",
            "MODEL 5 PARAMETER COUNT: 308236\n",
            "########### START DLR 1 MODEL 5 REP 2 ###########\n"
          ]
        },
        {
          "output_type": "stream",
          "name": "stderr",
          "text": [
            "100%|██████████| 59/59 [00:01<00:00, 55.81it/s]\n"
          ]
        },
        {
          "output_type": "stream",
          "name": "stdout",
          "text": [
            "Finished Batch: \n",
            "Training Loss:  1.5370274292210402 Training Av. Accuracy:  0.4585749330954505\n",
            "EVALUATING\n"
          ]
        },
        {
          "output_type": "stream",
          "name": "stderr",
          "text": [
            "100%|██████████| 157/157 [00:02<00:00, 63.77it/s]\n"
          ]
        },
        {
          "output_type": "stream",
          "name": "stdout",
          "text": [
            "Validation Loss:  0.5527830349791581 Validation Av. Accuracy:  0.8138933121019108\n",
            "############ END DLR 1 MODEL 5 REP 2 ############\n",
            "\n",
            "\n",
            "MODEL 5 PARAMETER COUNT: 308236\n",
            "########### START DLR 1 MODEL 5 REP 3 ###########\n"
          ]
        },
        {
          "output_type": "stream",
          "name": "stderr",
          "text": [
            "100%|██████████| 59/59 [00:01<00:00, 52.45it/s]\n"
          ]
        },
        {
          "output_type": "stream",
          "name": "stdout",
          "text": [
            "Finished Batch: \n",
            "Training Loss:  1.5158726421453186 Training Av. Accuracy:  0.47893900535236394\n",
            "EVALUATING\n"
          ]
        },
        {
          "output_type": "stream",
          "name": "stderr",
          "text": [
            "100%|██████████| 157/157 [00:02<00:00, 63.81it/s]\n"
          ]
        },
        {
          "output_type": "stream",
          "name": "stdout",
          "text": [
            "Validation Loss:  0.5670527187502308 Validation Av. Accuracy:  0.8276273885350318\n",
            "############ END DLR 1 MODEL 5 REP 3 ############\n",
            "\n",
            "\n",
            "MODEL 5 PARAMETER COUNT: 308236\n",
            "########### START DLR 1 MODEL 5 REP 4 ###########\n"
          ]
        },
        {
          "output_type": "stream",
          "name": "stderr",
          "text": [
            "100%|██████████| 59/59 [00:01<00:00, 48.59it/s]\n"
          ]
        },
        {
          "output_type": "stream",
          "name": "stdout",
          "text": [
            "Finished Batch: \n",
            "Training Loss:  1.5081112041311748 Training Av. Accuracy:  0.46420606601248887\n",
            "EVALUATING\n"
          ]
        },
        {
          "output_type": "stream",
          "name": "stderr",
          "text": [
            "100%|██████████| 157/157 [00:03<00:00, 46.80it/s]\n"
          ]
        },
        {
          "output_type": "stream",
          "name": "stdout",
          "text": [
            "Validation Loss:  0.6170055997219814 Validation Av. Accuracy:  0.7635350318471338\n",
            "############ END DLR 1 MODEL 5 REP 4 ############\n",
            "\n",
            "\n",
            "MODEL 0 PARAMETER COUNT: 9798\n",
            "########### START DLR 2 MODEL 0 REP 0 ###########\n"
          ]
        },
        {
          "output_type": "stream",
          "name": "stderr",
          "text": [
            " 97%|█████████▋| 114/118 [00:02<00:00, 56.11it/s]/usr/local/lib/python3.10/dist-packages/torch/nn/modules/conv.py:456: UserWarning:\n",
            "\n",
            "Plan failed with a cudnnException: CUDNN_BACKEND_EXECUTION_PLAN_DESCRIPTOR: cudnnFinalize Descriptor Failed cudnn_status: CUDNN_STATUS_NOT_SUPPORTED (Triggered internally at ../aten/src/ATen/native/cudnn/Conv_v8.cpp:919.)\n",
            "\n",
            "100%|██████████| 118/118 [00:02<00:00, 56.18it/s]\n"
          ]
        },
        {
          "output_type": "stream",
          "name": "stdout",
          "text": [
            "Finished Batch: \n",
            "Training Loss:  1.9111783544896013 Training Av. Accuracy:  0.30989583333333337\n",
            "EVALUATING\n"
          ]
        },
        {
          "output_type": "stream",
          "name": "stderr",
          "text": [
            "100%|██████████| 157/157 [00:02<00:00, 54.04it/s]\n"
          ]
        },
        {
          "output_type": "stream",
          "name": "stdout",
          "text": [
            "Validation Loss:  0.8930501892308521 Validation Av. Accuracy:  0.7502985668789809\n",
            "############ END DLR 2 MODEL 0 REP 0 ############\n",
            "\n",
            "\n",
            "MODEL 0 PARAMETER COUNT: 9798\n",
            "########### START DLR 2 MODEL 0 REP 1 ###########\n"
          ]
        },
        {
          "output_type": "stream",
          "name": "stderr",
          "text": [
            "100%|██████████| 118/118 [00:02<00:00, 46.59it/s]\n"
          ]
        },
        {
          "output_type": "stream",
          "name": "stdout",
          "text": [
            "Finished Batch: \n",
            "Training Loss:  1.9936641555721477 Training Av. Accuracy:  0.2562235169491525\n",
            "EVALUATING\n"
          ]
        },
        {
          "output_type": "stream",
          "name": "stderr",
          "text": [
            "100%|██████████| 157/157 [00:02<00:00, 56.68it/s]\n"
          ]
        },
        {
          "output_type": "stream",
          "name": "stdout",
          "text": [
            "Validation Loss:  1.0113051913346454 Validation Av. Accuracy:  0.6898885350318471\n",
            "############ END DLR 2 MODEL 0 REP 1 ############\n",
            "\n",
            "\n",
            "MODEL 0 PARAMETER COUNT: 9798\n",
            "########### START DLR 2 MODEL 0 REP 2 ###########\n"
          ]
        },
        {
          "output_type": "stream",
          "name": "stderr",
          "text": [
            "100%|██████████| 118/118 [00:02<00:00, 41.60it/s]\n"
          ]
        },
        {
          "output_type": "stream",
          "name": "stdout",
          "text": [
            "Finished Batch: \n",
            "Training Loss:  1.6042410524214727 Training Av. Accuracy:  0.4179025423728814\n",
            "EVALUATING\n"
          ]
        },
        {
          "output_type": "stream",
          "name": "stderr",
          "text": [
            "100%|██████████| 157/157 [00:02<00:00, 65.22it/s]\n"
          ]
        },
        {
          "output_type": "stream",
          "name": "stdout",
          "text": [
            "Validation Loss:  0.713723766575953 Validation Av. Accuracy:  0.7953821656050956\n",
            "############ END DLR 2 MODEL 0 REP 2 ############\n",
            "\n",
            "\n",
            "MODEL 0 PARAMETER COUNT: 9798\n",
            "########### START DLR 2 MODEL 0 REP 3 ###########\n"
          ]
        },
        {
          "output_type": "stream",
          "name": "stderr",
          "text": [
            "100%|██████████| 118/118 [00:02<00:00, 57.48it/s]\n"
          ]
        },
        {
          "output_type": "stream",
          "name": "stdout",
          "text": [
            "Finished Batch: \n",
            "Training Loss:  1.8173723180415267 Training Av. Accuracy:  0.3440589689265537\n",
            "EVALUATING\n"
          ]
        },
        {
          "output_type": "stream",
          "name": "stderr",
          "text": [
            "100%|██████████| 157/157 [00:02<00:00, 65.00it/s]\n"
          ]
        },
        {
          "output_type": "stream",
          "name": "stdout",
          "text": [
            "Validation Loss:  0.9351329522527707 Validation Av. Accuracy:  0.7458200636942676\n",
            "############ END DLR 2 MODEL 0 REP 3 ############\n",
            "\n",
            "\n",
            "MODEL 0 PARAMETER COUNT: 9798\n",
            "########### START DLR 2 MODEL 0 REP 4 ###########\n"
          ]
        },
        {
          "output_type": "stream",
          "name": "stderr",
          "text": [
            "100%|██████████| 118/118 [00:02<00:00, 56.61it/s]\n"
          ]
        },
        {
          "output_type": "stream",
          "name": "stdout",
          "text": [
            "Finished Batch: \n",
            "Training Loss:  1.9523633779105494 Training Av. Accuracy:  0.2955508474576271\n",
            "EVALUATING\n"
          ]
        },
        {
          "output_type": "stream",
          "name": "stderr",
          "text": [
            "100%|██████████| 157/157 [00:03<00:00, 45.04it/s]\n"
          ]
        },
        {
          "output_type": "stream",
          "name": "stdout",
          "text": [
            "Validation Loss:  1.10774921877369 Validation Av. Accuracy:  0.65515525477707\n",
            "############ END DLR 2 MODEL 0 REP 4 ############\n",
            "\n",
            "\n",
            "MODEL 1 PARAMETER COUNT: 20245\n",
            "########### START DLR 2 MODEL 1 REP 0 ###########\n"
          ]
        },
        {
          "output_type": "stream",
          "name": "stderr",
          "text": [
            "100%|██████████| 118/118 [00:02<00:00, 56.57it/s]\n"
          ]
        },
        {
          "output_type": "stream",
          "name": "stdout",
          "text": [
            "Finished Batch: \n",
            "Training Loss:  1.4285553446260548 Training Av. Accuracy:  0.517478813559322\n",
            "EVALUATING\n"
          ]
        },
        {
          "output_type": "stream",
          "name": "stderr",
          "text": [
            "100%|██████████| 157/157 [00:02<00:00, 66.70it/s]\n"
          ]
        },
        {
          "output_type": "stream",
          "name": "stdout",
          "text": [
            "Validation Loss:  0.48214328345979096 Validation Av. Accuracy:  0.8751990445859873\n",
            "############ END DLR 2 MODEL 1 REP 0 ############\n",
            "\n",
            "\n",
            "MODEL 1 PARAMETER COUNT: 20245\n",
            "########### START DLR 2 MODEL 1 REP 1 ###########\n"
          ]
        },
        {
          "output_type": "stream",
          "name": "stderr",
          "text": [
            "100%|██████████| 118/118 [00:02<00:00, 58.99it/s]\n"
          ]
        },
        {
          "output_type": "stream",
          "name": "stdout",
          "text": [
            "Finished Batch: \n",
            "Training Loss:  1.558930223270998 Training Av. Accuracy:  0.4459304378531073\n",
            "EVALUATING\n"
          ]
        },
        {
          "output_type": "stream",
          "name": "stderr",
          "text": [
            "100%|██████████| 157/157 [00:02<00:00, 67.09it/s]\n"
          ]
        },
        {
          "output_type": "stream",
          "name": "stdout",
          "text": [
            "Validation Loss:  0.5519905027690207 Validation Av. Accuracy:  0.8600716560509554\n",
            "############ END DLR 2 MODEL 1 REP 1 ############\n",
            "\n",
            "\n",
            "MODEL 1 PARAMETER COUNT: 20245\n",
            "########### START DLR 2 MODEL 1 REP 2 ###########\n"
          ]
        },
        {
          "output_type": "stream",
          "name": "stderr",
          "text": [
            "100%|██████████| 118/118 [00:02<00:00, 48.23it/s]\n"
          ]
        },
        {
          "output_type": "stream",
          "name": "stdout",
          "text": [
            "Finished Batch: \n",
            "Training Loss:  1.6815237857527652 Training Av. Accuracy:  0.4078389830508475\n",
            "EVALUATING\n"
          ]
        },
        {
          "output_type": "stream",
          "name": "stderr",
          "text": [
            "100%|██████████| 157/157 [00:02<00:00, 54.52it/s]\n"
          ]
        },
        {
          "output_type": "stream",
          "name": "stdout",
          "text": [
            "Validation Loss:  0.6604380831596958 Validation Av. Accuracy:  0.8062300955414012\n",
            "############ END DLR 2 MODEL 1 REP 2 ############\n",
            "\n",
            "\n",
            "MODEL 1 PARAMETER COUNT: 20245\n",
            "########### START DLR 2 MODEL 1 REP 3 ###########\n"
          ]
        },
        {
          "output_type": "stream",
          "name": "stderr",
          "text": [
            "100%|██████████| 118/118 [00:02<00:00, 58.74it/s]\n"
          ]
        },
        {
          "output_type": "stream",
          "name": "stdout",
          "text": [
            "Finished Batch: \n",
            "Training Loss:  1.6259263819557126 Training Av. Accuracy:  0.4203301553672317\n",
            "EVALUATING\n"
          ]
        },
        {
          "output_type": "stream",
          "name": "stderr",
          "text": [
            "100%|██████████| 157/157 [00:02<00:00, 54.46it/s]\n"
          ]
        },
        {
          "output_type": "stream",
          "name": "stdout",
          "text": [
            "Validation Loss:  0.8032894369902884 Validation Av. Accuracy:  0.7609474522292994\n",
            "############ END DLR 2 MODEL 1 REP 3 ############\n",
            "\n",
            "\n",
            "MODEL 1 PARAMETER COUNT: 20245\n",
            "########### START DLR 2 MODEL 1 REP 4 ###########\n"
          ]
        },
        {
          "output_type": "stream",
          "name": "stderr",
          "text": [
            "100%|██████████| 118/118 [00:01<00:00, 59.20it/s]\n"
          ]
        },
        {
          "output_type": "stream",
          "name": "stdout",
          "text": [
            "Finished Batch: \n",
            "Training Loss:  1.6441346997931852 Training Av. Accuracy:  0.4224929378531073\n",
            "EVALUATING\n"
          ]
        },
        {
          "output_type": "stream",
          "name": "stderr",
          "text": [
            "100%|██████████| 157/157 [00:02<00:00, 58.74it/s]\n"
          ]
        },
        {
          "output_type": "stream",
          "name": "stdout",
          "text": [
            "Validation Loss:  0.6982600613004842 Validation Av. Accuracy:  0.7707006369426752\n",
            "############ END DLR 2 MODEL 1 REP 4 ############\n",
            "\n",
            "\n",
            "MODEL 2 PARAMETER COUNT: 38306\n",
            "########### START DLR 2 MODEL 2 REP 0 ###########\n"
          ]
        },
        {
          "output_type": "stream",
          "name": "stderr",
          "text": [
            "100%|██████████| 118/118 [00:02<00:00, 44.67it/s]\n"
          ]
        },
        {
          "output_type": "stream",
          "name": "stdout",
          "text": [
            "Finished Batch: \n",
            "Training Loss:  1.3588652002104258 Training Av. Accuracy:  0.529837570621469\n",
            "EVALUATING\n"
          ]
        },
        {
          "output_type": "stream",
          "name": "stderr",
          "text": [
            "100%|██████████| 157/157 [00:02<00:00, 67.42it/s]\n"
          ]
        },
        {
          "output_type": "stream",
          "name": "stdout",
          "text": [
            "Validation Loss:  0.4878644426916815 Validation Av. Accuracy:  0.8524084394904459\n",
            "############ END DLR 2 MODEL 2 REP 0 ############\n",
            "\n",
            "\n",
            "MODEL 2 PARAMETER COUNT: 38306\n",
            "########### START DLR 2 MODEL 2 REP 1 ###########\n"
          ]
        },
        {
          "output_type": "stream",
          "name": "stderr",
          "text": [
            "100%|██████████| 118/118 [00:02<00:00, 56.53it/s]\n"
          ]
        },
        {
          "output_type": "stream",
          "name": "stdout",
          "text": [
            "Finished Batch: \n",
            "Training Loss:  1.3569079076839705 Training Av. Accuracy:  0.5309410310734463\n",
            "EVALUATING\n"
          ]
        },
        {
          "output_type": "stream",
          "name": "stderr",
          "text": [
            "100%|██████████| 157/157 [00:02<00:00, 66.53it/s]\n"
          ]
        },
        {
          "output_type": "stream",
          "name": "stdout",
          "text": [
            "Validation Loss:  0.4044250135968445 Validation Av. Accuracy:  0.9014729299363057\n",
            "############ END DLR 2 MODEL 2 REP 1 ############\n",
            "\n",
            "\n",
            "MODEL 2 PARAMETER COUNT: 38306\n",
            "########### START DLR 2 MODEL 2 REP 2 ###########\n"
          ]
        },
        {
          "output_type": "stream",
          "name": "stderr",
          "text": [
            "100%|██████████| 118/118 [00:01<00:00, 59.59it/s]\n"
          ]
        },
        {
          "output_type": "stream",
          "name": "stdout",
          "text": [
            "Finished Batch: \n",
            "Training Loss:  1.2540732056407604 Training Av. Accuracy:  0.5765801553672316\n",
            "EVALUATING\n"
          ]
        },
        {
          "output_type": "stream",
          "name": "stderr",
          "text": [
            "100%|██████████| 157/157 [00:03<00:00, 48.00it/s]\n"
          ]
        },
        {
          "output_type": "stream",
          "name": "stdout",
          "text": [
            "Validation Loss:  0.4538112491559071 Validation Av. Accuracy:  0.873109076433121\n",
            "############ END DLR 2 MODEL 2 REP 2 ############\n",
            "\n",
            "\n",
            "MODEL 2 PARAMETER COUNT: 38306\n",
            "########### START DLR 2 MODEL 2 REP 3 ###########\n"
          ]
        },
        {
          "output_type": "stream",
          "name": "stderr",
          "text": [
            "100%|██████████| 118/118 [00:02<00:00, 58.87it/s]\n"
          ]
        },
        {
          "output_type": "stream",
          "name": "stdout",
          "text": [
            "Finished Batch: \n",
            "Training Loss:  1.4356576669014107 Training Av. Accuracy:  0.49183439265536727\n",
            "EVALUATING\n"
          ]
        },
        {
          "output_type": "stream",
          "name": "stderr",
          "text": [
            "100%|██████████| 157/157 [00:02<00:00, 65.86it/s]\n"
          ]
        },
        {
          "output_type": "stream",
          "name": "stdout",
          "text": [
            "Validation Loss:  0.522102653410784 Validation Av. Accuracy:  0.8394705414012739\n",
            "############ END DLR 2 MODEL 2 REP 3 ############\n",
            "\n",
            "\n",
            "MODEL 2 PARAMETER COUNT: 38306\n",
            "########### START DLR 2 MODEL 2 REP 4 ###########\n"
          ]
        },
        {
          "output_type": "stream",
          "name": "stderr",
          "text": [
            "100%|██████████| 118/118 [00:01<00:00, 59.19it/s]\n"
          ]
        },
        {
          "output_type": "stream",
          "name": "stdout",
          "text": [
            "Finished Batch: \n",
            "Training Loss:  1.507893658037913 Training Av. Accuracy:  0.46071680790960456\n",
            "EVALUATING\n"
          ]
        },
        {
          "output_type": "stream",
          "name": "stderr",
          "text": [
            "100%|██████████| 157/157 [00:02<00:00, 64.77it/s]\n"
          ]
        },
        {
          "output_type": "stream",
          "name": "stdout",
          "text": [
            "Validation Loss:  0.510292789738649 Validation Av. Accuracy:  0.8441480891719745\n",
            "############ END DLR 2 MODEL 2 REP 4 ############\n",
            "\n",
            "\n",
            "MODEL 3 PARAMETER COUNT: 74657\n",
            "########### START DLR 2 MODEL 3 REP 0 ###########\n"
          ]
        },
        {
          "output_type": "stream",
          "name": "stderr",
          "text": [
            "100%|██████████| 118/118 [00:02<00:00, 47.31it/s]\n"
          ]
        },
        {
          "output_type": "stream",
          "name": "stdout",
          "text": [
            "Finished Batch: \n",
            "Training Loss:  1.2024907308109736 Training Av. Accuracy:  0.5915430790960452\n",
            "EVALUATING\n"
          ]
        },
        {
          "output_type": "stream",
          "name": "stderr",
          "text": [
            "100%|██████████| 157/157 [00:02<00:00, 52.55it/s]\n"
          ]
        },
        {
          "output_type": "stream",
          "name": "stdout",
          "text": [
            "Validation Loss:  0.4002171501422384 Validation Av. Accuracy:  0.8715167197452229\n",
            "############ END DLR 2 MODEL 3 REP 0 ############\n",
            "\n",
            "\n",
            "MODEL 3 PARAMETER COUNT: 74657\n",
            "########### START DLR 2 MODEL 3 REP 1 ###########\n"
          ]
        },
        {
          "output_type": "stream",
          "name": "stderr",
          "text": [
            "100%|██████████| 118/118 [00:02<00:00, 55.40it/s]\n"
          ]
        },
        {
          "output_type": "stream",
          "name": "stdout",
          "text": [
            "Finished Batch: \n",
            "Training Loss:  1.2470698376833382 Training Av. Accuracy:  0.5671786723163842\n",
            "EVALUATING\n"
          ]
        },
        {
          "output_type": "stream",
          "name": "stderr",
          "text": [
            "100%|██████████| 157/157 [00:02<00:00, 66.09it/s]\n"
          ]
        },
        {
          "output_type": "stream",
          "name": "stdout",
          "text": [
            "Validation Loss:  0.3840359113398631 Validation Av. Accuracy:  0.875\n",
            "############ END DLR 2 MODEL 3 REP 1 ############\n",
            "\n",
            "\n",
            "MODEL 3 PARAMETER COUNT: 74657\n",
            "########### START DLR 2 MODEL 3 REP 2 ###########\n"
          ]
        },
        {
          "output_type": "stream",
          "name": "stderr",
          "text": [
            "100%|██████████| 118/118 [00:02<00:00, 55.20it/s]\n"
          ]
        },
        {
          "output_type": "stream",
          "name": "stdout",
          "text": [
            "Finished Batch: \n",
            "Training Loss:  1.2169750706624176 Training Av. Accuracy:  0.5981638418079096\n",
            "EVALUATING\n"
          ]
        },
        {
          "output_type": "stream",
          "name": "stderr",
          "text": [
            "100%|██████████| 157/157 [00:02<00:00, 56.43it/s]\n"
          ]
        },
        {
          "output_type": "stream",
          "name": "stdout",
          "text": [
            "Validation Loss:  0.33802127705258167 Validation Av. Accuracy:  0.9010748407643312\n",
            "############ END DLR 2 MODEL 3 REP 2 ############\n",
            "\n",
            "\n",
            "MODEL 3 PARAMETER COUNT: 74657\n",
            "########### START DLR 2 MODEL 3 REP 3 ###########\n"
          ]
        },
        {
          "output_type": "stream",
          "name": "stderr",
          "text": [
            "100%|██████████| 118/118 [00:02<00:00, 42.93it/s]\n"
          ]
        },
        {
          "output_type": "stream",
          "name": "stdout",
          "text": [
            "Finished Batch: \n",
            "Training Loss:  1.1652185063240892 Training Av. Accuracy:  0.5959569209039548\n",
            "EVALUATING\n"
          ]
        },
        {
          "output_type": "stream",
          "name": "stderr",
          "text": [
            "100%|██████████| 157/157 [00:02<00:00, 65.42it/s]\n"
          ]
        },
        {
          "output_type": "stream",
          "name": "stdout",
          "text": [
            "Validation Loss:  0.39669933934120616 Validation Av. Accuracy:  0.8870421974522293\n",
            "############ END DLR 2 MODEL 3 REP 3 ############\n",
            "\n",
            "\n",
            "MODEL 3 PARAMETER COUNT: 74657\n",
            "########### START DLR 2 MODEL 3 REP 4 ###########\n"
          ]
        },
        {
          "output_type": "stream",
          "name": "stderr",
          "text": [
            "100%|██████████| 118/118 [00:02<00:00, 57.33it/s]\n"
          ]
        },
        {
          "output_type": "stream",
          "name": "stdout",
          "text": [
            "Finished Batch: \n",
            "Training Loss:  1.4278479054317637 Training Av. Accuracy:  0.49408545197740117\n",
            "EVALUATING\n"
          ]
        },
        {
          "output_type": "stream",
          "name": "stderr",
          "text": [
            "100%|██████████| 157/157 [00:02<00:00, 65.75it/s]\n"
          ]
        },
        {
          "output_type": "stream",
          "name": "stdout",
          "text": [
            "Validation Loss:  0.4079318613193597 Validation Av. Accuracy:  0.8733081210191083\n",
            "############ END DLR 2 MODEL 3 REP 4 ############\n",
            "\n",
            "\n",
            "MODEL 4 PARAMETER COUNT: 152775\n",
            "########### START DLR 2 MODEL 4 REP 0 ###########\n"
          ]
        },
        {
          "output_type": "stream",
          "name": "stderr",
          "text": [
            "100%|██████████| 118/118 [00:02<00:00, 57.36it/s]\n"
          ]
        },
        {
          "output_type": "stream",
          "name": "stdout",
          "text": [
            "Finished Batch: \n",
            "Training Loss:  0.9620614559468577 Training Av. Accuracy:  0.675097104519774\n",
            "EVALUATING\n"
          ]
        },
        {
          "output_type": "stream",
          "name": "stderr",
          "text": [
            "100%|██████████| 157/157 [00:03<00:00, 44.96it/s]\n"
          ]
        },
        {
          "output_type": "stream",
          "name": "stdout",
          "text": [
            "Validation Loss:  0.2834495523363162 Validation Av. Accuracy:  0.9175955414012739\n",
            "############ END DLR 2 MODEL 4 REP 0 ############\n",
            "\n",
            "\n",
            "MODEL 4 PARAMETER COUNT: 152775\n",
            "########### START DLR 2 MODEL 4 REP 1 ###########\n"
          ]
        },
        {
          "output_type": "stream",
          "name": "stderr",
          "text": [
            "100%|██████████| 118/118 [00:02<00:00, 56.31it/s]\n"
          ]
        },
        {
          "output_type": "stream",
          "name": "stdout",
          "text": [
            "Finished Batch: \n",
            "Training Loss:  0.9532711473056825 Training Av. Accuracy:  0.6773040254237288\n",
            "EVALUATING\n"
          ]
        },
        {
          "output_type": "stream",
          "name": "stderr",
          "text": [
            "100%|██████████| 157/157 [00:02<00:00, 66.09it/s]\n"
          ]
        },
        {
          "output_type": "stream",
          "name": "stdout",
          "text": [
            "Validation Loss:  0.26154388601233247 Validation Av. Accuracy:  0.9220740445859873\n",
            "############ END DLR 2 MODEL 4 REP 1 ############\n",
            "\n",
            "\n",
            "MODEL 4 PARAMETER COUNT: 152775\n",
            "########### START DLR 2 MODEL 4 REP 2 ###########\n"
          ]
        },
        {
          "output_type": "stream",
          "name": "stderr",
          "text": [
            "100%|██████████| 118/118 [00:02<00:00, 57.97it/s]\n"
          ]
        },
        {
          "output_type": "stream",
          "name": "stdout",
          "text": [
            "Finished Batch: \n",
            "Training Loss:  1.0035584526041808 Training Av. Accuracy:  0.6616790254237288\n",
            "EVALUATING\n"
          ]
        },
        {
          "output_type": "stream",
          "name": "stderr",
          "text": [
            "100%|██████████| 157/157 [00:02<00:00, 64.54it/s]\n"
          ]
        },
        {
          "output_type": "stream",
          "name": "stdout",
          "text": [
            "Validation Loss:  0.31011960607994893 Validation Av. Accuracy:  0.9066480891719745\n",
            "############ END DLR 2 MODEL 4 REP 2 ############\n",
            "\n",
            "\n",
            "MODEL 4 PARAMETER COUNT: 152775\n",
            "########### START DLR 2 MODEL 4 REP 3 ###########\n"
          ]
        },
        {
          "output_type": "stream",
          "name": "stderr",
          "text": [
            "100%|██████████| 118/118 [00:02<00:00, 46.85it/s]\n"
          ]
        },
        {
          "output_type": "stream",
          "name": "stdout",
          "text": [
            "Finished Batch: \n",
            "Training Loss:  1.068763144188008 Training Av. Accuracy:  0.6389918785310735\n",
            "EVALUATING\n"
          ]
        },
        {
          "output_type": "stream",
          "name": "stderr",
          "text": [
            "100%|██████████| 157/157 [00:02<00:00, 54.12it/s]\n"
          ]
        },
        {
          "output_type": "stream",
          "name": "stdout",
          "text": [
            "Validation Loss:  0.27918856491328803 Validation Av. Accuracy:  0.9181926751592356\n",
            "############ END DLR 2 MODEL 4 REP 3 ############\n",
            "\n",
            "\n",
            "MODEL 4 PARAMETER COUNT: 152775\n",
            "########### START DLR 2 MODEL 4 REP 4 ###########\n"
          ]
        },
        {
          "output_type": "stream",
          "name": "stderr",
          "text": [
            "100%|██████████| 118/118 [00:02<00:00, 56.38it/s]\n"
          ]
        },
        {
          "output_type": "stream",
          "name": "stdout",
          "text": [
            "Finished Batch: \n",
            "Training Loss:  1.1861933939537759 Training Av. Accuracy:  0.5809939971751413\n",
            "EVALUATING\n"
          ]
        },
        {
          "output_type": "stream",
          "name": "stderr",
          "text": [
            "100%|██████████| 157/157 [00:02<00:00, 66.30it/s]\n"
          ]
        },
        {
          "output_type": "stream",
          "name": "stdout",
          "text": [
            "Validation Loss:  0.31942159867590403 Validation Av. Accuracy:  0.9086385350318471\n",
            "############ END DLR 2 MODEL 4 REP 4 ############\n",
            "\n",
            "\n",
            "MODEL 5 PARAMETER COUNT: 308236\n",
            "########### START DLR 2 MODEL 5 REP 0 ###########\n"
          ]
        },
        {
          "output_type": "stream",
          "name": "stderr",
          "text": [
            "100%|██████████| 118/118 [00:02<00:00, 55.90it/s]\n"
          ]
        },
        {
          "output_type": "stream",
          "name": "stdout",
          "text": [
            "Finished Batch: \n",
            "Training Loss:  0.858403434440241 Training Av. Accuracy:  0.7098340395480226\n",
            "EVALUATING\n"
          ]
        },
        {
          "output_type": "stream",
          "name": "stderr",
          "text": [
            "100%|██████████| 157/157 [00:02<00:00, 56.01it/s]\n"
          ]
        },
        {
          "output_type": "stream",
          "name": "stdout",
          "text": [
            "Validation Loss:  0.22756815853582066 Validation Av. Accuracy:  0.927547770700637\n",
            "############ END DLR 2 MODEL 5 REP 0 ############\n",
            "\n",
            "\n",
            "MODEL 5 PARAMETER COUNT: 308236\n",
            "########### START DLR 2 MODEL 5 REP 1 ###########\n"
          ]
        },
        {
          "output_type": "stream",
          "name": "stderr",
          "text": [
            "100%|██████████| 118/118 [00:02<00:00, 41.99it/s]\n"
          ]
        },
        {
          "output_type": "stream",
          "name": "stdout",
          "text": [
            "Finished Batch: \n",
            "Training Loss:  0.8779774236224466 Training Av. Accuracy:  0.706347104519774\n",
            "EVALUATING\n"
          ]
        },
        {
          "output_type": "stream",
          "name": "stderr",
          "text": [
            "100%|██████████| 157/157 [00:02<00:00, 63.54it/s]\n"
          ]
        },
        {
          "output_type": "stream",
          "name": "stdout",
          "text": [
            "Validation Loss:  0.1970678585919605 Validation Av. Accuracy:  0.9438694267515924\n",
            "############ END DLR 2 MODEL 5 REP 1 ############\n",
            "\n",
            "\n",
            "MODEL 5 PARAMETER COUNT: 308236\n",
            "########### START DLR 2 MODEL 5 REP 2 ###########\n"
          ]
        },
        {
          "output_type": "stream",
          "name": "stderr",
          "text": [
            "100%|██████████| 118/118 [00:02<00:00, 54.85it/s]\n"
          ]
        },
        {
          "output_type": "stream",
          "name": "stdout",
          "text": [
            "Finished Batch: \n",
            "Training Loss:  0.9093273225856029 Training Av. Accuracy:  0.686573093220339\n",
            "EVALUATING\n"
          ]
        },
        {
          "output_type": "stream",
          "name": "stderr",
          "text": [
            "100%|██████████| 157/157 [00:02<00:00, 65.68it/s]\n"
          ]
        },
        {
          "output_type": "stream",
          "name": "stdout",
          "text": [
            "Validation Loss:  0.20221582187968454 Validation Av. Accuracy:  0.9366042993630573\n",
            "############ END DLR 2 MODEL 5 REP 2 ############\n",
            "\n",
            "\n",
            "MODEL 5 PARAMETER COUNT: 308236\n",
            "########### START DLR 2 MODEL 5 REP 3 ###########\n"
          ]
        },
        {
          "output_type": "stream",
          "name": "stderr",
          "text": [
            "100%|██████████| 118/118 [00:02<00:00, 57.01it/s]\n"
          ]
        },
        {
          "output_type": "stream",
          "name": "stdout",
          "text": [
            "Finished Batch: \n",
            "Training Loss:  0.9095557440640563 Training Av. Accuracy:  0.6926200564971752\n",
            "EVALUATING\n"
          ]
        },
        {
          "output_type": "stream",
          "name": "stderr",
          "text": [
            "100%|██████████| 157/157 [00:03<00:00, 47.10it/s]\n"
          ]
        },
        {
          "output_type": "stream",
          "name": "stdout",
          "text": [
            "Validation Loss:  0.19458064308781534 Validation Av. Accuracy:  0.9446656050955414\n",
            "############ END DLR 2 MODEL 5 REP 3 ############\n",
            "\n",
            "\n",
            "MODEL 5 PARAMETER COUNT: 308236\n",
            "########### START DLR 2 MODEL 5 REP 4 ###########\n"
          ]
        },
        {
          "output_type": "stream",
          "name": "stderr",
          "text": [
            "100%|██████████| 118/118 [00:02<00:00, 53.42it/s]\n"
          ]
        },
        {
          "output_type": "stream",
          "name": "stdout",
          "text": [
            "Finished Batch: \n",
            "Training Loss:  1.0198855879953352 Training Av. Accuracy:  0.653954802259887\n",
            "EVALUATING\n"
          ]
        },
        {
          "output_type": "stream",
          "name": "stderr",
          "text": [
            "100%|██████████| 157/157 [00:02<00:00, 63.06it/s]\n"
          ]
        },
        {
          "output_type": "stream",
          "name": "stdout",
          "text": [
            "Validation Loss:  0.2366941755364655 Validation Av. Accuracy:  0.9298367834394905\n",
            "############ END DLR 2 MODEL 5 REP 4 ############\n",
            "\n",
            "\n",
            "MODEL 0 PARAMETER COUNT: 9798\n",
            "########### START DLR 3 MODEL 0 REP 0 ###########\n"
          ]
        },
        {
          "output_type": "stream",
          "name": "stderr",
          "text": [
            " 98%|█████████▊| 231/235 [00:04<00:00, 58.61it/s]/usr/local/lib/python3.10/dist-packages/torch/nn/modules/conv.py:456: UserWarning:\n",
            "\n",
            "Plan failed with a cudnnException: CUDNN_BACKEND_EXECUTION_PLAN_DESCRIPTOR: cudnnFinalize Descriptor Failed cudnn_status: CUDNN_STATUS_NOT_SUPPORTED (Triggered internally at ../aten/src/ATen/native/cudnn/Conv_v8.cpp:919.)\n",
            "\n",
            "100%|██████████| 235/235 [00:04<00:00, 50.85it/s]\n"
          ]
        },
        {
          "output_type": "stream",
          "name": "stdout",
          "text": [
            "Finished Batch: \n",
            "Training Loss:  1.347438494702603 Training Av. Accuracy:  0.5255540780141844\n",
            "EVALUATING\n"
          ]
        },
        {
          "output_type": "stream",
          "name": "stderr",
          "text": [
            "100%|██████████| 157/157 [00:03<00:00, 46.35it/s]\n"
          ]
        },
        {
          "output_type": "stream",
          "name": "stdout",
          "text": [
            "Validation Loss:  0.4277878976931238 Validation Av. Accuracy:  0.8804737261146497\n",
            "############ END DLR 3 MODEL 0 REP 0 ############\n",
            "\n",
            "\n",
            "MODEL 0 PARAMETER COUNT: 9798\n",
            "########### START DLR 3 MODEL 0 REP 1 ###########\n"
          ]
        },
        {
          "output_type": "stream",
          "name": "stderr",
          "text": [
            "100%|██████████| 235/235 [00:04<00:00, 57.79it/s]\n"
          ]
        },
        {
          "output_type": "stream",
          "name": "stdout",
          "text": [
            "Finished Batch: \n",
            "Training Loss:  1.3014278158228447 Training Av. Accuracy:  0.5387632978723405\n",
            "EVALUATING\n"
          ]
        },
        {
          "output_type": "stream",
          "name": "stderr",
          "text": [
            "100%|██████████| 157/157 [00:02<00:00, 65.68it/s]\n"
          ]
        },
        {
          "output_type": "stream",
          "name": "stdout",
          "text": [
            "Validation Loss:  0.4620292101316391 Validation Av. Accuracy:  0.8724124203821656\n",
            "############ END DLR 3 MODEL 0 REP 1 ############\n",
            "\n",
            "\n",
            "MODEL 0 PARAMETER COUNT: 9798\n",
            "########### START DLR 3 MODEL 0 REP 2 ###########\n"
          ]
        },
        {
          "output_type": "stream",
          "name": "stderr",
          "text": [
            "100%|██████████| 235/235 [00:04<00:00, 52.60it/s]\n"
          ]
        },
        {
          "output_type": "stream",
          "name": "stdout",
          "text": [
            "Finished Batch: \n",
            "Training Loss:  1.3184113804330218 Training Av. Accuracy:  0.5423758865248227\n",
            "EVALUATING\n"
          ]
        },
        {
          "output_type": "stream",
          "name": "stderr",
          "text": [
            "100%|██████████| 157/157 [00:03<00:00, 52.14it/s]\n"
          ]
        },
        {
          "output_type": "stream",
          "name": "stdout",
          "text": [
            "Validation Loss:  0.4330198406983333 Validation Av. Accuracy:  0.8932125796178344\n",
            "############ END DLR 3 MODEL 0 REP 2 ############\n",
            "\n",
            "\n",
            "MODEL 0 PARAMETER COUNT: 9798\n",
            "########### START DLR 3 MODEL 0 REP 3 ###########\n"
          ]
        },
        {
          "output_type": "stream",
          "name": "stderr",
          "text": [
            "100%|██████████| 235/235 [00:04<00:00, 57.40it/s]\n"
          ]
        },
        {
          "output_type": "stream",
          "name": "stdout",
          "text": [
            "Finished Batch: \n",
            "Training Loss:  1.3113979810095848 Training Av. Accuracy:  0.5308067375886525\n",
            "EVALUATING\n"
          ]
        },
        {
          "output_type": "stream",
          "name": "stderr",
          "text": [
            "100%|██████████| 157/157 [00:02<00:00, 67.32it/s]\n"
          ]
        },
        {
          "output_type": "stream",
          "name": "stdout",
          "text": [
            "Validation Loss:  0.39962443082955235 Validation Av. Accuracy:  0.9020700636942676\n",
            "############ END DLR 3 MODEL 0 REP 3 ############\n",
            "\n",
            "\n",
            "MODEL 0 PARAMETER COUNT: 9798\n",
            "########### START DLR 3 MODEL 0 REP 4 ###########\n"
          ]
        },
        {
          "output_type": "stream",
          "name": "stderr",
          "text": [
            "100%|██████████| 235/235 [00:05<00:00, 45.59it/s]\n"
          ]
        },
        {
          "output_type": "stream",
          "name": "stdout",
          "text": [
            "Finished Batch: \n",
            "Training Loss:  1.3920080217909305 Training Av. Accuracy:  0.5179521276595744\n",
            "EVALUATING\n"
          ]
        },
        {
          "output_type": "stream",
          "name": "stderr",
          "text": [
            "100%|██████████| 157/157 [00:02<00:00, 64.47it/s]\n"
          ]
        },
        {
          "output_type": "stream",
          "name": "stdout",
          "text": [
            "Validation Loss:  0.41891908133105865 Validation Av. Accuracy:  0.8909235668789809\n",
            "############ END DLR 3 MODEL 0 REP 4 ############\n",
            "\n",
            "\n",
            "MODEL 1 PARAMETER COUNT: 20245\n",
            "########### START DLR 3 MODEL 1 REP 0 ###########\n"
          ]
        },
        {
          "output_type": "stream",
          "name": "stderr",
          "text": [
            "100%|██████████| 235/235 [00:04<00:00, 55.60it/s]\n"
          ]
        },
        {
          "output_type": "stream",
          "name": "stdout",
          "text": [
            "Finished Batch: \n",
            "Training Loss:  1.1569176791830267 Training Av. Accuracy:  0.6027482269503547\n",
            "EVALUATING\n"
          ]
        },
        {
          "output_type": "stream",
          "name": "stderr",
          "text": [
            "100%|██████████| 157/157 [00:02<00:00, 64.65it/s]\n"
          ]
        },
        {
          "output_type": "stream",
          "name": "stdout",
          "text": [
            "Validation Loss:  0.3239063529451941 Validation Av. Accuracy:  0.9083399681528662\n",
            "############ END DLR 3 MODEL 1 REP 0 ############\n",
            "\n",
            "\n",
            "MODEL 1 PARAMETER COUNT: 20245\n",
            "########### START DLR 3 MODEL 1 REP 1 ###########\n"
          ]
        },
        {
          "output_type": "stream",
          "name": "stderr",
          "text": [
            "100%|██████████| 235/235 [00:05<00:00, 44.55it/s]\n"
          ]
        },
        {
          "output_type": "stream",
          "name": "stdout",
          "text": [
            "Finished Batch: \n",
            "Training Loss:  1.1264560387489644 Training Av. Accuracy:  0.6054299645390071\n",
            "EVALUATING\n"
          ]
        },
        {
          "output_type": "stream",
          "name": "stderr",
          "text": [
            "100%|██████████| 157/157 [00:02<00:00, 60.81it/s]\n"
          ]
        },
        {
          "output_type": "stream",
          "name": "stdout",
          "text": [
            "Validation Loss:  0.3431674522958743 Validation Av. Accuracy:  0.9078423566878981\n",
            "############ END DLR 3 MODEL 1 REP 1 ############\n",
            "\n",
            "\n",
            "MODEL 1 PARAMETER COUNT: 20245\n",
            "########### START DLR 3 MODEL 1 REP 2 ###########\n"
          ]
        },
        {
          "output_type": "stream",
          "name": "stderr",
          "text": [
            "100%|██████████| 235/235 [00:04<00:00, 55.88it/s]\n"
          ]
        },
        {
          "output_type": "stream",
          "name": "stdout",
          "text": [
            "Finished Batch: \n",
            "Training Loss:  1.2691782035726182 Training Av. Accuracy:  0.5560505319148936\n",
            "EVALUATING\n"
          ]
        },
        {
          "output_type": "stream",
          "name": "stderr",
          "text": [
            "100%|██████████| 157/157 [00:02<00:00, 55.22it/s]\n"
          ]
        },
        {
          "output_type": "stream",
          "name": "stdout",
          "text": [
            "Validation Loss:  0.4948413478341072 Validation Av. Accuracy:  0.8675358280254777\n",
            "############ END DLR 3 MODEL 1 REP 2 ############\n",
            "\n",
            "\n",
            "MODEL 1 PARAMETER COUNT: 20245\n",
            "########### START DLR 3 MODEL 1 REP 3 ###########\n"
          ]
        },
        {
          "output_type": "stream",
          "name": "stderr",
          "text": [
            "100%|██████████| 235/235 [00:05<00:00, 46.04it/s]\n"
          ]
        },
        {
          "output_type": "stream",
          "name": "stdout",
          "text": [
            "Finished Batch: \n",
            "Training Loss:  1.1578311127551058 Training Av. Accuracy:  0.5875886524822695\n",
            "EVALUATING\n"
          ]
        },
        {
          "output_type": "stream",
          "name": "stderr",
          "text": [
            "100%|██████████| 157/157 [00:02<00:00, 59.91it/s]\n"
          ]
        },
        {
          "output_type": "stream",
          "name": "stdout",
          "text": [
            "Validation Loss:  0.3815059454008273 Validation Av. Accuracy:  0.8919187898089171\n",
            "############ END DLR 3 MODEL 1 REP 3 ############\n",
            "\n",
            "\n",
            "MODEL 1 PARAMETER COUNT: 20245\n",
            "########### START DLR 3 MODEL 1 REP 4 ###########\n"
          ]
        },
        {
          "output_type": "stream",
          "name": "stderr",
          "text": [
            "100%|██████████| 235/235 [00:04<00:00, 52.06it/s]\n"
          ]
        },
        {
          "output_type": "stream",
          "name": "stdout",
          "text": [
            "Finished Batch: \n",
            "Training Loss:  1.121550987502362 Training Av. Accuracy:  0.6135859929078015\n",
            "EVALUATING\n"
          ]
        },
        {
          "output_type": "stream",
          "name": "stderr",
          "text": [
            "100%|██████████| 157/157 [00:03<00:00, 44.57it/s]\n"
          ]
        },
        {
          "output_type": "stream",
          "name": "stdout",
          "text": [
            "Validation Loss:  0.35465567250540303 Validation Av. Accuracy:  0.8960987261146497\n",
            "############ END DLR 3 MODEL 1 REP 4 ############\n",
            "\n",
            "\n",
            "MODEL 2 PARAMETER COUNT: 38306\n",
            "########### START DLR 3 MODEL 2 REP 0 ###########\n"
          ]
        },
        {
          "output_type": "stream",
          "name": "stderr",
          "text": [
            "100%|██████████| 235/235 [00:04<00:00, 52.50it/s]\n"
          ]
        },
        {
          "output_type": "stream",
          "name": "stdout",
          "text": [
            "Finished Batch: \n",
            "Training Loss:  1.0099146004686965 Training Av. Accuracy:  0.6495789007092199\n",
            "EVALUATING\n"
          ]
        },
        {
          "output_type": "stream",
          "name": "stderr",
          "text": [
            "100%|██████████| 157/157 [00:02<00:00, 62.52it/s]\n"
          ]
        },
        {
          "output_type": "stream",
          "name": "stdout",
          "text": [
            "Validation Loss:  0.23613950069163256 Validation Av. Accuracy:  0.9320262738853503\n",
            "############ END DLR 3 MODEL 2 REP 0 ############\n",
            "\n",
            "\n",
            "MODEL 2 PARAMETER COUNT: 38306\n",
            "########### START DLR 3 MODEL 2 REP 1 ###########\n"
          ]
        },
        {
          "output_type": "stream",
          "name": "stderr",
          "text": [
            "100%|██████████| 235/235 [00:05<00:00, 43.59it/s]\n"
          ]
        },
        {
          "output_type": "stream",
          "name": "stdout",
          "text": [
            "Finished Batch: \n",
            "Training Loss:  0.9725426514732077 Training Av. Accuracy:  0.6741799645390071\n",
            "EVALUATING\n"
          ]
        },
        {
          "output_type": "stream",
          "name": "stderr",
          "text": [
            "100%|██████████| 157/157 [00:02<00:00, 61.92it/s]\n"
          ]
        },
        {
          "output_type": "stream",
          "name": "stdout",
          "text": [
            "Validation Loss:  0.26137028696240894 Validation Av. Accuracy:  0.9300358280254777\n",
            "############ END DLR 3 MODEL 2 REP 1 ############\n",
            "\n",
            "\n",
            "MODEL 2 PARAMETER COUNT: 38306\n",
            "########### START DLR 3 MODEL 2 REP 2 ###########\n"
          ]
        },
        {
          "output_type": "stream",
          "name": "stderr",
          "text": [
            "100%|██████████| 235/235 [00:04<00:00, 52.94it/s]\n"
          ]
        },
        {
          "output_type": "stream",
          "name": "stdout",
          "text": [
            "Finished Batch: \n",
            "Training Loss:  0.9546854478247622 Training Av. Accuracy:  0.6734042553191489\n",
            "EVALUATING\n"
          ]
        },
        {
          "output_type": "stream",
          "name": "stderr",
          "text": [
            "100%|██████████| 157/157 [00:02<00:00, 61.21it/s]\n"
          ]
        },
        {
          "output_type": "stream",
          "name": "stdout",
          "text": [
            "Validation Loss:  0.28939318884709836 Validation Av. Accuracy:  0.9131170382165605\n",
            "############ END DLR 3 MODEL 2 REP 2 ############\n",
            "\n",
            "\n",
            "MODEL 2 PARAMETER COUNT: 38306\n",
            "########### START DLR 3 MODEL 2 REP 3 ###########\n"
          ]
        },
        {
          "output_type": "stream",
          "name": "stderr",
          "text": [
            "100%|██████████| 235/235 [00:05<00:00, 44.52it/s]\n"
          ]
        },
        {
          "output_type": "stream",
          "name": "stdout",
          "text": [
            "Finished Batch: \n",
            "Training Loss:  0.9664445210010447 Training Av. Accuracy:  0.674290780141844\n",
            "EVALUATING\n"
          ]
        },
        {
          "output_type": "stream",
          "name": "stderr",
          "text": [
            "100%|██████████| 157/157 [00:02<00:00, 61.10it/s]\n"
          ]
        },
        {
          "output_type": "stream",
          "name": "stdout",
          "text": [
            "Validation Loss:  0.293005560993389 Validation Av. Accuracy:  0.9132165605095541\n",
            "############ END DLR 3 MODEL 2 REP 3 ############\n",
            "\n",
            "\n",
            "MODEL 2 PARAMETER COUNT: 38306\n",
            "########### START DLR 3 MODEL 2 REP 4 ###########\n"
          ]
        },
        {
          "output_type": "stream",
          "name": "stderr",
          "text": [
            "100%|██████████| 235/235 [00:04<00:00, 53.20it/s]\n"
          ]
        },
        {
          "output_type": "stream",
          "name": "stdout",
          "text": [
            "Finished Batch: \n",
            "Training Loss:  1.118327448723164 Training Av. Accuracy:  0.6054964539007092\n",
            "EVALUATING\n"
          ]
        },
        {
          "output_type": "stream",
          "name": "stderr",
          "text": [
            "100%|██████████| 157/157 [00:03<00:00, 50.75it/s]\n"
          ]
        },
        {
          "output_type": "stream",
          "name": "stdout",
          "text": [
            "Validation Loss:  0.3221772975602727 Validation Av. Accuracy:  0.900577229299363\n",
            "############ END DLR 3 MODEL 2 REP 4 ############\n",
            "\n",
            "\n",
            "MODEL 3 PARAMETER COUNT: 74657\n",
            "########### START DLR 3 MODEL 3 REP 0 ###########\n"
          ]
        },
        {
          "output_type": "stream",
          "name": "stderr",
          "text": [
            "100%|██████████| 235/235 [00:04<00:00, 50.07it/s]\n"
          ]
        },
        {
          "output_type": "stream",
          "name": "stdout",
          "text": [
            "Finished Batch: \n",
            "Training Loss:  0.8532971337120584 Training Av. Accuracy:  0.7054964539007091\n",
            "EVALUATING\n"
          ]
        },
        {
          "output_type": "stream",
          "name": "stderr",
          "text": [
            "100%|██████████| 157/157 [00:02<00:00, 61.92it/s]\n"
          ]
        },
        {
          "output_type": "stream",
          "name": "stdout",
          "text": [
            "Validation Loss:  0.22683681108674425 Validation Av. Accuracy:  0.9319267515923567\n",
            "############ END DLR 3 MODEL 3 REP 0 ############\n",
            "\n",
            "\n",
            "MODEL 3 PARAMETER COUNT: 74657\n",
            "########### START DLR 3 MODEL 3 REP 1 ###########\n"
          ]
        },
        {
          "output_type": "stream",
          "name": "stderr",
          "text": [
            "100%|██████████| 235/235 [00:04<00:00, 52.90it/s]\n"
          ]
        },
        {
          "output_type": "stream",
          "name": "stdout",
          "text": [
            "Finished Batch: \n",
            "Training Loss:  0.7721759508264826 Training Av. Accuracy:  0.7412898936170212\n",
            "EVALUATING\n"
          ]
        },
        {
          "output_type": "stream",
          "name": "stderr",
          "text": [
            "100%|██████████| 157/157 [00:03<00:00, 45.75it/s]\n"
          ]
        },
        {
          "output_type": "stream",
          "name": "stdout",
          "text": [
            "Validation Loss:  0.17980847358229055 Validation Av. Accuracy:  0.9452627388535032\n",
            "############ END DLR 3 MODEL 3 REP 1 ############\n",
            "\n",
            "\n",
            "MODEL 3 PARAMETER COUNT: 74657\n",
            "########### START DLR 3 MODEL 3 REP 2 ###########\n"
          ]
        },
        {
          "output_type": "stream",
          "name": "stderr",
          "text": [
            "100%|██████████| 235/235 [00:04<00:00, 56.13it/s]\n"
          ]
        },
        {
          "output_type": "stream",
          "name": "stdout",
          "text": [
            "Finished Batch: \n",
            "Training Loss:  0.8885476813037345 Training Av. Accuracy:  0.6973847517730496\n",
            "EVALUATING\n"
          ]
        },
        {
          "output_type": "stream",
          "name": "stderr",
          "text": [
            "100%|██████████| 157/157 [00:02<00:00, 64.31it/s]\n"
          ]
        },
        {
          "output_type": "stream",
          "name": "stdout",
          "text": [
            "Validation Loss:  0.20893535511508868 Validation Av. Accuracy:  0.9376990445859873\n",
            "############ END DLR 3 MODEL 3 REP 2 ############\n",
            "\n",
            "\n",
            "MODEL 3 PARAMETER COUNT: 74657\n",
            "########### START DLR 3 MODEL 3 REP 3 ###########\n"
          ]
        },
        {
          "output_type": "stream",
          "name": "stderr",
          "text": [
            "100%|██████████| 235/235 [00:04<00:00, 48.01it/s]\n"
          ]
        },
        {
          "output_type": "stream",
          "name": "stdout",
          "text": [
            "Finished Batch: \n",
            "Training Loss:  0.8468065590300459 Training Av. Accuracy:  0.712854609929078\n",
            "EVALUATING\n"
          ]
        },
        {
          "output_type": "stream",
          "name": "stderr",
          "text": [
            "100%|██████████| 157/157 [00:02<00:00, 55.12it/s]\n"
          ]
        },
        {
          "output_type": "stream",
          "name": "stdout",
          "text": [
            "Validation Loss:  0.1661738242693008 Validation Av. Accuracy:  0.9527269108280255\n",
            "############ END DLR 3 MODEL 3 REP 3 ############\n",
            "\n",
            "\n",
            "MODEL 3 PARAMETER COUNT: 74657\n",
            "########### START DLR 3 MODEL 3 REP 4 ###########\n"
          ]
        },
        {
          "output_type": "stream",
          "name": "stderr",
          "text": [
            "100%|██████████| 235/235 [00:04<00:00, 55.28it/s]\n"
          ]
        },
        {
          "output_type": "stream",
          "name": "stdout",
          "text": [
            "Finished Batch: \n",
            "Training Loss:  0.8104795869360579 Training Av. Accuracy:  0.724822695035461\n",
            "EVALUATING\n"
          ]
        },
        {
          "output_type": "stream",
          "name": "stderr",
          "text": [
            "100%|██████████| 157/157 [00:02<00:00, 65.35it/s]\n"
          ]
        },
        {
          "output_type": "stream",
          "name": "stdout",
          "text": [
            "Validation Loss:  0.18187685137626472 Validation Av. Accuracy:  0.9454617834394905\n",
            "############ END DLR 3 MODEL 3 REP 4 ############\n",
            "\n",
            "\n",
            "MODEL 4 PARAMETER COUNT: 152775\n",
            "########### START DLR 3 MODEL 4 REP 0 ###########\n"
          ]
        },
        {
          "output_type": "stream",
          "name": "stderr",
          "text": [
            "100%|██████████| 235/235 [00:05<00:00, 46.09it/s]\n"
          ]
        },
        {
          "output_type": "stream",
          "name": "stdout",
          "text": [
            "Finished Batch: \n",
            "Training Loss:  0.693500856991778 Training Av. Accuracy:  0.764383865248227\n",
            "EVALUATING\n"
          ]
        },
        {
          "output_type": "stream",
          "name": "stderr",
          "text": [
            "100%|██████████| 157/157 [00:02<00:00, 62.27it/s]\n"
          ]
        },
        {
          "output_type": "stream",
          "name": "stdout",
          "text": [
            "Validation Loss:  0.14268543140571208 Validation Av. Accuracy:  0.9583001592356688\n",
            "############ END DLR 3 MODEL 4 REP 0 ############\n",
            "\n",
            "\n",
            "MODEL 4 PARAMETER COUNT: 152775\n",
            "########### START DLR 3 MODEL 4 REP 1 ###########\n"
          ]
        },
        {
          "output_type": "stream",
          "name": "stderr",
          "text": [
            "100%|██████████| 235/235 [00:04<00:00, 56.60it/s]\n"
          ]
        },
        {
          "output_type": "stream",
          "name": "stdout",
          "text": [
            "Finished Batch: \n",
            "Training Loss:  0.6830322672712043 Training Av. Accuracy:  0.7672429078014185\n",
            "EVALUATING\n"
          ]
        },
        {
          "output_type": "stream",
          "name": "stderr",
          "text": [
            "100%|██████████| 157/157 [00:02<00:00, 65.86it/s]\n"
          ]
        },
        {
          "output_type": "stream",
          "name": "stdout",
          "text": [
            "Validation Loss:  0.1595077118391444 Validation Av. Accuracy:  0.9527269108280255\n",
            "############ END DLR 3 MODEL 4 REP 1 ############\n",
            "\n",
            "\n",
            "MODEL 4 PARAMETER COUNT: 152775\n",
            "########### START DLR 3 MODEL 4 REP 2 ###########\n"
          ]
        },
        {
          "output_type": "stream",
          "name": "stderr",
          "text": [
            "100%|██████████| 235/235 [00:05<00:00, 46.06it/s]\n"
          ]
        },
        {
          "output_type": "stream",
          "name": "stdout",
          "text": [
            "Finished Batch: \n",
            "Training Loss:  0.6498276126194508 Training Av. Accuracy:  0.7804521276595745\n",
            "EVALUATING\n"
          ]
        },
        {
          "output_type": "stream",
          "name": "stderr",
          "text": [
            "100%|██████████| 157/157 [00:02<00:00, 65.40it/s]\n"
          ]
        },
        {
          "output_type": "stream",
          "name": "stdout",
          "text": [
            "Validation Loss:  0.1449614817359645 Validation Av. Accuracy:  0.9589968152866242\n",
            "############ END DLR 3 MODEL 4 REP 2 ############\n",
            "\n",
            "\n",
            "MODEL 4 PARAMETER COUNT: 152775\n",
            "########### START DLR 3 MODEL 4 REP 3 ###########\n"
          ]
        },
        {
          "output_type": "stream",
          "name": "stderr",
          "text": [
            "100%|██████████| 235/235 [00:04<00:00, 57.39it/s]\n"
          ]
        },
        {
          "output_type": "stream",
          "name": "stdout",
          "text": [
            "Finished Batch: \n",
            "Training Loss:  0.7359396694029899 Training Av. Accuracy:  0.7503546099290781\n",
            "EVALUATING\n"
          ]
        },
        {
          "output_type": "stream",
          "name": "stderr",
          "text": [
            "100%|██████████| 157/157 [00:02<00:00, 57.90it/s]\n"
          ]
        },
        {
          "output_type": "stream",
          "name": "stdout",
          "text": [
            "Validation Loss:  0.11777257691523071 Validation Av. Accuracy:  0.9638734076433121\n",
            "############ END DLR 3 MODEL 4 REP 3 ############\n",
            "\n",
            "\n",
            "MODEL 4 PARAMETER COUNT: 152775\n",
            "########### START DLR 3 MODEL 4 REP 4 ###########\n"
          ]
        },
        {
          "output_type": "stream",
          "name": "stderr",
          "text": [
            "100%|██████████| 235/235 [00:04<00:00, 47.80it/s]\n"
          ]
        },
        {
          "output_type": "stream",
          "name": "stdout",
          "text": [
            "Finished Batch: \n",
            "Training Loss:  0.713951764620365 Training Av. Accuracy:  0.7648714539007092\n",
            "EVALUATING\n"
          ]
        },
        {
          "output_type": "stream",
          "name": "stderr",
          "text": [
            "100%|██████████| 157/157 [00:02<00:00, 62.71it/s]\n"
          ]
        },
        {
          "output_type": "stream",
          "name": "stdout",
          "text": [
            "Validation Loss:  0.1502573946431564 Validation Av. Accuracy:  0.953125\n",
            "############ END DLR 3 MODEL 4 REP 4 ############\n",
            "\n",
            "\n",
            "MODEL 5 PARAMETER COUNT: 308236\n",
            "########### START DLR 3 MODEL 5 REP 0 ###########\n"
          ]
        },
        {
          "output_type": "stream",
          "name": "stderr",
          "text": [
            "100%|██████████| 235/235 [00:04<00:00, 54.82it/s]\n"
          ]
        },
        {
          "output_type": "stream",
          "name": "stdout",
          "text": [
            "Finished Batch: \n",
            "Training Loss:  0.5919626521778868 Training Av. Accuracy:  0.8009751773049645\n",
            "EVALUATING\n"
          ]
        },
        {
          "output_type": "stream",
          "name": "stderr",
          "text": [
            "100%|██████████| 157/157 [00:03<00:00, 45.61it/s]\n"
          ]
        },
        {
          "output_type": "stream",
          "name": "stdout",
          "text": [
            "Validation Loss:  0.12592109484942096 Validation Av. Accuracy:  0.9610867834394905\n",
            "############ END DLR 3 MODEL 5 REP 0 ############\n",
            "\n",
            "\n",
            "MODEL 5 PARAMETER COUNT: 308236\n",
            "########### START DLR 3 MODEL 5 REP 1 ###########\n"
          ]
        },
        {
          "output_type": "stream",
          "name": "stderr",
          "text": [
            "100%|██████████| 235/235 [00:04<00:00, 54.40it/s]\n"
          ]
        },
        {
          "output_type": "stream",
          "name": "stdout",
          "text": [
            "Finished Batch: \n",
            "Training Loss:  0.5183447563901861 Training Av. Accuracy:  0.831072695035461\n",
            "EVALUATING\n"
          ]
        },
        {
          "output_type": "stream",
          "name": "stderr",
          "text": [
            "100%|██████████| 157/157 [00:02<00:00, 60.81it/s]\n"
          ]
        },
        {
          "output_type": "stream",
          "name": "stdout",
          "text": [
            "Validation Loss:  0.10910756043662691 Validation Av. Accuracy:  0.9658638535031847\n",
            "############ END DLR 3 MODEL 5 REP 1 ############\n",
            "\n",
            "\n",
            "MODEL 5 PARAMETER COUNT: 308236\n",
            "########### START DLR 3 MODEL 5 REP 2 ###########\n"
          ]
        },
        {
          "output_type": "stream",
          "name": "stderr",
          "text": [
            "100%|██████████| 235/235 [00:04<00:00, 47.82it/s]\n"
          ]
        },
        {
          "output_type": "stream",
          "name": "stdout",
          "text": [
            "Finished Batch: \n",
            "Training Loss:  0.6008858153636151 Training Av. Accuracy:  0.7986702127659574\n",
            "EVALUATING\n"
          ]
        },
        {
          "output_type": "stream",
          "name": "stderr",
          "text": [
            "100%|██████████| 157/157 [00:02<00:00, 55.98it/s]\n"
          ]
        },
        {
          "output_type": "stream",
          "name": "stdout",
          "text": [
            "Validation Loss:  0.12657789713970036 Validation Av. Accuracy:  0.957703025477707\n",
            "############ END DLR 3 MODEL 5 REP 2 ############\n",
            "\n",
            "\n",
            "MODEL 5 PARAMETER COUNT: 308236\n",
            "########### START DLR 3 MODEL 5 REP 3 ###########\n"
          ]
        },
        {
          "output_type": "stream",
          "name": "stderr",
          "text": [
            "100%|██████████| 235/235 [00:04<00:00, 55.01it/s]\n"
          ]
        },
        {
          "output_type": "stream",
          "name": "stdout",
          "text": [
            "Finished Batch: \n",
            "Training Loss:  0.5883891493082046 Training Av. Accuracy:  0.8028812056737589\n",
            "EVALUATING\n"
          ]
        },
        {
          "output_type": "stream",
          "name": "stderr",
          "text": [
            "100%|██████████| 157/157 [00:02<00:00, 64.21it/s]\n"
          ]
        },
        {
          "output_type": "stream",
          "name": "stdout",
          "text": [
            "Validation Loss:  0.1252314862884154 Validation Av. Accuracy:  0.963077229299363\n",
            "############ END DLR 3 MODEL 5 REP 3 ############\n",
            "\n",
            "\n",
            "MODEL 5 PARAMETER COUNT: 308236\n",
            "########### START DLR 3 MODEL 5 REP 4 ###########\n"
          ]
        },
        {
          "output_type": "stream",
          "name": "stderr",
          "text": [
            "100%|██████████| 235/235 [00:05<00:00, 46.42it/s]\n"
          ]
        },
        {
          "output_type": "stream",
          "name": "stdout",
          "text": [
            "Finished Batch: \n",
            "Training Loss:  0.620511919894117 Training Av. Accuracy:  0.791511524822695\n",
            "EVALUATING\n"
          ]
        },
        {
          "output_type": "stream",
          "name": "stderr",
          "text": [
            "100%|██████████| 157/157 [00:02<00:00, 64.25it/s]\n"
          ]
        },
        {
          "output_type": "stream",
          "name": "stdout",
          "text": [
            "Validation Loss:  0.1421642166793726 Validation Av. Accuracy:  0.9564092356687898\n",
            "############ END DLR 3 MODEL 5 REP 4 ############\n",
            "\n",
            "\n",
            "MODEL 0 PARAMETER COUNT: 9798\n",
            "########### START DLR 4 MODEL 0 REP 0 ###########\n"
          ]
        },
        {
          "output_type": "stream",
          "name": "stderr",
          "text": [
            "100%|█████████▉| 467/469 [00:08<00:00, 39.27it/s]/usr/local/lib/python3.10/dist-packages/torch/nn/modules/conv.py:456: UserWarning:\n",
            "\n",
            "Plan failed with a cudnnException: CUDNN_BACKEND_EXECUTION_PLAN_DESCRIPTOR: cudnnFinalize Descriptor Failed cudnn_status: CUDNN_STATUS_NOT_SUPPORTED (Triggered internally at ../aten/src/ATen/native/cudnn/Conv_v8.cpp:919.)\n",
            "\n",
            "100%|██████████| 469/469 [00:08<00:00, 52.25it/s]\n"
          ]
        },
        {
          "output_type": "stream",
          "name": "stdout",
          "text": [
            "Finished Batch: \n",
            "Training Loss:  1.0342201967991747 Training Av. Accuracy:  0.6339618869936035\n",
            "EVALUATING\n"
          ]
        },
        {
          "output_type": "stream",
          "name": "stderr",
          "text": [
            "100%|██████████| 157/157 [00:02<00:00, 59.09it/s]\n"
          ]
        },
        {
          "output_type": "stream",
          "name": "stdout",
          "text": [
            "Validation Loss:  0.2882001601207029 Validation Av. Accuracy:  0.9201831210191083\n",
            "############ END DLR 4 MODEL 0 REP 0 ############\n",
            "\n",
            "\n",
            "MODEL 0 PARAMETER COUNT: 9798\n",
            "########### START DLR 4 MODEL 0 REP 1 ###########\n"
          ]
        },
        {
          "output_type": "stream",
          "name": "stderr",
          "text": [
            "100%|██████████| 469/469 [00:08<00:00, 57.22it/s]\n"
          ]
        },
        {
          "output_type": "stream",
          "name": "stdout",
          "text": [
            "Finished Batch: \n",
            "Training Loss:  1.0069071607294875 Training Av. Accuracy:  0.650441986496091\n",
            "EVALUATING\n"
          ]
        },
        {
          "output_type": "stream",
          "name": "stderr",
          "text": [
            "100%|██████████| 157/157 [00:03<00:00, 47.37it/s]\n"
          ]
        },
        {
          "output_type": "stream",
          "name": "stdout",
          "text": [
            "Validation Loss:  0.27235765166723047 Validation Av. Accuracy:  0.9232683121019108\n",
            "############ END DLR 4 MODEL 0 REP 1 ############\n",
            "\n",
            "\n",
            "MODEL 0 PARAMETER COUNT: 9798\n",
            "########### START DLR 4 MODEL 0 REP 2 ###########\n"
          ]
        },
        {
          "output_type": "stream",
          "name": "stderr",
          "text": [
            "100%|██████████| 469/469 [00:08<00:00, 57.41it/s]\n"
          ]
        },
        {
          "output_type": "stream",
          "name": "stdout",
          "text": [
            "Finished Batch: \n",
            "Training Loss:  1.097344023840768 Training Av. Accuracy:  0.6217461798152096\n",
            "EVALUATING\n"
          ]
        },
        {
          "output_type": "stream",
          "name": "stderr",
          "text": [
            "100%|██████████| 157/157 [00:02<00:00, 56.80it/s]\n"
          ]
        },
        {
          "output_type": "stream",
          "name": "stdout",
          "text": [
            "Validation Loss:  0.38483582043154224 Validation Av. Accuracy:  0.8828622611464968\n",
            "############ END DLR 4 MODEL 0 REP 2 ############\n",
            "\n",
            "\n",
            "MODEL 0 PARAMETER COUNT: 9798\n",
            "########### START DLR 4 MODEL 0 REP 3 ###########\n"
          ]
        },
        {
          "output_type": "stream",
          "name": "stderr",
          "text": [
            "100%|██████████| 469/469 [00:08<00:00, 54.56it/s]\n"
          ]
        },
        {
          "output_type": "stream",
          "name": "stdout",
          "text": [
            "Finished Batch: \n",
            "Training Loss:  1.2346072433345607 Training Av. Accuracy:  0.5589019189765458\n",
            "EVALUATING\n"
          ]
        },
        {
          "output_type": "stream",
          "name": "stderr",
          "text": [
            "100%|██████████| 157/157 [00:02<00:00, 65.92it/s]\n"
          ]
        },
        {
          "output_type": "stream",
          "name": "stdout",
          "text": [
            "Validation Loss:  0.4539751137138172 Validation Av. Accuracy:  0.8820660828025477\n",
            "############ END DLR 4 MODEL 0 REP 3 ############\n",
            "\n",
            "\n",
            "MODEL 0 PARAMETER COUNT: 9798\n",
            "########### START DLR 4 MODEL 0 REP 4 ###########\n"
          ]
        },
        {
          "output_type": "stream",
          "name": "stderr",
          "text": [
            "100%|██████████| 469/469 [00:09<00:00, 51.35it/s]\n"
          ]
        },
        {
          "output_type": "stream",
          "name": "stdout",
          "text": [
            "Finished Batch: \n",
            "Training Loss:  1.0394818704646787 Training Av. Accuracy:  0.6396477434257285\n",
            "EVALUATING\n"
          ]
        },
        {
          "output_type": "stream",
          "name": "stderr",
          "text": [
            "100%|██████████| 157/157 [00:02<00:00, 66.32it/s]\n"
          ]
        },
        {
          "output_type": "stream",
          "name": "stdout",
          "text": [
            "Validation Loss:  0.3091682273016614 Validation Av. Accuracy:  0.9113256369426752\n",
            "############ END DLR 4 MODEL 0 REP 4 ############\n",
            "\n",
            "\n",
            "MODEL 1 PARAMETER COUNT: 20245\n",
            "########### START DLR 4 MODEL 1 REP 0 ###########\n"
          ]
        },
        {
          "output_type": "stream",
          "name": "stderr",
          "text": [
            "100%|██████████| 469/469 [00:08<00:00, 52.97it/s]\n"
          ]
        },
        {
          "output_type": "stream",
          "name": "stdout",
          "text": [
            "Finished Batch: \n",
            "Training Loss:  0.7492605760089879 Training Av. Accuracy:  0.7542421819474058\n",
            "EVALUATING\n"
          ]
        },
        {
          "output_type": "stream",
          "name": "stderr",
          "text": [
            "100%|██████████| 157/157 [00:02<00:00, 66.08it/s]\n"
          ]
        },
        {
          "output_type": "stream",
          "name": "stdout",
          "text": [
            "Validation Loss:  0.21644496220122478 Validation Av. Accuracy:  0.9351114649681529\n",
            "############ END DLR 4 MODEL 1 REP 0 ############\n",
            "\n",
            "\n",
            "MODEL 1 PARAMETER COUNT: 20245\n",
            "########### START DLR 4 MODEL 1 REP 1 ###########\n"
          ]
        },
        {
          "output_type": "stream",
          "name": "stderr",
          "text": [
            "100%|██████████| 469/469 [00:09<00:00, 51.14it/s]\n"
          ]
        },
        {
          "output_type": "stream",
          "name": "stdout",
          "text": [
            "Finished Batch: \n",
            "Training Loss:  0.6865868692331986 Training Av. Accuracy:  0.7711442786069652\n",
            "EVALUATING\n"
          ]
        },
        {
          "output_type": "stream",
          "name": "stderr",
          "text": [
            "100%|██████████| 157/157 [00:02<00:00, 61.57it/s]\n"
          ]
        },
        {
          "output_type": "stream",
          "name": "stdout",
          "text": [
            "Validation Loss:  0.1556795010236418 Validation Av. Accuracy:  0.9532245222929936\n",
            "############ END DLR 4 MODEL 1 REP 1 ############\n",
            "\n",
            "\n",
            "MODEL 1 PARAMETER COUNT: 20245\n",
            "########### START DLR 4 MODEL 1 REP 2 ###########\n"
          ]
        },
        {
          "output_type": "stream",
          "name": "stderr",
          "text": [
            "100%|██████████| 469/469 [00:09<00:00, 49.83it/s]\n"
          ]
        },
        {
          "output_type": "stream",
          "name": "stdout",
          "text": [
            "Finished Batch: \n",
            "Training Loss:  0.9711885196186586 Training Av. Accuracy:  0.6644234186211798\n",
            "EVALUATING\n"
          ]
        },
        {
          "output_type": "stream",
          "name": "stderr",
          "text": [
            "100%|██████████| 157/157 [00:02<00:00, 65.10it/s]\n"
          ]
        },
        {
          "output_type": "stream",
          "name": "stdout",
          "text": [
            "Validation Loss:  0.24178831649434035 Validation Av. Accuracy:  0.9324243630573248\n",
            "############ END DLR 4 MODEL 1 REP 2 ############\n",
            "\n",
            "\n",
            "MODEL 1 PARAMETER COUNT: 20245\n",
            "########### START DLR 4 MODEL 1 REP 3 ###########\n"
          ]
        },
        {
          "output_type": "stream",
          "name": "stderr",
          "text": [
            "100%|██████████| 469/469 [00:09<00:00, 49.66it/s]\n"
          ]
        },
        {
          "output_type": "stream",
          "name": "stdout",
          "text": [
            "Finished Batch: \n",
            "Training Loss:  0.9266753056918634 Training Av. Accuracy:  0.6839019189765458\n",
            "EVALUATING\n"
          ]
        },
        {
          "output_type": "stream",
          "name": "stderr",
          "text": [
            "100%|██████████| 157/157 [00:02<00:00, 62.97it/s]\n"
          ]
        },
        {
          "output_type": "stream",
          "name": "stdout",
          "text": [
            "Validation Loss:  0.2262037760417932 Validation Av. Accuracy:  0.9373009554140127\n",
            "############ END DLR 4 MODEL 1 REP 3 ############\n",
            "\n",
            "\n",
            "MODEL 1 PARAMETER COUNT: 20245\n",
            "########### START DLR 4 MODEL 1 REP 4 ###########\n"
          ]
        },
        {
          "output_type": "stream",
          "name": "stderr",
          "text": [
            "100%|██████████| 469/469 [00:08<00:00, 53.47it/s]\n"
          ]
        },
        {
          "output_type": "stream",
          "name": "stdout",
          "text": [
            "Finished Batch: \n",
            "Training Loss:  0.8957434396372675 Training Av. Accuracy:  0.6940520611229567\n",
            "EVALUATING\n"
          ]
        },
        {
          "output_type": "stream",
          "name": "stderr",
          "text": [
            "100%|██████████| 157/157 [00:03<00:00, 49.79it/s]\n"
          ]
        },
        {
          "output_type": "stream",
          "name": "stdout",
          "text": [
            "Validation Loss:  0.20953137095376945 Validation Av. Accuracy:  0.9407842356687898\n",
            "############ END DLR 4 MODEL 1 REP 4 ############\n",
            "\n",
            "\n",
            "MODEL 2 PARAMETER COUNT: 38306\n",
            "########### START DLR 4 MODEL 2 REP 0 ###########\n"
          ]
        },
        {
          "output_type": "stream",
          "name": "stderr",
          "text": [
            "100%|██████████| 469/469 [00:08<00:00, 56.01it/s]\n"
          ]
        },
        {
          "output_type": "stream",
          "name": "stdout",
          "text": [
            "Finished Batch: \n",
            "Training Loss:  0.6285584590741312 Training Av. Accuracy:  0.7914445628997868\n",
            "EVALUATING\n"
          ]
        },
        {
          "output_type": "stream",
          "name": "stderr",
          "text": [
            "100%|██████████| 157/157 [00:03<00:00, 45.46it/s]\n"
          ]
        },
        {
          "output_type": "stream",
          "name": "stdout",
          "text": [
            "Validation Loss:  0.1579682696729329 Validation Av. Accuracy:  0.9523288216560509\n",
            "############ END DLR 4 MODEL 2 REP 0 ############\n",
            "\n",
            "\n",
            "MODEL 2 PARAMETER COUNT: 38306\n",
            "########### START DLR 4 MODEL 2 REP 1 ###########\n"
          ]
        },
        {
          "output_type": "stream",
          "name": "stderr",
          "text": [
            "100%|██████████| 469/469 [00:08<00:00, 57.22it/s]\n"
          ]
        },
        {
          "output_type": "stream",
          "name": "stdout",
          "text": [
            "Finished Batch: \n",
            "Training Loss:  0.6547453559792118 Training Av. Accuracy:  0.7827492004264393\n",
            "EVALUATING\n"
          ]
        },
        {
          "output_type": "stream",
          "name": "stderr",
          "text": [
            "100%|██████████| 157/157 [00:02<00:00, 52.61it/s]\n"
          ]
        },
        {
          "output_type": "stream",
          "name": "stdout",
          "text": [
            "Validation Loss:  0.14545154312898398 Validation Av. Accuracy:  0.960390127388535\n",
            "############ END DLR 4 MODEL 2 REP 1 ############\n",
            "\n",
            "\n",
            "MODEL 2 PARAMETER COUNT: 38306\n",
            "########### START DLR 4 MODEL 2 REP 2 ###########\n"
          ]
        },
        {
          "output_type": "stream",
          "name": "stderr",
          "text": [
            "100%|██████████| 469/469 [00:08<00:00, 52.37it/s]\n"
          ]
        },
        {
          "output_type": "stream",
          "name": "stdout",
          "text": [
            "Finished Batch: \n",
            "Training Loss:  0.7589946067822513 Training Av. Accuracy:  0.7390835998578535\n",
            "EVALUATING\n"
          ]
        },
        {
          "output_type": "stream",
          "name": "stderr",
          "text": [
            "100%|██████████| 157/157 [00:02<00:00, 64.79it/s]\n"
          ]
        },
        {
          "output_type": "stream",
          "name": "stdout",
          "text": [
            "Validation Loss:  0.17635152677584226 Validation Av. Accuracy:  0.9449641719745223\n",
            "############ END DLR 4 MODEL 2 REP 2 ############\n",
            "\n",
            "\n",
            "MODEL 2 PARAMETER COUNT: 38306\n",
            "########### START DLR 4 MODEL 2 REP 3 ###########\n"
          ]
        },
        {
          "output_type": "stream",
          "name": "stderr",
          "text": [
            "100%|██████████| 469/469 [00:09<00:00, 51.09it/s]\n"
          ]
        },
        {
          "output_type": "stream",
          "name": "stdout",
          "text": [
            "Finished Batch: \n",
            "Training Loss:  0.7312539085777584 Training Av. Accuracy:  0.7524542466240228\n",
            "EVALUATING\n"
          ]
        },
        {
          "output_type": "stream",
          "name": "stderr",
          "text": [
            "100%|██████████| 157/157 [00:02<00:00, 64.77it/s]\n"
          ]
        },
        {
          "output_type": "stream",
          "name": "stdout",
          "text": [
            "Validation Loss:  0.16596020904078984 Validation Av. Accuracy:  0.9524283439490446\n",
            "############ END DLR 4 MODEL 2 REP 3 ############\n",
            "\n",
            "\n",
            "MODEL 2 PARAMETER COUNT: 38306\n",
            "########### START DLR 4 MODEL 2 REP 4 ###########\n"
          ]
        },
        {
          "output_type": "stream",
          "name": "stderr",
          "text": [
            "100%|██████████| 469/469 [00:09<00:00, 51.13it/s]\n"
          ]
        },
        {
          "output_type": "stream",
          "name": "stdout",
          "text": [
            "Finished Batch: \n",
            "Training Loss:  0.7066917571622425 Training Av. Accuracy:  0.7664912046908315\n",
            "EVALUATING\n"
          ]
        },
        {
          "output_type": "stream",
          "name": "stderr",
          "text": [
            "100%|██████████| 157/157 [00:02<00:00, 65.63it/s]\n"
          ]
        },
        {
          "output_type": "stream",
          "name": "stdout",
          "text": [
            "Validation Loss:  0.13244972735121371 Validation Av. Accuracy:  0.9583996815286624\n",
            "############ END DLR 4 MODEL 2 REP 4 ############\n",
            "\n",
            "\n",
            "MODEL 3 PARAMETER COUNT: 74657\n",
            "########### START DLR 4 MODEL 3 REP 0 ###########\n"
          ]
        },
        {
          "output_type": "stream",
          "name": "stderr",
          "text": [
            "100%|██████████| 469/469 [00:09<00:00, 50.96it/s]\n"
          ]
        },
        {
          "output_type": "stream",
          "name": "stdout",
          "text": [
            "Finished Batch: \n",
            "Training Loss:  0.5488524097941323 Training Av. Accuracy:  0.8175861762615494\n",
            "EVALUATING\n"
          ]
        },
        {
          "output_type": "stream",
          "name": "stderr",
          "text": [
            "100%|██████████| 157/157 [00:02<00:00, 65.67it/s]\n"
          ]
        },
        {
          "output_type": "stream",
          "name": "stdout",
          "text": [
            "Validation Loss:  0.10860015408011378 Validation Av. Accuracy:  0.9653662420382165\n",
            "############ END DLR 4 MODEL 3 REP 0 ############\n",
            "\n",
            "\n",
            "MODEL 3 PARAMETER COUNT: 74657\n",
            "########### START DLR 4 MODEL 3 REP 1 ###########\n"
          ]
        },
        {
          "output_type": "stream",
          "name": "stderr",
          "text": [
            "100%|██████████| 469/469 [00:09<00:00, 50.21it/s]\n"
          ]
        },
        {
          "output_type": "stream",
          "name": "stdout",
          "text": [
            "Finished Batch: \n",
            "Training Loss:  0.5622645872774155 Training Av. Accuracy:  0.8122223702914002\n",
            "EVALUATING\n"
          ]
        },
        {
          "output_type": "stream",
          "name": "stderr",
          "text": [
            "100%|██████████| 157/157 [00:02<00:00, 64.30it/s]\n"
          ]
        },
        {
          "output_type": "stream",
          "name": "stdout",
          "text": [
            "Validation Loss:  0.12270391760927857 Validation Av. Accuracy:  0.9639729299363057\n",
            "############ END DLR 4 MODEL 3 REP 1 ############\n",
            "\n",
            "\n",
            "MODEL 3 PARAMETER COUNT: 74657\n",
            "########### START DLR 4 MODEL 3 REP 2 ###########\n"
          ]
        },
        {
          "output_type": "stream",
          "name": "stderr",
          "text": [
            "100%|██████████| 469/469 [00:09<00:00, 49.38it/s]\n"
          ]
        },
        {
          "output_type": "stream",
          "name": "stdout",
          "text": [
            "Finished Batch: \n",
            "Training Loss:  0.604659600949872 Training Av. Accuracy:  0.7995402452025586\n",
            "EVALUATING\n"
          ]
        },
        {
          "output_type": "stream",
          "name": "stderr",
          "text": [
            "100%|██████████| 157/157 [00:02<00:00, 62.06it/s]\n"
          ]
        },
        {
          "output_type": "stream",
          "name": "stdout",
          "text": [
            "Validation Loss:  0.12761593550728384 Validation Av. Accuracy:  0.9627786624203821\n",
            "############ END DLR 4 MODEL 3 REP 2 ############\n",
            "\n",
            "\n",
            "MODEL 3 PARAMETER COUNT: 74657\n",
            "########### START DLR 4 MODEL 3 REP 3 ###########\n"
          ]
        },
        {
          "output_type": "stream",
          "name": "stderr",
          "text": [
            "100%|██████████| 469/469 [00:09<00:00, 48.55it/s]\n"
          ]
        },
        {
          "output_type": "stream",
          "name": "stdout",
          "text": [
            "Finished Batch: \n",
            "Training Loss:  0.5184563618780834 Training Av. Accuracy:  0.8303238272921108\n",
            "EVALUATING\n"
          ]
        },
        {
          "output_type": "stream",
          "name": "stderr",
          "text": [
            "100%|██████████| 157/157 [00:02<00:00, 62.37it/s]\n"
          ]
        },
        {
          "output_type": "stream",
          "name": "stdout",
          "text": [
            "Validation Loss:  0.10284581418582209 Validation Av. Accuracy:  0.9674562101910829\n",
            "############ END DLR 4 MODEL 3 REP 3 ############\n",
            "\n",
            "\n",
            "MODEL 3 PARAMETER COUNT: 74657\n",
            "########### START DLR 4 MODEL 3 REP 4 ###########\n"
          ]
        },
        {
          "output_type": "stream",
          "name": "stderr",
          "text": [
            "100%|██████████| 469/469 [00:08<00:00, 52.31it/s]\n"
          ]
        },
        {
          "output_type": "stream",
          "name": "stdout",
          "text": [
            "Finished Batch: \n",
            "Training Loss:  0.5409270532206812 Training Av. Accuracy:  0.8215063077469793\n",
            "EVALUATING\n"
          ]
        },
        {
          "output_type": "stream",
          "name": "stderr",
          "text": [
            "100%|██████████| 157/157 [00:02<00:00, 53.65it/s]\n"
          ]
        },
        {
          "output_type": "stream",
          "name": "stdout",
          "text": [
            "Validation Loss:  0.111093346053248 Validation Av. Accuracy:  0.9673566878980892\n",
            "############ END DLR 4 MODEL 3 REP 4 ############\n",
            "\n",
            "\n",
            "MODEL 4 PARAMETER COUNT: 152775\n",
            "########### START DLR 4 MODEL 4 REP 0 ###########\n"
          ]
        },
        {
          "output_type": "stream",
          "name": "stderr",
          "text": [
            "100%|██████████| 469/469 [00:08<00:00, 53.96it/s]\n"
          ]
        },
        {
          "output_type": "stream",
          "name": "stdout",
          "text": [
            "Finished Batch: \n",
            "Training Loss:  0.4167140693044357 Training Av. Accuracy:  0.8640169687277895\n",
            "EVALUATING\n"
          ]
        },
        {
          "output_type": "stream",
          "name": "stderr",
          "text": [
            "100%|██████████| 157/157 [00:03<00:00, 49.21it/s]\n"
          ]
        },
        {
          "output_type": "stream",
          "name": "stdout",
          "text": [
            "Validation Loss:  0.07621709933907837 Validation Av. Accuracy:  0.9763136942675159\n",
            "############ END DLR 4 MODEL 4 REP 0 ############\n",
            "\n",
            "\n",
            "MODEL 4 PARAMETER COUNT: 152775\n",
            "########### START DLR 4 MODEL 4 REP 1 ###########\n"
          ]
        },
        {
          "output_type": "stream",
          "name": "stderr",
          "text": [
            "100%|██████████| 469/469 [00:08<00:00, 57.25it/s]\n"
          ]
        },
        {
          "output_type": "stream",
          "name": "stdout",
          "text": [
            "Finished Batch: \n",
            "Training Loss:  0.44107825455984584 Training Av. Accuracy:  0.8546886105188344\n",
            "EVALUATING\n"
          ]
        },
        {
          "output_type": "stream",
          "name": "stderr",
          "text": [
            "100%|██████████| 157/157 [00:03<00:00, 51.01it/s]\n"
          ]
        },
        {
          "output_type": "stream",
          "name": "stdout",
          "text": [
            "Validation Loss:  0.08802446481552284 Validation Av. Accuracy:  0.9734275477707006\n",
            "############ END DLR 4 MODEL 4 REP 1 ############\n",
            "\n",
            "\n",
            "MODEL 4 PARAMETER COUNT: 152775\n",
            "########### START DLR 4 MODEL 4 REP 2 ###########\n"
          ]
        },
        {
          "output_type": "stream",
          "name": "stderr",
          "text": [
            "100%|██████████| 469/469 [00:08<00:00, 55.36it/s]\n"
          ]
        },
        {
          "output_type": "stream",
          "name": "stdout",
          "text": [
            "Finished Batch: \n",
            "Training Loss:  0.5073254948088737 Training Av. Accuracy:  0.8283915245202559\n",
            "EVALUATING\n"
          ]
        },
        {
          "output_type": "stream",
          "name": "stderr",
          "text": [
            "100%|██████████| 157/157 [00:02<00:00, 60.80it/s]\n"
          ]
        },
        {
          "output_type": "stream",
          "name": "stdout",
          "text": [
            "Validation Loss:  0.08936896952236914 Validation Av. Accuracy:  0.971437101910828\n",
            "############ END DLR 4 MODEL 4 REP 2 ############\n",
            "\n",
            "\n",
            "MODEL 4 PARAMETER COUNT: 152775\n",
            "########### START DLR 4 MODEL 4 REP 3 ###########\n"
          ]
        },
        {
          "output_type": "stream",
          "name": "stderr",
          "text": [
            "100%|██████████| 469/469 [00:08<00:00, 52.96it/s]\n"
          ]
        },
        {
          "output_type": "stream",
          "name": "stdout",
          "text": [
            "Finished Batch: \n",
            "Training Loss:  0.4828686007161512 Training Av. Accuracy:  0.8409181769722814\n",
            "EVALUATING\n"
          ]
        },
        {
          "output_type": "stream",
          "name": "stderr",
          "text": [
            "100%|██████████| 157/157 [00:02<00:00, 66.83it/s]\n"
          ]
        },
        {
          "output_type": "stream",
          "name": "stdout",
          "text": [
            "Validation Loss:  0.0987941085532972 Validation Av. Accuracy:  0.9692476114649682\n",
            "############ END DLR 4 MODEL 4 REP 3 ############\n",
            "\n",
            "\n",
            "MODEL 4 PARAMETER COUNT: 152775\n",
            "########### START DLR 4 MODEL 4 REP 4 ###########\n"
          ]
        },
        {
          "output_type": "stream",
          "name": "stderr",
          "text": [
            "100%|██████████| 469/469 [00:09<00:00, 51.79it/s]\n"
          ]
        },
        {
          "output_type": "stream",
          "name": "stdout",
          "text": [
            "Finished Batch: \n",
            "Training Loss:  0.4411931513453216 Training Av. Accuracy:  0.8583755330490405\n",
            "EVALUATING\n"
          ]
        },
        {
          "output_type": "stream",
          "name": "stderr",
          "text": [
            "100%|██████████| 157/157 [00:02<00:00, 65.48it/s]\n"
          ]
        },
        {
          "output_type": "stream",
          "name": "stdout",
          "text": [
            "Validation Loss:  0.09793427159452135 Validation Av. Accuracy:  0.9694466560509554\n",
            "############ END DLR 4 MODEL 4 REP 4 ############\n",
            "\n",
            "\n",
            "MODEL 5 PARAMETER COUNT: 308236\n",
            "########### START DLR 4 MODEL 5 REP 0 ###########\n"
          ]
        },
        {
          "output_type": "stream",
          "name": "stderr",
          "text": [
            "100%|██████████| 469/469 [00:09<00:00, 50.98it/s]\n"
          ]
        },
        {
          "output_type": "stream",
          "name": "stdout",
          "text": [
            "Finished Batch: \n",
            "Training Loss:  0.37883923332621927 Training Av. Accuracy:  0.8781205579246625\n",
            "EVALUATING\n"
          ]
        },
        {
          "output_type": "stream",
          "name": "stderr",
          "text": [
            "100%|██████████| 157/157 [00:02<00:00, 65.96it/s]\n"
          ]
        },
        {
          "output_type": "stream",
          "name": "stdout",
          "text": [
            "Validation Loss:  0.061784287813789904 Validation Av. Accuracy:  0.9800955414012739\n",
            "############ END DLR 4 MODEL 5 REP 0 ############\n",
            "\n",
            "\n",
            "MODEL 5 PARAMETER COUNT: 308236\n",
            "########### START DLR 4 MODEL 5 REP 1 ###########\n"
          ]
        },
        {
          "output_type": "stream",
          "name": "stderr",
          "text": [
            "100%|██████████| 469/469 [00:09<00:00, 51.21it/s]\n"
          ]
        },
        {
          "output_type": "stream",
          "name": "stdout",
          "text": [
            "Finished Batch: \n",
            "Training Loss:  0.36893085494780464 Training Av. Accuracy:  0.8784315031982942\n",
            "EVALUATING\n"
          ]
        },
        {
          "output_type": "stream",
          "name": "stderr",
          "text": [
            "100%|██████████| 157/157 [00:02<00:00, 66.92it/s]\n"
          ]
        },
        {
          "output_type": "stream",
          "name": "stdout",
          "text": [
            "Validation Loss:  0.07663449511572623 Validation Av. Accuracy:  0.9751194267515924\n",
            "############ END DLR 4 MODEL 5 REP 1 ############\n",
            "\n",
            "\n",
            "MODEL 5 PARAMETER COUNT: 308236\n",
            "########### START DLR 4 MODEL 5 REP 2 ###########\n"
          ]
        },
        {
          "output_type": "stream",
          "name": "stderr",
          "text": [
            "100%|██████████| 469/469 [00:09<00:00, 49.66it/s]\n"
          ]
        },
        {
          "output_type": "stream",
          "name": "stdout",
          "text": [
            "Finished Batch: \n",
            "Training Loss:  0.3571171976411457 Training Av. Accuracy:  0.8819074271499644\n",
            "EVALUATING\n"
          ]
        },
        {
          "output_type": "stream",
          "name": "stderr",
          "text": [
            "100%|██████████| 157/157 [00:02<00:00, 65.40it/s]\n"
          ]
        },
        {
          "output_type": "stream",
          "name": "stdout",
          "text": [
            "Validation Loss:  0.06710074271911838 Validation Av. Accuracy:  0.9784036624203821\n",
            "############ END DLR 4 MODEL 5 REP 2 ############\n",
            "\n",
            "\n",
            "MODEL 5 PARAMETER COUNT: 308236\n",
            "########### START DLR 4 MODEL 5 REP 3 ###########\n"
          ]
        },
        {
          "output_type": "stream",
          "name": "stderr",
          "text": [
            "100%|██████████| 469/469 [00:09<00:00, 49.19it/s]\n"
          ]
        },
        {
          "output_type": "stream",
          "name": "stdout",
          "text": [
            "Finished Batch: \n",
            "Training Loss:  0.36007807676249476 Training Av. Accuracy:  0.8843394633972992\n",
            "EVALUATING\n"
          ]
        },
        {
          "output_type": "stream",
          "name": "stderr",
          "text": [
            "100%|██████████| 157/157 [00:02<00:00, 62.72it/s]\n"
          ]
        },
        {
          "output_type": "stream",
          "name": "stdout",
          "text": [
            "Validation Loss:  0.07587006571850959 Validation Av. Accuracy:  0.9758160828025477\n",
            "############ END DLR 4 MODEL 5 REP 3 ############\n",
            "\n",
            "\n",
            "MODEL 5 PARAMETER COUNT: 308236\n",
            "########### START DLR 4 MODEL 5 REP 4 ###########\n"
          ]
        },
        {
          "output_type": "stream",
          "name": "stderr",
          "text": [
            "100%|██████████| 469/469 [00:09<00:00, 50.66it/s]\n"
          ]
        },
        {
          "output_type": "stream",
          "name": "stdout",
          "text": [
            "Finished Batch: \n",
            "Training Loss:  0.38268009799995273 Training Av. Accuracy:  0.8781538734896944\n",
            "EVALUATING\n"
          ]
        },
        {
          "output_type": "stream",
          "name": "stderr",
          "text": [
            "100%|██████████| 157/157 [00:02<00:00, 57.69it/s]\n"
          ]
        },
        {
          "output_type": "stream",
          "name": "stdout",
          "text": [
            "Validation Loss:  0.08463448515031369 Validation Av. Accuracy:  0.9750199044585988\n",
            "############ END DLR 4 MODEL 5 REP 4 ############\n",
            "\n",
            "\n",
            "MODEL 0 PARAMETER COUNT: 9798\n",
            "########### START DLR 5 MODEL 0 REP 0 ###########\n"
          ]
        },
        {
          "output_type": "stream",
          "name": "stderr",
          "text": [
            "100%|█████████▉| 934/938 [00:17<00:00, 54.26it/s]/usr/local/lib/python3.10/dist-packages/torch/nn/modules/conv.py:456: UserWarning:\n",
            "\n",
            "Plan failed with a cudnnException: CUDNN_BACKEND_EXECUTION_PLAN_DESCRIPTOR: cudnnFinalize Descriptor Failed cudnn_status: CUDNN_STATUS_NOT_SUPPORTED (Triggered internally at ../aten/src/ATen/native/cudnn/Conv_v8.cpp:919.)\n",
            "\n",
            "100%|██████████| 938/938 [00:17<00:00, 53.19it/s]\n"
          ]
        },
        {
          "output_type": "stream",
          "name": "stdout",
          "text": [
            "Finished Batch: \n",
            "Training Loss:  0.8596835249522602 Training Av. Accuracy:  0.7095715618336887\n",
            "EVALUATING\n"
          ]
        },
        {
          "output_type": "stream",
          "name": "stderr",
          "text": [
            "100%|██████████| 157/157 [00:02<00:00, 64.95it/s]\n"
          ]
        },
        {
          "output_type": "stream",
          "name": "stdout",
          "text": [
            "Validation Loss:  0.2494862932403376 Validation Av. Accuracy:  0.9301353503184714\n",
            "############ END DLR 5 MODEL 0 REP 0 ############\n",
            "\n",
            "\n",
            "MODEL 0 PARAMETER COUNT: 9798\n",
            "########### START DLR 5 MODEL 0 REP 1 ###########\n"
          ]
        },
        {
          "output_type": "stream",
          "name": "stderr",
          "text": [
            "100%|██████████| 938/938 [00:18<00:00, 50.57it/s]\n"
          ]
        },
        {
          "output_type": "stream",
          "name": "stdout",
          "text": [
            "Finished Batch: \n",
            "Training Loss:  0.8833400049824705 Training Av. Accuracy:  0.7015425106609808\n",
            "EVALUATING\n"
          ]
        },
        {
          "output_type": "stream",
          "name": "stderr",
          "text": [
            "100%|██████████| 157/157 [00:02<00:00, 63.97it/s]\n"
          ]
        },
        {
          "output_type": "stream",
          "name": "stdout",
          "text": [
            "Validation Loss:  0.2252463192032401 Validation Av. Accuracy:  0.9355095541401274\n",
            "############ END DLR 5 MODEL 0 REP 1 ############\n",
            "\n",
            "\n",
            "MODEL 0 PARAMETER COUNT: 9798\n",
            "########### START DLR 5 MODEL 0 REP 2 ###########\n"
          ]
        },
        {
          "output_type": "stream",
          "name": "stderr",
          "text": [
            "100%|██████████| 938/938 [00:17<00:00, 53.54it/s]\n"
          ]
        },
        {
          "output_type": "stream",
          "name": "stdout",
          "text": [
            "Finished Batch: \n",
            "Training Loss:  0.8770848624169953 Training Av. Accuracy:  0.697144856076759\n",
            "EVALUATING\n"
          ]
        },
        {
          "output_type": "stream",
          "name": "stderr",
          "text": [
            "100%|██████████| 157/157 [00:02<00:00, 57.68it/s]\n"
          ]
        },
        {
          "output_type": "stream",
          "name": "stdout",
          "text": [
            "Validation Loss:  0.19783402538033806 Validation Av. Accuracy:  0.9445660828025477\n",
            "############ END DLR 5 MODEL 0 REP 2 ############\n",
            "\n",
            "\n",
            "MODEL 0 PARAMETER COUNT: 9798\n",
            "########### START DLR 5 MODEL 0 REP 3 ###########\n"
          ]
        },
        {
          "output_type": "stream",
          "name": "stderr",
          "text": [
            "100%|██████████| 938/938 [00:18<00:00, 51.84it/s]\n"
          ]
        },
        {
          "output_type": "stream",
          "name": "stdout",
          "text": [
            "Finished Batch: \n",
            "Training Loss:  0.7260227824356764 Training Av. Accuracy:  0.755746934968017\n",
            "EVALUATING\n"
          ]
        },
        {
          "output_type": "stream",
          "name": "stderr",
          "text": [
            "100%|██████████| 157/157 [00:02<00:00, 63.81it/s]\n"
          ]
        },
        {
          "output_type": "stream",
          "name": "stdout",
          "text": [
            "Validation Loss:  0.18252404285654142 Validation Av. Accuracy:  0.9483479299363057\n",
            "############ END DLR 5 MODEL 0 REP 3 ############\n",
            "\n",
            "\n",
            "MODEL 0 PARAMETER COUNT: 9798\n",
            "########### START DLR 5 MODEL 0 REP 4 ###########\n"
          ]
        },
        {
          "output_type": "stream",
          "name": "stderr",
          "text": [
            "100%|██████████| 938/938 [00:18<00:00, 51.99it/s]\n"
          ]
        },
        {
          "output_type": "stream",
          "name": "stdout",
          "text": [
            "Finished Batch: \n",
            "Training Loss:  0.8281171052917234 Training Av. Accuracy:  0.7137026918976546\n",
            "EVALUATING\n"
          ]
        },
        {
          "output_type": "stream",
          "name": "stderr",
          "text": [
            "100%|██████████| 157/157 [00:03<00:00, 44.07it/s]\n"
          ]
        },
        {
          "output_type": "stream",
          "name": "stdout",
          "text": [
            "Validation Loss:  0.16898115532128674 Validation Av. Accuracy:  0.9524283439490446\n",
            "############ END DLR 5 MODEL 0 REP 4 ############\n",
            "\n",
            "\n",
            "MODEL 1 PARAMETER COUNT: 20245\n",
            "########### START DLR 5 MODEL 1 REP 0 ###########\n"
          ]
        },
        {
          "output_type": "stream",
          "name": "stderr",
          "text": [
            "100%|██████████| 938/938 [00:18<00:00, 50.11it/s]\n"
          ]
        },
        {
          "output_type": "stream",
          "name": "stdout",
          "text": [
            "Finished Batch: \n",
            "Training Loss:  0.5535428431719097 Training Av. Accuracy:  0.8195462420042644\n",
            "EVALUATING\n"
          ]
        },
        {
          "output_type": "stream",
          "name": "stderr",
          "text": [
            "100%|██████████| 157/157 [00:02<00:00, 60.13it/s]\n"
          ]
        },
        {
          "output_type": "stream",
          "name": "stdout",
          "text": [
            "Validation Loss:  0.11656382476471981 Validation Av. Accuracy:  0.9642714968152867\n",
            "############ END DLR 5 MODEL 1 REP 0 ############\n",
            "\n",
            "\n",
            "MODEL 1 PARAMETER COUNT: 20245\n",
            "########### START DLR 5 MODEL 1 REP 1 ###########\n"
          ]
        },
        {
          "output_type": "stream",
          "name": "stderr",
          "text": [
            "100%|██████████| 938/938 [00:20<00:00, 46.80it/s]\n"
          ]
        },
        {
          "output_type": "stream",
          "name": "stdout",
          "text": [
            "Finished Batch: \n",
            "Training Loss:  0.5077491105714841 Training Av. Accuracy:  0.8328391524520256\n",
            "EVALUATING\n"
          ]
        },
        {
          "output_type": "stream",
          "name": "stderr",
          "text": [
            "100%|██████████| 157/157 [00:02<00:00, 58.49it/s]\n"
          ]
        },
        {
          "output_type": "stream",
          "name": "stdout",
          "text": [
            "Validation Loss:  0.12087393958999473 Validation Av. Accuracy:  0.9625796178343949\n",
            "############ END DLR 5 MODEL 1 REP 1 ############\n",
            "\n",
            "\n",
            "MODEL 1 PARAMETER COUNT: 20245\n",
            "########### START DLR 5 MODEL 1 REP 2 ###########\n"
          ]
        },
        {
          "output_type": "stream",
          "name": "stderr",
          "text": [
            "100%|██████████| 938/938 [00:19<00:00, 49.36it/s]\n"
          ]
        },
        {
          "output_type": "stream",
          "name": "stdout",
          "text": [
            "Finished Batch: \n",
            "Training Loss:  0.5339646021376795 Training Av. Accuracy:  0.8259594882729211\n",
            "EVALUATING\n"
          ]
        },
        {
          "output_type": "stream",
          "name": "stderr",
          "text": [
            "100%|██████████| 157/157 [00:03<00:00, 47.11it/s]\n"
          ]
        },
        {
          "output_type": "stream",
          "name": "stdout",
          "text": [
            "Validation Loss:  0.10838583003800766 Validation Av. Accuracy:  0.9674562101910829\n",
            "############ END DLR 5 MODEL 1 REP 2 ############\n",
            "\n",
            "\n",
            "MODEL 1 PARAMETER COUNT: 20245\n",
            "########### START DLR 5 MODEL 1 REP 3 ###########\n"
          ]
        },
        {
          "output_type": "stream",
          "name": "stderr",
          "text": [
            "100%|██████████| 938/938 [00:18<00:00, 50.57it/s]\n"
          ]
        },
        {
          "output_type": "stream",
          "name": "stdout",
          "text": [
            "Finished Batch: \n",
            "Training Loss:  0.717529187673953 Training Av. Accuracy:  0.7606609808102346\n",
            "EVALUATING\n"
          ]
        },
        {
          "output_type": "stream",
          "name": "stderr",
          "text": [
            "100%|██████████| 157/157 [00:02<00:00, 61.20it/s]\n"
          ]
        },
        {
          "output_type": "stream",
          "name": "stdout",
          "text": [
            "Validation Loss:  0.17294429650731907 Validation Av. Accuracy:  0.9494426751592356\n",
            "############ END DLR 5 MODEL 1 REP 3 ############\n",
            "\n",
            "\n",
            "MODEL 1 PARAMETER COUNT: 20245\n",
            "########### START DLR 5 MODEL 1 REP 4 ###########\n"
          ]
        },
        {
          "output_type": "stream",
          "name": "stderr",
          "text": [
            "100%|██████████| 938/938 [00:19<00:00, 47.75it/s]\n"
          ]
        },
        {
          "output_type": "stream",
          "name": "stdout",
          "text": [
            "Finished Batch: \n",
            "Training Loss:  0.5877366577670264 Training Av. Accuracy:  0.802838486140725\n",
            "EVALUATING\n"
          ]
        },
        {
          "output_type": "stream",
          "name": "stderr",
          "text": [
            "100%|██████████| 157/157 [00:02<00:00, 61.04it/s]\n"
          ]
        },
        {
          "output_type": "stream",
          "name": "stdout",
          "text": [
            "Validation Loss:  0.13420221421891337 Validation Av. Accuracy:  0.960390127388535\n",
            "############ END DLR 5 MODEL 1 REP 4 ############\n",
            "\n",
            "\n",
            "MODEL 2 PARAMETER COUNT: 38306\n",
            "########### START DLR 5 MODEL 2 REP 0 ###########\n"
          ]
        },
        {
          "output_type": "stream",
          "name": "stderr",
          "text": [
            "100%|██████████| 938/938 [00:18<00:00, 49.44it/s]\n"
          ]
        },
        {
          "output_type": "stream",
          "name": "stdout",
          "text": [
            "Finished Batch: \n",
            "Training Loss:  0.4560428198768513 Training Av. Accuracy:  0.851629131130064\n",
            "EVALUATING\n"
          ]
        },
        {
          "output_type": "stream",
          "name": "stderr",
          "text": [
            "100%|██████████| 157/157 [00:03<00:00, 45.19it/s]\n"
          ]
        },
        {
          "output_type": "stream",
          "name": "stdout",
          "text": [
            "Validation Loss:  0.09230740762250439 Validation Av. Accuracy:  0.9715366242038217\n",
            "############ END DLR 5 MODEL 2 REP 0 ############\n",
            "\n",
            "\n",
            "MODEL 2 PARAMETER COUNT: 38306\n",
            "########### START DLR 5 MODEL 2 REP 1 ###########\n"
          ]
        },
        {
          "output_type": "stream",
          "name": "stderr",
          "text": [
            "100%|██████████| 938/938 [00:18<00:00, 50.52it/s]\n"
          ]
        },
        {
          "output_type": "stream",
          "name": "stdout",
          "text": [
            "Finished Batch: \n",
            "Training Loss:  0.442965288656448 Training Av. Accuracy:  0.8598747334754797\n",
            "EVALUATING\n"
          ]
        },
        {
          "output_type": "stream",
          "name": "stderr",
          "text": [
            "100%|██████████| 157/157 [00:02<00:00, 58.64it/s]\n"
          ]
        },
        {
          "output_type": "stream",
          "name": "stdout",
          "text": [
            "Validation Loss:  0.08898239178808441 Validation Av. Accuracy:  0.9708399681528662\n",
            "############ END DLR 5 MODEL 2 REP 1 ############\n",
            "\n",
            "\n",
            "MODEL 2 PARAMETER COUNT: 38306\n",
            "########### START DLR 5 MODEL 2 REP 2 ###########\n"
          ]
        },
        {
          "output_type": "stream",
          "name": "stderr",
          "text": [
            "100%|██████████| 938/938 [00:19<00:00, 48.42it/s]\n"
          ]
        },
        {
          "output_type": "stream",
          "name": "stdout",
          "text": [
            "Finished Batch: \n",
            "Training Loss:  0.48990550861636334 Training Av. Accuracy:  0.839768789978678\n",
            "EVALUATING\n"
          ]
        },
        {
          "output_type": "stream",
          "name": "stderr",
          "text": [
            "100%|██████████| 157/157 [00:02<00:00, 63.62it/s]\n"
          ]
        },
        {
          "output_type": "stream",
          "name": "stdout",
          "text": [
            "Validation Loss:  0.10193408891606102 Validation Av. Accuracy:  0.9654657643312102\n",
            "############ END DLR 5 MODEL 2 REP 2 ############\n",
            "\n",
            "\n",
            "MODEL 2 PARAMETER COUNT: 38306\n",
            "########### START DLR 5 MODEL 2 REP 3 ###########\n"
          ]
        },
        {
          "output_type": "stream",
          "name": "stderr",
          "text": [
            "100%|██████████| 938/938 [00:17<00:00, 52.79it/s]\n"
          ]
        },
        {
          "output_type": "stream",
          "name": "stdout",
          "text": [
            "Finished Batch: \n",
            "Training Loss:  0.47214080798409896 Training Av. Accuracy:  0.8457989072494669\n",
            "EVALUATING\n"
          ]
        },
        {
          "output_type": "stream",
          "name": "stderr",
          "text": [
            "100%|██████████| 157/157 [00:03<00:00, 48.59it/s]\n"
          ]
        },
        {
          "output_type": "stream",
          "name": "stdout",
          "text": [
            "Validation Loss:  0.09445293101772761 Validation Av. Accuracy:  0.9719347133757962\n",
            "############ END DLR 5 MODEL 2 REP 3 ############\n",
            "\n",
            "\n",
            "MODEL 2 PARAMETER COUNT: 38306\n",
            "########### START DLR 5 MODEL 2 REP 4 ###########\n"
          ]
        },
        {
          "output_type": "stream",
          "name": "stderr",
          "text": [
            "100%|██████████| 938/938 [00:17<00:00, 52.44it/s]\n"
          ]
        },
        {
          "output_type": "stream",
          "name": "stdout",
          "text": [
            "Finished Batch: \n",
            "Training Loss:  0.42002003081540057 Training Av. Accuracy:  0.8654550906183369\n",
            "EVALUATING\n"
          ]
        },
        {
          "output_type": "stream",
          "name": "stderr",
          "text": [
            "100%|██████████| 157/157 [00:02<00:00, 65.52it/s]\n"
          ]
        },
        {
          "output_type": "stream",
          "name": "stdout",
          "text": [
            "Validation Loss:  0.0877375901249611 Validation Av. Accuracy:  0.9731289808917197\n",
            "############ END DLR 5 MODEL 2 REP 4 ############\n",
            "\n",
            "\n",
            "MODEL 3 PARAMETER COUNT: 74657\n",
            "########### START DLR 5 MODEL 3 REP 0 ###########\n"
          ]
        },
        {
          "output_type": "stream",
          "name": "stderr",
          "text": [
            "100%|██████████| 938/938 [00:19<00:00, 47.59it/s]\n"
          ]
        },
        {
          "output_type": "stream",
          "name": "stdout",
          "text": [
            "Finished Batch: \n",
            "Training Loss:  0.3672073394286512 Training Av. Accuracy:  0.8800139925373134\n",
            "EVALUATING\n"
          ]
        },
        {
          "output_type": "stream",
          "name": "stderr",
          "text": [
            "100%|██████████| 157/157 [00:02<00:00, 60.87it/s]\n"
          ]
        },
        {
          "output_type": "stream",
          "name": "stdout",
          "text": [
            "Validation Loss:  0.07194956375736815 Validation Av. Accuracy:  0.9758160828025477\n",
            "############ END DLR 5 MODEL 3 REP 0 ############\n",
            "\n",
            "\n",
            "MODEL 3 PARAMETER COUNT: 74657\n",
            "########### START DLR 5 MODEL 3 REP 1 ###########\n"
          ]
        },
        {
          "output_type": "stream",
          "name": "stderr",
          "text": [
            "100%|██████████| 938/938 [00:18<00:00, 49.49it/s]\n"
          ]
        },
        {
          "output_type": "stream",
          "name": "stdout",
          "text": [
            "Finished Batch: \n",
            "Training Loss:  0.3684892092885048 Training Av. Accuracy:  0.8807302771855011\n",
            "EVALUATING\n"
          ]
        },
        {
          "output_type": "stream",
          "name": "stderr",
          "text": [
            "100%|██████████| 157/157 [00:03<00:00, 49.46it/s]\n"
          ]
        },
        {
          "output_type": "stream",
          "name": "stdout",
          "text": [
            "Validation Loss:  0.07407676285298861 Validation Av. Accuracy:  0.9768113057324841\n",
            "############ END DLR 5 MODEL 3 REP 1 ############\n",
            "\n",
            "\n",
            "MODEL 3 PARAMETER COUNT: 74657\n",
            "########### START DLR 5 MODEL 3 REP 2 ###########\n"
          ]
        },
        {
          "output_type": "stream",
          "name": "stderr",
          "text": [
            "100%|██████████| 938/938 [00:18<00:00, 49.74it/s]\n"
          ]
        },
        {
          "output_type": "stream",
          "name": "stdout",
          "text": [
            "Finished Batch: \n",
            "Training Loss:  0.358103151164099 Training Av. Accuracy:  0.8857775852878464\n",
            "EVALUATING\n"
          ]
        },
        {
          "output_type": "stream",
          "name": "stderr",
          "text": [
            "100%|██████████| 157/157 [00:02<00:00, 61.46it/s]\n"
          ]
        },
        {
          "output_type": "stream",
          "name": "stdout",
          "text": [
            "Validation Loss:  0.08128809232478308 Validation Av. Accuracy:  0.9743232484076433\n",
            "############ END DLR 5 MODEL 3 REP 2 ############\n",
            "\n",
            "\n",
            "MODEL 3 PARAMETER COUNT: 74657\n",
            "########### START DLR 5 MODEL 3 REP 3 ###########\n"
          ]
        },
        {
          "output_type": "stream",
          "name": "stderr",
          "text": [
            "100%|██████████| 938/938 [00:19<00:00, 47.61it/s]\n"
          ]
        },
        {
          "output_type": "stream",
          "name": "stdout",
          "text": [
            "Finished Batch: \n",
            "Training Loss:  0.40772713424919893 Training Av. Accuracy:  0.8694196428571429\n",
            "EVALUATING\n"
          ]
        },
        {
          "output_type": "stream",
          "name": "stderr",
          "text": [
            "100%|██████████| 157/157 [00:02<00:00, 61.23it/s]\n"
          ]
        },
        {
          "output_type": "stream",
          "name": "stdout",
          "text": [
            "Validation Loss:  0.0907653709932877 Validation Av. Accuracy:  0.9718351910828026\n",
            "############ END DLR 5 MODEL 3 REP 3 ############\n",
            "\n",
            "\n",
            "MODEL 3 PARAMETER COUNT: 74657\n",
            "########### START DLR 5 MODEL 3 REP 4 ###########\n"
          ]
        },
        {
          "output_type": "stream",
          "name": "stderr",
          "text": [
            "100%|██████████| 938/938 [00:18<00:00, 50.92it/s]\n"
          ]
        },
        {
          "output_type": "stream",
          "name": "stdout",
          "text": [
            "Finished Batch: \n",
            "Training Loss:  0.33835362121343676 Training Av. Accuracy:  0.8910081289978679\n",
            "EVALUATING\n"
          ]
        },
        {
          "output_type": "stream",
          "name": "stderr",
          "text": [
            "100%|██████████| 157/157 [00:02<00:00, 58.11it/s]\n"
          ]
        },
        {
          "output_type": "stream",
          "name": "stdout",
          "text": [
            "Validation Loss:  0.06609633494580794 Validation Av. Accuracy:  0.9791998407643312\n",
            "############ END DLR 5 MODEL 3 REP 4 ############\n",
            "\n",
            "\n",
            "MODEL 4 PARAMETER COUNT: 152775\n",
            "########### START DLR 5 MODEL 4 REP 0 ###########\n"
          ]
        },
        {
          "output_type": "stream",
          "name": "stderr",
          "text": [
            "100%|██████████| 938/938 [00:19<00:00, 48.79it/s]\n"
          ]
        },
        {
          "output_type": "stream",
          "name": "stdout",
          "text": [
            "Finished Batch: \n",
            "Training Loss:  0.26138110084435356 Training Av. Accuracy:  0.9169442963752665\n",
            "EVALUATING\n"
          ]
        },
        {
          "output_type": "stream",
          "name": "stderr",
          "text": [
            "100%|██████████| 157/157 [00:02<00:00, 61.63it/s]\n"
          ]
        },
        {
          "output_type": "stream",
          "name": "stdout",
          "text": [
            "Validation Loss:  0.05983111939161636 Validation Av. Accuracy:  0.9807921974522293\n",
            "############ END DLR 5 MODEL 4 REP 0 ############\n",
            "\n",
            "\n",
            "MODEL 4 PARAMETER COUNT: 152775\n",
            "########### START DLR 5 MODEL 4 REP 1 ###########\n"
          ]
        },
        {
          "output_type": "stream",
          "name": "stderr",
          "text": [
            "100%|██████████| 938/938 [00:18<00:00, 49.69it/s]\n"
          ]
        },
        {
          "output_type": "stream",
          "name": "stdout",
          "text": [
            "Finished Batch: \n",
            "Training Loss:  0.3149788499013511 Training Av. Accuracy:  0.8993703358208955\n",
            "EVALUATING\n"
          ]
        },
        {
          "output_type": "stream",
          "name": "stderr",
          "text": [
            "100%|██████████| 157/157 [00:03<00:00, 49.01it/s]\n"
          ]
        },
        {
          "output_type": "stream",
          "name": "stdout",
          "text": [
            "Validation Loss:  0.06882741038871419 Validation Av. Accuracy:  0.9784036624203821\n",
            "############ END DLR 5 MODEL 4 REP 1 ############\n",
            "\n",
            "\n",
            "MODEL 4 PARAMETER COUNT: 152775\n",
            "########### START DLR 5 MODEL 4 REP 2 ###########\n"
          ]
        },
        {
          "output_type": "stream",
          "name": "stderr",
          "text": [
            "100%|██████████| 938/938 [00:18<00:00, 50.17it/s]\n"
          ]
        },
        {
          "output_type": "stream",
          "name": "stdout",
          "text": [
            "Finished Batch: \n",
            "Training Loss:  0.30900238104649125 Training Av. Accuracy:  0.900503065031983\n",
            "EVALUATING\n"
          ]
        },
        {
          "output_type": "stream",
          "name": "stderr",
          "text": [
            "100%|██████████| 157/157 [00:02<00:00, 61.51it/s]\n"
          ]
        },
        {
          "output_type": "stream",
          "name": "stdout",
          "text": [
            "Validation Loss:  0.07285611060667474 Validation Av. Accuracy:  0.9776074840764332\n",
            "############ END DLR 5 MODEL 4 REP 2 ############\n",
            "\n",
            "\n",
            "MODEL 4 PARAMETER COUNT: 152775\n",
            "########### START DLR 5 MODEL 4 REP 3 ###########\n"
          ]
        },
        {
          "output_type": "stream",
          "name": "stderr",
          "text": [
            "100%|██████████| 938/938 [00:19<00:00, 48.06it/s]\n"
          ]
        },
        {
          "output_type": "stream",
          "name": "stdout",
          "text": [
            "Finished Batch: \n",
            "Training Loss:  0.30531960342035713 Training Av. Accuracy:  0.9025852878464818\n",
            "EVALUATING\n"
          ]
        },
        {
          "output_type": "stream",
          "name": "stderr",
          "text": [
            "100%|██████████| 157/157 [00:02<00:00, 62.96it/s]\n"
          ]
        },
        {
          "output_type": "stream",
          "name": "stdout",
          "text": [
            "Validation Loss:  0.0733894017691113 Validation Av. Accuracy:  0.9768113057324841\n",
            "############ END DLR 5 MODEL 4 REP 3 ############\n",
            "\n",
            "\n",
            "MODEL 4 PARAMETER COUNT: 152775\n",
            "########### START DLR 5 MODEL 4 REP 4 ###########\n"
          ]
        },
        {
          "output_type": "stream",
          "name": "stderr",
          "text": [
            "100%|██████████| 938/938 [00:18<00:00, 51.87it/s]\n"
          ]
        },
        {
          "output_type": "stream",
          "name": "stdout",
          "text": [
            "Finished Batch: \n",
            "Training Loss:  0.2761212700564883 Training Av. Accuracy:  0.9110474413646056\n",
            "EVALUATING\n"
          ]
        },
        {
          "output_type": "stream",
          "name": "stderr",
          "text": [
            "100%|██████████| 157/157 [00:03<00:00, 46.65it/s]\n"
          ]
        },
        {
          "output_type": "stream",
          "name": "stdout",
          "text": [
            "Validation Loss:  0.06931354623187072 Validation Av. Accuracy:  0.9791998407643312\n",
            "############ END DLR 5 MODEL 4 REP 4 ############\n",
            "\n",
            "\n",
            "MODEL 5 PARAMETER COUNT: 308236\n",
            "########### START DLR 5 MODEL 5 REP 0 ###########\n"
          ]
        },
        {
          "output_type": "stream",
          "name": "stderr",
          "text": [
            "100%|██████████| 938/938 [00:18<00:00, 51.48it/s]\n"
          ]
        },
        {
          "output_type": "stream",
          "name": "stdout",
          "text": [
            "Finished Batch: \n",
            "Training Loss:  0.25500816686936756 Training Av. Accuracy:  0.9188932569296375\n",
            "EVALUATING\n"
          ]
        },
        {
          "output_type": "stream",
          "name": "stderr",
          "text": [
            "100%|██████████| 157/157 [00:02<00:00, 66.05it/s]\n"
          ]
        },
        {
          "output_type": "stream",
          "name": "stdout",
          "text": [
            "Validation Loss:  0.0603147382020452 Validation Av. Accuracy:  0.9804936305732485\n",
            "############ END DLR 5 MODEL 5 REP 0 ############\n",
            "\n",
            "\n",
            "MODEL 5 PARAMETER COUNT: 308236\n",
            "########### START DLR 5 MODEL 5 REP 1 ###########\n"
          ]
        },
        {
          "output_type": "stream",
          "name": "stderr",
          "text": [
            "100%|██████████| 938/938 [00:19<00:00, 48.23it/s]\n"
          ]
        },
        {
          "output_type": "stream",
          "name": "stdout",
          "text": [
            "Finished Batch: \n",
            "Training Loss:  0.22977984193682688 Training Av. Accuracy:  0.9273887260127932\n",
            "EVALUATING\n"
          ]
        },
        {
          "output_type": "stream",
          "name": "stderr",
          "text": [
            "100%|██████████| 157/157 [00:02<00:00, 63.13it/s]\n"
          ]
        },
        {
          "output_type": "stream",
          "name": "stdout",
          "text": [
            "Validation Loss:  0.056841393191201295 Validation Av. Accuracy:  0.9819864649681529\n",
            "############ END DLR 5 MODEL 5 REP 1 ############\n",
            "\n",
            "\n",
            "MODEL 5 PARAMETER COUNT: 308236\n",
            "########### START DLR 5 MODEL 5 REP 2 ###########\n"
          ]
        },
        {
          "output_type": "stream",
          "name": "stderr",
          "text": [
            "100%|██████████| 938/938 [00:18<00:00, 50.51it/s]\n"
          ]
        },
        {
          "output_type": "stream",
          "name": "stdout",
          "text": [
            "Finished Batch: \n",
            "Training Loss:  0.2590225547624589 Training Av. Accuracy:  0.9168110341151386\n",
            "EVALUATING\n"
          ]
        },
        {
          "output_type": "stream",
          "name": "stderr",
          "text": [
            "100%|██████████| 157/157 [00:03<00:00, 49.14it/s]\n"
          ]
        },
        {
          "output_type": "stream",
          "name": "stdout",
          "text": [
            "Validation Loss:  0.059314557294818056 Validation Av. Accuracy:  0.9811902866242038\n",
            "############ END DLR 5 MODEL 5 REP 2 ############\n",
            "\n",
            "\n",
            "MODEL 5 PARAMETER COUNT: 308236\n",
            "########### START DLR 5 MODEL 5 REP 3 ###########\n"
          ]
        },
        {
          "output_type": "stream",
          "name": "stderr",
          "text": [
            "100%|██████████| 938/938 [00:18<00:00, 49.82it/s]\n"
          ]
        },
        {
          "output_type": "stream",
          "name": "stdout",
          "text": [
            "Finished Batch: \n",
            "Training Loss:  0.24470772227542456 Training Av. Accuracy:  0.9209921375266524\n",
            "EVALUATING\n"
          ]
        },
        {
          "output_type": "stream",
          "name": "stderr",
          "text": [
            "100%|██████████| 157/157 [00:02<00:00, 60.73it/s]\n"
          ]
        },
        {
          "output_type": "stream",
          "name": "stdout",
          "text": [
            "Validation Loss:  0.059692663084241045 Validation Av. Accuracy:  0.9821855095541401\n",
            "############ END DLR 5 MODEL 5 REP 3 ############\n",
            "\n",
            "\n",
            "MODEL 5 PARAMETER COUNT: 308236\n",
            "########### START DLR 5 MODEL 5 REP 4 ###########\n"
          ]
        },
        {
          "output_type": "stream",
          "name": "stderr",
          "text": [
            "100%|██████████| 938/938 [00:19<00:00, 47.57it/s]\n"
          ]
        },
        {
          "output_type": "stream",
          "name": "stdout",
          "text": [
            "Finished Batch: \n",
            "Training Loss:  0.2368056201793031 Training Av. Accuracy:  0.9251399253731343\n",
            "EVALUATING\n"
          ]
        },
        {
          "output_type": "stream",
          "name": "stderr",
          "text": [
            "100%|██████████| 157/157 [00:02<00:00, 62.60it/s]"
          ]
        },
        {
          "output_type": "stream",
          "name": "stdout",
          "text": [
            "Validation Loss:  0.06849449476565288 Validation Av. Accuracy:  0.9777070063694268\n",
            "############ END DLR 5 MODEL 5 REP 4 ############\n",
            "\n",
            "\n"
          ]
        },
        {
          "output_type": "stream",
          "name": "stderr",
          "text": [
            "\n"
          ]
        }
      ]
    },
    {
      "cell_type": "code",
      "source": [
        "N_params = np.unique(N_params)\n",
        "test_losses_NandD_by_model = {m:[] for m in range(n_models)}\n",
        "for m in test_losses_NandD_by_model.keys():\n",
        "\n",
        "  model_losses = [test_losses_NandD[i][m] for i in test_losses_NandD.keys()]\n",
        "  test_losses_NandD_by_model[m].extend(model_losses)"
      ],
      "metadata": {
        "id": "wcJlcDrz_fpM"
      },
      "execution_count": 40,
      "outputs": []
    },
    {
      "cell_type": "code",
      "source": [
        "fig = go.Figure()\n",
        "for m in test_losses_NandD_by_model.keys():\n",
        "\n",
        "  fig.add_trace(go.Scatter(x=train_dlr_sizes, y=test_losses_NandD_by_model[m], name=f'{N_params[m]} params'))\n",
        "\n",
        "fig.update_layout(title='Dataset Size Effect on Test Loss by Model Size',\n",
        "                  yaxis_title='Loss',\n",
        "                  xaxis_title='Dataset Size')\n",
        "fig.show()"
      ],
      "metadata": {
        "colab": {
          "base_uri": "https://localhost:8080/",
          "height": 542
        },
        "id": "ViSTFKawHtOF",
        "outputId": "ba3c9ef0-bf6e-4d29-955f-1915d4e1791d"
      },
      "execution_count": 51,
      "outputs": [
        {
          "output_type": "display_data",
          "data": {
            "text/html": [
              "<html>\n",
              "<head><meta charset=\"utf-8\" /></head>\n",
              "<body>\n",
              "    <div>            <script src=\"https://cdnjs.cloudflare.com/ajax/libs/mathjax/2.7.5/MathJax.js?config=TeX-AMS-MML_SVG\"></script><script type=\"text/javascript\">if (window.MathJax && window.MathJax.Hub && window.MathJax.Hub.Config) {window.MathJax.Hub.Config({SVG: {font: \"STIX-Web\"}});}</script>                <script type=\"text/javascript\">window.PlotlyConfig = {MathJaxConfig: 'local'};</script>\n",
              "        <script charset=\"utf-8\" src=\"https://cdn.plot.ly/plotly-2.24.1.min.js\"></script>                <div id=\"4252a300-27ee-4e34-b2e9-a344fe49358c\" class=\"plotly-graph-div\" style=\"height:525px; width:100%;\"></div>            <script type=\"text/javascript\">                                    window.PLOTLYENV=window.PLOTLYENV || {};                                    if (document.getElementById(\"4252a300-27ee-4e34-b2e9-a344fe49358c\")) {                    Plotly.newPlot(                        \"4252a300-27ee-4e34-b2e9-a344fe49358c\",                        [{\"name\":\"9798 params\",\"x\":[1875,3750,7500,15000,30000,60000],\"y\":[2.2152767172284946,1.7226465925289567,0.9321922636335824,0.4282760921367414,0.34170739464699085,0.20481436720034876],\"type\":\"scatter\"},{\"name\":\"9798 params\",\"x\":[1875,3750,7500,15000,30000,60000],\"y\":[2.1387194194611476,1.3514471523321359,0.639224273535856,0.3796153541962812,0.20992958534295392,0.13059402102379095],\"type\":\"scatter\"},{\"name\":\"9798 params\",\"x\":[1875,3750,7500,15000,30000,60000],\"y\":[1.9247136146399626,0.8704606039508892,0.47569922971877315,0.28041716701096037,0.15563625519395255,0.09308288189386771],\"type\":\"scatter\"},{\"name\":\"9798 params\",\"x\":[1875,3750,7500,15000,30000,60000],\"y\":[1.6147645809088544,0.7438596488943524,0.3853811078390498,0.19272626308593782,0.11457183348714924,0.0768352249748471],\"type\":\"scatter\"},{\"name\":\"9798 params\",\"x\":[1875,3750,7500,15000,30000,60000],\"y\":[1.461831029813001,0.5466700280927548,0.29074464160355795,0.14303691930784163,0.09006778276495778,0.06884351767759747],\"type\":\"scatter\"},{\"name\":\"20245 params\",\"x\":[1875,3750,7500,15000,30000,60000],\"y\":[1.0587213081918705,0.5667234961014644,0.2116253315263493,0.12580045107870724,0.07320481530349156,0.06093156930759169],\"type\":\"scatter\"}],                        {\"template\":{\"data\":{\"histogram2dcontour\":[{\"type\":\"histogram2dcontour\",\"colorbar\":{\"outlinewidth\":0,\"ticks\":\"\"},\"colorscale\":[[0.0,\"#0d0887\"],[0.1111111111111111,\"#46039f\"],[0.2222222222222222,\"#7201a8\"],[0.3333333333333333,\"#9c179e\"],[0.4444444444444444,\"#bd3786\"],[0.5555555555555556,\"#d8576b\"],[0.6666666666666666,\"#ed7953\"],[0.7777777777777778,\"#fb9f3a\"],[0.8888888888888888,\"#fdca26\"],[1.0,\"#f0f921\"]]}],\"choropleth\":[{\"type\":\"choropleth\",\"colorbar\":{\"outlinewidth\":0,\"ticks\":\"\"}}],\"histogram2d\":[{\"type\":\"histogram2d\",\"colorbar\":{\"outlinewidth\":0,\"ticks\":\"\"},\"colorscale\":[[0.0,\"#0d0887\"],[0.1111111111111111,\"#46039f\"],[0.2222222222222222,\"#7201a8\"],[0.3333333333333333,\"#9c179e\"],[0.4444444444444444,\"#bd3786\"],[0.5555555555555556,\"#d8576b\"],[0.6666666666666666,\"#ed7953\"],[0.7777777777777778,\"#fb9f3a\"],[0.8888888888888888,\"#fdca26\"],[1.0,\"#f0f921\"]]}],\"heatmap\":[{\"type\":\"heatmap\",\"colorbar\":{\"outlinewidth\":0,\"ticks\":\"\"},\"colorscale\":[[0.0,\"#0d0887\"],[0.1111111111111111,\"#46039f\"],[0.2222222222222222,\"#7201a8\"],[0.3333333333333333,\"#9c179e\"],[0.4444444444444444,\"#bd3786\"],[0.5555555555555556,\"#d8576b\"],[0.6666666666666666,\"#ed7953\"],[0.7777777777777778,\"#fb9f3a\"],[0.8888888888888888,\"#fdca26\"],[1.0,\"#f0f921\"]]}],\"heatmapgl\":[{\"type\":\"heatmapgl\",\"colorbar\":{\"outlinewidth\":0,\"ticks\":\"\"},\"colorscale\":[[0.0,\"#0d0887\"],[0.1111111111111111,\"#46039f\"],[0.2222222222222222,\"#7201a8\"],[0.3333333333333333,\"#9c179e\"],[0.4444444444444444,\"#bd3786\"],[0.5555555555555556,\"#d8576b\"],[0.6666666666666666,\"#ed7953\"],[0.7777777777777778,\"#fb9f3a\"],[0.8888888888888888,\"#fdca26\"],[1.0,\"#f0f921\"]]}],\"contourcarpet\":[{\"type\":\"contourcarpet\",\"colorbar\":{\"outlinewidth\":0,\"ticks\":\"\"}}],\"contour\":[{\"type\":\"contour\",\"colorbar\":{\"outlinewidth\":0,\"ticks\":\"\"},\"colorscale\":[[0.0,\"#0d0887\"],[0.1111111111111111,\"#46039f\"],[0.2222222222222222,\"#7201a8\"],[0.3333333333333333,\"#9c179e\"],[0.4444444444444444,\"#bd3786\"],[0.5555555555555556,\"#d8576b\"],[0.6666666666666666,\"#ed7953\"],[0.7777777777777778,\"#fb9f3a\"],[0.8888888888888888,\"#fdca26\"],[1.0,\"#f0f921\"]]}],\"surface\":[{\"type\":\"surface\",\"colorbar\":{\"outlinewidth\":0,\"ticks\":\"\"},\"colorscale\":[[0.0,\"#0d0887\"],[0.1111111111111111,\"#46039f\"],[0.2222222222222222,\"#7201a8\"],[0.3333333333333333,\"#9c179e\"],[0.4444444444444444,\"#bd3786\"],[0.5555555555555556,\"#d8576b\"],[0.6666666666666666,\"#ed7953\"],[0.7777777777777778,\"#fb9f3a\"],[0.8888888888888888,\"#fdca26\"],[1.0,\"#f0f921\"]]}],\"mesh3d\":[{\"type\":\"mesh3d\",\"colorbar\":{\"outlinewidth\":0,\"ticks\":\"\"}}],\"scatter\":[{\"fillpattern\":{\"fillmode\":\"overlay\",\"size\":10,\"solidity\":0.2},\"type\":\"scatter\"}],\"parcoords\":[{\"type\":\"parcoords\",\"line\":{\"colorbar\":{\"outlinewidth\":0,\"ticks\":\"\"}}}],\"scatterpolargl\":[{\"type\":\"scatterpolargl\",\"marker\":{\"colorbar\":{\"outlinewidth\":0,\"ticks\":\"\"}}}],\"bar\":[{\"error_x\":{\"color\":\"#2a3f5f\"},\"error_y\":{\"color\":\"#2a3f5f\"},\"marker\":{\"line\":{\"color\":\"#E5ECF6\",\"width\":0.5},\"pattern\":{\"fillmode\":\"overlay\",\"size\":10,\"solidity\":0.2}},\"type\":\"bar\"}],\"scattergeo\":[{\"type\":\"scattergeo\",\"marker\":{\"colorbar\":{\"outlinewidth\":0,\"ticks\":\"\"}}}],\"scatterpolar\":[{\"type\":\"scatterpolar\",\"marker\":{\"colorbar\":{\"outlinewidth\":0,\"ticks\":\"\"}}}],\"histogram\":[{\"marker\":{\"pattern\":{\"fillmode\":\"overlay\",\"size\":10,\"solidity\":0.2}},\"type\":\"histogram\"}],\"scattergl\":[{\"type\":\"scattergl\",\"marker\":{\"colorbar\":{\"outlinewidth\":0,\"ticks\":\"\"}}}],\"scatter3d\":[{\"type\":\"scatter3d\",\"line\":{\"colorbar\":{\"outlinewidth\":0,\"ticks\":\"\"}},\"marker\":{\"colorbar\":{\"outlinewidth\":0,\"ticks\":\"\"}}}],\"scattermapbox\":[{\"type\":\"scattermapbox\",\"marker\":{\"colorbar\":{\"outlinewidth\":0,\"ticks\":\"\"}}}],\"scatterternary\":[{\"type\":\"scatterternary\",\"marker\":{\"colorbar\":{\"outlinewidth\":0,\"ticks\":\"\"}}}],\"scattercarpet\":[{\"type\":\"scattercarpet\",\"marker\":{\"colorbar\":{\"outlinewidth\":0,\"ticks\":\"\"}}}],\"carpet\":[{\"aaxis\":{\"endlinecolor\":\"#2a3f5f\",\"gridcolor\":\"white\",\"linecolor\":\"white\",\"minorgridcolor\":\"white\",\"startlinecolor\":\"#2a3f5f\"},\"baxis\":{\"endlinecolor\":\"#2a3f5f\",\"gridcolor\":\"white\",\"linecolor\":\"white\",\"minorgridcolor\":\"white\",\"startlinecolor\":\"#2a3f5f\"},\"type\":\"carpet\"}],\"table\":[{\"cells\":{\"fill\":{\"color\":\"#EBF0F8\"},\"line\":{\"color\":\"white\"}},\"header\":{\"fill\":{\"color\":\"#C8D4E3\"},\"line\":{\"color\":\"white\"}},\"type\":\"table\"}],\"barpolar\":[{\"marker\":{\"line\":{\"color\":\"#E5ECF6\",\"width\":0.5},\"pattern\":{\"fillmode\":\"overlay\",\"size\":10,\"solidity\":0.2}},\"type\":\"barpolar\"}],\"pie\":[{\"automargin\":true,\"type\":\"pie\"}]},\"layout\":{\"autotypenumbers\":\"strict\",\"colorway\":[\"#636efa\",\"#EF553B\",\"#00cc96\",\"#ab63fa\",\"#FFA15A\",\"#19d3f3\",\"#FF6692\",\"#B6E880\",\"#FF97FF\",\"#FECB52\"],\"font\":{\"color\":\"#2a3f5f\"},\"hovermode\":\"closest\",\"hoverlabel\":{\"align\":\"left\"},\"paper_bgcolor\":\"white\",\"plot_bgcolor\":\"#E5ECF6\",\"polar\":{\"bgcolor\":\"#E5ECF6\",\"angularaxis\":{\"gridcolor\":\"white\",\"linecolor\":\"white\",\"ticks\":\"\"},\"radialaxis\":{\"gridcolor\":\"white\",\"linecolor\":\"white\",\"ticks\":\"\"}},\"ternary\":{\"bgcolor\":\"#E5ECF6\",\"aaxis\":{\"gridcolor\":\"white\",\"linecolor\":\"white\",\"ticks\":\"\"},\"baxis\":{\"gridcolor\":\"white\",\"linecolor\":\"white\",\"ticks\":\"\"},\"caxis\":{\"gridcolor\":\"white\",\"linecolor\":\"white\",\"ticks\":\"\"}},\"coloraxis\":{\"colorbar\":{\"outlinewidth\":0,\"ticks\":\"\"}},\"colorscale\":{\"sequential\":[[0.0,\"#0d0887\"],[0.1111111111111111,\"#46039f\"],[0.2222222222222222,\"#7201a8\"],[0.3333333333333333,\"#9c179e\"],[0.4444444444444444,\"#bd3786\"],[0.5555555555555556,\"#d8576b\"],[0.6666666666666666,\"#ed7953\"],[0.7777777777777778,\"#fb9f3a\"],[0.8888888888888888,\"#fdca26\"],[1.0,\"#f0f921\"]],\"sequentialminus\":[[0.0,\"#0d0887\"],[0.1111111111111111,\"#46039f\"],[0.2222222222222222,\"#7201a8\"],[0.3333333333333333,\"#9c179e\"],[0.4444444444444444,\"#bd3786\"],[0.5555555555555556,\"#d8576b\"],[0.6666666666666666,\"#ed7953\"],[0.7777777777777778,\"#fb9f3a\"],[0.8888888888888888,\"#fdca26\"],[1.0,\"#f0f921\"]],\"diverging\":[[0,\"#8e0152\"],[0.1,\"#c51b7d\"],[0.2,\"#de77ae\"],[0.3,\"#f1b6da\"],[0.4,\"#fde0ef\"],[0.5,\"#f7f7f7\"],[0.6,\"#e6f5d0\"],[0.7,\"#b8e186\"],[0.8,\"#7fbc41\"],[0.9,\"#4d9221\"],[1,\"#276419\"]]},\"xaxis\":{\"gridcolor\":\"white\",\"linecolor\":\"white\",\"ticks\":\"\",\"title\":{\"standoff\":15},\"zerolinecolor\":\"white\",\"automargin\":true,\"zerolinewidth\":2},\"yaxis\":{\"gridcolor\":\"white\",\"linecolor\":\"white\",\"ticks\":\"\",\"title\":{\"standoff\":15},\"zerolinecolor\":\"white\",\"automargin\":true,\"zerolinewidth\":2},\"scene\":{\"xaxis\":{\"backgroundcolor\":\"#E5ECF6\",\"gridcolor\":\"white\",\"linecolor\":\"white\",\"showbackground\":true,\"ticks\":\"\",\"zerolinecolor\":\"white\",\"gridwidth\":2},\"yaxis\":{\"backgroundcolor\":\"#E5ECF6\",\"gridcolor\":\"white\",\"linecolor\":\"white\",\"showbackground\":true,\"ticks\":\"\",\"zerolinecolor\":\"white\",\"gridwidth\":2},\"zaxis\":{\"backgroundcolor\":\"#E5ECF6\",\"gridcolor\":\"white\",\"linecolor\":\"white\",\"showbackground\":true,\"ticks\":\"\",\"zerolinecolor\":\"white\",\"gridwidth\":2}},\"shapedefaults\":{\"line\":{\"color\":\"#2a3f5f\"}},\"annotationdefaults\":{\"arrowcolor\":\"#2a3f5f\",\"arrowhead\":0,\"arrowwidth\":1},\"geo\":{\"bgcolor\":\"white\",\"landcolor\":\"#E5ECF6\",\"subunitcolor\":\"white\",\"showland\":true,\"showlakes\":true,\"lakecolor\":\"white\"},\"title\":{\"x\":0.05},\"mapbox\":{\"style\":\"light\"}}},\"title\":{\"text\":\"Dataset Size Effect on Test Loss by Model Size\"},\"yaxis\":{\"title\":{\"text\":\"Loss\"}},\"xaxis\":{\"title\":{\"text\":\"Dataset Size\"}}},                        {\"responsive\": true}                    ).then(function(){\n",
              "                            \n",
              "var gd = document.getElementById('4252a300-27ee-4e34-b2e9-a344fe49358c');\n",
              "var x = new MutationObserver(function (mutations, observer) {{\n",
              "        var display = window.getComputedStyle(gd).display;\n",
              "        if (!display || display === 'none') {{\n",
              "            console.log([gd, 'removed!']);\n",
              "            Plotly.purge(gd);\n",
              "            observer.disconnect();\n",
              "        }}\n",
              "}});\n",
              "\n",
              "// Listen for the removal of the full notebook cells\n",
              "var notebookContainer = gd.closest('#notebook-container');\n",
              "if (notebookContainer) {{\n",
              "    x.observe(notebookContainer, {childList: true});\n",
              "}}\n",
              "\n",
              "// Listen for the clearing of the current output cell\n",
              "var outputEl = gd.closest('.output');\n",
              "if (outputEl) {{\n",
              "    x.observe(outputEl, {childList: true});\n",
              "}}\n",
              "\n",
              "                        })                };                            </script>        </div>\n",
              "</body>\n",
              "</html>"
            ]
          },
          "metadata": {}
        }
      ]
    },
    {
      "cell_type": "code",
      "source": [
        "fig = go.Figure()\n",
        "for m in test_losses_NandD.keys():\n",
        "\n",
        "  fig.add_trace(go.Scatter(x=N_params, y=test_losses_NandD[m], name=f'{train_dlr_sizes[m]} Data Points'))\n",
        "\n",
        "fig.update_layout(title='Model Size Effect on Test Loss by Dataset Size',\n",
        "                  yaxis_title='Loss',\n",
        "                  xaxis_title='Model Size')\n",
        "fig.show()"
      ],
      "metadata": {
        "colab": {
          "base_uri": "https://localhost:8080/",
          "height": 542
        },
        "id": "vyzlaZ1o_tnm",
        "outputId": "3671df21-7b5b-4475-e60e-daf5b5f3efe1"
      },
      "execution_count": 41,
      "outputs": [
        {
          "output_type": "display_data",
          "data": {
            "text/html": [
              "<html>\n",
              "<head><meta charset=\"utf-8\" /></head>\n",
              "<body>\n",
              "    <div>            <script src=\"https://cdnjs.cloudflare.com/ajax/libs/mathjax/2.7.5/MathJax.js?config=TeX-AMS-MML_SVG\"></script><script type=\"text/javascript\">if (window.MathJax && window.MathJax.Hub && window.MathJax.Hub.Config) {window.MathJax.Hub.Config({SVG: {font: \"STIX-Web\"}});}</script>                <script type=\"text/javascript\">window.PlotlyConfig = {MathJaxConfig: 'local'};</script>\n",
              "        <script charset=\"utf-8\" src=\"https://cdn.plot.ly/plotly-2.24.1.min.js\"></script>                <div id=\"d073bd9d-6709-4d86-9bec-8cb84242b591\" class=\"plotly-graph-div\" style=\"height:525px; width:100%;\"></div>            <script type=\"text/javascript\">                                    window.PLOTLYENV=window.PLOTLYENV || {};                                    if (document.getElementById(\"d073bd9d-6709-4d86-9bec-8cb84242b591\")) {                    Plotly.newPlot(                        \"d073bd9d-6709-4d86-9bec-8cb84242b591\",                        [{\"name\":\"1875 Data Points\",\"x\":[9798,20245,38306,74657,152775,308236],\"y\":[2.2152767172284946,2.1387194194611476,1.9247136146399626,1.6147645809088544,1.461831029813001,1.0587213081918705],\"type\":\"scatter\"},{\"name\":\"3750 Data Points\",\"x\":[9798,20245,38306,74657,152775,308236],\"y\":[1.7226465925289567,1.3514471523321359,0.8704606039508892,0.7438596488943524,0.5466700280927548,0.5667234961014644],\"type\":\"scatter\"},{\"name\":\"7500 Data Points\",\"x\":[9798,20245,38306,74657,152775,308236],\"y\":[0.9321922636335824,0.639224273535856,0.47569922971877315,0.3853811078390498,0.29074464160355795,0.2116253315263493],\"type\":\"scatter\"},{\"name\":\"15000 Data Points\",\"x\":[9798,20245,38306,74657,152775,308236],\"y\":[0.4282760921367414,0.3796153541962812,0.28041716701096037,0.19272626308593782,0.14303691930784163,0.12580045107870724],\"type\":\"scatter\"},{\"name\":\"30000 Data Points\",\"x\":[9798,20245,38306,74657,152775,308236],\"y\":[0.34170739464699085,0.20992958534295392,0.15563625519395255,0.11457183348714924,0.09006778276495778,0.07320481530349156],\"type\":\"scatter\"},{\"name\":\"60000 Data Points\",\"x\":[9798,20245,38306,74657,152775,308236],\"y\":[0.20481436720034876,0.13059402102379095,0.09308288189386771,0.0768352249748471,0.06884351767759747,0.06093156930759169],\"type\":\"scatter\"}],                        {\"template\":{\"data\":{\"histogram2dcontour\":[{\"type\":\"histogram2dcontour\",\"colorbar\":{\"outlinewidth\":0,\"ticks\":\"\"},\"colorscale\":[[0.0,\"#0d0887\"],[0.1111111111111111,\"#46039f\"],[0.2222222222222222,\"#7201a8\"],[0.3333333333333333,\"#9c179e\"],[0.4444444444444444,\"#bd3786\"],[0.5555555555555556,\"#d8576b\"],[0.6666666666666666,\"#ed7953\"],[0.7777777777777778,\"#fb9f3a\"],[0.8888888888888888,\"#fdca26\"],[1.0,\"#f0f921\"]]}],\"choropleth\":[{\"type\":\"choropleth\",\"colorbar\":{\"outlinewidth\":0,\"ticks\":\"\"}}],\"histogram2d\":[{\"type\":\"histogram2d\",\"colorbar\":{\"outlinewidth\":0,\"ticks\":\"\"},\"colorscale\":[[0.0,\"#0d0887\"],[0.1111111111111111,\"#46039f\"],[0.2222222222222222,\"#7201a8\"],[0.3333333333333333,\"#9c179e\"],[0.4444444444444444,\"#bd3786\"],[0.5555555555555556,\"#d8576b\"],[0.6666666666666666,\"#ed7953\"],[0.7777777777777778,\"#fb9f3a\"],[0.8888888888888888,\"#fdca26\"],[1.0,\"#f0f921\"]]}],\"heatmap\":[{\"type\":\"heatmap\",\"colorbar\":{\"outlinewidth\":0,\"ticks\":\"\"},\"colorscale\":[[0.0,\"#0d0887\"],[0.1111111111111111,\"#46039f\"],[0.2222222222222222,\"#7201a8\"],[0.3333333333333333,\"#9c179e\"],[0.4444444444444444,\"#bd3786\"],[0.5555555555555556,\"#d8576b\"],[0.6666666666666666,\"#ed7953\"],[0.7777777777777778,\"#fb9f3a\"],[0.8888888888888888,\"#fdca26\"],[1.0,\"#f0f921\"]]}],\"heatmapgl\":[{\"type\":\"heatmapgl\",\"colorbar\":{\"outlinewidth\":0,\"ticks\":\"\"},\"colorscale\":[[0.0,\"#0d0887\"],[0.1111111111111111,\"#46039f\"],[0.2222222222222222,\"#7201a8\"],[0.3333333333333333,\"#9c179e\"],[0.4444444444444444,\"#bd3786\"],[0.5555555555555556,\"#d8576b\"],[0.6666666666666666,\"#ed7953\"],[0.7777777777777778,\"#fb9f3a\"],[0.8888888888888888,\"#fdca26\"],[1.0,\"#f0f921\"]]}],\"contourcarpet\":[{\"type\":\"contourcarpet\",\"colorbar\":{\"outlinewidth\":0,\"ticks\":\"\"}}],\"contour\":[{\"type\":\"contour\",\"colorbar\":{\"outlinewidth\":0,\"ticks\":\"\"},\"colorscale\":[[0.0,\"#0d0887\"],[0.1111111111111111,\"#46039f\"],[0.2222222222222222,\"#7201a8\"],[0.3333333333333333,\"#9c179e\"],[0.4444444444444444,\"#bd3786\"],[0.5555555555555556,\"#d8576b\"],[0.6666666666666666,\"#ed7953\"],[0.7777777777777778,\"#fb9f3a\"],[0.8888888888888888,\"#fdca26\"],[1.0,\"#f0f921\"]]}],\"surface\":[{\"type\":\"surface\",\"colorbar\":{\"outlinewidth\":0,\"ticks\":\"\"},\"colorscale\":[[0.0,\"#0d0887\"],[0.1111111111111111,\"#46039f\"],[0.2222222222222222,\"#7201a8\"],[0.3333333333333333,\"#9c179e\"],[0.4444444444444444,\"#bd3786\"],[0.5555555555555556,\"#d8576b\"],[0.6666666666666666,\"#ed7953\"],[0.7777777777777778,\"#fb9f3a\"],[0.8888888888888888,\"#fdca26\"],[1.0,\"#f0f921\"]]}],\"mesh3d\":[{\"type\":\"mesh3d\",\"colorbar\":{\"outlinewidth\":0,\"ticks\":\"\"}}],\"scatter\":[{\"fillpattern\":{\"fillmode\":\"overlay\",\"size\":10,\"solidity\":0.2},\"type\":\"scatter\"}],\"parcoords\":[{\"type\":\"parcoords\",\"line\":{\"colorbar\":{\"outlinewidth\":0,\"ticks\":\"\"}}}],\"scatterpolargl\":[{\"type\":\"scatterpolargl\",\"marker\":{\"colorbar\":{\"outlinewidth\":0,\"ticks\":\"\"}}}],\"bar\":[{\"error_x\":{\"color\":\"#2a3f5f\"},\"error_y\":{\"color\":\"#2a3f5f\"},\"marker\":{\"line\":{\"color\":\"#E5ECF6\",\"width\":0.5},\"pattern\":{\"fillmode\":\"overlay\",\"size\":10,\"solidity\":0.2}},\"type\":\"bar\"}],\"scattergeo\":[{\"type\":\"scattergeo\",\"marker\":{\"colorbar\":{\"outlinewidth\":0,\"ticks\":\"\"}}}],\"scatterpolar\":[{\"type\":\"scatterpolar\",\"marker\":{\"colorbar\":{\"outlinewidth\":0,\"ticks\":\"\"}}}],\"histogram\":[{\"marker\":{\"pattern\":{\"fillmode\":\"overlay\",\"size\":10,\"solidity\":0.2}},\"type\":\"histogram\"}],\"scattergl\":[{\"type\":\"scattergl\",\"marker\":{\"colorbar\":{\"outlinewidth\":0,\"ticks\":\"\"}}}],\"scatter3d\":[{\"type\":\"scatter3d\",\"line\":{\"colorbar\":{\"outlinewidth\":0,\"ticks\":\"\"}},\"marker\":{\"colorbar\":{\"outlinewidth\":0,\"ticks\":\"\"}}}],\"scattermapbox\":[{\"type\":\"scattermapbox\",\"marker\":{\"colorbar\":{\"outlinewidth\":0,\"ticks\":\"\"}}}],\"scatterternary\":[{\"type\":\"scatterternary\",\"marker\":{\"colorbar\":{\"outlinewidth\":0,\"ticks\":\"\"}}}],\"scattercarpet\":[{\"type\":\"scattercarpet\",\"marker\":{\"colorbar\":{\"outlinewidth\":0,\"ticks\":\"\"}}}],\"carpet\":[{\"aaxis\":{\"endlinecolor\":\"#2a3f5f\",\"gridcolor\":\"white\",\"linecolor\":\"white\",\"minorgridcolor\":\"white\",\"startlinecolor\":\"#2a3f5f\"},\"baxis\":{\"endlinecolor\":\"#2a3f5f\",\"gridcolor\":\"white\",\"linecolor\":\"white\",\"minorgridcolor\":\"white\",\"startlinecolor\":\"#2a3f5f\"},\"type\":\"carpet\"}],\"table\":[{\"cells\":{\"fill\":{\"color\":\"#EBF0F8\"},\"line\":{\"color\":\"white\"}},\"header\":{\"fill\":{\"color\":\"#C8D4E3\"},\"line\":{\"color\":\"white\"}},\"type\":\"table\"}],\"barpolar\":[{\"marker\":{\"line\":{\"color\":\"#E5ECF6\",\"width\":0.5},\"pattern\":{\"fillmode\":\"overlay\",\"size\":10,\"solidity\":0.2}},\"type\":\"barpolar\"}],\"pie\":[{\"automargin\":true,\"type\":\"pie\"}]},\"layout\":{\"autotypenumbers\":\"strict\",\"colorway\":[\"#636efa\",\"#EF553B\",\"#00cc96\",\"#ab63fa\",\"#FFA15A\",\"#19d3f3\",\"#FF6692\",\"#B6E880\",\"#FF97FF\",\"#FECB52\"],\"font\":{\"color\":\"#2a3f5f\"},\"hovermode\":\"closest\",\"hoverlabel\":{\"align\":\"left\"},\"paper_bgcolor\":\"white\",\"plot_bgcolor\":\"#E5ECF6\",\"polar\":{\"bgcolor\":\"#E5ECF6\",\"angularaxis\":{\"gridcolor\":\"white\",\"linecolor\":\"white\",\"ticks\":\"\"},\"radialaxis\":{\"gridcolor\":\"white\",\"linecolor\":\"white\",\"ticks\":\"\"}},\"ternary\":{\"bgcolor\":\"#E5ECF6\",\"aaxis\":{\"gridcolor\":\"white\",\"linecolor\":\"white\",\"ticks\":\"\"},\"baxis\":{\"gridcolor\":\"white\",\"linecolor\":\"white\",\"ticks\":\"\"},\"caxis\":{\"gridcolor\":\"white\",\"linecolor\":\"white\",\"ticks\":\"\"}},\"coloraxis\":{\"colorbar\":{\"outlinewidth\":0,\"ticks\":\"\"}},\"colorscale\":{\"sequential\":[[0.0,\"#0d0887\"],[0.1111111111111111,\"#46039f\"],[0.2222222222222222,\"#7201a8\"],[0.3333333333333333,\"#9c179e\"],[0.4444444444444444,\"#bd3786\"],[0.5555555555555556,\"#d8576b\"],[0.6666666666666666,\"#ed7953\"],[0.7777777777777778,\"#fb9f3a\"],[0.8888888888888888,\"#fdca26\"],[1.0,\"#f0f921\"]],\"sequentialminus\":[[0.0,\"#0d0887\"],[0.1111111111111111,\"#46039f\"],[0.2222222222222222,\"#7201a8\"],[0.3333333333333333,\"#9c179e\"],[0.4444444444444444,\"#bd3786\"],[0.5555555555555556,\"#d8576b\"],[0.6666666666666666,\"#ed7953\"],[0.7777777777777778,\"#fb9f3a\"],[0.8888888888888888,\"#fdca26\"],[1.0,\"#f0f921\"]],\"diverging\":[[0,\"#8e0152\"],[0.1,\"#c51b7d\"],[0.2,\"#de77ae\"],[0.3,\"#f1b6da\"],[0.4,\"#fde0ef\"],[0.5,\"#f7f7f7\"],[0.6,\"#e6f5d0\"],[0.7,\"#b8e186\"],[0.8,\"#7fbc41\"],[0.9,\"#4d9221\"],[1,\"#276419\"]]},\"xaxis\":{\"gridcolor\":\"white\",\"linecolor\":\"white\",\"ticks\":\"\",\"title\":{\"standoff\":15},\"zerolinecolor\":\"white\",\"automargin\":true,\"zerolinewidth\":2},\"yaxis\":{\"gridcolor\":\"white\",\"linecolor\":\"white\",\"ticks\":\"\",\"title\":{\"standoff\":15},\"zerolinecolor\":\"white\",\"automargin\":true,\"zerolinewidth\":2},\"scene\":{\"xaxis\":{\"backgroundcolor\":\"#E5ECF6\",\"gridcolor\":\"white\",\"linecolor\":\"white\",\"showbackground\":true,\"ticks\":\"\",\"zerolinecolor\":\"white\",\"gridwidth\":2},\"yaxis\":{\"backgroundcolor\":\"#E5ECF6\",\"gridcolor\":\"white\",\"linecolor\":\"white\",\"showbackground\":true,\"ticks\":\"\",\"zerolinecolor\":\"white\",\"gridwidth\":2},\"zaxis\":{\"backgroundcolor\":\"#E5ECF6\",\"gridcolor\":\"white\",\"linecolor\":\"white\",\"showbackground\":true,\"ticks\":\"\",\"zerolinecolor\":\"white\",\"gridwidth\":2}},\"shapedefaults\":{\"line\":{\"color\":\"#2a3f5f\"}},\"annotationdefaults\":{\"arrowcolor\":\"#2a3f5f\",\"arrowhead\":0,\"arrowwidth\":1},\"geo\":{\"bgcolor\":\"white\",\"landcolor\":\"#E5ECF6\",\"subunitcolor\":\"white\",\"showland\":true,\"showlakes\":true,\"lakecolor\":\"white\"},\"title\":{\"x\":0.05},\"mapbox\":{\"style\":\"light\"}}},\"title\":{\"text\":\"Model Size Effect on Test Loss by Dataset Size\"},\"yaxis\":{\"title\":{\"text\":\"Loss\"}},\"xaxis\":{\"title\":{\"text\":\"Model Size\"}}},                        {\"responsive\": true}                    ).then(function(){\n",
              "                            \n",
              "var gd = document.getElementById('d073bd9d-6709-4d86-9bec-8cb84242b591');\n",
              "var x = new MutationObserver(function (mutations, observer) {{\n",
              "        var display = window.getComputedStyle(gd).display;\n",
              "        if (!display || display === 'none') {{\n",
              "            console.log([gd, 'removed!']);\n",
              "            Plotly.purge(gd);\n",
              "            observer.disconnect();\n",
              "        }}\n",
              "}});\n",
              "\n",
              "// Listen for the removal of the full notebook cells\n",
              "var notebookContainer = gd.closest('#notebook-container');\n",
              "if (notebookContainer) {{\n",
              "    x.observe(notebookContainer, {childList: true});\n",
              "}}\n",
              "\n",
              "// Listen for the clearing of the current output cell\n",
              "var outputEl = gd.closest('.output');\n",
              "if (outputEl) {{\n",
              "    x.observe(outputEl, {childList: true});\n",
              "}}\n",
              "\n",
              "                        })                };                            </script>        </div>\n",
              "</body>\n",
              "</html>"
            ]
          },
          "metadata": {}
        }
      ]
    },
    {
      "cell_type": "code",
      "source": [
        "fig = px.scatter(x=N_params, y=np.log(test_losses_NandD[2]), title ='Model Size Effect of Log Test Loss - Fixed Dataset Size', trendline='ols')\n",
        "fig.show()"
      ],
      "metadata": {
        "colab": {
          "base_uri": "https://localhost:8080/",
          "height": 542
        },
        "id": "6UudJDsNAPB_",
        "outputId": "64f87534-7857-4c0f-a9b8-847e11511ffc"
      },
      "execution_count": 43,
      "outputs": [
        {
          "output_type": "display_data",
          "data": {
            "text/html": [
              "<html>\n",
              "<head><meta charset=\"utf-8\" /></head>\n",
              "<body>\n",
              "    <div>            <script src=\"https://cdnjs.cloudflare.com/ajax/libs/mathjax/2.7.5/MathJax.js?config=TeX-AMS-MML_SVG\"></script><script type=\"text/javascript\">if (window.MathJax && window.MathJax.Hub && window.MathJax.Hub.Config) {window.MathJax.Hub.Config({SVG: {font: \"STIX-Web\"}});}</script>                <script type=\"text/javascript\">window.PlotlyConfig = {MathJaxConfig: 'local'};</script>\n",
              "        <script charset=\"utf-8\" src=\"https://cdn.plot.ly/plotly-2.24.1.min.js\"></script>                <div id=\"a97da7d3-95c9-47bb-8cff-3c08b43b82c4\" class=\"plotly-graph-div\" style=\"height:525px; width:100%;\"></div>            <script type=\"text/javascript\">                                    window.PLOTLYENV=window.PLOTLYENV || {};                                    if (document.getElementById(\"a97da7d3-95c9-47bb-8cff-3c08b43b82c4\")) {                    Plotly.newPlot(                        \"a97da7d3-95c9-47bb-8cff-3c08b43b82c4\",                        [{\"hovertemplate\":\"x=%{x}\\u003cbr\\u003ey=%{y}\\u003cextra\\u003e\\u003c\\u002fextra\\u003e\",\"legendgroup\":\"\",\"marker\":{\"color\":\"#636efa\",\"symbol\":\"circle\"},\"mode\":\"markers\",\"name\":\"\",\"orientation\":\"v\",\"showlegend\":false,\"x\":[9798,20245,38306,74657,152775,308236],\"xaxis\":\"x\",\"y\":[-0.07021619411935999,-0.4474999103827388,-0.7429694948036248,-0.9535225438218208,-1.2353099173196285,-1.5529378719554667],\"yaxis\":\"y\",\"type\":\"scatter\"},{\"hovertemplate\":\"\\u003cb\\u003eOLS trendline\\u003c\\u002fb\\u003e\\u003cbr\\u003ey = -4.19718e-06 * x + -0.411215\\u003cbr\\u003eR\\u003csup\\u003e2\\u003c\\u002fsup\\u003e=0.800041\\u003cbr\\u003e\\u003cbr\\u003ex=%{x}\\u003cbr\\u003ey=%{y} \\u003cb\\u003e(trend)\\u003c\\u002fb\\u003e\\u003cextra\\u003e\\u003c\\u002fextra\\u003e\",\"legendgroup\":\"\",\"marker\":{\"color\":\"#636efa\",\"symbol\":\"circle\"},\"mode\":\"lines\",\"name\":\"\",\"showlegend\":false,\"x\":[9798,20245,38306,74657,152775,308236],\"xaxis\":\"x\",\"y\":[-0.4523388705069108,-0.4961867803662473,-0.5719919971719789,-0.7245635843545903,-1.0524386702540496,-1.7049360297488634],\"yaxis\":\"y\",\"type\":\"scatter\"}],                        {\"template\":{\"data\":{\"histogram2dcontour\":[{\"type\":\"histogram2dcontour\",\"colorbar\":{\"outlinewidth\":0,\"ticks\":\"\"},\"colorscale\":[[0.0,\"#0d0887\"],[0.1111111111111111,\"#46039f\"],[0.2222222222222222,\"#7201a8\"],[0.3333333333333333,\"#9c179e\"],[0.4444444444444444,\"#bd3786\"],[0.5555555555555556,\"#d8576b\"],[0.6666666666666666,\"#ed7953\"],[0.7777777777777778,\"#fb9f3a\"],[0.8888888888888888,\"#fdca26\"],[1.0,\"#f0f921\"]]}],\"choropleth\":[{\"type\":\"choropleth\",\"colorbar\":{\"outlinewidth\":0,\"ticks\":\"\"}}],\"histogram2d\":[{\"type\":\"histogram2d\",\"colorbar\":{\"outlinewidth\":0,\"ticks\":\"\"},\"colorscale\":[[0.0,\"#0d0887\"],[0.1111111111111111,\"#46039f\"],[0.2222222222222222,\"#7201a8\"],[0.3333333333333333,\"#9c179e\"],[0.4444444444444444,\"#bd3786\"],[0.5555555555555556,\"#d8576b\"],[0.6666666666666666,\"#ed7953\"],[0.7777777777777778,\"#fb9f3a\"],[0.8888888888888888,\"#fdca26\"],[1.0,\"#f0f921\"]]}],\"heatmap\":[{\"type\":\"heatmap\",\"colorbar\":{\"outlinewidth\":0,\"ticks\":\"\"},\"colorscale\":[[0.0,\"#0d0887\"],[0.1111111111111111,\"#46039f\"],[0.2222222222222222,\"#7201a8\"],[0.3333333333333333,\"#9c179e\"],[0.4444444444444444,\"#bd3786\"],[0.5555555555555556,\"#d8576b\"],[0.6666666666666666,\"#ed7953\"],[0.7777777777777778,\"#fb9f3a\"],[0.8888888888888888,\"#fdca26\"],[1.0,\"#f0f921\"]]}],\"heatmapgl\":[{\"type\":\"heatmapgl\",\"colorbar\":{\"outlinewidth\":0,\"ticks\":\"\"},\"colorscale\":[[0.0,\"#0d0887\"],[0.1111111111111111,\"#46039f\"],[0.2222222222222222,\"#7201a8\"],[0.3333333333333333,\"#9c179e\"],[0.4444444444444444,\"#bd3786\"],[0.5555555555555556,\"#d8576b\"],[0.6666666666666666,\"#ed7953\"],[0.7777777777777778,\"#fb9f3a\"],[0.8888888888888888,\"#fdca26\"],[1.0,\"#f0f921\"]]}],\"contourcarpet\":[{\"type\":\"contourcarpet\",\"colorbar\":{\"outlinewidth\":0,\"ticks\":\"\"}}],\"contour\":[{\"type\":\"contour\",\"colorbar\":{\"outlinewidth\":0,\"ticks\":\"\"},\"colorscale\":[[0.0,\"#0d0887\"],[0.1111111111111111,\"#46039f\"],[0.2222222222222222,\"#7201a8\"],[0.3333333333333333,\"#9c179e\"],[0.4444444444444444,\"#bd3786\"],[0.5555555555555556,\"#d8576b\"],[0.6666666666666666,\"#ed7953\"],[0.7777777777777778,\"#fb9f3a\"],[0.8888888888888888,\"#fdca26\"],[1.0,\"#f0f921\"]]}],\"surface\":[{\"type\":\"surface\",\"colorbar\":{\"outlinewidth\":0,\"ticks\":\"\"},\"colorscale\":[[0.0,\"#0d0887\"],[0.1111111111111111,\"#46039f\"],[0.2222222222222222,\"#7201a8\"],[0.3333333333333333,\"#9c179e\"],[0.4444444444444444,\"#bd3786\"],[0.5555555555555556,\"#d8576b\"],[0.6666666666666666,\"#ed7953\"],[0.7777777777777778,\"#fb9f3a\"],[0.8888888888888888,\"#fdca26\"],[1.0,\"#f0f921\"]]}],\"mesh3d\":[{\"type\":\"mesh3d\",\"colorbar\":{\"outlinewidth\":0,\"ticks\":\"\"}}],\"scatter\":[{\"fillpattern\":{\"fillmode\":\"overlay\",\"size\":10,\"solidity\":0.2},\"type\":\"scatter\"}],\"parcoords\":[{\"type\":\"parcoords\",\"line\":{\"colorbar\":{\"outlinewidth\":0,\"ticks\":\"\"}}}],\"scatterpolargl\":[{\"type\":\"scatterpolargl\",\"marker\":{\"colorbar\":{\"outlinewidth\":0,\"ticks\":\"\"}}}],\"bar\":[{\"error_x\":{\"color\":\"#2a3f5f\"},\"error_y\":{\"color\":\"#2a3f5f\"},\"marker\":{\"line\":{\"color\":\"#E5ECF6\",\"width\":0.5},\"pattern\":{\"fillmode\":\"overlay\",\"size\":10,\"solidity\":0.2}},\"type\":\"bar\"}],\"scattergeo\":[{\"type\":\"scattergeo\",\"marker\":{\"colorbar\":{\"outlinewidth\":0,\"ticks\":\"\"}}}],\"scatterpolar\":[{\"type\":\"scatterpolar\",\"marker\":{\"colorbar\":{\"outlinewidth\":0,\"ticks\":\"\"}}}],\"histogram\":[{\"marker\":{\"pattern\":{\"fillmode\":\"overlay\",\"size\":10,\"solidity\":0.2}},\"type\":\"histogram\"}],\"scattergl\":[{\"type\":\"scattergl\",\"marker\":{\"colorbar\":{\"outlinewidth\":0,\"ticks\":\"\"}}}],\"scatter3d\":[{\"type\":\"scatter3d\",\"line\":{\"colorbar\":{\"outlinewidth\":0,\"ticks\":\"\"}},\"marker\":{\"colorbar\":{\"outlinewidth\":0,\"ticks\":\"\"}}}],\"scattermapbox\":[{\"type\":\"scattermapbox\",\"marker\":{\"colorbar\":{\"outlinewidth\":0,\"ticks\":\"\"}}}],\"scatterternary\":[{\"type\":\"scatterternary\",\"marker\":{\"colorbar\":{\"outlinewidth\":0,\"ticks\":\"\"}}}],\"scattercarpet\":[{\"type\":\"scattercarpet\",\"marker\":{\"colorbar\":{\"outlinewidth\":0,\"ticks\":\"\"}}}],\"carpet\":[{\"aaxis\":{\"endlinecolor\":\"#2a3f5f\",\"gridcolor\":\"white\",\"linecolor\":\"white\",\"minorgridcolor\":\"white\",\"startlinecolor\":\"#2a3f5f\"},\"baxis\":{\"endlinecolor\":\"#2a3f5f\",\"gridcolor\":\"white\",\"linecolor\":\"white\",\"minorgridcolor\":\"white\",\"startlinecolor\":\"#2a3f5f\"},\"type\":\"carpet\"}],\"table\":[{\"cells\":{\"fill\":{\"color\":\"#EBF0F8\"},\"line\":{\"color\":\"white\"}},\"header\":{\"fill\":{\"color\":\"#C8D4E3\"},\"line\":{\"color\":\"white\"}},\"type\":\"table\"}],\"barpolar\":[{\"marker\":{\"line\":{\"color\":\"#E5ECF6\",\"width\":0.5},\"pattern\":{\"fillmode\":\"overlay\",\"size\":10,\"solidity\":0.2}},\"type\":\"barpolar\"}],\"pie\":[{\"automargin\":true,\"type\":\"pie\"}]},\"layout\":{\"autotypenumbers\":\"strict\",\"colorway\":[\"#636efa\",\"#EF553B\",\"#00cc96\",\"#ab63fa\",\"#FFA15A\",\"#19d3f3\",\"#FF6692\",\"#B6E880\",\"#FF97FF\",\"#FECB52\"],\"font\":{\"color\":\"#2a3f5f\"},\"hovermode\":\"closest\",\"hoverlabel\":{\"align\":\"left\"},\"paper_bgcolor\":\"white\",\"plot_bgcolor\":\"#E5ECF6\",\"polar\":{\"bgcolor\":\"#E5ECF6\",\"angularaxis\":{\"gridcolor\":\"white\",\"linecolor\":\"white\",\"ticks\":\"\"},\"radialaxis\":{\"gridcolor\":\"white\",\"linecolor\":\"white\",\"ticks\":\"\"}},\"ternary\":{\"bgcolor\":\"#E5ECF6\",\"aaxis\":{\"gridcolor\":\"white\",\"linecolor\":\"white\",\"ticks\":\"\"},\"baxis\":{\"gridcolor\":\"white\",\"linecolor\":\"white\",\"ticks\":\"\"},\"caxis\":{\"gridcolor\":\"white\",\"linecolor\":\"white\",\"ticks\":\"\"}},\"coloraxis\":{\"colorbar\":{\"outlinewidth\":0,\"ticks\":\"\"}},\"colorscale\":{\"sequential\":[[0.0,\"#0d0887\"],[0.1111111111111111,\"#46039f\"],[0.2222222222222222,\"#7201a8\"],[0.3333333333333333,\"#9c179e\"],[0.4444444444444444,\"#bd3786\"],[0.5555555555555556,\"#d8576b\"],[0.6666666666666666,\"#ed7953\"],[0.7777777777777778,\"#fb9f3a\"],[0.8888888888888888,\"#fdca26\"],[1.0,\"#f0f921\"]],\"sequentialminus\":[[0.0,\"#0d0887\"],[0.1111111111111111,\"#46039f\"],[0.2222222222222222,\"#7201a8\"],[0.3333333333333333,\"#9c179e\"],[0.4444444444444444,\"#bd3786\"],[0.5555555555555556,\"#d8576b\"],[0.6666666666666666,\"#ed7953\"],[0.7777777777777778,\"#fb9f3a\"],[0.8888888888888888,\"#fdca26\"],[1.0,\"#f0f921\"]],\"diverging\":[[0,\"#8e0152\"],[0.1,\"#c51b7d\"],[0.2,\"#de77ae\"],[0.3,\"#f1b6da\"],[0.4,\"#fde0ef\"],[0.5,\"#f7f7f7\"],[0.6,\"#e6f5d0\"],[0.7,\"#b8e186\"],[0.8,\"#7fbc41\"],[0.9,\"#4d9221\"],[1,\"#276419\"]]},\"xaxis\":{\"gridcolor\":\"white\",\"linecolor\":\"white\",\"ticks\":\"\",\"title\":{\"standoff\":15},\"zerolinecolor\":\"white\",\"automargin\":true,\"zerolinewidth\":2},\"yaxis\":{\"gridcolor\":\"white\",\"linecolor\":\"white\",\"ticks\":\"\",\"title\":{\"standoff\":15},\"zerolinecolor\":\"white\",\"automargin\":true,\"zerolinewidth\":2},\"scene\":{\"xaxis\":{\"backgroundcolor\":\"#E5ECF6\",\"gridcolor\":\"white\",\"linecolor\":\"white\",\"showbackground\":true,\"ticks\":\"\",\"zerolinecolor\":\"white\",\"gridwidth\":2},\"yaxis\":{\"backgroundcolor\":\"#E5ECF6\",\"gridcolor\":\"white\",\"linecolor\":\"white\",\"showbackground\":true,\"ticks\":\"\",\"zerolinecolor\":\"white\",\"gridwidth\":2},\"zaxis\":{\"backgroundcolor\":\"#E5ECF6\",\"gridcolor\":\"white\",\"linecolor\":\"white\",\"showbackground\":true,\"ticks\":\"\",\"zerolinecolor\":\"white\",\"gridwidth\":2}},\"shapedefaults\":{\"line\":{\"color\":\"#2a3f5f\"}},\"annotationdefaults\":{\"arrowcolor\":\"#2a3f5f\",\"arrowhead\":0,\"arrowwidth\":1},\"geo\":{\"bgcolor\":\"white\",\"landcolor\":\"#E5ECF6\",\"subunitcolor\":\"white\",\"showland\":true,\"showlakes\":true,\"lakecolor\":\"white\"},\"title\":{\"x\":0.05},\"mapbox\":{\"style\":\"light\"}}},\"xaxis\":{\"anchor\":\"y\",\"domain\":[0.0,1.0],\"title\":{\"text\":\"x\"}},\"yaxis\":{\"anchor\":\"x\",\"domain\":[0.0,1.0],\"title\":{\"text\":\"y\"}},\"legend\":{\"tracegroupgap\":0},\"title\":{\"text\":\"Model Size Effect of Log Test Loss - Fixed Dataset Size\"}},                        {\"responsive\": true}                    ).then(function(){\n",
              "                            \n",
              "var gd = document.getElementById('a97da7d3-95c9-47bb-8cff-3c08b43b82c4');\n",
              "var x = new MutationObserver(function (mutations, observer) {{\n",
              "        var display = window.getComputedStyle(gd).display;\n",
              "        if (!display || display === 'none') {{\n",
              "            console.log([gd, 'removed!']);\n",
              "            Plotly.purge(gd);\n",
              "            observer.disconnect();\n",
              "        }}\n",
              "}});\n",
              "\n",
              "// Listen for the removal of the full notebook cells\n",
              "var notebookContainer = gd.closest('#notebook-container');\n",
              "if (notebookContainer) {{\n",
              "    x.observe(notebookContainer, {childList: true});\n",
              "}}\n",
              "\n",
              "// Listen for the clearing of the current output cell\n",
              "var outputEl = gd.closest('.output');\n",
              "if (outputEl) {{\n",
              "    x.observe(outputEl, {childList: true});\n",
              "}}\n",
              "\n",
              "                        })                };                            </script>        </div>\n",
              "</body>\n",
              "</html>"
            ]
          },
          "metadata": {}
        }
      ]
    },
    {
      "cell_type": "markdown",
      "source": [
        "### Compute"
      ],
      "metadata": {
        "id": "hqMFxcJCF7fF"
      }
    },
    {
      "cell_type": "code",
      "source": [
        "test_losses_NandC = []\n",
        "test_acc_NandC = []\n",
        "compute_epoch_list = []\n",
        "compute_paper_list = []\n",
        "N_params = []\n",
        "\n",
        "max_epochs = 1\n",
        "loss = nn.CrossEntropyLoss()\n",
        "n_models = 6\n",
        "n_reps = 5\n",
        "\n",
        "\n",
        "# arch\n",
        "convdepth = 2\n",
        "ks = [3, 3]\n",
        "nchan = [4, 4]\n",
        "nhid1 = 32\n",
        "nhid2 = 32\n",
        "\n",
        "for j in range(n_models):\n",
        "  running_test_loss = 0\n",
        "  running_test_acc = 0\n",
        "  running_compute_epoch = 0\n",
        "  running_compute_paper = 0\n",
        "  for r in range(n_reps):\n",
        "    # create configs\n",
        "    cfg = Config(ks=ks,\n",
        "                mp=2,\n",
        "                nchan=nchan,\n",
        "                convdepth=convdepth,\n",
        "                nhid1=nhid1,\n",
        "                nhid2=nhid2,\n",
        "                drop=0.2)\n",
        "\n",
        "    # create model and instantiate optimizer\n",
        "    cnn = CNN(cfg)\n",
        "    N = count_parameters(cnn)\n",
        "    N_params.append(N)\n",
        "    c_paper, c_epoch = get_compute_used_train(cnn, cfg, train_dlr_quar)\n",
        "    lr = 0.003239  + ((-0.0001395) * np.log(N))\n",
        "    print('MODEL', j, 'PARAMETER COUNT:', N)\n",
        "    optm = torch.optim.Adam(cnn.parameters(), lr=lr)\n",
        "    # train and evaluate\n",
        "    print(f'########### STAR MODEL {j} REP {r} ###########')\n",
        "    for e in range(max_epochs):\n",
        "      train_loss, train_acc = train(cnn, train_dlr_quar, loss, optm)\n",
        "    print('EVALUATING')\n",
        "    test_loss, test_acc = evaluate(cnn, test_dlr, loss)\n",
        "    running_compute_epoch += c_epoch\n",
        "    running_compute_paper += c_paper\n",
        "    running_test_loss += test_loss\n",
        "    running_test_acc += test_acc\n",
        "    print(f'############ END MODEL {j} REP {r} ############')\n",
        "    print('\\n')\n",
        "  test_losses_NandC.append(running_test_loss/n_reps)\n",
        "  test_acc_NandC.append(running_test_acc/n_reps)\n",
        "  compute_epoch_list.append(running_compute_epoch/n_reps)\n",
        "  compute_paper_list.append(running_compute_paper/n_reps)\n",
        "  # change arch params\n",
        "  nchan = [round(np.sqrt(2)*m) for m in nchan]\n",
        "  nhid1 = round(np.sqrt(2)*nhid1)\n",
        "  nhid2 = round(np.sqrt(2)*nhid2)"
      ],
      "metadata": {
        "colab": {
          "base_uri": "https://localhost:8080/"
        },
        "id": "Ox1Gln4sF69L",
        "outputId": "7421130c-d102-477b-b38f-296036233e66"
      },
      "execution_count": 46,
      "outputs": [
        {
          "output_type": "stream",
          "name": "stdout",
          "text": [
            "MODEL 0 PARAMETER COUNT: 9798\n",
            "########### STAR MODEL 0 REP 0 ###########\n"
          ]
        },
        {
          "output_type": "stream",
          "name": "stderr",
          "text": [
            "100%|██████████| 235/235 [00:05<00:00, 46.16it/s]\n"
          ]
        },
        {
          "output_type": "stream",
          "name": "stdout",
          "text": [
            "Finished Batch: \n",
            "Training Loss:  1.2832328372813286 Training Av. Accuracy:  0.5513962765957446\n",
            "EVALUATING\n"
          ]
        },
        {
          "output_type": "stream",
          "name": "stderr",
          "text": [
            "100%|██████████| 157/157 [00:02<00:00, 64.54it/s]\n"
          ]
        },
        {
          "output_type": "stream",
          "name": "stdout",
          "text": [
            "Validation Loss:  0.3690077610266436 Validation Av. Accuracy:  0.8897292993630573\n",
            "############ END MODEL 0 REP 0 ############\n",
            "\n",
            "\n",
            "MODEL 0 PARAMETER COUNT: 9798\n",
            "########### STAR MODEL 0 REP 1 ###########\n"
          ]
        },
        {
          "output_type": "stream",
          "name": "stderr",
          "text": [
            "100%|██████████| 235/235 [00:04<00:00, 55.56it/s]\n"
          ]
        },
        {
          "output_type": "stream",
          "name": "stdout",
          "text": [
            "Finished Batch: \n",
            "Training Loss:  1.2946714213553896 Training Av. Accuracy:  0.5433289007092199\n",
            "EVALUATING\n"
          ]
        },
        {
          "output_type": "stream",
          "name": "stderr",
          "text": [
            "100%|██████████| 157/157 [00:03<00:00, 50.06it/s]\n"
          ]
        },
        {
          "output_type": "stream",
          "name": "stdout",
          "text": [
            "Validation Loss:  0.5089833267555115 Validation Av. Accuracy:  0.8596735668789809\n",
            "############ END MODEL 0 REP 1 ############\n",
            "\n",
            "\n",
            "MODEL 0 PARAMETER COUNT: 9798\n",
            "########### STAR MODEL 0 REP 2 ###########\n"
          ]
        },
        {
          "output_type": "stream",
          "name": "stderr",
          "text": [
            "100%|██████████| 235/235 [00:04<00:00, 51.88it/s]\n"
          ]
        },
        {
          "output_type": "stream",
          "name": "stdout",
          "text": [
            "Finished Batch: \n",
            "Training Loss:  1.2419392954795918 Training Av. Accuracy:  0.5665336879432624\n",
            "EVALUATING\n"
          ]
        },
        {
          "output_type": "stream",
          "name": "stderr",
          "text": [
            "100%|██████████| 157/157 [00:02<00:00, 65.31it/s]\n"
          ]
        },
        {
          "output_type": "stream",
          "name": "stdout",
          "text": [
            "Validation Loss:  0.3662325994224305 Validation Av. Accuracy:  0.8971934713375797\n",
            "############ END MODEL 0 REP 2 ############\n",
            "\n",
            "\n",
            "MODEL 0 PARAMETER COUNT: 9798\n",
            "########### STAR MODEL 0 REP 3 ###########\n"
          ]
        },
        {
          "output_type": "stream",
          "name": "stderr",
          "text": [
            "100%|██████████| 235/235 [00:04<00:00, 57.25it/s]\n"
          ]
        },
        {
          "output_type": "stream",
          "name": "stdout",
          "text": [
            "Finished Batch: \n",
            "Training Loss:  1.3399847522695014 Training Av. Accuracy:  0.5393617021276595\n",
            "EVALUATING\n"
          ]
        },
        {
          "output_type": "stream",
          "name": "stderr",
          "text": [
            "100%|██████████| 157/157 [00:03<00:00, 45.36it/s]\n"
          ]
        },
        {
          "output_type": "stream",
          "name": "stdout",
          "text": [
            "Validation Loss:  0.4777848768955583 Validation Av. Accuracy:  0.8722133757961783\n",
            "############ END MODEL 0 REP 3 ############\n",
            "\n",
            "\n",
            "MODEL 0 PARAMETER COUNT: 9798\n",
            "########### STAR MODEL 0 REP 4 ###########\n"
          ]
        },
        {
          "output_type": "stream",
          "name": "stderr",
          "text": [
            "100%|██████████| 235/235 [00:04<00:00, 55.54it/s]\n"
          ]
        },
        {
          "output_type": "stream",
          "name": "stdout",
          "text": [
            "Finished Batch: \n",
            "Training Loss:  1.6158024488611424 Training Av. Accuracy:  0.4178413120567376\n",
            "EVALUATING\n"
          ]
        },
        {
          "output_type": "stream",
          "name": "stderr",
          "text": [
            "100%|██████████| 157/157 [00:02<00:00, 65.03it/s]\n"
          ]
        },
        {
          "output_type": "stream",
          "name": "stdout",
          "text": [
            "Validation Loss:  0.6730011509861916 Validation Av. Accuracy:  0.8090167197452229\n",
            "############ END MODEL 0 REP 4 ############\n",
            "\n",
            "\n",
            "MODEL 1 PARAMETER COUNT: 20245\n",
            "########### STAR MODEL 1 REP 0 ###########\n"
          ]
        },
        {
          "output_type": "stream",
          "name": "stderr",
          "text": [
            "100%|██████████| 235/235 [00:04<00:00, 51.68it/s]\n"
          ]
        },
        {
          "output_type": "stream",
          "name": "stdout",
          "text": [
            "Finished Batch: \n",
            "Training Loss:  1.1236438951593763 Training Av. Accuracy:  0.6063386524822696\n",
            "EVALUATING\n"
          ]
        },
        {
          "output_type": "stream",
          "name": "stderr",
          "text": [
            "100%|██████████| 157/157 [00:03<00:00, 50.56it/s]\n"
          ]
        },
        {
          "output_type": "stream",
          "name": "stdout",
          "text": [
            "Validation Loss:  0.2998111989277943 Validation Av. Accuracy:  0.9153065286624203\n",
            "############ END MODEL 1 REP 0 ############\n",
            "\n",
            "\n",
            "MODEL 1 PARAMETER COUNT: 20245\n",
            "########### STAR MODEL 1 REP 1 ###########\n"
          ]
        },
        {
          "output_type": "stream",
          "name": "stderr",
          "text": [
            "100%|██████████| 235/235 [00:04<00:00, 55.04it/s]\n"
          ]
        },
        {
          "output_type": "stream",
          "name": "stdout",
          "text": [
            "Finished Batch: \n",
            "Training Loss:  1.1904773218834654 Training Av. Accuracy:  0.5852171985815603\n",
            "EVALUATING\n"
          ]
        },
        {
          "output_type": "stream",
          "name": "stderr",
          "text": [
            "100%|██████████| 157/157 [00:02<00:00, 63.39it/s]\n"
          ]
        },
        {
          "output_type": "stream",
          "name": "stdout",
          "text": [
            "Validation Loss:  0.30908640497809003 Validation Av. Accuracy:  0.9121218152866242\n",
            "############ END MODEL 1 REP 1 ############\n",
            "\n",
            "\n",
            "MODEL 1 PARAMETER COUNT: 20245\n",
            "########### STAR MODEL 1 REP 2 ###########\n"
          ]
        },
        {
          "output_type": "stream",
          "name": "stderr",
          "text": [
            "100%|██████████| 235/235 [00:05<00:00, 44.94it/s]\n"
          ]
        },
        {
          "output_type": "stream",
          "name": "stdout",
          "text": [
            "Finished Batch: \n",
            "Training Loss:  1.1050308382257503 Training Av. Accuracy:  0.615447695035461\n",
            "EVALUATING\n"
          ]
        },
        {
          "output_type": "stream",
          "name": "stderr",
          "text": [
            "100%|██████████| 157/157 [00:02<00:00, 64.08it/s]\n"
          ]
        },
        {
          "output_type": "stream",
          "name": "stdout",
          "text": [
            "Validation Loss:  0.3015697609846759 Validation Av. Accuracy:  0.9201831210191083\n",
            "############ END MODEL 1 REP 2 ############\n",
            "\n",
            "\n",
            "MODEL 1 PARAMETER COUNT: 20245\n",
            "########### STAR MODEL 1 REP 3 ###########\n"
          ]
        },
        {
          "output_type": "stream",
          "name": "stderr",
          "text": [
            "100%|██████████| 235/235 [00:04<00:00, 55.68it/s]\n"
          ]
        },
        {
          "output_type": "stream",
          "name": "stdout",
          "text": [
            "Finished Batch: \n",
            "Training Loss:  1.0449810374290385 Training Av. Accuracy:  0.6480496453900709\n",
            "EVALUATING\n"
          ]
        },
        {
          "output_type": "stream",
          "name": "stderr",
          "text": [
            "100%|██████████| 157/157 [00:02<00:00, 61.07it/s]\n"
          ]
        },
        {
          "output_type": "stream",
          "name": "stdout",
          "text": [
            "Validation Loss:  0.2567904532240455 Validation Av. Accuracy:  0.931031050955414\n",
            "############ END MODEL 1 REP 3 ############\n",
            "\n",
            "\n",
            "MODEL 1 PARAMETER COUNT: 20245\n",
            "########### STAR MODEL 1 REP 4 ###########\n"
          ]
        },
        {
          "output_type": "stream",
          "name": "stderr",
          "text": [
            "100%|██████████| 235/235 [00:05<00:00, 42.02it/s]\n"
          ]
        },
        {
          "output_type": "stream",
          "name": "stdout",
          "text": [
            "Finished Batch: \n",
            "Training Loss:  1.131879245347165 Training Av. Accuracy:  0.6005984042553192\n",
            "EVALUATING\n"
          ]
        },
        {
          "output_type": "stream",
          "name": "stderr",
          "text": [
            "100%|██████████| 157/157 [00:02<00:00, 61.81it/s]\n"
          ]
        },
        {
          "output_type": "stream",
          "name": "stdout",
          "text": [
            "Validation Loss:  0.4170278970413147 Validation Av. Accuracy:  0.8794785031847133\n",
            "############ END MODEL 1 REP 4 ############\n",
            "\n",
            "\n",
            "MODEL 2 PARAMETER COUNT: 38306\n",
            "########### STAR MODEL 2 REP 0 ###########\n"
          ]
        },
        {
          "output_type": "stream",
          "name": "stderr",
          "text": [
            "100%|██████████| 235/235 [00:04<00:00, 55.83it/s]\n"
          ]
        },
        {
          "output_type": "stream",
          "name": "stdout",
          "text": [
            "Finished Batch: \n",
            "Training Loss:  0.9593604497453 Training Av. Accuracy:  0.6748891843971632\n",
            "EVALUATING\n"
          ]
        },
        {
          "output_type": "stream",
          "name": "stderr",
          "text": [
            "100%|██████████| 157/157 [00:03<00:00, 50.14it/s]\n"
          ]
        },
        {
          "output_type": "stream",
          "name": "stdout",
          "text": [
            "Validation Loss:  0.2401495676036853 Validation Av. Accuracy:  0.9315286624203821\n",
            "############ END MODEL 2 REP 0 ############\n",
            "\n",
            "\n",
            "MODEL 2 PARAMETER COUNT: 38306\n",
            "########### STAR MODEL 2 REP 1 ###########\n"
          ]
        },
        {
          "output_type": "stream",
          "name": "stderr",
          "text": [
            "100%|██████████| 235/235 [00:04<00:00, 52.24it/s]\n"
          ]
        },
        {
          "output_type": "stream",
          "name": "stdout",
          "text": [
            "Finished Batch: \n",
            "Training Loss:  1.0402436890500657 Training Av. Accuracy:  0.639804964539007\n",
            "EVALUATING\n"
          ]
        },
        {
          "output_type": "stream",
          "name": "stderr",
          "text": [
            "100%|██████████| 157/157 [00:02<00:00, 64.85it/s]\n"
          ]
        },
        {
          "output_type": "stream",
          "name": "stdout",
          "text": [
            "Validation Loss:  0.32678276774989573 Validation Av. Accuracy:  0.9072452229299363\n",
            "############ END MODEL 2 REP 1 ############\n",
            "\n",
            "\n",
            "MODEL 2 PARAMETER COUNT: 38306\n",
            "########### STAR MODEL 2 REP 2 ###########\n"
          ]
        },
        {
          "output_type": "stream",
          "name": "stderr",
          "text": [
            "100%|██████████| 235/235 [00:04<00:00, 57.14it/s]\n"
          ]
        },
        {
          "output_type": "stream",
          "name": "stdout",
          "text": [
            "Finished Batch: \n",
            "Training Loss:  0.9736061473476126 Training Av. Accuracy:  0.6644946808510638\n",
            "EVALUATING\n"
          ]
        },
        {
          "output_type": "stream",
          "name": "stderr",
          "text": [
            "100%|██████████| 157/157 [00:03<00:00, 44.27it/s]\n"
          ]
        },
        {
          "output_type": "stream",
          "name": "stdout",
          "text": [
            "Validation Loss:  0.2200188447430635 Validation Av. Accuracy:  0.9376990445859873\n",
            "############ END MODEL 2 REP 2 ############\n",
            "\n",
            "\n",
            "MODEL 2 PARAMETER COUNT: 38306\n",
            "########### STAR MODEL 2 REP 3 ###########\n"
          ]
        },
        {
          "output_type": "stream",
          "name": "stderr",
          "text": [
            "100%|██████████| 235/235 [00:04<00:00, 57.53it/s]\n"
          ]
        },
        {
          "output_type": "stream",
          "name": "stdout",
          "text": [
            "Finished Batch: \n",
            "Training Loss:  1.009114642663205 Training Av. Accuracy:  0.6572030141843972\n",
            "EVALUATING\n"
          ]
        },
        {
          "output_type": "stream",
          "name": "stderr",
          "text": [
            "100%|██████████| 157/157 [00:02<00:00, 66.31it/s]\n"
          ]
        },
        {
          "output_type": "stream",
          "name": "stdout",
          "text": [
            "Validation Loss:  0.24545323022991228 Validation Av. Accuracy:  0.9226711783439491\n",
            "############ END MODEL 2 REP 3 ############\n",
            "\n",
            "\n",
            "MODEL 2 PARAMETER COUNT: 38306\n",
            "########### STAR MODEL 2 REP 4 ###########\n"
          ]
        },
        {
          "output_type": "stream",
          "name": "stderr",
          "text": [
            "100%|██████████| 235/235 [00:04<00:00, 51.10it/s]\n"
          ]
        },
        {
          "output_type": "stream",
          "name": "stdout",
          "text": [
            "Finished Batch: \n",
            "Training Loss:  1.0053247738391795 Training Av. Accuracy:  0.652770390070922\n",
            "EVALUATING\n"
          ]
        },
        {
          "output_type": "stream",
          "name": "stderr",
          "text": [
            "100%|██████████| 157/157 [00:03<00:00, 50.13it/s]\n"
          ]
        },
        {
          "output_type": "stream",
          "name": "stdout",
          "text": [
            "Validation Loss:  0.2630213767669763 Validation Av. Accuracy:  0.927547770700637\n",
            "############ END MODEL 2 REP 4 ############\n",
            "\n",
            "\n",
            "MODEL 3 PARAMETER COUNT: 74657\n",
            "########### STAR MODEL 3 REP 0 ###########\n"
          ]
        },
        {
          "output_type": "stream",
          "name": "stderr",
          "text": [
            "100%|██████████| 235/235 [00:04<00:00, 56.75it/s]\n"
          ]
        },
        {
          "output_type": "stream",
          "name": "stdout",
          "text": [
            "Finished Batch: \n",
            "Training Loss:  0.8897065629350378 Training Av. Accuracy:  0.6955452127659575\n",
            "EVALUATING\n"
          ]
        },
        {
          "output_type": "stream",
          "name": "stderr",
          "text": [
            "100%|██████████| 157/157 [00:02<00:00, 63.94it/s]\n"
          ]
        },
        {
          "output_type": "stream",
          "name": "stdout",
          "text": [
            "Validation Loss:  0.2478944279111115 Validation Av. Accuracy:  0.9253582802547771\n",
            "############ END MODEL 3 REP 0 ############\n",
            "\n",
            "\n",
            "MODEL 3 PARAMETER COUNT: 74657\n",
            "########### STAR MODEL 3 REP 1 ###########\n"
          ]
        },
        {
          "output_type": "stream",
          "name": "stderr",
          "text": [
            "100%|██████████| 235/235 [00:05<00:00, 46.59it/s]\n"
          ]
        },
        {
          "output_type": "stream",
          "name": "stdout",
          "text": [
            "Finished Batch: \n",
            "Training Loss:  0.8584982399610763 Training Av. Accuracy:  0.7076462765957446\n",
            "EVALUATING\n"
          ]
        },
        {
          "output_type": "stream",
          "name": "stderr",
          "text": [
            "100%|██████████| 157/157 [00:02<00:00, 66.32it/s]\n"
          ]
        },
        {
          "output_type": "stream",
          "name": "stdout",
          "text": [
            "Validation Loss:  0.19422506647789553 Validation Av. Accuracy:  0.943172770700637\n",
            "############ END MODEL 3 REP 1 ############\n",
            "\n",
            "\n",
            "MODEL 3 PARAMETER COUNT: 74657\n",
            "########### STAR MODEL 3 REP 2 ###########\n"
          ]
        },
        {
          "output_type": "stream",
          "name": "stderr",
          "text": [
            "100%|██████████| 235/235 [00:04<00:00, 57.78it/s]\n"
          ]
        },
        {
          "output_type": "stream",
          "name": "stdout",
          "text": [
            "Finished Batch: \n",
            "Training Loss:  0.9183504748851695 Training Av. Accuracy:  0.6795877659574469\n",
            "EVALUATING\n"
          ]
        },
        {
          "output_type": "stream",
          "name": "stderr",
          "text": [
            "100%|██████████| 157/157 [00:02<00:00, 66.78it/s]\n"
          ]
        },
        {
          "output_type": "stream",
          "name": "stdout",
          "text": [
            "Validation Loss:  0.18543760578153998 Validation Av. Accuracy:  0.9495421974522293\n",
            "############ END MODEL 3 REP 2 ############\n",
            "\n",
            "\n",
            "MODEL 3 PARAMETER COUNT: 74657\n",
            "########### STAR MODEL 3 REP 3 ###########\n"
          ]
        },
        {
          "output_type": "stream",
          "name": "stderr",
          "text": [
            "100%|██████████| 235/235 [00:05<00:00, 46.25it/s]\n"
          ]
        },
        {
          "output_type": "stream",
          "name": "stdout",
          "text": [
            "Finished Batch: \n",
            "Training Loss:  0.9235921319494856 Training Av. Accuracy:  0.680540780141844\n",
            "EVALUATING\n"
          ]
        },
        {
          "output_type": "stream",
          "name": "stderr",
          "text": [
            "100%|██████████| 157/157 [00:02<00:00, 66.57it/s]\n"
          ]
        },
        {
          "output_type": "stream",
          "name": "stdout",
          "text": [
            "Validation Loss:  0.21755786472634905 Validation Av. Accuracy:  0.9344148089171974\n",
            "############ END MODEL 3 REP 3 ############\n",
            "\n",
            "\n",
            "MODEL 3 PARAMETER COUNT: 74657\n",
            "########### STAR MODEL 3 REP 4 ###########\n"
          ]
        },
        {
          "output_type": "stream",
          "name": "stderr",
          "text": [
            "100%|██████████| 235/235 [00:04<00:00, 58.36it/s]\n"
          ]
        },
        {
          "output_type": "stream",
          "name": "stdout",
          "text": [
            "Finished Batch: \n",
            "Training Loss:  0.7421701199830847 Training Av. Accuracy:  0.7486702127659575\n",
            "EVALUATING\n"
          ]
        },
        {
          "output_type": "stream",
          "name": "stderr",
          "text": [
            "100%|██████████| 157/157 [00:02<00:00, 66.48it/s]\n"
          ]
        },
        {
          "output_type": "stream",
          "name": "stdout",
          "text": [
            "Validation Loss:  0.15575525302226376 Validation Av. Accuracy:  0.9510350318471338\n",
            "############ END MODEL 3 REP 4 ############\n",
            "\n",
            "\n",
            "MODEL 4 PARAMETER COUNT: 152775\n",
            "########### STAR MODEL 4 REP 0 ###########\n"
          ]
        },
        {
          "output_type": "stream",
          "name": "stderr",
          "text": [
            "100%|██████████| 235/235 [00:05<00:00, 45.99it/s]\n"
          ]
        },
        {
          "output_type": "stream",
          "name": "stdout",
          "text": [
            "Finished Batch: \n",
            "Training Loss:  0.6638267595400201 Training Av. Accuracy:  0.7831781914893617\n",
            "EVALUATING\n"
          ]
        },
        {
          "output_type": "stream",
          "name": "stderr",
          "text": [
            "100%|██████████| 157/157 [00:03<00:00, 48.80it/s]\n"
          ]
        },
        {
          "output_type": "stream",
          "name": "stdout",
          "text": [
            "Validation Loss:  0.13216173133937417 Validation Av. Accuracy:  0.959593949044586\n",
            "############ END MODEL 4 REP 0 ############\n",
            "\n",
            "\n",
            "MODEL 4 PARAMETER COUNT: 152775\n",
            "########### STAR MODEL 4 REP 1 ###########\n"
          ]
        },
        {
          "output_type": "stream",
          "name": "stderr",
          "text": [
            "100%|██████████| 235/235 [00:04<00:00, 57.64it/s]\n"
          ]
        },
        {
          "output_type": "stream",
          "name": "stdout",
          "text": [
            "Finished Batch: \n",
            "Training Loss:  0.6237383952166172 Training Av. Accuracy:  0.7940602836879432\n",
            "EVALUATING\n"
          ]
        },
        {
          "output_type": "stream",
          "name": "stderr",
          "text": [
            "100%|██████████| 157/157 [00:03<00:00, 49.30it/s]\n"
          ]
        },
        {
          "output_type": "stream",
          "name": "stdout",
          "text": [
            "Validation Loss:  0.12147499240080642 Validation Av. Accuracy:  0.9618829617834395\n",
            "############ END MODEL 4 REP 1 ############\n",
            "\n",
            "\n",
            "MODEL 4 PARAMETER COUNT: 152775\n",
            "########### STAR MODEL 4 REP 2 ###########\n"
          ]
        },
        {
          "output_type": "stream",
          "name": "stderr",
          "text": [
            "100%|██████████| 235/235 [00:04<00:00, 54.24it/s]\n"
          ]
        },
        {
          "output_type": "stream",
          "name": "stdout",
          "text": [
            "Finished Batch: \n",
            "Training Loss:  0.6585835986949028 Training Av. Accuracy:  0.7776152482269504\n",
            "EVALUATING\n"
          ]
        },
        {
          "output_type": "stream",
          "name": "stderr",
          "text": [
            "100%|██████████| 157/157 [00:02<00:00, 62.77it/s]\n"
          ]
        },
        {
          "output_type": "stream",
          "name": "stdout",
          "text": [
            "Validation Loss:  0.1262748225526825 Validation Av. Accuracy:  0.9618829617834395\n",
            "############ END MODEL 4 REP 2 ############\n",
            "\n",
            "\n",
            "MODEL 4 PARAMETER COUNT: 152775\n",
            "########### STAR MODEL 4 REP 3 ###########\n"
          ]
        },
        {
          "output_type": "stream",
          "name": "stderr",
          "text": [
            "100%|██████████| 235/235 [00:04<00:00, 51.48it/s]\n"
          ]
        },
        {
          "output_type": "stream",
          "name": "stdout",
          "text": [
            "Finished Batch: \n",
            "Training Loss:  0.6168309231387809 Training Av. Accuracy:  0.7914228723404255\n",
            "EVALUATING\n"
          ]
        },
        {
          "output_type": "stream",
          "name": "stderr",
          "text": [
            "100%|██████████| 157/157 [00:03<00:00, 47.26it/s]\n"
          ]
        },
        {
          "output_type": "stream",
          "name": "stdout",
          "text": [
            "Validation Loss:  0.14841329745331389 Validation Av. Accuracy:  0.9521297770700637\n",
            "############ END MODEL 4 REP 3 ############\n",
            "\n",
            "\n",
            "MODEL 4 PARAMETER COUNT: 152775\n",
            "########### STAR MODEL 4 REP 4 ###########\n"
          ]
        },
        {
          "output_type": "stream",
          "name": "stderr",
          "text": [
            "100%|██████████| 235/235 [00:04<00:00, 49.02it/s]\n"
          ]
        },
        {
          "output_type": "stream",
          "name": "stdout",
          "text": [
            "Finished Batch: \n",
            "Training Loss:  0.6686650428841723 Training Av. Accuracy:  0.7733377659574469\n",
            "EVALUATING\n"
          ]
        },
        {
          "output_type": "stream",
          "name": "stderr",
          "text": [
            "100%|██████████| 157/157 [00:02<00:00, 64.06it/s]\n"
          ]
        },
        {
          "output_type": "stream",
          "name": "stdout",
          "text": [
            "Validation Loss:  0.13279222013654224 Validation Av. Accuracy:  0.9601910828025477\n",
            "############ END MODEL 4 REP 4 ############\n",
            "\n",
            "\n",
            "MODEL 5 PARAMETER COUNT: 308236\n",
            "########### STAR MODEL 5 REP 0 ###########\n"
          ]
        },
        {
          "output_type": "stream",
          "name": "stderr",
          "text": [
            "100%|██████████| 235/235 [00:05<00:00, 43.57it/s]\n"
          ]
        },
        {
          "output_type": "stream",
          "name": "stdout",
          "text": [
            "Finished Batch: \n",
            "Training Loss:  0.5781204656876148 Training Av. Accuracy:  0.8035904255319148\n",
            "EVALUATING\n"
          ]
        },
        {
          "output_type": "stream",
          "name": "stderr",
          "text": [
            "100%|██████████| 157/157 [00:02<00:00, 63.10it/s]\n"
          ]
        },
        {
          "output_type": "stream",
          "name": "stdout",
          "text": [
            "Validation Loss:  0.11850541631934369 Validation Av. Accuracy:  0.9632762738853503\n",
            "############ END MODEL 5 REP 0 ############\n",
            "\n",
            "\n",
            "MODEL 5 PARAMETER COUNT: 308236\n",
            "########### STAR MODEL 5 REP 1 ###########\n"
          ]
        },
        {
          "output_type": "stream",
          "name": "stderr",
          "text": [
            "100%|██████████| 235/235 [00:04<00:00, 50.16it/s]\n"
          ]
        },
        {
          "output_type": "stream",
          "name": "stdout",
          "text": [
            "Finished Batch: \n",
            "Training Loss:  0.5919711526404036 Training Av. Accuracy:  0.8005540780141844\n",
            "EVALUATING\n"
          ]
        },
        {
          "output_type": "stream",
          "name": "stderr",
          "text": [
            "100%|██████████| 157/157 [00:02<00:00, 58.40it/s]\n"
          ]
        },
        {
          "output_type": "stream",
          "name": "stdout",
          "text": [
            "Validation Loss:  0.1266680576773301 Validation Av. Accuracy:  0.9573049363057324\n",
            "############ END MODEL 5 REP 1 ############\n",
            "\n",
            "\n",
            "MODEL 5 PARAMETER COUNT: 308236\n",
            "########### STAR MODEL 5 REP 2 ###########\n"
          ]
        },
        {
          "output_type": "stream",
          "name": "stderr",
          "text": [
            "100%|██████████| 235/235 [00:05<00:00, 46.75it/s]\n"
          ]
        },
        {
          "output_type": "stream",
          "name": "stdout",
          "text": [
            "Finished Batch: \n",
            "Training Loss:  0.5767506173633514 Training Av. Accuracy:  0.8087987588652482\n",
            "EVALUATING\n"
          ]
        },
        {
          "output_type": "stream",
          "name": "stderr",
          "text": [
            "100%|██████████| 157/157 [00:02<00:00, 64.93it/s]\n"
          ]
        },
        {
          "output_type": "stream",
          "name": "stdout",
          "text": [
            "Validation Loss:  0.1179334836994197 Validation Av. Accuracy:  0.9632762738853503\n",
            "############ END MODEL 5 REP 2 ############\n",
            "\n",
            "\n",
            "MODEL 5 PARAMETER COUNT: 308236\n",
            "########### STAR MODEL 5 REP 3 ###########\n"
          ]
        },
        {
          "output_type": "stream",
          "name": "stderr",
          "text": [
            "100%|██████████| 235/235 [00:04<00:00, 55.05it/s]\n"
          ]
        },
        {
          "output_type": "stream",
          "name": "stdout",
          "text": [
            "Finished Batch: \n",
            "Training Loss:  0.5937214966625609 Training Av. Accuracy:  0.8047650709219858\n",
            "EVALUATING\n"
          ]
        },
        {
          "output_type": "stream",
          "name": "stderr",
          "text": [
            "100%|██████████| 157/157 [00:03<00:00, 49.37it/s]\n"
          ]
        },
        {
          "output_type": "stream",
          "name": "stdout",
          "text": [
            "Validation Loss:  0.12025941904800333 Validation Av. Accuracy:  0.9615843949044586\n",
            "############ END MODEL 5 REP 3 ############\n",
            "\n",
            "\n",
            "MODEL 5 PARAMETER COUNT: 308236\n",
            "########### STAR MODEL 5 REP 4 ###########\n"
          ]
        },
        {
          "output_type": "stream",
          "name": "stderr",
          "text": [
            "100%|██████████| 235/235 [00:04<00:00, 51.50it/s]\n"
          ]
        },
        {
          "output_type": "stream",
          "name": "stdout",
          "text": [
            "Finished Batch: \n",
            "Training Loss:  0.6124269538895881 Training Av. Accuracy:  0.7977393617021277\n",
            "EVALUATING\n"
          ]
        },
        {
          "output_type": "stream",
          "name": "stderr",
          "text": [
            "100%|██████████| 157/157 [00:02<00:00, 64.64it/s]"
          ]
        },
        {
          "output_type": "stream",
          "name": "stdout",
          "text": [
            "Validation Loss:  0.1287088600005124 Validation Av. Accuracy:  0.9584992038216561\n",
            "############ END MODEL 5 REP 4 ############\n",
            "\n",
            "\n"
          ]
        },
        {
          "output_type": "stream",
          "name": "stderr",
          "text": [
            "\n"
          ]
        }
      ]
    },
    {
      "cell_type": "code",
      "source": [
        "fig = px.line(x=compute_epoch_list, y=test_losses_NandC, title ='Compute (Epoch) on Test Loss')\n",
        "fig.show()"
      ],
      "metadata": {
        "colab": {
          "base_uri": "https://localhost:8080/",
          "height": 542
        },
        "id": "deSKZsd8AQM-",
        "outputId": "6422d372-2abc-4029-cd24-dc93e523d947"
      },
      "execution_count": 47,
      "outputs": [
        {
          "output_type": "display_data",
          "data": {
            "text/html": [
              "<html>\n",
              "<head><meta charset=\"utf-8\" /></head>\n",
              "<body>\n",
              "    <div>            <script src=\"https://cdnjs.cloudflare.com/ajax/libs/mathjax/2.7.5/MathJax.js?config=TeX-AMS-MML_SVG\"></script><script type=\"text/javascript\">if (window.MathJax && window.MathJax.Hub && window.MathJax.Hub.Config) {window.MathJax.Hub.Config({SVG: {font: \"STIX-Web\"}});}</script>                <script type=\"text/javascript\">window.PlotlyConfig = {MathJaxConfig: 'local'};</script>\n",
              "        <script charset=\"utf-8\" src=\"https://cdn.plot.ly/plotly-2.24.1.min.js\"></script>                <div id=\"4771f239-f5cd-4409-976d-19dfdabb9d10\" class=\"plotly-graph-div\" style=\"height:525px; width:100%;\"></div>            <script type=\"text/javascript\">                                    window.PLOTLYENV=window.PLOTLYENV || {};                                    if (document.getElementById(\"4771f239-f5cd-4409-976d-19dfdabb9d10\")) {                    Plotly.newPlot(                        \"4771f239-f5cd-4409-976d-19dfdabb9d10\",                        [{\"hovertemplate\":\"x=%{x}\\u003cbr\\u003ey=%{y}\\u003cextra\\u003e\\u003c\\u002fextra\\u003e\",\"legendgroup\":\"\",\"line\":{\"color\":\"#636efa\",\"dash\":\"solid\"},\"marker\":{\"symbol\":\"circle\"},\"mode\":\"lines\",\"name\":\"\",\"orientation\":\"v\",\"showlegend\":false,\"x\":[241000358400.0,361992435840.0,483664020480.0,666995063040.0,974097755520.0,1408133024640.0],\"xaxis\":\"x\",\"y\":[0.47900194301726706,0.31685714303118406,0.25908515741870664,0.20017404358383195,0.13222341277654384,0.12241504734892183],\"yaxis\":\"y\",\"type\":\"scatter\"}],                        {\"template\":{\"data\":{\"histogram2dcontour\":[{\"type\":\"histogram2dcontour\",\"colorbar\":{\"outlinewidth\":0,\"ticks\":\"\"},\"colorscale\":[[0.0,\"#0d0887\"],[0.1111111111111111,\"#46039f\"],[0.2222222222222222,\"#7201a8\"],[0.3333333333333333,\"#9c179e\"],[0.4444444444444444,\"#bd3786\"],[0.5555555555555556,\"#d8576b\"],[0.6666666666666666,\"#ed7953\"],[0.7777777777777778,\"#fb9f3a\"],[0.8888888888888888,\"#fdca26\"],[1.0,\"#f0f921\"]]}],\"choropleth\":[{\"type\":\"choropleth\",\"colorbar\":{\"outlinewidth\":0,\"ticks\":\"\"}}],\"histogram2d\":[{\"type\":\"histogram2d\",\"colorbar\":{\"outlinewidth\":0,\"ticks\":\"\"},\"colorscale\":[[0.0,\"#0d0887\"],[0.1111111111111111,\"#46039f\"],[0.2222222222222222,\"#7201a8\"],[0.3333333333333333,\"#9c179e\"],[0.4444444444444444,\"#bd3786\"],[0.5555555555555556,\"#d8576b\"],[0.6666666666666666,\"#ed7953\"],[0.7777777777777778,\"#fb9f3a\"],[0.8888888888888888,\"#fdca26\"],[1.0,\"#f0f921\"]]}],\"heatmap\":[{\"type\":\"heatmap\",\"colorbar\":{\"outlinewidth\":0,\"ticks\":\"\"},\"colorscale\":[[0.0,\"#0d0887\"],[0.1111111111111111,\"#46039f\"],[0.2222222222222222,\"#7201a8\"],[0.3333333333333333,\"#9c179e\"],[0.4444444444444444,\"#bd3786\"],[0.5555555555555556,\"#d8576b\"],[0.6666666666666666,\"#ed7953\"],[0.7777777777777778,\"#fb9f3a\"],[0.8888888888888888,\"#fdca26\"],[1.0,\"#f0f921\"]]}],\"heatmapgl\":[{\"type\":\"heatmapgl\",\"colorbar\":{\"outlinewidth\":0,\"ticks\":\"\"},\"colorscale\":[[0.0,\"#0d0887\"],[0.1111111111111111,\"#46039f\"],[0.2222222222222222,\"#7201a8\"],[0.3333333333333333,\"#9c179e\"],[0.4444444444444444,\"#bd3786\"],[0.5555555555555556,\"#d8576b\"],[0.6666666666666666,\"#ed7953\"],[0.7777777777777778,\"#fb9f3a\"],[0.8888888888888888,\"#fdca26\"],[1.0,\"#f0f921\"]]}],\"contourcarpet\":[{\"type\":\"contourcarpet\",\"colorbar\":{\"outlinewidth\":0,\"ticks\":\"\"}}],\"contour\":[{\"type\":\"contour\",\"colorbar\":{\"outlinewidth\":0,\"ticks\":\"\"},\"colorscale\":[[0.0,\"#0d0887\"],[0.1111111111111111,\"#46039f\"],[0.2222222222222222,\"#7201a8\"],[0.3333333333333333,\"#9c179e\"],[0.4444444444444444,\"#bd3786\"],[0.5555555555555556,\"#d8576b\"],[0.6666666666666666,\"#ed7953\"],[0.7777777777777778,\"#fb9f3a\"],[0.8888888888888888,\"#fdca26\"],[1.0,\"#f0f921\"]]}],\"surface\":[{\"type\":\"surface\",\"colorbar\":{\"outlinewidth\":0,\"ticks\":\"\"},\"colorscale\":[[0.0,\"#0d0887\"],[0.1111111111111111,\"#46039f\"],[0.2222222222222222,\"#7201a8\"],[0.3333333333333333,\"#9c179e\"],[0.4444444444444444,\"#bd3786\"],[0.5555555555555556,\"#d8576b\"],[0.6666666666666666,\"#ed7953\"],[0.7777777777777778,\"#fb9f3a\"],[0.8888888888888888,\"#fdca26\"],[1.0,\"#f0f921\"]]}],\"mesh3d\":[{\"type\":\"mesh3d\",\"colorbar\":{\"outlinewidth\":0,\"ticks\":\"\"}}],\"scatter\":[{\"fillpattern\":{\"fillmode\":\"overlay\",\"size\":10,\"solidity\":0.2},\"type\":\"scatter\"}],\"parcoords\":[{\"type\":\"parcoords\",\"line\":{\"colorbar\":{\"outlinewidth\":0,\"ticks\":\"\"}}}],\"scatterpolargl\":[{\"type\":\"scatterpolargl\",\"marker\":{\"colorbar\":{\"outlinewidth\":0,\"ticks\":\"\"}}}],\"bar\":[{\"error_x\":{\"color\":\"#2a3f5f\"},\"error_y\":{\"color\":\"#2a3f5f\"},\"marker\":{\"line\":{\"color\":\"#E5ECF6\",\"width\":0.5},\"pattern\":{\"fillmode\":\"overlay\",\"size\":10,\"solidity\":0.2}},\"type\":\"bar\"}],\"scattergeo\":[{\"type\":\"scattergeo\",\"marker\":{\"colorbar\":{\"outlinewidth\":0,\"ticks\":\"\"}}}],\"scatterpolar\":[{\"type\":\"scatterpolar\",\"marker\":{\"colorbar\":{\"outlinewidth\":0,\"ticks\":\"\"}}}],\"histogram\":[{\"marker\":{\"pattern\":{\"fillmode\":\"overlay\",\"size\":10,\"solidity\":0.2}},\"type\":\"histogram\"}],\"scattergl\":[{\"type\":\"scattergl\",\"marker\":{\"colorbar\":{\"outlinewidth\":0,\"ticks\":\"\"}}}],\"scatter3d\":[{\"type\":\"scatter3d\",\"line\":{\"colorbar\":{\"outlinewidth\":0,\"ticks\":\"\"}},\"marker\":{\"colorbar\":{\"outlinewidth\":0,\"ticks\":\"\"}}}],\"scattermapbox\":[{\"type\":\"scattermapbox\",\"marker\":{\"colorbar\":{\"outlinewidth\":0,\"ticks\":\"\"}}}],\"scatterternary\":[{\"type\":\"scatterternary\",\"marker\":{\"colorbar\":{\"outlinewidth\":0,\"ticks\":\"\"}}}],\"scattercarpet\":[{\"type\":\"scattercarpet\",\"marker\":{\"colorbar\":{\"outlinewidth\":0,\"ticks\":\"\"}}}],\"carpet\":[{\"aaxis\":{\"endlinecolor\":\"#2a3f5f\",\"gridcolor\":\"white\",\"linecolor\":\"white\",\"minorgridcolor\":\"white\",\"startlinecolor\":\"#2a3f5f\"},\"baxis\":{\"endlinecolor\":\"#2a3f5f\",\"gridcolor\":\"white\",\"linecolor\":\"white\",\"minorgridcolor\":\"white\",\"startlinecolor\":\"#2a3f5f\"},\"type\":\"carpet\"}],\"table\":[{\"cells\":{\"fill\":{\"color\":\"#EBF0F8\"},\"line\":{\"color\":\"white\"}},\"header\":{\"fill\":{\"color\":\"#C8D4E3\"},\"line\":{\"color\":\"white\"}},\"type\":\"table\"}],\"barpolar\":[{\"marker\":{\"line\":{\"color\":\"#E5ECF6\",\"width\":0.5},\"pattern\":{\"fillmode\":\"overlay\",\"size\":10,\"solidity\":0.2}},\"type\":\"barpolar\"}],\"pie\":[{\"automargin\":true,\"type\":\"pie\"}]},\"layout\":{\"autotypenumbers\":\"strict\",\"colorway\":[\"#636efa\",\"#EF553B\",\"#00cc96\",\"#ab63fa\",\"#FFA15A\",\"#19d3f3\",\"#FF6692\",\"#B6E880\",\"#FF97FF\",\"#FECB52\"],\"font\":{\"color\":\"#2a3f5f\"},\"hovermode\":\"closest\",\"hoverlabel\":{\"align\":\"left\"},\"paper_bgcolor\":\"white\",\"plot_bgcolor\":\"#E5ECF6\",\"polar\":{\"bgcolor\":\"#E5ECF6\",\"angularaxis\":{\"gridcolor\":\"white\",\"linecolor\":\"white\",\"ticks\":\"\"},\"radialaxis\":{\"gridcolor\":\"white\",\"linecolor\":\"white\",\"ticks\":\"\"}},\"ternary\":{\"bgcolor\":\"#E5ECF6\",\"aaxis\":{\"gridcolor\":\"white\",\"linecolor\":\"white\",\"ticks\":\"\"},\"baxis\":{\"gridcolor\":\"white\",\"linecolor\":\"white\",\"ticks\":\"\"},\"caxis\":{\"gridcolor\":\"white\",\"linecolor\":\"white\",\"ticks\":\"\"}},\"coloraxis\":{\"colorbar\":{\"outlinewidth\":0,\"ticks\":\"\"}},\"colorscale\":{\"sequential\":[[0.0,\"#0d0887\"],[0.1111111111111111,\"#46039f\"],[0.2222222222222222,\"#7201a8\"],[0.3333333333333333,\"#9c179e\"],[0.4444444444444444,\"#bd3786\"],[0.5555555555555556,\"#d8576b\"],[0.6666666666666666,\"#ed7953\"],[0.7777777777777778,\"#fb9f3a\"],[0.8888888888888888,\"#fdca26\"],[1.0,\"#f0f921\"]],\"sequentialminus\":[[0.0,\"#0d0887\"],[0.1111111111111111,\"#46039f\"],[0.2222222222222222,\"#7201a8\"],[0.3333333333333333,\"#9c179e\"],[0.4444444444444444,\"#bd3786\"],[0.5555555555555556,\"#d8576b\"],[0.6666666666666666,\"#ed7953\"],[0.7777777777777778,\"#fb9f3a\"],[0.8888888888888888,\"#fdca26\"],[1.0,\"#f0f921\"]],\"diverging\":[[0,\"#8e0152\"],[0.1,\"#c51b7d\"],[0.2,\"#de77ae\"],[0.3,\"#f1b6da\"],[0.4,\"#fde0ef\"],[0.5,\"#f7f7f7\"],[0.6,\"#e6f5d0\"],[0.7,\"#b8e186\"],[0.8,\"#7fbc41\"],[0.9,\"#4d9221\"],[1,\"#276419\"]]},\"xaxis\":{\"gridcolor\":\"white\",\"linecolor\":\"white\",\"ticks\":\"\",\"title\":{\"standoff\":15},\"zerolinecolor\":\"white\",\"automargin\":true,\"zerolinewidth\":2},\"yaxis\":{\"gridcolor\":\"white\",\"linecolor\":\"white\",\"ticks\":\"\",\"title\":{\"standoff\":15},\"zerolinecolor\":\"white\",\"automargin\":true,\"zerolinewidth\":2},\"scene\":{\"xaxis\":{\"backgroundcolor\":\"#E5ECF6\",\"gridcolor\":\"white\",\"linecolor\":\"white\",\"showbackground\":true,\"ticks\":\"\",\"zerolinecolor\":\"white\",\"gridwidth\":2},\"yaxis\":{\"backgroundcolor\":\"#E5ECF6\",\"gridcolor\":\"white\",\"linecolor\":\"white\",\"showbackground\":true,\"ticks\":\"\",\"zerolinecolor\":\"white\",\"gridwidth\":2},\"zaxis\":{\"backgroundcolor\":\"#E5ECF6\",\"gridcolor\":\"white\",\"linecolor\":\"white\",\"showbackground\":true,\"ticks\":\"\",\"zerolinecolor\":\"white\",\"gridwidth\":2}},\"shapedefaults\":{\"line\":{\"color\":\"#2a3f5f\"}},\"annotationdefaults\":{\"arrowcolor\":\"#2a3f5f\",\"arrowhead\":0,\"arrowwidth\":1},\"geo\":{\"bgcolor\":\"white\",\"landcolor\":\"#E5ECF6\",\"subunitcolor\":\"white\",\"showland\":true,\"showlakes\":true,\"lakecolor\":\"white\"},\"title\":{\"x\":0.05},\"mapbox\":{\"style\":\"light\"}}},\"xaxis\":{\"anchor\":\"y\",\"domain\":[0.0,1.0],\"title\":{\"text\":\"x\"}},\"yaxis\":{\"anchor\":\"x\",\"domain\":[0.0,1.0],\"title\":{\"text\":\"y\"}},\"legend\":{\"tracegroupgap\":0},\"title\":{\"text\":\"Compute (Epoch) on Test Loss\"}},                        {\"responsive\": true}                    ).then(function(){\n",
              "                            \n",
              "var gd = document.getElementById('4771f239-f5cd-4409-976d-19dfdabb9d10');\n",
              "var x = new MutationObserver(function (mutations, observer) {{\n",
              "        var display = window.getComputedStyle(gd).display;\n",
              "        if (!display || display === 'none') {{\n",
              "            console.log([gd, 'removed!']);\n",
              "            Plotly.purge(gd);\n",
              "            observer.disconnect();\n",
              "        }}\n",
              "}});\n",
              "\n",
              "// Listen for the removal of the full notebook cells\n",
              "var notebookContainer = gd.closest('#notebook-container');\n",
              "if (notebookContainer) {{\n",
              "    x.observe(notebookContainer, {childList: true});\n",
              "}}\n",
              "\n",
              "// Listen for the clearing of the current output cell\n",
              "var outputEl = gd.closest('.output');\n",
              "if (outputEl) {{\n",
              "    x.observe(outputEl, {childList: true});\n",
              "}}\n",
              "\n",
              "                        })                };                            </script>        </div>\n",
              "</body>\n",
              "</html>"
            ]
          },
          "metadata": {}
        }
      ]
    },
    {
      "cell_type": "code",
      "source": [
        "fig = px.line(x=compute_paper_list, y=test_losses_NandC, title ='Compute (Paper) on Test Loss')\n",
        "fig.show()"
      ],
      "metadata": {
        "colab": {
          "base_uri": "https://localhost:8080/",
          "height": 542
        },
        "id": "4L3gverZHSAA",
        "outputId": "7c13289d-91b3-4c61-9e56-ebdd9502af3e"
      },
      "execution_count": 48,
      "outputs": [
        {
          "output_type": "display_data",
          "data": {
            "text/html": [
              "<html>\n",
              "<head><meta charset=\"utf-8\" /></head>\n",
              "<body>\n",
              "    <div>            <script src=\"https://cdnjs.cloudflare.com/ajax/libs/mathjax/2.7.5/MathJax.js?config=TeX-AMS-MML_SVG\"></script><script type=\"text/javascript\">if (window.MathJax && window.MathJax.Hub && window.MathJax.Hub.Config) {window.MathJax.Hub.Config({SVG: {font: \"STIX-Web\"}});}</script>                <script type=\"text/javascript\">window.PlotlyConfig = {MathJaxConfig: 'local'};</script>\n",
              "        <script charset=\"utf-8\" src=\"https://cdn.plot.ly/plotly-2.24.1.min.js\"></script>                <div id=\"0fcf5858-5af5-43ab-ac2b-dbd9cded35b7\" class=\"plotly-graph-div\" style=\"height:525px; width:100%;\"></div>            <script type=\"text/javascript\">                                    window.PLOTLYENV=window.PLOTLYENV || {};                                    if (document.getElementById(\"0fcf5858-5af5-43ab-ac2b-dbd9cded35b7\")) {                    Plotly.newPlot(                        \"0fcf5858-5af5-43ab-ac2b-dbd9cded35b7\",                        [{\"hovertemplate\":\"x=%{x}\\u003cbr\\u003ey=%{y}\\u003cextra\\u003e\\u003c\\u002fextra\\u003e\",\"legendgroup\":\"\",\"line\":{\"color\":\"#636efa\",\"dash\":\"solid\"},\"marker\":{\"symbol\":\"circle\"},\"mode\":\"lines\",\"name\":\"\",\"orientation\":\"v\",\"showlegend\":false,\"x\":[884171520.0,1826908800.0,3456733440.0,6737047680.0,13786416000.0,27815216640.0],\"xaxis\":\"x\",\"y\":[0.47900194301726706,0.31685714303118406,0.25908515741870664,0.20017404358383195,0.13222341277654384,0.12241504734892183],\"yaxis\":\"y\",\"type\":\"scatter\"}],                        {\"template\":{\"data\":{\"histogram2dcontour\":[{\"type\":\"histogram2dcontour\",\"colorbar\":{\"outlinewidth\":0,\"ticks\":\"\"},\"colorscale\":[[0.0,\"#0d0887\"],[0.1111111111111111,\"#46039f\"],[0.2222222222222222,\"#7201a8\"],[0.3333333333333333,\"#9c179e\"],[0.4444444444444444,\"#bd3786\"],[0.5555555555555556,\"#d8576b\"],[0.6666666666666666,\"#ed7953\"],[0.7777777777777778,\"#fb9f3a\"],[0.8888888888888888,\"#fdca26\"],[1.0,\"#f0f921\"]]}],\"choropleth\":[{\"type\":\"choropleth\",\"colorbar\":{\"outlinewidth\":0,\"ticks\":\"\"}}],\"histogram2d\":[{\"type\":\"histogram2d\",\"colorbar\":{\"outlinewidth\":0,\"ticks\":\"\"},\"colorscale\":[[0.0,\"#0d0887\"],[0.1111111111111111,\"#46039f\"],[0.2222222222222222,\"#7201a8\"],[0.3333333333333333,\"#9c179e\"],[0.4444444444444444,\"#bd3786\"],[0.5555555555555556,\"#d8576b\"],[0.6666666666666666,\"#ed7953\"],[0.7777777777777778,\"#fb9f3a\"],[0.8888888888888888,\"#fdca26\"],[1.0,\"#f0f921\"]]}],\"heatmap\":[{\"type\":\"heatmap\",\"colorbar\":{\"outlinewidth\":0,\"ticks\":\"\"},\"colorscale\":[[0.0,\"#0d0887\"],[0.1111111111111111,\"#46039f\"],[0.2222222222222222,\"#7201a8\"],[0.3333333333333333,\"#9c179e\"],[0.4444444444444444,\"#bd3786\"],[0.5555555555555556,\"#d8576b\"],[0.6666666666666666,\"#ed7953\"],[0.7777777777777778,\"#fb9f3a\"],[0.8888888888888888,\"#fdca26\"],[1.0,\"#f0f921\"]]}],\"heatmapgl\":[{\"type\":\"heatmapgl\",\"colorbar\":{\"outlinewidth\":0,\"ticks\":\"\"},\"colorscale\":[[0.0,\"#0d0887\"],[0.1111111111111111,\"#46039f\"],[0.2222222222222222,\"#7201a8\"],[0.3333333333333333,\"#9c179e\"],[0.4444444444444444,\"#bd3786\"],[0.5555555555555556,\"#d8576b\"],[0.6666666666666666,\"#ed7953\"],[0.7777777777777778,\"#fb9f3a\"],[0.8888888888888888,\"#fdca26\"],[1.0,\"#f0f921\"]]}],\"contourcarpet\":[{\"type\":\"contourcarpet\",\"colorbar\":{\"outlinewidth\":0,\"ticks\":\"\"}}],\"contour\":[{\"type\":\"contour\",\"colorbar\":{\"outlinewidth\":0,\"ticks\":\"\"},\"colorscale\":[[0.0,\"#0d0887\"],[0.1111111111111111,\"#46039f\"],[0.2222222222222222,\"#7201a8\"],[0.3333333333333333,\"#9c179e\"],[0.4444444444444444,\"#bd3786\"],[0.5555555555555556,\"#d8576b\"],[0.6666666666666666,\"#ed7953\"],[0.7777777777777778,\"#fb9f3a\"],[0.8888888888888888,\"#fdca26\"],[1.0,\"#f0f921\"]]}],\"surface\":[{\"type\":\"surface\",\"colorbar\":{\"outlinewidth\":0,\"ticks\":\"\"},\"colorscale\":[[0.0,\"#0d0887\"],[0.1111111111111111,\"#46039f\"],[0.2222222222222222,\"#7201a8\"],[0.3333333333333333,\"#9c179e\"],[0.4444444444444444,\"#bd3786\"],[0.5555555555555556,\"#d8576b\"],[0.6666666666666666,\"#ed7953\"],[0.7777777777777778,\"#fb9f3a\"],[0.8888888888888888,\"#fdca26\"],[1.0,\"#f0f921\"]]}],\"mesh3d\":[{\"type\":\"mesh3d\",\"colorbar\":{\"outlinewidth\":0,\"ticks\":\"\"}}],\"scatter\":[{\"fillpattern\":{\"fillmode\":\"overlay\",\"size\":10,\"solidity\":0.2},\"type\":\"scatter\"}],\"parcoords\":[{\"type\":\"parcoords\",\"line\":{\"colorbar\":{\"outlinewidth\":0,\"ticks\":\"\"}}}],\"scatterpolargl\":[{\"type\":\"scatterpolargl\",\"marker\":{\"colorbar\":{\"outlinewidth\":0,\"ticks\":\"\"}}}],\"bar\":[{\"error_x\":{\"color\":\"#2a3f5f\"},\"error_y\":{\"color\":\"#2a3f5f\"},\"marker\":{\"line\":{\"color\":\"#E5ECF6\",\"width\":0.5},\"pattern\":{\"fillmode\":\"overlay\",\"size\":10,\"solidity\":0.2}},\"type\":\"bar\"}],\"scattergeo\":[{\"type\":\"scattergeo\",\"marker\":{\"colorbar\":{\"outlinewidth\":0,\"ticks\":\"\"}}}],\"scatterpolar\":[{\"type\":\"scatterpolar\",\"marker\":{\"colorbar\":{\"outlinewidth\":0,\"ticks\":\"\"}}}],\"histogram\":[{\"marker\":{\"pattern\":{\"fillmode\":\"overlay\",\"size\":10,\"solidity\":0.2}},\"type\":\"histogram\"}],\"scattergl\":[{\"type\":\"scattergl\",\"marker\":{\"colorbar\":{\"outlinewidth\":0,\"ticks\":\"\"}}}],\"scatter3d\":[{\"type\":\"scatter3d\",\"line\":{\"colorbar\":{\"outlinewidth\":0,\"ticks\":\"\"}},\"marker\":{\"colorbar\":{\"outlinewidth\":0,\"ticks\":\"\"}}}],\"scattermapbox\":[{\"type\":\"scattermapbox\",\"marker\":{\"colorbar\":{\"outlinewidth\":0,\"ticks\":\"\"}}}],\"scatterternary\":[{\"type\":\"scatterternary\",\"marker\":{\"colorbar\":{\"outlinewidth\":0,\"ticks\":\"\"}}}],\"scattercarpet\":[{\"type\":\"scattercarpet\",\"marker\":{\"colorbar\":{\"outlinewidth\":0,\"ticks\":\"\"}}}],\"carpet\":[{\"aaxis\":{\"endlinecolor\":\"#2a3f5f\",\"gridcolor\":\"white\",\"linecolor\":\"white\",\"minorgridcolor\":\"white\",\"startlinecolor\":\"#2a3f5f\"},\"baxis\":{\"endlinecolor\":\"#2a3f5f\",\"gridcolor\":\"white\",\"linecolor\":\"white\",\"minorgridcolor\":\"white\",\"startlinecolor\":\"#2a3f5f\"},\"type\":\"carpet\"}],\"table\":[{\"cells\":{\"fill\":{\"color\":\"#EBF0F8\"},\"line\":{\"color\":\"white\"}},\"header\":{\"fill\":{\"color\":\"#C8D4E3\"},\"line\":{\"color\":\"white\"}},\"type\":\"table\"}],\"barpolar\":[{\"marker\":{\"line\":{\"color\":\"#E5ECF6\",\"width\":0.5},\"pattern\":{\"fillmode\":\"overlay\",\"size\":10,\"solidity\":0.2}},\"type\":\"barpolar\"}],\"pie\":[{\"automargin\":true,\"type\":\"pie\"}]},\"layout\":{\"autotypenumbers\":\"strict\",\"colorway\":[\"#636efa\",\"#EF553B\",\"#00cc96\",\"#ab63fa\",\"#FFA15A\",\"#19d3f3\",\"#FF6692\",\"#B6E880\",\"#FF97FF\",\"#FECB52\"],\"font\":{\"color\":\"#2a3f5f\"},\"hovermode\":\"closest\",\"hoverlabel\":{\"align\":\"left\"},\"paper_bgcolor\":\"white\",\"plot_bgcolor\":\"#E5ECF6\",\"polar\":{\"bgcolor\":\"#E5ECF6\",\"angularaxis\":{\"gridcolor\":\"white\",\"linecolor\":\"white\",\"ticks\":\"\"},\"radialaxis\":{\"gridcolor\":\"white\",\"linecolor\":\"white\",\"ticks\":\"\"}},\"ternary\":{\"bgcolor\":\"#E5ECF6\",\"aaxis\":{\"gridcolor\":\"white\",\"linecolor\":\"white\",\"ticks\":\"\"},\"baxis\":{\"gridcolor\":\"white\",\"linecolor\":\"white\",\"ticks\":\"\"},\"caxis\":{\"gridcolor\":\"white\",\"linecolor\":\"white\",\"ticks\":\"\"}},\"coloraxis\":{\"colorbar\":{\"outlinewidth\":0,\"ticks\":\"\"}},\"colorscale\":{\"sequential\":[[0.0,\"#0d0887\"],[0.1111111111111111,\"#46039f\"],[0.2222222222222222,\"#7201a8\"],[0.3333333333333333,\"#9c179e\"],[0.4444444444444444,\"#bd3786\"],[0.5555555555555556,\"#d8576b\"],[0.6666666666666666,\"#ed7953\"],[0.7777777777777778,\"#fb9f3a\"],[0.8888888888888888,\"#fdca26\"],[1.0,\"#f0f921\"]],\"sequentialminus\":[[0.0,\"#0d0887\"],[0.1111111111111111,\"#46039f\"],[0.2222222222222222,\"#7201a8\"],[0.3333333333333333,\"#9c179e\"],[0.4444444444444444,\"#bd3786\"],[0.5555555555555556,\"#d8576b\"],[0.6666666666666666,\"#ed7953\"],[0.7777777777777778,\"#fb9f3a\"],[0.8888888888888888,\"#fdca26\"],[1.0,\"#f0f921\"]],\"diverging\":[[0,\"#8e0152\"],[0.1,\"#c51b7d\"],[0.2,\"#de77ae\"],[0.3,\"#f1b6da\"],[0.4,\"#fde0ef\"],[0.5,\"#f7f7f7\"],[0.6,\"#e6f5d0\"],[0.7,\"#b8e186\"],[0.8,\"#7fbc41\"],[0.9,\"#4d9221\"],[1,\"#276419\"]]},\"xaxis\":{\"gridcolor\":\"white\",\"linecolor\":\"white\",\"ticks\":\"\",\"title\":{\"standoff\":15},\"zerolinecolor\":\"white\",\"automargin\":true,\"zerolinewidth\":2},\"yaxis\":{\"gridcolor\":\"white\",\"linecolor\":\"white\",\"ticks\":\"\",\"title\":{\"standoff\":15},\"zerolinecolor\":\"white\",\"automargin\":true,\"zerolinewidth\":2},\"scene\":{\"xaxis\":{\"backgroundcolor\":\"#E5ECF6\",\"gridcolor\":\"white\",\"linecolor\":\"white\",\"showbackground\":true,\"ticks\":\"\",\"zerolinecolor\":\"white\",\"gridwidth\":2},\"yaxis\":{\"backgroundcolor\":\"#E5ECF6\",\"gridcolor\":\"white\",\"linecolor\":\"white\",\"showbackground\":true,\"ticks\":\"\",\"zerolinecolor\":\"white\",\"gridwidth\":2},\"zaxis\":{\"backgroundcolor\":\"#E5ECF6\",\"gridcolor\":\"white\",\"linecolor\":\"white\",\"showbackground\":true,\"ticks\":\"\",\"zerolinecolor\":\"white\",\"gridwidth\":2}},\"shapedefaults\":{\"line\":{\"color\":\"#2a3f5f\"}},\"annotationdefaults\":{\"arrowcolor\":\"#2a3f5f\",\"arrowhead\":0,\"arrowwidth\":1},\"geo\":{\"bgcolor\":\"white\",\"landcolor\":\"#E5ECF6\",\"subunitcolor\":\"white\",\"showland\":true,\"showlakes\":true,\"lakecolor\":\"white\"},\"title\":{\"x\":0.05},\"mapbox\":{\"style\":\"light\"}}},\"xaxis\":{\"anchor\":\"y\",\"domain\":[0.0,1.0],\"title\":{\"text\":\"x\"}},\"yaxis\":{\"anchor\":\"x\",\"domain\":[0.0,1.0],\"title\":{\"text\":\"y\"}},\"legend\":{\"tracegroupgap\":0},\"title\":{\"text\":\"Compute (Paper) on Test Loss\"}},                        {\"responsive\": true}                    ).then(function(){\n",
              "                            \n",
              "var gd = document.getElementById('0fcf5858-5af5-43ab-ac2b-dbd9cded35b7');\n",
              "var x = new MutationObserver(function (mutations, observer) {{\n",
              "        var display = window.getComputedStyle(gd).display;\n",
              "        if (!display || display === 'none') {{\n",
              "            console.log([gd, 'removed!']);\n",
              "            Plotly.purge(gd);\n",
              "            observer.disconnect();\n",
              "        }}\n",
              "}});\n",
              "\n",
              "// Listen for the removal of the full notebook cells\n",
              "var notebookContainer = gd.closest('#notebook-container');\n",
              "if (notebookContainer) {{\n",
              "    x.observe(notebookContainer, {childList: true});\n",
              "}}\n",
              "\n",
              "// Listen for the clearing of the current output cell\n",
              "var outputEl = gd.closest('.output');\n",
              "if (outputEl) {{\n",
              "    x.observe(outputEl, {childList: true});\n",
              "}}\n",
              "\n",
              "                        })                };                            </script>        </div>\n",
              "</body>\n",
              "</html>"
            ]
          },
          "metadata": {}
        }
      ]
    },
    {
      "cell_type": "code",
      "source": [
        "fig = px.scatter(x=compute_epoch_list, y=np.log(test_losses_NandC), title ='Compute (Epoch) on Log Test Loss', trendline='ols')\n",
        "fig.show()"
      ],
      "metadata": {
        "colab": {
          "base_uri": "https://localhost:8080/",
          "height": 542
        },
        "id": "5NChZwgdHXbL",
        "outputId": "e8cc6891-8d3e-4305-b4c6-c12764259e75"
      },
      "execution_count": 49,
      "outputs": [
        {
          "output_type": "display_data",
          "data": {
            "text/html": [
              "<html>\n",
              "<head><meta charset=\"utf-8\" /></head>\n",
              "<body>\n",
              "    <div>            <script src=\"https://cdnjs.cloudflare.com/ajax/libs/mathjax/2.7.5/MathJax.js?config=TeX-AMS-MML_SVG\"></script><script type=\"text/javascript\">if (window.MathJax && window.MathJax.Hub && window.MathJax.Hub.Config) {window.MathJax.Hub.Config({SVG: {font: \"STIX-Web\"}});}</script>                <script type=\"text/javascript\">window.PlotlyConfig = {MathJaxConfig: 'local'};</script>\n",
              "        <script charset=\"utf-8\" src=\"https://cdn.plot.ly/plotly-2.24.1.min.js\"></script>                <div id=\"1526efbf-149b-4ce1-a212-20d1632a66c7\" class=\"plotly-graph-div\" style=\"height:525px; width:100%;\"></div>            <script type=\"text/javascript\">                                    window.PLOTLYENV=window.PLOTLYENV || {};                                    if (document.getElementById(\"1526efbf-149b-4ce1-a212-20d1632a66c7\")) {                    Plotly.newPlot(                        \"1526efbf-149b-4ce1-a212-20d1632a66c7\",                        [{\"hovertemplate\":\"x=%{x}\\u003cbr\\u003ey=%{y}\\u003cextra\\u003e\\u003c\\u002fextra\\u003e\",\"legendgroup\":\"\",\"marker\":{\"color\":\"#636efa\",\"symbol\":\"circle\"},\"mode\":\"markers\",\"name\":\"\",\"orientation\":\"v\",\"showlegend\":false,\"x\":[241000358400.0,361992435840.0,483664020480.0,666995063040.0,974097755520.0,1408133024640.0],\"xaxis\":\"x\",\"y\":[-0.7360506251759688,-1.1493042595778646,-1.3505984782007934,-1.6085680729350313,-2.0232622660609705,-2.1003379806027],\"yaxis\":\"y\",\"type\":\"scatter\"},{\"hovertemplate\":\"\\u003cb\\u003eOLS trendline\\u003c\\u002fb\\u003e\\u003cbr\\u003ey = -1.12376e-12 * x + -0.720063\\u003cbr\\u003eR\\u003csup\\u003e2\\u003c\\u002fsup\\u003e=0.871485\\u003cbr\\u003e\\u003cbr\\u003ex=%{x}\\u003cbr\\u003ey=%{y} \\u003cb\\u003e(trend)\\u003c\\u002fb\\u003e\\u003cextra\\u003e\\u003c\\u002fextra\\u003e\",\"legendgroup\":\"\",\"marker\":{\"color\":\"#636efa\",\"symbol\":\"circle\"},\"mode\":\"lines\",\"name\":\"\",\"showlegend\":false,\"x\":[241000358400.0,361992435840.0,483664020480.0,666995063040.0,974097755520.0,1408133024640.0],\"xaxis\":\"x\",\"y\":[-0.9908897601398172,-1.1268559521414068,-1.2635857479125694,-1.4696060449433874,-1.8147161094486226,-2.302468067967532],\"yaxis\":\"y\",\"type\":\"scatter\"}],                        {\"template\":{\"data\":{\"histogram2dcontour\":[{\"type\":\"histogram2dcontour\",\"colorbar\":{\"outlinewidth\":0,\"ticks\":\"\"},\"colorscale\":[[0.0,\"#0d0887\"],[0.1111111111111111,\"#46039f\"],[0.2222222222222222,\"#7201a8\"],[0.3333333333333333,\"#9c179e\"],[0.4444444444444444,\"#bd3786\"],[0.5555555555555556,\"#d8576b\"],[0.6666666666666666,\"#ed7953\"],[0.7777777777777778,\"#fb9f3a\"],[0.8888888888888888,\"#fdca26\"],[1.0,\"#f0f921\"]]}],\"choropleth\":[{\"type\":\"choropleth\",\"colorbar\":{\"outlinewidth\":0,\"ticks\":\"\"}}],\"histogram2d\":[{\"type\":\"histogram2d\",\"colorbar\":{\"outlinewidth\":0,\"ticks\":\"\"},\"colorscale\":[[0.0,\"#0d0887\"],[0.1111111111111111,\"#46039f\"],[0.2222222222222222,\"#7201a8\"],[0.3333333333333333,\"#9c179e\"],[0.4444444444444444,\"#bd3786\"],[0.5555555555555556,\"#d8576b\"],[0.6666666666666666,\"#ed7953\"],[0.7777777777777778,\"#fb9f3a\"],[0.8888888888888888,\"#fdca26\"],[1.0,\"#f0f921\"]]}],\"heatmap\":[{\"type\":\"heatmap\",\"colorbar\":{\"outlinewidth\":0,\"ticks\":\"\"},\"colorscale\":[[0.0,\"#0d0887\"],[0.1111111111111111,\"#46039f\"],[0.2222222222222222,\"#7201a8\"],[0.3333333333333333,\"#9c179e\"],[0.4444444444444444,\"#bd3786\"],[0.5555555555555556,\"#d8576b\"],[0.6666666666666666,\"#ed7953\"],[0.7777777777777778,\"#fb9f3a\"],[0.8888888888888888,\"#fdca26\"],[1.0,\"#f0f921\"]]}],\"heatmapgl\":[{\"type\":\"heatmapgl\",\"colorbar\":{\"outlinewidth\":0,\"ticks\":\"\"},\"colorscale\":[[0.0,\"#0d0887\"],[0.1111111111111111,\"#46039f\"],[0.2222222222222222,\"#7201a8\"],[0.3333333333333333,\"#9c179e\"],[0.4444444444444444,\"#bd3786\"],[0.5555555555555556,\"#d8576b\"],[0.6666666666666666,\"#ed7953\"],[0.7777777777777778,\"#fb9f3a\"],[0.8888888888888888,\"#fdca26\"],[1.0,\"#f0f921\"]]}],\"contourcarpet\":[{\"type\":\"contourcarpet\",\"colorbar\":{\"outlinewidth\":0,\"ticks\":\"\"}}],\"contour\":[{\"type\":\"contour\",\"colorbar\":{\"outlinewidth\":0,\"ticks\":\"\"},\"colorscale\":[[0.0,\"#0d0887\"],[0.1111111111111111,\"#46039f\"],[0.2222222222222222,\"#7201a8\"],[0.3333333333333333,\"#9c179e\"],[0.4444444444444444,\"#bd3786\"],[0.5555555555555556,\"#d8576b\"],[0.6666666666666666,\"#ed7953\"],[0.7777777777777778,\"#fb9f3a\"],[0.8888888888888888,\"#fdca26\"],[1.0,\"#f0f921\"]]}],\"surface\":[{\"type\":\"surface\",\"colorbar\":{\"outlinewidth\":0,\"ticks\":\"\"},\"colorscale\":[[0.0,\"#0d0887\"],[0.1111111111111111,\"#46039f\"],[0.2222222222222222,\"#7201a8\"],[0.3333333333333333,\"#9c179e\"],[0.4444444444444444,\"#bd3786\"],[0.5555555555555556,\"#d8576b\"],[0.6666666666666666,\"#ed7953\"],[0.7777777777777778,\"#fb9f3a\"],[0.8888888888888888,\"#fdca26\"],[1.0,\"#f0f921\"]]}],\"mesh3d\":[{\"type\":\"mesh3d\",\"colorbar\":{\"outlinewidth\":0,\"ticks\":\"\"}}],\"scatter\":[{\"fillpattern\":{\"fillmode\":\"overlay\",\"size\":10,\"solidity\":0.2},\"type\":\"scatter\"}],\"parcoords\":[{\"type\":\"parcoords\",\"line\":{\"colorbar\":{\"outlinewidth\":0,\"ticks\":\"\"}}}],\"scatterpolargl\":[{\"type\":\"scatterpolargl\",\"marker\":{\"colorbar\":{\"outlinewidth\":0,\"ticks\":\"\"}}}],\"bar\":[{\"error_x\":{\"color\":\"#2a3f5f\"},\"error_y\":{\"color\":\"#2a3f5f\"},\"marker\":{\"line\":{\"color\":\"#E5ECF6\",\"width\":0.5},\"pattern\":{\"fillmode\":\"overlay\",\"size\":10,\"solidity\":0.2}},\"type\":\"bar\"}],\"scattergeo\":[{\"type\":\"scattergeo\",\"marker\":{\"colorbar\":{\"outlinewidth\":0,\"ticks\":\"\"}}}],\"scatterpolar\":[{\"type\":\"scatterpolar\",\"marker\":{\"colorbar\":{\"outlinewidth\":0,\"ticks\":\"\"}}}],\"histogram\":[{\"marker\":{\"pattern\":{\"fillmode\":\"overlay\",\"size\":10,\"solidity\":0.2}},\"type\":\"histogram\"}],\"scattergl\":[{\"type\":\"scattergl\",\"marker\":{\"colorbar\":{\"outlinewidth\":0,\"ticks\":\"\"}}}],\"scatter3d\":[{\"type\":\"scatter3d\",\"line\":{\"colorbar\":{\"outlinewidth\":0,\"ticks\":\"\"}},\"marker\":{\"colorbar\":{\"outlinewidth\":0,\"ticks\":\"\"}}}],\"scattermapbox\":[{\"type\":\"scattermapbox\",\"marker\":{\"colorbar\":{\"outlinewidth\":0,\"ticks\":\"\"}}}],\"scatterternary\":[{\"type\":\"scatterternary\",\"marker\":{\"colorbar\":{\"outlinewidth\":0,\"ticks\":\"\"}}}],\"scattercarpet\":[{\"type\":\"scattercarpet\",\"marker\":{\"colorbar\":{\"outlinewidth\":0,\"ticks\":\"\"}}}],\"carpet\":[{\"aaxis\":{\"endlinecolor\":\"#2a3f5f\",\"gridcolor\":\"white\",\"linecolor\":\"white\",\"minorgridcolor\":\"white\",\"startlinecolor\":\"#2a3f5f\"},\"baxis\":{\"endlinecolor\":\"#2a3f5f\",\"gridcolor\":\"white\",\"linecolor\":\"white\",\"minorgridcolor\":\"white\",\"startlinecolor\":\"#2a3f5f\"},\"type\":\"carpet\"}],\"table\":[{\"cells\":{\"fill\":{\"color\":\"#EBF0F8\"},\"line\":{\"color\":\"white\"}},\"header\":{\"fill\":{\"color\":\"#C8D4E3\"},\"line\":{\"color\":\"white\"}},\"type\":\"table\"}],\"barpolar\":[{\"marker\":{\"line\":{\"color\":\"#E5ECF6\",\"width\":0.5},\"pattern\":{\"fillmode\":\"overlay\",\"size\":10,\"solidity\":0.2}},\"type\":\"barpolar\"}],\"pie\":[{\"automargin\":true,\"type\":\"pie\"}]},\"layout\":{\"autotypenumbers\":\"strict\",\"colorway\":[\"#636efa\",\"#EF553B\",\"#00cc96\",\"#ab63fa\",\"#FFA15A\",\"#19d3f3\",\"#FF6692\",\"#B6E880\",\"#FF97FF\",\"#FECB52\"],\"font\":{\"color\":\"#2a3f5f\"},\"hovermode\":\"closest\",\"hoverlabel\":{\"align\":\"left\"},\"paper_bgcolor\":\"white\",\"plot_bgcolor\":\"#E5ECF6\",\"polar\":{\"bgcolor\":\"#E5ECF6\",\"angularaxis\":{\"gridcolor\":\"white\",\"linecolor\":\"white\",\"ticks\":\"\"},\"radialaxis\":{\"gridcolor\":\"white\",\"linecolor\":\"white\",\"ticks\":\"\"}},\"ternary\":{\"bgcolor\":\"#E5ECF6\",\"aaxis\":{\"gridcolor\":\"white\",\"linecolor\":\"white\",\"ticks\":\"\"},\"baxis\":{\"gridcolor\":\"white\",\"linecolor\":\"white\",\"ticks\":\"\"},\"caxis\":{\"gridcolor\":\"white\",\"linecolor\":\"white\",\"ticks\":\"\"}},\"coloraxis\":{\"colorbar\":{\"outlinewidth\":0,\"ticks\":\"\"}},\"colorscale\":{\"sequential\":[[0.0,\"#0d0887\"],[0.1111111111111111,\"#46039f\"],[0.2222222222222222,\"#7201a8\"],[0.3333333333333333,\"#9c179e\"],[0.4444444444444444,\"#bd3786\"],[0.5555555555555556,\"#d8576b\"],[0.6666666666666666,\"#ed7953\"],[0.7777777777777778,\"#fb9f3a\"],[0.8888888888888888,\"#fdca26\"],[1.0,\"#f0f921\"]],\"sequentialminus\":[[0.0,\"#0d0887\"],[0.1111111111111111,\"#46039f\"],[0.2222222222222222,\"#7201a8\"],[0.3333333333333333,\"#9c179e\"],[0.4444444444444444,\"#bd3786\"],[0.5555555555555556,\"#d8576b\"],[0.6666666666666666,\"#ed7953\"],[0.7777777777777778,\"#fb9f3a\"],[0.8888888888888888,\"#fdca26\"],[1.0,\"#f0f921\"]],\"diverging\":[[0,\"#8e0152\"],[0.1,\"#c51b7d\"],[0.2,\"#de77ae\"],[0.3,\"#f1b6da\"],[0.4,\"#fde0ef\"],[0.5,\"#f7f7f7\"],[0.6,\"#e6f5d0\"],[0.7,\"#b8e186\"],[0.8,\"#7fbc41\"],[0.9,\"#4d9221\"],[1,\"#276419\"]]},\"xaxis\":{\"gridcolor\":\"white\",\"linecolor\":\"white\",\"ticks\":\"\",\"title\":{\"standoff\":15},\"zerolinecolor\":\"white\",\"automargin\":true,\"zerolinewidth\":2},\"yaxis\":{\"gridcolor\":\"white\",\"linecolor\":\"white\",\"ticks\":\"\",\"title\":{\"standoff\":15},\"zerolinecolor\":\"white\",\"automargin\":true,\"zerolinewidth\":2},\"scene\":{\"xaxis\":{\"backgroundcolor\":\"#E5ECF6\",\"gridcolor\":\"white\",\"linecolor\":\"white\",\"showbackground\":true,\"ticks\":\"\",\"zerolinecolor\":\"white\",\"gridwidth\":2},\"yaxis\":{\"backgroundcolor\":\"#E5ECF6\",\"gridcolor\":\"white\",\"linecolor\":\"white\",\"showbackground\":true,\"ticks\":\"\",\"zerolinecolor\":\"white\",\"gridwidth\":2},\"zaxis\":{\"backgroundcolor\":\"#E5ECF6\",\"gridcolor\":\"white\",\"linecolor\":\"white\",\"showbackground\":true,\"ticks\":\"\",\"zerolinecolor\":\"white\",\"gridwidth\":2}},\"shapedefaults\":{\"line\":{\"color\":\"#2a3f5f\"}},\"annotationdefaults\":{\"arrowcolor\":\"#2a3f5f\",\"arrowhead\":0,\"arrowwidth\":1},\"geo\":{\"bgcolor\":\"white\",\"landcolor\":\"#E5ECF6\",\"subunitcolor\":\"white\",\"showland\":true,\"showlakes\":true,\"lakecolor\":\"white\"},\"title\":{\"x\":0.05},\"mapbox\":{\"style\":\"light\"}}},\"xaxis\":{\"anchor\":\"y\",\"domain\":[0.0,1.0],\"title\":{\"text\":\"x\"}},\"yaxis\":{\"anchor\":\"x\",\"domain\":[0.0,1.0],\"title\":{\"text\":\"y\"}},\"legend\":{\"tracegroupgap\":0},\"title\":{\"text\":\"Compute (Epoch) on Log Test Loss\"}},                        {\"responsive\": true}                    ).then(function(){\n",
              "                            \n",
              "var gd = document.getElementById('1526efbf-149b-4ce1-a212-20d1632a66c7');\n",
              "var x = new MutationObserver(function (mutations, observer) {{\n",
              "        var display = window.getComputedStyle(gd).display;\n",
              "        if (!display || display === 'none') {{\n",
              "            console.log([gd, 'removed!']);\n",
              "            Plotly.purge(gd);\n",
              "            observer.disconnect();\n",
              "        }}\n",
              "}});\n",
              "\n",
              "// Listen for the removal of the full notebook cells\n",
              "var notebookContainer = gd.closest('#notebook-container');\n",
              "if (notebookContainer) {{\n",
              "    x.observe(notebookContainer, {childList: true});\n",
              "}}\n",
              "\n",
              "// Listen for the clearing of the current output cell\n",
              "var outputEl = gd.closest('.output');\n",
              "if (outputEl) {{\n",
              "    x.observe(outputEl, {childList: true});\n",
              "}}\n",
              "\n",
              "                        })                };                            </script>        </div>\n",
              "</body>\n",
              "</html>"
            ]
          },
          "metadata": {}
        }
      ]
    },
    {
      "cell_type": "code",
      "source": [
        "fig = px.scatter(x=compute_paper_list, y=np.log(test_losses_NandC), title ='Compute (Paper) on Log Test Loss', trendline='ols')\n",
        "fig.show()"
      ],
      "metadata": {
        "colab": {
          "base_uri": "https://localhost:8080/",
          "height": 542
        },
        "id": "k_nZepiNHdTy",
        "outputId": "e26419aa-a4d3-436c-dc05-101db4696a21"
      },
      "execution_count": 50,
      "outputs": [
        {
          "output_type": "display_data",
          "data": {
            "text/html": [
              "<html>\n",
              "<head><meta charset=\"utf-8\" /></head>\n",
              "<body>\n",
              "    <div>            <script src=\"https://cdnjs.cloudflare.com/ajax/libs/mathjax/2.7.5/MathJax.js?config=TeX-AMS-MML_SVG\"></script><script type=\"text/javascript\">if (window.MathJax && window.MathJax.Hub && window.MathJax.Hub.Config) {window.MathJax.Hub.Config({SVG: {font: \"STIX-Web\"}});}</script>                <script type=\"text/javascript\">window.PlotlyConfig = {MathJaxConfig: 'local'};</script>\n",
              "        <script charset=\"utf-8\" src=\"https://cdn.plot.ly/plotly-2.24.1.min.js\"></script>                <div id=\"7932a1f9-816e-49c4-944a-f75631a9f9ad\" class=\"plotly-graph-div\" style=\"height:525px; width:100%;\"></div>            <script type=\"text/javascript\">                                    window.PLOTLYENV=window.PLOTLYENV || {};                                    if (document.getElementById(\"7932a1f9-816e-49c4-944a-f75631a9f9ad\")) {                    Plotly.newPlot(                        \"7932a1f9-816e-49c4-944a-f75631a9f9ad\",                        [{\"hovertemplate\":\"x=%{x}\\u003cbr\\u003ey=%{y}\\u003cextra\\u003e\\u003c\\u002fextra\\u003e\",\"legendgroup\":\"\",\"marker\":{\"color\":\"#636efa\",\"symbol\":\"circle\"},\"mode\":\"markers\",\"name\":\"\",\"orientation\":\"v\",\"showlegend\":false,\"x\":[884171520.0,1826908800.0,3456733440.0,6737047680.0,13786416000.0,27815216640.0],\"xaxis\":\"x\",\"y\":[-0.7360506251759688,-1.1493042595778646,-1.3505984782007934,-1.6085680729350313,-2.0232622660609705,-2.1003379806027],\"yaxis\":\"y\",\"type\":\"scatter\"},{\"hovertemplate\":\"\\u003cb\\u003eOLS trendline\\u003c\\u002fb\\u003e\\u003cbr\\u003ey = -4.35826e-11 * x + -1.09876\\u003cbr\\u003eR\\u003csup\\u003e2\\u003c\\u002fsup\\u003e=0.732347\\u003cbr\\u003e\\u003cbr\\u003ex=%{x}\\u003cbr\\u003ey=%{y} \\u003cb\\u003e(trend)\\u003c\\u002fb\\u003e\\u003cextra\\u003e\\u003c\\u002fextra\\u003e\",\"legendgroup\":\"\",\"marker\":{\"color\":\"#636efa\",\"symbol\":\"circle\"},\"mode\":\"lines\",\"name\":\"\",\"showlegend\":false,\"x\":[884171520.0,1826908800.0,3456733440.0,6737047680.0,13786416000.0,27815216640.0],\"xaxis\":\"x\",\"y\":[-1.1372989713203518,-1.1783859147832496,-1.2494179130491059,-1.3923825423034182,-1.6996123546356343,-2.311023986461572],\"yaxis\":\"y\",\"type\":\"scatter\"}],                        {\"template\":{\"data\":{\"histogram2dcontour\":[{\"type\":\"histogram2dcontour\",\"colorbar\":{\"outlinewidth\":0,\"ticks\":\"\"},\"colorscale\":[[0.0,\"#0d0887\"],[0.1111111111111111,\"#46039f\"],[0.2222222222222222,\"#7201a8\"],[0.3333333333333333,\"#9c179e\"],[0.4444444444444444,\"#bd3786\"],[0.5555555555555556,\"#d8576b\"],[0.6666666666666666,\"#ed7953\"],[0.7777777777777778,\"#fb9f3a\"],[0.8888888888888888,\"#fdca26\"],[1.0,\"#f0f921\"]]}],\"choropleth\":[{\"type\":\"choropleth\",\"colorbar\":{\"outlinewidth\":0,\"ticks\":\"\"}}],\"histogram2d\":[{\"type\":\"histogram2d\",\"colorbar\":{\"outlinewidth\":0,\"ticks\":\"\"},\"colorscale\":[[0.0,\"#0d0887\"],[0.1111111111111111,\"#46039f\"],[0.2222222222222222,\"#7201a8\"],[0.3333333333333333,\"#9c179e\"],[0.4444444444444444,\"#bd3786\"],[0.5555555555555556,\"#d8576b\"],[0.6666666666666666,\"#ed7953\"],[0.7777777777777778,\"#fb9f3a\"],[0.8888888888888888,\"#fdca26\"],[1.0,\"#f0f921\"]]}],\"heatmap\":[{\"type\":\"heatmap\",\"colorbar\":{\"outlinewidth\":0,\"ticks\":\"\"},\"colorscale\":[[0.0,\"#0d0887\"],[0.1111111111111111,\"#46039f\"],[0.2222222222222222,\"#7201a8\"],[0.3333333333333333,\"#9c179e\"],[0.4444444444444444,\"#bd3786\"],[0.5555555555555556,\"#d8576b\"],[0.6666666666666666,\"#ed7953\"],[0.7777777777777778,\"#fb9f3a\"],[0.8888888888888888,\"#fdca26\"],[1.0,\"#f0f921\"]]}],\"heatmapgl\":[{\"type\":\"heatmapgl\",\"colorbar\":{\"outlinewidth\":0,\"ticks\":\"\"},\"colorscale\":[[0.0,\"#0d0887\"],[0.1111111111111111,\"#46039f\"],[0.2222222222222222,\"#7201a8\"],[0.3333333333333333,\"#9c179e\"],[0.4444444444444444,\"#bd3786\"],[0.5555555555555556,\"#d8576b\"],[0.6666666666666666,\"#ed7953\"],[0.7777777777777778,\"#fb9f3a\"],[0.8888888888888888,\"#fdca26\"],[1.0,\"#f0f921\"]]}],\"contourcarpet\":[{\"type\":\"contourcarpet\",\"colorbar\":{\"outlinewidth\":0,\"ticks\":\"\"}}],\"contour\":[{\"type\":\"contour\",\"colorbar\":{\"outlinewidth\":0,\"ticks\":\"\"},\"colorscale\":[[0.0,\"#0d0887\"],[0.1111111111111111,\"#46039f\"],[0.2222222222222222,\"#7201a8\"],[0.3333333333333333,\"#9c179e\"],[0.4444444444444444,\"#bd3786\"],[0.5555555555555556,\"#d8576b\"],[0.6666666666666666,\"#ed7953\"],[0.7777777777777778,\"#fb9f3a\"],[0.8888888888888888,\"#fdca26\"],[1.0,\"#f0f921\"]]}],\"surface\":[{\"type\":\"surface\",\"colorbar\":{\"outlinewidth\":0,\"ticks\":\"\"},\"colorscale\":[[0.0,\"#0d0887\"],[0.1111111111111111,\"#46039f\"],[0.2222222222222222,\"#7201a8\"],[0.3333333333333333,\"#9c179e\"],[0.4444444444444444,\"#bd3786\"],[0.5555555555555556,\"#d8576b\"],[0.6666666666666666,\"#ed7953\"],[0.7777777777777778,\"#fb9f3a\"],[0.8888888888888888,\"#fdca26\"],[1.0,\"#f0f921\"]]}],\"mesh3d\":[{\"type\":\"mesh3d\",\"colorbar\":{\"outlinewidth\":0,\"ticks\":\"\"}}],\"scatter\":[{\"fillpattern\":{\"fillmode\":\"overlay\",\"size\":10,\"solidity\":0.2},\"type\":\"scatter\"}],\"parcoords\":[{\"type\":\"parcoords\",\"line\":{\"colorbar\":{\"outlinewidth\":0,\"ticks\":\"\"}}}],\"scatterpolargl\":[{\"type\":\"scatterpolargl\",\"marker\":{\"colorbar\":{\"outlinewidth\":0,\"ticks\":\"\"}}}],\"bar\":[{\"error_x\":{\"color\":\"#2a3f5f\"},\"error_y\":{\"color\":\"#2a3f5f\"},\"marker\":{\"line\":{\"color\":\"#E5ECF6\",\"width\":0.5},\"pattern\":{\"fillmode\":\"overlay\",\"size\":10,\"solidity\":0.2}},\"type\":\"bar\"}],\"scattergeo\":[{\"type\":\"scattergeo\",\"marker\":{\"colorbar\":{\"outlinewidth\":0,\"ticks\":\"\"}}}],\"scatterpolar\":[{\"type\":\"scatterpolar\",\"marker\":{\"colorbar\":{\"outlinewidth\":0,\"ticks\":\"\"}}}],\"histogram\":[{\"marker\":{\"pattern\":{\"fillmode\":\"overlay\",\"size\":10,\"solidity\":0.2}},\"type\":\"histogram\"}],\"scattergl\":[{\"type\":\"scattergl\",\"marker\":{\"colorbar\":{\"outlinewidth\":0,\"ticks\":\"\"}}}],\"scatter3d\":[{\"type\":\"scatter3d\",\"line\":{\"colorbar\":{\"outlinewidth\":0,\"ticks\":\"\"}},\"marker\":{\"colorbar\":{\"outlinewidth\":0,\"ticks\":\"\"}}}],\"scattermapbox\":[{\"type\":\"scattermapbox\",\"marker\":{\"colorbar\":{\"outlinewidth\":0,\"ticks\":\"\"}}}],\"scatterternary\":[{\"type\":\"scatterternary\",\"marker\":{\"colorbar\":{\"outlinewidth\":0,\"ticks\":\"\"}}}],\"scattercarpet\":[{\"type\":\"scattercarpet\",\"marker\":{\"colorbar\":{\"outlinewidth\":0,\"ticks\":\"\"}}}],\"carpet\":[{\"aaxis\":{\"endlinecolor\":\"#2a3f5f\",\"gridcolor\":\"white\",\"linecolor\":\"white\",\"minorgridcolor\":\"white\",\"startlinecolor\":\"#2a3f5f\"},\"baxis\":{\"endlinecolor\":\"#2a3f5f\",\"gridcolor\":\"white\",\"linecolor\":\"white\",\"minorgridcolor\":\"white\",\"startlinecolor\":\"#2a3f5f\"},\"type\":\"carpet\"}],\"table\":[{\"cells\":{\"fill\":{\"color\":\"#EBF0F8\"},\"line\":{\"color\":\"white\"}},\"header\":{\"fill\":{\"color\":\"#C8D4E3\"},\"line\":{\"color\":\"white\"}},\"type\":\"table\"}],\"barpolar\":[{\"marker\":{\"line\":{\"color\":\"#E5ECF6\",\"width\":0.5},\"pattern\":{\"fillmode\":\"overlay\",\"size\":10,\"solidity\":0.2}},\"type\":\"barpolar\"}],\"pie\":[{\"automargin\":true,\"type\":\"pie\"}]},\"layout\":{\"autotypenumbers\":\"strict\",\"colorway\":[\"#636efa\",\"#EF553B\",\"#00cc96\",\"#ab63fa\",\"#FFA15A\",\"#19d3f3\",\"#FF6692\",\"#B6E880\",\"#FF97FF\",\"#FECB52\"],\"font\":{\"color\":\"#2a3f5f\"},\"hovermode\":\"closest\",\"hoverlabel\":{\"align\":\"left\"},\"paper_bgcolor\":\"white\",\"plot_bgcolor\":\"#E5ECF6\",\"polar\":{\"bgcolor\":\"#E5ECF6\",\"angularaxis\":{\"gridcolor\":\"white\",\"linecolor\":\"white\",\"ticks\":\"\"},\"radialaxis\":{\"gridcolor\":\"white\",\"linecolor\":\"white\",\"ticks\":\"\"}},\"ternary\":{\"bgcolor\":\"#E5ECF6\",\"aaxis\":{\"gridcolor\":\"white\",\"linecolor\":\"white\",\"ticks\":\"\"},\"baxis\":{\"gridcolor\":\"white\",\"linecolor\":\"white\",\"ticks\":\"\"},\"caxis\":{\"gridcolor\":\"white\",\"linecolor\":\"white\",\"ticks\":\"\"}},\"coloraxis\":{\"colorbar\":{\"outlinewidth\":0,\"ticks\":\"\"}},\"colorscale\":{\"sequential\":[[0.0,\"#0d0887\"],[0.1111111111111111,\"#46039f\"],[0.2222222222222222,\"#7201a8\"],[0.3333333333333333,\"#9c179e\"],[0.4444444444444444,\"#bd3786\"],[0.5555555555555556,\"#d8576b\"],[0.6666666666666666,\"#ed7953\"],[0.7777777777777778,\"#fb9f3a\"],[0.8888888888888888,\"#fdca26\"],[1.0,\"#f0f921\"]],\"sequentialminus\":[[0.0,\"#0d0887\"],[0.1111111111111111,\"#46039f\"],[0.2222222222222222,\"#7201a8\"],[0.3333333333333333,\"#9c179e\"],[0.4444444444444444,\"#bd3786\"],[0.5555555555555556,\"#d8576b\"],[0.6666666666666666,\"#ed7953\"],[0.7777777777777778,\"#fb9f3a\"],[0.8888888888888888,\"#fdca26\"],[1.0,\"#f0f921\"]],\"diverging\":[[0,\"#8e0152\"],[0.1,\"#c51b7d\"],[0.2,\"#de77ae\"],[0.3,\"#f1b6da\"],[0.4,\"#fde0ef\"],[0.5,\"#f7f7f7\"],[0.6,\"#e6f5d0\"],[0.7,\"#b8e186\"],[0.8,\"#7fbc41\"],[0.9,\"#4d9221\"],[1,\"#276419\"]]},\"xaxis\":{\"gridcolor\":\"white\",\"linecolor\":\"white\",\"ticks\":\"\",\"title\":{\"standoff\":15},\"zerolinecolor\":\"white\",\"automargin\":true,\"zerolinewidth\":2},\"yaxis\":{\"gridcolor\":\"white\",\"linecolor\":\"white\",\"ticks\":\"\",\"title\":{\"standoff\":15},\"zerolinecolor\":\"white\",\"automargin\":true,\"zerolinewidth\":2},\"scene\":{\"xaxis\":{\"backgroundcolor\":\"#E5ECF6\",\"gridcolor\":\"white\",\"linecolor\":\"white\",\"showbackground\":true,\"ticks\":\"\",\"zerolinecolor\":\"white\",\"gridwidth\":2},\"yaxis\":{\"backgroundcolor\":\"#E5ECF6\",\"gridcolor\":\"white\",\"linecolor\":\"white\",\"showbackground\":true,\"ticks\":\"\",\"zerolinecolor\":\"white\",\"gridwidth\":2},\"zaxis\":{\"backgroundcolor\":\"#E5ECF6\",\"gridcolor\":\"white\",\"linecolor\":\"white\",\"showbackground\":true,\"ticks\":\"\",\"zerolinecolor\":\"white\",\"gridwidth\":2}},\"shapedefaults\":{\"line\":{\"color\":\"#2a3f5f\"}},\"annotationdefaults\":{\"arrowcolor\":\"#2a3f5f\",\"arrowhead\":0,\"arrowwidth\":1},\"geo\":{\"bgcolor\":\"white\",\"landcolor\":\"#E5ECF6\",\"subunitcolor\":\"white\",\"showland\":true,\"showlakes\":true,\"lakecolor\":\"white\"},\"title\":{\"x\":0.05},\"mapbox\":{\"style\":\"light\"}}},\"xaxis\":{\"anchor\":\"y\",\"domain\":[0.0,1.0],\"title\":{\"text\":\"x\"}},\"yaxis\":{\"anchor\":\"x\",\"domain\":[0.0,1.0],\"title\":{\"text\":\"y\"}},\"legend\":{\"tracegroupgap\":0},\"title\":{\"text\":\"Compute (Paper) on Log Test Loss\"}},                        {\"responsive\": true}                    ).then(function(){\n",
              "                            \n",
              "var gd = document.getElementById('7932a1f9-816e-49c4-944a-f75631a9f9ad');\n",
              "var x = new MutationObserver(function (mutations, observer) {{\n",
              "        var display = window.getComputedStyle(gd).display;\n",
              "        if (!display || display === 'none') {{\n",
              "            console.log([gd, 'removed!']);\n",
              "            Plotly.purge(gd);\n",
              "            observer.disconnect();\n",
              "        }}\n",
              "}});\n",
              "\n",
              "// Listen for the removal of the full notebook cells\n",
              "var notebookContainer = gd.closest('#notebook-container');\n",
              "if (notebookContainer) {{\n",
              "    x.observe(notebookContainer, {childList: true});\n",
              "}}\n",
              "\n",
              "// Listen for the clearing of the current output cell\n",
              "var outputEl = gd.closest('.output');\n",
              "if (outputEl) {{\n",
              "    x.observe(outputEl, {childList: true});\n",
              "}}\n",
              "\n",
              "                        })                };                            </script>        </div>\n",
              "</body>\n",
              "</html>"
            ]
          },
          "metadata": {}
        }
      ]
    },
    {
      "cell_type": "code",
      "source": [],
      "metadata": {
        "id": "ixXSm1v4HkJp"
      },
      "execution_count": null,
      "outputs": []
    }
  ]
}